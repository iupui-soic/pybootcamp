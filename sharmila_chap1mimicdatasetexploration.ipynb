{
  "nbformat": 4,
  "nbformat_minor": 0,
  "metadata": {
    "colab": {
      "provenance": []
    },
    "kernelspec": {
      "name": "python3",
      "display_name": "Python 3"
    },
    "language_info": {
      "name": "python"
    }
  },
  "cells": [
    {
      "cell_type": "code",
      "execution_count": null,
      "metadata": {
        "colab": {
          "base_uri": "https://localhost:8080/"
        },
        "id": "qOPOiq8NZ2mt",
        "outputId": "716bbd12-214d-4066-f0e7-afb7f65a1f0d"
      },
      "outputs": [
        {
          "output_type": "stream",
          "name": "stdout",
          "text": [
            "Drive already mounted at /content/drive; to attempt to forcibly remount, call drive.mount(\"/content/drive\", force_remount=True).\n"
          ]
        }
      ],
      "source": [
        "from google.colab import drive\n",
        "drive.mount('/content/drive')\n"
      ]
    },
    {
      "cell_type": "code",
      "source": [
        "!mkdir -p /content/drive/My\\ Drive/dataset\n"
      ],
      "metadata": {
        "id": "KogKuIv3aPNN"
      },
      "execution_count": null,
      "outputs": []
    },
    {
      "cell_type": "code",
      "source": [
        "!ls /content/drive/My\\ Drive/\n"
      ],
      "metadata": {
        "colab": {
          "base_uri": "https://localhost:8080/"
        },
        "id": "tqtWntUZaVrl",
        "outputId": "1fe89f97-0b44-402c-f45a-658f748539db"
      },
      "execution_count": null,
      "outputs": [
        {
          "output_type": "stream",
          "name": "stdout",
          "text": [
            "'Colab Notebooks'   dataset1.zip   dataset3.zip   dataset5.zip\n",
            " dataset\t    dataset2.zip   dataset4.zip   filtered\n"
          ]
        }
      ]
    },
    {
      "cell_type": "code",
      "source": [
        "import zipfile\n",
        "import os\n",
        "\n",
        "# Paths to the zip files\n",
        "zip_files = [\n",
        "    '/content/drive/My Drive/dataset1.zip',\n",
        "    '/content/drive/My Drive/dataset2.zip',\n",
        "    '/content/drive/My Drive/dataset3.zip',\n",
        "    '/content/drive/My Drive/dataset4.zip',\n",
        "    '/content/drive/My Drive/dataset5.zip'\n",
        "]\n",
        "\n",
        "# Path to the dataset directory\n",
        "dataset_dir = '/content/drive/My Drive/dataset/'\n",
        "\n",
        "# Extract each zip file into the dataset directory\n",
        "for zip_file in zip_files:\n",
        "    with zipfile.ZipFile(zip_file, 'r') as zip_ref:\n",
        "        zip_ref.extractall(dataset_dir)\n",
        "\n",
        "# Verify the extraction\n",
        "for root, dirs, files in os.walk(dataset_dir):\n",
        "    level = root.replace(dataset_dir, '').count(os.sep)\n",
        "    indent = ' ' * 4 * (level)\n",
        "    print('{}{}/'.format(indent, os.path.basename(root)))\n",
        "    subindent = ' ' * 4 * (level + 1)\n",
        "    for f in files:\n",
        "        print('{}{}'.format(subindent, f))\n"
      ],
      "metadata": {
        "colab": {
          "base_uri": "https://localhost:8080/"
        },
        "id": "JLRXTH0MawXb",
        "outputId": "0975a189-df51-4a9e-f7af-cbaea012433a"
      },
      "execution_count": null,
      "outputs": [
        {
          "output_type": "stream",
          "name": "stdout",
          "text": [
            "/\n",
            "mimiv-iv/\n",
            "    labevents.parquet\n",
            "    transfers.parquet\n",
            "    datetimeevents.parquet\n",
            "    outputevents.parquet\n",
            "    emar_detail.parquet\n",
            "    omr.parquet\n",
            "    poe_detail.parquet\n",
            "    microbiologyevents.parquet\n",
            "    ingredientevents.parquet\n",
            "    inputevents.parquet\n",
            "    chartevents.parquet\n",
            "    d_items.parquet\n",
            "    icustays.parquet\n",
            "    d_icd_procedures.parquet\n",
            "    d_labitems.parquet\n",
            "    patients.parquet\n",
            "    hcpcsevents.parquet\n",
            "    caregiver.parquet\n",
            "    d_icd_diagnoses.parquet\n",
            "    drgcodes.parquet\n",
            "    d_hcpcs.parquet\n",
            "    services.parquet\n",
            "    provider.parquet\n",
            "    admissions.parquet\n",
            "    diagnoses_icd.parquet\n",
            "    procedureevents.parquet\n",
            "    procedures_icd.parquet\n",
            "    prescriptions.parquet\n",
            "    pharmacy.parquet\n",
            "    emar.parquet\n",
            "    poe.parquet\n"
          ]
        }
      ]
    },
    {
      "cell_type": "code",
      "source": [
        "!ls -R /content/drive/My\\ Drive/dataset/\n"
      ],
      "metadata": {
        "colab": {
          "base_uri": "https://localhost:8080/"
        },
        "id": "7VDZOa4Gaxq9",
        "outputId": "a70370e6-ffab-400f-e134-6b6ea2d8c339"
      },
      "execution_count": null,
      "outputs": [
        {
          "output_type": "stream",
          "name": "stdout",
          "text": [
            "'/content/drive/My Drive/dataset/':\n",
            "mimiv-iv\n",
            "\n",
            "'/content/drive/My Drive/dataset/mimiv-iv':\n",
            "admissions.parquet\t  emar_detail.parquet\t      pharmacy.parquet\n",
            "caregiver.parquet\t  emar.parquet\t\t      poe_detail.parquet\n",
            "chartevents.parquet\t  hcpcsevents.parquet\t      poe.parquet\n",
            "datetimeevents.parquet\t  icustays.parquet\t      prescriptions.parquet\n",
            "d_hcpcs.parquet\t\t  ingredientevents.parquet    procedureevents.parquet\n",
            "diagnoses_icd.parquet\t  inputevents.parquet\t      procedures_icd.parquet\n",
            "d_icd_diagnoses.parquet   labevents.parquet\t      provider.parquet\n",
            "d_icd_procedures.parquet  microbiologyevents.parquet  services.parquet\n",
            "d_items.parquet\t\t  omr.parquet\t\t      transfers.parquet\n",
            "d_labitems.parquet\t  outputevents.parquet\n",
            "drgcodes.parquet\t  patients.parquet\n"
          ]
        }
      ]
    },
    {
      "cell_type": "code",
      "source": [
        "!git clone https://github.com/iupui-soic/handson-ml-mimic-iv.git\n"
      ],
      "metadata": {
        "colab": {
          "base_uri": "https://localhost:8080/"
        },
        "id": "3IwAGMUTb1dL",
        "outputId": "f6bdb588-e76a-4e2a-ce7a-c0c700716286"
      },
      "execution_count": null,
      "outputs": [
        {
          "output_type": "stream",
          "name": "stdout",
          "text": [
            "Cloning into 'handson-ml-mimic-iv'...\n",
            "remote: Enumerating objects: 83, done.\u001b[K\n",
            "remote: Counting objects: 100% (83/83), done.\u001b[K\n",
            "remote: Compressing objects: 100% (68/68), done.\u001b[K\n",
            "remote: Total 83 (delta 29), reused 40 (delta 13), pack-reused 0\u001b[K\n",
            "Receiving objects: 100% (83/83), 3.86 MiB | 15.10 MiB/s, done.\n",
            "Resolving deltas: 100% (29/29), done.\n"
          ]
        }
      ]
    },
    {
      "cell_type": "code",
      "source": [
        "%cd handson-ml-mimic-iv\n"
      ],
      "metadata": {
        "colab": {
          "base_uri": "https://localhost:8080/"
        },
        "id": "dGqxJpDnb5di",
        "outputId": "1ce0fb69-8fa1-40e5-fdd4-3d81ac7fed1d"
      },
      "execution_count": null,
      "outputs": [
        {
          "output_type": "stream",
          "name": "stdout",
          "text": [
            "/content/handson-ml-mimic-iv/handson-ml-mimic-iv\n"
          ]
        }
      ]
    },
    {
      "cell_type": "code",
      "source": [
        "from mimic.mimic import MIMIC\n"
      ],
      "metadata": {
        "id": "XBnnHEF4b6fH"
      },
      "execution_count": null,
      "outputs": []
    },
    {
      "cell_type": "code",
      "source": [
        "mimic_instance = MIMIC('/content/drive/My Drive/dataset/mimiv-iv/')\n"
      ],
      "metadata": {
        "colab": {
          "base_uri": "https://localhost:8080/"
        },
        "id": "7azyBxa_b83n",
        "outputId": "4ffc8fc7-f149-4350-d10b-c72eccc9aa25"
      },
      "execution_count": null,
      "outputs": [
        {
          "output_type": "stream",
          "name": "stdout",
          "text": [
            "MIMIC dataset found at path : /content/drive/My Drive/dataset/mimiv-iv\n"
          ]
        }
      ]
    },
    {
      "cell_type": "code",
      "source": [
        "from mimic.mimic import MIMIC\n",
        "\n",
        "# Correct dataset path\n",
        "dataset_path = '/content/drive/My Drive/dataset/mimiv-iv/'\n",
        "\n",
        "# Initialize the MIMIC instance\n",
        "mimic_instance = MIMIC(dataset_path)\n"
      ],
      "metadata": {
        "colab": {
          "base_uri": "https://localhost:8080/"
        },
        "id": "EwGHxcd8cnWX",
        "outputId": "9193fa65-0fa2-4cc8-aab6-402dde5015a9"
      },
      "execution_count": null,
      "outputs": [
        {
          "output_type": "stream",
          "name": "stdout",
          "text": [
            "MIMIC dataset found at path : /content/drive/My Drive/dataset/mimiv-iv\n"
          ]
        }
      ]
    },
    {
      "cell_type": "code",
      "source": [
        "!pip install dask[complete] --quiet\n"
      ],
      "metadata": {
        "id": "sifJJnLvjCQg"
      },
      "execution_count": null,
      "outputs": []
    },
    {
      "cell_type": "code",
      "source": [
        "import os\n",
        "import dask.dataframe as dd\n",
        "import pandas as pd\n"
      ],
      "metadata": {
        "id": "-fqyM7D8l29K"
      },
      "execution_count": 5,
      "outputs": []
    },
    {
      "cell_type": "code",
      "source": [
        "#\n",
        "dataset_path = '/content/drive/My Drive/dataset/mimiv-iv/'\n",
        "\n",
        "def read_parquet_file(file_path):\n",
        "    full_path = os.path.join(dataset_path, file_path)\n",
        "    if os.path.exists(full_path):\n",
        "        return dd.read_parquet(full_path)\n",
        "    else:\n",
        "        print(f\"Given file path {full_path} doesn't exist.\")\n",
        "        return None\n",
        "\n",
        "def read_core_admissions_parquet():\n",
        "    return read_parquet_file('admissions.parquet')\n",
        "\n",
        "def read_core_patients_parquet():\n",
        "    return read_parquet_file('patients.parquet')\n",
        "\n",
        "def read_core_transfers_parquet():\n",
        "    return read_parquet_file('transfers.parquet')\n",
        "\n",
        "def read_hosp_d_hcpcs_parquet():\n",
        "    return read_parquet_file('d_hcpcs.parquet')\n",
        "\n",
        "def read_hosp_d_icd_diagnoses_parquet():\n",
        "    return read_parquet_file('d_icd_diagnoses.parquet')\n",
        "\n",
        "def read_hosp_d_icd_procedures_parquet():\n",
        "    return read_parquet_file('d_icd_procedures.parquet')\n",
        "\n",
        "def read_hosp_d_labitems_parquet():\n",
        "    return read_parquet_file('d_labitems.parquet')\n",
        "\n",
        "def read_hosp_diagnoses_icd_parquet():\n",
        "    return read_parquet_file('diagnoses_icd.parquet')\n",
        "\n",
        "def read_hosp_drgcodes_parquet():\n",
        "    return read_parquet_file('drgcodes.parquet')\n",
        "\n",
        "def read_hosp_emar_parquet():\n",
        "    return read_parquet_file('emar.parquet')\n",
        "\n",
        "def read_hosp_emar_detail_parquet():\n",
        "    return read_parquet_file('emar_detail.parquet')\n",
        "\n",
        "def read_hosp_hcpcsevents_parquet():\n",
        "    return read_parquet_file('hcpcsevents.parquet')\n",
        "\n",
        "def read_hosp_labevents_parquet():\n",
        "    return read_parquet_file('labevents.parquet')\n",
        "\n",
        "def read_hosp_microbiologyevents_parquet():\n",
        "    return read_parquet_file('microbiologyevents.parquet')\n",
        "\n",
        "def read_hosp_pharmacy_parquet():\n",
        "    return read_parquet_file('pharmacy.parquet')\n",
        "\n",
        "def read_hosp_poe_parquet():\n",
        "    return read_parquet_file('poe.parquet')\n",
        "\n",
        "def read_hosp_poe_detail_parquet():\n",
        "    return read_parquet_file('poe_detail.parquet')\n",
        "\n",
        "def read_hosp_prescriptions_parquet():\n",
        "    return read_parquet_file('prescriptions.parquet')\n",
        "\n",
        "def read_hosp_procedures_icd_parquet():\n",
        "    return read_parquet_file('procedures_icd.parquet')\n",
        "\n",
        "def read_hosp_services_parquet():\n",
        "    return read_parquet_file('services.parquet')\n",
        "\n",
        "def read_icu_chartevents_parquet():\n",
        "    return read_parquet_file('chartevents.parquet')\n",
        "\n",
        "def read_icu_d_items_parquet():\n",
        "    return read_parquet_file('d_items.parquet')\n",
        "\n",
        "def read_icu_datetimeevents_parquet():\n",
        "    return read_parquet_file('datetimeevents.parquet')\n",
        "\n",
        "def read_icu_icustays_parquet():\n",
        "    return read_parquet_file('icustays.parquet')\n",
        "\n",
        "def read_icu_inputevents_parquet():\n",
        "    return read_parquet_file('inputevents.parquet')\n",
        "\n",
        "def read_icu_outputevents_parquet():\n",
        "    return read_parquet_file('outputevents.parquet')\n",
        "\n",
        "def read_icu_procedureevents_parquet():\n",
        "    return read_parquet_file('procedureevents.parquet')\n"
      ],
      "metadata": {
        "id": "G6ki9WR4kOPH"
      },
      "execution_count": null,
      "outputs": []
    },
    {
      "cell_type": "code",
      "source": [
        "# Read core admissions data\n",
        "df_admissions = read_core_admissions_parquet()\n",
        "\n",
        "# Process in chunks\n",
        "for chunk in df_admissions.to_delayed():\n",
        "    chunk_df = chunk.compute()\n",
        "    print(chunk_df.head())  # Display first few rows of the chunk\n",
        "    # Perform other operations on chunk_df as needed\n",
        "    # This can include filtering, summarizing, etc.\n"
      ],
      "metadata": {
        "colab": {
          "base_uri": "https://localhost:8080/"
        },
        "id": "q6CQ1fxBkrKL",
        "outputId": "74eb8e3d-7f5f-4e27-87c0-e8526e16b429"
      },
      "execution_count": null,
      "outputs": [
        {
          "output_type": "stream",
          "name": "stdout",
          "text": [
            "   subject_id   hadm_id           admittime           dischtime deathtime  \\\n",
            "0    10000032  22595853 2180-05-06 22:23:00 2180-05-07 17:15:00       NaT   \n",
            "1    10000032  22841357 2180-06-26 18:27:00 2180-06-27 18:49:00       NaT   \n",
            "2    10000032  25742920 2180-08-05 23:44:00 2180-08-07 17:50:00       NaT   \n",
            "3    10000032  29079034 2180-07-23 12:35:00 2180-07-25 17:55:00       NaT   \n",
            "4    10000068  25022803 2160-03-03 23:16:00 2160-03-04 06:26:00       NaT   \n",
            "\n",
            "   admission_type admit_provider_id      admission_location  \\\n",
            "0          URGENT            P874LG  TRANSFER FROM HOSPITAL   \n",
            "1        EW EMER.            P09Q6Y          EMERGENCY ROOM   \n",
            "2        EW EMER.            P60CC5          EMERGENCY ROOM   \n",
            "3        EW EMER.            P30KEH          EMERGENCY ROOM   \n",
            "4  EU OBSERVATION            P51VDL          EMERGENCY ROOM   \n",
            "\n",
            "  discharge_location insurance language marital_status   race  \\\n",
            "0               HOME     Other  ENGLISH        WIDOWED  WHITE   \n",
            "1               HOME  Medicaid  ENGLISH        WIDOWED  WHITE   \n",
            "2            HOSPICE  Medicaid  ENGLISH        WIDOWED  WHITE   \n",
            "3               HOME  Medicaid  ENGLISH        WIDOWED  WHITE   \n",
            "4               <NA>     Other  ENGLISH         SINGLE  WHITE   \n",
            "\n",
            "            edregtime           edouttime  hospital_expire_flag  \n",
            "0 2180-05-06 19:17:00 2180-05-06 23:30:00                     0  \n",
            "1 2180-06-26 15:54:00 2180-06-26 21:31:00                     0  \n",
            "2 2180-08-05 20:58:00 2180-08-06 01:44:00                     0  \n",
            "3 2180-07-23 05:54:00 2180-07-23 14:00:00                     0  \n",
            "4 2160-03-03 21:55:00 2160-03-04 06:26:00                     0  \n"
          ]
        }
      ]
    },
    {
      "cell_type": "code",
      "source": [
        "# Read core patients data\n",
        "df_patients = read_core_patients_parquet()\n",
        "\n",
        "# Process in chunks\n",
        "for chunk in df_patients.to_delayed():\n",
        "    chunk_df = chunk.compute()\n",
        "    print(chunk_df.head())  # Display first few rows of the chunk\n",
        "    # Perform other operations on chunk_df as needed\n",
        "    # This can include filtering, summarizing, etc.\n"
      ],
      "metadata": {
        "colab": {
          "base_uri": "https://localhost:8080/"
        },
        "id": "WfKPxIQZlpCl",
        "outputId": "b92515b3-7e27-4315-a0b7-04e69972cc47"
      },
      "execution_count": null,
      "outputs": [
        {
          "output_type": "stream",
          "name": "stdout",
          "text": [
            "   subject_id gender  anchor_age  anchor_year anchor_year_group         dod\n",
            "0    10000032      F          52         2180       2014 - 2016  2180-09-09\n",
            "1    10000048      F          23         2126       2008 - 2010        <NA>\n",
            "2    10000068      F          19         2160       2008 - 2010        <NA>\n",
            "3    10000084      M          72         2160       2017 - 2019  2161-02-13\n",
            "4    10000102      F          27         2136       2008 - 2010        <NA>\n"
          ]
        }
      ]
    },
    {
      "cell_type": "code",
      "source": [
        "# Read core transfers data\n",
        "df_transfers = read_core_transfers_parquet()\n",
        "\n",
        "# Process in chunks\n",
        "for chunk in df_transfers.to_delayed():\n",
        "    chunk_df = chunk.compute()\n",
        "    print(chunk_df.head())  # Display first few rows of the chunk\n",
        "    # Perform other operations on chunk_df as needed\n",
        "    # This can include filtering, summarizing, etc.\n"
      ],
      "metadata": {
        "colab": {
          "base_uri": "https://localhost:8080/"
        },
        "id": "YP4u5q5hl9P_",
        "outputId": "68597d47-54cf-4ba0-b5b1-21b9212c48ba"
      },
      "execution_count": null,
      "outputs": [
        {
          "output_type": "stream",
          "name": "stdout",
          "text": [
            "   subject_id     hadm_id  transfer_id  eventtype              careunit  \\\n",
            "0    10000032  22595853.0     33258284         ED  Emergency Department   \n",
            "1    10000032  22595853.0     35223874      admit            Transplant   \n",
            "2    10000032  22595853.0     36904543  discharge                  <NA>   \n",
            "3    10000032  22841357.0     34100253  discharge                  <NA>   \n",
            "4    10000032  22841357.0     34703856      admit            Transplant   \n",
            "\n",
            "               intime             outtime  \n",
            "0 2180-05-06 19:17:00 2180-05-06 23:30:00  \n",
            "1 2180-05-06 23:30:00 2180-05-07 17:21:27  \n",
            "2 2180-05-07 17:21:27                 NaT  \n",
            "3 2180-06-27 18:49:12                 NaT  \n",
            "4 2180-06-26 21:31:00 2180-06-27 18:49:12  \n"
          ]
        }
      ]
    },
    {
      "cell_type": "code",
      "source": [
        "# Select specific columns and process in chunks\n",
        "for chunk in df_admissions[['subject_id', 'hadm_id', 'admittime', 'dischtime', 'admission_type',\n",
        "                            'admission_location', 'discharge_location', 'insurance', 'language',\n",
        "                            'marital_status', 'hospital_expire_flag']].to_delayed():\n",
        "    chunk_df = chunk.compute()\n",
        "    print(chunk_df.head())  # Display first few rows of the chunk\n",
        "    # Perform other operations on chunk_df as needed\n",
        "    # This can include filtering, summarizing, etc.\n"
      ],
      "metadata": {
        "colab": {
          "base_uri": "https://localhost:8080/"
        },
        "id": "G-EUOH-Zl_o8",
        "outputId": "b4084feb-a164-4361-f706-e569d90a2b4c"
      },
      "execution_count": null,
      "outputs": [
        {
          "output_type": "stream",
          "name": "stdout",
          "text": [
            "   subject_id   hadm_id           admittime           dischtime  \\\n",
            "0    10000032  22595853 2180-05-06 22:23:00 2180-05-07 17:15:00   \n",
            "1    10000032  22841357 2180-06-26 18:27:00 2180-06-27 18:49:00   \n",
            "2    10000032  25742920 2180-08-05 23:44:00 2180-08-07 17:50:00   \n",
            "3    10000032  29079034 2180-07-23 12:35:00 2180-07-25 17:55:00   \n",
            "4    10000068  25022803 2160-03-03 23:16:00 2160-03-04 06:26:00   \n",
            "\n",
            "   admission_type      admission_location discharge_location insurance  \\\n",
            "0          URGENT  TRANSFER FROM HOSPITAL               HOME     Other   \n",
            "1        EW EMER.          EMERGENCY ROOM               HOME  Medicaid   \n",
            "2        EW EMER.          EMERGENCY ROOM            HOSPICE  Medicaid   \n",
            "3        EW EMER.          EMERGENCY ROOM               HOME  Medicaid   \n",
            "4  EU OBSERVATION          EMERGENCY ROOM               <NA>     Other   \n",
            "\n",
            "  language marital_status  hospital_expire_flag  \n",
            "0  ENGLISH        WIDOWED                     0  \n",
            "1  ENGLISH        WIDOWED                     0  \n",
            "2  ENGLISH        WIDOWED                     0  \n",
            "3  ENGLISH        WIDOWED                     0  \n",
            "4  ENGLISH         SINGLE                     0  \n"
          ]
        }
      ]
    },
    {
      "cell_type": "code",
      "source": [
        " #Read and process ICU procedureevents data in chunks\n",
        "df_icu_procedureevents = read_icu_procedureevents_parquet()\n",
        "for chunk in df_icu_procedureevents.to_delayed():\n",
        "    chunk_df = chunk.compute()\n",
        "    print(chunk_df.head())\n",
        "# Define the dataset directory path"
      ],
      "metadata": {
        "colab": {
          "base_uri": "https://localhost:8080/"
        },
        "id": "bflUYYfBmCTD",
        "outputId": "52a83870-74f4-42de-f9d9-f54e70f07490"
      },
      "execution_count": null,
      "outputs": [
        {
          "output_type": "stream",
          "name": "stdout",
          "text": [
            "   subject_id   hadm_id   stay_id  caregiver_id           starttime  \\\n",
            "0    10000032  29079034  39553978       88981.0 2180-07-23 14:43:00   \n",
            "1    10000032  29079034  39553978           NaN 2180-07-23 14:24:00   \n",
            "2    10000032  29079034  39553978           NaN 2180-07-23 14:24:00   \n",
            "3    10000980  26913865  39765666           NaN 2189-06-27 09:01:00   \n",
            "4    10000980  26913865  39765666           NaN 2189-06-27 09:15:00   \n",
            "\n",
            "              endtime               storetime  itemid  value valueuom  ...  \\\n",
            "0 2180-07-23 14:44:00 2180-07-23 14:43:00.000  225966    1.0     None  ...   \n",
            "1 2180-07-23 23:50:00 2180-07-23 23:50:49.983  224275  566.0      min  ...   \n",
            "2 2180-07-23 23:50:00 2180-07-23 23:50:49.983  224277  566.0      min  ...   \n",
            "3 2189-06-27 20:38:00 2189-06-27 20:38:29.047  225794  697.0      min  ...   \n",
            "4 2189-06-27 20:38:00 2189-06-27 20:38:29.047  224277  683.0      min  ...   \n",
            "\n",
            "   orderid linkorderid  ordercategoryname  ordercategorydescription  \\\n",
            "0  6416557     6416557         Procedures                      Task   \n",
            "1  6497934     6497934   Peripheral Lines         ContinuousProcess   \n",
            "2  9643097     9643097   Peripheral Lines         ContinuousProcess   \n",
            "3  5989583     5989583        Ventilation         ContinuousProcess   \n",
            "4   476764      476764   Peripheral Lines         ContinuousProcess   \n",
            "\n",
            "  patientweight isopenbag  continueinnextdept  statusdescription  \\\n",
            "0     39.400002         0                   0    FinishedRunning   \n",
            "1     39.400002         1                   0    FinishedRunning   \n",
            "2     39.400002         1                   0    FinishedRunning   \n",
            "3     76.199997         1                   0    FinishedRunning   \n",
            "4     76.199997         1                   0    FinishedRunning   \n",
            "\n",
            "   originalamount originalrate  \n",
            "0             1.0          0.0  \n",
            "1           566.0          1.0  \n",
            "2           566.0          1.0  \n",
            "3           697.0          1.0  \n",
            "4           683.0          1.0  \n",
            "\n",
            "[5 rows x 22 columns]\n"
          ]
        }
      ]
    },
    {
      "cell_type": "code",
      "source": [
        "# Read and process ICU outputevents data in chunks\n",
        "df_icu_outputevents = read_icu_outputevents_parquet()\n",
        "for chunk in df_icu_outputevents.to_delayed():\n",
        "    chunk_df = chunk.compute()\n",
        "    print(chunk_df.head())\n"
      ],
      "metadata": {
        "colab": {
          "base_uri": "https://localhost:8080/"
        },
        "id": "Hq_QdnQWnie2",
        "outputId": "fe0eecc6-32bb-4542-af45-70dc9e1dc958"
      },
      "execution_count": null,
      "outputs": [
        {
          "output_type": "stream",
          "name": "stdout",
          "text": [
            "   subject_id   hadm_id   stay_id  caregiver_id           charttime  \\\n",
            "0    10000032  29079034  39553978         88981 2180-07-23 15:00:00   \n",
            "1    10000980  26913865  39765666         36518 2189-06-27 09:08:00   \n",
            "2    10000980  26913865  39765666         36518 2189-06-27 09:08:00   \n",
            "3    10000980  26913865  39765666         36518 2189-06-27 11:00:00   \n",
            "4    10000980  26913865  39765666         36518 2189-06-27 13:00:00   \n",
            "\n",
            "            storetime  itemid  value valueuom  \n",
            "0 2180-07-23 16:00:00  226560  175.0       ml  \n",
            "1 2189-06-27 09:08:00  226559  450.0       ml  \n",
            "2 2189-06-27 09:08:00  226633  400.0       ml  \n",
            "3 2189-06-27 10:51:00  226559  600.0       ml  \n",
            "4 2189-06-27 12:55:00  226559  800.0       ml  \n"
          ]
        }
      ]
    },
    {
      "cell_type": "code",
      "source": [
        "# Read and process ICU inputevents data in chunks\n",
        "df_icu_inputevents = read_icu_inputevents_parquet()\n",
        "for chunk in df_icu_inputevents.to_delayed():\n",
        "    chunk_df = chunk.compute()\n",
        "    print(chunk_df.head())\n"
      ],
      "metadata": {
        "colab": {
          "base_uri": "https://localhost:8080/"
        },
        "id": "ULMWPDQQnlG9",
        "outputId": "020f9280-38cc-4ff7-9f74-7c854a1c4bda"
      },
      "execution_count": null,
      "outputs": [
        {
          "output_type": "stream",
          "name": "stdout",
          "text": [
            "   subject_id   hadm_id   stay_id  caregiver_id           starttime  \\\n",
            "0    10000032  29079034  39553978         66056 2180-07-23 21:10:00   \n",
            "1    10000032  29079034  39553978         88981 2180-07-23 17:00:00   \n",
            "2    10000032  29079034  39553978         88981 2180-07-23 17:00:00   \n",
            "3    10000032  29079034  39553978         88981 2180-07-23 17:33:00   \n",
            "4    10000032  29079034  39553978         88981 2180-07-23 18:56:00   \n",
            "\n",
            "              endtime           storetime  itemid  amount amountuom  ...  \\\n",
            "0 2180-07-23 21:11:00 2180-07-23 21:10:00  226452   100.0        ml  ...   \n",
            "1 2180-07-23 17:01:00 2180-07-23 18:56:00  226452   200.0        ml  ...   \n",
            "2 2180-07-23 17:30:00 2180-07-23 17:02:00  220862    50.0        ml  ...   \n",
            "3 2180-07-23 18:03:00 2180-07-23 18:16:00  220862    50.0        ml  ...   \n",
            "4 2180-07-23 18:57:00 2180-07-23 18:56:00  226452   100.0        ml  ...   \n",
            "\n",
            "   ordercomponenttypedescription ordercategorydescription  patientweight  \\\n",
            "0           Main order parameter                    Bolus      39.400002   \n",
            "1           Main order parameter                    Bolus      39.400002   \n",
            "2           Main order parameter            Continuous IV      39.400002   \n",
            "3           Main order parameter            Continuous IV      39.400002   \n",
            "4           Main order parameter                    Bolus      39.400002   \n",
            "\n",
            "   totalamount totalamountuom isopenbag continueinnextdept statusdescription  \\\n",
            "0        100.0             ml         0                  0   FinishedRunning   \n",
            "1        200.0             ml         0                  0   FinishedRunning   \n",
            "2         50.0             ml         0                  0   FinishedRunning   \n",
            "3         50.0             ml         0                  0   FinishedRunning   \n",
            "4        100.0             ml         0                  0   FinishedRunning   \n",
            "\n",
            "   originalamount  originalrate  \n",
            "0           100.0         100.0  \n",
            "1           200.0         200.0  \n",
            "2            50.0         100.0  \n",
            "3            50.0         100.0  \n",
            "4           100.0         100.0  \n",
            "\n",
            "[5 rows x 26 columns]\n"
          ]
        }
      ]
    },
    {
      "cell_type": "code",
      "source": [
        "# Read and process ICU icustays data in chunks\n",
        "df_icu_icustays = read_icu_icustays_parquet()\n",
        "for chunk in df_icu_icustays.to_delayed():\n",
        "    chunk_df = chunk.compute()\n",
        "    print(chunk_df.head())\n"
      ],
      "metadata": {
        "colab": {
          "base_uri": "https://localhost:8080/"
        },
        "id": "wb2XHm1nnn9q",
        "outputId": "e74c0d24-47ff-470a-973e-c77d11cebf8d"
      },
      "execution_count": null,
      "outputs": [
        {
          "output_type": "stream",
          "name": "stdout",
          "text": [
            "   subject_id   hadm_id   stay_id  \\\n",
            "0    10000032  29079034  39553978   \n",
            "1    10000980  26913865  39765666   \n",
            "2    10001217  24597018  37067082   \n",
            "3    10001217  27703517  34592300   \n",
            "4    10001725  25563031  31205490   \n",
            "\n",
            "                                     first_careunit  \\\n",
            "0                Medical Intensive Care Unit (MICU)   \n",
            "1                Medical Intensive Care Unit (MICU)   \n",
            "2               Surgical Intensive Care Unit (SICU)   \n",
            "3               Surgical Intensive Care Unit (SICU)   \n",
            "4  Medical/Surgical Intensive Care Unit (MICU/SICU)   \n",
            "\n",
            "                                      last_careunit              intime  \\\n",
            "0                Medical Intensive Care Unit (MICU) 2180-07-23 14:00:00   \n",
            "1                Medical Intensive Care Unit (MICU) 2189-06-27 08:42:00   \n",
            "2               Surgical Intensive Care Unit (SICU) 2157-11-20 19:18:02   \n",
            "3               Surgical Intensive Care Unit (SICU) 2157-12-19 15:42:24   \n",
            "4  Medical/Surgical Intensive Care Unit (MICU/SICU) 2110-04-11 15:52:22   \n",
            "\n",
            "              outtime       los  \n",
            "0 2180-07-23 23:50:47  0.410266  \n",
            "1 2189-06-27 20:38:27  0.497535  \n",
            "2 2157-11-21 22:08:00  1.118032  \n",
            "3 2157-12-20 14:27:41  0.948113  \n",
            "4 2110-04-12 23:59:56  1.338588  \n"
          ]
        }
      ]
    },
    {
      "cell_type": "code",
      "source": [
        "# Read and process ICU datetimeevents data in chunks\n",
        "df_icu_datetimeevents = read_icu_datetimeevents_parquet()\n",
        "for chunk in df_icu_datetimeevents.to_delayed():\n",
        "    chunk_df = chunk.compute()\n",
        "    print(chunk_df.head())\n"
      ],
      "metadata": {
        "colab": {
          "base_uri": "https://localhost:8080/"
        },
        "id": "Zuoqqe6MntGW",
        "outputId": "d5d37156-ef57-40ee-c487-616109af2636"
      },
      "execution_count": null,
      "outputs": [
        {
          "output_type": "stream",
          "name": "stdout",
          "text": [
            "   subject_id   hadm_id   stay_id  caregiver_id           charttime  \\\n",
            "0    10000032  29079034  39553978         66056 2180-07-23 21:02:00   \n",
            "1    10000032  29079034  39553978         66056 2180-07-23 21:02:00   \n",
            "2    10000032  29079034  39553978         88981 2180-07-23 14:24:00   \n",
            "3    10000032  29079034  39553978         88981 2180-07-23 14:24:00   \n",
            "4    10000980  26913865  39765666         36518 2189-06-27 09:13:00   \n",
            "\n",
            "            storetime  itemid               value valueuom  warning  \n",
            "0 2180-07-23 21:02:00  225754 2180-07-23 00:00:00     Date        0  \n",
            "1 2180-07-23 21:02:00  225755 2180-07-23 00:00:00     Date        0  \n",
            "2 2180-07-23 14:24:00  225754 2180-07-23 14:24:00     Date        0  \n",
            "3 2180-07-23 14:24:00  225755 2180-07-23 14:24:00     Date        0  \n",
            "4 2189-06-27 09:13:00  225755 2189-06-27 09:13:00     Date        0  \n"
          ]
        }
      ]
    },
    {
      "cell_type": "code",
      "source": [
        "# Read and process ICU d_items data in chunks\n",
        "df_icu_d_items = read_icu_d_items_parquet()\n",
        "for chunk in df_icu_d_items.to_delayed():\n",
        "    chunk_df = chunk.compute()\n",
        "    print(chunk_df.head())\n"
      ],
      "metadata": {
        "colab": {
          "base_uri": "https://localhost:8080/"
        },
        "id": "fF7ro_pcnvu2",
        "outputId": "4b9520e6-1765-46f7-ca79-df62dd88cab4"
      },
      "execution_count": null,
      "outputs": [
        {
          "output_type": "stream",
          "name": "stdout",
          "text": [
            "   itemid                    label        abbreviation         linksto  \\\n",
            "0  220001             Problem List        Problem List     chartevents   \n",
            "1  220003       ICU Admission date  ICU Admission date  datetimeevents   \n",
            "2  220045               Heart Rate                  HR     chartevents   \n",
            "3  220046  Heart rate Alarm - High     HR Alarm - High     chartevents   \n",
            "4  220047   Heart Rate Alarm - Low      HR Alarm - Low     chartevents   \n",
            "\n",
            "              category unitname     param_type  lownormalvalue  \\\n",
            "0              General     <NA>           Text             NaN   \n",
            "1                  ADT     <NA>  Date and time             NaN   \n",
            "2  Routine Vital Signs      bpm        Numeric             NaN   \n",
            "3               Alarms      bpm        Numeric             NaN   \n",
            "4               Alarms      bpm        Numeric             NaN   \n",
            "\n",
            "   highnormalvalue  \n",
            "0              NaN  \n",
            "1              NaN  \n",
            "2              NaN  \n",
            "3              NaN  \n",
            "4              NaN  \n"
          ]
        }
      ]
    },
    {
      "cell_type": "code",
      "source": [
        "# Read and process hospital services data in chunks\n",
        "df_hosp_services = read_hosp_services_parquet()\n",
        "for chunk in df_hosp_services.to_delayed():\n",
        "    chunk_df = chunk.compute()\n",
        "    print(chunk_df.head())\n"
      ],
      "metadata": {
        "colab": {
          "base_uri": "https://localhost:8080/"
        },
        "id": "uOvrhPI0n1Io",
        "outputId": "88e8aa77-ac06-4eed-c4e7-a137439d5c27"
      },
      "execution_count": null,
      "outputs": [
        {
          "output_type": "stream",
          "name": "stdout",
          "text": [
            "   subject_id   hadm_id        transfertime prev_service curr_service\n",
            "0    10000032  22595853 2180-05-06 22:24:57         <NA>          MED\n",
            "1    10000032  22841357 2180-06-26 18:28:08         <NA>          MED\n",
            "2    10000032  25742920 2180-08-05 23:44:50         <NA>          MED\n",
            "3    10000032  29079034 2180-07-23 12:36:04         <NA>          MED\n",
            "4    10000068  25022803 2160-03-03 23:17:17         <NA>          MED\n"
          ]
        }
      ]
    },
    {
      "cell_type": "code",
      "source": [
        "# Read and process hospital procedures_icd data in chunks\n",
        "df_hosp_procedures_icd = read_hosp_procedures_icd_parquet()\n",
        "for chunk in df_hosp_procedures_icd.to_delayed():\n",
        "    chunk_df = chunk.compute()\n",
        "    print(chunk_df.head())\n"
      ],
      "metadata": {
        "colab": {
          "base_uri": "https://localhost:8080/"
        },
        "id": "O78Txw2en5p3",
        "outputId": "6f1fc442-77d6-4747-d815-090270edfca5"
      },
      "execution_count": null,
      "outputs": [
        {
          "output_type": "stream",
          "name": "stdout",
          "text": [
            "   subject_id   hadm_id  seq_num   chartdate icd_code  icd_version\n",
            "0    10000032  22595853        1  2180-05-07     5491            9\n",
            "1    10000032  22841357        1  2180-06-27     5491            9\n",
            "2    10000032  25742920        1  2180-08-06     5491            9\n",
            "3    10000068  25022803        1  2160-03-03     8938            9\n",
            "4    10000117  27988844        1  2183-09-19  0QS734Z           10\n"
          ]
        }
      ]
    },
    {
      "cell_type": "code",
      "source": [
        "# Read and process hospital prescriptions data in chunks\n",
        "df_hosp_prescriptions = read_hosp_prescriptions_parquet()\n",
        "for chunk in df_hosp_prescriptions.to_delayed():\n",
        "    chunk_df = chunk.compute()\n",
        "    print(chunk_df.head())\n"
      ],
      "metadata": {
        "colab": {
          "base_uri": "https://localhost:8080/"
        },
        "id": "FEEnqADCn7qn",
        "outputId": "accbe2cb-a73d-427f-e388-8f928156e573"
      },
      "execution_count": null,
      "outputs": [
        {
          "output_type": "stream",
          "name": "stdout",
          "text": [
            "   subject_id   hadm_id  pharmacy_id       poe_id  poe_seq order_provider_id  \\\n",
            "0    10000032  22595853     11700683  10000032-34     34.0            P76JEQ   \n",
            "1    10000032  22595853     14779570  10000032-22     22.0            P76JEQ   \n",
            "2    10000032  22595853     19796602  10000032-50     50.0            P260SK   \n",
            "3    10000032  22595853     20256254  10000032-32     32.0            P76JEQ   \n",
            "4    10000032  22595853     28781051  10000032-27     27.0            P76JEQ   \n",
            "\n",
            "            starttime            stoptime drug_type  \\\n",
            "0 2180-05-07 01:00:00 2180-05-07 22:00:00      MAIN   \n",
            "1 2180-05-07 00:00:00 2180-05-07 22:00:00      MAIN   \n",
            "2 2180-05-08 08:00:00 2180-05-07 22:00:00      MAIN   \n",
            "3 2180-05-07 01:00:00 2180-05-07 22:00:00      MAIN   \n",
            "4 2180-05-07 00:00:00 2180-05-07 22:00:00      MAIN   \n",
            "\n",
            "                          drug  ...     gsn          ndc  \\\n",
            "0                Acetaminophen  ...  004490  00904198861   \n",
            "1  Sodium Chloride 0.9%  Flush  ...    <NA>            0   \n",
            "2                   Furosemide  ...  008209  51079007320   \n",
            "3                  Raltegravir  ...  063231  00006022761   \n",
            "4                      Heparin  ...  006549  63323026201   \n",
            "\n",
            "               prod_strength form_rx dose_val_rx dose_unit_rx form_val_disp  \\\n",
            "0               500mg Tablet    <NA>         500           mg             1   \n",
            "1              10 mL Syringe    <NA>           3           mL           0.3   \n",
            "2                40mg Tablet    <NA>          40           mg             1   \n",
            "3              400 mg Tablet    <NA>         400           mg             1   \n",
            "4  5000 Units / mL- 1mL Vial    <NA>        5000         UNIT             1   \n",
            "\n",
            "  form_unit_disp doses_per_24_hrs  route  \n",
            "0            TAB              NaN  PO/NG  \n",
            "1            SYR              3.0     IV  \n",
            "2            TAB              1.0  PO/NG  \n",
            "3            TAB              2.0     PO  \n",
            "4             mL              3.0     SC  \n",
            "\n",
            "[5 rows x 21 columns]\n"
          ]
        }
      ]
    },
    {
      "cell_type": "code",
      "source": [
        "# Read and process hospital poe_detail data in chunks\n",
        "df_hosp_poe_detail = read_hosp_poe_detail_parquet()\n",
        "for chunk in df_hosp_poe_detail.to_delayed():\n",
        "    chunk_df = chunk.compute()\n",
        "    print(chunk_df.head())\n"
      ],
      "metadata": {
        "colab": {
          "base_uri": "https://localhost:8080/"
        },
        "id": "MGpm71-gn9Yo",
        "outputId": "fa6d6a56-a942-48ad-8acf-bd27bf6a5ceb"
      },
      "execution_count": null,
      "outputs": [
        {
          "output_type": "stream",
          "name": "stdout",
          "text": [
            "         poe_id  poe_seq  subject_id          field_name         field_value\n",
            "0  10000032-104      104    10000032      Admit category  Admit to inpatient\n",
            "1  10000032-104      104    10000032            Admit to            Medicine\n",
            "2  10000032-109      109    10000032      Admit category  Admit to inpatient\n",
            "3  10000032-109      109    10000032  Discharge Planning           Finalized\n",
            "4  10000032-111      111    10000032      Admit category  Admit to inpatient\n"
          ]
        }
      ]
    },
    {
      "cell_type": "code",
      "source": [
        "# Read and process hospital poe data in chunks\n",
        "df_hosp_poe = read_hosp_poe_parquet()\n",
        "for chunk in df_hosp_poe.to_delayed():\n",
        "    chunk_df = chunk.compute()\n",
        "    print(chunk_df.head())\n"
      ],
      "metadata": {
        "colab": {
          "base_uri": "https://localhost:8080/"
        },
        "id": "KtRXmE4xoALM",
        "outputId": "247ff333-e838-419f-ef9e-349176a576d6"
      },
      "execution_count": null,
      "outputs": [
        {
          "output_type": "stream",
          "name": "stdout",
          "text": [
            "         poe_id  poe_seq  subject_id   hadm_id           ordertime  \\\n",
            "0   10000032-10       10    10000032  22595853 2180-05-06 20:50:49   \n",
            "1  10000032-100      100    10000032  22841357 2180-06-26 22:25:43   \n",
            "2  10000032-102      102    10000032  22841357 2180-06-26 22:37:06   \n",
            "3  10000032-103      103    10000032  22841357 2180-06-26 22:37:06   \n",
            "4  10000032-104      104    10000032  22841357 2180-06-27 07:06:36   \n",
            "\n",
            "    order_type   order_subtype transaction_type discontinue_of_poe_id  \\\n",
            "0          Lab            <NA>              New                  <NA>   \n",
            "1  Respiratory  Oxygen Therapy              New                  <NA>   \n",
            "2  Medications            <NA>              D/C           10000032-93   \n",
            "3  Medications            <NA>           Change           10000032-89   \n",
            "4   ADT orders           Admit           Change           10000032-75   \n",
            "\n",
            "  discontinued_by_poe_id order_provider_id order_status  \n",
            "0                   <NA>            P9705S     Inactive  \n",
            "1                   <NA>            P8971Q     Inactive  \n",
            "2                   <NA>            P8971Q     Inactive  \n",
            "3                   <NA>            P8971Q     Inactive  \n",
            "4                   <NA>            P61HH1     Inactive  \n"
          ]
        }
      ]
    },
    {
      "cell_type": "code",
      "source": [
        "# Read and process hospital pharmacy data in chunks\n",
        "df_hosp_pharmacy = read_hosp_pharmacy_parquet()\n",
        "for chunk in df_hosp_pharmacy.to_delayed():\n",
        "    chunk_df = chunk.compute()\n",
        "    print(chunk_df.head())\n"
      ],
      "metadata": {
        "colab": {
          "base_uri": "https://localhost:8080/"
        },
        "id": "bQ1QA77BoB_t",
        "outputId": "5b81d0ed-ece8-4fea-8269-c965465bc6e6"
      },
      "execution_count": null,
      "outputs": [
        {
          "output_type": "stream",
          "name": "stdout",
          "text": [
            "   subject_id   hadm_id  pharmacy_id       poe_id           starttime  \\\n",
            "0    10000032  22595853     11700683  10000032-34 2180-05-07 01:00:00   \n",
            "1    10000032  22595853     14779570  10000032-22 2180-05-07 00:00:00   \n",
            "2    10000032  22595853     19796602  10000032-50 2180-05-08 08:00:00   \n",
            "3    10000032  22595853     20256254  10000032-32 2180-05-07 01:00:00   \n",
            "4    10000032  22595853     28781051  10000032-27 2180-05-07 00:00:00   \n",
            "\n",
            "             stoptime                   medication  proc_type  \\\n",
            "0 2180-05-07 22:00:00                Acetaminophen  Unit Dose   \n",
            "1 2180-05-07 22:00:00  Sodium Chloride 0.9%  Flush  Unit Dose   \n",
            "2 2180-05-07 22:00:00                   Furosemide  Unit Dose   \n",
            "3 2180-05-07 22:00:00                  Raltegravir  Unit Dose   \n",
            "4 2180-05-07 22:00:00                      Heparin  Unit Dose   \n",
            "\n",
            "                               status           entertime  ... basal_rate  \\\n",
            "0  Discontinued via patient discharge 2180-05-07 00:09:24  ...        NaN   \n",
            "1  Discontinued via patient discharge 2180-05-07 00:00:54  ...        NaN   \n",
            "2  Discontinued via patient discharge 2180-05-07 09:32:35  ...        NaN   \n",
            "3  Discontinued via patient discharge 2180-05-07 00:09:24  ...        NaN   \n",
            "4  Discontinued via patient discharge 2180-05-07 00:00:54  ...        NaN   \n",
            "\n",
            "  one_hr_max doses_per_24_hrs duration duration_interval expiration_value  \\\n",
            "0       <NA>              NaN      NaN           Ongoing             36.0   \n",
            "1       <NA>              3.0      NaN           Ongoing             36.0   \n",
            "2       <NA>              1.0      NaN           Ongoing             36.0   \n",
            "3       <NA>              2.0      NaN           Ongoing             36.0   \n",
            "4       <NA>              3.0      NaN           Ongoing             36.0   \n",
            "\n",
            "  expiration_unit  expirationdate      dispensation  fill_quantity  \n",
            "0           Hours             NaT          Omnicell           <NA>  \n",
            "1           Hours             NaT  Floor Stock Item           <NA>  \n",
            "2           Hours             NaT          Omnicell           <NA>  \n",
            "3           Hours             NaT          Omnicell           <NA>  \n",
            "4           Hours             NaT          Omnicell           <NA>  \n",
            "\n",
            "[5 rows x 27 columns]\n"
          ]
        }
      ]
    },
    {
      "cell_type": "code",
      "source": [
        "# Read and process hospital microbiologyevents data in chunks\n",
        "df_hosp_microbiologyevents = read_hosp_microbiologyevents_parquet()\n",
        "for chunk in df_hosp_microbiologyevents.to_delayed():\n",
        "    chunk_df = chunk.compute()\n",
        "    print(chunk_df.head())\n"
      ],
      "metadata": {
        "colab": {
          "base_uri": "https://localhost:8080/"
        },
        "id": "3M0rYoWToEbh",
        "outputId": "b4757df8-61fb-4310-a609-b20f71e871ed"
      },
      "execution_count": null,
      "outputs": [
        {
          "output_type": "stream",
          "name": "stdout",
          "text": [
            "   microevent_id  subject_id  hadm_id  micro_specimen_id order_provider_id  \\\n",
            "0              1    10000032      NaN             636109            P28Z0X   \n",
            "1              2    10000032      NaN            1836584            P28Z0X   \n",
            "2              3    10000032      NaN            4131591            P28Z0X   \n",
            "3              4    10000032      NaN            4131591            P28Z0X   \n",
            "4              5    10000032      NaN            6028147            P28Z0X   \n",
            "\n",
            "   chartdate           charttime  spec_itemid  spec_type_desc  test_seq  ...  \\\n",
            "0 2180-03-23 2180-03-23 11:51:00        70093    Blood (Toxo)         1  ...   \n",
            "1 2180-03-23 2180-03-23 11:51:00        70017  SEROLOGY/BLOOD         1  ...   \n",
            "2 2180-03-23 2180-03-23 11:51:00        70087  Blood (CMV AB)         1  ...   \n",
            "3 2180-03-23 2180-03-23 11:51:00        70087  Blood (CMV AB)         2  ...   \n",
            "4 2180-03-23 2180-03-23 11:51:00        70088     Blood (EBV)         1  ...   \n",
            "\n",
            "  org_name isolate_num  quantity ab_itemid  ab_name dilution_text  \\\n",
            "0     <NA>         NaN      <NA>       NaN     <NA>          <NA>   \n",
            "1     <NA>         NaN      <NA>       NaN     <NA>          <NA>   \n",
            "2     <NA>         NaN      <NA>       NaN     <NA>          <NA>   \n",
            "3     <NA>         NaN      <NA>       NaN     <NA>          <NA>   \n",
            "4     <NA>         NaN      <NA>       NaN     <NA>          <NA>   \n",
            "\n",
            "   dilution_comparison dilution_value  interpretation  \\\n",
            "0                 <NA>            NaN            <NA>   \n",
            "1                 <NA>            NaN            <NA>   \n",
            "2                 <NA>            NaN            <NA>   \n",
            "3                 <NA>            NaN            <NA>   \n",
            "4                 <NA>            NaN            <NA>   \n",
            "\n",
            "                                            comments  \n",
            "0  NEGATIVE FOR TOXOPLASMA IgG ANTIBODY BY EIA.  ...  \n",
            "1  POSITIVE BY EIA.  A positive IgG result genera...  \n",
            "2                                                ___  \n",
            "3  NEGATIVE FOR CMV IgM ANTIBODY BY EIA.  INTERPR...  \n",
            "4                                 POSITIVE BY EIA.    \n",
            "\n",
            "[5 rows x 25 columns]\n"
          ]
        }
      ]
    },
    {
      "cell_type": "code",
      "source": [
        "# Read and process hospital emar data in chunks\n",
        "df_hosp_emar = read_hosp_emar_parquet()\n",
        "for chunk in df_hosp_emar.to_delayed():\n",
        "    chunk_df = chunk.compute()\n",
        "    print(chunk_df.head())\n"
      ],
      "metadata": {
        "colab": {
          "base_uri": "https://localhost:8080/"
        },
        "id": "bGad9Sw0oLco",
        "outputId": "45c96cac-7f37-4533-e553-f3d1cf2c1c30"
      },
      "execution_count": null,
      "outputs": [
        {
          "output_type": "stream",
          "name": "stdout",
          "text": [
            "   subject_id     hadm_id      emar_id  emar_seq       poe_id  pharmacy_id  \\\n",
            "0    10000032  22595853.0  10000032-10        10  10000032-36   48770010.0   \n",
            "1    10000032  22595853.0  10000032-11        11  10000032-22   14779570.0   \n",
            "2    10000032  22595853.0  10000032-12        12  10000032-37   93463122.0   \n",
            "3    10000032  22595853.0  10000032-13        13  10000032-28   42497745.0   \n",
            "4    10000032  22595853.0  10000032-14        14  10000032-29   69131933.0   \n",
            "\n",
            "  enter_provider_id           charttime                         medication  \\\n",
            "0              <NA> 2180-05-07 00:44:00                 Potassium Chloride   \n",
            "1              <NA> 2180-05-07 00:44:00        Sodium Chloride 0.9%  Flush   \n",
            "2              <NA> 2180-05-07 06:10:00            Ipratropium Bromide Neb   \n",
            "3              <NA> 2180-05-07 05:00:00                  Albuterol Inhaler   \n",
            "4              <NA> 2180-05-07 07:51:00  Emtricitabine-Tenofovir (Truvada)   \n",
            "\n",
            "      event_txt        scheduletime           storetime  \n",
            "0  Administered 2180-05-07 00:44:00 2180-05-07 00:44:00  \n",
            "1       Flushed 2180-05-07 00:44:00 2180-05-07 00:44:00  \n",
            "2  Administered 2180-05-07 06:00:00 2180-05-07 06:10:00  \n",
            "3  Administered 2180-05-07 06:29:00 2180-05-07 06:29:00  \n",
            "4  Administered 2180-05-07 08:00:00 2180-05-07 07:56:00  \n"
          ]
        }
      ]
    },
    {
      "cell_type": "code",
      "source": [
        "# Read and process hospital drgcodes data in chunks\n",
        "df_hosp_drgcodes = read_hosp_drgcodes_parquet()\n",
        "for chunk in df_hosp_drgcodes.to_delayed():\n",
        "    chunk_df = chunk.compute()\n",
        "    print(chunk_df.head())\n"
      ],
      "metadata": {
        "colab": {
          "base_uri": "https://localhost:8080/"
        },
        "id": "RUFKIz7HoM8l",
        "outputId": "f81557c4-455b-4ee4-81ba-50f434aade4f"
      },
      "execution_count": null,
      "outputs": [
        {
          "output_type": "stream",
          "name": "stdout",
          "text": [
            "   subject_id   hadm_id drg_type drg_code  \\\n",
            "0    10000032  22595853      APR      283   \n",
            "1    10000032  22595853     HCFA      442   \n",
            "2    10000032  22841357      APR      279   \n",
            "3    10000032  22841357     HCFA      442   \n",
            "4    10000032  25742920      APR      283   \n",
            "\n",
            "                                         description  drg_severity  \\\n",
            "0                       OTHER DISORDERS OF THE LIVER           2.0   \n",
            "1  DISORDERS OF LIVER EXCEPT MALIG,CIRR,ALC HEPA ...           NaN   \n",
            "2   HEPATIC COMA & OTHER MAJOR ACUTE LIVER DISORDERS           3.0   \n",
            "3  DISORDERS OF LIVER EXCEPT MALIG,CIRR,ALC HEPA ...           NaN   \n",
            "4                       OTHER DISORDERS OF THE LIVER           3.0   \n",
            "\n",
            "   drg_mortality  \n",
            "0            2.0  \n",
            "1            NaN  \n",
            "2            2.0  \n",
            "3            NaN  \n",
            "4            2.0  \n"
          ]
        }
      ]
    },
    {
      "cell_type": "code",
      "source": [
        "# Read and process hospital diagnoses_icd data in chunks\n",
        "df_hosp_diagnoses_icd = read_hosp_diagnoses_icd_parquet()\n",
        "for chunk in df_hosp_diagnoses_icd.to_delayed():\n",
        "    chunk_df = chunk.compute()\n",
        "    print(chunk_df.head())\n"
      ],
      "metadata": {
        "colab": {
          "base_uri": "https://localhost:8080/"
        },
        "id": "gz2pnrJzoOkY",
        "outputId": "fe408ecd-dc35-491f-8505-ddb3d3629e6c"
      },
      "execution_count": null,
      "outputs": [
        {
          "output_type": "stream",
          "name": "stdout",
          "text": [
            "   subject_id   hadm_id  seq_num icd_code  icd_version\n",
            "0    10000032  22595853        1     5723            9\n",
            "1    10000032  22595853        2    78959            9\n",
            "2    10000032  22595853        3     5715            9\n",
            "3    10000032  22595853        4    07070            9\n",
            "4    10000032  22595853        5      496            9\n"
          ]
        }
      ]
    },
    {
      "cell_type": "code",
      "source": [
        "# Read and process hospital d_labitems data in chunks\n",
        "df_hosp_d_labitems = read_hosp_d_labitems_parquet()\n",
        "for chunk in df_hosp_d_labitems.to_delayed():\n",
        "    chunk_df = chunk.compute()\n",
        "    print(chunk_df.head())\n"
      ],
      "metadata": {
        "colab": {
          "base_uri": "https://localhost:8080/"
        },
        "id": "POpvzVCEoQA3",
        "outputId": "0540582b-c308-42d0-a8eb-6554d6aab005"
      },
      "execution_count": null,
      "outputs": [
        {
          "output_type": "stream",
          "name": "stdout",
          "text": [
            "   itemid                                label  fluid   category\n",
            "0   50801           Alveolar-arterial Gradient  Blood  Blood Gas\n",
            "1   50802                          Base Excess  Blood  Blood Gas\n",
            "2   50803  Calculated Bicarbonate, Whole Blood  Blood  Blood Gas\n",
            "3   50804                 Calculated Total CO2  Blood  Blood Gas\n",
            "4   50805                    Carboxyhemoglobin  Blood  Blood Gas\n"
          ]
        }
      ]
    },
    {
      "cell_type": "code",
      "source": [
        "# Read and process hospital d_icd_procedures data in chunks\n",
        "df_hosp_d_icd_procedures = read_hosp_d_icd_procedures_parquet()\n",
        "for chunk in df_hosp_d_icd_procedures.to_delayed():\n",
        "    chunk_df = chunk.compute()\n",
        "    print(chunk_df.head())\n"
      ],
      "metadata": {
        "colab": {
          "base_uri": "https://localhost:8080/"
        },
        "id": "pOhV_tNJoSfn",
        "outputId": "93e0acad-a943-4e1a-f057-d690e7dda5ed"
      },
      "execution_count": null,
      "outputs": [
        {
          "output_type": "stream",
          "name": "stdout",
          "text": [
            "  icd_code  icd_version                                         long_title\n",
            "0     0001            9  Therapeutic ultrasound of vessels of head and ...\n",
            "1     0002            9                    Therapeutic ultrasound of heart\n",
            "2     0003            9  Therapeutic ultrasound of peripheral vascular ...\n",
            "3     0009            9                       Other therapeutic ultrasound\n",
            "4      001           10  Central Nervous System and Cranial Nerves, Bypass\n"
          ]
        }
      ]
    },
    {
      "cell_type": "code",
      "source": [
        "# Read and process hospital d_icd_diagnoses data in chunks\n",
        "df_hosp_d_icd_diagnoses = read_hosp_d_icd_diagnoses_parquet()\n",
        "for chunk in df_hosp_d_icd_diagnoses.to_delayed():\n",
        "    chunk_df = chunk.compute()\n",
        "    print(chunk_df.head())\n"
      ],
      "metadata": {
        "colab": {
          "base_uri": "https://localhost:8080/"
        },
        "id": "fP29ZEofoUy3",
        "outputId": "23aae841-46d7-4eec-d4bf-190f3d03139d"
      },
      "execution_count": null,
      "outputs": [
        {
          "output_type": "stream",
          "name": "stdout",
          "text": [
            "  icd_code  icd_version                             long_title\n",
            "0     0010            9         Cholera due to vibrio cholerae\n",
            "1     0011            9  Cholera due to vibrio cholerae el tor\n",
            "2     0019            9                   Cholera, unspecified\n",
            "3     0020            9                          Typhoid fever\n",
            "4     0021            9                    Paratyphoid fever A\n"
          ]
        }
      ]
    },
    {
      "cell_type": "code",
      "source": [
        "# Read and process hospital d_hcpcs data in chunks\n",
        "df_hosp_d_hcpcs = read_hosp_d_hcpcs_parquet()\n",
        "for chunk in df_hosp_d_hcpcs.to_delayed():\n",
        "    chunk_df = chunk.compute()\n",
        "    print(chunk_df.head())\n"
      ],
      "metadata": {
        "colab": {
          "base_uri": "https://localhost:8080/"
        },
        "id": "LAw2P2r_oWgc",
        "outputId": "65a04701-a1be-4fce-c38c-3b3adc7ab718"
      },
      "execution_count": null,
      "outputs": [
        {
          "output_type": "stream",
          "name": "stdout",
          "text": [
            "    code  category long_description   short_description\n",
            "0  00000       NaN             <NA>        Invalid Code\n",
            "1  0001F       2.0             <NA>  Composite measures\n",
            "2  0002F       2.0             <NA>  Composite measures\n",
            "3  0003F       2.0             <NA>  Composite measures\n",
            "4  0004F       2.0             <NA>  Composite measures\n"
          ]
        }
      ]
    },
    {
      "cell_type": "markdown",
      "source": [
        "#Data exploration:"
      ],
      "metadata": {
        "id": "8cWeoV3fwVZ_"
      }
    },
    {
      "cell_type": "code",
      "source": [
        "# Define the dataset directory path\n",
        "dataset_path = '/content/drive/My Drive/dataset/mimiv-iv/'\n",
        "\n",
        "def read_parquet_file(file_name):\n",
        "    file_path = os.path.join(dataset_path, file_name)\n",
        "    if os.path.exists(file_path):\n",
        "        return dd.read_parquet(file_path)\n",
        "    else:\n",
        "        print(f\"Given file path {file_path} doesn't exist.\")\n",
        "        return None\n",
        "\n",
        "def filter_core_admission(df):\n",
        "    df = df.drop(['edregtime', 'edouttime', 'deathtime'], axis=1)\n",
        "    df['admittime'] = dd.to_datetime(df['admittime'])\n",
        "    df['dischtime'] = dd.to_datetime(df['dischtime'])\n",
        "    df['los_admission'] = (df['dischtime'] - df['admittime']).dt.total_seconds() / 86400\n",
        "    df = df.drop(['admittime', 'dischtime'], axis=1)\n",
        "    df = df[df['los_admission'] > 0]\n",
        "    return df\n",
        "\n",
        "def filter_core_patients(df):\n",
        "    return df.drop(['dod'], axis=1)\n",
        "\n",
        "def filter_core_transfers(df):\n",
        "    return df.drop(['intime', 'outtime'], axis=1)\n",
        "\n",
        "def filter_hosp_diagnoses_icd(df):\n",
        "    return df.drop(['seq_num', 'icd_version'], axis=1)\n",
        "\n",
        "def filter_hosp_procedures_icd(df):\n",
        "    return df.drop(['seq_num', 'chartdate', 'icd_version'], axis=1)\n",
        "\n",
        "def filter_hosp_lab_events(df):\n",
        "    return df.drop(['labevent_id', 'specimen_id', 'itemid', 'charttime', 'storetime', 'valueuom',\n",
        "                    'ref_range_lower', 'ref_range_upper', 'comments', 'valuenum'], axis=1)\n",
        "\n",
        "def filter_hosp_drgcodes(df):\n",
        "    return df.drop(['description', 'drg_severity', 'drg_mortality'], axis=1)\n",
        "\n",
        "def filter_hosp_emar(df):\n",
        "    return df[['subject_id', 'medication', 'event_txt']]\n",
        "\n",
        "def filter_hosp_poe(df):\n",
        "    return df[['subject_id', 'order_type', 'transaction_type']]\n",
        "\n",
        "def filter_hosp_microbiologyevents(df):\n",
        "    return df[['subject_id', 'org_name', 'test_name', 'quantity', 'ab_name']]\n",
        "\n",
        "def filter_hosp_prescriptions(df):\n",
        "    return df[['subject_id', 'drug', 'route']]\n",
        "\n",
        "def filter_hosp_service(df):\n",
        "    return df[['subject_id', 'curr_service']]\n",
        "\n",
        "def filter_icu_icustays(df):\n",
        "    return df.drop(['intime', 'outtime'], axis=1)\n",
        "\n",
        "def filter_icu_chartevents(df):\n",
        "    return df.drop(['charttime', 'storetime', 'value', 'valuenum', 'valueuom', 'warning'], axis=1)\n"
      ],
      "metadata": {
        "id": "_xqcL6kbxXcr"
      },
      "execution_count": 3,
      "outputs": []
    },
    {
      "cell_type": "code",
      "source": [
        "# Process and display core admissions data\n",
        "df_admission = read_parquet_file('admissions.parquet')\n",
        "if df_admission is not None:\n",
        "    df_admission = filter_core_admission(df_admission)\n",
        "    print(f\"Number of admissions: {df_admission.shape[0].compute()}\")\n",
        "    for chunk in df_admission.to_delayed():\n",
        "        chunk_df = chunk.compute()\n",
        "        print(chunk_df.head())\n",
        "\n",
        "# Process and display core patients data\n",
        "df_patient = read_parquet_file('patients.parquet')\n",
        "if df_patient is not None:\n",
        "    df_patient = filter_core_patients(df_patient)\n",
        "    print(f\"Number of patients: {df_patient.shape[0].compute()}\")\n",
        "    for chunk in df_patient.to_delayed():\n",
        "        chunk_df = chunk.compute()\n",
        "        print(chunk_df.head())\n",
        "\n",
        "# Process and display core transfers data\n",
        "df_transfers = read_parquet_file('transfers.parquet')\n",
        "if df_transfers is not None:\n",
        "    df_transfers = filter_core_transfers(df_transfers)\n",
        "    print(f\"Number of transfers: {df_transfers.shape[0].compute()}\")\n",
        "    for chunk in df_transfers.to_delayed():\n",
        "        chunk_df = chunk.compute()\n",
        "        print(chunk_df.head())\n",
        "\n",
        "# Process and display hospital diagnoses_icd data\n",
        "df_diagnoses_icd = read_parquet_file('diagnoses_icd.parquet')\n",
        "if df_diagnoses_icd is not None:\n",
        "    df_diagnoses_icd = filter_hosp_diagnoses_icd(df_diagnoses_icd)\n",
        "    print(f\"Number of diagnoses_icd: {df_diagnoses_icd.shape[0].compute()}\")\n",
        "    for chunk in df_diagnoses_icd.to_delayed():\n",
        "        chunk_df = chunk.compute()\n",
        "        print(chunk_df.head())\n",
        "\n",
        "\n",
        "\n",
        "\n",
        "\n",
        "#\n",
        "\n",
        "\n"
      ],
      "metadata": {
        "colab": {
          "base_uri": "https://localhost:8080/"
        },
        "id": "XJii230Gvr5U",
        "outputId": "9a697263-05a1-41c4-8602-25040d3e7afc"
      },
      "execution_count": null,
      "outputs": [
        {
          "output_type": "stream",
          "name": "stdout",
          "text": [
            "Number of admissions: 431089\n",
            "   subject_id   hadm_id  admission_type admit_provider_id  \\\n",
            "0    10000032  22595853          URGENT            P874LG   \n",
            "1    10000032  22841357        EW EMER.            P09Q6Y   \n",
            "2    10000032  25742920        EW EMER.            P60CC5   \n",
            "3    10000032  29079034        EW EMER.            P30KEH   \n",
            "4    10000068  25022803  EU OBSERVATION            P51VDL   \n",
            "\n",
            "       admission_location discharge_location insurance language  \\\n",
            "0  TRANSFER FROM HOSPITAL               HOME     Other  ENGLISH   \n",
            "1          EMERGENCY ROOM               HOME  Medicaid  ENGLISH   \n",
            "2          EMERGENCY ROOM            HOSPICE  Medicaid  ENGLISH   \n",
            "3          EMERGENCY ROOM               HOME  Medicaid  ENGLISH   \n",
            "4          EMERGENCY ROOM               <NA>     Other  ENGLISH   \n",
            "\n",
            "  marital_status   race  hospital_expire_flag  los_admission  \n",
            "0        WIDOWED  WHITE                     0       0.786111  \n",
            "1        WIDOWED  WHITE                     0       1.015278  \n",
            "2        WIDOWED  WHITE                     0       1.754167  \n",
            "3        WIDOWED  WHITE                     0       2.222222  \n",
            "4         SINGLE  WHITE                     0       0.298611  \n",
            "Number of patients: 299712\n",
            "   subject_id gender  anchor_age  anchor_year anchor_year_group\n",
            "0    10000032      F          52         2180       2014 - 2016\n",
            "1    10000048      F          23         2126       2008 - 2010\n",
            "2    10000068      F          19         2160       2008 - 2010\n",
            "3    10000084      M          72         2160       2017 - 2019\n",
            "4    10000102      F          27         2136       2008 - 2010\n",
            "Number of transfers: 1890972\n",
            "   subject_id     hadm_id  transfer_id  eventtype              careunit\n",
            "0    10000032  22595853.0     33258284         ED  Emergency Department\n",
            "1    10000032  22595853.0     35223874      admit            Transplant\n",
            "2    10000032  22595853.0     36904543  discharge                  <NA>\n",
            "3    10000032  22841357.0     34100253  discharge                  <NA>\n",
            "4    10000032  22841357.0     34703856      admit            Transplant\n",
            "Number of diagnoses_icd: 4756326\n",
            "   subject_id   hadm_id icd_code\n",
            "0    10000032  22595853     5723\n",
            "1    10000032  22595853    78959\n",
            "2    10000032  22595853     5715\n",
            "3    10000032  22595853    07070\n",
            "4    10000032  22595853      496\n"
          ]
        }
      ]
    },
    {
      "cell_type": "code",
      "source": [
        "# Process and display hospital procedures_icd data\n",
        "df_procedures_icd = read_parquet_file('procedures_icd.parquet')\n",
        "if df_procedures_icd is not None:\n",
        "    df_procedures_icd = filter_hosp_procedures_icd(df_procedures_icd)\n",
        "    print(f\"Number of procedures_icd: {df_procedures_icd.shape[0].compute()}\")\n",
        "    for chunk in df_procedures_icd.to_delayed():\n",
        "        chunk_df = chunk.compute()\n",
        "        print(chunk_df.head())\n",
        "\n",
        "# Process and display hospital lab_events data\n",
        "df_lab_events = read_parquet_file('labevents.parquet')\n",
        "if df_lab_events is not None:\n",
        "    df_lab_events = filter_hosp_lab_events(df_lab_events)\n",
        "    print(f\"Number of lab_events: {df_lab_events.shape[0].compute()}\")\n",
        "    for chunk in df_lab_events.to_delayed():\n",
        "        chunk_df = chunk.compute()\n",
        "        print(chunk_df.head())"
      ],
      "metadata": {
        "colab": {
          "base_uri": "https://localhost:8080/"
        },
        "id": "uwX18FXQwPwY",
        "outputId": "6b20ff20-5092-4547-c466-3e019d625d03"
      },
      "execution_count": null,
      "outputs": [
        {
          "output_type": "stream",
          "name": "stdout",
          "text": [
            "Number of procedures_icd: 669186\n",
            "   subject_id   hadm_id icd_code\n",
            "0    10000032  22595853     5491\n",
            "1    10000032  22841357     5491\n",
            "2    10000032  25742920     5491\n",
            "3    10000068  25022803     8938\n",
            "4    10000117  27988844  0QS734Z\n"
          ]
        }
      ]
    },
    {
      "cell_type": "code",
      "source": [
        "# Process and display hospital drgcodes data\n",
        "df_drgcodes = read_parquet_file('drgcodes.parquet')\n",
        "if df_drgcodes is not None:\n",
        "    df_drgcodes = filter_hosp_drgcodes(df_drgcodes)\n",
        "    print(f\"Number of drgcodes: {df_drgcodes.shape[0].compute()}\")\n",
        "    for chunk in df_drgcodes.to_delayed():\n",
        "        chunk_df = chunk.compute()\n",
        "        print(chunk_df.head())\n",
        "\n",
        "# Process and display hospital emar data\n",
        "df_emar = read_parquet_file('emar.parquet')\n",
        "if df_emar is not None:\n",
        "    df_emar = filter_hosp_emar(df_emar)\n",
        "    print(f\"Number of emar: {df_emar.shape[0].compute()}\")\n",
        "    for chunk in df_emar.to_delayed():\n",
        "        chunk_df = chunk.compute()\n",
        "        print(chunk_df.head())\n"
      ],
      "metadata": {
        "colab": {
          "base_uri": "https://localhost:8080/"
        },
        "id": "UBBxjFxcwsgB",
        "outputId": "83f1b387-1a66-4323-9f7c-51bd4559a717"
      },
      "execution_count": null,
      "outputs": [
        {
          "output_type": "stream",
          "name": "stdout",
          "text": [
            "Number of drgcodes: 604377\n",
            "   subject_id   hadm_id drg_type drg_code\n",
            "0    10000032  22595853      APR      283\n",
            "1    10000032  22595853     HCFA      442\n",
            "2    10000032  22841357      APR      279\n",
            "3    10000032  22841357     HCFA      442\n",
            "4    10000032  25742920      APR      283\n",
            "Number of emar: 26850359\n",
            "   subject_id                         medication     event_txt\n",
            "0    10000032                 Potassium Chloride  Administered\n",
            "1    10000032        Sodium Chloride 0.9%  Flush       Flushed\n",
            "2    10000032            Ipratropium Bromide Neb  Administered\n",
            "3    10000032                  Albuterol Inhaler  Administered\n",
            "4    10000032  Emtricitabine-Tenofovir (Truvada)  Administered\n"
          ]
        }
      ]
    }
  ]
}