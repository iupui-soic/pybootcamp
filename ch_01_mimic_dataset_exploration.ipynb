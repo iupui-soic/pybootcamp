{
  "cells": [
    {
      "cell_type": "markdown",
      "metadata": {
        "id": "view-in-github",
        "colab_type": "text"
      },
      "source": [
        "<a href=\"https://colab.research.google.com/github/iupui-soic/pybootcamp/blob/main/ch_01_mimic_dataset_exploration.ipynb\" target=\"_parent\"><img src=\"https://colab.research.google.com/assets/colab-badge.svg\" alt=\"Open In Colab\"/></a>"
      ]
    },
    {
      "cell_type": "code",
      "source": [
        "!git clone https://github.com/iupui-soic/handson-ml-mimic-iv.git"
      ],
      "metadata": {
        "colab": {
          "base_uri": "https://localhost:8080/"
        },
        "id": "-j8-bsBdpxgs",
        "outputId": "797a1859-8021-468b-e435-c0c42e024f32"
      },
      "id": "-j8-bsBdpxgs",
      "execution_count": 1,
      "outputs": [
        {
          "output_type": "stream",
          "name": "stdout",
          "text": [
            "Cloning into 'handson-ml-mimic-iv'...\n",
            "remote: Enumerating objects: 83, done.\u001b[K\n",
            "remote: Counting objects: 100% (83/83), done.\u001b[K\n",
            "remote: Compressing objects: 100% (68/68), done.\u001b[K\n",
            "remote: Total 83 (delta 29), reused 40 (delta 13), pack-reused 0\u001b[K\n",
            "Receiving objects: 100% (83/83), 3.86 MiB | 5.98 MiB/s, done.\n",
            "Resolving deltas: 100% (29/29), done.\n"
          ]
        }
      ]
    },
    {
      "cell_type": "code",
      "source": [
        "import os\n",
        "print(os.getcwd())"
      ],
      "metadata": {
        "colab": {
          "base_uri": "https://localhost:8080/"
        },
        "id": "DGyldoZFMyEr",
        "outputId": "e9fceb18-9a9c-4de9-fcae-b5ae7d4d2376"
      },
      "id": "DGyldoZFMyEr",
      "execution_count": 4,
      "outputs": [
        {
          "output_type": "stream",
          "name": "stdout",
          "text": [
            "/content\n"
          ]
        }
      ]
    },
    {
      "cell_type": "code",
      "source": [
        "import os\n",
        "os.chdir('/content/handson-ml-mimic-iv')"
      ],
      "metadata": {
        "id": "dPwHgWd2NQqo"
      },
      "id": "dPwHgWd2NQqo",
      "execution_count": 5,
      "outputs": []
    },
    {
      "cell_type": "code",
      "execution_count": 6,
      "id": "99d5cd8a",
      "metadata": {
        "id": "99d5cd8a"
      },
      "outputs": [],
      "source": [
        "from mimic.mimic import MIMIC, MIMICManipulations"
      ]
    },
    {
      "cell_type": "code",
      "source": [
        "from google.colab import drive\n",
        "drive.mount('/content/drive')"
      ],
      "metadata": {
        "colab": {
          "base_uri": "https://localhost:8080/"
        },
        "id": "PmK6irzXpGlU",
        "outputId": "29739928-952c-4279-aa5c-33edc4e90cb1"
      },
      "id": "PmK6irzXpGlU",
      "execution_count": 3,
      "outputs": [
        {
          "output_type": "stream",
          "name": "stdout",
          "text": [
            "Mounted at /content/drive\n"
          ]
        }
      ]
    },
    {
      "cell_type": "code",
      "source": [
        "!pip install dask[complete] --quiet"
      ],
      "metadata": {
        "colab": {
          "base_uri": "https://localhost:8080/"
        },
        "id": "LQlqrfMXoS3h",
        "outputId": "7301fb7b-de90-436c-efb3-0a7f8a53f538"
      },
      "id": "LQlqrfMXoS3h",
      "execution_count": 7,
      "outputs": [
        {
          "output_type": "stream",
          "name": "stdout",
          "text": [
            "\u001b[?25l     \u001b[90m━━━━━━━━━━━━━━━━━━━━━━━━━━━━━━━━━━━━━━━━\u001b[0m \u001b[32m0.0/1.3 MB\u001b[0m \u001b[31m?\u001b[0m eta \u001b[36m-:--:--\u001b[0m\r\u001b[2K     \u001b[91m━━━━━━━\u001b[0m\u001b[90m╺\u001b[0m\u001b[90m━━━━━━━━━━━━━━━━━━━━━━━━━━━━━━━━\u001b[0m \u001b[32m0.2/1.3 MB\u001b[0m \u001b[31m7.1 MB/s\u001b[0m eta \u001b[36m0:00:01\u001b[0m\r\u001b[2K     \u001b[90m━━━━━━━━━━━━━━━━━━━━━━━━━━━━━━━━━━━━━━━━\u001b[0m \u001b[32m1.3/1.3 MB\u001b[0m \u001b[31m19.1 MB/s\u001b[0m eta \u001b[36m0:00:00\u001b[0m\n",
            "\u001b[?25h"
          ]
        }
      ]
    },
    {
      "cell_type": "code",
      "execution_count": 8,
      "id": "01425f93",
      "metadata": {
        "id": "01425f93"
      },
      "outputs": [],
      "source": [
        "import os\n",
        "import dask.dataframe as dd\n",
        "import pandas as pd"
      ]
    },
    {
      "cell_type": "code",
      "source": [
        "#\n",
        "dataset_path = '/content/drive/MyDrive/mimiv-iv'\n",
        "\n",
        "def read_parquet_file(file_path):\n",
        "    full_path = os.path.join(dataset_path, file_path)\n",
        "    if os.path.exists(full_path):\n",
        "        return dd.read_parquet(full_path)\n",
        "    else:\n",
        "        print(f\"Given file path {full_path} doesn't exist.\")\n",
        "        return None\n",
        "\n",
        "def read_core_admissions_parquet():\n",
        "    return read_parquet_file('admissions.parquet')\n",
        "\n",
        "def read_core_patients_parquet():\n",
        "    return read_parquet_file('patients.parquet')\n",
        "\n",
        "def read_core_transfers_parquet():\n",
        "    return read_parquet_file('transfers.parquet')\n",
        "\n",
        "def read_hosp_d_hcpcs_parquet():\n",
        "    return read_parquet_file('d_hcpcs.parquet')\n",
        "\n",
        "def read_hosp_d_icd_diagnoses_parquet():\n",
        "    return read_parquet_file('d_icd_diagnoses.parquet')\n",
        "\n",
        "def read_hosp_d_icd_procedures_parquet():\n",
        "    return read_parquet_file('d_icd_procedures.parquet')\n",
        "\n",
        "def read_hosp_d_labitems_parquet():\n",
        "    return read_parquet_file('d_labitems.parquet')\n",
        "\n",
        "def read_hosp_diagnoses_icd_parquet():\n",
        "    return read_parquet_file('diagnoses_icd.parquet')\n",
        "\n",
        "def read_hosp_drgcodes_parquet():\n",
        "    return read_parquet_file('drgcodes.parquet')\n",
        "\n",
        "def read_hosp_emar_parquet():\n",
        "    return read_parquet_file('emar.parquet')\n",
        "\n",
        "def read_hosp_emar_detail_parquet():\n",
        "    return read_parquet_file('emar_detail.parquet')\n",
        "\n",
        "def read_hosp_hcpcsevents_parquet():\n",
        "    return read_parquet_file('hcpcsevents.parquet')\n",
        "\n",
        "def read_hosp_labevents_parquet():\n",
        "    return read_parquet_file('labevents.parquet')\n",
        "\n",
        "def read_hosp_microbiologyevents_parquet():\n",
        "    return read_parquet_file('microbiologyevents.parquet')\n",
        "\n",
        "def read_hosp_pharmacy_parquet():\n",
        "    return read_parquet_file('pharmacy.parquet')\n",
        "\n",
        "def read_hosp_poe_parquet():\n",
        "    return read_parquet_file('poe.parquet')\n",
        "\n",
        "def read_hosp_poe_detail_parquet():\n",
        "    return read_parquet_file('poe_detail.parquet')\n",
        "\n",
        "def read_hosp_prescriptions_parquet():\n",
        "    return read_parquet_file('prescriptions.parquet')\n",
        "\n",
        "def read_hosp_procedures_icd_parquet():\n",
        "    return read_parquet_file('procedures_icd.parquet')\n",
        "\n",
        "def read_hosp_services_parquet():\n",
        "    return read_parquet_file('services.parquet')\n",
        "\n",
        "def read_icu_chartevents_parquet():\n",
        "    return read_parquet_file('chartevents.parquet')\n",
        "\n",
        "def read_icu_d_items_parquet():\n",
        "    return read_parquet_file('d_items.parquet')\n",
        "\n",
        "def read_icu_datetimeevents_parquet():\n",
        "    return read_parquet_file('datetimeevents.parquet')\n",
        "\n",
        "def read_icu_icustays_parquet():\n",
        "    return read_parquet_file('icustays.parquet')\n",
        "\n",
        "def read_icu_inputevents_parquet():\n",
        "    return read_parquet_file('inputevents.parquet')\n",
        "\n",
        "def read_icu_outputevents_parquet():\n",
        "    return read_parquet_file('outputevents.parquet')\n",
        "\n",
        "def read_icu_procedureevents_parquet():\n",
        "    return read_parquet_file('procedureevents.parquet')"
      ],
      "metadata": {
        "id": "Hw23nlzGogAk"
      },
      "id": "Hw23nlzGogAk",
      "execution_count": 9,
      "outputs": []
    },
    {
      "cell_type": "code",
      "execution_count": 7,
      "id": "4329a04e",
      "metadata": {
        "colab": {
          "base_uri": "https://localhost:8080/"
        },
        "id": "4329a04e",
        "outputId": "d7d42f55-1849-4c51-a45d-f3b6190104c8"
      },
      "outputs": [
        {
          "output_type": "stream",
          "name": "stdout",
          "text": [
            "MIMIC dataset found at path : /content/drive/MyDrive/mimiv-iv\n"
          ]
        }
      ],
      "source": [
        "mimic_instance = MIMIC('/content/drive/MyDrive/mimiv-iv')"
      ]
    },
    {
      "cell_type": "code",
      "execution_count": 8,
      "id": "c030b0e2",
      "metadata": {
        "id": "c030b0e2",
        "colab": {
          "base_uri": "https://localhost:8080/"
        },
        "outputId": "3cdc5654-18cd-4992-9f8f-01ff5e514acc"
      },
      "outputs": [
        {
          "output_type": "stream",
          "name": "stdout",
          "text": [
            "MIMIC dataset found at path : /content/drive/MyDrive/mimiv-iv\n"
          ]
        }
      ],
      "source": [
        "mimic_manipulation_instance = MIMICManipulations('/content/drive/MyDrive/mimiv-iv')"
      ]
    },
    {
      "cell_type": "markdown",
      "id": "ac2bedfa",
      "metadata": {
        "id": "ac2bedfa"
      },
      "source": [
        "# MIMIC Core Admissions"
      ]
    },
    {
      "cell_type": "code",
      "execution_count": 11,
      "id": "a78ee5df",
      "metadata": {
        "id": "a78ee5df",
        "colab": {
          "base_uri": "https://localhost:8080/"
        },
        "outputId": "088e72ed-3fe3-4819-8b07-714a6bc93785"
      },
      "outputs": [
        {
          "output_type": "stream",
          "name": "stdout",
          "text": [
            "   subject_id   hadm_id           admittime           dischtime deathtime  \\\n",
            "0    10000032  22595853 2180-05-06 22:23:00 2180-05-07 17:15:00       NaT   \n",
            "1    10000032  22841357 2180-06-26 18:27:00 2180-06-27 18:49:00       NaT   \n",
            "2    10000032  25742920 2180-08-05 23:44:00 2180-08-07 17:50:00       NaT   \n",
            "3    10000032  29079034 2180-07-23 12:35:00 2180-07-25 17:55:00       NaT   \n",
            "4    10000068  25022803 2160-03-03 23:16:00 2160-03-04 06:26:00       NaT   \n",
            "\n",
            "   admission_type admit_provider_id      admission_location  \\\n",
            "0          URGENT            P874LG  TRANSFER FROM HOSPITAL   \n",
            "1        EW EMER.            P09Q6Y          EMERGENCY ROOM   \n",
            "2        EW EMER.            P60CC5          EMERGENCY ROOM   \n",
            "3        EW EMER.            P30KEH          EMERGENCY ROOM   \n",
            "4  EU OBSERVATION            P51VDL          EMERGENCY ROOM   \n",
            "\n",
            "  discharge_location insurance language marital_status   race  \\\n",
            "0               HOME     Other  ENGLISH        WIDOWED  WHITE   \n",
            "1               HOME  Medicaid  ENGLISH        WIDOWED  WHITE   \n",
            "2            HOSPICE  Medicaid  ENGLISH        WIDOWED  WHITE   \n",
            "3               HOME  Medicaid  ENGLISH        WIDOWED  WHITE   \n",
            "4               <NA>     Other  ENGLISH         SINGLE  WHITE   \n",
            "\n",
            "            edregtime           edouttime  hospital_expire_flag  \n",
            "0 2180-05-06 19:17:00 2180-05-06 23:30:00                     0  \n",
            "1 2180-06-26 15:54:00 2180-06-26 21:31:00                     0  \n",
            "2 2180-08-05 20:58:00 2180-08-06 01:44:00                     0  \n",
            "3 2180-07-23 05:54:00 2180-07-23 14:00:00                     0  \n",
            "4 2160-03-03 21:55:00 2160-03-04 06:26:00                     0  \n"
          ]
        }
      ],
      "source": [
        "\n",
        "# Read core admissions data\n",
        "df_admissions = read_core_admissions_parquet()\n",
        "\n",
        "# Process in chunks\n",
        "for chunk in df_admissions.to_delayed():\n",
        "    chunk_df = chunk.compute()\n",
        "    print(chunk_df.head())"
      ]
    },
    {
      "cell_type": "code",
      "source": [
        "\n",
        "# Select specific columns and process in chunks\n",
        "for chunk in df_admissions[['subject_id', 'hadm_id', 'admittime', 'dischtime', 'admission_type',\n",
        "                            'admission_location', 'discharge_location', 'insurance', 'language',\n",
        "                            'marital_status', 'hospital_expire_flag']].to_delayed():\n",
        "    chunk_df = chunk.compute()\n",
        "    print(chunk_df.head())"
      ],
      "metadata": {
        "colab": {
          "base_uri": "https://localhost:8080/"
        },
        "id": "M6hc3FYgpHaG",
        "outputId": "db2e895c-eada-41c2-f350-ba0ba8e67709"
      },
      "id": "M6hc3FYgpHaG",
      "execution_count": 14,
      "outputs": [
        {
          "output_type": "stream",
          "name": "stdout",
          "text": [
            "   subject_id   hadm_id           admittime           dischtime  \\\n",
            "0    10000032  22595853 2180-05-06 22:23:00 2180-05-07 17:15:00   \n",
            "1    10000032  22841357 2180-06-26 18:27:00 2180-06-27 18:49:00   \n",
            "2    10000032  25742920 2180-08-05 23:44:00 2180-08-07 17:50:00   \n",
            "3    10000032  29079034 2180-07-23 12:35:00 2180-07-25 17:55:00   \n",
            "4    10000068  25022803 2160-03-03 23:16:00 2160-03-04 06:26:00   \n",
            "\n",
            "   admission_type      admission_location discharge_location insurance  \\\n",
            "0          URGENT  TRANSFER FROM HOSPITAL               HOME     Other   \n",
            "1        EW EMER.          EMERGENCY ROOM               HOME  Medicaid   \n",
            "2        EW EMER.          EMERGENCY ROOM            HOSPICE  Medicaid   \n",
            "3        EW EMER.          EMERGENCY ROOM               HOME  Medicaid   \n",
            "4  EU OBSERVATION          EMERGENCY ROOM               <NA>     Other   \n",
            "\n",
            "  language marital_status  hospital_expire_flag  \n",
            "0  ENGLISH        WIDOWED                     0  \n",
            "1  ENGLISH        WIDOWED                     0  \n",
            "2  ENGLISH        WIDOWED                     0  \n",
            "3  ENGLISH        WIDOWED                     0  \n",
            "4  ENGLISH         SINGLE                     0  \n"
          ]
        }
      ]
    },
    {
      "cell_type": "code",
      "execution_count": 37,
      "id": "47b5de34",
      "metadata": {
        "colab": {
          "base_uri": "https://localhost:8080/",
          "height": 399
        },
        "id": "47b5de34",
        "outputId": "f2915e12-39dd-44fc-b247-ca7f3e713c9f"
      },
      "outputs": [
        {
          "output_type": "execute_result",
          "data": {
            "text/plain": [
              "   subject_id   hadm_id           admittime           dischtime  \\\n",
              "0    10000032  22595853 2180-05-06 22:23:00 2180-05-07 17:15:00   \n",
              "1    10000032  22841357 2180-06-26 18:27:00 2180-06-27 18:49:00   \n",
              "2    10000032  25742920 2180-08-05 23:44:00 2180-08-07 17:50:00   \n",
              "3    10000032  29079034 2180-07-23 12:35:00 2180-07-25 17:55:00   \n",
              "4    10000068  25022803 2160-03-03 23:16:00 2160-03-04 06:26:00   \n",
              "\n",
              "   admission_type      admission_location discharge_location insurance  \\\n",
              "0          URGENT  TRANSFER FROM HOSPITAL               HOME     Other   \n",
              "1        EW EMER.          EMERGENCY ROOM               HOME  Medicaid   \n",
              "2        EW EMER.          EMERGENCY ROOM            HOSPICE  Medicaid   \n",
              "3        EW EMER.          EMERGENCY ROOM               HOME  Medicaid   \n",
              "4  EU OBSERVATION          EMERGENCY ROOM               <NA>     Other   \n",
              "\n",
              "  language marital_status  hospital_expire_flag  \n",
              "0  ENGLISH        WIDOWED                     0  \n",
              "1  ENGLISH        WIDOWED                     0  \n",
              "2  ENGLISH        WIDOWED                     0  \n",
              "3  ENGLISH        WIDOWED                     0  \n",
              "4  ENGLISH         SINGLE                     0  "
            ],
            "text/html": [
              "\n",
              "  <div id=\"df-2bd8c503-2819-43ce-88a9-a1fdf93a9f4b\" class=\"colab-df-container\">\n",
              "    <div>\n",
              "<style scoped>\n",
              "    .dataframe tbody tr th:only-of-type {\n",
              "        vertical-align: middle;\n",
              "    }\n",
              "\n",
              "    .dataframe tbody tr th {\n",
              "        vertical-align: top;\n",
              "    }\n",
              "\n",
              "    .dataframe thead th {\n",
              "        text-align: right;\n",
              "    }\n",
              "</style>\n",
              "<table border=\"1\" class=\"dataframe\">\n",
              "  <thead>\n",
              "    <tr style=\"text-align: right;\">\n",
              "      <th></th>\n",
              "      <th>subject_id</th>\n",
              "      <th>hadm_id</th>\n",
              "      <th>admittime</th>\n",
              "      <th>dischtime</th>\n",
              "      <th>admission_type</th>\n",
              "      <th>admission_location</th>\n",
              "      <th>discharge_location</th>\n",
              "      <th>insurance</th>\n",
              "      <th>language</th>\n",
              "      <th>marital_status</th>\n",
              "      <th>hospital_expire_flag</th>\n",
              "    </tr>\n",
              "  </thead>\n",
              "  <tbody>\n",
              "    <tr>\n",
              "      <th>0</th>\n",
              "      <td>10000032</td>\n",
              "      <td>22595853</td>\n",
              "      <td>2180-05-06 22:23:00</td>\n",
              "      <td>2180-05-07 17:15:00</td>\n",
              "      <td>URGENT</td>\n",
              "      <td>TRANSFER FROM HOSPITAL</td>\n",
              "      <td>HOME</td>\n",
              "      <td>Other</td>\n",
              "      <td>ENGLISH</td>\n",
              "      <td>WIDOWED</td>\n",
              "      <td>0</td>\n",
              "    </tr>\n",
              "    <tr>\n",
              "      <th>1</th>\n",
              "      <td>10000032</td>\n",
              "      <td>22841357</td>\n",
              "      <td>2180-06-26 18:27:00</td>\n",
              "      <td>2180-06-27 18:49:00</td>\n",
              "      <td>EW EMER.</td>\n",
              "      <td>EMERGENCY ROOM</td>\n",
              "      <td>HOME</td>\n",
              "      <td>Medicaid</td>\n",
              "      <td>ENGLISH</td>\n",
              "      <td>WIDOWED</td>\n",
              "      <td>0</td>\n",
              "    </tr>\n",
              "    <tr>\n",
              "      <th>2</th>\n",
              "      <td>10000032</td>\n",
              "      <td>25742920</td>\n",
              "      <td>2180-08-05 23:44:00</td>\n",
              "      <td>2180-08-07 17:50:00</td>\n",
              "      <td>EW EMER.</td>\n",
              "      <td>EMERGENCY ROOM</td>\n",
              "      <td>HOSPICE</td>\n",
              "      <td>Medicaid</td>\n",
              "      <td>ENGLISH</td>\n",
              "      <td>WIDOWED</td>\n",
              "      <td>0</td>\n",
              "    </tr>\n",
              "    <tr>\n",
              "      <th>3</th>\n",
              "      <td>10000032</td>\n",
              "      <td>29079034</td>\n",
              "      <td>2180-07-23 12:35:00</td>\n",
              "      <td>2180-07-25 17:55:00</td>\n",
              "      <td>EW EMER.</td>\n",
              "      <td>EMERGENCY ROOM</td>\n",
              "      <td>HOME</td>\n",
              "      <td>Medicaid</td>\n",
              "      <td>ENGLISH</td>\n",
              "      <td>WIDOWED</td>\n",
              "      <td>0</td>\n",
              "    </tr>\n",
              "    <tr>\n",
              "      <th>4</th>\n",
              "      <td>10000068</td>\n",
              "      <td>25022803</td>\n",
              "      <td>2160-03-03 23:16:00</td>\n",
              "      <td>2160-03-04 06:26:00</td>\n",
              "      <td>EU OBSERVATION</td>\n",
              "      <td>EMERGENCY ROOM</td>\n",
              "      <td>&lt;NA&gt;</td>\n",
              "      <td>Other</td>\n",
              "      <td>ENGLISH</td>\n",
              "      <td>SINGLE</td>\n",
              "      <td>0</td>\n",
              "    </tr>\n",
              "  </tbody>\n",
              "</table>\n",
              "</div>\n",
              "    <div class=\"colab-df-buttons\">\n",
              "\n",
              "  <div class=\"colab-df-container\">\n",
              "    <button class=\"colab-df-convert\" onclick=\"convertToInteractive('df-2bd8c503-2819-43ce-88a9-a1fdf93a9f4b')\"\n",
              "            title=\"Convert this dataframe to an interactive table.\"\n",
              "            style=\"display:none;\">\n",
              "\n",
              "  <svg xmlns=\"http://www.w3.org/2000/svg\" height=\"24px\" viewBox=\"0 -960 960 960\">\n",
              "    <path d=\"M120-120v-720h720v720H120Zm60-500h600v-160H180v160Zm220 220h160v-160H400v160Zm0 220h160v-160H400v160ZM180-400h160v-160H180v160Zm440 0h160v-160H620v160ZM180-180h160v-160H180v160Zm440 0h160v-160H620v160Z\"/>\n",
              "  </svg>\n",
              "    </button>\n",
              "\n",
              "  <style>\n",
              "    .colab-df-container {\n",
              "      display:flex;\n",
              "      gap: 12px;\n",
              "    }\n",
              "\n",
              "    .colab-df-convert {\n",
              "      background-color: #E8F0FE;\n",
              "      border: none;\n",
              "      border-radius: 50%;\n",
              "      cursor: pointer;\n",
              "      display: none;\n",
              "      fill: #1967D2;\n",
              "      height: 32px;\n",
              "      padding: 0 0 0 0;\n",
              "      width: 32px;\n",
              "    }\n",
              "\n",
              "    .colab-df-convert:hover {\n",
              "      background-color: #E2EBFA;\n",
              "      box-shadow: 0px 1px 2px rgba(60, 64, 67, 0.3), 0px 1px 3px 1px rgba(60, 64, 67, 0.15);\n",
              "      fill: #174EA6;\n",
              "    }\n",
              "\n",
              "    .colab-df-buttons div {\n",
              "      margin-bottom: 4px;\n",
              "    }\n",
              "\n",
              "    [theme=dark] .colab-df-convert {\n",
              "      background-color: #3B4455;\n",
              "      fill: #D2E3FC;\n",
              "    }\n",
              "\n",
              "    [theme=dark] .colab-df-convert:hover {\n",
              "      background-color: #434B5C;\n",
              "      box-shadow: 0px 1px 3px 1px rgba(0, 0, 0, 0.15);\n",
              "      filter: drop-shadow(0px 1px 2px rgba(0, 0, 0, 0.3));\n",
              "      fill: #FFFFFF;\n",
              "    }\n",
              "  </style>\n",
              "\n",
              "    <script>\n",
              "      const buttonEl =\n",
              "        document.querySelector('#df-2bd8c503-2819-43ce-88a9-a1fdf93a9f4b button.colab-df-convert');\n",
              "      buttonEl.style.display =\n",
              "        google.colab.kernel.accessAllowed ? 'block' : 'none';\n",
              "\n",
              "      async function convertToInteractive(key) {\n",
              "        const element = document.querySelector('#df-2bd8c503-2819-43ce-88a9-a1fdf93a9f4b');\n",
              "        const dataTable =\n",
              "          await google.colab.kernel.invokeFunction('convertToInteractive',\n",
              "                                                    [key], {});\n",
              "        if (!dataTable) return;\n",
              "\n",
              "        const docLinkHtml = 'Like what you see? Visit the ' +\n",
              "          '<a target=\"_blank\" href=https://colab.research.google.com/notebooks/data_table.ipynb>data table notebook</a>'\n",
              "          + ' to learn more about interactive tables.';\n",
              "        element.innerHTML = '';\n",
              "        dataTable['output_type'] = 'display_data';\n",
              "        await google.colab.output.renderOutput(dataTable, element);\n",
              "        const docLink = document.createElement('div');\n",
              "        docLink.innerHTML = docLinkHtml;\n",
              "        element.appendChild(docLink);\n",
              "      }\n",
              "    </script>\n",
              "  </div>\n",
              "\n",
              "\n",
              "<div id=\"df-9b573e16-bf70-4d79-9c29-e0f0af98bd79\">\n",
              "  <button class=\"colab-df-quickchart\" onclick=\"quickchart('df-9b573e16-bf70-4d79-9c29-e0f0af98bd79')\"\n",
              "            title=\"Suggest charts\"\n",
              "            style=\"display:none;\">\n",
              "\n",
              "<svg xmlns=\"http://www.w3.org/2000/svg\" height=\"24px\"viewBox=\"0 0 24 24\"\n",
              "     width=\"24px\">\n",
              "    <g>\n",
              "        <path d=\"M19 3H5c-1.1 0-2 .9-2 2v14c0 1.1.9 2 2 2h14c1.1 0 2-.9 2-2V5c0-1.1-.9-2-2-2zM9 17H7v-7h2v7zm4 0h-2V7h2v10zm4 0h-2v-4h2v4z\"/>\n",
              "    </g>\n",
              "</svg>\n",
              "  </button>\n",
              "\n",
              "<style>\n",
              "  .colab-df-quickchart {\n",
              "      --bg-color: #E8F0FE;\n",
              "      --fill-color: #1967D2;\n",
              "      --hover-bg-color: #E2EBFA;\n",
              "      --hover-fill-color: #174EA6;\n",
              "      --disabled-fill-color: #AAA;\n",
              "      --disabled-bg-color: #DDD;\n",
              "  }\n",
              "\n",
              "  [theme=dark] .colab-df-quickchart {\n",
              "      --bg-color: #3B4455;\n",
              "      --fill-color: #D2E3FC;\n",
              "      --hover-bg-color: #434B5C;\n",
              "      --hover-fill-color: #FFFFFF;\n",
              "      --disabled-bg-color: #3B4455;\n",
              "      --disabled-fill-color: #666;\n",
              "  }\n",
              "\n",
              "  .colab-df-quickchart {\n",
              "    background-color: var(--bg-color);\n",
              "    border: none;\n",
              "    border-radius: 50%;\n",
              "    cursor: pointer;\n",
              "    display: none;\n",
              "    fill: var(--fill-color);\n",
              "    height: 32px;\n",
              "    padding: 0;\n",
              "    width: 32px;\n",
              "  }\n",
              "\n",
              "  .colab-df-quickchart:hover {\n",
              "    background-color: var(--hover-bg-color);\n",
              "    box-shadow: 0 1px 2px rgba(60, 64, 67, 0.3), 0 1px 3px 1px rgba(60, 64, 67, 0.15);\n",
              "    fill: var(--button-hover-fill-color);\n",
              "  }\n",
              "\n",
              "  .colab-df-quickchart-complete:disabled,\n",
              "  .colab-df-quickchart-complete:disabled:hover {\n",
              "    background-color: var(--disabled-bg-color);\n",
              "    fill: var(--disabled-fill-color);\n",
              "    box-shadow: none;\n",
              "  }\n",
              "\n",
              "  .colab-df-spinner {\n",
              "    border: 2px solid var(--fill-color);\n",
              "    border-color: transparent;\n",
              "    border-bottom-color: var(--fill-color);\n",
              "    animation:\n",
              "      spin 1s steps(1) infinite;\n",
              "  }\n",
              "\n",
              "  @keyframes spin {\n",
              "    0% {\n",
              "      border-color: transparent;\n",
              "      border-bottom-color: var(--fill-color);\n",
              "      border-left-color: var(--fill-color);\n",
              "    }\n",
              "    20% {\n",
              "      border-color: transparent;\n",
              "      border-left-color: var(--fill-color);\n",
              "      border-top-color: var(--fill-color);\n",
              "    }\n",
              "    30% {\n",
              "      border-color: transparent;\n",
              "      border-left-color: var(--fill-color);\n",
              "      border-top-color: var(--fill-color);\n",
              "      border-right-color: var(--fill-color);\n",
              "    }\n",
              "    40% {\n",
              "      border-color: transparent;\n",
              "      border-right-color: var(--fill-color);\n",
              "      border-top-color: var(--fill-color);\n",
              "    }\n",
              "    60% {\n",
              "      border-color: transparent;\n",
              "      border-right-color: var(--fill-color);\n",
              "    }\n",
              "    80% {\n",
              "      border-color: transparent;\n",
              "      border-right-color: var(--fill-color);\n",
              "      border-bottom-color: var(--fill-color);\n",
              "    }\n",
              "    90% {\n",
              "      border-color: transparent;\n",
              "      border-bottom-color: var(--fill-color);\n",
              "    }\n",
              "  }\n",
              "</style>\n",
              "\n",
              "  <script>\n",
              "    async function quickchart(key) {\n",
              "      const quickchartButtonEl =\n",
              "        document.querySelector('#' + key + ' button');\n",
              "      quickchartButtonEl.disabled = true;  // To prevent multiple clicks.\n",
              "      quickchartButtonEl.classList.add('colab-df-spinner');\n",
              "      try {\n",
              "        const charts = await google.colab.kernel.invokeFunction(\n",
              "            'suggestCharts', [key], {});\n",
              "      } catch (error) {\n",
              "        console.error('Error during call to suggestCharts:', error);\n",
              "      }\n",
              "      quickchartButtonEl.classList.remove('colab-df-spinner');\n",
              "      quickchartButtonEl.classList.add('colab-df-quickchart-complete');\n",
              "    }\n",
              "    (() => {\n",
              "      let quickchartButtonEl =\n",
              "        document.querySelector('#df-9b573e16-bf70-4d79-9c29-e0f0af98bd79 button');\n",
              "      quickchartButtonEl.style.display =\n",
              "        google.colab.kernel.accessAllowed ? 'block' : 'none';\n",
              "    })();\n",
              "  </script>\n",
              "</div>\n",
              "\n",
              "    </div>\n",
              "  </div>\n"
            ],
            "application/vnd.google.colaboratory.intrinsic+json": {
              "type": "dataframe",
              "summary": "{\n  \"name\": \"                    'marital_status', 'hospital_expire_flag']]\",\n  \"rows\": 5,\n  \"fields\": [\n    {\n      \"column\": \"subject_id\",\n      \"properties\": {\n        \"dtype\": \"int32\",\n        \"num_unique_values\": 2,\n        \"samples\": [\n          10000068,\n          10000032\n        ],\n        \"semantic_type\": \"\",\n        \"description\": \"\"\n      }\n    },\n    {\n      \"column\": \"hadm_id\",\n      \"properties\": {\n        \"dtype\": \"int32\",\n        \"num_unique_values\": 5,\n        \"samples\": [\n          22841357,\n          25022803\n        ],\n        \"semantic_type\": \"\",\n        \"description\": \"\"\n      }\n    },\n    {\n      \"column\": \"admittime\",\n      \"properties\": {\n        \"dtype\": \"date\",\n        \"min\": \"2160-03-03 23:16:00\",\n        \"max\": \"2180-08-05 23:44:00\",\n        \"num_unique_values\": 5,\n        \"samples\": [\n          \"2180-06-26 18:27:00\",\n          \"2160-03-03 23:16:00\"\n        ],\n        \"semantic_type\": \"\",\n        \"description\": \"\"\n      }\n    },\n    {\n      \"column\": \"dischtime\",\n      \"properties\": {\n        \"dtype\": \"date\",\n        \"min\": \"2160-03-04 06:26:00\",\n        \"max\": \"2180-08-07 17:50:00\",\n        \"num_unique_values\": 5,\n        \"samples\": [\n          \"2180-06-27 18:49:00\",\n          \"2160-03-04 06:26:00\"\n        ],\n        \"semantic_type\": \"\",\n        \"description\": \"\"\n      }\n    },\n    {\n      \"column\": \"admission_type\",\n      \"properties\": {\n        \"dtype\": \"string\",\n        \"num_unique_values\": 3,\n        \"samples\": [\n          \"URGENT\",\n          \"EW EMER.\"\n        ],\n        \"semantic_type\": \"\",\n        \"description\": \"\"\n      }\n    },\n    {\n      \"column\": \"admission_location\",\n      \"properties\": {\n        \"dtype\": \"string\",\n        \"num_unique_values\": 2,\n        \"samples\": [\n          \"EMERGENCY ROOM\",\n          \"TRANSFER FROM HOSPITAL\"\n        ],\n        \"semantic_type\": \"\",\n        \"description\": \"\"\n      }\n    },\n    {\n      \"column\": \"discharge_location\",\n      \"properties\": {\n        \"dtype\": \"string\",\n        \"num_unique_values\": 2,\n        \"samples\": [\n          \"HOSPICE\",\n          \"HOME\"\n        ],\n        \"semantic_type\": \"\",\n        \"description\": \"\"\n      }\n    },\n    {\n      \"column\": \"insurance\",\n      \"properties\": {\n        \"dtype\": \"string\",\n        \"num_unique_values\": 2,\n        \"samples\": [\n          \"Medicaid\",\n          \"Other\"\n        ],\n        \"semantic_type\": \"\",\n        \"description\": \"\"\n      }\n    },\n    {\n      \"column\": \"language\",\n      \"properties\": {\n        \"dtype\": \"string\",\n        \"num_unique_values\": 1,\n        \"samples\": [\n          \"ENGLISH\"\n        ],\n        \"semantic_type\": \"\",\n        \"description\": \"\"\n      }\n    },\n    {\n      \"column\": \"marital_status\",\n      \"properties\": {\n        \"dtype\": \"string\",\n        \"num_unique_values\": 2,\n        \"samples\": [\n          \"SINGLE\"\n        ],\n        \"semantic_type\": \"\",\n        \"description\": \"\"\n      }\n    },\n    {\n      \"column\": \"hospital_expire_flag\",\n      \"properties\": {\n        \"dtype\": \"int16\",\n        \"num_unique_values\": 1,\n        \"samples\": [\n          0\n        ],\n        \"semantic_type\": \"\",\n        \"description\": \"\"\n      }\n    }\n  ]\n}"
            }
          },
          "metadata": {},
          "execution_count": 37
        }
      ],
      "source": [
        "df_admissions[['subject_id', 'hadm_id', 'admittime', 'dischtime', 'admission_type', 'admission_location', 'discharge_location', 'insurance', 'language',\n",
        "                    'marital_status', 'hospital_expire_flag']].head()"
      ]
    },
    {
      "cell_type": "code",
      "source": [
        "df_admissions.isna().sum()"
      ],
      "metadata": {
        "colab": {
          "base_uri": "https://localhost:8080/"
        },
        "id": "O-AaZGSRsUKT",
        "outputId": "8e5ee590-6c0b-4943-fc01-d66a69afee87"
      },
      "id": "O-AaZGSRsUKT",
      "execution_count": 39,
      "outputs": [
        {
          "output_type": "execute_result",
          "data": {
            "text/plain": [
              "Dask Series Structure:\n",
              "npartitions=1\n",
              "admission_location    int64\n",
              "subject_id              ...\n",
              "dtype: int64\n",
              "Dask Name: to_pyarrow_string, 5 graph layers"
            ]
          },
          "metadata": {},
          "execution_count": 39
        }
      ]
    },
    {
      "cell_type": "code",
      "source": [
        "df_admissions.describe()"
      ],
      "metadata": {
        "colab": {
          "base_uri": "https://localhost:8080/",
          "height": 178
        },
        "id": "tIYth169sl7q",
        "outputId": "08c4980c-b166-4e96-bec1-768ad21c9cff"
      },
      "id": "tIYth169sl7q",
      "execution_count": 40,
      "outputs": [
        {
          "output_type": "execute_result",
          "data": {
            "text/plain": [
              "Dask DataFrame Structure:\n",
              "              subject_id  hadm_id admittime dischtime deathtime edregtime edouttime hospital_expire_flag\n",
              "npartitions=1                                                                                           \n",
              "                 float64  float64    string    string    string    string    string              float64\n",
              "                     ...      ...       ...       ...       ...       ...       ...                  ...\n",
              "Dask Name: to_pyarrow_string, 165 graph layers"
            ],
            "text/html": [
              "<div><strong>Dask DataFrame Structure:</strong></div>\n",
              "<div>\n",
              "<style scoped>\n",
              "    .dataframe tbody tr th:only-of-type {\n",
              "        vertical-align: middle;\n",
              "    }\n",
              "\n",
              "    .dataframe tbody tr th {\n",
              "        vertical-align: top;\n",
              "    }\n",
              "\n",
              "    .dataframe thead th {\n",
              "        text-align: right;\n",
              "    }\n",
              "</style>\n",
              "<table border=\"1\" class=\"dataframe\">\n",
              "  <thead>\n",
              "    <tr style=\"text-align: right;\">\n",
              "      <th></th>\n",
              "      <th>subject_id</th>\n",
              "      <th>hadm_id</th>\n",
              "      <th>admittime</th>\n",
              "      <th>dischtime</th>\n",
              "      <th>deathtime</th>\n",
              "      <th>edregtime</th>\n",
              "      <th>edouttime</th>\n",
              "      <th>hospital_expire_flag</th>\n",
              "    </tr>\n",
              "    <tr>\n",
              "      <th>npartitions=1</th>\n",
              "      <th></th>\n",
              "      <th></th>\n",
              "      <th></th>\n",
              "      <th></th>\n",
              "      <th></th>\n",
              "      <th></th>\n",
              "      <th></th>\n",
              "      <th></th>\n",
              "    </tr>\n",
              "  </thead>\n",
              "  <tbody>\n",
              "    <tr>\n",
              "      <th></th>\n",
              "      <td>float64</td>\n",
              "      <td>float64</td>\n",
              "      <td>string</td>\n",
              "      <td>string</td>\n",
              "      <td>string</td>\n",
              "      <td>string</td>\n",
              "      <td>string</td>\n",
              "      <td>float64</td>\n",
              "    </tr>\n",
              "    <tr>\n",
              "      <th></th>\n",
              "      <td>...</td>\n",
              "      <td>...</td>\n",
              "      <td>...</td>\n",
              "      <td>...</td>\n",
              "      <td>...</td>\n",
              "      <td>...</td>\n",
              "      <td>...</td>\n",
              "      <td>...</td>\n",
              "    </tr>\n",
              "  </tbody>\n",
              "</table>\n",
              "</div>\n",
              "<div>Dask Name: to_pyarrow_string, 165 graph layers</div>"
            ]
          },
          "metadata": {},
          "execution_count": 40
        }
      ]
    },
    {
      "cell_type": "code",
      "source": [
        "df_admissions.dtypes"
      ],
      "metadata": {
        "colab": {
          "base_uri": "https://localhost:8080/"
        },
        "id": "aewmf-rMspQk",
        "outputId": "95611dfc-ffc1-47d0-ae9d-0510018475de"
      },
      "id": "aewmf-rMspQk",
      "execution_count": 41,
      "outputs": [
        {
          "output_type": "execute_result",
          "data": {
            "text/plain": [
              "subject_id                        int32\n",
              "hadm_id                           int32\n",
              "admittime                datetime64[us]\n",
              "dischtime                datetime64[us]\n",
              "deathtime                datetime64[us]\n",
              "admission_type          string[pyarrow]\n",
              "admit_provider_id       string[pyarrow]\n",
              "admission_location      string[pyarrow]\n",
              "discharge_location      string[pyarrow]\n",
              "insurance               string[pyarrow]\n",
              "language                string[pyarrow]\n",
              "marital_status          string[pyarrow]\n",
              "race                    string[pyarrow]\n",
              "edregtime                datetime64[us]\n",
              "edouttime                datetime64[us]\n",
              "hospital_expire_flag              int16\n",
              "dtype: object"
            ]
          },
          "metadata": {},
          "execution_count": 41
        }
      ]
    },
    {
      "cell_type": "code",
      "source": [
        "df_admissions.shape"
      ],
      "metadata": {
        "colab": {
          "base_uri": "https://localhost:8080/"
        },
        "id": "SiQv1tpYxYoA",
        "outputId": "1ac1aed5-cbf3-45c4-950a-efca293c6027"
      },
      "id": "SiQv1tpYxYoA",
      "execution_count": 127,
      "outputs": [
        {
          "output_type": "execute_result",
          "data": {
            "text/plain": [
              "(Delayed('int-9f049322-9bf3-4547-b53f-a250c35add70'), 16)"
            ]
          },
          "metadata": {},
          "execution_count": 127
        }
      ]
    },
    {
      "cell_type": "markdown",
      "source": [
        "## MIMIC Core Patients"
      ],
      "metadata": {
        "id": "-7osRN7Zo06T"
      },
      "id": "-7osRN7Zo06T"
    },
    {
      "cell_type": "code",
      "source": [
        "# Read core patients data\n",
        "df_patients = read_core_patients_parquet()\n",
        "\n",
        "# Process in chunks\n",
        "for chunk in df_patients.to_delayed():\n",
        "    chunk_df = chunk.compute()\n",
        "    print(chunk_df.head())\n"
      ],
      "metadata": {
        "colab": {
          "base_uri": "https://localhost:8080/"
        },
        "id": "NR5rV9wvo5Dl",
        "outputId": "ec8aebb5-626a-44ba-bac4-949f560231e1"
      },
      "id": "NR5rV9wvo5Dl",
      "execution_count": 12,
      "outputs": [
        {
          "output_type": "stream",
          "name": "stdout",
          "text": [
            "   subject_id gender  anchor_age  anchor_year anchor_year_group         dod\n",
            "0    10000032      F          52         2180       2014 - 2016  2180-09-09\n",
            "1    10000048      F          23         2126       2008 - 2010        <NA>\n",
            "2    10000068      F          19         2160       2008 - 2010        <NA>\n",
            "3    10000084      M          72         2160       2017 - 2019  2161-02-13\n",
            "4    10000102      F          27         2136       2008 - 2010        <NA>\n"
          ]
        }
      ]
    },
    {
      "cell_type": "code",
      "source": [
        "df_patients.isna().sum()"
      ],
      "metadata": {
        "colab": {
          "base_uri": "https://localhost:8080/"
        },
        "id": "iBN3kgXXszBW",
        "outputId": "502cf60c-02dc-4c5a-cb37-67f6d583a47f"
      },
      "id": "iBN3kgXXszBW",
      "execution_count": 42,
      "outputs": [
        {
          "output_type": "execute_result",
          "data": {
            "text/plain": [
              "Dask Series Structure:\n",
              "npartitions=1\n",
              "anchor_age    int64\n",
              "subject_id      ...\n",
              "dtype: int64\n",
              "Dask Name: to_pyarrow_string, 6 graph layers"
            ]
          },
          "metadata": {},
          "execution_count": 42
        }
      ]
    },
    {
      "cell_type": "code",
      "source": [
        "df_patients.info()"
      ],
      "metadata": {
        "colab": {
          "base_uri": "https://localhost:8080/"
        },
        "id": "PHaZh5MYs1yy",
        "outputId": "1ff66135-b67b-41b7-eb1d-a239f07ddf6b"
      },
      "id": "PHaZh5MYs1yy",
      "execution_count": 43,
      "outputs": [
        {
          "output_type": "stream",
          "name": "stdout",
          "text": [
            "<class 'dask.dataframe.core.DataFrame'>\n",
            "Columns: 6 entries, subject_id to dod\n",
            "dtypes: int16(2), int32(1), string(3)"
          ]
        }
      ]
    },
    {
      "cell_type": "code",
      "source": [
        "df_patients.describe()"
      ],
      "metadata": {
        "colab": {
          "base_uri": "https://localhost:8080/",
          "height": 178
        },
        "id": "qd2v2ZBRs3Lp",
        "outputId": "19bd79b9-f037-4cd6-950b-1c6d4da8ccd6"
      },
      "id": "qd2v2ZBRs3Lp",
      "execution_count": 44,
      "outputs": [
        {
          "output_type": "execute_result",
          "data": {
            "text/plain": [
              "Dask DataFrame Structure:\n",
              "              subject_id anchor_age anchor_year\n",
              "npartitions=1                                  \n",
              "                 float64    float64     float64\n",
              "                     ...        ...         ...\n",
              "Dask Name: to_pyarrow_string, 38 graph layers"
            ],
            "text/html": [
              "<div><strong>Dask DataFrame Structure:</strong></div>\n",
              "<div>\n",
              "<style scoped>\n",
              "    .dataframe tbody tr th:only-of-type {\n",
              "        vertical-align: middle;\n",
              "    }\n",
              "\n",
              "    .dataframe tbody tr th {\n",
              "        vertical-align: top;\n",
              "    }\n",
              "\n",
              "    .dataframe thead th {\n",
              "        text-align: right;\n",
              "    }\n",
              "</style>\n",
              "<table border=\"1\" class=\"dataframe\">\n",
              "  <thead>\n",
              "    <tr style=\"text-align: right;\">\n",
              "      <th></th>\n",
              "      <th>subject_id</th>\n",
              "      <th>anchor_age</th>\n",
              "      <th>anchor_year</th>\n",
              "    </tr>\n",
              "    <tr>\n",
              "      <th>npartitions=1</th>\n",
              "      <th></th>\n",
              "      <th></th>\n",
              "      <th></th>\n",
              "    </tr>\n",
              "  </thead>\n",
              "  <tbody>\n",
              "    <tr>\n",
              "      <th></th>\n",
              "      <td>float64</td>\n",
              "      <td>float64</td>\n",
              "      <td>float64</td>\n",
              "    </tr>\n",
              "    <tr>\n",
              "      <th></th>\n",
              "      <td>...</td>\n",
              "      <td>...</td>\n",
              "      <td>...</td>\n",
              "    </tr>\n",
              "  </tbody>\n",
              "</table>\n",
              "</div>\n",
              "<div>Dask Name: to_pyarrow_string, 38 graph layers</div>"
            ]
          },
          "metadata": {},
          "execution_count": 44
        }
      ]
    },
    {
      "cell_type": "code",
      "source": [
        "df_patients.dtypes"
      ],
      "metadata": {
        "colab": {
          "base_uri": "https://localhost:8080/"
        },
        "id": "yQibraSSs6C9",
        "outputId": "7e64b412-69b5-42d4-830f-4a16f8710e54"
      },
      "id": "yQibraSSs6C9",
      "execution_count": 45,
      "outputs": [
        {
          "output_type": "execute_result",
          "data": {
            "text/plain": [
              "subject_id                     int32\n",
              "gender               string[pyarrow]\n",
              "anchor_age                     int16\n",
              "anchor_year                    int16\n",
              "anchor_year_group    string[pyarrow]\n",
              "dod                  string[pyarrow]\n",
              "dtype: object"
            ]
          },
          "metadata": {},
          "execution_count": 45
        }
      ]
    },
    {
      "cell_type": "code",
      "source": [
        "df_patients.shape"
      ],
      "metadata": {
        "colab": {
          "base_uri": "https://localhost:8080/"
        },
        "id": "zSiqRpfIxck_",
        "outputId": "dae6c7db-882f-418b-9e6c-7e11754f1d35"
      },
      "id": "zSiqRpfIxck_",
      "execution_count": 129,
      "outputs": [
        {
          "output_type": "execute_result",
          "data": {
            "text/plain": [
              "(Delayed('int-7da120ad-b411-4ca7-80b7-69d55a77c4a6'), 6)"
            ]
          },
          "metadata": {},
          "execution_count": 129
        }
      ]
    },
    {
      "cell_type": "markdown",
      "source": [
        "## MIMIC Core transfers"
      ],
      "metadata": {
        "id": "_8XTOb-Qo-Au"
      },
      "id": "_8XTOb-Qo-Au"
    },
    {
      "cell_type": "code",
      "source": [
        "# Read core transfers data\n",
        "df_transfers = read_core_transfers_parquet()\n",
        "\n",
        "# Process in chunks\n",
        "for chunk in df_transfers.to_delayed():\n",
        "    chunk_df = chunk.compute()\n",
        "    print(chunk_df.head())"
      ],
      "metadata": {
        "colab": {
          "base_uri": "https://localhost:8080/"
        },
        "id": "t-1NcO28pBcv",
        "outputId": "0f43b05d-e1da-4588-da30-d57b30b4e62e"
      },
      "id": "t-1NcO28pBcv",
      "execution_count": 13,
      "outputs": [
        {
          "output_type": "stream",
          "name": "stdout",
          "text": [
            "   subject_id     hadm_id  transfer_id  eventtype              careunit  \\\n",
            "0    10000032  22595853.0     33258284         ED  Emergency Department   \n",
            "1    10000032  22595853.0     35223874      admit            Transplant   \n",
            "2    10000032  22595853.0     36904543  discharge                  <NA>   \n",
            "3    10000032  22841357.0     34100253  discharge                  <NA>   \n",
            "4    10000032  22841357.0     34703856      admit            Transplant   \n",
            "\n",
            "               intime             outtime  \n",
            "0 2180-05-06 19:17:00 2180-05-06 23:30:00  \n",
            "1 2180-05-06 23:30:00 2180-05-07 17:21:27  \n",
            "2 2180-05-07 17:21:27                 NaT  \n",
            "3 2180-06-27 18:49:12                 NaT  \n",
            "4 2180-06-26 21:31:00 2180-06-27 18:49:12  \n"
          ]
        }
      ]
    },
    {
      "cell_type": "code",
      "source": [
        "df_transfers.isna().sum()"
      ],
      "metadata": {
        "colab": {
          "base_uri": "https://localhost:8080/"
        },
        "id": "-JOrX3F5s8mv",
        "outputId": "22935cbc-3066-450e-ba11-c9ac0f236a87"
      },
      "id": "-JOrX3F5s8mv",
      "execution_count": 46,
      "outputs": [
        {
          "output_type": "execute_result",
          "data": {
            "text/plain": [
              "Dask Series Structure:\n",
              "npartitions=1\n",
              "careunit       int64\n",
              "transfer_id      ...\n",
              "dtype: int64\n",
              "Dask Name: to_pyarrow_string, 5 graph layers"
            ]
          },
          "metadata": {},
          "execution_count": 46
        }
      ]
    },
    {
      "cell_type": "code",
      "source": [
        "df_transfers.info()"
      ],
      "metadata": {
        "colab": {
          "base_uri": "https://localhost:8080/"
        },
        "id": "iZ2Rm5U8s8vF",
        "outputId": "0f4718e9-4052-4832-c58f-69d827730b21"
      },
      "id": "iZ2Rm5U8s8vF",
      "execution_count": 47,
      "outputs": [
        {
          "output_type": "stream",
          "name": "stdout",
          "text": [
            "<class 'dask.dataframe.core.DataFrame'>\n",
            "Columns: 7 entries, subject_id to outtime\n",
            "dtypes: datetime64[us](2), int32(3), string(2)"
          ]
        }
      ]
    },
    {
      "cell_type": "code",
      "source": [
        "df_transfers.describe()"
      ],
      "metadata": {
        "colab": {
          "base_uri": "https://localhost:8080/",
          "height": 178
        },
        "id": "RGEmERaqs82r",
        "outputId": "ddedec65-16ba-4ff2-adee-e346940df078"
      },
      "id": "RGEmERaqs82r",
      "execution_count": 48,
      "outputs": [
        {
          "output_type": "execute_result",
          "data": {
            "text/plain": [
              "Dask DataFrame Structure:\n",
              "              subject_id  hadm_id transfer_id  intime outtime\n",
              "npartitions=1                                                \n",
              "                 float64  float64     float64  string  string\n",
              "                     ...      ...         ...     ...     ...\n",
              "Dask Name: to_pyarrow_string, 102 graph layers"
            ],
            "text/html": [
              "<div><strong>Dask DataFrame Structure:</strong></div>\n",
              "<div>\n",
              "<style scoped>\n",
              "    .dataframe tbody tr th:only-of-type {\n",
              "        vertical-align: middle;\n",
              "    }\n",
              "\n",
              "    .dataframe tbody tr th {\n",
              "        vertical-align: top;\n",
              "    }\n",
              "\n",
              "    .dataframe thead th {\n",
              "        text-align: right;\n",
              "    }\n",
              "</style>\n",
              "<table border=\"1\" class=\"dataframe\">\n",
              "  <thead>\n",
              "    <tr style=\"text-align: right;\">\n",
              "      <th></th>\n",
              "      <th>subject_id</th>\n",
              "      <th>hadm_id</th>\n",
              "      <th>transfer_id</th>\n",
              "      <th>intime</th>\n",
              "      <th>outtime</th>\n",
              "    </tr>\n",
              "    <tr>\n",
              "      <th>npartitions=1</th>\n",
              "      <th></th>\n",
              "      <th></th>\n",
              "      <th></th>\n",
              "      <th></th>\n",
              "      <th></th>\n",
              "    </tr>\n",
              "  </thead>\n",
              "  <tbody>\n",
              "    <tr>\n",
              "      <th></th>\n",
              "      <td>float64</td>\n",
              "      <td>float64</td>\n",
              "      <td>float64</td>\n",
              "      <td>string</td>\n",
              "      <td>string</td>\n",
              "    </tr>\n",
              "    <tr>\n",
              "      <th></th>\n",
              "      <td>...</td>\n",
              "      <td>...</td>\n",
              "      <td>...</td>\n",
              "      <td>...</td>\n",
              "      <td>...</td>\n",
              "    </tr>\n",
              "  </tbody>\n",
              "</table>\n",
              "</div>\n",
              "<div>Dask Name: to_pyarrow_string, 102 graph layers</div>"
            ]
          },
          "metadata": {},
          "execution_count": 48
        }
      ]
    },
    {
      "cell_type": "code",
      "source": [
        "df_transfers.dtypes"
      ],
      "metadata": {
        "colab": {
          "base_uri": "https://localhost:8080/"
        },
        "id": "iya2Ty7FtEN8",
        "outputId": "9b12f88f-db8d-4309-bf20-36d4a0be2731"
      },
      "id": "iya2Ty7FtEN8",
      "execution_count": 49,
      "outputs": [
        {
          "output_type": "execute_result",
          "data": {
            "text/plain": [
              "subject_id               int32\n",
              "hadm_id                  int32\n",
              "transfer_id              int32\n",
              "eventtype      string[pyarrow]\n",
              "careunit       string[pyarrow]\n",
              "intime          datetime64[us]\n",
              "outtime         datetime64[us]\n",
              "dtype: object"
            ]
          },
          "metadata": {},
          "execution_count": 49
        }
      ]
    },
    {
      "cell_type": "markdown",
      "source": [
        "## MIMIC ICU Procedure events"
      ],
      "metadata": {
        "id": "HT2ifxzTpMFx"
      },
      "id": "HT2ifxzTpMFx"
    },
    {
      "cell_type": "code",
      "source": [
        "df_icu_procedureevents = read_icu_procedureevents_parquet()\n",
        "for chunk in df_icu_procedureevents.to_delayed():\n",
        "    chunk_df = chunk.compute()\n",
        "    print(chunk_df.head())"
      ],
      "metadata": {
        "colab": {
          "base_uri": "https://localhost:8080/"
        },
        "id": "s_qlyg_IpPhW",
        "outputId": "4a16bbac-c2e9-4462-95ec-81030bcc6904"
      },
      "id": "s_qlyg_IpPhW",
      "execution_count": 15,
      "outputs": [
        {
          "output_type": "stream",
          "name": "stdout",
          "text": [
            "   subject_id   hadm_id   stay_id  caregiver_id           starttime  \\\n",
            "0    10000032  29079034  39553978       88981.0 2180-07-23 14:43:00   \n",
            "1    10000032  29079034  39553978           NaN 2180-07-23 14:24:00   \n",
            "2    10000032  29079034  39553978           NaN 2180-07-23 14:24:00   \n",
            "3    10000980  26913865  39765666           NaN 2189-06-27 09:01:00   \n",
            "4    10000980  26913865  39765666           NaN 2189-06-27 09:15:00   \n",
            "\n",
            "              endtime               storetime  itemid  value valueuom  ...  \\\n",
            "0 2180-07-23 14:44:00 2180-07-23 14:43:00.000  225966    1.0     None  ...   \n",
            "1 2180-07-23 23:50:00 2180-07-23 23:50:49.983  224275  566.0      min  ...   \n",
            "2 2180-07-23 23:50:00 2180-07-23 23:50:49.983  224277  566.0      min  ...   \n",
            "3 2189-06-27 20:38:00 2189-06-27 20:38:29.047  225794  697.0      min  ...   \n",
            "4 2189-06-27 20:38:00 2189-06-27 20:38:29.047  224277  683.0      min  ...   \n",
            "\n",
            "   orderid linkorderid  ordercategoryname  ordercategorydescription  \\\n",
            "0  6416557     6416557         Procedures                      Task   \n",
            "1  6497934     6497934   Peripheral Lines         ContinuousProcess   \n",
            "2  9643097     9643097   Peripheral Lines         ContinuousProcess   \n",
            "3  5989583     5989583        Ventilation         ContinuousProcess   \n",
            "4   476764      476764   Peripheral Lines         ContinuousProcess   \n",
            "\n",
            "  patientweight isopenbag  continueinnextdept  statusdescription  \\\n",
            "0     39.400002         0                   0    FinishedRunning   \n",
            "1     39.400002         1                   0    FinishedRunning   \n",
            "2     39.400002         1                   0    FinishedRunning   \n",
            "3     76.199997         1                   0    FinishedRunning   \n",
            "4     76.199997         1                   0    FinishedRunning   \n",
            "\n",
            "   originalamount originalrate  \n",
            "0             1.0          0.0  \n",
            "1           566.0          1.0  \n",
            "2           566.0          1.0  \n",
            "3           697.0          1.0  \n",
            "4           683.0          1.0  \n",
            "\n",
            "[5 rows x 22 columns]\n"
          ]
        }
      ]
    },
    {
      "cell_type": "code",
      "source": [
        "df_icu_procedureevents.info()"
      ],
      "metadata": {
        "colab": {
          "base_uri": "https://localhost:8080/"
        },
        "id": "lnzY2IwJtIq7",
        "outputId": "7826fbf5-f167-4bcc-b457-6dce2c7b21c7"
      },
      "id": "lnzY2IwJtIq7",
      "execution_count": 50,
      "outputs": [
        {
          "output_type": "stream",
          "name": "stdout",
          "text": [
            "<class 'dask.dataframe.core.DataFrame'>\n",
            "Columns: 22 entries, subject_id to originalrate\n",
            "dtypes: datetime64[us](3), float32(4), int16(2), int32(7), string(6)"
          ]
        }
      ]
    },
    {
      "cell_type": "code",
      "source": [
        "df_icu_procedureevents.isna().sum()"
      ],
      "metadata": {
        "colab": {
          "base_uri": "https://localhost:8080/"
        },
        "id": "FZ82lS7LtKo9",
        "outputId": "81a6683d-f9d8-406e-ca6a-6f43b200bcb5"
      },
      "id": "FZ82lS7LtKo9",
      "execution_count": 51,
      "outputs": [
        {
          "output_type": "execute_result",
          "data": {
            "text/plain": [
              "Dask Series Structure:\n",
              "npartitions=1\n",
              "caregiver_id    int64\n",
              "valueuom          ...\n",
              "dtype: int64\n",
              "Dask Name: to_pyarrow_string, 5 graph layers"
            ]
          },
          "metadata": {},
          "execution_count": 51
        }
      ]
    },
    {
      "cell_type": "code",
      "source": [
        "df_icu_procedureevents.describe()"
      ],
      "metadata": {
        "colab": {
          "base_uri": "https://localhost:8080/",
          "height": 198
        },
        "id": "zBBmW1TdtRl_",
        "outputId": "c23c22b3-88da-426c-81d3-28b434c1f27f"
      },
      "id": "zBBmW1TdtRl_",
      "execution_count": 52,
      "outputs": [
        {
          "output_type": "execute_result",
          "data": {
            "text/plain": [
              "Dask DataFrame Structure:\n",
              "              subject_id  hadm_id  stay_id caregiver_id starttime endtime storetime   itemid    value  orderid linkorderid patientweight isopenbag continueinnextdept originalamount originalrate\n",
              "npartitions=1                                                                                                                                                                                    \n",
              "                 float64  float64  float64      float64    string  string    string  float64  float64  float64     float64       float64   float64            float64        float64      float64\n",
              "                     ...      ...      ...          ...       ...     ...       ...      ...      ...      ...         ...           ...       ...                ...            ...          ...\n",
              "Dask Name: to_pyarrow_string, 313 graph layers"
            ],
            "text/html": [
              "<div><strong>Dask DataFrame Structure:</strong></div>\n",
              "<div>\n",
              "<style scoped>\n",
              "    .dataframe tbody tr th:only-of-type {\n",
              "        vertical-align: middle;\n",
              "    }\n",
              "\n",
              "    .dataframe tbody tr th {\n",
              "        vertical-align: top;\n",
              "    }\n",
              "\n",
              "    .dataframe thead th {\n",
              "        text-align: right;\n",
              "    }\n",
              "</style>\n",
              "<table border=\"1\" class=\"dataframe\">\n",
              "  <thead>\n",
              "    <tr style=\"text-align: right;\">\n",
              "      <th></th>\n",
              "      <th>subject_id</th>\n",
              "      <th>hadm_id</th>\n",
              "      <th>stay_id</th>\n",
              "      <th>caregiver_id</th>\n",
              "      <th>starttime</th>\n",
              "      <th>endtime</th>\n",
              "      <th>storetime</th>\n",
              "      <th>itemid</th>\n",
              "      <th>value</th>\n",
              "      <th>orderid</th>\n",
              "      <th>linkorderid</th>\n",
              "      <th>patientweight</th>\n",
              "      <th>isopenbag</th>\n",
              "      <th>continueinnextdept</th>\n",
              "      <th>originalamount</th>\n",
              "      <th>originalrate</th>\n",
              "    </tr>\n",
              "    <tr>\n",
              "      <th>npartitions=1</th>\n",
              "      <th></th>\n",
              "      <th></th>\n",
              "      <th></th>\n",
              "      <th></th>\n",
              "      <th></th>\n",
              "      <th></th>\n",
              "      <th></th>\n",
              "      <th></th>\n",
              "      <th></th>\n",
              "      <th></th>\n",
              "      <th></th>\n",
              "      <th></th>\n",
              "      <th></th>\n",
              "      <th></th>\n",
              "      <th></th>\n",
              "      <th></th>\n",
              "    </tr>\n",
              "  </thead>\n",
              "  <tbody>\n",
              "    <tr>\n",
              "      <th></th>\n",
              "      <td>float64</td>\n",
              "      <td>float64</td>\n",
              "      <td>float64</td>\n",
              "      <td>float64</td>\n",
              "      <td>string</td>\n",
              "      <td>string</td>\n",
              "      <td>string</td>\n",
              "      <td>float64</td>\n",
              "      <td>float64</td>\n",
              "      <td>float64</td>\n",
              "      <td>float64</td>\n",
              "      <td>float64</td>\n",
              "      <td>float64</td>\n",
              "      <td>float64</td>\n",
              "      <td>float64</td>\n",
              "      <td>float64</td>\n",
              "    </tr>\n",
              "    <tr>\n",
              "      <th></th>\n",
              "      <td>...</td>\n",
              "      <td>...</td>\n",
              "      <td>...</td>\n",
              "      <td>...</td>\n",
              "      <td>...</td>\n",
              "      <td>...</td>\n",
              "      <td>...</td>\n",
              "      <td>...</td>\n",
              "      <td>...</td>\n",
              "      <td>...</td>\n",
              "      <td>...</td>\n",
              "      <td>...</td>\n",
              "      <td>...</td>\n",
              "      <td>...</td>\n",
              "      <td>...</td>\n",
              "      <td>...</td>\n",
              "    </tr>\n",
              "  </tbody>\n",
              "</table>\n",
              "</div>\n",
              "<div>Dask Name: to_pyarrow_string, 313 graph layers</div>"
            ]
          },
          "metadata": {},
          "execution_count": 52
        }
      ]
    },
    {
      "cell_type": "code",
      "source": [
        "df_icu_procedureevents.dtypes"
      ],
      "metadata": {
        "colab": {
          "base_uri": "https://localhost:8080/"
        },
        "id": "zJQOwipOtT6G",
        "outputId": "44ed5f9e-900d-45ab-edb1-a4e10f663ef9"
      },
      "id": "zJQOwipOtT6G",
      "execution_count": 53,
      "outputs": [
        {
          "output_type": "execute_result",
          "data": {
            "text/plain": [
              "subject_id                            int32\n",
              "hadm_id                               int32\n",
              "stay_id                               int32\n",
              "caregiver_id                          int32\n",
              "starttime                    datetime64[us]\n",
              "endtime                      datetime64[us]\n",
              "storetime                    datetime64[us]\n",
              "itemid                                int32\n",
              "value                               float32\n",
              "valueuom                    string[pyarrow]\n",
              "location                    string[pyarrow]\n",
              "locationcategory            string[pyarrow]\n",
              "orderid                               int32\n",
              "linkorderid                           int32\n",
              "ordercategoryname           string[pyarrow]\n",
              "ordercategorydescription    string[pyarrow]\n",
              "patientweight                       float32\n",
              "isopenbag                             int16\n",
              "continueinnextdept                    int16\n",
              "statusdescription           string[pyarrow]\n",
              "originalamount                      float32\n",
              "originalrate                        float32\n",
              "dtype: object"
            ]
          },
          "metadata": {},
          "execution_count": 53
        }
      ]
    },
    {
      "cell_type": "markdown",
      "source": [
        "## MIMIC ICU Output events"
      ],
      "metadata": {
        "id": "PmQkX8yJpThJ"
      },
      "id": "PmQkX8yJpThJ"
    },
    {
      "cell_type": "code",
      "source": [
        "df_icu_outputevents = read_icu_outputevents_parquet()\n",
        "for chunk in df_icu_outputevents.to_delayed():\n",
        "    chunk_df = chunk.compute()\n",
        "    print(chunk_df.head())"
      ],
      "metadata": {
        "colab": {
          "base_uri": "https://localhost:8080/"
        },
        "id": "H351aXskpXB-",
        "outputId": "02b7e30f-5063-4bf0-f7cf-d52f5afcedc7"
      },
      "id": "H351aXskpXB-",
      "execution_count": 17,
      "outputs": [
        {
          "output_type": "stream",
          "name": "stdout",
          "text": [
            "   subject_id   hadm_id   stay_id  caregiver_id           charttime  \\\n",
            "0    10000032  29079034  39553978         88981 2180-07-23 15:00:00   \n",
            "1    10000980  26913865  39765666         36518 2189-06-27 09:08:00   \n",
            "2    10000980  26913865  39765666         36518 2189-06-27 09:08:00   \n",
            "3    10000980  26913865  39765666         36518 2189-06-27 11:00:00   \n",
            "4    10000980  26913865  39765666         36518 2189-06-27 13:00:00   \n",
            "\n",
            "            storetime  itemid  value valueuom  \n",
            "0 2180-07-23 16:00:00  226560  175.0       ml  \n",
            "1 2189-06-27 09:08:00  226559  450.0       ml  \n",
            "2 2189-06-27 09:08:00  226633  400.0       ml  \n",
            "3 2189-06-27 10:51:00  226559  600.0       ml  \n",
            "4 2189-06-27 12:55:00  226559  800.0       ml  \n"
          ]
        }
      ]
    },
    {
      "cell_type": "code",
      "source": [
        "df_icu_outputevents.info()"
      ],
      "metadata": {
        "colab": {
          "base_uri": "https://localhost:8080/"
        },
        "id": "Bj8M5Zo-teHo",
        "outputId": "1d352607-b7cb-429e-d722-a7905fc12cff"
      },
      "id": "Bj8M5Zo-teHo",
      "execution_count": 54,
      "outputs": [
        {
          "output_type": "stream",
          "name": "stdout",
          "text": [
            "<class 'dask.dataframe.core.DataFrame'>\n",
            "Columns: 9 entries, subject_id to valueuom\n",
            "dtypes: datetime64[us](2), float32(1), int32(5), string(1)"
          ]
        }
      ]
    },
    {
      "cell_type": "code",
      "source": [
        "df_icu_outputevents.describe()"
      ],
      "metadata": {
        "colab": {
          "base_uri": "https://localhost:8080/",
          "height": 178
        },
        "id": "2P9Qwy3HtgHx",
        "outputId": "dfa1b86f-fef2-4839-f8ae-9c6184794222"
      },
      "id": "2P9Qwy3HtgHx",
      "execution_count": 55,
      "outputs": [
        {
          "output_type": "execute_result",
          "data": {
            "text/plain": [
              "Dask DataFrame Structure:\n",
              "              subject_id  hadm_id  stay_id caregiver_id charttime storetime   itemid    value\n",
              "npartitions=1                                                                                \n",
              "                 float64  float64  float64      float64    string    string  float64  float64\n",
              "                     ...      ...      ...          ...       ...       ...      ...      ...\n",
              "Dask Name: to_pyarrow_string, 159 graph layers"
            ],
            "text/html": [
              "<div><strong>Dask DataFrame Structure:</strong></div>\n",
              "<div>\n",
              "<style scoped>\n",
              "    .dataframe tbody tr th:only-of-type {\n",
              "        vertical-align: middle;\n",
              "    }\n",
              "\n",
              "    .dataframe tbody tr th {\n",
              "        vertical-align: top;\n",
              "    }\n",
              "\n",
              "    .dataframe thead th {\n",
              "        text-align: right;\n",
              "    }\n",
              "</style>\n",
              "<table border=\"1\" class=\"dataframe\">\n",
              "  <thead>\n",
              "    <tr style=\"text-align: right;\">\n",
              "      <th></th>\n",
              "      <th>subject_id</th>\n",
              "      <th>hadm_id</th>\n",
              "      <th>stay_id</th>\n",
              "      <th>caregiver_id</th>\n",
              "      <th>charttime</th>\n",
              "      <th>storetime</th>\n",
              "      <th>itemid</th>\n",
              "      <th>value</th>\n",
              "    </tr>\n",
              "    <tr>\n",
              "      <th>npartitions=1</th>\n",
              "      <th></th>\n",
              "      <th></th>\n",
              "      <th></th>\n",
              "      <th></th>\n",
              "      <th></th>\n",
              "      <th></th>\n",
              "      <th></th>\n",
              "      <th></th>\n",
              "    </tr>\n",
              "  </thead>\n",
              "  <tbody>\n",
              "    <tr>\n",
              "      <th></th>\n",
              "      <td>float64</td>\n",
              "      <td>float64</td>\n",
              "      <td>float64</td>\n",
              "      <td>float64</td>\n",
              "      <td>string</td>\n",
              "      <td>string</td>\n",
              "      <td>float64</td>\n",
              "      <td>float64</td>\n",
              "    </tr>\n",
              "    <tr>\n",
              "      <th></th>\n",
              "      <td>...</td>\n",
              "      <td>...</td>\n",
              "      <td>...</td>\n",
              "      <td>...</td>\n",
              "      <td>...</td>\n",
              "      <td>...</td>\n",
              "      <td>...</td>\n",
              "      <td>...</td>\n",
              "    </tr>\n",
              "  </tbody>\n",
              "</table>\n",
              "</div>\n",
              "<div>Dask Name: to_pyarrow_string, 159 graph layers</div>"
            ]
          },
          "metadata": {},
          "execution_count": 55
        }
      ]
    },
    {
      "cell_type": "code",
      "source": [
        "df_icu_outputevents.isna().sum()"
      ],
      "metadata": {
        "colab": {
          "base_uri": "https://localhost:8080/"
        },
        "id": "TPcERR1BtiAy",
        "outputId": "f195dba9-f097-4cee-9593-00fa2091abaf"
      },
      "id": "TPcERR1BtiAy",
      "execution_count": 56,
      "outputs": [
        {
          "output_type": "execute_result",
          "data": {
            "text/plain": [
              "Dask Series Structure:\n",
              "npartitions=1\n",
              "caregiver_id    int64\n",
              "valueuom          ...\n",
              "dtype: int64\n",
              "Dask Name: to_pyarrow_string, 5 graph layers"
            ]
          },
          "metadata": {},
          "execution_count": 56
        }
      ]
    },
    {
      "cell_type": "code",
      "source": [
        "df_icu_outputevents.dtypes"
      ],
      "metadata": {
        "colab": {
          "base_uri": "https://localhost:8080/"
        },
        "id": "qen8EEnStmZT",
        "outputId": "01653874-a6cd-49a7-c35b-594cc58bb3ca"
      },
      "id": "qen8EEnStmZT",
      "execution_count": 57,
      "outputs": [
        {
          "output_type": "execute_result",
          "data": {
            "text/plain": [
              "subject_id                int32\n",
              "hadm_id                   int32\n",
              "stay_id                   int32\n",
              "caregiver_id              int32\n",
              "charttime        datetime64[us]\n",
              "storetime        datetime64[us]\n",
              "itemid                    int32\n",
              "value                   float32\n",
              "valueuom        string[pyarrow]\n",
              "dtype: object"
            ]
          },
          "metadata": {},
          "execution_count": 57
        }
      ]
    },
    {
      "cell_type": "markdown",
      "source": [
        "## MIMIC ICU Input events"
      ],
      "metadata": {
        "id": "yhoFwOXKpeu_"
      },
      "id": "yhoFwOXKpeu_"
    },
    {
      "cell_type": "code",
      "source": [
        "df_icu_inputevents = read_icu_inputevents_parquet()\n",
        "for chunk in df_icu_inputevents.to_delayed():\n",
        "    chunk_df = chunk.compute()\n",
        "    print(chunk_df.head())"
      ],
      "metadata": {
        "colab": {
          "base_uri": "https://localhost:8080/"
        },
        "id": "CV-MbRX0pg-x",
        "outputId": "ee543c00-853a-4b8d-a716-665e772efd36"
      },
      "id": "CV-MbRX0pg-x",
      "execution_count": 19,
      "outputs": [
        {
          "output_type": "stream",
          "name": "stdout",
          "text": [
            "   subject_id   hadm_id   stay_id  caregiver_id           starttime  \\\n",
            "0    10000032  29079034  39553978         66056 2180-07-23 21:10:00   \n",
            "1    10000032  29079034  39553978         88981 2180-07-23 17:00:00   \n",
            "2    10000032  29079034  39553978         88981 2180-07-23 17:00:00   \n",
            "3    10000032  29079034  39553978         88981 2180-07-23 17:33:00   \n",
            "4    10000032  29079034  39553978         88981 2180-07-23 18:56:00   \n",
            "\n",
            "              endtime           storetime  itemid  amount amountuom  ...  \\\n",
            "0 2180-07-23 21:11:00 2180-07-23 21:10:00  226452   100.0        ml  ...   \n",
            "1 2180-07-23 17:01:00 2180-07-23 18:56:00  226452   200.0        ml  ...   \n",
            "2 2180-07-23 17:30:00 2180-07-23 17:02:00  220862    50.0        ml  ...   \n",
            "3 2180-07-23 18:03:00 2180-07-23 18:16:00  220862    50.0        ml  ...   \n",
            "4 2180-07-23 18:57:00 2180-07-23 18:56:00  226452   100.0        ml  ...   \n",
            "\n",
            "   ordercomponenttypedescription ordercategorydescription  patientweight  \\\n",
            "0           Main order parameter                    Bolus      39.400002   \n",
            "1           Main order parameter                    Bolus      39.400002   \n",
            "2           Main order parameter            Continuous IV      39.400002   \n",
            "3           Main order parameter            Continuous IV      39.400002   \n",
            "4           Main order parameter                    Bolus      39.400002   \n",
            "\n",
            "   totalamount totalamountuom isopenbag continueinnextdept statusdescription  \\\n",
            "0        100.0             ml         0                  0   FinishedRunning   \n",
            "1        200.0             ml         0                  0   FinishedRunning   \n",
            "2         50.0             ml         0                  0   FinishedRunning   \n",
            "3         50.0             ml         0                  0   FinishedRunning   \n",
            "4        100.0             ml         0                  0   FinishedRunning   \n",
            "\n",
            "   originalamount  originalrate  \n",
            "0           100.0         100.0  \n",
            "1           200.0         200.0  \n",
            "2            50.0         100.0  \n",
            "3            50.0         100.0  \n",
            "4           100.0         100.0  \n",
            "\n",
            "[5 rows x 26 columns]\n"
          ]
        }
      ]
    },
    {
      "cell_type": "code",
      "source": [
        "df_icu_inputevents.info()"
      ],
      "metadata": {
        "colab": {
          "base_uri": "https://localhost:8080/"
        },
        "id": "s-WbPz1LtqJy",
        "outputId": "0b6982b3-2c93-4d5d-d12d-a15ce8aa1f61"
      },
      "id": "s-WbPz1LtqJy",
      "execution_count": 58,
      "outputs": [
        {
          "output_type": "stream",
          "name": "stdout",
          "text": [
            "<class 'dask.dataframe.core.DataFrame'>\n",
            "Columns: 26 entries, subject_id to originalrate\n",
            "dtypes: datetime64[us](3), float32(6), int16(2), int32(7), string(8)"
          ]
        }
      ]
    },
    {
      "cell_type": "code",
      "source": [
        "df_icu_inputevents.describe()"
      ],
      "metadata": {
        "colab": {
          "base_uri": "https://localhost:8080/",
          "height": 198
        },
        "id": "Mm0jCFW5trnM",
        "outputId": "f6440bdd-3a4f-4044-a489-2028e6e821e9"
      },
      "id": "Mm0jCFW5trnM",
      "execution_count": 59,
      "outputs": [
        {
          "output_type": "execute_result",
          "data": {
            "text/plain": [
              "Dask DataFrame Structure:\n",
              "              subject_id  hadm_id  stay_id caregiver_id starttime endtime storetime   itemid   amount     rate  orderid linkorderid patientweight totalamount isopenbag continueinnextdept originalamount originalrate\n",
              "npartitions=1                                                                                                                                                                                                         \n",
              "                 float64  float64  float64      float64    string  string    string  float64  float64  float64  float64     float64       float64     float64   float64            float64        float64      float64\n",
              "                     ...      ...      ...          ...       ...     ...       ...      ...      ...      ...      ...         ...           ...         ...       ...                ...            ...          ...\n",
              "Dask Name: to_pyarrow_string, 351 graph layers"
            ],
            "text/html": [
              "<div><strong>Dask DataFrame Structure:</strong></div>\n",
              "<div>\n",
              "<style scoped>\n",
              "    .dataframe tbody tr th:only-of-type {\n",
              "        vertical-align: middle;\n",
              "    }\n",
              "\n",
              "    .dataframe tbody tr th {\n",
              "        vertical-align: top;\n",
              "    }\n",
              "\n",
              "    .dataframe thead th {\n",
              "        text-align: right;\n",
              "    }\n",
              "</style>\n",
              "<table border=\"1\" class=\"dataframe\">\n",
              "  <thead>\n",
              "    <tr style=\"text-align: right;\">\n",
              "      <th></th>\n",
              "      <th>subject_id</th>\n",
              "      <th>hadm_id</th>\n",
              "      <th>stay_id</th>\n",
              "      <th>caregiver_id</th>\n",
              "      <th>starttime</th>\n",
              "      <th>endtime</th>\n",
              "      <th>storetime</th>\n",
              "      <th>itemid</th>\n",
              "      <th>amount</th>\n",
              "      <th>rate</th>\n",
              "      <th>orderid</th>\n",
              "      <th>linkorderid</th>\n",
              "      <th>patientweight</th>\n",
              "      <th>totalamount</th>\n",
              "      <th>isopenbag</th>\n",
              "      <th>continueinnextdept</th>\n",
              "      <th>originalamount</th>\n",
              "      <th>originalrate</th>\n",
              "    </tr>\n",
              "    <tr>\n",
              "      <th>npartitions=1</th>\n",
              "      <th></th>\n",
              "      <th></th>\n",
              "      <th></th>\n",
              "      <th></th>\n",
              "      <th></th>\n",
              "      <th></th>\n",
              "      <th></th>\n",
              "      <th></th>\n",
              "      <th></th>\n",
              "      <th></th>\n",
              "      <th></th>\n",
              "      <th></th>\n",
              "      <th></th>\n",
              "      <th></th>\n",
              "      <th></th>\n",
              "      <th></th>\n",
              "      <th></th>\n",
              "      <th></th>\n",
              "    </tr>\n",
              "  </thead>\n",
              "  <tbody>\n",
              "    <tr>\n",
              "      <th></th>\n",
              "      <td>float64</td>\n",
              "      <td>float64</td>\n",
              "      <td>float64</td>\n",
              "      <td>float64</td>\n",
              "      <td>string</td>\n",
              "      <td>string</td>\n",
              "      <td>string</td>\n",
              "      <td>float64</td>\n",
              "      <td>float64</td>\n",
              "      <td>float64</td>\n",
              "      <td>float64</td>\n",
              "      <td>float64</td>\n",
              "      <td>float64</td>\n",
              "      <td>float64</td>\n",
              "      <td>float64</td>\n",
              "      <td>float64</td>\n",
              "      <td>float64</td>\n",
              "      <td>float64</td>\n",
              "    </tr>\n",
              "    <tr>\n",
              "      <th></th>\n",
              "      <td>...</td>\n",
              "      <td>...</td>\n",
              "      <td>...</td>\n",
              "      <td>...</td>\n",
              "      <td>...</td>\n",
              "      <td>...</td>\n",
              "      <td>...</td>\n",
              "      <td>...</td>\n",
              "      <td>...</td>\n",
              "      <td>...</td>\n",
              "      <td>...</td>\n",
              "      <td>...</td>\n",
              "      <td>...</td>\n",
              "      <td>...</td>\n",
              "      <td>...</td>\n",
              "      <td>...</td>\n",
              "      <td>...</td>\n",
              "      <td>...</td>\n",
              "    </tr>\n",
              "  </tbody>\n",
              "</table>\n",
              "</div>\n",
              "<div>Dask Name: to_pyarrow_string, 351 graph layers</div>"
            ]
          },
          "metadata": {},
          "execution_count": 59
        }
      ]
    },
    {
      "cell_type": "code",
      "source": [
        "df_icu_inputevents.dtypes"
      ],
      "metadata": {
        "colab": {
          "base_uri": "https://localhost:8080/"
        },
        "id": "UgP6BmH2tt69",
        "outputId": "1e225e97-ab01-4791-f0e3-8a7a8b311835"
      },
      "id": "UgP6BmH2tt69",
      "execution_count": 60,
      "outputs": [
        {
          "output_type": "execute_result",
          "data": {
            "text/plain": [
              "subject_id                                 int32\n",
              "hadm_id                                    int32\n",
              "stay_id                                    int32\n",
              "caregiver_id                               int32\n",
              "starttime                         datetime64[us]\n",
              "endtime                           datetime64[us]\n",
              "storetime                         datetime64[us]\n",
              "itemid                                     int32\n",
              "amount                                   float32\n",
              "amountuom                        string[pyarrow]\n",
              "rate                                     float32\n",
              "rateuom                          string[pyarrow]\n",
              "orderid                                    int32\n",
              "linkorderid                                int32\n",
              "ordercategoryname                string[pyarrow]\n",
              "secondaryordercategoryname       string[pyarrow]\n",
              "ordercomponenttypedescription    string[pyarrow]\n",
              "ordercategorydescription         string[pyarrow]\n",
              "patientweight                            float32\n",
              "totalamount                              float32\n",
              "totalamountuom                   string[pyarrow]\n",
              "isopenbag                                  int16\n",
              "continueinnextdept                         int16\n",
              "statusdescription                string[pyarrow]\n",
              "originalamount                           float32\n",
              "originalrate                             float32\n",
              "dtype: object"
            ]
          },
          "metadata": {},
          "execution_count": 60
        }
      ]
    },
    {
      "cell_type": "code",
      "source": [
        "df_icu_inputevents.isna().sum()"
      ],
      "metadata": {
        "colab": {
          "base_uri": "https://localhost:8080/"
        },
        "id": "CPrmDolstwrS",
        "outputId": "72d99d1e-44e1-404c-f1cd-0b1dc57d3113"
      },
      "id": "CPrmDolstwrS",
      "execution_count": 61,
      "outputs": [
        {
          "output_type": "execute_result",
          "data": {
            "text/plain": [
              "Dask Series Structure:\n",
              "npartitions=1\n",
              "amount            int64\n",
              "totalamountuom      ...\n",
              "dtype: int64\n",
              "Dask Name: to_pyarrow_string, 5 graph layers"
            ]
          },
          "metadata": {},
          "execution_count": 61
        }
      ]
    },
    {
      "cell_type": "markdown",
      "source": [
        "## MIMIC ICU Stays"
      ],
      "metadata": {
        "id": "vYD2B6-npoHI"
      },
      "id": "vYD2B6-npoHI"
    },
    {
      "cell_type": "code",
      "source": [
        "df_icu_icustays = read_icu_icustays_parquet()\n",
        "for chunk in df_icu_icustays.to_delayed():\n",
        "    chunk_df = chunk.compute()\n",
        "    print(chunk_df.head())"
      ],
      "metadata": {
        "colab": {
          "base_uri": "https://localhost:8080/"
        },
        "id": "Fnr1IXLkpsBN",
        "outputId": "e88873f0-911d-4ce7-a7b5-525f28cd3c76"
      },
      "id": "Fnr1IXLkpsBN",
      "execution_count": 20,
      "outputs": [
        {
          "output_type": "stream",
          "name": "stdout",
          "text": [
            "   subject_id   hadm_id   stay_id  \\\n",
            "0    10000032  29079034  39553978   \n",
            "1    10000980  26913865  39765666   \n",
            "2    10001217  24597018  37067082   \n",
            "3    10001217  27703517  34592300   \n",
            "4    10001725  25563031  31205490   \n",
            "\n",
            "                                     first_careunit  \\\n",
            "0                Medical Intensive Care Unit (MICU)   \n",
            "1                Medical Intensive Care Unit (MICU)   \n",
            "2               Surgical Intensive Care Unit (SICU)   \n",
            "3               Surgical Intensive Care Unit (SICU)   \n",
            "4  Medical/Surgical Intensive Care Unit (MICU/SICU)   \n",
            "\n",
            "                                      last_careunit              intime  \\\n",
            "0                Medical Intensive Care Unit (MICU) 2180-07-23 14:00:00   \n",
            "1                Medical Intensive Care Unit (MICU) 2189-06-27 08:42:00   \n",
            "2               Surgical Intensive Care Unit (SICU) 2157-11-20 19:18:02   \n",
            "3               Surgical Intensive Care Unit (SICU) 2157-12-19 15:42:24   \n",
            "4  Medical/Surgical Intensive Care Unit (MICU/SICU) 2110-04-11 15:52:22   \n",
            "\n",
            "              outtime       los  \n",
            "0 2180-07-23 23:50:47  0.410266  \n",
            "1 2189-06-27 20:38:27  0.497535  \n",
            "2 2157-11-21 22:08:00  1.118032  \n",
            "3 2157-12-20 14:27:41  0.948113  \n",
            "4 2110-04-12 23:59:56  1.338588  \n"
          ]
        }
      ]
    },
    {
      "cell_type": "code",
      "source": [
        "df_icu_icustays.info()"
      ],
      "metadata": {
        "colab": {
          "base_uri": "https://localhost:8080/"
        },
        "id": "6ye8ww0xtziy",
        "outputId": "3ccef7e5-9667-424b-c91d-86349ae2e9c0"
      },
      "id": "6ye8ww0xtziy",
      "execution_count": 62,
      "outputs": [
        {
          "output_type": "stream",
          "name": "stdout",
          "text": [
            "<class 'dask.dataframe.core.DataFrame'>\n",
            "Columns: 8 entries, subject_id to los\n",
            "dtypes: datetime64[us](2), float32(1), int32(3), string(2)"
          ]
        }
      ]
    },
    {
      "cell_type": "code",
      "source": [
        "df_icu_icustays.describe()"
      ],
      "metadata": {
        "colab": {
          "base_uri": "https://localhost:8080/",
          "height": 178
        },
        "id": "--_gimZUt0-9",
        "outputId": "545a6632-d063-41b7-a1aa-f6dbf39ac366"
      },
      "id": "--_gimZUt0-9",
      "execution_count": 64,
      "outputs": [
        {
          "output_type": "execute_result",
          "data": {
            "text/plain": [
              "Dask DataFrame Structure:\n",
              "              subject_id  hadm_id  stay_id  intime outtime      los\n",
              "npartitions=1                                                      \n",
              "                 float64  float64  float64  string  string  float64\n",
              "                     ...      ...      ...     ...     ...      ...\n",
              "Dask Name: to_pyarrow_string, 121 graph layers"
            ],
            "text/html": [
              "<div><strong>Dask DataFrame Structure:</strong></div>\n",
              "<div>\n",
              "<style scoped>\n",
              "    .dataframe tbody tr th:only-of-type {\n",
              "        vertical-align: middle;\n",
              "    }\n",
              "\n",
              "    .dataframe tbody tr th {\n",
              "        vertical-align: top;\n",
              "    }\n",
              "\n",
              "    .dataframe thead th {\n",
              "        text-align: right;\n",
              "    }\n",
              "</style>\n",
              "<table border=\"1\" class=\"dataframe\">\n",
              "  <thead>\n",
              "    <tr style=\"text-align: right;\">\n",
              "      <th></th>\n",
              "      <th>subject_id</th>\n",
              "      <th>hadm_id</th>\n",
              "      <th>stay_id</th>\n",
              "      <th>intime</th>\n",
              "      <th>outtime</th>\n",
              "      <th>los</th>\n",
              "    </tr>\n",
              "    <tr>\n",
              "      <th>npartitions=1</th>\n",
              "      <th></th>\n",
              "      <th></th>\n",
              "      <th></th>\n",
              "      <th></th>\n",
              "      <th></th>\n",
              "      <th></th>\n",
              "    </tr>\n",
              "  </thead>\n",
              "  <tbody>\n",
              "    <tr>\n",
              "      <th></th>\n",
              "      <td>float64</td>\n",
              "      <td>float64</td>\n",
              "      <td>float64</td>\n",
              "      <td>string</td>\n",
              "      <td>string</td>\n",
              "      <td>float64</td>\n",
              "    </tr>\n",
              "    <tr>\n",
              "      <th></th>\n",
              "      <td>...</td>\n",
              "      <td>...</td>\n",
              "      <td>...</td>\n",
              "      <td>...</td>\n",
              "      <td>...</td>\n",
              "      <td>...</td>\n",
              "    </tr>\n",
              "  </tbody>\n",
              "</table>\n",
              "</div>\n",
              "<div>Dask Name: to_pyarrow_string, 121 graph layers</div>"
            ]
          },
          "metadata": {},
          "execution_count": 64
        }
      ]
    },
    {
      "cell_type": "code",
      "source": [
        "df_icu_icustays.isna().sum()"
      ],
      "metadata": {
        "colab": {
          "base_uri": "https://localhost:8080/"
        },
        "id": "gHPwFugqt3vn",
        "outputId": "6eb12fa6-2f71-4dfd-c871-33d7c1a62157"
      },
      "id": "gHPwFugqt3vn",
      "execution_count": 65,
      "outputs": [
        {
          "output_type": "execute_result",
          "data": {
            "text/plain": [
              "Dask Series Structure:\n",
              "npartitions=1\n",
              "first_careunit    int64\n",
              "subject_id          ...\n",
              "dtype: int64\n",
              "Dask Name: to_pyarrow_string, 5 graph layers"
            ]
          },
          "metadata": {},
          "execution_count": 65
        }
      ]
    },
    {
      "cell_type": "code",
      "source": [
        "df_icu_icustays.dtypes"
      ],
      "metadata": {
        "colab": {
          "base_uri": "https://localhost:8080/"
        },
        "id": "UX7b4wgtt6JD",
        "outputId": "be2eb551-a2fe-45e2-bbc9-2ee74349b7be"
      },
      "id": "UX7b4wgtt6JD",
      "execution_count": 66,
      "outputs": [
        {
          "output_type": "execute_result",
          "data": {
            "text/plain": [
              "subject_id                  int32\n",
              "hadm_id                     int32\n",
              "stay_id                     int32\n",
              "first_careunit    string[pyarrow]\n",
              "last_careunit     string[pyarrow]\n",
              "intime             datetime64[us]\n",
              "outtime            datetime64[us]\n",
              "los                       float32\n",
              "dtype: object"
            ]
          },
          "metadata": {},
          "execution_count": 66
        }
      ]
    },
    {
      "cell_type": "markdown",
      "source": [
        "## ICU Datetime events"
      ],
      "metadata": {
        "id": "zeDQ1pX-pvLx"
      },
      "id": "zeDQ1pX-pvLx"
    },
    {
      "cell_type": "code",
      "source": [
        "df_icu_datetimeevents = read_icu_datetimeevents_parquet()\n",
        "for chunk in df_icu_datetimeevents.to_delayed():\n",
        "    chunk_df = chunk.compute()\n",
        "    print(chunk_df.head())"
      ],
      "metadata": {
        "colab": {
          "base_uri": "https://localhost:8080/"
        },
        "id": "_Mj6O5HCpxFK",
        "outputId": "6dbab0aa-72bb-45b2-fe60-de6c5e15a6a5"
      },
      "id": "_Mj6O5HCpxFK",
      "execution_count": 21,
      "outputs": [
        {
          "output_type": "stream",
          "name": "stdout",
          "text": [
            "   subject_id   hadm_id   stay_id  caregiver_id           charttime  \\\n",
            "0    10000032  29079034  39553978         66056 2180-07-23 21:02:00   \n",
            "1    10000032  29079034  39553978         66056 2180-07-23 21:02:00   \n",
            "2    10000032  29079034  39553978         88981 2180-07-23 14:24:00   \n",
            "3    10000032  29079034  39553978         88981 2180-07-23 14:24:00   \n",
            "4    10000980  26913865  39765666         36518 2189-06-27 09:13:00   \n",
            "\n",
            "            storetime  itemid               value valueuom  warning  \n",
            "0 2180-07-23 21:02:00  225754 2180-07-23 00:00:00     Date        0  \n",
            "1 2180-07-23 21:02:00  225755 2180-07-23 00:00:00     Date        0  \n",
            "2 2180-07-23 14:24:00  225754 2180-07-23 14:24:00     Date        0  \n",
            "3 2180-07-23 14:24:00  225755 2180-07-23 14:24:00     Date        0  \n",
            "4 2189-06-27 09:13:00  225755 2189-06-27 09:13:00     Date        0  \n"
          ]
        }
      ]
    },
    {
      "cell_type": "code",
      "source": [
        "df_icu_datetimeevents.info()"
      ],
      "metadata": {
        "colab": {
          "base_uri": "https://localhost:8080/"
        },
        "id": "JuXptsOIt8U4",
        "outputId": "a32519f9-df33-489d-f87e-9706f48737eb"
      },
      "id": "JuXptsOIt8U4",
      "execution_count": 67,
      "outputs": [
        {
          "output_type": "stream",
          "name": "stdout",
          "text": [
            "<class 'dask.dataframe.core.DataFrame'>\n",
            "Columns: 10 entries, subject_id to warning\n",
            "dtypes: datetime64[us](3), int16(1), int32(5), string(1)"
          ]
        }
      ]
    },
    {
      "cell_type": "code",
      "source": [
        "df_icu_datetimeevents.describe()"
      ],
      "metadata": {
        "colab": {
          "base_uri": "https://localhost:8080/",
          "height": 178
        },
        "id": "s1dCbrBIt9z-",
        "outputId": "2dd78545-75c2-4894-d227-7dbdaa53aa8a"
      },
      "id": "s1dCbrBIt9z-",
      "execution_count": 68,
      "outputs": [
        {
          "output_type": "execute_result",
          "data": {
            "text/plain": [
              "Dask DataFrame Structure:\n",
              "              subject_id  hadm_id  stay_id caregiver_id charttime storetime   itemid   value  warning\n",
              "npartitions=1                                                                                        \n",
              "                 float64  float64  float64      float64    string    string  float64  string  float64\n",
              "                     ...      ...      ...          ...       ...       ...      ...     ...      ...\n",
              "Dask Name: to_pyarrow_string, 180 graph layers"
            ],
            "text/html": [
              "<div><strong>Dask DataFrame Structure:</strong></div>\n",
              "<div>\n",
              "<style scoped>\n",
              "    .dataframe tbody tr th:only-of-type {\n",
              "        vertical-align: middle;\n",
              "    }\n",
              "\n",
              "    .dataframe tbody tr th {\n",
              "        vertical-align: top;\n",
              "    }\n",
              "\n",
              "    .dataframe thead th {\n",
              "        text-align: right;\n",
              "    }\n",
              "</style>\n",
              "<table border=\"1\" class=\"dataframe\">\n",
              "  <thead>\n",
              "    <tr style=\"text-align: right;\">\n",
              "      <th></th>\n",
              "      <th>subject_id</th>\n",
              "      <th>hadm_id</th>\n",
              "      <th>stay_id</th>\n",
              "      <th>caregiver_id</th>\n",
              "      <th>charttime</th>\n",
              "      <th>storetime</th>\n",
              "      <th>itemid</th>\n",
              "      <th>value</th>\n",
              "      <th>warning</th>\n",
              "    </tr>\n",
              "    <tr>\n",
              "      <th>npartitions=1</th>\n",
              "      <th></th>\n",
              "      <th></th>\n",
              "      <th></th>\n",
              "      <th></th>\n",
              "      <th></th>\n",
              "      <th></th>\n",
              "      <th></th>\n",
              "      <th></th>\n",
              "      <th></th>\n",
              "    </tr>\n",
              "  </thead>\n",
              "  <tbody>\n",
              "    <tr>\n",
              "      <th></th>\n",
              "      <td>float64</td>\n",
              "      <td>float64</td>\n",
              "      <td>float64</td>\n",
              "      <td>float64</td>\n",
              "      <td>string</td>\n",
              "      <td>string</td>\n",
              "      <td>float64</td>\n",
              "      <td>string</td>\n",
              "      <td>float64</td>\n",
              "    </tr>\n",
              "    <tr>\n",
              "      <th></th>\n",
              "      <td>...</td>\n",
              "      <td>...</td>\n",
              "      <td>...</td>\n",
              "      <td>...</td>\n",
              "      <td>...</td>\n",
              "      <td>...</td>\n",
              "      <td>...</td>\n",
              "      <td>...</td>\n",
              "      <td>...</td>\n",
              "    </tr>\n",
              "  </tbody>\n",
              "</table>\n",
              "</div>\n",
              "<div>Dask Name: to_pyarrow_string, 180 graph layers</div>"
            ]
          },
          "metadata": {},
          "execution_count": 68
        }
      ]
    },
    {
      "cell_type": "code",
      "source": [
        "df_icu_datetimeevents.isna().sum()"
      ],
      "metadata": {
        "colab": {
          "base_uri": "https://localhost:8080/"
        },
        "id": "CG4LwFnst_zR",
        "outputId": "6f5650c9-bbe0-4116-93d7-9fa65e29a3bc"
      },
      "id": "CG4LwFnst_zR",
      "execution_count": 69,
      "outputs": [
        {
          "output_type": "execute_result",
          "data": {
            "text/plain": [
              "Dask Series Structure:\n",
              "npartitions=1\n",
              "caregiver_id    int64\n",
              "warning           ...\n",
              "dtype: int64\n",
              "Dask Name: to_pyarrow_string, 5 graph layers"
            ]
          },
          "metadata": {},
          "execution_count": 69
        }
      ]
    },
    {
      "cell_type": "code",
      "source": [
        "df_icu_datetimeevents.dtypes"
      ],
      "metadata": {
        "colab": {
          "base_uri": "https://localhost:8080/"
        },
        "id": "XuwP7CbwuEqL",
        "outputId": "ab64d5c7-fa9e-4ebf-c145-7cd4190966c3"
      },
      "id": "XuwP7CbwuEqL",
      "execution_count": 71,
      "outputs": [
        {
          "output_type": "execute_result",
          "data": {
            "text/plain": [
              "subject_id                int32\n",
              "hadm_id                   int32\n",
              "stay_id                   int32\n",
              "caregiver_id              int32\n",
              "charttime        datetime64[us]\n",
              "storetime        datetime64[us]\n",
              "itemid                    int32\n",
              "value            datetime64[us]\n",
              "valueuom        string[pyarrow]\n",
              "warning                   int16\n",
              "dtype: object"
            ]
          },
          "metadata": {},
          "execution_count": 71
        }
      ]
    },
    {
      "cell_type": "markdown",
      "source": [
        "## ICU d_items"
      ],
      "metadata": {
        "id": "y0VHUqEup1ev"
      },
      "id": "y0VHUqEup1ev"
    },
    {
      "cell_type": "code",
      "source": [
        "df_icu_d_items = read_icu_d_items_parquet()\n",
        "for chunk in df_icu_d_items.to_delayed():\n",
        "    chunk_df = chunk.compute()\n",
        "    print(chunk_df.head())"
      ],
      "metadata": {
        "colab": {
          "base_uri": "https://localhost:8080/"
        },
        "id": "Yn9SD0ntp4u_",
        "outputId": "cee46668-c075-40a6-f8d3-881e45f8e2f4"
      },
      "id": "Yn9SD0ntp4u_",
      "execution_count": 22,
      "outputs": [
        {
          "output_type": "stream",
          "name": "stdout",
          "text": [
            "   itemid                    label        abbreviation         linksto  \\\n",
            "0  220001             Problem List        Problem List     chartevents   \n",
            "1  220003       ICU Admission date  ICU Admission date  datetimeevents   \n",
            "2  220045               Heart Rate                  HR     chartevents   \n",
            "3  220046  Heart rate Alarm - High     HR Alarm - High     chartevents   \n",
            "4  220047   Heart Rate Alarm - Low      HR Alarm - Low     chartevents   \n",
            "\n",
            "              category unitname     param_type  lownormalvalue  \\\n",
            "0              General     <NA>           Text             NaN   \n",
            "1                  ADT     <NA>  Date and time             NaN   \n",
            "2  Routine Vital Signs      bpm        Numeric             NaN   \n",
            "3               Alarms      bpm        Numeric             NaN   \n",
            "4               Alarms      bpm        Numeric             NaN   \n",
            "\n",
            "   highnormalvalue  \n",
            "0              NaN  \n",
            "1              NaN  \n",
            "2              NaN  \n",
            "3              NaN  \n",
            "4              NaN  \n"
          ]
        }
      ]
    },
    {
      "cell_type": "code",
      "source": [
        "df_icu_d_items.info()"
      ],
      "metadata": {
        "colab": {
          "base_uri": "https://localhost:8080/"
        },
        "id": "kKYIGnLvuKhv",
        "outputId": "44c3aabb-85a4-416c-9b35-34182cbc7e1a"
      },
      "id": "kKYIGnLvuKhv",
      "execution_count": 72,
      "outputs": [
        {
          "output_type": "stream",
          "name": "stdout",
          "text": [
            "<class 'dask.dataframe.core.DataFrame'>\n",
            "Columns: 9 entries, itemid to highnormalvalue\n",
            "dtypes: float32(2), int32(1), string(6)"
          ]
        }
      ]
    },
    {
      "cell_type": "code",
      "source": [
        "df_icu_d_items.dtypes"
      ],
      "metadata": {
        "colab": {
          "base_uri": "https://localhost:8080/"
        },
        "id": "7IU2nr8FuNC2",
        "outputId": "112897b4-4345-410d-ccea-4552c80375db"
      },
      "id": "7IU2nr8FuNC2",
      "execution_count": 73,
      "outputs": [
        {
          "output_type": "execute_result",
          "data": {
            "text/plain": [
              "itemid                       int32\n",
              "label              string[pyarrow]\n",
              "abbreviation       string[pyarrow]\n",
              "linksto            string[pyarrow]\n",
              "category           string[pyarrow]\n",
              "unitname           string[pyarrow]\n",
              "param_type         string[pyarrow]\n",
              "lownormalvalue             float32\n",
              "highnormalvalue            float32\n",
              "dtype: object"
            ]
          },
          "metadata": {},
          "execution_count": 73
        }
      ]
    },
    {
      "cell_type": "code",
      "source": [
        "df_icu_d_items.describe()"
      ],
      "metadata": {
        "colab": {
          "base_uri": "https://localhost:8080/",
          "height": 178
        },
        "id": "HvwLb52IuOvA",
        "outputId": "2298df38-b579-4890-922a-052246f0cd77"
      },
      "id": "HvwLb52IuOvA",
      "execution_count": 74,
      "outputs": [
        {
          "output_type": "execute_result",
          "data": {
            "text/plain": [
              "Dask DataFrame Structure:\n",
              "                itemid lownormalvalue highnormalvalue\n",
              "npartitions=1                                        \n",
              "               float64        float64         float64\n",
              "                   ...            ...             ...\n",
              "Dask Name: to_pyarrow_string, 37 graph layers"
            ],
            "text/html": [
              "<div><strong>Dask DataFrame Structure:</strong></div>\n",
              "<div>\n",
              "<style scoped>\n",
              "    .dataframe tbody tr th:only-of-type {\n",
              "        vertical-align: middle;\n",
              "    }\n",
              "\n",
              "    .dataframe tbody tr th {\n",
              "        vertical-align: top;\n",
              "    }\n",
              "\n",
              "    .dataframe thead th {\n",
              "        text-align: right;\n",
              "    }\n",
              "</style>\n",
              "<table border=\"1\" class=\"dataframe\">\n",
              "  <thead>\n",
              "    <tr style=\"text-align: right;\">\n",
              "      <th></th>\n",
              "      <th>itemid</th>\n",
              "      <th>lownormalvalue</th>\n",
              "      <th>highnormalvalue</th>\n",
              "    </tr>\n",
              "    <tr>\n",
              "      <th>npartitions=1</th>\n",
              "      <th></th>\n",
              "      <th></th>\n",
              "      <th></th>\n",
              "    </tr>\n",
              "  </thead>\n",
              "  <tbody>\n",
              "    <tr>\n",
              "      <th></th>\n",
              "      <td>float64</td>\n",
              "      <td>float64</td>\n",
              "      <td>float64</td>\n",
              "    </tr>\n",
              "    <tr>\n",
              "      <th></th>\n",
              "      <td>...</td>\n",
              "      <td>...</td>\n",
              "      <td>...</td>\n",
              "    </tr>\n",
              "  </tbody>\n",
              "</table>\n",
              "</div>\n",
              "<div>Dask Name: to_pyarrow_string, 37 graph layers</div>"
            ]
          },
          "metadata": {},
          "execution_count": 74
        }
      ]
    },
    {
      "cell_type": "code",
      "source": [
        "df_icu_d_items.isna().sum()"
      ],
      "metadata": {
        "colab": {
          "base_uri": "https://localhost:8080/"
        },
        "id": "x1QCHl4uuRLj",
        "outputId": "fc819d57-fd07-4861-da46-e1e3a317ff9a"
      },
      "id": "x1QCHl4uuRLj",
      "execution_count": 75,
      "outputs": [
        {
          "output_type": "execute_result",
          "data": {
            "text/plain": [
              "Dask Series Structure:\n",
              "npartitions=1\n",
              "abbreviation    int64\n",
              "unitname          ...\n",
              "dtype: int64\n",
              "Dask Name: to_pyarrow_string, 5 graph layers"
            ]
          },
          "metadata": {},
          "execution_count": 75
        }
      ]
    },
    {
      "cell_type": "markdown",
      "source": [
        "## Hospital services data"
      ],
      "metadata": {
        "id": "nMn454U1p72I"
      },
      "id": "nMn454U1p72I"
    },
    {
      "cell_type": "code",
      "source": [
        "df_hosp_services = read_hosp_services_parquet()\n",
        "for chunk in df_hosp_services.to_delayed():\n",
        "    chunk_df = chunk.compute()\n",
        "    print(chunk_df.head())"
      ],
      "metadata": {
        "colab": {
          "base_uri": "https://localhost:8080/"
        },
        "id": "zJPG4P9Zp_bm",
        "outputId": "fb5cbcfa-3296-49d6-9195-605d49eb4c3f"
      },
      "id": "zJPG4P9Zp_bm",
      "execution_count": 76,
      "outputs": [
        {
          "output_type": "stream",
          "name": "stdout",
          "text": [
            "   subject_id   hadm_id        transfertime prev_service curr_service\n",
            "0    10000032  22595853 2180-05-06 22:24:57         <NA>          MED\n",
            "1    10000032  22841357 2180-06-26 18:28:08         <NA>          MED\n",
            "2    10000032  25742920 2180-08-05 23:44:50         <NA>          MED\n",
            "3    10000032  29079034 2180-07-23 12:36:04         <NA>          MED\n",
            "4    10000068  25022803 2160-03-03 23:17:17         <NA>          MED\n"
          ]
        }
      ]
    },
    {
      "cell_type": "code",
      "source": [
        "df_hosp_services.info()"
      ],
      "metadata": {
        "colab": {
          "base_uri": "https://localhost:8080/"
        },
        "id": "K1cGNc52uk6S",
        "outputId": "860b1d33-f24a-4885-da46-99961ca07a00"
      },
      "id": "K1cGNc52uk6S",
      "execution_count": 77,
      "outputs": [
        {
          "output_type": "stream",
          "name": "stdout",
          "text": [
            "<class 'dask.dataframe.core.DataFrame'>\n",
            "Columns: 5 entries, subject_id to curr_service\n",
            "dtypes: datetime64[us](1), int32(2), string(2)"
          ]
        }
      ]
    },
    {
      "cell_type": "code",
      "source": [
        "df_hosp_services.describe()"
      ],
      "metadata": {
        "colab": {
          "base_uri": "https://localhost:8080/",
          "height": 178
        },
        "id": "rm8fmB4oummT",
        "outputId": "00d8a275-de2a-4019-a2c1-fb9b3ec9b9de"
      },
      "id": "rm8fmB4oummT",
      "execution_count": 78,
      "outputs": [
        {
          "output_type": "execute_result",
          "data": {
            "text/plain": [
              "Dask DataFrame Structure:\n",
              "              subject_id  hadm_id transfertime\n",
              "npartitions=1                                 \n",
              "                 float64  float64       string\n",
              "                     ...      ...          ...\n",
              "Dask Name: to_pyarrow_string, 62 graph layers"
            ],
            "text/html": [
              "<div><strong>Dask DataFrame Structure:</strong></div>\n",
              "<div>\n",
              "<style scoped>\n",
              "    .dataframe tbody tr th:only-of-type {\n",
              "        vertical-align: middle;\n",
              "    }\n",
              "\n",
              "    .dataframe tbody tr th {\n",
              "        vertical-align: top;\n",
              "    }\n",
              "\n",
              "    .dataframe thead th {\n",
              "        text-align: right;\n",
              "    }\n",
              "</style>\n",
              "<table border=\"1\" class=\"dataframe\">\n",
              "  <thead>\n",
              "    <tr style=\"text-align: right;\">\n",
              "      <th></th>\n",
              "      <th>subject_id</th>\n",
              "      <th>hadm_id</th>\n",
              "      <th>transfertime</th>\n",
              "    </tr>\n",
              "    <tr>\n",
              "      <th>npartitions=1</th>\n",
              "      <th></th>\n",
              "      <th></th>\n",
              "      <th></th>\n",
              "    </tr>\n",
              "  </thead>\n",
              "  <tbody>\n",
              "    <tr>\n",
              "      <th></th>\n",
              "      <td>float64</td>\n",
              "      <td>float64</td>\n",
              "      <td>string</td>\n",
              "    </tr>\n",
              "    <tr>\n",
              "      <th></th>\n",
              "      <td>...</td>\n",
              "      <td>...</td>\n",
              "      <td>...</td>\n",
              "    </tr>\n",
              "  </tbody>\n",
              "</table>\n",
              "</div>\n",
              "<div>Dask Name: to_pyarrow_string, 62 graph layers</div>"
            ]
          },
          "metadata": {},
          "execution_count": 78
        }
      ]
    },
    {
      "cell_type": "code",
      "source": [
        "df_hosp_services.dtypes"
      ],
      "metadata": {
        "colab": {
          "base_uri": "https://localhost:8080/"
        },
        "id": "RBkyFsppupAs",
        "outputId": "477f6c82-06cb-42dd-9f14-5b9a6763b6e8"
      },
      "id": "RBkyFsppupAs",
      "execution_count": 79,
      "outputs": [
        {
          "output_type": "execute_result",
          "data": {
            "text/plain": [
              "subject_id                int32\n",
              "hadm_id                   int32\n",
              "transfertime     datetime64[us]\n",
              "prev_service    string[pyarrow]\n",
              "curr_service    string[pyarrow]\n",
              "dtype: object"
            ]
          },
          "metadata": {},
          "execution_count": 79
        }
      ]
    },
    {
      "cell_type": "code",
      "source": [
        "df_hosp_services.isna().sum()"
      ],
      "metadata": {
        "colab": {
          "base_uri": "https://localhost:8080/"
        },
        "id": "37uUu9oXux1B",
        "outputId": "b188df6b-84d5-4f8d-dab2-95a78a06bba9"
      },
      "id": "37uUu9oXux1B",
      "execution_count": 82,
      "outputs": [
        {
          "output_type": "execute_result",
          "data": {
            "text/plain": [
              "Dask Series Structure:\n",
              "npartitions=1\n",
              "curr_service    int64\n",
              "transfertime      ...\n",
              "dtype: int64\n",
              "Dask Name: to_pyarrow_string, 5 graph layers"
            ]
          },
          "metadata": {},
          "execution_count": 82
        }
      ]
    },
    {
      "cell_type": "markdown",
      "source": [
        "## MIMIC Hospital Procedures"
      ],
      "metadata": {
        "id": "GWJ9W0SZqCXm"
      },
      "id": "GWJ9W0SZqCXm"
    },
    {
      "cell_type": "code",
      "source": [
        "df_hosp_procedures_icd = read_hosp_procedures_icd_parquet()\n",
        "for chunk in df_hosp_procedures_icd.to_delayed():\n",
        "    chunk_df = chunk.compute()\n",
        "    print(chunk_df.head())"
      ],
      "metadata": {
        "colab": {
          "base_uri": "https://localhost:8080/"
        },
        "id": "b0SKJiunqE0B",
        "outputId": "2e6fab34-1fef-4d64-9b6e-66a536f5eae7"
      },
      "id": "b0SKJiunqE0B",
      "execution_count": 24,
      "outputs": [
        {
          "output_type": "stream",
          "name": "stdout",
          "text": [
            "   subject_id   hadm_id  seq_num   chartdate icd_code  icd_version\n",
            "0    10000032  22595853        1  2180-05-07     5491            9\n",
            "1    10000032  22841357        1  2180-06-27     5491            9\n",
            "2    10000032  25742920        1  2180-08-06     5491            9\n",
            "3    10000068  25022803        1  2160-03-03     8938            9\n",
            "4    10000117  27988844        1  2183-09-19  0QS734Z           10\n"
          ]
        }
      ]
    },
    {
      "cell_type": "code",
      "source": [
        "df_hosp_procedures_icd.info()"
      ],
      "metadata": {
        "colab": {
          "base_uri": "https://localhost:8080/"
        },
        "id": "4Js0IfGmurNo",
        "outputId": "1b6b11bb-4874-4ac7-80ea-23fb2ee15b3f"
      },
      "id": "4Js0IfGmurNo",
      "execution_count": 80,
      "outputs": [
        {
          "output_type": "stream",
          "name": "stdout",
          "text": [
            "<class 'dask.dataframe.core.DataFrame'>\n",
            "Columns: 6 entries, subject_id to icd_version\n",
            "dtypes: int16(1), int32(3), string(2)"
          ]
        }
      ]
    },
    {
      "cell_type": "code",
      "source": [
        "df_hosp_procedures_icd.isna().sum()"
      ],
      "metadata": {
        "colab": {
          "base_uri": "https://localhost:8080/"
        },
        "id": "FiVWKl8ou1ZD",
        "outputId": "ffc99c5c-2339-45fd-c049-2def9dbbc70f"
      },
      "id": "FiVWKl8ou1ZD",
      "execution_count": 83,
      "outputs": [
        {
          "output_type": "execute_result",
          "data": {
            "text/plain": [
              "Dask Series Structure:\n",
              "npartitions=1\n",
              "chartdate     int64\n",
              "subject_id      ...\n",
              "dtype: int64\n",
              "Dask Name: to_pyarrow_string, 6 graph layers"
            ]
          },
          "metadata": {},
          "execution_count": 83
        }
      ]
    },
    {
      "cell_type": "markdown",
      "source": [
        "## MIMIC Hospital prescriptions"
      ],
      "metadata": {
        "id": "cj4xOXDjqHSv"
      },
      "id": "cj4xOXDjqHSv"
    },
    {
      "cell_type": "code",
      "source": [
        "df_hosp_prescriptions = read_hosp_prescriptions_parquet()\n",
        "for chunk in df_hosp_prescriptions.to_delayed():\n",
        "    chunk_df = chunk.compute()\n",
        "    print(chunk_df.head())"
      ],
      "metadata": {
        "colab": {
          "base_uri": "https://localhost:8080/"
        },
        "id": "qyEKe9L2qKxI",
        "outputId": "3a3dcf98-f449-4cf9-d925-9b198ca49a7a"
      },
      "id": "qyEKe9L2qKxI",
      "execution_count": 25,
      "outputs": [
        {
          "output_type": "stream",
          "name": "stdout",
          "text": [
            "   subject_id   hadm_id  pharmacy_id       poe_id  poe_seq order_provider_id  \\\n",
            "0    10000032  22595853     11700683  10000032-34     34.0            P76JEQ   \n",
            "1    10000032  22595853     14779570  10000032-22     22.0            P76JEQ   \n",
            "2    10000032  22595853     19796602  10000032-50     50.0            P260SK   \n",
            "3    10000032  22595853     20256254  10000032-32     32.0            P76JEQ   \n",
            "4    10000032  22595853     28781051  10000032-27     27.0            P76JEQ   \n",
            "\n",
            "            starttime            stoptime drug_type  \\\n",
            "0 2180-05-07 01:00:00 2180-05-07 22:00:00      MAIN   \n",
            "1 2180-05-07 00:00:00 2180-05-07 22:00:00      MAIN   \n",
            "2 2180-05-08 08:00:00 2180-05-07 22:00:00      MAIN   \n",
            "3 2180-05-07 01:00:00 2180-05-07 22:00:00      MAIN   \n",
            "4 2180-05-07 00:00:00 2180-05-07 22:00:00      MAIN   \n",
            "\n",
            "                          drug  ...     gsn          ndc  \\\n",
            "0                Acetaminophen  ...  004490  00904198861   \n",
            "1  Sodium Chloride 0.9%  Flush  ...    <NA>            0   \n",
            "2                   Furosemide  ...  008209  51079007320   \n",
            "3                  Raltegravir  ...  063231  00006022761   \n",
            "4                      Heparin  ...  006549  63323026201   \n",
            "\n",
            "               prod_strength form_rx dose_val_rx dose_unit_rx form_val_disp  \\\n",
            "0               500mg Tablet    <NA>         500           mg             1   \n",
            "1              10 mL Syringe    <NA>           3           mL           0.3   \n",
            "2                40mg Tablet    <NA>          40           mg             1   \n",
            "3              400 mg Tablet    <NA>         400           mg             1   \n",
            "4  5000 Units / mL- 1mL Vial    <NA>        5000         UNIT             1   \n",
            "\n",
            "  form_unit_disp doses_per_24_hrs  route  \n",
            "0            TAB              NaN  PO/NG  \n",
            "1            SYR              3.0     IV  \n",
            "2            TAB              1.0  PO/NG  \n",
            "3            TAB              2.0     PO  \n",
            "4             mL              3.0     SC  \n",
            "\n",
            "[5 rows x 21 columns]\n"
          ]
        }
      ]
    },
    {
      "cell_type": "code",
      "source": [
        "df_hosp_procedures_icd.describe()"
      ],
      "metadata": {
        "colab": {
          "base_uri": "https://localhost:8080/",
          "height": 178
        },
        "id": "ERY0FxoNutQX",
        "outputId": "106a39d8-7e81-44e4-8888-b691bba1e157"
      },
      "id": "ERY0FxoNutQX",
      "execution_count": 81,
      "outputs": [
        {
          "output_type": "execute_result",
          "data": {
            "text/plain": [
              "Dask DataFrame Structure:\n",
              "              subject_id  hadm_id  seq_num icd_version\n",
              "npartitions=1                                         \n",
              "                 float64  float64  float64     float64\n",
              "                     ...      ...      ...         ...\n",
              "Dask Name: to_pyarrow_string, 41 graph layers"
            ],
            "text/html": [
              "<div><strong>Dask DataFrame Structure:</strong></div>\n",
              "<div>\n",
              "<style scoped>\n",
              "    .dataframe tbody tr th:only-of-type {\n",
              "        vertical-align: middle;\n",
              "    }\n",
              "\n",
              "    .dataframe tbody tr th {\n",
              "        vertical-align: top;\n",
              "    }\n",
              "\n",
              "    .dataframe thead th {\n",
              "        text-align: right;\n",
              "    }\n",
              "</style>\n",
              "<table border=\"1\" class=\"dataframe\">\n",
              "  <thead>\n",
              "    <tr style=\"text-align: right;\">\n",
              "      <th></th>\n",
              "      <th>subject_id</th>\n",
              "      <th>hadm_id</th>\n",
              "      <th>seq_num</th>\n",
              "      <th>icd_version</th>\n",
              "    </tr>\n",
              "    <tr>\n",
              "      <th>npartitions=1</th>\n",
              "      <th></th>\n",
              "      <th></th>\n",
              "      <th></th>\n",
              "      <th></th>\n",
              "    </tr>\n",
              "  </thead>\n",
              "  <tbody>\n",
              "    <tr>\n",
              "      <th></th>\n",
              "      <td>float64</td>\n",
              "      <td>float64</td>\n",
              "      <td>float64</td>\n",
              "      <td>float64</td>\n",
              "    </tr>\n",
              "    <tr>\n",
              "      <th></th>\n",
              "      <td>...</td>\n",
              "      <td>...</td>\n",
              "      <td>...</td>\n",
              "      <td>...</td>\n",
              "    </tr>\n",
              "  </tbody>\n",
              "</table>\n",
              "</div>\n",
              "<div>Dask Name: to_pyarrow_string, 41 graph layers</div>"
            ]
          },
          "metadata": {},
          "execution_count": 81
        }
      ]
    },
    {
      "cell_type": "code",
      "source": [
        "df_hosp_prescriptions.isna().sum()"
      ],
      "metadata": {
        "colab": {
          "base_uri": "https://localhost:8080/"
        },
        "id": "AgqsrCnIu_Sy",
        "outputId": "b9166698-c6c5-445d-ae5e-ff3767fbbd81"
      },
      "id": "AgqsrCnIu_Sy",
      "execution_count": 84,
      "outputs": [
        {
          "output_type": "execute_result",
          "data": {
            "text/plain": [
              "Dask Series Structure:\n",
              "npartitions=1\n",
              "dose_unit_rx    int64\n",
              "subject_id        ...\n",
              "dtype: int64\n",
              "Dask Name: to_pyarrow_string, 5 graph layers"
            ]
          },
          "metadata": {},
          "execution_count": 84
        }
      ]
    },
    {
      "cell_type": "markdown",
      "source": [
        "## MIMIC Hospital Poe detail"
      ],
      "metadata": {
        "id": "CuYMragoqYbC"
      },
      "id": "CuYMragoqYbC"
    },
    {
      "cell_type": "code",
      "source": [
        "df_hosp_poe_detail = read_hosp_poe_detail_parquet()\n",
        "for chunk in df_hosp_poe_detail.to_delayed():\n",
        "    chunk_df = chunk.compute()\n",
        "    print(chunk_df.head())"
      ],
      "metadata": {
        "colab": {
          "base_uri": "https://localhost:8080/"
        },
        "id": "KMFfYVGvqXu2",
        "outputId": "afa09bb6-7a32-4d7f-f1dc-02d9d6007e61"
      },
      "id": "KMFfYVGvqXu2",
      "execution_count": 26,
      "outputs": [
        {
          "output_type": "stream",
          "name": "stdout",
          "text": [
            "         poe_id  poe_seq  subject_id          field_name         field_value\n",
            "0  10000032-104      104    10000032      Admit category  Admit to inpatient\n",
            "1  10000032-104      104    10000032            Admit to            Medicine\n",
            "2  10000032-109      109    10000032      Admit category  Admit to inpatient\n",
            "3  10000032-109      109    10000032  Discharge Planning           Finalized\n",
            "4  10000032-111      111    10000032      Admit category  Admit to inpatient\n"
          ]
        }
      ]
    },
    {
      "cell_type": "code",
      "source": [
        "df_hosp_poe_detail.isna().sum()"
      ],
      "metadata": {
        "colab": {
          "base_uri": "https://localhost:8080/"
        },
        "id": "TNUDwdEXvGqP",
        "outputId": "3f4c3e4d-fd6d-49b8-edf9-9b663001dffc"
      },
      "id": "TNUDwdEXvGqP",
      "execution_count": 85,
      "outputs": [
        {
          "output_type": "execute_result",
          "data": {
            "text/plain": [
              "Dask Series Structure:\n",
              "npartitions=1\n",
              "field_name    int64\n",
              "subject_id      ...\n",
              "dtype: int64\n",
              "Dask Name: to_pyarrow_string, 5 graph layers"
            ]
          },
          "metadata": {},
          "execution_count": 85
        }
      ]
    },
    {
      "cell_type": "code",
      "source": [
        "df_hosp_poe_detail.describe()"
      ],
      "metadata": {
        "colab": {
          "base_uri": "https://localhost:8080/",
          "height": 178
        },
        "id": "w5mYirquvJq8",
        "outputId": "4e2379a6-1f20-4040-e2e1-75e21027fd06"
      },
      "id": "w5mYirquvJq8",
      "execution_count": 86,
      "outputs": [
        {
          "output_type": "execute_result",
          "data": {
            "text/plain": [
              "Dask DataFrame Structure:\n",
              "               poe_seq subject_id\n",
              "npartitions=1                    \n",
              "               float64    float64\n",
              "                   ...        ...\n",
              "Dask Name: to_pyarrow_string, 34 graph layers"
            ],
            "text/html": [
              "<div><strong>Dask DataFrame Structure:</strong></div>\n",
              "<div>\n",
              "<style scoped>\n",
              "    .dataframe tbody tr th:only-of-type {\n",
              "        vertical-align: middle;\n",
              "    }\n",
              "\n",
              "    .dataframe tbody tr th {\n",
              "        vertical-align: top;\n",
              "    }\n",
              "\n",
              "    .dataframe thead th {\n",
              "        text-align: right;\n",
              "    }\n",
              "</style>\n",
              "<table border=\"1\" class=\"dataframe\">\n",
              "  <thead>\n",
              "    <tr style=\"text-align: right;\">\n",
              "      <th></th>\n",
              "      <th>poe_seq</th>\n",
              "      <th>subject_id</th>\n",
              "    </tr>\n",
              "    <tr>\n",
              "      <th>npartitions=1</th>\n",
              "      <th></th>\n",
              "      <th></th>\n",
              "    </tr>\n",
              "  </thead>\n",
              "  <tbody>\n",
              "    <tr>\n",
              "      <th></th>\n",
              "      <td>float64</td>\n",
              "      <td>float64</td>\n",
              "    </tr>\n",
              "    <tr>\n",
              "      <th></th>\n",
              "      <td>...</td>\n",
              "      <td>...</td>\n",
              "    </tr>\n",
              "  </tbody>\n",
              "</table>\n",
              "</div>\n",
              "<div>Dask Name: to_pyarrow_string, 34 graph layers</div>"
            ]
          },
          "metadata": {},
          "execution_count": 86
        }
      ]
    },
    {
      "cell_type": "code",
      "source": [
        "df_hosp_poe_detail.info()"
      ],
      "metadata": {
        "colab": {
          "base_uri": "https://localhost:8080/"
        },
        "id": "klc_CJuzvL5_",
        "outputId": "1890f1ce-2a65-4539-efe9-35ba8c120b62"
      },
      "id": "klc_CJuzvL5_",
      "execution_count": 87,
      "outputs": [
        {
          "output_type": "stream",
          "name": "stdout",
          "text": [
            "<class 'dask.dataframe.core.DataFrame'>\n",
            "Columns: 5 entries, poe_id to field_value\n",
            "dtypes: int32(2), string(3)"
          ]
        }
      ]
    },
    {
      "cell_type": "code",
      "source": [
        "df_hosp_poe_detail.dtypes"
      ],
      "metadata": {
        "colab": {
          "base_uri": "https://localhost:8080/"
        },
        "id": "5kh8eXLTvOF5",
        "outputId": "7fa6f46d-4829-4c80-edbf-b7075f26317e"
      },
      "id": "5kh8eXLTvOF5",
      "execution_count": 88,
      "outputs": [
        {
          "output_type": "execute_result",
          "data": {
            "text/plain": [
              "poe_id         string[pyarrow]\n",
              "poe_seq                  int32\n",
              "subject_id               int32\n",
              "field_name     string[pyarrow]\n",
              "field_value    string[pyarrow]\n",
              "dtype: object"
            ]
          },
          "metadata": {},
          "execution_count": 88
        }
      ]
    },
    {
      "cell_type": "markdown",
      "source": [
        "## MIMIC Hospital poe data"
      ],
      "metadata": {
        "id": "iiZVGZlDqg3k"
      },
      "id": "iiZVGZlDqg3k"
    },
    {
      "cell_type": "code",
      "source": [
        "df_hosp_poe = read_hosp_poe_parquet()\n",
        "for chunk in df_hosp_poe.to_delayed():\n",
        "    chunk_df = chunk.compute()\n",
        "    print(chunk_df.head())"
      ],
      "metadata": {
        "colab": {
          "base_uri": "https://localhost:8080/"
        },
        "id": "q8k9RgNRqjT_",
        "outputId": "51b6b991-af1e-42e0-e32f-8cce296ca34a"
      },
      "id": "q8k9RgNRqjT_",
      "execution_count": 27,
      "outputs": [
        {
          "output_type": "stream",
          "name": "stdout",
          "text": [
            "         poe_id  poe_seq  subject_id   hadm_id           ordertime  \\\n",
            "0   10000032-10       10    10000032  22595853 2180-05-06 20:50:49   \n",
            "1  10000032-100      100    10000032  22841357 2180-06-26 22:25:43   \n",
            "2  10000032-102      102    10000032  22841357 2180-06-26 22:37:06   \n",
            "3  10000032-103      103    10000032  22841357 2180-06-26 22:37:06   \n",
            "4  10000032-104      104    10000032  22841357 2180-06-27 07:06:36   \n",
            "\n",
            "    order_type   order_subtype transaction_type discontinue_of_poe_id  \\\n",
            "0          Lab            <NA>              New                  <NA>   \n",
            "1  Respiratory  Oxygen Therapy              New                  <NA>   \n",
            "2  Medications            <NA>              D/C           10000032-93   \n",
            "3  Medications            <NA>           Change           10000032-89   \n",
            "4   ADT orders           Admit           Change           10000032-75   \n",
            "\n",
            "  discontinued_by_poe_id order_provider_id order_status  \n",
            "0                   <NA>            P9705S     Inactive  \n",
            "1                   <NA>            P8971Q     Inactive  \n",
            "2                   <NA>            P8971Q     Inactive  \n",
            "3                   <NA>            P8971Q     Inactive  \n",
            "4                   <NA>            P61HH1     Inactive  \n"
          ]
        }
      ]
    },
    {
      "cell_type": "code",
      "source": [
        "df_hosp_poe.info()"
      ],
      "metadata": {
        "colab": {
          "base_uri": "https://localhost:8080/"
        },
        "id": "mSczRAzHvXNJ",
        "outputId": "a7433774-98a8-4390-8f0a-21b57578307c"
      },
      "id": "mSczRAzHvXNJ",
      "execution_count": 89,
      "outputs": [
        {
          "output_type": "stream",
          "name": "stdout",
          "text": [
            "<class 'dask.dataframe.core.DataFrame'>\n",
            "Columns: 12 entries, poe_id to order_status\n",
            "dtypes: datetime64[us](1), int32(3), string(8)"
          ]
        }
      ]
    },
    {
      "cell_type": "code",
      "source": [
        "df_hosp_poe.dtypes"
      ],
      "metadata": {
        "colab": {
          "base_uri": "https://localhost:8080/"
        },
        "id": "jYmJ7-DgvY-N",
        "outputId": "231e04ca-405f-4772-b390-e52b8467bbb3"
      },
      "id": "jYmJ7-DgvY-N",
      "execution_count": 90,
      "outputs": [
        {
          "output_type": "execute_result",
          "data": {
            "text/plain": [
              "poe_id                    string[pyarrow]\n",
              "poe_seq                             int32\n",
              "subject_id                          int32\n",
              "hadm_id                             int32\n",
              "ordertime                  datetime64[us]\n",
              "order_type                string[pyarrow]\n",
              "order_subtype             string[pyarrow]\n",
              "transaction_type          string[pyarrow]\n",
              "discontinue_of_poe_id     string[pyarrow]\n",
              "discontinued_by_poe_id    string[pyarrow]\n",
              "order_provider_id         string[pyarrow]\n",
              "order_status              string[pyarrow]\n",
              "dtype: object"
            ]
          },
          "metadata": {},
          "execution_count": 90
        }
      ]
    },
    {
      "cell_type": "code",
      "source": [
        "df_hosp_poe.describe()"
      ],
      "metadata": {
        "colab": {
          "base_uri": "https://localhost:8080/",
          "height": 178
        },
        "id": "A37Tg8aUvaow",
        "outputId": "fadbc668-0895-4dd5-ddef-eeb2ebbfd90c"
      },
      "id": "A37Tg8aUvaow",
      "execution_count": 91,
      "outputs": [
        {
          "output_type": "execute_result",
          "data": {
            "text/plain": [
              "Dask DataFrame Structure:\n",
              "               poe_seq subject_id  hadm_id ordertime\n",
              "npartitions=1                                       \n",
              "               float64    float64  float64    string\n",
              "                   ...        ...      ...       ...\n",
              "Dask Name: to_pyarrow_string, 81 graph layers"
            ],
            "text/html": [
              "<div><strong>Dask DataFrame Structure:</strong></div>\n",
              "<div>\n",
              "<style scoped>\n",
              "    .dataframe tbody tr th:only-of-type {\n",
              "        vertical-align: middle;\n",
              "    }\n",
              "\n",
              "    .dataframe tbody tr th {\n",
              "        vertical-align: top;\n",
              "    }\n",
              "\n",
              "    .dataframe thead th {\n",
              "        text-align: right;\n",
              "    }\n",
              "</style>\n",
              "<table border=\"1\" class=\"dataframe\">\n",
              "  <thead>\n",
              "    <tr style=\"text-align: right;\">\n",
              "      <th></th>\n",
              "      <th>poe_seq</th>\n",
              "      <th>subject_id</th>\n",
              "      <th>hadm_id</th>\n",
              "      <th>ordertime</th>\n",
              "    </tr>\n",
              "    <tr>\n",
              "      <th>npartitions=1</th>\n",
              "      <th></th>\n",
              "      <th></th>\n",
              "      <th></th>\n",
              "      <th></th>\n",
              "    </tr>\n",
              "  </thead>\n",
              "  <tbody>\n",
              "    <tr>\n",
              "      <th></th>\n",
              "      <td>float64</td>\n",
              "      <td>float64</td>\n",
              "      <td>float64</td>\n",
              "      <td>string</td>\n",
              "    </tr>\n",
              "    <tr>\n",
              "      <th></th>\n",
              "      <td>...</td>\n",
              "      <td>...</td>\n",
              "      <td>...</td>\n",
              "      <td>...</td>\n",
              "    </tr>\n",
              "  </tbody>\n",
              "</table>\n",
              "</div>\n",
              "<div>Dask Name: to_pyarrow_string, 81 graph layers</div>"
            ]
          },
          "metadata": {},
          "execution_count": 91
        }
      ]
    },
    {
      "cell_type": "code",
      "source": [
        "df_hosp_poe.isna().sum()"
      ],
      "metadata": {
        "colab": {
          "base_uri": "https://localhost:8080/"
        },
        "id": "I4xs45JAveiR",
        "outputId": "51fa9e9e-17e2-41fa-81f6-426c3a7bf574"
      },
      "id": "I4xs45JAveiR",
      "execution_count": 92,
      "outputs": [
        {
          "output_type": "execute_result",
          "data": {
            "text/plain": [
              "Dask Series Structure:\n",
              "npartitions=1\n",
              "discontinue_of_poe_id    int64\n",
              "transaction_type           ...\n",
              "dtype: int64\n",
              "Dask Name: to_pyarrow_string, 5 graph layers"
            ]
          },
          "metadata": {},
          "execution_count": 92
        }
      ]
    },
    {
      "cell_type": "markdown",
      "source": [
        "## Hospital Pharmacy Data"
      ],
      "metadata": {
        "id": "KCgRFTcyqwaA"
      },
      "id": "KCgRFTcyqwaA"
    },
    {
      "cell_type": "code",
      "source": [
        "df_hosp_pharmacy = read_hosp_pharmacy_parquet()\n",
        "for chunk in df_hosp_pharmacy.to_delayed():\n",
        "    chunk_df = chunk.compute()\n",
        "    print(chunk_df.head())"
      ],
      "metadata": {
        "colab": {
          "base_uri": "https://localhost:8080/"
        },
        "id": "Hr90hIgjqyqw",
        "outputId": "344bbfda-08b3-4028-bc0f-406232c23361"
      },
      "id": "Hr90hIgjqyqw",
      "execution_count": 28,
      "outputs": [
        {
          "output_type": "stream",
          "name": "stdout",
          "text": [
            "   subject_id   hadm_id  pharmacy_id       poe_id           starttime  \\\n",
            "0    10000032  22595853     11700683  10000032-34 2180-05-07 01:00:00   \n",
            "1    10000032  22595853     14779570  10000032-22 2180-05-07 00:00:00   \n",
            "2    10000032  22595853     19796602  10000032-50 2180-05-08 08:00:00   \n",
            "3    10000032  22595853     20256254  10000032-32 2180-05-07 01:00:00   \n",
            "4    10000032  22595853     28781051  10000032-27 2180-05-07 00:00:00   \n",
            "\n",
            "             stoptime                   medication  proc_type  \\\n",
            "0 2180-05-07 22:00:00                Acetaminophen  Unit Dose   \n",
            "1 2180-05-07 22:00:00  Sodium Chloride 0.9%  Flush  Unit Dose   \n",
            "2 2180-05-07 22:00:00                   Furosemide  Unit Dose   \n",
            "3 2180-05-07 22:00:00                  Raltegravir  Unit Dose   \n",
            "4 2180-05-07 22:00:00                      Heparin  Unit Dose   \n",
            "\n",
            "                               status           entertime  ... basal_rate  \\\n",
            "0  Discontinued via patient discharge 2180-05-07 00:09:24  ...        NaN   \n",
            "1  Discontinued via patient discharge 2180-05-07 00:00:54  ...        NaN   \n",
            "2  Discontinued via patient discharge 2180-05-07 09:32:35  ...        NaN   \n",
            "3  Discontinued via patient discharge 2180-05-07 00:09:24  ...        NaN   \n",
            "4  Discontinued via patient discharge 2180-05-07 00:00:54  ...        NaN   \n",
            "\n",
            "  one_hr_max doses_per_24_hrs duration duration_interval expiration_value  \\\n",
            "0       <NA>              NaN      NaN           Ongoing             36.0   \n",
            "1       <NA>              3.0      NaN           Ongoing             36.0   \n",
            "2       <NA>              1.0      NaN           Ongoing             36.0   \n",
            "3       <NA>              2.0      NaN           Ongoing             36.0   \n",
            "4       <NA>              3.0      NaN           Ongoing             36.0   \n",
            "\n",
            "  expiration_unit  expirationdate      dispensation  fill_quantity  \n",
            "0           Hours             NaT          Omnicell           <NA>  \n",
            "1           Hours             NaT  Floor Stock Item           <NA>  \n",
            "2           Hours             NaT          Omnicell           <NA>  \n",
            "3           Hours             NaT          Omnicell           <NA>  \n",
            "4           Hours             NaT          Omnicell           <NA>  \n",
            "\n",
            "[5 rows x 27 columns]\n"
          ]
        }
      ]
    },
    {
      "cell_type": "code",
      "source": [
        "df_hosp_pharmacy.dtypes"
      ],
      "metadata": {
        "colab": {
          "base_uri": "https://localhost:8080/"
        },
        "id": "7TO-48hVvp0v",
        "outputId": "8a04a183-2627-4fb5-9c2d-c0372e917ed7"
      },
      "id": "7TO-48hVvp0v",
      "execution_count": 93,
      "outputs": [
        {
          "output_type": "execute_result",
          "data": {
            "text/plain": [
              "subject_id                     int32\n",
              "hadm_id                        int32\n",
              "pharmacy_id                    int32\n",
              "poe_id               string[pyarrow]\n",
              "starttime             datetime64[us]\n",
              "stoptime              datetime64[us]\n",
              "medication           string[pyarrow]\n",
              "proc_type            string[pyarrow]\n",
              "status               string[pyarrow]\n",
              "entertime             datetime64[us]\n",
              "verifiedtime          datetime64[us]\n",
              "route                string[pyarrow]\n",
              "frequency            string[pyarrow]\n",
              "disp_sched           string[pyarrow]\n",
              "infusion_type        string[pyarrow]\n",
              "sliding_scale        string[pyarrow]\n",
              "lockout_interval     string[pyarrow]\n",
              "basal_rate                   float32\n",
              "one_hr_max           string[pyarrow]\n",
              "doses_per_24_hrs             float32\n",
              "duration                     float32\n",
              "duration_interval    string[pyarrow]\n",
              "expiration_value               int32\n",
              "expiration_unit      string[pyarrow]\n",
              "expirationdate        datetime64[us]\n",
              "dispensation         string[pyarrow]\n",
              "fill_quantity        string[pyarrow]\n",
              "dtype: object"
            ]
          },
          "metadata": {},
          "execution_count": 93
        }
      ]
    },
    {
      "cell_type": "code",
      "source": [
        "df_hosp_pharmacy.describe()"
      ],
      "metadata": {
        "colab": {
          "base_uri": "https://localhost:8080/",
          "height": 198
        },
        "id": "kskWEaDcvrfu",
        "outputId": "8c931b0b-15e1-4c55-d767-a3a916408f0d"
      },
      "id": "kskWEaDcvrfu",
      "execution_count": 94,
      "outputs": [
        {
          "output_type": "execute_result",
          "data": {
            "text/plain": [
              "Dask DataFrame Structure:\n",
              "              subject_id  hadm_id pharmacy_id starttime stoptime entertime verifiedtime basal_rate doses_per_24_hrs duration expiration_value expirationdate\n",
              "npartitions=1                                                                                                                                               \n",
              "                 float64  float64     float64    string   string    string       string    float64          float64  float64          float64         string\n",
              "                     ...      ...         ...       ...      ...       ...          ...        ...              ...      ...              ...            ...\n",
              "Dask Name: to_pyarrow_string, 241 graph layers"
            ],
            "text/html": [
              "<div><strong>Dask DataFrame Structure:</strong></div>\n",
              "<div>\n",
              "<style scoped>\n",
              "    .dataframe tbody tr th:only-of-type {\n",
              "        vertical-align: middle;\n",
              "    }\n",
              "\n",
              "    .dataframe tbody tr th {\n",
              "        vertical-align: top;\n",
              "    }\n",
              "\n",
              "    .dataframe thead th {\n",
              "        text-align: right;\n",
              "    }\n",
              "</style>\n",
              "<table border=\"1\" class=\"dataframe\">\n",
              "  <thead>\n",
              "    <tr style=\"text-align: right;\">\n",
              "      <th></th>\n",
              "      <th>subject_id</th>\n",
              "      <th>hadm_id</th>\n",
              "      <th>pharmacy_id</th>\n",
              "      <th>starttime</th>\n",
              "      <th>stoptime</th>\n",
              "      <th>entertime</th>\n",
              "      <th>verifiedtime</th>\n",
              "      <th>basal_rate</th>\n",
              "      <th>doses_per_24_hrs</th>\n",
              "      <th>duration</th>\n",
              "      <th>expiration_value</th>\n",
              "      <th>expirationdate</th>\n",
              "    </tr>\n",
              "    <tr>\n",
              "      <th>npartitions=1</th>\n",
              "      <th></th>\n",
              "      <th></th>\n",
              "      <th></th>\n",
              "      <th></th>\n",
              "      <th></th>\n",
              "      <th></th>\n",
              "      <th></th>\n",
              "      <th></th>\n",
              "      <th></th>\n",
              "      <th></th>\n",
              "      <th></th>\n",
              "      <th></th>\n",
              "    </tr>\n",
              "  </thead>\n",
              "  <tbody>\n",
              "    <tr>\n",
              "      <th></th>\n",
              "      <td>float64</td>\n",
              "      <td>float64</td>\n",
              "      <td>float64</td>\n",
              "      <td>string</td>\n",
              "      <td>string</td>\n",
              "      <td>string</td>\n",
              "      <td>string</td>\n",
              "      <td>float64</td>\n",
              "      <td>float64</td>\n",
              "      <td>float64</td>\n",
              "      <td>float64</td>\n",
              "      <td>string</td>\n",
              "    </tr>\n",
              "    <tr>\n",
              "      <th></th>\n",
              "      <td>...</td>\n",
              "      <td>...</td>\n",
              "      <td>...</td>\n",
              "      <td>...</td>\n",
              "      <td>...</td>\n",
              "      <td>...</td>\n",
              "      <td>...</td>\n",
              "      <td>...</td>\n",
              "      <td>...</td>\n",
              "      <td>...</td>\n",
              "      <td>...</td>\n",
              "      <td>...</td>\n",
              "    </tr>\n",
              "  </tbody>\n",
              "</table>\n",
              "</div>\n",
              "<div>Dask Name: to_pyarrow_string, 241 graph layers</div>"
            ]
          },
          "metadata": {},
          "execution_count": 94
        }
      ]
    },
    {
      "cell_type": "code",
      "source": [
        "df_hosp_pharmacy.info()"
      ],
      "metadata": {
        "colab": {
          "base_uri": "https://localhost:8080/"
        },
        "id": "f4BmEedevtKN",
        "outputId": "31ddcf25-a0e2-401d-beeb-00f4f728ecde"
      },
      "id": "f4BmEedevtKN",
      "execution_count": 95,
      "outputs": [
        {
          "output_type": "stream",
          "name": "stdout",
          "text": [
            "<class 'dask.dataframe.core.DataFrame'>\n",
            "Columns: 27 entries, subject_id to fill_quantity\n",
            "dtypes: datetime64[us](5), float32(3), int32(4), string(15)"
          ]
        }
      ]
    },
    {
      "cell_type": "code",
      "source": [
        "df_hosp_pharmacy.isna().sum()"
      ],
      "metadata": {
        "colab": {
          "base_uri": "https://localhost:8080/"
        },
        "id": "_4AVpr-YvvOc",
        "outputId": "9267f4f0-ee3d-4213-dbcd-98f9966f19a1"
      },
      "id": "_4AVpr-YvvOc",
      "execution_count": 96,
      "outputs": [
        {
          "output_type": "execute_result",
          "data": {
            "text/plain": [
              "Dask Series Structure:\n",
              "npartitions=1\n",
              "basal_rate      int64\n",
              "verifiedtime      ...\n",
              "dtype: int64\n",
              "Dask Name: to_pyarrow_string, 5 graph layers"
            ]
          },
          "metadata": {},
          "execution_count": 96
        }
      ]
    },
    {
      "cell_type": "markdown",
      "source": [
        "## Hospital microbiology events data"
      ],
      "metadata": {
        "id": "dSX4c022q7Rh"
      },
      "id": "dSX4c022q7Rh"
    },
    {
      "cell_type": "code",
      "source": [
        "df_hosp_microbiologyevents = read_hosp_microbiologyevents_parquet()\n",
        "for chunk in df_hosp_microbiologyevents.to_delayed():\n",
        "    chunk_df = chunk.compute()\n",
        "    print(chunk_df.head())"
      ],
      "metadata": {
        "colab": {
          "base_uri": "https://localhost:8080/"
        },
        "id": "29vscxPkq-tT",
        "outputId": "6cef0f77-ecc6-46d4-9f55-cbb3b2ecc106"
      },
      "id": "29vscxPkq-tT",
      "execution_count": 29,
      "outputs": [
        {
          "output_type": "stream",
          "name": "stdout",
          "text": [
            "   microevent_id  subject_id  hadm_id  micro_specimen_id order_provider_id  \\\n",
            "0              1    10000032      NaN             636109            P28Z0X   \n",
            "1              2    10000032      NaN            1836584            P28Z0X   \n",
            "2              3    10000032      NaN            4131591            P28Z0X   \n",
            "3              4    10000032      NaN            4131591            P28Z0X   \n",
            "4              5    10000032      NaN            6028147            P28Z0X   \n",
            "\n",
            "   chartdate           charttime  spec_itemid  spec_type_desc  test_seq  ...  \\\n",
            "0 2180-03-23 2180-03-23 11:51:00        70093    Blood (Toxo)         1  ...   \n",
            "1 2180-03-23 2180-03-23 11:51:00        70017  SEROLOGY/BLOOD         1  ...   \n",
            "2 2180-03-23 2180-03-23 11:51:00        70087  Blood (CMV AB)         1  ...   \n",
            "3 2180-03-23 2180-03-23 11:51:00        70087  Blood (CMV AB)         2  ...   \n",
            "4 2180-03-23 2180-03-23 11:51:00        70088     Blood (EBV)         1  ...   \n",
            "\n",
            "  org_name isolate_num  quantity ab_itemid  ab_name dilution_text  \\\n",
            "0     <NA>         NaN      <NA>       NaN     <NA>          <NA>   \n",
            "1     <NA>         NaN      <NA>       NaN     <NA>          <NA>   \n",
            "2     <NA>         NaN      <NA>       NaN     <NA>          <NA>   \n",
            "3     <NA>         NaN      <NA>       NaN     <NA>          <NA>   \n",
            "4     <NA>         NaN      <NA>       NaN     <NA>          <NA>   \n",
            "\n",
            "   dilution_comparison dilution_value  interpretation  \\\n",
            "0                 <NA>            NaN            <NA>   \n",
            "1                 <NA>            NaN            <NA>   \n",
            "2                 <NA>            NaN            <NA>   \n",
            "3                 <NA>            NaN            <NA>   \n",
            "4                 <NA>            NaN            <NA>   \n",
            "\n",
            "                                            comments  \n",
            "0  NEGATIVE FOR TOXOPLASMA IgG ANTIBODY BY EIA.  ...  \n",
            "1  POSITIVE BY EIA.  A positive IgG result genera...  \n",
            "2                                                ___  \n",
            "3  NEGATIVE FOR CMV IgM ANTIBODY BY EIA.  INTERPR...  \n",
            "4                                 POSITIVE BY EIA.    \n",
            "\n",
            "[5 rows x 25 columns]\n"
          ]
        }
      ]
    },
    {
      "cell_type": "code",
      "source": [
        "df_hosp_microbiologyevents.info()"
      ],
      "metadata": {
        "colab": {
          "base_uri": "https://localhost:8080/"
        },
        "id": "6vsf2JHHvzZs",
        "outputId": "6a0a1b0d-dc32-48bb-e38b-5e6d606e6825"
      },
      "id": "6vsf2JHHvzZs",
      "execution_count": 97,
      "outputs": [
        {
          "output_type": "stream",
          "name": "stdout",
          "text": [
            "<class 'dask.dataframe.core.DataFrame'>\n",
            "Columns: 25 entries, microevent_id to comments\n",
            "dtypes: datetime64[us](4), float64(1), int16(1), int32(9), string(10)"
          ]
        }
      ]
    },
    {
      "cell_type": "code",
      "source": [
        "df_hosp_microbiologyevents.describe()"
      ],
      "metadata": {
        "colab": {
          "base_uri": "https://localhost:8080/",
          "height": 198
        },
        "id": "GIuebKjvv1BZ",
        "outputId": "4652a11b-21b1-40c6-a67c-dc9c8fd633e1"
      },
      "id": "GIuebKjvv1BZ",
      "execution_count": 98,
      "outputs": [
        {
          "output_type": "execute_result",
          "data": {
            "text/plain": [
              "Dask DataFrame Structure:\n",
              "              microevent_id subject_id  hadm_id micro_specimen_id chartdate charttime spec_itemid test_seq storedate storetime test_itemid org_itemid isolate_num ab_itemid dilution_value\n",
              "npartitions=1                                                                                                                                                                             \n",
              "                    float64    float64  float64           float64    string    string     float64  float64    string    string     float64    float64     float64   float64        float64\n",
              "                        ...        ...      ...               ...       ...       ...         ...      ...       ...       ...         ...        ...         ...       ...            ...\n",
              "Dask Name: to_pyarrow_string, 296 graph layers"
            ],
            "text/html": [
              "<div><strong>Dask DataFrame Structure:</strong></div>\n",
              "<div>\n",
              "<style scoped>\n",
              "    .dataframe tbody tr th:only-of-type {\n",
              "        vertical-align: middle;\n",
              "    }\n",
              "\n",
              "    .dataframe tbody tr th {\n",
              "        vertical-align: top;\n",
              "    }\n",
              "\n",
              "    .dataframe thead th {\n",
              "        text-align: right;\n",
              "    }\n",
              "</style>\n",
              "<table border=\"1\" class=\"dataframe\">\n",
              "  <thead>\n",
              "    <tr style=\"text-align: right;\">\n",
              "      <th></th>\n",
              "      <th>microevent_id</th>\n",
              "      <th>subject_id</th>\n",
              "      <th>hadm_id</th>\n",
              "      <th>micro_specimen_id</th>\n",
              "      <th>chartdate</th>\n",
              "      <th>charttime</th>\n",
              "      <th>spec_itemid</th>\n",
              "      <th>test_seq</th>\n",
              "      <th>storedate</th>\n",
              "      <th>storetime</th>\n",
              "      <th>test_itemid</th>\n",
              "      <th>org_itemid</th>\n",
              "      <th>isolate_num</th>\n",
              "      <th>ab_itemid</th>\n",
              "      <th>dilution_value</th>\n",
              "    </tr>\n",
              "    <tr>\n",
              "      <th>npartitions=1</th>\n",
              "      <th></th>\n",
              "      <th></th>\n",
              "      <th></th>\n",
              "      <th></th>\n",
              "      <th></th>\n",
              "      <th></th>\n",
              "      <th></th>\n",
              "      <th></th>\n",
              "      <th></th>\n",
              "      <th></th>\n",
              "      <th></th>\n",
              "      <th></th>\n",
              "      <th></th>\n",
              "      <th></th>\n",
              "      <th></th>\n",
              "    </tr>\n",
              "  </thead>\n",
              "  <tbody>\n",
              "    <tr>\n",
              "      <th></th>\n",
              "      <td>float64</td>\n",
              "      <td>float64</td>\n",
              "      <td>float64</td>\n",
              "      <td>float64</td>\n",
              "      <td>string</td>\n",
              "      <td>string</td>\n",
              "      <td>float64</td>\n",
              "      <td>float64</td>\n",
              "      <td>string</td>\n",
              "      <td>string</td>\n",
              "      <td>float64</td>\n",
              "      <td>float64</td>\n",
              "      <td>float64</td>\n",
              "      <td>float64</td>\n",
              "      <td>float64</td>\n",
              "    </tr>\n",
              "    <tr>\n",
              "      <th></th>\n",
              "      <td>...</td>\n",
              "      <td>...</td>\n",
              "      <td>...</td>\n",
              "      <td>...</td>\n",
              "      <td>...</td>\n",
              "      <td>...</td>\n",
              "      <td>...</td>\n",
              "      <td>...</td>\n",
              "      <td>...</td>\n",
              "      <td>...</td>\n",
              "      <td>...</td>\n",
              "      <td>...</td>\n",
              "      <td>...</td>\n",
              "      <td>...</td>\n",
              "      <td>...</td>\n",
              "    </tr>\n",
              "  </tbody>\n",
              "</table>\n",
              "</div>\n",
              "<div>Dask Name: to_pyarrow_string, 296 graph layers</div>"
            ]
          },
          "metadata": {},
          "execution_count": 98
        }
      ]
    },
    {
      "cell_type": "code",
      "source": [
        "df_hosp_microbiologyevents.dtypes"
      ],
      "metadata": {
        "colab": {
          "base_uri": "https://localhost:8080/"
        },
        "id": "CmJzHK2nv230",
        "outputId": "6ed57000-b4b3-407c-d789-1b543b499a44"
      },
      "id": "CmJzHK2nv230",
      "execution_count": 99,
      "outputs": [
        {
          "output_type": "execute_result",
          "data": {
            "text/plain": [
              "microevent_id                    int32\n",
              "subject_id                       int32\n",
              "hadm_id                          int32\n",
              "micro_specimen_id                int32\n",
              "order_provider_id      string[pyarrow]\n",
              "chartdate               datetime64[us]\n",
              "charttime               datetime64[us]\n",
              "spec_itemid                      int32\n",
              "spec_type_desc         string[pyarrow]\n",
              "test_seq                         int32\n",
              "storedate               datetime64[us]\n",
              "storetime               datetime64[us]\n",
              "test_itemid                      int32\n",
              "test_name              string[pyarrow]\n",
              "org_itemid                       int32\n",
              "org_name               string[pyarrow]\n",
              "isolate_num                      int16\n",
              "quantity               string[pyarrow]\n",
              "ab_itemid                        int32\n",
              "ab_name                string[pyarrow]\n",
              "dilution_text          string[pyarrow]\n",
              "dilution_comparison    string[pyarrow]\n",
              "dilution_value                 float64\n",
              "interpretation         string[pyarrow]\n",
              "comments               string[pyarrow]\n",
              "dtype: object"
            ]
          },
          "metadata": {},
          "execution_count": 99
        }
      ]
    },
    {
      "cell_type": "code",
      "source": [
        "df_hosp_microbiologyevents.isna().sum()"
      ],
      "metadata": {
        "colab": {
          "base_uri": "https://localhost:8080/"
        },
        "id": "9lN4I9eQv4ru",
        "outputId": "2a0635bd-508b-4e08-ad3b-c8b49fa551d1"
      },
      "id": "9lN4I9eQv4ru",
      "execution_count": 100,
      "outputs": [
        {
          "output_type": "execute_result",
          "data": {
            "text/plain": [
              "Dask Series Structure:\n",
              "npartitions=1\n",
              "ab_itemid    int64\n",
              "test_seq       ...\n",
              "dtype: int64\n",
              "Dask Name: to_pyarrow_string, 5 graph layers"
            ]
          },
          "metadata": {},
          "execution_count": 100
        }
      ]
    },
    {
      "cell_type": "markdown",
      "source": [
        "## MIMIC Hospital EMAR data"
      ],
      "metadata": {
        "id": "8UtAaakOrB7J"
      },
      "id": "8UtAaakOrB7J"
    },
    {
      "cell_type": "code",
      "source": [
        "df_hosp_emar = read_hosp_emar_parquet()\n",
        "for chunk in df_hosp_emar.to_delayed():\n",
        "    chunk_df = chunk.compute()\n",
        "    print(chunk_df.head())"
      ],
      "metadata": {
        "colab": {
          "base_uri": "https://localhost:8080/"
        },
        "id": "HId62BYmrFzC",
        "outputId": "76ed74bc-680e-4c4c-9bfd-86a13e86a15b"
      },
      "id": "HId62BYmrFzC",
      "execution_count": 30,
      "outputs": [
        {
          "output_type": "stream",
          "name": "stdout",
          "text": [
            "   subject_id     hadm_id      emar_id  emar_seq       poe_id  pharmacy_id  \\\n",
            "0    10000032  22595853.0  10000032-10        10  10000032-36   48770010.0   \n",
            "1    10000032  22595853.0  10000032-11        11  10000032-22   14779570.0   \n",
            "2    10000032  22595853.0  10000032-12        12  10000032-37   93463122.0   \n",
            "3    10000032  22595853.0  10000032-13        13  10000032-28   42497745.0   \n",
            "4    10000032  22595853.0  10000032-14        14  10000032-29   69131933.0   \n",
            "\n",
            "  enter_provider_id           charttime                         medication  \\\n",
            "0              <NA> 2180-05-07 00:44:00                 Potassium Chloride   \n",
            "1              <NA> 2180-05-07 00:44:00        Sodium Chloride 0.9%  Flush   \n",
            "2              <NA> 2180-05-07 06:10:00            Ipratropium Bromide Neb   \n",
            "3              <NA> 2180-05-07 05:00:00                  Albuterol Inhaler   \n",
            "4              <NA> 2180-05-07 07:51:00  Emtricitabine-Tenofovir (Truvada)   \n",
            "\n",
            "      event_txt        scheduletime           storetime  \n",
            "0  Administered 2180-05-07 00:44:00 2180-05-07 00:44:00  \n",
            "1       Flushed 2180-05-07 00:44:00 2180-05-07 00:44:00  \n",
            "2  Administered 2180-05-07 06:00:00 2180-05-07 06:10:00  \n",
            "3  Administered 2180-05-07 06:29:00 2180-05-07 06:29:00  \n",
            "4  Administered 2180-05-07 08:00:00 2180-05-07 07:56:00  \n"
          ]
        }
      ]
    },
    {
      "cell_type": "code",
      "source": [
        "df_hosp_emar.info()"
      ],
      "metadata": {
        "colab": {
          "base_uri": "https://localhost:8080/"
        },
        "id": "pyPn54Urv96g",
        "outputId": "33ade920-bef9-4614-8bad-bf3a50167a91"
      },
      "id": "pyPn54Urv96g",
      "execution_count": 101,
      "outputs": [
        {
          "output_type": "stream",
          "name": "stdout",
          "text": [
            "<class 'dask.dataframe.core.DataFrame'>\n",
            "Columns: 12 entries, subject_id to storetime\n",
            "dtypes: datetime64[us](3), int32(4), string(5)"
          ]
        }
      ]
    },
    {
      "cell_type": "code",
      "source": [
        "df_hosp_emar.describe()"
      ],
      "metadata": {
        "colab": {
          "base_uri": "https://localhost:8080/",
          "height": 178
        },
        "id": "TQeCNUouv_iv",
        "outputId": "1be06611-f729-4e3e-d81d-e13c1879169e"
      },
      "id": "TQeCNUouv_iv",
      "execution_count": 102,
      "outputs": [
        {
          "output_type": "execute_result",
          "data": {
            "text/plain": [
              "Dask DataFrame Structure:\n",
              "              subject_id  hadm_id emar_seq pharmacy_id charttime scheduletime storetime\n",
              "npartitions=1                                                                          \n",
              "                 float64  float64  float64     float64    string       string    string\n",
              "                     ...      ...      ...         ...       ...          ...       ...\n",
              "Dask Name: to_pyarrow_string, 142 graph layers"
            ],
            "text/html": [
              "<div><strong>Dask DataFrame Structure:</strong></div>\n",
              "<div>\n",
              "<style scoped>\n",
              "    .dataframe tbody tr th:only-of-type {\n",
              "        vertical-align: middle;\n",
              "    }\n",
              "\n",
              "    .dataframe tbody tr th {\n",
              "        vertical-align: top;\n",
              "    }\n",
              "\n",
              "    .dataframe thead th {\n",
              "        text-align: right;\n",
              "    }\n",
              "</style>\n",
              "<table border=\"1\" class=\"dataframe\">\n",
              "  <thead>\n",
              "    <tr style=\"text-align: right;\">\n",
              "      <th></th>\n",
              "      <th>subject_id</th>\n",
              "      <th>hadm_id</th>\n",
              "      <th>emar_seq</th>\n",
              "      <th>pharmacy_id</th>\n",
              "      <th>charttime</th>\n",
              "      <th>scheduletime</th>\n",
              "      <th>storetime</th>\n",
              "    </tr>\n",
              "    <tr>\n",
              "      <th>npartitions=1</th>\n",
              "      <th></th>\n",
              "      <th></th>\n",
              "      <th></th>\n",
              "      <th></th>\n",
              "      <th></th>\n",
              "      <th></th>\n",
              "      <th></th>\n",
              "    </tr>\n",
              "  </thead>\n",
              "  <tbody>\n",
              "    <tr>\n",
              "      <th></th>\n",
              "      <td>float64</td>\n",
              "      <td>float64</td>\n",
              "      <td>float64</td>\n",
              "      <td>float64</td>\n",
              "      <td>string</td>\n",
              "      <td>string</td>\n",
              "      <td>string</td>\n",
              "    </tr>\n",
              "    <tr>\n",
              "      <th></th>\n",
              "      <td>...</td>\n",
              "      <td>...</td>\n",
              "      <td>...</td>\n",
              "      <td>...</td>\n",
              "      <td>...</td>\n",
              "      <td>...</td>\n",
              "      <td>...</td>\n",
              "    </tr>\n",
              "  </tbody>\n",
              "</table>\n",
              "</div>\n",
              "<div>Dask Name: to_pyarrow_string, 142 graph layers</div>"
            ]
          },
          "metadata": {},
          "execution_count": 102
        }
      ]
    },
    {
      "cell_type": "code",
      "source": [
        "df_hosp_emar.dtypes"
      ],
      "metadata": {
        "colab": {
          "base_uri": "https://localhost:8080/"
        },
        "id": "pE2ZJJXkwBJs",
        "outputId": "be968cab-3bc2-4981-f001-ffd46cdb6816"
      },
      "id": "pE2ZJJXkwBJs",
      "execution_count": 103,
      "outputs": [
        {
          "output_type": "execute_result",
          "data": {
            "text/plain": [
              "subject_id                     int32\n",
              "hadm_id                        int32\n",
              "emar_id              string[pyarrow]\n",
              "emar_seq                       int32\n",
              "poe_id               string[pyarrow]\n",
              "pharmacy_id                    int32\n",
              "enter_provider_id    string[pyarrow]\n",
              "charttime             datetime64[us]\n",
              "medication           string[pyarrow]\n",
              "event_txt            string[pyarrow]\n",
              "scheduletime          datetime64[us]\n",
              "storetime             datetime64[us]\n",
              "dtype: object"
            ]
          },
          "metadata": {},
          "execution_count": 103
        }
      ]
    },
    {
      "cell_type": "code",
      "source": [
        "df_hosp_emar.isna().sum()"
      ],
      "metadata": {
        "colab": {
          "base_uri": "https://localhost:8080/"
        },
        "id": "DvQzjcIwwC5I",
        "outputId": "a92118d9-9c5d-493f-833c-78c7388deb51"
      },
      "id": "DvQzjcIwwC5I",
      "execution_count": 104,
      "outputs": [
        {
          "output_type": "execute_result",
          "data": {
            "text/plain": [
              "Dask Series Structure:\n",
              "npartitions=1\n",
              "charttime     int64\n",
              "subject_id      ...\n",
              "dtype: int64\n",
              "Dask Name: to_pyarrow_string, 5 graph layers"
            ]
          },
          "metadata": {},
          "execution_count": 104
        }
      ]
    },
    {
      "cell_type": "markdown",
      "source": [
        "## MIMIC Hospital drgcodes data"
      ],
      "metadata": {
        "id": "S5EiOawBrM3n"
      },
      "id": "S5EiOawBrM3n"
    },
    {
      "cell_type": "code",
      "source": [
        "df_hosp_drgcodes = read_hosp_drgcodes_parquet()\n",
        "for chunk in df_hosp_drgcodes.to_delayed():\n",
        "    chunk_df = chunk.compute()\n",
        "    print(chunk_df.head())"
      ],
      "metadata": {
        "colab": {
          "base_uri": "https://localhost:8080/"
        },
        "id": "QaoDx_gYrQdq",
        "outputId": "ff2ef454-4681-4cfd-f297-f05f922e7075"
      },
      "id": "QaoDx_gYrQdq",
      "execution_count": 31,
      "outputs": [
        {
          "output_type": "stream",
          "name": "stdout",
          "text": [
            "   subject_id   hadm_id drg_type drg_code  \\\n",
            "0    10000032  22595853      APR      283   \n",
            "1    10000032  22595853     HCFA      442   \n",
            "2    10000032  22841357      APR      279   \n",
            "3    10000032  22841357     HCFA      442   \n",
            "4    10000032  25742920      APR      283   \n",
            "\n",
            "                                         description  drg_severity  \\\n",
            "0                       OTHER DISORDERS OF THE LIVER           2.0   \n",
            "1  DISORDERS OF LIVER EXCEPT MALIG,CIRR,ALC HEPA ...           NaN   \n",
            "2   HEPATIC COMA & OTHER MAJOR ACUTE LIVER DISORDERS           3.0   \n",
            "3  DISORDERS OF LIVER EXCEPT MALIG,CIRR,ALC HEPA ...           NaN   \n",
            "4                       OTHER DISORDERS OF THE LIVER           3.0   \n",
            "\n",
            "   drg_mortality  \n",
            "0            2.0  \n",
            "1            NaN  \n",
            "2            2.0  \n",
            "3            NaN  \n",
            "4            2.0  \n"
          ]
        }
      ]
    },
    {
      "cell_type": "code",
      "source": [
        "df_hosp_drgcodes.info()"
      ],
      "metadata": {
        "colab": {
          "base_uri": "https://localhost:8080/"
        },
        "id": "hmWLtspSwF0d",
        "outputId": "5f86611b-bc76-4183-9990-ed9a71e72e0e"
      },
      "id": "hmWLtspSwF0d",
      "execution_count": 105,
      "outputs": [
        {
          "output_type": "stream",
          "name": "stdout",
          "text": [
            "<class 'dask.dataframe.core.DataFrame'>\n",
            "Columns: 7 entries, subject_id to drg_mortality\n",
            "dtypes: int16(2), int32(2), string(3)"
          ]
        }
      ]
    },
    {
      "cell_type": "code",
      "source": [
        "df_hosp_drgcodes.describe()"
      ],
      "metadata": {
        "colab": {
          "base_uri": "https://localhost:8080/",
          "height": 178
        },
        "id": "0RHNhob2wHnZ",
        "outputId": "c432e085-802a-491a-f0f4-c2d9c1faeb94"
      },
      "id": "0RHNhob2wHnZ",
      "execution_count": 106,
      "outputs": [
        {
          "output_type": "execute_result",
          "data": {
            "text/plain": [
              "Dask DataFrame Structure:\n",
              "              subject_id  hadm_id drg_severity drg_mortality\n",
              "npartitions=1                                               \n",
              "                 float64  float64      float64       float64\n",
              "                     ...      ...          ...           ...\n",
              "Dask Name: to_pyarrow_string, 40 graph layers"
            ],
            "text/html": [
              "<div><strong>Dask DataFrame Structure:</strong></div>\n",
              "<div>\n",
              "<style scoped>\n",
              "    .dataframe tbody tr th:only-of-type {\n",
              "        vertical-align: middle;\n",
              "    }\n",
              "\n",
              "    .dataframe tbody tr th {\n",
              "        vertical-align: top;\n",
              "    }\n",
              "\n",
              "    .dataframe thead th {\n",
              "        text-align: right;\n",
              "    }\n",
              "</style>\n",
              "<table border=\"1\" class=\"dataframe\">\n",
              "  <thead>\n",
              "    <tr style=\"text-align: right;\">\n",
              "      <th></th>\n",
              "      <th>subject_id</th>\n",
              "      <th>hadm_id</th>\n",
              "      <th>drg_severity</th>\n",
              "      <th>drg_mortality</th>\n",
              "    </tr>\n",
              "    <tr>\n",
              "      <th>npartitions=1</th>\n",
              "      <th></th>\n",
              "      <th></th>\n",
              "      <th></th>\n",
              "      <th></th>\n",
              "    </tr>\n",
              "  </thead>\n",
              "  <tbody>\n",
              "    <tr>\n",
              "      <th></th>\n",
              "      <td>float64</td>\n",
              "      <td>float64</td>\n",
              "      <td>float64</td>\n",
              "      <td>float64</td>\n",
              "    </tr>\n",
              "    <tr>\n",
              "      <th></th>\n",
              "      <td>...</td>\n",
              "      <td>...</td>\n",
              "      <td>...</td>\n",
              "      <td>...</td>\n",
              "    </tr>\n",
              "  </tbody>\n",
              "</table>\n",
              "</div>\n",
              "<div>Dask Name: to_pyarrow_string, 40 graph layers</div>"
            ]
          },
          "metadata": {},
          "execution_count": 106
        }
      ]
    },
    {
      "cell_type": "code",
      "source": [
        "df_hosp_drgcodes.dtypes"
      ],
      "metadata": {
        "colab": {
          "base_uri": "https://localhost:8080/"
        },
        "id": "wjTB5vOmwKnp",
        "outputId": "6074030b-8e7c-4a60-d4af-d9ba33b76928"
      },
      "id": "wjTB5vOmwKnp",
      "execution_count": 107,
      "outputs": [
        {
          "output_type": "execute_result",
          "data": {
            "text/plain": [
              "subject_id                 int32\n",
              "hadm_id                    int32\n",
              "drg_type         string[pyarrow]\n",
              "drg_code         string[pyarrow]\n",
              "description      string[pyarrow]\n",
              "drg_severity               int16\n",
              "drg_mortality              int16\n",
              "dtype: object"
            ]
          },
          "metadata": {},
          "execution_count": 107
        }
      ]
    },
    {
      "cell_type": "code",
      "source": [
        "df_hosp_drgcodes.isna().sum()"
      ],
      "metadata": {
        "colab": {
          "base_uri": "https://localhost:8080/"
        },
        "id": "SN0EYq55wMEq",
        "outputId": "4af75d23-ed49-45a7-fdb1-f31a887122b6"
      },
      "id": "SN0EYq55wMEq",
      "execution_count": 108,
      "outputs": [
        {
          "output_type": "execute_result",
          "data": {
            "text/plain": [
              "Dask Series Structure:\n",
              "npartitions=1\n",
              "description    int64\n",
              "subject_id       ...\n",
              "dtype: int64\n",
              "Dask Name: to_pyarrow_string, 5 graph layers"
            ]
          },
          "metadata": {},
          "execution_count": 108
        }
      ]
    },
    {
      "cell_type": "markdown",
      "source": [
        "## MIMIC Hospital diagnoses_icd data"
      ],
      "metadata": {
        "id": "q2ZzHapvrThs"
      },
      "id": "q2ZzHapvrThs"
    },
    {
      "cell_type": "code",
      "source": [
        "df_hosp_diagnoses_icd = read_hosp_diagnoses_icd_parquet()\n",
        "for chunk in df_hosp_diagnoses_icd.to_delayed():\n",
        "    chunk_df = chunk.compute()\n",
        "    print(chunk_df.head())"
      ],
      "metadata": {
        "colab": {
          "base_uri": "https://localhost:8080/"
        },
        "id": "pjPHOvU1rYKv",
        "outputId": "e10d188b-d79f-4201-eeaa-f01b90d073af"
      },
      "id": "pjPHOvU1rYKv",
      "execution_count": 32,
      "outputs": [
        {
          "output_type": "stream",
          "name": "stdout",
          "text": [
            "   subject_id   hadm_id  seq_num icd_code  icd_version\n",
            "0    10000032  22595853        1     5723            9\n",
            "1    10000032  22595853        2    78959            9\n",
            "2    10000032  22595853        3     5715            9\n",
            "3    10000032  22595853        4    07070            9\n",
            "4    10000032  22595853        5      496            9\n"
          ]
        }
      ]
    },
    {
      "cell_type": "code",
      "source": [
        "df_hosp_diagnoses_icd.info()"
      ],
      "metadata": {
        "colab": {
          "base_uri": "https://localhost:8080/"
        },
        "id": "gsUGY_-OwXh5",
        "outputId": "6c15c85e-3ecc-4c11-89b0-e6ba58b476da"
      },
      "id": "gsUGY_-OwXh5",
      "execution_count": 109,
      "outputs": [
        {
          "output_type": "stream",
          "name": "stdout",
          "text": [
            "<class 'dask.dataframe.core.DataFrame'>\n",
            "Columns: 5 entries, subject_id to icd_version\n",
            "dtypes: int16(1), int32(3), string(1)"
          ]
        }
      ]
    },
    {
      "cell_type": "code",
      "source": [
        "df_hosp_diagnoses_icd.dtypes"
      ],
      "metadata": {
        "colab": {
          "base_uri": "https://localhost:8080/"
        },
        "id": "G79EVpLUwZHl",
        "outputId": "402d66f3-a1e2-4342-b644-f6bbe6e8cbd9"
      },
      "id": "G79EVpLUwZHl",
      "execution_count": 110,
      "outputs": [
        {
          "output_type": "execute_result",
          "data": {
            "text/plain": [
              "subject_id               int32\n",
              "hadm_id                  int32\n",
              "seq_num                  int32\n",
              "icd_code       string[pyarrow]\n",
              "icd_version              int16\n",
              "dtype: object"
            ]
          },
          "metadata": {},
          "execution_count": 110
        }
      ]
    },
    {
      "cell_type": "code",
      "source": [
        "df_hosp_diagnoses_icd.describe()"
      ],
      "metadata": {
        "colab": {
          "base_uri": "https://localhost:8080/",
          "height": 178
        },
        "id": "3AfYxyJOwaZp",
        "outputId": "14c882ca-c747-4fc0-f97a-4533f68e731b"
      },
      "id": "3AfYxyJOwaZp",
      "execution_count": 111,
      "outputs": [
        {
          "output_type": "execute_result",
          "data": {
            "text/plain": [
              "Dask DataFrame Structure:\n",
              "              subject_id  hadm_id  seq_num icd_version\n",
              "npartitions=1                                         \n",
              "                 float64  float64  float64     float64\n",
              "                     ...      ...      ...         ...\n",
              "Dask Name: to_pyarrow_string, 40 graph layers"
            ],
            "text/html": [
              "<div><strong>Dask DataFrame Structure:</strong></div>\n",
              "<div>\n",
              "<style scoped>\n",
              "    .dataframe tbody tr th:only-of-type {\n",
              "        vertical-align: middle;\n",
              "    }\n",
              "\n",
              "    .dataframe tbody tr th {\n",
              "        vertical-align: top;\n",
              "    }\n",
              "\n",
              "    .dataframe thead th {\n",
              "        text-align: right;\n",
              "    }\n",
              "</style>\n",
              "<table border=\"1\" class=\"dataframe\">\n",
              "  <thead>\n",
              "    <tr style=\"text-align: right;\">\n",
              "      <th></th>\n",
              "      <th>subject_id</th>\n",
              "      <th>hadm_id</th>\n",
              "      <th>seq_num</th>\n",
              "      <th>icd_version</th>\n",
              "    </tr>\n",
              "    <tr>\n",
              "      <th>npartitions=1</th>\n",
              "      <th></th>\n",
              "      <th></th>\n",
              "      <th></th>\n",
              "      <th></th>\n",
              "    </tr>\n",
              "  </thead>\n",
              "  <tbody>\n",
              "    <tr>\n",
              "      <th></th>\n",
              "      <td>float64</td>\n",
              "      <td>float64</td>\n",
              "      <td>float64</td>\n",
              "      <td>float64</td>\n",
              "    </tr>\n",
              "    <tr>\n",
              "      <th></th>\n",
              "      <td>...</td>\n",
              "      <td>...</td>\n",
              "      <td>...</td>\n",
              "      <td>...</td>\n",
              "    </tr>\n",
              "  </tbody>\n",
              "</table>\n",
              "</div>\n",
              "<div>Dask Name: to_pyarrow_string, 40 graph layers</div>"
            ]
          },
          "metadata": {},
          "execution_count": 111
        }
      ]
    },
    {
      "cell_type": "code",
      "source": [
        "df_hosp_diagnoses_icd.isna().sum()"
      ],
      "metadata": {
        "colab": {
          "base_uri": "https://localhost:8080/"
        },
        "id": "yTplRYUyweQx",
        "outputId": "454bd08c-44eb-47f8-cda9-b475b917a5a5"
      },
      "id": "yTplRYUyweQx",
      "execution_count": 112,
      "outputs": [
        {
          "output_type": "execute_result",
          "data": {
            "text/plain": [
              "Dask Series Structure:\n",
              "npartitions=1\n",
              "hadm_id       int64\n",
              "subject_id      ...\n",
              "dtype: int64\n",
              "Dask Name: to_pyarrow_string, 5 graph layers"
            ]
          },
          "metadata": {},
          "execution_count": 112
        }
      ]
    },
    {
      "cell_type": "markdown",
      "source": [
        "## MIMIC Hospital labitems data"
      ],
      "metadata": {
        "id": "eozIL4QJrbJx"
      },
      "id": "eozIL4QJrbJx"
    },
    {
      "cell_type": "code",
      "source": [
        "df_hosp_d_labitems = read_hosp_d_labitems_parquet()\n",
        "for chunk in df_hosp_d_labitems.to_delayed():\n",
        "    chunk_df = chunk.compute()\n",
        "    print(chunk_df.head())"
      ],
      "metadata": {
        "colab": {
          "base_uri": "https://localhost:8080/"
        },
        "id": "AbYD3-EdrfuJ",
        "outputId": "d271467e-4f0b-4131-e2ec-57b74c334fde"
      },
      "id": "AbYD3-EdrfuJ",
      "execution_count": 33,
      "outputs": [
        {
          "output_type": "stream",
          "name": "stdout",
          "text": [
            "   itemid                                label  fluid   category\n",
            "0   50801           Alveolar-arterial Gradient  Blood  Blood Gas\n",
            "1   50802                          Base Excess  Blood  Blood Gas\n",
            "2   50803  Calculated Bicarbonate, Whole Blood  Blood  Blood Gas\n",
            "3   50804                 Calculated Total CO2  Blood  Blood Gas\n",
            "4   50805                    Carboxyhemoglobin  Blood  Blood Gas\n"
          ]
        }
      ]
    },
    {
      "cell_type": "code",
      "source": [
        "df_hosp_d_labitems.info()"
      ],
      "metadata": {
        "colab": {
          "base_uri": "https://localhost:8080/"
        },
        "id": "Y6cFNNfnwhte",
        "outputId": "198c3ca1-79c8-4470-e0c0-e065d34d336b"
      },
      "id": "Y6cFNNfnwhte",
      "execution_count": 113,
      "outputs": [
        {
          "output_type": "stream",
          "name": "stdout",
          "text": [
            "<class 'dask.dataframe.core.DataFrame'>\n",
            "Columns: 4 entries, itemid to category\n",
            "dtypes: int32(1), string(3)"
          ]
        }
      ]
    },
    {
      "cell_type": "code",
      "source": [
        "df_hosp_d_labitems.describe()"
      ],
      "metadata": {
        "colab": {
          "base_uri": "https://localhost:8080/",
          "height": 178
        },
        "id": "AyNchYN8wjul",
        "outputId": "5c7f39e7-4e60-4348-cea8-f23f52417ce2"
      },
      "id": "AyNchYN8wjul",
      "execution_count": 114,
      "outputs": [
        {
          "output_type": "execute_result",
          "data": {
            "text/plain": [
              "Dask DataFrame Structure:\n",
              "                itemid\n",
              "npartitions=1         \n",
              "               float64\n",
              "                   ...\n",
              "Dask Name: to_pyarrow_string, 31 graph layers"
            ],
            "text/html": [
              "<div><strong>Dask DataFrame Structure:</strong></div>\n",
              "<div>\n",
              "<style scoped>\n",
              "    .dataframe tbody tr th:only-of-type {\n",
              "        vertical-align: middle;\n",
              "    }\n",
              "\n",
              "    .dataframe tbody tr th {\n",
              "        vertical-align: top;\n",
              "    }\n",
              "\n",
              "    .dataframe thead th {\n",
              "        text-align: right;\n",
              "    }\n",
              "</style>\n",
              "<table border=\"1\" class=\"dataframe\">\n",
              "  <thead>\n",
              "    <tr style=\"text-align: right;\">\n",
              "      <th></th>\n",
              "      <th>itemid</th>\n",
              "    </tr>\n",
              "    <tr>\n",
              "      <th>npartitions=1</th>\n",
              "      <th></th>\n",
              "    </tr>\n",
              "  </thead>\n",
              "  <tbody>\n",
              "    <tr>\n",
              "      <th></th>\n",
              "      <td>float64</td>\n",
              "    </tr>\n",
              "    <tr>\n",
              "      <th></th>\n",
              "      <td>...</td>\n",
              "    </tr>\n",
              "  </tbody>\n",
              "</table>\n",
              "</div>\n",
              "<div>Dask Name: to_pyarrow_string, 31 graph layers</div>"
            ]
          },
          "metadata": {},
          "execution_count": 114
        }
      ]
    },
    {
      "cell_type": "code",
      "source": [
        "df_hosp_d_labitems.isna().sum()"
      ],
      "metadata": {
        "colab": {
          "base_uri": "https://localhost:8080/"
        },
        "id": "-Bg2CQvjwlYy",
        "outputId": "e8399319-caf9-491d-a8db-b5b9077ecb06"
      },
      "id": "-Bg2CQvjwlYy",
      "execution_count": 115,
      "outputs": [
        {
          "output_type": "execute_result",
          "data": {
            "text/plain": [
              "Dask Series Structure:\n",
              "npartitions=1\n",
              "category    int64\n",
              "label         ...\n",
              "dtype: int64\n",
              "Dask Name: to_pyarrow_string, 5 graph layers"
            ]
          },
          "metadata": {},
          "execution_count": 115
        }
      ]
    },
    {
      "cell_type": "markdown",
      "source": [
        "## MIMIC Hospital d_icd_procedures"
      ],
      "metadata": {
        "id": "uLCWDvxyrihZ"
      },
      "id": "uLCWDvxyrihZ"
    },
    {
      "cell_type": "code",
      "source": [
        "df_hosp_d_icd_procedures = read_hosp_d_icd_procedures_parquet()\n",
        "for chunk in df_hosp_d_icd_procedures.to_delayed():\n",
        "    chunk_df = chunk.compute()\n",
        "    print(chunk_df.head())"
      ],
      "metadata": {
        "colab": {
          "base_uri": "https://localhost:8080/"
        },
        "id": "k_dYVx_QrorT",
        "outputId": "8296ba6a-5271-4ad0-b1a2-9d4b540628d2"
      },
      "id": "k_dYVx_QrorT",
      "execution_count": 34,
      "outputs": [
        {
          "output_type": "stream",
          "name": "stdout",
          "text": [
            "  icd_code  icd_version                                         long_title\n",
            "0     0001            9  Therapeutic ultrasound of vessels of head and ...\n",
            "1     0002            9                    Therapeutic ultrasound of heart\n",
            "2     0003            9  Therapeutic ultrasound of peripheral vascular ...\n",
            "3     0009            9                       Other therapeutic ultrasound\n",
            "4      001           10  Central Nervous System and Cranial Nerves, Bypass\n"
          ]
        }
      ]
    },
    {
      "cell_type": "code",
      "source": [
        "df_hosp_d_icd_procedures.dtypes"
      ],
      "metadata": {
        "colab": {
          "base_uri": "https://localhost:8080/"
        },
        "id": "UF_kfEjmwsfn",
        "outputId": "5101b927-6d45-45ba-bb77-03127a3cd37e"
      },
      "id": "UF_kfEjmwsfn",
      "execution_count": 116,
      "outputs": [
        {
          "output_type": "execute_result",
          "data": {
            "text/plain": [
              "icd_code       string[pyarrow]\n",
              "icd_version              int16\n",
              "long_title     string[pyarrow]\n",
              "dtype: object"
            ]
          },
          "metadata": {},
          "execution_count": 116
        }
      ]
    },
    {
      "cell_type": "code",
      "source": [
        "df_hosp_d_icd_procedures.isna().sum()"
      ],
      "metadata": {
        "colab": {
          "base_uri": "https://localhost:8080/"
        },
        "id": "Tscx_pMlwukM",
        "outputId": "e216a218-20df-406f-b405-2536870ac81c"
      },
      "id": "Tscx_pMlwukM",
      "execution_count": 117,
      "outputs": [
        {
          "output_type": "execute_result",
          "data": {
            "text/plain": [
              "Dask Series Structure:\n",
              "npartitions=1\n",
              "icd_code      int64\n",
              "long_title      ...\n",
              "dtype: int64\n",
              "Dask Name: to_pyarrow_string, 5 graph layers"
            ]
          },
          "metadata": {},
          "execution_count": 117
        }
      ]
    },
    {
      "cell_type": "code",
      "source": [
        "df_hosp_d_icd_procedures.describe()"
      ],
      "metadata": {
        "colab": {
          "base_uri": "https://localhost:8080/",
          "height": 178
        },
        "id": "wytWBjCwwxmb",
        "outputId": "183e9bdf-9f87-4c8a-99d8-6c40115c098a"
      },
      "id": "wytWBjCwwxmb",
      "execution_count": 118,
      "outputs": [
        {
          "output_type": "execute_result",
          "data": {
            "text/plain": [
              "Dask DataFrame Structure:\n",
              "              icd_version\n",
              "npartitions=1            \n",
              "                  float64\n",
              "                      ...\n",
              "Dask Name: to_pyarrow_string, 31 graph layers"
            ],
            "text/html": [
              "<div><strong>Dask DataFrame Structure:</strong></div>\n",
              "<div>\n",
              "<style scoped>\n",
              "    .dataframe tbody tr th:only-of-type {\n",
              "        vertical-align: middle;\n",
              "    }\n",
              "\n",
              "    .dataframe tbody tr th {\n",
              "        vertical-align: top;\n",
              "    }\n",
              "\n",
              "    .dataframe thead th {\n",
              "        text-align: right;\n",
              "    }\n",
              "</style>\n",
              "<table border=\"1\" class=\"dataframe\">\n",
              "  <thead>\n",
              "    <tr style=\"text-align: right;\">\n",
              "      <th></th>\n",
              "      <th>icd_version</th>\n",
              "    </tr>\n",
              "    <tr>\n",
              "      <th>npartitions=1</th>\n",
              "      <th></th>\n",
              "    </tr>\n",
              "  </thead>\n",
              "  <tbody>\n",
              "    <tr>\n",
              "      <th></th>\n",
              "      <td>float64</td>\n",
              "    </tr>\n",
              "    <tr>\n",
              "      <th></th>\n",
              "      <td>...</td>\n",
              "    </tr>\n",
              "  </tbody>\n",
              "</table>\n",
              "</div>\n",
              "<div>Dask Name: to_pyarrow_string, 31 graph layers</div>"
            ]
          },
          "metadata": {},
          "execution_count": 118
        }
      ]
    },
    {
      "cell_type": "markdown",
      "source": [
        "## MIMIC Hospital d_icd_diagnosis"
      ],
      "metadata": {
        "id": "ityWw4K-rsC4"
      },
      "id": "ityWw4K-rsC4"
    },
    {
      "cell_type": "code",
      "source": [
        "df_hosp_d_icd_diagnoses = read_hosp_d_icd_diagnoses_parquet()\n",
        "for chunk in df_hosp_d_icd_diagnoses.to_delayed():\n",
        "    chunk_df = chunk.compute()\n",
        "    print(chunk_df.head())"
      ],
      "metadata": {
        "colab": {
          "base_uri": "https://localhost:8080/"
        },
        "id": "FHqmgPv2rxSB",
        "outputId": "2df86dd4-beea-4060-bdbe-3933b2defd22"
      },
      "id": "FHqmgPv2rxSB",
      "execution_count": 35,
      "outputs": [
        {
          "output_type": "stream",
          "name": "stdout",
          "text": [
            "  icd_code  icd_version                             long_title\n",
            "0     0010            9         Cholera due to vibrio cholerae\n",
            "1     0011            9  Cholera due to vibrio cholerae el tor\n",
            "2     0019            9                   Cholera, unspecified\n",
            "3     0020            9                          Typhoid fever\n",
            "4     0021            9                    Paratyphoid fever A\n"
          ]
        }
      ]
    },
    {
      "cell_type": "code",
      "source": [
        "df_hosp_d_icd_diagnoses.dtypes"
      ],
      "metadata": {
        "colab": {
          "base_uri": "https://localhost:8080/"
        },
        "id": "11FueHJuw4t4",
        "outputId": "97326eba-ae2d-42b9-aac7-3b4a6bbf11a4"
      },
      "id": "11FueHJuw4t4",
      "execution_count": 119,
      "outputs": [
        {
          "output_type": "execute_result",
          "data": {
            "text/plain": [
              "icd_code       string[pyarrow]\n",
              "icd_version              int16\n",
              "long_title     string[pyarrow]\n",
              "dtype: object"
            ]
          },
          "metadata": {},
          "execution_count": 119
        }
      ]
    },
    {
      "cell_type": "code",
      "source": [
        "df_hosp_d_icd_diagnoses.info()"
      ],
      "metadata": {
        "colab": {
          "base_uri": "https://localhost:8080/"
        },
        "id": "5eUDfimCw6Tt",
        "outputId": "fca3bd0c-d5ac-4b40-be34-e912e98a594d"
      },
      "id": "5eUDfimCw6Tt",
      "execution_count": 120,
      "outputs": [
        {
          "output_type": "stream",
          "name": "stdout",
          "text": [
            "<class 'dask.dataframe.core.DataFrame'>\n",
            "Columns: 3 entries, icd_code to long_title\n",
            "dtypes: int16(1), string(2)"
          ]
        }
      ]
    },
    {
      "cell_type": "code",
      "source": [
        "df_hosp_d_icd_diagnoses.describe()"
      ],
      "metadata": {
        "colab": {
          "base_uri": "https://localhost:8080/",
          "height": 178
        },
        "id": "NbrYjDudw7qs",
        "outputId": "0f1bd25f-8e36-4d28-fa36-ce7ad90aebb7"
      },
      "id": "NbrYjDudw7qs",
      "execution_count": 121,
      "outputs": [
        {
          "output_type": "execute_result",
          "data": {
            "text/plain": [
              "Dask DataFrame Structure:\n",
              "              icd_version\n",
              "npartitions=1            \n",
              "                  float64\n",
              "                      ...\n",
              "Dask Name: to_pyarrow_string, 31 graph layers"
            ],
            "text/html": [
              "<div><strong>Dask DataFrame Structure:</strong></div>\n",
              "<div>\n",
              "<style scoped>\n",
              "    .dataframe tbody tr th:only-of-type {\n",
              "        vertical-align: middle;\n",
              "    }\n",
              "\n",
              "    .dataframe tbody tr th {\n",
              "        vertical-align: top;\n",
              "    }\n",
              "\n",
              "    .dataframe thead th {\n",
              "        text-align: right;\n",
              "    }\n",
              "</style>\n",
              "<table border=\"1\" class=\"dataframe\">\n",
              "  <thead>\n",
              "    <tr style=\"text-align: right;\">\n",
              "      <th></th>\n",
              "      <th>icd_version</th>\n",
              "    </tr>\n",
              "    <tr>\n",
              "      <th>npartitions=1</th>\n",
              "      <th></th>\n",
              "    </tr>\n",
              "  </thead>\n",
              "  <tbody>\n",
              "    <tr>\n",
              "      <th></th>\n",
              "      <td>float64</td>\n",
              "    </tr>\n",
              "    <tr>\n",
              "      <th></th>\n",
              "      <td>...</td>\n",
              "    </tr>\n",
              "  </tbody>\n",
              "</table>\n",
              "</div>\n",
              "<div>Dask Name: to_pyarrow_string, 31 graph layers</div>"
            ]
          },
          "metadata": {},
          "execution_count": 121
        }
      ]
    },
    {
      "cell_type": "code",
      "source": [
        "df_hosp_d_icd_diagnoses.isna().sum()"
      ],
      "metadata": {
        "colab": {
          "base_uri": "https://localhost:8080/"
        },
        "id": "zm-G4w-2w-Zv",
        "outputId": "197ff6f3-df3e-4186-9be6-f73ee034417a"
      },
      "id": "zm-G4w-2w-Zv",
      "execution_count": 122,
      "outputs": [
        {
          "output_type": "execute_result",
          "data": {
            "text/plain": [
              "Dask Series Structure:\n",
              "npartitions=1\n",
              "icd_code      int64\n",
              "long_title      ...\n",
              "dtype: int64\n",
              "Dask Name: to_pyarrow_string, 5 graph layers"
            ]
          },
          "metadata": {},
          "execution_count": 122
        }
      ]
    },
    {
      "cell_type": "markdown",
      "source": [
        "## MIMIC Hospital d_hcpcs data"
      ],
      "metadata": {
        "id": "d2FsDzMwr0tJ"
      },
      "id": "d2FsDzMwr0tJ"
    },
    {
      "cell_type": "code",
      "source": [
        "df_hosp_d_hcpcs = read_hosp_d_hcpcs_parquet()\n",
        "for chunk in df_hosp_d_hcpcs.to_delayed():\n",
        "    chunk_df = chunk.compute()\n",
        "    print(chunk_df.head())"
      ],
      "metadata": {
        "colab": {
          "base_uri": "https://localhost:8080/"
        },
        "id": "C82rcsDsr5G0",
        "outputId": "c314d722-86d7-45bf-9c4e-da17f00bec51"
      },
      "id": "C82rcsDsr5G0",
      "execution_count": 36,
      "outputs": [
        {
          "output_type": "stream",
          "name": "stdout",
          "text": [
            "    code  category long_description   short_description\n",
            "0  00000       NaN             <NA>        Invalid Code\n",
            "1  0001F       2.0             <NA>  Composite measures\n",
            "2  0002F       2.0             <NA>  Composite measures\n",
            "3  0003F       2.0             <NA>  Composite measures\n",
            "4  0004F       2.0             <NA>  Composite measures\n"
          ]
        }
      ]
    },
    {
      "cell_type": "code",
      "source": [
        "df_hosp_d_hcpcs.dtypes"
      ],
      "metadata": {
        "colab": {
          "base_uri": "https://localhost:8080/"
        },
        "id": "5yFS2PkLxCYj",
        "outputId": "39be4c69-4648-4fc2-f578-cbf3b84b3c77"
      },
      "id": "5yFS2PkLxCYj",
      "execution_count": 123,
      "outputs": [
        {
          "output_type": "execute_result",
          "data": {
            "text/plain": [
              "code                 string[pyarrow]\n",
              "category                       int16\n",
              "long_description     string[pyarrow]\n",
              "short_description    string[pyarrow]\n",
              "dtype: object"
            ]
          },
          "metadata": {},
          "execution_count": 123
        }
      ]
    },
    {
      "cell_type": "code",
      "source": [
        "df_hosp_d_hcpcs.isna().sum()"
      ],
      "metadata": {
        "colab": {
          "base_uri": "https://localhost:8080/"
        },
        "id": "kq5ZN05hxF35",
        "outputId": "136cb788-1b38-459c-a0b2-44a5b9249ad4"
      },
      "id": "kq5ZN05hxF35",
      "execution_count": 124,
      "outputs": [
        {
          "output_type": "execute_result",
          "data": {
            "text/plain": [
              "Dask Series Structure:\n",
              "npartitions=1\n",
              "category             int64\n",
              "short_description      ...\n",
              "dtype: int64\n",
              "Dask Name: to_pyarrow_string, 5 graph layers"
            ]
          },
          "metadata": {},
          "execution_count": 124
        }
      ]
    },
    {
      "cell_type": "code",
      "source": [
        "df_hosp_d_hcpcs.describe()"
      ],
      "metadata": {
        "colab": {
          "base_uri": "https://localhost:8080/",
          "height": 178
        },
        "id": "UULzcdeixI8B",
        "outputId": "c3b9c0fb-9012-4cfd-a9d5-32d8884709d6"
      },
      "id": "UULzcdeixI8B",
      "execution_count": 125,
      "outputs": [
        {
          "output_type": "execute_result",
          "data": {
            "text/plain": [
              "Dask DataFrame Structure:\n",
              "              category\n",
              "npartitions=1         \n",
              "               float64\n",
              "                   ...\n",
              "Dask Name: to_pyarrow_string, 31 graph layers"
            ],
            "text/html": [
              "<div><strong>Dask DataFrame Structure:</strong></div>\n",
              "<div>\n",
              "<style scoped>\n",
              "    .dataframe tbody tr th:only-of-type {\n",
              "        vertical-align: middle;\n",
              "    }\n",
              "\n",
              "    .dataframe tbody tr th {\n",
              "        vertical-align: top;\n",
              "    }\n",
              "\n",
              "    .dataframe thead th {\n",
              "        text-align: right;\n",
              "    }\n",
              "</style>\n",
              "<table border=\"1\" class=\"dataframe\">\n",
              "  <thead>\n",
              "    <tr style=\"text-align: right;\">\n",
              "      <th></th>\n",
              "      <th>category</th>\n",
              "    </tr>\n",
              "    <tr>\n",
              "      <th>npartitions=1</th>\n",
              "      <th></th>\n",
              "    </tr>\n",
              "  </thead>\n",
              "  <tbody>\n",
              "    <tr>\n",
              "      <th></th>\n",
              "      <td>float64</td>\n",
              "    </tr>\n",
              "    <tr>\n",
              "      <th></th>\n",
              "      <td>...</td>\n",
              "    </tr>\n",
              "  </tbody>\n",
              "</table>\n",
              "</div>\n",
              "<div>Dask Name: to_pyarrow_string, 31 graph layers</div>"
            ]
          },
          "metadata": {},
          "execution_count": 125
        }
      ]
    },
    {
      "cell_type": "code",
      "source": [
        "df_hosp_d_hcpcs.info()"
      ],
      "metadata": {
        "colab": {
          "base_uri": "https://localhost:8080/"
        },
        "id": "OpKtxtKxxK0M",
        "outputId": "d450f889-b667-41bd-9da2-868a12767601"
      },
      "id": "OpKtxtKxxK0M",
      "execution_count": 126,
      "outputs": [
        {
          "output_type": "stream",
          "name": "stdout",
          "text": [
            "<class 'dask.dataframe.core.DataFrame'>\n",
            "Columns: 4 entries, code to short_description\n",
            "dtypes: int16(1), string(3)"
          ]
        }
      ]
    },
    {
      "cell_type": "markdown",
      "id": "f88c5bf9",
      "metadata": {
        "id": "f88c5bf9"
      },
      "source": [
        "# Merge Data on the basis of subject_id index\n",
        "\n",
        "1. Merge patients and admissions"
      ]
    },
    {
      "cell_type": "code",
      "execution_count": 132,
      "id": "8f03d601",
      "metadata": {
        "id": "8f03d601",
        "colab": {
          "base_uri": "https://localhost:8080/",
          "height": 446
        },
        "outputId": "8b7a5387-f04c-42af-f606-852c69dbde30"
      },
      "outputs": [
        {
          "output_type": "stream",
          "name": "stdout",
          "text": [
            "299712\n"
          ]
        },
        {
          "output_type": "execute_result",
          "data": {
            "text/plain": [
              "   subject_id_x   hadm_id           admittime           dischtime deathtime  \\\n",
              "0      10000032  22595853 2180-05-06 22:23:00 2180-05-07 17:15:00       NaT   \n",
              "1      10000032  22841357 2180-06-26 18:27:00 2180-06-27 18:49:00       NaT   \n",
              "2      10000032  25742920 2180-08-05 23:44:00 2180-08-07 17:50:00       NaT   \n",
              "3      10000032  29079034 2180-07-23 12:35:00 2180-07-25 17:55:00       NaT   \n",
              "4      10000068  25022803 2160-03-03 23:16:00 2160-03-04 06:26:00       NaT   \n",
              "\n",
              "   admission_type admit_provider_id      admission_location  \\\n",
              "0          URGENT            P874LG  TRANSFER FROM HOSPITAL   \n",
              "1        EW EMER.            P09Q6Y          EMERGENCY ROOM   \n",
              "2        EW EMER.            P60CC5          EMERGENCY ROOM   \n",
              "3        EW EMER.            P30KEH          EMERGENCY ROOM   \n",
              "4  EU OBSERVATION            P51VDL          EMERGENCY ROOM   \n",
              "\n",
              "  discharge_location insurance  ...   race           edregtime  \\\n",
              "0               HOME     Other  ...  WHITE 2180-05-06 19:17:00   \n",
              "1               HOME  Medicaid  ...  WHITE 2180-06-26 15:54:00   \n",
              "2            HOSPICE  Medicaid  ...  WHITE 2180-08-05 20:58:00   \n",
              "3               HOME  Medicaid  ...  WHITE 2180-07-23 05:54:00   \n",
              "4               <NA>     Other  ...  WHITE 2160-03-03 21:55:00   \n",
              "\n",
              "            edouttime hospital_expire_flag subject_id_y  gender  anchor_age  \\\n",
              "0 2180-05-06 23:30:00                    0     10000032       F          52   \n",
              "1 2180-06-26 21:31:00                    0     10000048       F          23   \n",
              "2 2180-08-06 01:44:00                    0     10000068       F          19   \n",
              "3 2180-07-23 14:00:00                    0     10000084       M          72   \n",
              "4 2160-03-04 06:26:00                    0     10000102       F          27   \n",
              "\n",
              "  anchor_year  anchor_year_group         dod  \n",
              "0        2180        2014 - 2016  2180-09-09  \n",
              "1        2126        2008 - 2010        <NA>  \n",
              "2        2160        2008 - 2010        <NA>  \n",
              "3        2160        2017 - 2019  2161-02-13  \n",
              "4        2136        2008 - 2010        <NA>  \n",
              "\n",
              "[5 rows x 22 columns]"
            ],
            "text/html": [
              "\n",
              "  <div id=\"df-607ceec5-1d0e-423f-8f18-35719690ba0b\" class=\"colab-df-container\">\n",
              "    <div>\n",
              "<style scoped>\n",
              "    .dataframe tbody tr th:only-of-type {\n",
              "        vertical-align: middle;\n",
              "    }\n",
              "\n",
              "    .dataframe tbody tr th {\n",
              "        vertical-align: top;\n",
              "    }\n",
              "\n",
              "    .dataframe thead th {\n",
              "        text-align: right;\n",
              "    }\n",
              "</style>\n",
              "<table border=\"1\" class=\"dataframe\">\n",
              "  <thead>\n",
              "    <tr style=\"text-align: right;\">\n",
              "      <th></th>\n",
              "      <th>subject_id_x</th>\n",
              "      <th>hadm_id</th>\n",
              "      <th>admittime</th>\n",
              "      <th>dischtime</th>\n",
              "      <th>deathtime</th>\n",
              "      <th>admission_type</th>\n",
              "      <th>admit_provider_id</th>\n",
              "      <th>admission_location</th>\n",
              "      <th>discharge_location</th>\n",
              "      <th>insurance</th>\n",
              "      <th>...</th>\n",
              "      <th>race</th>\n",
              "      <th>edregtime</th>\n",
              "      <th>edouttime</th>\n",
              "      <th>hospital_expire_flag</th>\n",
              "      <th>subject_id_y</th>\n",
              "      <th>gender</th>\n",
              "      <th>anchor_age</th>\n",
              "      <th>anchor_year</th>\n",
              "      <th>anchor_year_group</th>\n",
              "      <th>dod</th>\n",
              "    </tr>\n",
              "  </thead>\n",
              "  <tbody>\n",
              "    <tr>\n",
              "      <th>0</th>\n",
              "      <td>10000032</td>\n",
              "      <td>22595853</td>\n",
              "      <td>2180-05-06 22:23:00</td>\n",
              "      <td>2180-05-07 17:15:00</td>\n",
              "      <td>NaT</td>\n",
              "      <td>URGENT</td>\n",
              "      <td>P874LG</td>\n",
              "      <td>TRANSFER FROM HOSPITAL</td>\n",
              "      <td>HOME</td>\n",
              "      <td>Other</td>\n",
              "      <td>...</td>\n",
              "      <td>WHITE</td>\n",
              "      <td>2180-05-06 19:17:00</td>\n",
              "      <td>2180-05-06 23:30:00</td>\n",
              "      <td>0</td>\n",
              "      <td>10000032</td>\n",
              "      <td>F</td>\n",
              "      <td>52</td>\n",
              "      <td>2180</td>\n",
              "      <td>2014 - 2016</td>\n",
              "      <td>2180-09-09</td>\n",
              "    </tr>\n",
              "    <tr>\n",
              "      <th>1</th>\n",
              "      <td>10000032</td>\n",
              "      <td>22841357</td>\n",
              "      <td>2180-06-26 18:27:00</td>\n",
              "      <td>2180-06-27 18:49:00</td>\n",
              "      <td>NaT</td>\n",
              "      <td>EW EMER.</td>\n",
              "      <td>P09Q6Y</td>\n",
              "      <td>EMERGENCY ROOM</td>\n",
              "      <td>HOME</td>\n",
              "      <td>Medicaid</td>\n",
              "      <td>...</td>\n",
              "      <td>WHITE</td>\n",
              "      <td>2180-06-26 15:54:00</td>\n",
              "      <td>2180-06-26 21:31:00</td>\n",
              "      <td>0</td>\n",
              "      <td>10000048</td>\n",
              "      <td>F</td>\n",
              "      <td>23</td>\n",
              "      <td>2126</td>\n",
              "      <td>2008 - 2010</td>\n",
              "      <td>&lt;NA&gt;</td>\n",
              "    </tr>\n",
              "    <tr>\n",
              "      <th>2</th>\n",
              "      <td>10000032</td>\n",
              "      <td>25742920</td>\n",
              "      <td>2180-08-05 23:44:00</td>\n",
              "      <td>2180-08-07 17:50:00</td>\n",
              "      <td>NaT</td>\n",
              "      <td>EW EMER.</td>\n",
              "      <td>P60CC5</td>\n",
              "      <td>EMERGENCY ROOM</td>\n",
              "      <td>HOSPICE</td>\n",
              "      <td>Medicaid</td>\n",
              "      <td>...</td>\n",
              "      <td>WHITE</td>\n",
              "      <td>2180-08-05 20:58:00</td>\n",
              "      <td>2180-08-06 01:44:00</td>\n",
              "      <td>0</td>\n",
              "      <td>10000068</td>\n",
              "      <td>F</td>\n",
              "      <td>19</td>\n",
              "      <td>2160</td>\n",
              "      <td>2008 - 2010</td>\n",
              "      <td>&lt;NA&gt;</td>\n",
              "    </tr>\n",
              "    <tr>\n",
              "      <th>3</th>\n",
              "      <td>10000032</td>\n",
              "      <td>29079034</td>\n",
              "      <td>2180-07-23 12:35:00</td>\n",
              "      <td>2180-07-25 17:55:00</td>\n",
              "      <td>NaT</td>\n",
              "      <td>EW EMER.</td>\n",
              "      <td>P30KEH</td>\n",
              "      <td>EMERGENCY ROOM</td>\n",
              "      <td>HOME</td>\n",
              "      <td>Medicaid</td>\n",
              "      <td>...</td>\n",
              "      <td>WHITE</td>\n",
              "      <td>2180-07-23 05:54:00</td>\n",
              "      <td>2180-07-23 14:00:00</td>\n",
              "      <td>0</td>\n",
              "      <td>10000084</td>\n",
              "      <td>M</td>\n",
              "      <td>72</td>\n",
              "      <td>2160</td>\n",
              "      <td>2017 - 2019</td>\n",
              "      <td>2161-02-13</td>\n",
              "    </tr>\n",
              "    <tr>\n",
              "      <th>4</th>\n",
              "      <td>10000068</td>\n",
              "      <td>25022803</td>\n",
              "      <td>2160-03-03 23:16:00</td>\n",
              "      <td>2160-03-04 06:26:00</td>\n",
              "      <td>NaT</td>\n",
              "      <td>EU OBSERVATION</td>\n",
              "      <td>P51VDL</td>\n",
              "      <td>EMERGENCY ROOM</td>\n",
              "      <td>&lt;NA&gt;</td>\n",
              "      <td>Other</td>\n",
              "      <td>...</td>\n",
              "      <td>WHITE</td>\n",
              "      <td>2160-03-03 21:55:00</td>\n",
              "      <td>2160-03-04 06:26:00</td>\n",
              "      <td>0</td>\n",
              "      <td>10000102</td>\n",
              "      <td>F</td>\n",
              "      <td>27</td>\n",
              "      <td>2136</td>\n",
              "      <td>2008 - 2010</td>\n",
              "      <td>&lt;NA&gt;</td>\n",
              "    </tr>\n",
              "  </tbody>\n",
              "</table>\n",
              "<p>5 rows × 22 columns</p>\n",
              "</div>\n",
              "    <div class=\"colab-df-buttons\">\n",
              "\n",
              "  <div class=\"colab-df-container\">\n",
              "    <button class=\"colab-df-convert\" onclick=\"convertToInteractive('df-607ceec5-1d0e-423f-8f18-35719690ba0b')\"\n",
              "            title=\"Convert this dataframe to an interactive table.\"\n",
              "            style=\"display:none;\">\n",
              "\n",
              "  <svg xmlns=\"http://www.w3.org/2000/svg\" height=\"24px\" viewBox=\"0 -960 960 960\">\n",
              "    <path d=\"M120-120v-720h720v720H120Zm60-500h600v-160H180v160Zm220 220h160v-160H400v160Zm0 220h160v-160H400v160ZM180-400h160v-160H180v160Zm440 0h160v-160H620v160ZM180-180h160v-160H180v160Zm440 0h160v-160H620v160Z\"/>\n",
              "  </svg>\n",
              "    </button>\n",
              "\n",
              "  <style>\n",
              "    .colab-df-container {\n",
              "      display:flex;\n",
              "      gap: 12px;\n",
              "    }\n",
              "\n",
              "    .colab-df-convert {\n",
              "      background-color: #E8F0FE;\n",
              "      border: none;\n",
              "      border-radius: 50%;\n",
              "      cursor: pointer;\n",
              "      display: none;\n",
              "      fill: #1967D2;\n",
              "      height: 32px;\n",
              "      padding: 0 0 0 0;\n",
              "      width: 32px;\n",
              "    }\n",
              "\n",
              "    .colab-df-convert:hover {\n",
              "      background-color: #E2EBFA;\n",
              "      box-shadow: 0px 1px 2px rgba(60, 64, 67, 0.3), 0px 1px 3px 1px rgba(60, 64, 67, 0.15);\n",
              "      fill: #174EA6;\n",
              "    }\n",
              "\n",
              "    .colab-df-buttons div {\n",
              "      margin-bottom: 4px;\n",
              "    }\n",
              "\n",
              "    [theme=dark] .colab-df-convert {\n",
              "      background-color: #3B4455;\n",
              "      fill: #D2E3FC;\n",
              "    }\n",
              "\n",
              "    [theme=dark] .colab-df-convert:hover {\n",
              "      background-color: #434B5C;\n",
              "      box-shadow: 0px 1px 3px 1px rgba(0, 0, 0, 0.15);\n",
              "      filter: drop-shadow(0px 1px 2px rgba(0, 0, 0, 0.3));\n",
              "      fill: #FFFFFF;\n",
              "    }\n",
              "  </style>\n",
              "\n",
              "    <script>\n",
              "      const buttonEl =\n",
              "        document.querySelector('#df-607ceec5-1d0e-423f-8f18-35719690ba0b button.colab-df-convert');\n",
              "      buttonEl.style.display =\n",
              "        google.colab.kernel.accessAllowed ? 'block' : 'none';\n",
              "\n",
              "      async function convertToInteractive(key) {\n",
              "        const element = document.querySelector('#df-607ceec5-1d0e-423f-8f18-35719690ba0b');\n",
              "        const dataTable =\n",
              "          await google.colab.kernel.invokeFunction('convertToInteractive',\n",
              "                                                    [key], {});\n",
              "        if (!dataTable) return;\n",
              "\n",
              "        const docLinkHtml = 'Like what you see? Visit the ' +\n",
              "          '<a target=\"_blank\" href=https://colab.research.google.com/notebooks/data_table.ipynb>data table notebook</a>'\n",
              "          + ' to learn more about interactive tables.';\n",
              "        element.innerHTML = '';\n",
              "        dataTable['output_type'] = 'display_data';\n",
              "        await google.colab.output.renderOutput(dataTable, element);\n",
              "        const docLink = document.createElement('div');\n",
              "        docLink.innerHTML = docLinkHtml;\n",
              "        element.appendChild(docLink);\n",
              "      }\n",
              "    </script>\n",
              "  </div>\n",
              "\n",
              "\n",
              "<div id=\"df-24688cab-622f-4286-be32-677050d2d8ee\">\n",
              "  <button class=\"colab-df-quickchart\" onclick=\"quickchart('df-24688cab-622f-4286-be32-677050d2d8ee')\"\n",
              "            title=\"Suggest charts\"\n",
              "            style=\"display:none;\">\n",
              "\n",
              "<svg xmlns=\"http://www.w3.org/2000/svg\" height=\"24px\"viewBox=\"0 0 24 24\"\n",
              "     width=\"24px\">\n",
              "    <g>\n",
              "        <path d=\"M19 3H5c-1.1 0-2 .9-2 2v14c0 1.1.9 2 2 2h14c1.1 0 2-.9 2-2V5c0-1.1-.9-2-2-2zM9 17H7v-7h2v7zm4 0h-2V7h2v10zm4 0h-2v-4h2v4z\"/>\n",
              "    </g>\n",
              "</svg>\n",
              "  </button>\n",
              "\n",
              "<style>\n",
              "  .colab-df-quickchart {\n",
              "      --bg-color: #E8F0FE;\n",
              "      --fill-color: #1967D2;\n",
              "      --hover-bg-color: #E2EBFA;\n",
              "      --hover-fill-color: #174EA6;\n",
              "      --disabled-fill-color: #AAA;\n",
              "      --disabled-bg-color: #DDD;\n",
              "  }\n",
              "\n",
              "  [theme=dark] .colab-df-quickchart {\n",
              "      --bg-color: #3B4455;\n",
              "      --fill-color: #D2E3FC;\n",
              "      --hover-bg-color: #434B5C;\n",
              "      --hover-fill-color: #FFFFFF;\n",
              "      --disabled-bg-color: #3B4455;\n",
              "      --disabled-fill-color: #666;\n",
              "  }\n",
              "\n",
              "  .colab-df-quickchart {\n",
              "    background-color: var(--bg-color);\n",
              "    border: none;\n",
              "    border-radius: 50%;\n",
              "    cursor: pointer;\n",
              "    display: none;\n",
              "    fill: var(--fill-color);\n",
              "    height: 32px;\n",
              "    padding: 0;\n",
              "    width: 32px;\n",
              "  }\n",
              "\n",
              "  .colab-df-quickchart:hover {\n",
              "    background-color: var(--hover-bg-color);\n",
              "    box-shadow: 0 1px 2px rgba(60, 64, 67, 0.3), 0 1px 3px 1px rgba(60, 64, 67, 0.15);\n",
              "    fill: var(--button-hover-fill-color);\n",
              "  }\n",
              "\n",
              "  .colab-df-quickchart-complete:disabled,\n",
              "  .colab-df-quickchart-complete:disabled:hover {\n",
              "    background-color: var(--disabled-bg-color);\n",
              "    fill: var(--disabled-fill-color);\n",
              "    box-shadow: none;\n",
              "  }\n",
              "\n",
              "  .colab-df-spinner {\n",
              "    border: 2px solid var(--fill-color);\n",
              "    border-color: transparent;\n",
              "    border-bottom-color: var(--fill-color);\n",
              "    animation:\n",
              "      spin 1s steps(1) infinite;\n",
              "  }\n",
              "\n",
              "  @keyframes spin {\n",
              "    0% {\n",
              "      border-color: transparent;\n",
              "      border-bottom-color: var(--fill-color);\n",
              "      border-left-color: var(--fill-color);\n",
              "    }\n",
              "    20% {\n",
              "      border-color: transparent;\n",
              "      border-left-color: var(--fill-color);\n",
              "      border-top-color: var(--fill-color);\n",
              "    }\n",
              "    30% {\n",
              "      border-color: transparent;\n",
              "      border-left-color: var(--fill-color);\n",
              "      border-top-color: var(--fill-color);\n",
              "      border-right-color: var(--fill-color);\n",
              "    }\n",
              "    40% {\n",
              "      border-color: transparent;\n",
              "      border-right-color: var(--fill-color);\n",
              "      border-top-color: var(--fill-color);\n",
              "    }\n",
              "    60% {\n",
              "      border-color: transparent;\n",
              "      border-right-color: var(--fill-color);\n",
              "    }\n",
              "    80% {\n",
              "      border-color: transparent;\n",
              "      border-right-color: var(--fill-color);\n",
              "      border-bottom-color: var(--fill-color);\n",
              "    }\n",
              "    90% {\n",
              "      border-color: transparent;\n",
              "      border-bottom-color: var(--fill-color);\n",
              "    }\n",
              "  }\n",
              "</style>\n",
              "\n",
              "  <script>\n",
              "    async function quickchart(key) {\n",
              "      const quickchartButtonEl =\n",
              "        document.querySelector('#' + key + ' button');\n",
              "      quickchartButtonEl.disabled = true;  // To prevent multiple clicks.\n",
              "      quickchartButtonEl.classList.add('colab-df-spinner');\n",
              "      try {\n",
              "        const charts = await google.colab.kernel.invokeFunction(\n",
              "            'suggestCharts', [key], {});\n",
              "      } catch (error) {\n",
              "        console.error('Error during call to suggestCharts:', error);\n",
              "      }\n",
              "      quickchartButtonEl.classList.remove('colab-df-spinner');\n",
              "      quickchartButtonEl.classList.add('colab-df-quickchart-complete');\n",
              "    }\n",
              "    (() => {\n",
              "      let quickchartButtonEl =\n",
              "        document.querySelector('#df-24688cab-622f-4286-be32-677050d2d8ee button');\n",
              "      quickchartButtonEl.style.display =\n",
              "        google.colab.kernel.accessAllowed ? 'block' : 'none';\n",
              "    })();\n",
              "  </script>\n",
              "</div>\n",
              "\n",
              "    </div>\n",
              "  </div>\n"
            ],
            "application/vnd.google.colaboratory.intrinsic+json": {
              "type": "dataframe"
            }
          },
          "metadata": {},
          "execution_count": 132
        }
      ],
      "source": [
        "df_merge = df_admissions.merge(df_patients, left_index=True, right_index=True)\n",
        "print(len(df_merge))\n",
        "df_merge.head()"
      ]
    },
    {
      "cell_type": "markdown",
      "id": "859f589d",
      "metadata": {
        "id": "859f589d"
      },
      "source": [
        "2. Merge df_merge and df_transfers"
      ]
    },
    {
      "cell_type": "code",
      "execution_count": 133,
      "id": "57f352eb",
      "metadata": {
        "id": "57f352eb",
        "colab": {
          "base_uri": "https://localhost:8080/",
          "height": 446
        },
        "outputId": "eb7813c4-9000-445f-8df6-31eb86be091f"
      },
      "outputs": [
        {
          "output_type": "stream",
          "name": "stdout",
          "text": [
            "299712\n"
          ]
        },
        {
          "output_type": "execute_result",
          "data": {
            "text/plain": [
              "   subject_id_x  hadm_id_x           admittime           dischtime deathtime  \\\n",
              "0      10000032   22595853 2180-05-06 22:23:00 2180-05-07 17:15:00       NaT   \n",
              "1      10000032   22841357 2180-06-26 18:27:00 2180-06-27 18:49:00       NaT   \n",
              "2      10000032   25742920 2180-08-05 23:44:00 2180-08-07 17:50:00       NaT   \n",
              "3      10000032   29079034 2180-07-23 12:35:00 2180-07-25 17:55:00       NaT   \n",
              "4      10000068   25022803 2160-03-03 23:16:00 2160-03-04 06:26:00       NaT   \n",
              "\n",
              "   admission_type admit_provider_id      admission_location  \\\n",
              "0          URGENT            P874LG  TRANSFER FROM HOSPITAL   \n",
              "1        EW EMER.            P09Q6Y          EMERGENCY ROOM   \n",
              "2        EW EMER.            P60CC5          EMERGENCY ROOM   \n",
              "3        EW EMER.            P30KEH          EMERGENCY ROOM   \n",
              "4  EU OBSERVATION            P51VDL          EMERGENCY ROOM   \n",
              "\n",
              "  discharge_location insurance  ... anchor_year anchor_year_group         dod  \\\n",
              "0               HOME     Other  ...        2180       2014 - 2016  2180-09-09   \n",
              "1               HOME  Medicaid  ...        2126       2008 - 2010        <NA>   \n",
              "2            HOSPICE  Medicaid  ...        2160       2008 - 2010        <NA>   \n",
              "3               HOME  Medicaid  ...        2160       2017 - 2019  2161-02-13   \n",
              "4               <NA>     Other  ...        2136       2008 - 2010        <NA>   \n",
              "\n",
              "  subject_id   hadm_id_y  transfer_id  eventtype              careunit  \\\n",
              "0   10000032  22595853.0     33258284         ED  Emergency Department   \n",
              "1   10000032  22595853.0     35223874      admit            Transplant   \n",
              "2   10000032  22595853.0     36904543  discharge                  <NA>   \n",
              "3   10000032  22841357.0     34100253  discharge                  <NA>   \n",
              "4   10000032  22841357.0     34703856      admit            Transplant   \n",
              "\n",
              "               intime             outtime  \n",
              "0 2180-05-06 19:17:00 2180-05-06 23:30:00  \n",
              "1 2180-05-06 23:30:00 2180-05-07 17:21:27  \n",
              "2 2180-05-07 17:21:27                 NaT  \n",
              "3 2180-06-27 18:49:12                 NaT  \n",
              "4 2180-06-26 21:31:00 2180-06-27 18:49:12  \n",
              "\n",
              "[5 rows x 29 columns]"
            ],
            "text/html": [
              "\n",
              "  <div id=\"df-420c3710-23b9-4621-8046-59beba9955e1\" class=\"colab-df-container\">\n",
              "    <div>\n",
              "<style scoped>\n",
              "    .dataframe tbody tr th:only-of-type {\n",
              "        vertical-align: middle;\n",
              "    }\n",
              "\n",
              "    .dataframe tbody tr th {\n",
              "        vertical-align: top;\n",
              "    }\n",
              "\n",
              "    .dataframe thead th {\n",
              "        text-align: right;\n",
              "    }\n",
              "</style>\n",
              "<table border=\"1\" class=\"dataframe\">\n",
              "  <thead>\n",
              "    <tr style=\"text-align: right;\">\n",
              "      <th></th>\n",
              "      <th>subject_id_x</th>\n",
              "      <th>hadm_id_x</th>\n",
              "      <th>admittime</th>\n",
              "      <th>dischtime</th>\n",
              "      <th>deathtime</th>\n",
              "      <th>admission_type</th>\n",
              "      <th>admit_provider_id</th>\n",
              "      <th>admission_location</th>\n",
              "      <th>discharge_location</th>\n",
              "      <th>insurance</th>\n",
              "      <th>...</th>\n",
              "      <th>anchor_year</th>\n",
              "      <th>anchor_year_group</th>\n",
              "      <th>dod</th>\n",
              "      <th>subject_id</th>\n",
              "      <th>hadm_id_y</th>\n",
              "      <th>transfer_id</th>\n",
              "      <th>eventtype</th>\n",
              "      <th>careunit</th>\n",
              "      <th>intime</th>\n",
              "      <th>outtime</th>\n",
              "    </tr>\n",
              "  </thead>\n",
              "  <tbody>\n",
              "    <tr>\n",
              "      <th>0</th>\n",
              "      <td>10000032</td>\n",
              "      <td>22595853</td>\n",
              "      <td>2180-05-06 22:23:00</td>\n",
              "      <td>2180-05-07 17:15:00</td>\n",
              "      <td>NaT</td>\n",
              "      <td>URGENT</td>\n",
              "      <td>P874LG</td>\n",
              "      <td>TRANSFER FROM HOSPITAL</td>\n",
              "      <td>HOME</td>\n",
              "      <td>Other</td>\n",
              "      <td>...</td>\n",
              "      <td>2180</td>\n",
              "      <td>2014 - 2016</td>\n",
              "      <td>2180-09-09</td>\n",
              "      <td>10000032</td>\n",
              "      <td>22595853.0</td>\n",
              "      <td>33258284</td>\n",
              "      <td>ED</td>\n",
              "      <td>Emergency Department</td>\n",
              "      <td>2180-05-06 19:17:00</td>\n",
              "      <td>2180-05-06 23:30:00</td>\n",
              "    </tr>\n",
              "    <tr>\n",
              "      <th>1</th>\n",
              "      <td>10000032</td>\n",
              "      <td>22841357</td>\n",
              "      <td>2180-06-26 18:27:00</td>\n",
              "      <td>2180-06-27 18:49:00</td>\n",
              "      <td>NaT</td>\n",
              "      <td>EW EMER.</td>\n",
              "      <td>P09Q6Y</td>\n",
              "      <td>EMERGENCY ROOM</td>\n",
              "      <td>HOME</td>\n",
              "      <td>Medicaid</td>\n",
              "      <td>...</td>\n",
              "      <td>2126</td>\n",
              "      <td>2008 - 2010</td>\n",
              "      <td>&lt;NA&gt;</td>\n",
              "      <td>10000032</td>\n",
              "      <td>22595853.0</td>\n",
              "      <td>35223874</td>\n",
              "      <td>admit</td>\n",
              "      <td>Transplant</td>\n",
              "      <td>2180-05-06 23:30:00</td>\n",
              "      <td>2180-05-07 17:21:27</td>\n",
              "    </tr>\n",
              "    <tr>\n",
              "      <th>2</th>\n",
              "      <td>10000032</td>\n",
              "      <td>25742920</td>\n",
              "      <td>2180-08-05 23:44:00</td>\n",
              "      <td>2180-08-07 17:50:00</td>\n",
              "      <td>NaT</td>\n",
              "      <td>EW EMER.</td>\n",
              "      <td>P60CC5</td>\n",
              "      <td>EMERGENCY ROOM</td>\n",
              "      <td>HOSPICE</td>\n",
              "      <td>Medicaid</td>\n",
              "      <td>...</td>\n",
              "      <td>2160</td>\n",
              "      <td>2008 - 2010</td>\n",
              "      <td>&lt;NA&gt;</td>\n",
              "      <td>10000032</td>\n",
              "      <td>22595853.0</td>\n",
              "      <td>36904543</td>\n",
              "      <td>discharge</td>\n",
              "      <td>&lt;NA&gt;</td>\n",
              "      <td>2180-05-07 17:21:27</td>\n",
              "      <td>NaT</td>\n",
              "    </tr>\n",
              "    <tr>\n",
              "      <th>3</th>\n",
              "      <td>10000032</td>\n",
              "      <td>29079034</td>\n",
              "      <td>2180-07-23 12:35:00</td>\n",
              "      <td>2180-07-25 17:55:00</td>\n",
              "      <td>NaT</td>\n",
              "      <td>EW EMER.</td>\n",
              "      <td>P30KEH</td>\n",
              "      <td>EMERGENCY ROOM</td>\n",
              "      <td>HOME</td>\n",
              "      <td>Medicaid</td>\n",
              "      <td>...</td>\n",
              "      <td>2160</td>\n",
              "      <td>2017 - 2019</td>\n",
              "      <td>2161-02-13</td>\n",
              "      <td>10000032</td>\n",
              "      <td>22841357.0</td>\n",
              "      <td>34100253</td>\n",
              "      <td>discharge</td>\n",
              "      <td>&lt;NA&gt;</td>\n",
              "      <td>2180-06-27 18:49:12</td>\n",
              "      <td>NaT</td>\n",
              "    </tr>\n",
              "    <tr>\n",
              "      <th>4</th>\n",
              "      <td>10000068</td>\n",
              "      <td>25022803</td>\n",
              "      <td>2160-03-03 23:16:00</td>\n",
              "      <td>2160-03-04 06:26:00</td>\n",
              "      <td>NaT</td>\n",
              "      <td>EU OBSERVATION</td>\n",
              "      <td>P51VDL</td>\n",
              "      <td>EMERGENCY ROOM</td>\n",
              "      <td>&lt;NA&gt;</td>\n",
              "      <td>Other</td>\n",
              "      <td>...</td>\n",
              "      <td>2136</td>\n",
              "      <td>2008 - 2010</td>\n",
              "      <td>&lt;NA&gt;</td>\n",
              "      <td>10000032</td>\n",
              "      <td>22841357.0</td>\n",
              "      <td>34703856</td>\n",
              "      <td>admit</td>\n",
              "      <td>Transplant</td>\n",
              "      <td>2180-06-26 21:31:00</td>\n",
              "      <td>2180-06-27 18:49:12</td>\n",
              "    </tr>\n",
              "  </tbody>\n",
              "</table>\n",
              "<p>5 rows × 29 columns</p>\n",
              "</div>\n",
              "    <div class=\"colab-df-buttons\">\n",
              "\n",
              "  <div class=\"colab-df-container\">\n",
              "    <button class=\"colab-df-convert\" onclick=\"convertToInteractive('df-420c3710-23b9-4621-8046-59beba9955e1')\"\n",
              "            title=\"Convert this dataframe to an interactive table.\"\n",
              "            style=\"display:none;\">\n",
              "\n",
              "  <svg xmlns=\"http://www.w3.org/2000/svg\" height=\"24px\" viewBox=\"0 -960 960 960\">\n",
              "    <path d=\"M120-120v-720h720v720H120Zm60-500h600v-160H180v160Zm220 220h160v-160H400v160Zm0 220h160v-160H400v160ZM180-400h160v-160H180v160Zm440 0h160v-160H620v160ZM180-180h160v-160H180v160Zm440 0h160v-160H620v160Z\"/>\n",
              "  </svg>\n",
              "    </button>\n",
              "\n",
              "  <style>\n",
              "    .colab-df-container {\n",
              "      display:flex;\n",
              "      gap: 12px;\n",
              "    }\n",
              "\n",
              "    .colab-df-convert {\n",
              "      background-color: #E8F0FE;\n",
              "      border: none;\n",
              "      border-radius: 50%;\n",
              "      cursor: pointer;\n",
              "      display: none;\n",
              "      fill: #1967D2;\n",
              "      height: 32px;\n",
              "      padding: 0 0 0 0;\n",
              "      width: 32px;\n",
              "    }\n",
              "\n",
              "    .colab-df-convert:hover {\n",
              "      background-color: #E2EBFA;\n",
              "      box-shadow: 0px 1px 2px rgba(60, 64, 67, 0.3), 0px 1px 3px 1px rgba(60, 64, 67, 0.15);\n",
              "      fill: #174EA6;\n",
              "    }\n",
              "\n",
              "    .colab-df-buttons div {\n",
              "      margin-bottom: 4px;\n",
              "    }\n",
              "\n",
              "    [theme=dark] .colab-df-convert {\n",
              "      background-color: #3B4455;\n",
              "      fill: #D2E3FC;\n",
              "    }\n",
              "\n",
              "    [theme=dark] .colab-df-convert:hover {\n",
              "      background-color: #434B5C;\n",
              "      box-shadow: 0px 1px 3px 1px rgba(0, 0, 0, 0.15);\n",
              "      filter: drop-shadow(0px 1px 2px rgba(0, 0, 0, 0.3));\n",
              "      fill: #FFFFFF;\n",
              "    }\n",
              "  </style>\n",
              "\n",
              "    <script>\n",
              "      const buttonEl =\n",
              "        document.querySelector('#df-420c3710-23b9-4621-8046-59beba9955e1 button.colab-df-convert');\n",
              "      buttonEl.style.display =\n",
              "        google.colab.kernel.accessAllowed ? 'block' : 'none';\n",
              "\n",
              "      async function convertToInteractive(key) {\n",
              "        const element = document.querySelector('#df-420c3710-23b9-4621-8046-59beba9955e1');\n",
              "        const dataTable =\n",
              "          await google.colab.kernel.invokeFunction('convertToInteractive',\n",
              "                                                    [key], {});\n",
              "        if (!dataTable) return;\n",
              "\n",
              "        const docLinkHtml = 'Like what you see? Visit the ' +\n",
              "          '<a target=\"_blank\" href=https://colab.research.google.com/notebooks/data_table.ipynb>data table notebook</a>'\n",
              "          + ' to learn more about interactive tables.';\n",
              "        element.innerHTML = '';\n",
              "        dataTable['output_type'] = 'display_data';\n",
              "        await google.colab.output.renderOutput(dataTable, element);\n",
              "        const docLink = document.createElement('div');\n",
              "        docLink.innerHTML = docLinkHtml;\n",
              "        element.appendChild(docLink);\n",
              "      }\n",
              "    </script>\n",
              "  </div>\n",
              "\n",
              "\n",
              "<div id=\"df-4b9650ad-ffca-4444-bdb7-10881684ac90\">\n",
              "  <button class=\"colab-df-quickchart\" onclick=\"quickchart('df-4b9650ad-ffca-4444-bdb7-10881684ac90')\"\n",
              "            title=\"Suggest charts\"\n",
              "            style=\"display:none;\">\n",
              "\n",
              "<svg xmlns=\"http://www.w3.org/2000/svg\" height=\"24px\"viewBox=\"0 0 24 24\"\n",
              "     width=\"24px\">\n",
              "    <g>\n",
              "        <path d=\"M19 3H5c-1.1 0-2 .9-2 2v14c0 1.1.9 2 2 2h14c1.1 0 2-.9 2-2V5c0-1.1-.9-2-2-2zM9 17H7v-7h2v7zm4 0h-2V7h2v10zm4 0h-2v-4h2v4z\"/>\n",
              "    </g>\n",
              "</svg>\n",
              "  </button>\n",
              "\n",
              "<style>\n",
              "  .colab-df-quickchart {\n",
              "      --bg-color: #E8F0FE;\n",
              "      --fill-color: #1967D2;\n",
              "      --hover-bg-color: #E2EBFA;\n",
              "      --hover-fill-color: #174EA6;\n",
              "      --disabled-fill-color: #AAA;\n",
              "      --disabled-bg-color: #DDD;\n",
              "  }\n",
              "\n",
              "  [theme=dark] .colab-df-quickchart {\n",
              "      --bg-color: #3B4455;\n",
              "      --fill-color: #D2E3FC;\n",
              "      --hover-bg-color: #434B5C;\n",
              "      --hover-fill-color: #FFFFFF;\n",
              "      --disabled-bg-color: #3B4455;\n",
              "      --disabled-fill-color: #666;\n",
              "  }\n",
              "\n",
              "  .colab-df-quickchart {\n",
              "    background-color: var(--bg-color);\n",
              "    border: none;\n",
              "    border-radius: 50%;\n",
              "    cursor: pointer;\n",
              "    display: none;\n",
              "    fill: var(--fill-color);\n",
              "    height: 32px;\n",
              "    padding: 0;\n",
              "    width: 32px;\n",
              "  }\n",
              "\n",
              "  .colab-df-quickchart:hover {\n",
              "    background-color: var(--hover-bg-color);\n",
              "    box-shadow: 0 1px 2px rgba(60, 64, 67, 0.3), 0 1px 3px 1px rgba(60, 64, 67, 0.15);\n",
              "    fill: var(--button-hover-fill-color);\n",
              "  }\n",
              "\n",
              "  .colab-df-quickchart-complete:disabled,\n",
              "  .colab-df-quickchart-complete:disabled:hover {\n",
              "    background-color: var(--disabled-bg-color);\n",
              "    fill: var(--disabled-fill-color);\n",
              "    box-shadow: none;\n",
              "  }\n",
              "\n",
              "  .colab-df-spinner {\n",
              "    border: 2px solid var(--fill-color);\n",
              "    border-color: transparent;\n",
              "    border-bottom-color: var(--fill-color);\n",
              "    animation:\n",
              "      spin 1s steps(1) infinite;\n",
              "  }\n",
              "\n",
              "  @keyframes spin {\n",
              "    0% {\n",
              "      border-color: transparent;\n",
              "      border-bottom-color: var(--fill-color);\n",
              "      border-left-color: var(--fill-color);\n",
              "    }\n",
              "    20% {\n",
              "      border-color: transparent;\n",
              "      border-left-color: var(--fill-color);\n",
              "      border-top-color: var(--fill-color);\n",
              "    }\n",
              "    30% {\n",
              "      border-color: transparent;\n",
              "      border-left-color: var(--fill-color);\n",
              "      border-top-color: var(--fill-color);\n",
              "      border-right-color: var(--fill-color);\n",
              "    }\n",
              "    40% {\n",
              "      border-color: transparent;\n",
              "      border-right-color: var(--fill-color);\n",
              "      border-top-color: var(--fill-color);\n",
              "    }\n",
              "    60% {\n",
              "      border-color: transparent;\n",
              "      border-right-color: var(--fill-color);\n",
              "    }\n",
              "    80% {\n",
              "      border-color: transparent;\n",
              "      border-right-color: var(--fill-color);\n",
              "      border-bottom-color: var(--fill-color);\n",
              "    }\n",
              "    90% {\n",
              "      border-color: transparent;\n",
              "      border-bottom-color: var(--fill-color);\n",
              "    }\n",
              "  }\n",
              "</style>\n",
              "\n",
              "  <script>\n",
              "    async function quickchart(key) {\n",
              "      const quickchartButtonEl =\n",
              "        document.querySelector('#' + key + ' button');\n",
              "      quickchartButtonEl.disabled = true;  // To prevent multiple clicks.\n",
              "      quickchartButtonEl.classList.add('colab-df-spinner');\n",
              "      try {\n",
              "        const charts = await google.colab.kernel.invokeFunction(\n",
              "            'suggestCharts', [key], {});\n",
              "      } catch (error) {\n",
              "        console.error('Error during call to suggestCharts:', error);\n",
              "      }\n",
              "      quickchartButtonEl.classList.remove('colab-df-spinner');\n",
              "      quickchartButtonEl.classList.add('colab-df-quickchart-complete');\n",
              "    }\n",
              "    (() => {\n",
              "      let quickchartButtonEl =\n",
              "        document.querySelector('#df-4b9650ad-ffca-4444-bdb7-10881684ac90 button');\n",
              "      quickchartButtonEl.style.display =\n",
              "        google.colab.kernel.accessAllowed ? 'block' : 'none';\n",
              "    })();\n",
              "  </script>\n",
              "</div>\n",
              "\n",
              "    </div>\n",
              "  </div>\n"
            ],
            "application/vnd.google.colaboratory.intrinsic+json": {
              "type": "dataframe"
            }
          },
          "metadata": {},
          "execution_count": 133
        }
      ],
      "source": [
        "df_merge = df_merge.merge(df_transfers, left_index=True, right_index=True)\n",
        "print(len(df_merge))\n",
        "df_merge.head()"
      ]
    },
    {
      "cell_type": "markdown",
      "id": "3361109a",
      "metadata": {
        "id": "3361109a"
      },
      "source": [
        "3. Merge df_merge and df_diagnoses_icd"
      ]
    },
    {
      "cell_type": "code",
      "execution_count": 136,
      "id": "c21be243",
      "metadata": {
        "id": "c21be243",
        "colab": {
          "base_uri": "https://localhost:8080/",
          "height": 446
        },
        "outputId": "490da453-0992-4120-88fa-bf35d6a01c51"
      },
      "outputs": [
        {
          "output_type": "stream",
          "name": "stdout",
          "text": [
            "299712\n"
          ]
        },
        {
          "output_type": "execute_result",
          "data": {
            "text/plain": [
              "   subject_id_x  hadm_id_x           admittime           dischtime deathtime  \\\n",
              "0      10000032   22595853 2180-05-06 22:23:00 2180-05-07 17:15:00       NaT   \n",
              "1      10000032   22841357 2180-06-26 18:27:00 2180-06-27 18:49:00       NaT   \n",
              "2      10000032   25742920 2180-08-05 23:44:00 2180-08-07 17:50:00       NaT   \n",
              "3      10000032   29079034 2180-07-23 12:35:00 2180-07-25 17:55:00       NaT   \n",
              "4      10000068   25022803 2160-03-03 23:16:00 2160-03-04 06:26:00       NaT   \n",
              "\n",
              "   admission_type admit_provider_id      admission_location  \\\n",
              "0          URGENT            P874LG  TRANSFER FROM HOSPITAL   \n",
              "1        EW EMER.            P09Q6Y          EMERGENCY ROOM   \n",
              "2        EW EMER.            P60CC5          EMERGENCY ROOM   \n",
              "3        EW EMER.            P30KEH          EMERGENCY ROOM   \n",
              "4  EU OBSERVATION            P51VDL          EMERGENCY ROOM   \n",
              "\n",
              "  discharge_location insurance  ... transfer_id  eventtype  \\\n",
              "0               HOME     Other  ...    33258284         ED   \n",
              "1               HOME  Medicaid  ...    35223874      admit   \n",
              "2            HOSPICE  Medicaid  ...    36904543  discharge   \n",
              "3               HOME  Medicaid  ...    34100253  discharge   \n",
              "4               <NA>     Other  ...    34703856      admit   \n",
              "\n",
              "               careunit              intime             outtime  \\\n",
              "0  Emergency Department 2180-05-06 19:17:00 2180-05-06 23:30:00   \n",
              "1            Transplant 2180-05-06 23:30:00 2180-05-07 17:21:27   \n",
              "2                  <NA> 2180-05-07 17:21:27                 NaT   \n",
              "3                  <NA> 2180-06-27 18:49:12                 NaT   \n",
              "4            Transplant 2180-06-26 21:31:00 2180-06-27 18:49:12   \n",
              "\n",
              "   subject_id_right   hadm_id seq_num  icd_code  icd_version  \n",
              "0          10000032  22595853       1      5723            9  \n",
              "1          10000032  22595853       2     78959            9  \n",
              "2          10000032  22595853       3      5715            9  \n",
              "3          10000032  22595853       4     07070            9  \n",
              "4          10000032  22595853       5       496            9  \n",
              "\n",
              "[5 rows x 34 columns]"
            ],
            "text/html": [
              "\n",
              "  <div id=\"df-9a749859-e22d-4b7f-bc66-a4c7efd524f9\" class=\"colab-df-container\">\n",
              "    <div>\n",
              "<style scoped>\n",
              "    .dataframe tbody tr th:only-of-type {\n",
              "        vertical-align: middle;\n",
              "    }\n",
              "\n",
              "    .dataframe tbody tr th {\n",
              "        vertical-align: top;\n",
              "    }\n",
              "\n",
              "    .dataframe thead th {\n",
              "        text-align: right;\n",
              "    }\n",
              "</style>\n",
              "<table border=\"1\" class=\"dataframe\">\n",
              "  <thead>\n",
              "    <tr style=\"text-align: right;\">\n",
              "      <th></th>\n",
              "      <th>subject_id_x</th>\n",
              "      <th>hadm_id_x</th>\n",
              "      <th>admittime</th>\n",
              "      <th>dischtime</th>\n",
              "      <th>deathtime</th>\n",
              "      <th>admission_type</th>\n",
              "      <th>admit_provider_id</th>\n",
              "      <th>admission_location</th>\n",
              "      <th>discharge_location</th>\n",
              "      <th>insurance</th>\n",
              "      <th>...</th>\n",
              "      <th>transfer_id</th>\n",
              "      <th>eventtype</th>\n",
              "      <th>careunit</th>\n",
              "      <th>intime</th>\n",
              "      <th>outtime</th>\n",
              "      <th>subject_id_right</th>\n",
              "      <th>hadm_id</th>\n",
              "      <th>seq_num</th>\n",
              "      <th>icd_code</th>\n",
              "      <th>icd_version</th>\n",
              "    </tr>\n",
              "  </thead>\n",
              "  <tbody>\n",
              "    <tr>\n",
              "      <th>0</th>\n",
              "      <td>10000032</td>\n",
              "      <td>22595853</td>\n",
              "      <td>2180-05-06 22:23:00</td>\n",
              "      <td>2180-05-07 17:15:00</td>\n",
              "      <td>NaT</td>\n",
              "      <td>URGENT</td>\n",
              "      <td>P874LG</td>\n",
              "      <td>TRANSFER FROM HOSPITAL</td>\n",
              "      <td>HOME</td>\n",
              "      <td>Other</td>\n",
              "      <td>...</td>\n",
              "      <td>33258284</td>\n",
              "      <td>ED</td>\n",
              "      <td>Emergency Department</td>\n",
              "      <td>2180-05-06 19:17:00</td>\n",
              "      <td>2180-05-06 23:30:00</td>\n",
              "      <td>10000032</td>\n",
              "      <td>22595853</td>\n",
              "      <td>1</td>\n",
              "      <td>5723</td>\n",
              "      <td>9</td>\n",
              "    </tr>\n",
              "    <tr>\n",
              "      <th>1</th>\n",
              "      <td>10000032</td>\n",
              "      <td>22841357</td>\n",
              "      <td>2180-06-26 18:27:00</td>\n",
              "      <td>2180-06-27 18:49:00</td>\n",
              "      <td>NaT</td>\n",
              "      <td>EW EMER.</td>\n",
              "      <td>P09Q6Y</td>\n",
              "      <td>EMERGENCY ROOM</td>\n",
              "      <td>HOME</td>\n",
              "      <td>Medicaid</td>\n",
              "      <td>...</td>\n",
              "      <td>35223874</td>\n",
              "      <td>admit</td>\n",
              "      <td>Transplant</td>\n",
              "      <td>2180-05-06 23:30:00</td>\n",
              "      <td>2180-05-07 17:21:27</td>\n",
              "      <td>10000032</td>\n",
              "      <td>22595853</td>\n",
              "      <td>2</td>\n",
              "      <td>78959</td>\n",
              "      <td>9</td>\n",
              "    </tr>\n",
              "    <tr>\n",
              "      <th>2</th>\n",
              "      <td>10000032</td>\n",
              "      <td>25742920</td>\n",
              "      <td>2180-08-05 23:44:00</td>\n",
              "      <td>2180-08-07 17:50:00</td>\n",
              "      <td>NaT</td>\n",
              "      <td>EW EMER.</td>\n",
              "      <td>P60CC5</td>\n",
              "      <td>EMERGENCY ROOM</td>\n",
              "      <td>HOSPICE</td>\n",
              "      <td>Medicaid</td>\n",
              "      <td>...</td>\n",
              "      <td>36904543</td>\n",
              "      <td>discharge</td>\n",
              "      <td>&lt;NA&gt;</td>\n",
              "      <td>2180-05-07 17:21:27</td>\n",
              "      <td>NaT</td>\n",
              "      <td>10000032</td>\n",
              "      <td>22595853</td>\n",
              "      <td>3</td>\n",
              "      <td>5715</td>\n",
              "      <td>9</td>\n",
              "    </tr>\n",
              "    <tr>\n",
              "      <th>3</th>\n",
              "      <td>10000032</td>\n",
              "      <td>29079034</td>\n",
              "      <td>2180-07-23 12:35:00</td>\n",
              "      <td>2180-07-25 17:55:00</td>\n",
              "      <td>NaT</td>\n",
              "      <td>EW EMER.</td>\n",
              "      <td>P30KEH</td>\n",
              "      <td>EMERGENCY ROOM</td>\n",
              "      <td>HOME</td>\n",
              "      <td>Medicaid</td>\n",
              "      <td>...</td>\n",
              "      <td>34100253</td>\n",
              "      <td>discharge</td>\n",
              "      <td>&lt;NA&gt;</td>\n",
              "      <td>2180-06-27 18:49:12</td>\n",
              "      <td>NaT</td>\n",
              "      <td>10000032</td>\n",
              "      <td>22595853</td>\n",
              "      <td>4</td>\n",
              "      <td>07070</td>\n",
              "      <td>9</td>\n",
              "    </tr>\n",
              "    <tr>\n",
              "      <th>4</th>\n",
              "      <td>10000068</td>\n",
              "      <td>25022803</td>\n",
              "      <td>2160-03-03 23:16:00</td>\n",
              "      <td>2160-03-04 06:26:00</td>\n",
              "      <td>NaT</td>\n",
              "      <td>EU OBSERVATION</td>\n",
              "      <td>P51VDL</td>\n",
              "      <td>EMERGENCY ROOM</td>\n",
              "      <td>&lt;NA&gt;</td>\n",
              "      <td>Other</td>\n",
              "      <td>...</td>\n",
              "      <td>34703856</td>\n",
              "      <td>admit</td>\n",
              "      <td>Transplant</td>\n",
              "      <td>2180-06-26 21:31:00</td>\n",
              "      <td>2180-06-27 18:49:12</td>\n",
              "      <td>10000032</td>\n",
              "      <td>22595853</td>\n",
              "      <td>5</td>\n",
              "      <td>496</td>\n",
              "      <td>9</td>\n",
              "    </tr>\n",
              "  </tbody>\n",
              "</table>\n",
              "<p>5 rows × 34 columns</p>\n",
              "</div>\n",
              "    <div class=\"colab-df-buttons\">\n",
              "\n",
              "  <div class=\"colab-df-container\">\n",
              "    <button class=\"colab-df-convert\" onclick=\"convertToInteractive('df-9a749859-e22d-4b7f-bc66-a4c7efd524f9')\"\n",
              "            title=\"Convert this dataframe to an interactive table.\"\n",
              "            style=\"display:none;\">\n",
              "\n",
              "  <svg xmlns=\"http://www.w3.org/2000/svg\" height=\"24px\" viewBox=\"0 -960 960 960\">\n",
              "    <path d=\"M120-120v-720h720v720H120Zm60-500h600v-160H180v160Zm220 220h160v-160H400v160Zm0 220h160v-160H400v160ZM180-400h160v-160H180v160Zm440 0h160v-160H620v160ZM180-180h160v-160H180v160Zm440 0h160v-160H620v160Z\"/>\n",
              "  </svg>\n",
              "    </button>\n",
              "\n",
              "  <style>\n",
              "    .colab-df-container {\n",
              "      display:flex;\n",
              "      gap: 12px;\n",
              "    }\n",
              "\n",
              "    .colab-df-convert {\n",
              "      background-color: #E8F0FE;\n",
              "      border: none;\n",
              "      border-radius: 50%;\n",
              "      cursor: pointer;\n",
              "      display: none;\n",
              "      fill: #1967D2;\n",
              "      height: 32px;\n",
              "      padding: 0 0 0 0;\n",
              "      width: 32px;\n",
              "    }\n",
              "\n",
              "    .colab-df-convert:hover {\n",
              "      background-color: #E2EBFA;\n",
              "      box-shadow: 0px 1px 2px rgba(60, 64, 67, 0.3), 0px 1px 3px 1px rgba(60, 64, 67, 0.15);\n",
              "      fill: #174EA6;\n",
              "    }\n",
              "\n",
              "    .colab-df-buttons div {\n",
              "      margin-bottom: 4px;\n",
              "    }\n",
              "\n",
              "    [theme=dark] .colab-df-convert {\n",
              "      background-color: #3B4455;\n",
              "      fill: #D2E3FC;\n",
              "    }\n",
              "\n",
              "    [theme=dark] .colab-df-convert:hover {\n",
              "      background-color: #434B5C;\n",
              "      box-shadow: 0px 1px 3px 1px rgba(0, 0, 0, 0.15);\n",
              "      filter: drop-shadow(0px 1px 2px rgba(0, 0, 0, 0.3));\n",
              "      fill: #FFFFFF;\n",
              "    }\n",
              "  </style>\n",
              "\n",
              "    <script>\n",
              "      const buttonEl =\n",
              "        document.querySelector('#df-9a749859-e22d-4b7f-bc66-a4c7efd524f9 button.colab-df-convert');\n",
              "      buttonEl.style.display =\n",
              "        google.colab.kernel.accessAllowed ? 'block' : 'none';\n",
              "\n",
              "      async function convertToInteractive(key) {\n",
              "        const element = document.querySelector('#df-9a749859-e22d-4b7f-bc66-a4c7efd524f9');\n",
              "        const dataTable =\n",
              "          await google.colab.kernel.invokeFunction('convertToInteractive',\n",
              "                                                    [key], {});\n",
              "        if (!dataTable) return;\n",
              "\n",
              "        const docLinkHtml = 'Like what you see? Visit the ' +\n",
              "          '<a target=\"_blank\" href=https://colab.research.google.com/notebooks/data_table.ipynb>data table notebook</a>'\n",
              "          + ' to learn more about interactive tables.';\n",
              "        element.innerHTML = '';\n",
              "        dataTable['output_type'] = 'display_data';\n",
              "        await google.colab.output.renderOutput(dataTable, element);\n",
              "        const docLink = document.createElement('div');\n",
              "        docLink.innerHTML = docLinkHtml;\n",
              "        element.appendChild(docLink);\n",
              "      }\n",
              "    </script>\n",
              "  </div>\n",
              "\n",
              "\n",
              "<div id=\"df-6fc719ec-843f-43c2-acdb-8abf0f88507c\">\n",
              "  <button class=\"colab-df-quickchart\" onclick=\"quickchart('df-6fc719ec-843f-43c2-acdb-8abf0f88507c')\"\n",
              "            title=\"Suggest charts\"\n",
              "            style=\"display:none;\">\n",
              "\n",
              "<svg xmlns=\"http://www.w3.org/2000/svg\" height=\"24px\"viewBox=\"0 0 24 24\"\n",
              "     width=\"24px\">\n",
              "    <g>\n",
              "        <path d=\"M19 3H5c-1.1 0-2 .9-2 2v14c0 1.1.9 2 2 2h14c1.1 0 2-.9 2-2V5c0-1.1-.9-2-2-2zM9 17H7v-7h2v7zm4 0h-2V7h2v10zm4 0h-2v-4h2v4z\"/>\n",
              "    </g>\n",
              "</svg>\n",
              "  </button>\n",
              "\n",
              "<style>\n",
              "  .colab-df-quickchart {\n",
              "      --bg-color: #E8F0FE;\n",
              "      --fill-color: #1967D2;\n",
              "      --hover-bg-color: #E2EBFA;\n",
              "      --hover-fill-color: #174EA6;\n",
              "      --disabled-fill-color: #AAA;\n",
              "      --disabled-bg-color: #DDD;\n",
              "  }\n",
              "\n",
              "  [theme=dark] .colab-df-quickchart {\n",
              "      --bg-color: #3B4455;\n",
              "      --fill-color: #D2E3FC;\n",
              "      --hover-bg-color: #434B5C;\n",
              "      --hover-fill-color: #FFFFFF;\n",
              "      --disabled-bg-color: #3B4455;\n",
              "      --disabled-fill-color: #666;\n",
              "  }\n",
              "\n",
              "  .colab-df-quickchart {\n",
              "    background-color: var(--bg-color);\n",
              "    border: none;\n",
              "    border-radius: 50%;\n",
              "    cursor: pointer;\n",
              "    display: none;\n",
              "    fill: var(--fill-color);\n",
              "    height: 32px;\n",
              "    padding: 0;\n",
              "    width: 32px;\n",
              "  }\n",
              "\n",
              "  .colab-df-quickchart:hover {\n",
              "    background-color: var(--hover-bg-color);\n",
              "    box-shadow: 0 1px 2px rgba(60, 64, 67, 0.3), 0 1px 3px 1px rgba(60, 64, 67, 0.15);\n",
              "    fill: var(--button-hover-fill-color);\n",
              "  }\n",
              "\n",
              "  .colab-df-quickchart-complete:disabled,\n",
              "  .colab-df-quickchart-complete:disabled:hover {\n",
              "    background-color: var(--disabled-bg-color);\n",
              "    fill: var(--disabled-fill-color);\n",
              "    box-shadow: none;\n",
              "  }\n",
              "\n",
              "  .colab-df-spinner {\n",
              "    border: 2px solid var(--fill-color);\n",
              "    border-color: transparent;\n",
              "    border-bottom-color: var(--fill-color);\n",
              "    animation:\n",
              "      spin 1s steps(1) infinite;\n",
              "  }\n",
              "\n",
              "  @keyframes spin {\n",
              "    0% {\n",
              "      border-color: transparent;\n",
              "      border-bottom-color: var(--fill-color);\n",
              "      border-left-color: var(--fill-color);\n",
              "    }\n",
              "    20% {\n",
              "      border-color: transparent;\n",
              "      border-left-color: var(--fill-color);\n",
              "      border-top-color: var(--fill-color);\n",
              "    }\n",
              "    30% {\n",
              "      border-color: transparent;\n",
              "      border-left-color: var(--fill-color);\n",
              "      border-top-color: var(--fill-color);\n",
              "      border-right-color: var(--fill-color);\n",
              "    }\n",
              "    40% {\n",
              "      border-color: transparent;\n",
              "      border-right-color: var(--fill-color);\n",
              "      border-top-color: var(--fill-color);\n",
              "    }\n",
              "    60% {\n",
              "      border-color: transparent;\n",
              "      border-right-color: var(--fill-color);\n",
              "    }\n",
              "    80% {\n",
              "      border-color: transparent;\n",
              "      border-right-color: var(--fill-color);\n",
              "      border-bottom-color: var(--fill-color);\n",
              "    }\n",
              "    90% {\n",
              "      border-color: transparent;\n",
              "      border-bottom-color: var(--fill-color);\n",
              "    }\n",
              "  }\n",
              "</style>\n",
              "\n",
              "  <script>\n",
              "    async function quickchart(key) {\n",
              "      const quickchartButtonEl =\n",
              "        document.querySelector('#' + key + ' button');\n",
              "      quickchartButtonEl.disabled = true;  // To prevent multiple clicks.\n",
              "      quickchartButtonEl.classList.add('colab-df-spinner');\n",
              "      try {\n",
              "        const charts = await google.colab.kernel.invokeFunction(\n",
              "            'suggestCharts', [key], {});\n",
              "      } catch (error) {\n",
              "        console.error('Error during call to suggestCharts:', error);\n",
              "      }\n",
              "      quickchartButtonEl.classList.remove('colab-df-spinner');\n",
              "      quickchartButtonEl.classList.add('colab-df-quickchart-complete');\n",
              "    }\n",
              "    (() => {\n",
              "      let quickchartButtonEl =\n",
              "        document.querySelector('#df-6fc719ec-843f-43c2-acdb-8abf0f88507c button');\n",
              "      quickchartButtonEl.style.display =\n",
              "        google.colab.kernel.accessAllowed ? 'block' : 'none';\n",
              "    })();\n",
              "  </script>\n",
              "</div>\n",
              "\n",
              "    </div>\n",
              "  </div>\n"
            ],
            "application/vnd.google.colaboratory.intrinsic+json": {
              "type": "dataframe"
            }
          },
          "metadata": {},
          "execution_count": 136
        }
      ],
      "source": [
        "df_merge = df_merge.join(df_hosp_diagnoses_icd, how='left', lsuffix='_left', rsuffix='_right')\n",
        "print(len(df_merge))\n",
        "df_merge.head()"
      ]
    },
    {
      "cell_type": "markdown",
      "id": "cf49735d",
      "metadata": {
        "id": "cf49735d"
      },
      "source": [
        "4. Merge df_merge and df_procedures_icd"
      ]
    },
    {
      "cell_type": "code",
      "execution_count": 138,
      "id": "9938caa8",
      "metadata": {
        "id": "9938caa8",
        "colab": {
          "base_uri": "https://localhost:8080/",
          "height": 568
        },
        "outputId": "87af2832-2e92-4f83-e54e-900f0c053fdf"
      },
      "outputs": [
        {
          "output_type": "stream",
          "name": "stdout",
          "text": [
            "299712\n"
          ]
        },
        {
          "output_type": "execute_result",
          "data": {
            "text/plain": [
              "   subject_id_x  hadm_id_x           admittime           dischtime deathtime  \\\n",
              "0      10000032   22595853 2180-05-06 22:23:00 2180-05-07 17:15:00       NaT   \n",
              "1      10000032   22841357 2180-06-26 18:27:00 2180-06-27 18:49:00       NaT   \n",
              "2      10000032   25742920 2180-08-05 23:44:00 2180-08-07 17:50:00       NaT   \n",
              "3      10000032   29079034 2180-07-23 12:35:00 2180-07-25 17:55:00       NaT   \n",
              "4      10000068   25022803 2160-03-03 23:16:00 2160-03-04 06:26:00       NaT   \n",
              "\n",
              "   admission_type admit_provider_id      admission_location  \\\n",
              "0          URGENT            P874LG  TRANSFER FROM HOSPITAL   \n",
              "1        EW EMER.            P09Q6Y          EMERGENCY ROOM   \n",
              "2        EW EMER.            P60CC5          EMERGENCY ROOM   \n",
              "3        EW EMER.            P30KEH          EMERGENCY ROOM   \n",
              "4  EU OBSERVATION            P51VDL          EMERGENCY ROOM   \n",
              "\n",
              "  discharge_location insurance  ...              intime             outtime  \\\n",
              "0               HOME     Other  ... 2180-05-06 19:17:00 2180-05-06 23:30:00   \n",
              "1               HOME  Medicaid  ... 2180-05-06 23:30:00 2180-05-07 17:21:27   \n",
              "2            HOSPICE  Medicaid  ... 2180-05-07 17:21:27                 NaT   \n",
              "3               HOME  Medicaid  ... 2180-06-27 18:49:12                 NaT   \n",
              "4               <NA>     Other  ... 2180-06-26 21:31:00 2180-06-27 18:49:12   \n",
              "\n",
              "  subject_id_right   hadm_id seq_num  icd_code_left  icd_version_left  \\\n",
              "0         10000032  22595853       1           5723                 9   \n",
              "1         10000032  22595853       2          78959                 9   \n",
              "2         10000032  22595853       3           5715                 9   \n",
              "3         10000032  22595853       4          07070                 9   \n",
              "4         10000032  22595853       5            496                 9   \n",
              "\n",
              "  icd_code_right  icd_version_right  \\\n",
              "0           0001                9.0   \n",
              "1           0002                9.0   \n",
              "2           0003                9.0   \n",
              "3           0009                9.0   \n",
              "4            001               10.0   \n",
              "\n",
              "                                          long_title  \n",
              "0  Therapeutic ultrasound of vessels of head and ...  \n",
              "1                    Therapeutic ultrasound of heart  \n",
              "2  Therapeutic ultrasound of peripheral vascular ...  \n",
              "3                       Other therapeutic ultrasound  \n",
              "4  Central Nervous System and Cranial Nerves, Bypass  \n",
              "\n",
              "[5 rows x 37 columns]"
            ],
            "text/html": [
              "\n",
              "  <div id=\"df-5ffda352-13fb-4d8b-8068-c7b71ded080c\" class=\"colab-df-container\">\n",
              "    <div>\n",
              "<style scoped>\n",
              "    .dataframe tbody tr th:only-of-type {\n",
              "        vertical-align: middle;\n",
              "    }\n",
              "\n",
              "    .dataframe tbody tr th {\n",
              "        vertical-align: top;\n",
              "    }\n",
              "\n",
              "    .dataframe thead th {\n",
              "        text-align: right;\n",
              "    }\n",
              "</style>\n",
              "<table border=\"1\" class=\"dataframe\">\n",
              "  <thead>\n",
              "    <tr style=\"text-align: right;\">\n",
              "      <th></th>\n",
              "      <th>subject_id_x</th>\n",
              "      <th>hadm_id_x</th>\n",
              "      <th>admittime</th>\n",
              "      <th>dischtime</th>\n",
              "      <th>deathtime</th>\n",
              "      <th>admission_type</th>\n",
              "      <th>admit_provider_id</th>\n",
              "      <th>admission_location</th>\n",
              "      <th>discharge_location</th>\n",
              "      <th>insurance</th>\n",
              "      <th>...</th>\n",
              "      <th>intime</th>\n",
              "      <th>outtime</th>\n",
              "      <th>subject_id_right</th>\n",
              "      <th>hadm_id</th>\n",
              "      <th>seq_num</th>\n",
              "      <th>icd_code_left</th>\n",
              "      <th>icd_version_left</th>\n",
              "      <th>icd_code_right</th>\n",
              "      <th>icd_version_right</th>\n",
              "      <th>long_title</th>\n",
              "    </tr>\n",
              "  </thead>\n",
              "  <tbody>\n",
              "    <tr>\n",
              "      <th>0</th>\n",
              "      <td>10000032</td>\n",
              "      <td>22595853</td>\n",
              "      <td>2180-05-06 22:23:00</td>\n",
              "      <td>2180-05-07 17:15:00</td>\n",
              "      <td>NaT</td>\n",
              "      <td>URGENT</td>\n",
              "      <td>P874LG</td>\n",
              "      <td>TRANSFER FROM HOSPITAL</td>\n",
              "      <td>HOME</td>\n",
              "      <td>Other</td>\n",
              "      <td>...</td>\n",
              "      <td>2180-05-06 19:17:00</td>\n",
              "      <td>2180-05-06 23:30:00</td>\n",
              "      <td>10000032</td>\n",
              "      <td>22595853</td>\n",
              "      <td>1</td>\n",
              "      <td>5723</td>\n",
              "      <td>9</td>\n",
              "      <td>0001</td>\n",
              "      <td>9.0</td>\n",
              "      <td>Therapeutic ultrasound of vessels of head and ...</td>\n",
              "    </tr>\n",
              "    <tr>\n",
              "      <th>1</th>\n",
              "      <td>10000032</td>\n",
              "      <td>22841357</td>\n",
              "      <td>2180-06-26 18:27:00</td>\n",
              "      <td>2180-06-27 18:49:00</td>\n",
              "      <td>NaT</td>\n",
              "      <td>EW EMER.</td>\n",
              "      <td>P09Q6Y</td>\n",
              "      <td>EMERGENCY ROOM</td>\n",
              "      <td>HOME</td>\n",
              "      <td>Medicaid</td>\n",
              "      <td>...</td>\n",
              "      <td>2180-05-06 23:30:00</td>\n",
              "      <td>2180-05-07 17:21:27</td>\n",
              "      <td>10000032</td>\n",
              "      <td>22595853</td>\n",
              "      <td>2</td>\n",
              "      <td>78959</td>\n",
              "      <td>9</td>\n",
              "      <td>0002</td>\n",
              "      <td>9.0</td>\n",
              "      <td>Therapeutic ultrasound of heart</td>\n",
              "    </tr>\n",
              "    <tr>\n",
              "      <th>2</th>\n",
              "      <td>10000032</td>\n",
              "      <td>25742920</td>\n",
              "      <td>2180-08-05 23:44:00</td>\n",
              "      <td>2180-08-07 17:50:00</td>\n",
              "      <td>NaT</td>\n",
              "      <td>EW EMER.</td>\n",
              "      <td>P60CC5</td>\n",
              "      <td>EMERGENCY ROOM</td>\n",
              "      <td>HOSPICE</td>\n",
              "      <td>Medicaid</td>\n",
              "      <td>...</td>\n",
              "      <td>2180-05-07 17:21:27</td>\n",
              "      <td>NaT</td>\n",
              "      <td>10000032</td>\n",
              "      <td>22595853</td>\n",
              "      <td>3</td>\n",
              "      <td>5715</td>\n",
              "      <td>9</td>\n",
              "      <td>0003</td>\n",
              "      <td>9.0</td>\n",
              "      <td>Therapeutic ultrasound of peripheral vascular ...</td>\n",
              "    </tr>\n",
              "    <tr>\n",
              "      <th>3</th>\n",
              "      <td>10000032</td>\n",
              "      <td>29079034</td>\n",
              "      <td>2180-07-23 12:35:00</td>\n",
              "      <td>2180-07-25 17:55:00</td>\n",
              "      <td>NaT</td>\n",
              "      <td>EW EMER.</td>\n",
              "      <td>P30KEH</td>\n",
              "      <td>EMERGENCY ROOM</td>\n",
              "      <td>HOME</td>\n",
              "      <td>Medicaid</td>\n",
              "      <td>...</td>\n",
              "      <td>2180-06-27 18:49:12</td>\n",
              "      <td>NaT</td>\n",
              "      <td>10000032</td>\n",
              "      <td>22595853</td>\n",
              "      <td>4</td>\n",
              "      <td>07070</td>\n",
              "      <td>9</td>\n",
              "      <td>0009</td>\n",
              "      <td>9.0</td>\n",
              "      <td>Other therapeutic ultrasound</td>\n",
              "    </tr>\n",
              "    <tr>\n",
              "      <th>4</th>\n",
              "      <td>10000068</td>\n",
              "      <td>25022803</td>\n",
              "      <td>2160-03-03 23:16:00</td>\n",
              "      <td>2160-03-04 06:26:00</td>\n",
              "      <td>NaT</td>\n",
              "      <td>EU OBSERVATION</td>\n",
              "      <td>P51VDL</td>\n",
              "      <td>EMERGENCY ROOM</td>\n",
              "      <td>&lt;NA&gt;</td>\n",
              "      <td>Other</td>\n",
              "      <td>...</td>\n",
              "      <td>2180-06-26 21:31:00</td>\n",
              "      <td>2180-06-27 18:49:12</td>\n",
              "      <td>10000032</td>\n",
              "      <td>22595853</td>\n",
              "      <td>5</td>\n",
              "      <td>496</td>\n",
              "      <td>9</td>\n",
              "      <td>001</td>\n",
              "      <td>10.0</td>\n",
              "      <td>Central Nervous System and Cranial Nerves, Bypass</td>\n",
              "    </tr>\n",
              "  </tbody>\n",
              "</table>\n",
              "<p>5 rows × 37 columns</p>\n",
              "</div>\n",
              "    <div class=\"colab-df-buttons\">\n",
              "\n",
              "  <div class=\"colab-df-container\">\n",
              "    <button class=\"colab-df-convert\" onclick=\"convertToInteractive('df-5ffda352-13fb-4d8b-8068-c7b71ded080c')\"\n",
              "            title=\"Convert this dataframe to an interactive table.\"\n",
              "            style=\"display:none;\">\n",
              "\n",
              "  <svg xmlns=\"http://www.w3.org/2000/svg\" height=\"24px\" viewBox=\"0 -960 960 960\">\n",
              "    <path d=\"M120-120v-720h720v720H120Zm60-500h600v-160H180v160Zm220 220h160v-160H400v160Zm0 220h160v-160H400v160ZM180-400h160v-160H180v160Zm440 0h160v-160H620v160ZM180-180h160v-160H180v160Zm440 0h160v-160H620v160Z\"/>\n",
              "  </svg>\n",
              "    </button>\n",
              "\n",
              "  <style>\n",
              "    .colab-df-container {\n",
              "      display:flex;\n",
              "      gap: 12px;\n",
              "    }\n",
              "\n",
              "    .colab-df-convert {\n",
              "      background-color: #E8F0FE;\n",
              "      border: none;\n",
              "      border-radius: 50%;\n",
              "      cursor: pointer;\n",
              "      display: none;\n",
              "      fill: #1967D2;\n",
              "      height: 32px;\n",
              "      padding: 0 0 0 0;\n",
              "      width: 32px;\n",
              "    }\n",
              "\n",
              "    .colab-df-convert:hover {\n",
              "      background-color: #E2EBFA;\n",
              "      box-shadow: 0px 1px 2px rgba(60, 64, 67, 0.3), 0px 1px 3px 1px rgba(60, 64, 67, 0.15);\n",
              "      fill: #174EA6;\n",
              "    }\n",
              "\n",
              "    .colab-df-buttons div {\n",
              "      margin-bottom: 4px;\n",
              "    }\n",
              "\n",
              "    [theme=dark] .colab-df-convert {\n",
              "      background-color: #3B4455;\n",
              "      fill: #D2E3FC;\n",
              "    }\n",
              "\n",
              "    [theme=dark] .colab-df-convert:hover {\n",
              "      background-color: #434B5C;\n",
              "      box-shadow: 0px 1px 3px 1px rgba(0, 0, 0, 0.15);\n",
              "      filter: drop-shadow(0px 1px 2px rgba(0, 0, 0, 0.3));\n",
              "      fill: #FFFFFF;\n",
              "    }\n",
              "  </style>\n",
              "\n",
              "    <script>\n",
              "      const buttonEl =\n",
              "        document.querySelector('#df-5ffda352-13fb-4d8b-8068-c7b71ded080c button.colab-df-convert');\n",
              "      buttonEl.style.display =\n",
              "        google.colab.kernel.accessAllowed ? 'block' : 'none';\n",
              "\n",
              "      async function convertToInteractive(key) {\n",
              "        const element = document.querySelector('#df-5ffda352-13fb-4d8b-8068-c7b71ded080c');\n",
              "        const dataTable =\n",
              "          await google.colab.kernel.invokeFunction('convertToInteractive',\n",
              "                                                    [key], {});\n",
              "        if (!dataTable) return;\n",
              "\n",
              "        const docLinkHtml = 'Like what you see? Visit the ' +\n",
              "          '<a target=\"_blank\" href=https://colab.research.google.com/notebooks/data_table.ipynb>data table notebook</a>'\n",
              "          + ' to learn more about interactive tables.';\n",
              "        element.innerHTML = '';\n",
              "        dataTable['output_type'] = 'display_data';\n",
              "        await google.colab.output.renderOutput(dataTable, element);\n",
              "        const docLink = document.createElement('div');\n",
              "        docLink.innerHTML = docLinkHtml;\n",
              "        element.appendChild(docLink);\n",
              "      }\n",
              "    </script>\n",
              "  </div>\n",
              "\n",
              "\n",
              "<div id=\"df-6e7054d6-b1d2-48de-9c33-3d8139261570\">\n",
              "  <button class=\"colab-df-quickchart\" onclick=\"quickchart('df-6e7054d6-b1d2-48de-9c33-3d8139261570')\"\n",
              "            title=\"Suggest charts\"\n",
              "            style=\"display:none;\">\n",
              "\n",
              "<svg xmlns=\"http://www.w3.org/2000/svg\" height=\"24px\"viewBox=\"0 0 24 24\"\n",
              "     width=\"24px\">\n",
              "    <g>\n",
              "        <path d=\"M19 3H5c-1.1 0-2 .9-2 2v14c0 1.1.9 2 2 2h14c1.1 0 2-.9 2-2V5c0-1.1-.9-2-2-2zM9 17H7v-7h2v7zm4 0h-2V7h2v10zm4 0h-2v-4h2v4z\"/>\n",
              "    </g>\n",
              "</svg>\n",
              "  </button>\n",
              "\n",
              "<style>\n",
              "  .colab-df-quickchart {\n",
              "      --bg-color: #E8F0FE;\n",
              "      --fill-color: #1967D2;\n",
              "      --hover-bg-color: #E2EBFA;\n",
              "      --hover-fill-color: #174EA6;\n",
              "      --disabled-fill-color: #AAA;\n",
              "      --disabled-bg-color: #DDD;\n",
              "  }\n",
              "\n",
              "  [theme=dark] .colab-df-quickchart {\n",
              "      --bg-color: #3B4455;\n",
              "      --fill-color: #D2E3FC;\n",
              "      --hover-bg-color: #434B5C;\n",
              "      --hover-fill-color: #FFFFFF;\n",
              "      --disabled-bg-color: #3B4455;\n",
              "      --disabled-fill-color: #666;\n",
              "  }\n",
              "\n",
              "  .colab-df-quickchart {\n",
              "    background-color: var(--bg-color);\n",
              "    border: none;\n",
              "    border-radius: 50%;\n",
              "    cursor: pointer;\n",
              "    display: none;\n",
              "    fill: var(--fill-color);\n",
              "    height: 32px;\n",
              "    padding: 0;\n",
              "    width: 32px;\n",
              "  }\n",
              "\n",
              "  .colab-df-quickchart:hover {\n",
              "    background-color: var(--hover-bg-color);\n",
              "    box-shadow: 0 1px 2px rgba(60, 64, 67, 0.3), 0 1px 3px 1px rgba(60, 64, 67, 0.15);\n",
              "    fill: var(--button-hover-fill-color);\n",
              "  }\n",
              "\n",
              "  .colab-df-quickchart-complete:disabled,\n",
              "  .colab-df-quickchart-complete:disabled:hover {\n",
              "    background-color: var(--disabled-bg-color);\n",
              "    fill: var(--disabled-fill-color);\n",
              "    box-shadow: none;\n",
              "  }\n",
              "\n",
              "  .colab-df-spinner {\n",
              "    border: 2px solid var(--fill-color);\n",
              "    border-color: transparent;\n",
              "    border-bottom-color: var(--fill-color);\n",
              "    animation:\n",
              "      spin 1s steps(1) infinite;\n",
              "  }\n",
              "\n",
              "  @keyframes spin {\n",
              "    0% {\n",
              "      border-color: transparent;\n",
              "      border-bottom-color: var(--fill-color);\n",
              "      border-left-color: var(--fill-color);\n",
              "    }\n",
              "    20% {\n",
              "      border-color: transparent;\n",
              "      border-left-color: var(--fill-color);\n",
              "      border-top-color: var(--fill-color);\n",
              "    }\n",
              "    30% {\n",
              "      border-color: transparent;\n",
              "      border-left-color: var(--fill-color);\n",
              "      border-top-color: var(--fill-color);\n",
              "      border-right-color: var(--fill-color);\n",
              "    }\n",
              "    40% {\n",
              "      border-color: transparent;\n",
              "      border-right-color: var(--fill-color);\n",
              "      border-top-color: var(--fill-color);\n",
              "    }\n",
              "    60% {\n",
              "      border-color: transparent;\n",
              "      border-right-color: var(--fill-color);\n",
              "    }\n",
              "    80% {\n",
              "      border-color: transparent;\n",
              "      border-right-color: var(--fill-color);\n",
              "      border-bottom-color: var(--fill-color);\n",
              "    }\n",
              "    90% {\n",
              "      border-color: transparent;\n",
              "      border-bottom-color: var(--fill-color);\n",
              "    }\n",
              "  }\n",
              "</style>\n",
              "\n",
              "  <script>\n",
              "    async function quickchart(key) {\n",
              "      const quickchartButtonEl =\n",
              "        document.querySelector('#' + key + ' button');\n",
              "      quickchartButtonEl.disabled = true;  // To prevent multiple clicks.\n",
              "      quickchartButtonEl.classList.add('colab-df-spinner');\n",
              "      try {\n",
              "        const charts = await google.colab.kernel.invokeFunction(\n",
              "            'suggestCharts', [key], {});\n",
              "      } catch (error) {\n",
              "        console.error('Error during call to suggestCharts:', error);\n",
              "      }\n",
              "      quickchartButtonEl.classList.remove('colab-df-spinner');\n",
              "      quickchartButtonEl.classList.add('colab-df-quickchart-complete');\n",
              "    }\n",
              "    (() => {\n",
              "      let quickchartButtonEl =\n",
              "        document.querySelector('#df-6e7054d6-b1d2-48de-9c33-3d8139261570 button');\n",
              "      quickchartButtonEl.style.display =\n",
              "        google.colab.kernel.accessAllowed ? 'block' : 'none';\n",
              "    })();\n",
              "  </script>\n",
              "</div>\n",
              "\n",
              "    </div>\n",
              "  </div>\n"
            ],
            "application/vnd.google.colaboratory.intrinsic+json": {
              "type": "dataframe"
            }
          },
          "metadata": {},
          "execution_count": 138
        }
      ],
      "source": [
        "df_merge = df_merge.join(df_hosp_d_icd_procedures, how='left', lsuffix='_left', rsuffix='_right')\n",
        "print(len(df_merge))\n",
        "df_merge.head()"
      ]
    },
    {
      "cell_type": "markdown",
      "id": "8992e124",
      "metadata": {
        "id": "8992e124"
      },
      "source": [
        "5. Merge df_merge with df_lab_events"
      ]
    },
    {
      "cell_type": "code",
      "execution_count": 139,
      "id": "45136ef0",
      "metadata": {
        "id": "45136ef0",
        "colab": {
          "base_uri": "https://localhost:8080/",
          "height": 568
        },
        "outputId": "40737865-2eaa-425a-e495-f50254c2dfdc"
      },
      "outputs": [
        {
          "output_type": "stream",
          "name": "stdout",
          "text": [
            "299712\n"
          ]
        },
        {
          "output_type": "execute_result",
          "data": {
            "text/plain": [
              "   subject_id_x  hadm_id_x           admittime           dischtime deathtime  \\\n",
              "0      10000032   22595853 2180-05-06 22:23:00 2180-05-07 17:15:00       NaT   \n",
              "1      10000032   22841357 2180-06-26 18:27:00 2180-06-27 18:49:00       NaT   \n",
              "2      10000032   25742920 2180-08-05 23:44:00 2180-08-07 17:50:00       NaT   \n",
              "3      10000032   29079034 2180-07-23 12:35:00 2180-07-25 17:55:00       NaT   \n",
              "4      10000068   25022803 2160-03-03 23:16:00 2160-03-04 06:26:00       NaT   \n",
              "\n",
              "   admission_type admit_provider_id      admission_location  \\\n",
              "0          URGENT            P874LG  TRANSFER FROM HOSPITAL   \n",
              "1        EW EMER.            P09Q6Y          EMERGENCY ROOM   \n",
              "2        EW EMER.            P60CC5          EMERGENCY ROOM   \n",
              "3        EW EMER.            P30KEH          EMERGENCY ROOM   \n",
              "4  EU OBSERVATION            P51VDL          EMERGENCY ROOM   \n",
              "\n",
              "  discharge_location insurance  ... seq_num icd_code_left icd_version_left  \\\n",
              "0               HOME     Other  ...       1          5723                9   \n",
              "1               HOME  Medicaid  ...       2         78959                9   \n",
              "2            HOSPICE  Medicaid  ...       3          5715                9   \n",
              "3               HOME  Medicaid  ...       4         07070                9   \n",
              "4               <NA>     Other  ...       5           496                9   \n",
              "\n",
              "  icd_code_right icd_version_right  \\\n",
              "0           0001               9.0   \n",
              "1           0002               9.0   \n",
              "2           0003               9.0   \n",
              "3           0009               9.0   \n",
              "4            001              10.0   \n",
              "\n",
              "                                          long_title   itemid  \\\n",
              "0  Therapeutic ultrasound of vessels of head and ...  50801.0   \n",
              "1                    Therapeutic ultrasound of heart  50802.0   \n",
              "2  Therapeutic ultrasound of peripheral vascular ...  50803.0   \n",
              "3                       Other therapeutic ultrasound  50804.0   \n",
              "4  Central Nervous System and Cranial Nerves, Bypass  50805.0   \n",
              "\n",
              "                                 label  fluid   category  \n",
              "0           Alveolar-arterial Gradient  Blood  Blood Gas  \n",
              "1                          Base Excess  Blood  Blood Gas  \n",
              "2  Calculated Bicarbonate, Whole Blood  Blood  Blood Gas  \n",
              "3                 Calculated Total CO2  Blood  Blood Gas  \n",
              "4                    Carboxyhemoglobin  Blood  Blood Gas  \n",
              "\n",
              "[5 rows x 41 columns]"
            ],
            "text/html": [
              "\n",
              "  <div id=\"df-26314b88-42d2-4244-bfef-e80a76ef99ec\" class=\"colab-df-container\">\n",
              "    <div>\n",
              "<style scoped>\n",
              "    .dataframe tbody tr th:only-of-type {\n",
              "        vertical-align: middle;\n",
              "    }\n",
              "\n",
              "    .dataframe tbody tr th {\n",
              "        vertical-align: top;\n",
              "    }\n",
              "\n",
              "    .dataframe thead th {\n",
              "        text-align: right;\n",
              "    }\n",
              "</style>\n",
              "<table border=\"1\" class=\"dataframe\">\n",
              "  <thead>\n",
              "    <tr style=\"text-align: right;\">\n",
              "      <th></th>\n",
              "      <th>subject_id_x</th>\n",
              "      <th>hadm_id_x</th>\n",
              "      <th>admittime</th>\n",
              "      <th>dischtime</th>\n",
              "      <th>deathtime</th>\n",
              "      <th>admission_type</th>\n",
              "      <th>admit_provider_id</th>\n",
              "      <th>admission_location</th>\n",
              "      <th>discharge_location</th>\n",
              "      <th>insurance</th>\n",
              "      <th>...</th>\n",
              "      <th>seq_num</th>\n",
              "      <th>icd_code_left</th>\n",
              "      <th>icd_version_left</th>\n",
              "      <th>icd_code_right</th>\n",
              "      <th>icd_version_right</th>\n",
              "      <th>long_title</th>\n",
              "      <th>itemid</th>\n",
              "      <th>label</th>\n",
              "      <th>fluid</th>\n",
              "      <th>category</th>\n",
              "    </tr>\n",
              "  </thead>\n",
              "  <tbody>\n",
              "    <tr>\n",
              "      <th>0</th>\n",
              "      <td>10000032</td>\n",
              "      <td>22595853</td>\n",
              "      <td>2180-05-06 22:23:00</td>\n",
              "      <td>2180-05-07 17:15:00</td>\n",
              "      <td>NaT</td>\n",
              "      <td>URGENT</td>\n",
              "      <td>P874LG</td>\n",
              "      <td>TRANSFER FROM HOSPITAL</td>\n",
              "      <td>HOME</td>\n",
              "      <td>Other</td>\n",
              "      <td>...</td>\n",
              "      <td>1</td>\n",
              "      <td>5723</td>\n",
              "      <td>9</td>\n",
              "      <td>0001</td>\n",
              "      <td>9.0</td>\n",
              "      <td>Therapeutic ultrasound of vessels of head and ...</td>\n",
              "      <td>50801.0</td>\n",
              "      <td>Alveolar-arterial Gradient</td>\n",
              "      <td>Blood</td>\n",
              "      <td>Blood Gas</td>\n",
              "    </tr>\n",
              "    <tr>\n",
              "      <th>1</th>\n",
              "      <td>10000032</td>\n",
              "      <td>22841357</td>\n",
              "      <td>2180-06-26 18:27:00</td>\n",
              "      <td>2180-06-27 18:49:00</td>\n",
              "      <td>NaT</td>\n",
              "      <td>EW EMER.</td>\n",
              "      <td>P09Q6Y</td>\n",
              "      <td>EMERGENCY ROOM</td>\n",
              "      <td>HOME</td>\n",
              "      <td>Medicaid</td>\n",
              "      <td>...</td>\n",
              "      <td>2</td>\n",
              "      <td>78959</td>\n",
              "      <td>9</td>\n",
              "      <td>0002</td>\n",
              "      <td>9.0</td>\n",
              "      <td>Therapeutic ultrasound of heart</td>\n",
              "      <td>50802.0</td>\n",
              "      <td>Base Excess</td>\n",
              "      <td>Blood</td>\n",
              "      <td>Blood Gas</td>\n",
              "    </tr>\n",
              "    <tr>\n",
              "      <th>2</th>\n",
              "      <td>10000032</td>\n",
              "      <td>25742920</td>\n",
              "      <td>2180-08-05 23:44:00</td>\n",
              "      <td>2180-08-07 17:50:00</td>\n",
              "      <td>NaT</td>\n",
              "      <td>EW EMER.</td>\n",
              "      <td>P60CC5</td>\n",
              "      <td>EMERGENCY ROOM</td>\n",
              "      <td>HOSPICE</td>\n",
              "      <td>Medicaid</td>\n",
              "      <td>...</td>\n",
              "      <td>3</td>\n",
              "      <td>5715</td>\n",
              "      <td>9</td>\n",
              "      <td>0003</td>\n",
              "      <td>9.0</td>\n",
              "      <td>Therapeutic ultrasound of peripheral vascular ...</td>\n",
              "      <td>50803.0</td>\n",
              "      <td>Calculated Bicarbonate, Whole Blood</td>\n",
              "      <td>Blood</td>\n",
              "      <td>Blood Gas</td>\n",
              "    </tr>\n",
              "    <tr>\n",
              "      <th>3</th>\n",
              "      <td>10000032</td>\n",
              "      <td>29079034</td>\n",
              "      <td>2180-07-23 12:35:00</td>\n",
              "      <td>2180-07-25 17:55:00</td>\n",
              "      <td>NaT</td>\n",
              "      <td>EW EMER.</td>\n",
              "      <td>P30KEH</td>\n",
              "      <td>EMERGENCY ROOM</td>\n",
              "      <td>HOME</td>\n",
              "      <td>Medicaid</td>\n",
              "      <td>...</td>\n",
              "      <td>4</td>\n",
              "      <td>07070</td>\n",
              "      <td>9</td>\n",
              "      <td>0009</td>\n",
              "      <td>9.0</td>\n",
              "      <td>Other therapeutic ultrasound</td>\n",
              "      <td>50804.0</td>\n",
              "      <td>Calculated Total CO2</td>\n",
              "      <td>Blood</td>\n",
              "      <td>Blood Gas</td>\n",
              "    </tr>\n",
              "    <tr>\n",
              "      <th>4</th>\n",
              "      <td>10000068</td>\n",
              "      <td>25022803</td>\n",
              "      <td>2160-03-03 23:16:00</td>\n",
              "      <td>2160-03-04 06:26:00</td>\n",
              "      <td>NaT</td>\n",
              "      <td>EU OBSERVATION</td>\n",
              "      <td>P51VDL</td>\n",
              "      <td>EMERGENCY ROOM</td>\n",
              "      <td>&lt;NA&gt;</td>\n",
              "      <td>Other</td>\n",
              "      <td>...</td>\n",
              "      <td>5</td>\n",
              "      <td>496</td>\n",
              "      <td>9</td>\n",
              "      <td>001</td>\n",
              "      <td>10.0</td>\n",
              "      <td>Central Nervous System and Cranial Nerves, Bypass</td>\n",
              "      <td>50805.0</td>\n",
              "      <td>Carboxyhemoglobin</td>\n",
              "      <td>Blood</td>\n",
              "      <td>Blood Gas</td>\n",
              "    </tr>\n",
              "  </tbody>\n",
              "</table>\n",
              "<p>5 rows × 41 columns</p>\n",
              "</div>\n",
              "    <div class=\"colab-df-buttons\">\n",
              "\n",
              "  <div class=\"colab-df-container\">\n",
              "    <button class=\"colab-df-convert\" onclick=\"convertToInteractive('df-26314b88-42d2-4244-bfef-e80a76ef99ec')\"\n",
              "            title=\"Convert this dataframe to an interactive table.\"\n",
              "            style=\"display:none;\">\n",
              "\n",
              "  <svg xmlns=\"http://www.w3.org/2000/svg\" height=\"24px\" viewBox=\"0 -960 960 960\">\n",
              "    <path d=\"M120-120v-720h720v720H120Zm60-500h600v-160H180v160Zm220 220h160v-160H400v160Zm0 220h160v-160H400v160ZM180-400h160v-160H180v160Zm440 0h160v-160H620v160ZM180-180h160v-160H180v160Zm440 0h160v-160H620v160Z\"/>\n",
              "  </svg>\n",
              "    </button>\n",
              "\n",
              "  <style>\n",
              "    .colab-df-container {\n",
              "      display:flex;\n",
              "      gap: 12px;\n",
              "    }\n",
              "\n",
              "    .colab-df-convert {\n",
              "      background-color: #E8F0FE;\n",
              "      border: none;\n",
              "      border-radius: 50%;\n",
              "      cursor: pointer;\n",
              "      display: none;\n",
              "      fill: #1967D2;\n",
              "      height: 32px;\n",
              "      padding: 0 0 0 0;\n",
              "      width: 32px;\n",
              "    }\n",
              "\n",
              "    .colab-df-convert:hover {\n",
              "      background-color: #E2EBFA;\n",
              "      box-shadow: 0px 1px 2px rgba(60, 64, 67, 0.3), 0px 1px 3px 1px rgba(60, 64, 67, 0.15);\n",
              "      fill: #174EA6;\n",
              "    }\n",
              "\n",
              "    .colab-df-buttons div {\n",
              "      margin-bottom: 4px;\n",
              "    }\n",
              "\n",
              "    [theme=dark] .colab-df-convert {\n",
              "      background-color: #3B4455;\n",
              "      fill: #D2E3FC;\n",
              "    }\n",
              "\n",
              "    [theme=dark] .colab-df-convert:hover {\n",
              "      background-color: #434B5C;\n",
              "      box-shadow: 0px 1px 3px 1px rgba(0, 0, 0, 0.15);\n",
              "      filter: drop-shadow(0px 1px 2px rgba(0, 0, 0, 0.3));\n",
              "      fill: #FFFFFF;\n",
              "    }\n",
              "  </style>\n",
              "\n",
              "    <script>\n",
              "      const buttonEl =\n",
              "        document.querySelector('#df-26314b88-42d2-4244-bfef-e80a76ef99ec button.colab-df-convert');\n",
              "      buttonEl.style.display =\n",
              "        google.colab.kernel.accessAllowed ? 'block' : 'none';\n",
              "\n",
              "      async function convertToInteractive(key) {\n",
              "        const element = document.querySelector('#df-26314b88-42d2-4244-bfef-e80a76ef99ec');\n",
              "        const dataTable =\n",
              "          await google.colab.kernel.invokeFunction('convertToInteractive',\n",
              "                                                    [key], {});\n",
              "        if (!dataTable) return;\n",
              "\n",
              "        const docLinkHtml = 'Like what you see? Visit the ' +\n",
              "          '<a target=\"_blank\" href=https://colab.research.google.com/notebooks/data_table.ipynb>data table notebook</a>'\n",
              "          + ' to learn more about interactive tables.';\n",
              "        element.innerHTML = '';\n",
              "        dataTable['output_type'] = 'display_data';\n",
              "        await google.colab.output.renderOutput(dataTable, element);\n",
              "        const docLink = document.createElement('div');\n",
              "        docLink.innerHTML = docLinkHtml;\n",
              "        element.appendChild(docLink);\n",
              "      }\n",
              "    </script>\n",
              "  </div>\n",
              "\n",
              "\n",
              "<div id=\"df-0c402662-2bde-476d-a196-e600e12f16be\">\n",
              "  <button class=\"colab-df-quickchart\" onclick=\"quickchart('df-0c402662-2bde-476d-a196-e600e12f16be')\"\n",
              "            title=\"Suggest charts\"\n",
              "            style=\"display:none;\">\n",
              "\n",
              "<svg xmlns=\"http://www.w3.org/2000/svg\" height=\"24px\"viewBox=\"0 0 24 24\"\n",
              "     width=\"24px\">\n",
              "    <g>\n",
              "        <path d=\"M19 3H5c-1.1 0-2 .9-2 2v14c0 1.1.9 2 2 2h14c1.1 0 2-.9 2-2V5c0-1.1-.9-2-2-2zM9 17H7v-7h2v7zm4 0h-2V7h2v10zm4 0h-2v-4h2v4z\"/>\n",
              "    </g>\n",
              "</svg>\n",
              "  </button>\n",
              "\n",
              "<style>\n",
              "  .colab-df-quickchart {\n",
              "      --bg-color: #E8F0FE;\n",
              "      --fill-color: #1967D2;\n",
              "      --hover-bg-color: #E2EBFA;\n",
              "      --hover-fill-color: #174EA6;\n",
              "      --disabled-fill-color: #AAA;\n",
              "      --disabled-bg-color: #DDD;\n",
              "  }\n",
              "\n",
              "  [theme=dark] .colab-df-quickchart {\n",
              "      --bg-color: #3B4455;\n",
              "      --fill-color: #D2E3FC;\n",
              "      --hover-bg-color: #434B5C;\n",
              "      --hover-fill-color: #FFFFFF;\n",
              "      --disabled-bg-color: #3B4455;\n",
              "      --disabled-fill-color: #666;\n",
              "  }\n",
              "\n",
              "  .colab-df-quickchart {\n",
              "    background-color: var(--bg-color);\n",
              "    border: none;\n",
              "    border-radius: 50%;\n",
              "    cursor: pointer;\n",
              "    display: none;\n",
              "    fill: var(--fill-color);\n",
              "    height: 32px;\n",
              "    padding: 0;\n",
              "    width: 32px;\n",
              "  }\n",
              "\n",
              "  .colab-df-quickchart:hover {\n",
              "    background-color: var(--hover-bg-color);\n",
              "    box-shadow: 0 1px 2px rgba(60, 64, 67, 0.3), 0 1px 3px 1px rgba(60, 64, 67, 0.15);\n",
              "    fill: var(--button-hover-fill-color);\n",
              "  }\n",
              "\n",
              "  .colab-df-quickchart-complete:disabled,\n",
              "  .colab-df-quickchart-complete:disabled:hover {\n",
              "    background-color: var(--disabled-bg-color);\n",
              "    fill: var(--disabled-fill-color);\n",
              "    box-shadow: none;\n",
              "  }\n",
              "\n",
              "  .colab-df-spinner {\n",
              "    border: 2px solid var(--fill-color);\n",
              "    border-color: transparent;\n",
              "    border-bottom-color: var(--fill-color);\n",
              "    animation:\n",
              "      spin 1s steps(1) infinite;\n",
              "  }\n",
              "\n",
              "  @keyframes spin {\n",
              "    0% {\n",
              "      border-color: transparent;\n",
              "      border-bottom-color: var(--fill-color);\n",
              "      border-left-color: var(--fill-color);\n",
              "    }\n",
              "    20% {\n",
              "      border-color: transparent;\n",
              "      border-left-color: var(--fill-color);\n",
              "      border-top-color: var(--fill-color);\n",
              "    }\n",
              "    30% {\n",
              "      border-color: transparent;\n",
              "      border-left-color: var(--fill-color);\n",
              "      border-top-color: var(--fill-color);\n",
              "      border-right-color: var(--fill-color);\n",
              "    }\n",
              "    40% {\n",
              "      border-color: transparent;\n",
              "      border-right-color: var(--fill-color);\n",
              "      border-top-color: var(--fill-color);\n",
              "    }\n",
              "    60% {\n",
              "      border-color: transparent;\n",
              "      border-right-color: var(--fill-color);\n",
              "    }\n",
              "    80% {\n",
              "      border-color: transparent;\n",
              "      border-right-color: var(--fill-color);\n",
              "      border-bottom-color: var(--fill-color);\n",
              "    }\n",
              "    90% {\n",
              "      border-color: transparent;\n",
              "      border-bottom-color: var(--fill-color);\n",
              "    }\n",
              "  }\n",
              "</style>\n",
              "\n",
              "  <script>\n",
              "    async function quickchart(key) {\n",
              "      const quickchartButtonEl =\n",
              "        document.querySelector('#' + key + ' button');\n",
              "      quickchartButtonEl.disabled = true;  // To prevent multiple clicks.\n",
              "      quickchartButtonEl.classList.add('colab-df-spinner');\n",
              "      try {\n",
              "        const charts = await google.colab.kernel.invokeFunction(\n",
              "            'suggestCharts', [key], {});\n",
              "      } catch (error) {\n",
              "        console.error('Error during call to suggestCharts:', error);\n",
              "      }\n",
              "      quickchartButtonEl.classList.remove('colab-df-spinner');\n",
              "      quickchartButtonEl.classList.add('colab-df-quickchart-complete');\n",
              "    }\n",
              "    (() => {\n",
              "      let quickchartButtonEl =\n",
              "        document.querySelector('#df-0c402662-2bde-476d-a196-e600e12f16be button');\n",
              "      quickchartButtonEl.style.display =\n",
              "        google.colab.kernel.accessAllowed ? 'block' : 'none';\n",
              "    })();\n",
              "  </script>\n",
              "</div>\n",
              "\n",
              "    </div>\n",
              "  </div>\n"
            ],
            "application/vnd.google.colaboratory.intrinsic+json": {
              "type": "dataframe"
            }
          },
          "metadata": {},
          "execution_count": 139
        }
      ],
      "source": [
        "df_merge = df_merge.join(df_hosp_d_labitems, how='left', lsuffix='_left', rsuffix='_right')\n",
        "print(len(df_merge))\n",
        "df_merge.head()"
      ]
    },
    {
      "cell_type": "markdown",
      "id": "20d8a733",
      "metadata": {
        "id": "20d8a733"
      },
      "source": [
        "6. Merge df_merge with df_drgcodes"
      ]
    },
    {
      "cell_type": "code",
      "execution_count": 140,
      "id": "90f4f0e9",
      "metadata": {
        "id": "90f4f0e9",
        "colab": {
          "base_uri": "https://localhost:8080/",
          "height": 516
        },
        "outputId": "61537941-c534-4b27-b822-0057ca6f9248"
      },
      "outputs": [
        {
          "output_type": "stream",
          "name": "stdout",
          "text": [
            "299712\n"
          ]
        },
        {
          "output_type": "execute_result",
          "data": {
            "text/plain": [
              "   subject_id_x  hadm_id_x           admittime           dischtime deathtime  \\\n",
              "0      10000032   22595853 2180-05-06 22:23:00 2180-05-07 17:15:00       NaT   \n",
              "1      10000032   22841357 2180-06-26 18:27:00 2180-06-27 18:49:00       NaT   \n",
              "2      10000032   25742920 2180-08-05 23:44:00 2180-08-07 17:50:00       NaT   \n",
              "3      10000032   29079034 2180-07-23 12:35:00 2180-07-25 17:55:00       NaT   \n",
              "4      10000068   25022803 2160-03-03 23:16:00 2160-03-04 06:26:00       NaT   \n",
              "\n",
              "   admission_type admit_provider_id      admission_location  \\\n",
              "0          URGENT            P874LG  TRANSFER FROM HOSPITAL   \n",
              "1        EW EMER.            P09Q6Y          EMERGENCY ROOM   \n",
              "2        EW EMER.            P60CC5          EMERGENCY ROOM   \n",
              "3        EW EMER.            P30KEH          EMERGENCY ROOM   \n",
              "4  EU OBSERVATION            P51VDL          EMERGENCY ROOM   \n",
              "\n",
              "  discharge_location insurance  ...                                label  \\\n",
              "0               HOME     Other  ...           Alveolar-arterial Gradient   \n",
              "1               HOME  Medicaid  ...                          Base Excess   \n",
              "2            HOSPICE  Medicaid  ...  Calculated Bicarbonate, Whole Blood   \n",
              "3               HOME  Medicaid  ...                 Calculated Total CO2   \n",
              "4               <NA>     Other  ...                    Carboxyhemoglobin   \n",
              "\n",
              "   fluid   category subject_id hadm_id_right  drg_type  drg_code  \\\n",
              "0  Blood  Blood Gas   10000032      22595853       APR       283   \n",
              "1  Blood  Blood Gas   10000032      22595853      HCFA       442   \n",
              "2  Blood  Blood Gas   10000032      22841357       APR       279   \n",
              "3  Blood  Blood Gas   10000032      22841357      HCFA       442   \n",
              "4  Blood  Blood Gas   10000032      25742920       APR       283   \n",
              "\n",
              "                                         description  drg_severity  \\\n",
              "0                       OTHER DISORDERS OF THE LIVER           2.0   \n",
              "1  DISORDERS OF LIVER EXCEPT MALIG,CIRR,ALC HEPA ...           NaN   \n",
              "2   HEPATIC COMA & OTHER MAJOR ACUTE LIVER DISORDERS           3.0   \n",
              "3  DISORDERS OF LIVER EXCEPT MALIG,CIRR,ALC HEPA ...           NaN   \n",
              "4                       OTHER DISORDERS OF THE LIVER           3.0   \n",
              "\n",
              "   drg_mortality  \n",
              "0            2.0  \n",
              "1            NaN  \n",
              "2            2.0  \n",
              "3            NaN  \n",
              "4            2.0  \n",
              "\n",
              "[5 rows x 48 columns]"
            ],
            "text/html": [
              "\n",
              "  <div id=\"df-930af042-18f2-46b3-b186-91ce33bcd10e\" class=\"colab-df-container\">\n",
              "    <div>\n",
              "<style scoped>\n",
              "    .dataframe tbody tr th:only-of-type {\n",
              "        vertical-align: middle;\n",
              "    }\n",
              "\n",
              "    .dataframe tbody tr th {\n",
              "        vertical-align: top;\n",
              "    }\n",
              "\n",
              "    .dataframe thead th {\n",
              "        text-align: right;\n",
              "    }\n",
              "</style>\n",
              "<table border=\"1\" class=\"dataframe\">\n",
              "  <thead>\n",
              "    <tr style=\"text-align: right;\">\n",
              "      <th></th>\n",
              "      <th>subject_id_x</th>\n",
              "      <th>hadm_id_x</th>\n",
              "      <th>admittime</th>\n",
              "      <th>dischtime</th>\n",
              "      <th>deathtime</th>\n",
              "      <th>admission_type</th>\n",
              "      <th>admit_provider_id</th>\n",
              "      <th>admission_location</th>\n",
              "      <th>discharge_location</th>\n",
              "      <th>insurance</th>\n",
              "      <th>...</th>\n",
              "      <th>label</th>\n",
              "      <th>fluid</th>\n",
              "      <th>category</th>\n",
              "      <th>subject_id</th>\n",
              "      <th>hadm_id_right</th>\n",
              "      <th>drg_type</th>\n",
              "      <th>drg_code</th>\n",
              "      <th>description</th>\n",
              "      <th>drg_severity</th>\n",
              "      <th>drg_mortality</th>\n",
              "    </tr>\n",
              "  </thead>\n",
              "  <tbody>\n",
              "    <tr>\n",
              "      <th>0</th>\n",
              "      <td>10000032</td>\n",
              "      <td>22595853</td>\n",
              "      <td>2180-05-06 22:23:00</td>\n",
              "      <td>2180-05-07 17:15:00</td>\n",
              "      <td>NaT</td>\n",
              "      <td>URGENT</td>\n",
              "      <td>P874LG</td>\n",
              "      <td>TRANSFER FROM HOSPITAL</td>\n",
              "      <td>HOME</td>\n",
              "      <td>Other</td>\n",
              "      <td>...</td>\n",
              "      <td>Alveolar-arterial Gradient</td>\n",
              "      <td>Blood</td>\n",
              "      <td>Blood Gas</td>\n",
              "      <td>10000032</td>\n",
              "      <td>22595853</td>\n",
              "      <td>APR</td>\n",
              "      <td>283</td>\n",
              "      <td>OTHER DISORDERS OF THE LIVER</td>\n",
              "      <td>2.0</td>\n",
              "      <td>2.0</td>\n",
              "    </tr>\n",
              "    <tr>\n",
              "      <th>1</th>\n",
              "      <td>10000032</td>\n",
              "      <td>22841357</td>\n",
              "      <td>2180-06-26 18:27:00</td>\n",
              "      <td>2180-06-27 18:49:00</td>\n",
              "      <td>NaT</td>\n",
              "      <td>EW EMER.</td>\n",
              "      <td>P09Q6Y</td>\n",
              "      <td>EMERGENCY ROOM</td>\n",
              "      <td>HOME</td>\n",
              "      <td>Medicaid</td>\n",
              "      <td>...</td>\n",
              "      <td>Base Excess</td>\n",
              "      <td>Blood</td>\n",
              "      <td>Blood Gas</td>\n",
              "      <td>10000032</td>\n",
              "      <td>22595853</td>\n",
              "      <td>HCFA</td>\n",
              "      <td>442</td>\n",
              "      <td>DISORDERS OF LIVER EXCEPT MALIG,CIRR,ALC HEPA ...</td>\n",
              "      <td>NaN</td>\n",
              "      <td>NaN</td>\n",
              "    </tr>\n",
              "    <tr>\n",
              "      <th>2</th>\n",
              "      <td>10000032</td>\n",
              "      <td>25742920</td>\n",
              "      <td>2180-08-05 23:44:00</td>\n",
              "      <td>2180-08-07 17:50:00</td>\n",
              "      <td>NaT</td>\n",
              "      <td>EW EMER.</td>\n",
              "      <td>P60CC5</td>\n",
              "      <td>EMERGENCY ROOM</td>\n",
              "      <td>HOSPICE</td>\n",
              "      <td>Medicaid</td>\n",
              "      <td>...</td>\n",
              "      <td>Calculated Bicarbonate, Whole Blood</td>\n",
              "      <td>Blood</td>\n",
              "      <td>Blood Gas</td>\n",
              "      <td>10000032</td>\n",
              "      <td>22841357</td>\n",
              "      <td>APR</td>\n",
              "      <td>279</td>\n",
              "      <td>HEPATIC COMA &amp; OTHER MAJOR ACUTE LIVER DISORDERS</td>\n",
              "      <td>3.0</td>\n",
              "      <td>2.0</td>\n",
              "    </tr>\n",
              "    <tr>\n",
              "      <th>3</th>\n",
              "      <td>10000032</td>\n",
              "      <td>29079034</td>\n",
              "      <td>2180-07-23 12:35:00</td>\n",
              "      <td>2180-07-25 17:55:00</td>\n",
              "      <td>NaT</td>\n",
              "      <td>EW EMER.</td>\n",
              "      <td>P30KEH</td>\n",
              "      <td>EMERGENCY ROOM</td>\n",
              "      <td>HOME</td>\n",
              "      <td>Medicaid</td>\n",
              "      <td>...</td>\n",
              "      <td>Calculated Total CO2</td>\n",
              "      <td>Blood</td>\n",
              "      <td>Blood Gas</td>\n",
              "      <td>10000032</td>\n",
              "      <td>22841357</td>\n",
              "      <td>HCFA</td>\n",
              "      <td>442</td>\n",
              "      <td>DISORDERS OF LIVER EXCEPT MALIG,CIRR,ALC HEPA ...</td>\n",
              "      <td>NaN</td>\n",
              "      <td>NaN</td>\n",
              "    </tr>\n",
              "    <tr>\n",
              "      <th>4</th>\n",
              "      <td>10000068</td>\n",
              "      <td>25022803</td>\n",
              "      <td>2160-03-03 23:16:00</td>\n",
              "      <td>2160-03-04 06:26:00</td>\n",
              "      <td>NaT</td>\n",
              "      <td>EU OBSERVATION</td>\n",
              "      <td>P51VDL</td>\n",
              "      <td>EMERGENCY ROOM</td>\n",
              "      <td>&lt;NA&gt;</td>\n",
              "      <td>Other</td>\n",
              "      <td>...</td>\n",
              "      <td>Carboxyhemoglobin</td>\n",
              "      <td>Blood</td>\n",
              "      <td>Blood Gas</td>\n",
              "      <td>10000032</td>\n",
              "      <td>25742920</td>\n",
              "      <td>APR</td>\n",
              "      <td>283</td>\n",
              "      <td>OTHER DISORDERS OF THE LIVER</td>\n",
              "      <td>3.0</td>\n",
              "      <td>2.0</td>\n",
              "    </tr>\n",
              "  </tbody>\n",
              "</table>\n",
              "<p>5 rows × 48 columns</p>\n",
              "</div>\n",
              "    <div class=\"colab-df-buttons\">\n",
              "\n",
              "  <div class=\"colab-df-container\">\n",
              "    <button class=\"colab-df-convert\" onclick=\"convertToInteractive('df-930af042-18f2-46b3-b186-91ce33bcd10e')\"\n",
              "            title=\"Convert this dataframe to an interactive table.\"\n",
              "            style=\"display:none;\">\n",
              "\n",
              "  <svg xmlns=\"http://www.w3.org/2000/svg\" height=\"24px\" viewBox=\"0 -960 960 960\">\n",
              "    <path d=\"M120-120v-720h720v720H120Zm60-500h600v-160H180v160Zm220 220h160v-160H400v160Zm0 220h160v-160H400v160ZM180-400h160v-160H180v160Zm440 0h160v-160H620v160ZM180-180h160v-160H180v160Zm440 0h160v-160H620v160Z\"/>\n",
              "  </svg>\n",
              "    </button>\n",
              "\n",
              "  <style>\n",
              "    .colab-df-container {\n",
              "      display:flex;\n",
              "      gap: 12px;\n",
              "    }\n",
              "\n",
              "    .colab-df-convert {\n",
              "      background-color: #E8F0FE;\n",
              "      border: none;\n",
              "      border-radius: 50%;\n",
              "      cursor: pointer;\n",
              "      display: none;\n",
              "      fill: #1967D2;\n",
              "      height: 32px;\n",
              "      padding: 0 0 0 0;\n",
              "      width: 32px;\n",
              "    }\n",
              "\n",
              "    .colab-df-convert:hover {\n",
              "      background-color: #E2EBFA;\n",
              "      box-shadow: 0px 1px 2px rgba(60, 64, 67, 0.3), 0px 1px 3px 1px rgba(60, 64, 67, 0.15);\n",
              "      fill: #174EA6;\n",
              "    }\n",
              "\n",
              "    .colab-df-buttons div {\n",
              "      margin-bottom: 4px;\n",
              "    }\n",
              "\n",
              "    [theme=dark] .colab-df-convert {\n",
              "      background-color: #3B4455;\n",
              "      fill: #D2E3FC;\n",
              "    }\n",
              "\n",
              "    [theme=dark] .colab-df-convert:hover {\n",
              "      background-color: #434B5C;\n",
              "      box-shadow: 0px 1px 3px 1px rgba(0, 0, 0, 0.15);\n",
              "      filter: drop-shadow(0px 1px 2px rgba(0, 0, 0, 0.3));\n",
              "      fill: #FFFFFF;\n",
              "    }\n",
              "  </style>\n",
              "\n",
              "    <script>\n",
              "      const buttonEl =\n",
              "        document.querySelector('#df-930af042-18f2-46b3-b186-91ce33bcd10e button.colab-df-convert');\n",
              "      buttonEl.style.display =\n",
              "        google.colab.kernel.accessAllowed ? 'block' : 'none';\n",
              "\n",
              "      async function convertToInteractive(key) {\n",
              "        const element = document.querySelector('#df-930af042-18f2-46b3-b186-91ce33bcd10e');\n",
              "        const dataTable =\n",
              "          await google.colab.kernel.invokeFunction('convertToInteractive',\n",
              "                                                    [key], {});\n",
              "        if (!dataTable) return;\n",
              "\n",
              "        const docLinkHtml = 'Like what you see? Visit the ' +\n",
              "          '<a target=\"_blank\" href=https://colab.research.google.com/notebooks/data_table.ipynb>data table notebook</a>'\n",
              "          + ' to learn more about interactive tables.';\n",
              "        element.innerHTML = '';\n",
              "        dataTable['output_type'] = 'display_data';\n",
              "        await google.colab.output.renderOutput(dataTable, element);\n",
              "        const docLink = document.createElement('div');\n",
              "        docLink.innerHTML = docLinkHtml;\n",
              "        element.appendChild(docLink);\n",
              "      }\n",
              "    </script>\n",
              "  </div>\n",
              "\n",
              "\n",
              "<div id=\"df-9bbc19bd-a6b9-4608-a5bd-9a94e5eb2250\">\n",
              "  <button class=\"colab-df-quickchart\" onclick=\"quickchart('df-9bbc19bd-a6b9-4608-a5bd-9a94e5eb2250')\"\n",
              "            title=\"Suggest charts\"\n",
              "            style=\"display:none;\">\n",
              "\n",
              "<svg xmlns=\"http://www.w3.org/2000/svg\" height=\"24px\"viewBox=\"0 0 24 24\"\n",
              "     width=\"24px\">\n",
              "    <g>\n",
              "        <path d=\"M19 3H5c-1.1 0-2 .9-2 2v14c0 1.1.9 2 2 2h14c1.1 0 2-.9 2-2V5c0-1.1-.9-2-2-2zM9 17H7v-7h2v7zm4 0h-2V7h2v10zm4 0h-2v-4h2v4z\"/>\n",
              "    </g>\n",
              "</svg>\n",
              "  </button>\n",
              "\n",
              "<style>\n",
              "  .colab-df-quickchart {\n",
              "      --bg-color: #E8F0FE;\n",
              "      --fill-color: #1967D2;\n",
              "      --hover-bg-color: #E2EBFA;\n",
              "      --hover-fill-color: #174EA6;\n",
              "      --disabled-fill-color: #AAA;\n",
              "      --disabled-bg-color: #DDD;\n",
              "  }\n",
              "\n",
              "  [theme=dark] .colab-df-quickchart {\n",
              "      --bg-color: #3B4455;\n",
              "      --fill-color: #D2E3FC;\n",
              "      --hover-bg-color: #434B5C;\n",
              "      --hover-fill-color: #FFFFFF;\n",
              "      --disabled-bg-color: #3B4455;\n",
              "      --disabled-fill-color: #666;\n",
              "  }\n",
              "\n",
              "  .colab-df-quickchart {\n",
              "    background-color: var(--bg-color);\n",
              "    border: none;\n",
              "    border-radius: 50%;\n",
              "    cursor: pointer;\n",
              "    display: none;\n",
              "    fill: var(--fill-color);\n",
              "    height: 32px;\n",
              "    padding: 0;\n",
              "    width: 32px;\n",
              "  }\n",
              "\n",
              "  .colab-df-quickchart:hover {\n",
              "    background-color: var(--hover-bg-color);\n",
              "    box-shadow: 0 1px 2px rgba(60, 64, 67, 0.3), 0 1px 3px 1px rgba(60, 64, 67, 0.15);\n",
              "    fill: var(--button-hover-fill-color);\n",
              "  }\n",
              "\n",
              "  .colab-df-quickchart-complete:disabled,\n",
              "  .colab-df-quickchart-complete:disabled:hover {\n",
              "    background-color: var(--disabled-bg-color);\n",
              "    fill: var(--disabled-fill-color);\n",
              "    box-shadow: none;\n",
              "  }\n",
              "\n",
              "  .colab-df-spinner {\n",
              "    border: 2px solid var(--fill-color);\n",
              "    border-color: transparent;\n",
              "    border-bottom-color: var(--fill-color);\n",
              "    animation:\n",
              "      spin 1s steps(1) infinite;\n",
              "  }\n",
              "\n",
              "  @keyframes spin {\n",
              "    0% {\n",
              "      border-color: transparent;\n",
              "      border-bottom-color: var(--fill-color);\n",
              "      border-left-color: var(--fill-color);\n",
              "    }\n",
              "    20% {\n",
              "      border-color: transparent;\n",
              "      border-left-color: var(--fill-color);\n",
              "      border-top-color: var(--fill-color);\n",
              "    }\n",
              "    30% {\n",
              "      border-color: transparent;\n",
              "      border-left-color: var(--fill-color);\n",
              "      border-top-color: var(--fill-color);\n",
              "      border-right-color: var(--fill-color);\n",
              "    }\n",
              "    40% {\n",
              "      border-color: transparent;\n",
              "      border-right-color: var(--fill-color);\n",
              "      border-top-color: var(--fill-color);\n",
              "    }\n",
              "    60% {\n",
              "      border-color: transparent;\n",
              "      border-right-color: var(--fill-color);\n",
              "    }\n",
              "    80% {\n",
              "      border-color: transparent;\n",
              "      border-right-color: var(--fill-color);\n",
              "      border-bottom-color: var(--fill-color);\n",
              "    }\n",
              "    90% {\n",
              "      border-color: transparent;\n",
              "      border-bottom-color: var(--fill-color);\n",
              "    }\n",
              "  }\n",
              "</style>\n",
              "\n",
              "  <script>\n",
              "    async function quickchart(key) {\n",
              "      const quickchartButtonEl =\n",
              "        document.querySelector('#' + key + ' button');\n",
              "      quickchartButtonEl.disabled = true;  // To prevent multiple clicks.\n",
              "      quickchartButtonEl.classList.add('colab-df-spinner');\n",
              "      try {\n",
              "        const charts = await google.colab.kernel.invokeFunction(\n",
              "            'suggestCharts', [key], {});\n",
              "      } catch (error) {\n",
              "        console.error('Error during call to suggestCharts:', error);\n",
              "      }\n",
              "      quickchartButtonEl.classList.remove('colab-df-spinner');\n",
              "      quickchartButtonEl.classList.add('colab-df-quickchart-complete');\n",
              "    }\n",
              "    (() => {\n",
              "      let quickchartButtonEl =\n",
              "        document.querySelector('#df-9bbc19bd-a6b9-4608-a5bd-9a94e5eb2250 button');\n",
              "      quickchartButtonEl.style.display =\n",
              "        google.colab.kernel.accessAllowed ? 'block' : 'none';\n",
              "    })();\n",
              "  </script>\n",
              "</div>\n",
              "\n",
              "    </div>\n",
              "  </div>\n"
            ],
            "application/vnd.google.colaboratory.intrinsic+json": {
              "type": "dataframe"
            }
          },
          "metadata": {},
          "execution_count": 140
        }
      ],
      "source": [
        "df_merge = df_merge.join(df_hosp_drgcodes, how='left', lsuffix='_left', rsuffix='_right')\n",
        "print(len(df_merge))\n",
        "df_merge.head()"
      ]
    },
    {
      "cell_type": "markdown",
      "source": [
        "7. Merge df_merge with df_emar"
      ],
      "metadata": {
        "id": "aWEa2aR4y77s"
      },
      "id": "aWEa2aR4y77s"
    },
    {
      "source": [
        "df_merge = df_merge.join(df_hosp_emar, how='left', on='subject_id',  rsuffix='_right')\n",
        "print(len(df_merge))\n",
        "df_merge.head()"
      ],
      "cell_type": "code",
      "metadata": {
        "colab": {
          "base_uri": "https://localhost:8080/",
          "height": 446
        },
        "id": "wv_fAyEo0G3b",
        "outputId": "687eb85f-6312-44ca-e599-e30b734a4117"
      },
      "id": "wv_fAyEo0G3b",
      "execution_count": 143,
      "outputs": [
        {
          "output_type": "stream",
          "name": "stdout",
          "text": [
            "299712\n"
          ]
        },
        {
          "output_type": "execute_result",
          "data": {
            "text/plain": [
              "   subject_id_x  hadm_id_x           admittime           dischtime deathtime  \\\n",
              "0      10000032   22595853 2180-05-06 22:23:00 2180-05-07 17:15:00       NaT   \n",
              "1      10000032   22841357 2180-06-26 18:27:00 2180-06-27 18:49:00       NaT   \n",
              "2      10000032   25742920 2180-08-05 23:44:00 2180-08-07 17:50:00       NaT   \n",
              "3      10000032   29079034 2180-07-23 12:35:00 2180-07-25 17:55:00       NaT   \n",
              "4      10000068   25022803 2160-03-03 23:16:00 2160-03-04 06:26:00       NaT   \n",
              "\n",
              "   admission_type admit_provider_id      admission_location  \\\n",
              "0          URGENT            P874LG  TRANSFER FROM HOSPITAL   \n",
              "1        EW EMER.            P09Q6Y          EMERGENCY ROOM   \n",
              "2        EW EMER.            P60CC5          EMERGENCY ROOM   \n",
              "3        EW EMER.            P30KEH          EMERGENCY ROOM   \n",
              "4  EU OBSERVATION            P51VDL          EMERGENCY ROOM   \n",
              "\n",
              "  discharge_location insurance  ...       emar_id emar_seq        poe_id  \\\n",
              "0               HOME     Other  ...  13695905-651      651  13695905-745   \n",
              "1               HOME  Medicaid  ...  13695905-651      651  13695905-745   \n",
              "2            HOSPICE  Medicaid  ...  13695905-651      651  13695905-745   \n",
              "3               HOME  Medicaid  ...  13695905-651      651  13695905-745   \n",
              "4               <NA>     Other  ...  13695905-651      651  13695905-745   \n",
              "\n",
              "  pharmacy_id enter_provider_id           charttime  medication     event_txt  \\\n",
              "0  95243180.0              <NA> 2189-09-28 20:58:00       Senna  Administered   \n",
              "1  95243180.0              <NA> 2189-09-28 20:58:00       Senna  Administered   \n",
              "2  95243180.0              <NA> 2189-09-28 20:58:00       Senna  Administered   \n",
              "3  95243180.0              <NA> 2189-09-28 20:58:00       Senna  Administered   \n",
              "4  95243180.0              <NA> 2189-09-28 20:58:00       Senna  Administered   \n",
              "\n",
              "         scheduletime           storetime  \n",
              "0 2189-09-28 20:58:00 2189-09-28 20:59:00  \n",
              "1 2189-09-28 20:58:00 2189-09-28 20:59:00  \n",
              "2 2189-09-28 20:58:00 2189-09-28 20:59:00  \n",
              "3 2189-09-28 20:58:00 2189-09-28 20:59:00  \n",
              "4 2189-09-28 20:58:00 2189-09-28 20:59:00  \n",
              "\n",
              "[5 rows x 60 columns]"
            ],
            "text/html": [
              "\n",
              "  <div id=\"df-bcd4bf34-6d1c-4554-b52a-e0ceb3e8a7d1\" class=\"colab-df-container\">\n",
              "    <div>\n",
              "<style scoped>\n",
              "    .dataframe tbody tr th:only-of-type {\n",
              "        vertical-align: middle;\n",
              "    }\n",
              "\n",
              "    .dataframe tbody tr th {\n",
              "        vertical-align: top;\n",
              "    }\n",
              "\n",
              "    .dataframe thead th {\n",
              "        text-align: right;\n",
              "    }\n",
              "</style>\n",
              "<table border=\"1\" class=\"dataframe\">\n",
              "  <thead>\n",
              "    <tr style=\"text-align: right;\">\n",
              "      <th></th>\n",
              "      <th>subject_id_x</th>\n",
              "      <th>hadm_id_x</th>\n",
              "      <th>admittime</th>\n",
              "      <th>dischtime</th>\n",
              "      <th>deathtime</th>\n",
              "      <th>admission_type</th>\n",
              "      <th>admit_provider_id</th>\n",
              "      <th>admission_location</th>\n",
              "      <th>discharge_location</th>\n",
              "      <th>insurance</th>\n",
              "      <th>...</th>\n",
              "      <th>emar_id</th>\n",
              "      <th>emar_seq</th>\n",
              "      <th>poe_id</th>\n",
              "      <th>pharmacy_id</th>\n",
              "      <th>enter_provider_id</th>\n",
              "      <th>charttime</th>\n",
              "      <th>medication</th>\n",
              "      <th>event_txt</th>\n",
              "      <th>scheduletime</th>\n",
              "      <th>storetime</th>\n",
              "    </tr>\n",
              "  </thead>\n",
              "  <tbody>\n",
              "    <tr>\n",
              "      <th>0</th>\n",
              "      <td>10000032</td>\n",
              "      <td>22595853</td>\n",
              "      <td>2180-05-06 22:23:00</td>\n",
              "      <td>2180-05-07 17:15:00</td>\n",
              "      <td>NaT</td>\n",
              "      <td>URGENT</td>\n",
              "      <td>P874LG</td>\n",
              "      <td>TRANSFER FROM HOSPITAL</td>\n",
              "      <td>HOME</td>\n",
              "      <td>Other</td>\n",
              "      <td>...</td>\n",
              "      <td>13695905-651</td>\n",
              "      <td>651</td>\n",
              "      <td>13695905-745</td>\n",
              "      <td>95243180.0</td>\n",
              "      <td>&lt;NA&gt;</td>\n",
              "      <td>2189-09-28 20:58:00</td>\n",
              "      <td>Senna</td>\n",
              "      <td>Administered</td>\n",
              "      <td>2189-09-28 20:58:00</td>\n",
              "      <td>2189-09-28 20:59:00</td>\n",
              "    </tr>\n",
              "    <tr>\n",
              "      <th>1</th>\n",
              "      <td>10000032</td>\n",
              "      <td>22841357</td>\n",
              "      <td>2180-06-26 18:27:00</td>\n",
              "      <td>2180-06-27 18:49:00</td>\n",
              "      <td>NaT</td>\n",
              "      <td>EW EMER.</td>\n",
              "      <td>P09Q6Y</td>\n",
              "      <td>EMERGENCY ROOM</td>\n",
              "      <td>HOME</td>\n",
              "      <td>Medicaid</td>\n",
              "      <td>...</td>\n",
              "      <td>13695905-651</td>\n",
              "      <td>651</td>\n",
              "      <td>13695905-745</td>\n",
              "      <td>95243180.0</td>\n",
              "      <td>&lt;NA&gt;</td>\n",
              "      <td>2189-09-28 20:58:00</td>\n",
              "      <td>Senna</td>\n",
              "      <td>Administered</td>\n",
              "      <td>2189-09-28 20:58:00</td>\n",
              "      <td>2189-09-28 20:59:00</td>\n",
              "    </tr>\n",
              "    <tr>\n",
              "      <th>2</th>\n",
              "      <td>10000032</td>\n",
              "      <td>25742920</td>\n",
              "      <td>2180-08-05 23:44:00</td>\n",
              "      <td>2180-08-07 17:50:00</td>\n",
              "      <td>NaT</td>\n",
              "      <td>EW EMER.</td>\n",
              "      <td>P60CC5</td>\n",
              "      <td>EMERGENCY ROOM</td>\n",
              "      <td>HOSPICE</td>\n",
              "      <td>Medicaid</td>\n",
              "      <td>...</td>\n",
              "      <td>13695905-651</td>\n",
              "      <td>651</td>\n",
              "      <td>13695905-745</td>\n",
              "      <td>95243180.0</td>\n",
              "      <td>&lt;NA&gt;</td>\n",
              "      <td>2189-09-28 20:58:00</td>\n",
              "      <td>Senna</td>\n",
              "      <td>Administered</td>\n",
              "      <td>2189-09-28 20:58:00</td>\n",
              "      <td>2189-09-28 20:59:00</td>\n",
              "    </tr>\n",
              "    <tr>\n",
              "      <th>3</th>\n",
              "      <td>10000032</td>\n",
              "      <td>29079034</td>\n",
              "      <td>2180-07-23 12:35:00</td>\n",
              "      <td>2180-07-25 17:55:00</td>\n",
              "      <td>NaT</td>\n",
              "      <td>EW EMER.</td>\n",
              "      <td>P30KEH</td>\n",
              "      <td>EMERGENCY ROOM</td>\n",
              "      <td>HOME</td>\n",
              "      <td>Medicaid</td>\n",
              "      <td>...</td>\n",
              "      <td>13695905-651</td>\n",
              "      <td>651</td>\n",
              "      <td>13695905-745</td>\n",
              "      <td>95243180.0</td>\n",
              "      <td>&lt;NA&gt;</td>\n",
              "      <td>2189-09-28 20:58:00</td>\n",
              "      <td>Senna</td>\n",
              "      <td>Administered</td>\n",
              "      <td>2189-09-28 20:58:00</td>\n",
              "      <td>2189-09-28 20:59:00</td>\n",
              "    </tr>\n",
              "    <tr>\n",
              "      <th>4</th>\n",
              "      <td>10000068</td>\n",
              "      <td>25022803</td>\n",
              "      <td>2160-03-03 23:16:00</td>\n",
              "      <td>2160-03-04 06:26:00</td>\n",
              "      <td>NaT</td>\n",
              "      <td>EU OBSERVATION</td>\n",
              "      <td>P51VDL</td>\n",
              "      <td>EMERGENCY ROOM</td>\n",
              "      <td>&lt;NA&gt;</td>\n",
              "      <td>Other</td>\n",
              "      <td>...</td>\n",
              "      <td>13695905-651</td>\n",
              "      <td>651</td>\n",
              "      <td>13695905-745</td>\n",
              "      <td>95243180.0</td>\n",
              "      <td>&lt;NA&gt;</td>\n",
              "      <td>2189-09-28 20:58:00</td>\n",
              "      <td>Senna</td>\n",
              "      <td>Administered</td>\n",
              "      <td>2189-09-28 20:58:00</td>\n",
              "      <td>2189-09-28 20:59:00</td>\n",
              "    </tr>\n",
              "  </tbody>\n",
              "</table>\n",
              "<p>5 rows × 60 columns</p>\n",
              "</div>\n",
              "    <div class=\"colab-df-buttons\">\n",
              "\n",
              "  <div class=\"colab-df-container\">\n",
              "    <button class=\"colab-df-convert\" onclick=\"convertToInteractive('df-bcd4bf34-6d1c-4554-b52a-e0ceb3e8a7d1')\"\n",
              "            title=\"Convert this dataframe to an interactive table.\"\n",
              "            style=\"display:none;\">\n",
              "\n",
              "  <svg xmlns=\"http://www.w3.org/2000/svg\" height=\"24px\" viewBox=\"0 -960 960 960\">\n",
              "    <path d=\"M120-120v-720h720v720H120Zm60-500h600v-160H180v160Zm220 220h160v-160H400v160Zm0 220h160v-160H400v160ZM180-400h160v-160H180v160Zm440 0h160v-160H620v160ZM180-180h160v-160H180v160Zm440 0h160v-160H620v160Z\"/>\n",
              "  </svg>\n",
              "    </button>\n",
              "\n",
              "  <style>\n",
              "    .colab-df-container {\n",
              "      display:flex;\n",
              "      gap: 12px;\n",
              "    }\n",
              "\n",
              "    .colab-df-convert {\n",
              "      background-color: #E8F0FE;\n",
              "      border: none;\n",
              "      border-radius: 50%;\n",
              "      cursor: pointer;\n",
              "      display: none;\n",
              "      fill: #1967D2;\n",
              "      height: 32px;\n",
              "      padding: 0 0 0 0;\n",
              "      width: 32px;\n",
              "    }\n",
              "\n",
              "    .colab-df-convert:hover {\n",
              "      background-color: #E2EBFA;\n",
              "      box-shadow: 0px 1px 2px rgba(60, 64, 67, 0.3), 0px 1px 3px 1px rgba(60, 64, 67, 0.15);\n",
              "      fill: #174EA6;\n",
              "    }\n",
              "\n",
              "    .colab-df-buttons div {\n",
              "      margin-bottom: 4px;\n",
              "    }\n",
              "\n",
              "    [theme=dark] .colab-df-convert {\n",
              "      background-color: #3B4455;\n",
              "      fill: #D2E3FC;\n",
              "    }\n",
              "\n",
              "    [theme=dark] .colab-df-convert:hover {\n",
              "      background-color: #434B5C;\n",
              "      box-shadow: 0px 1px 3px 1px rgba(0, 0, 0, 0.15);\n",
              "      filter: drop-shadow(0px 1px 2px rgba(0, 0, 0, 0.3));\n",
              "      fill: #FFFFFF;\n",
              "    }\n",
              "  </style>\n",
              "\n",
              "    <script>\n",
              "      const buttonEl =\n",
              "        document.querySelector('#df-bcd4bf34-6d1c-4554-b52a-e0ceb3e8a7d1 button.colab-df-convert');\n",
              "      buttonEl.style.display =\n",
              "        google.colab.kernel.accessAllowed ? 'block' : 'none';\n",
              "\n",
              "      async function convertToInteractive(key) {\n",
              "        const element = document.querySelector('#df-bcd4bf34-6d1c-4554-b52a-e0ceb3e8a7d1');\n",
              "        const dataTable =\n",
              "          await google.colab.kernel.invokeFunction('convertToInteractive',\n",
              "                                                    [key], {});\n",
              "        if (!dataTable) return;\n",
              "\n",
              "        const docLinkHtml = 'Like what you see? Visit the ' +\n",
              "          '<a target=\"_blank\" href=https://colab.research.google.com/notebooks/data_table.ipynb>data table notebook</a>'\n",
              "          + ' to learn more about interactive tables.';\n",
              "        element.innerHTML = '';\n",
              "        dataTable['output_type'] = 'display_data';\n",
              "        await google.colab.output.renderOutput(dataTable, element);\n",
              "        const docLink = document.createElement('div');\n",
              "        docLink.innerHTML = docLinkHtml;\n",
              "        element.appendChild(docLink);\n",
              "      }\n",
              "    </script>\n",
              "  </div>\n",
              "\n",
              "\n",
              "<div id=\"df-3ced3f37-0ce1-49d3-9e49-c4e55f40c0a4\">\n",
              "  <button class=\"colab-df-quickchart\" onclick=\"quickchart('df-3ced3f37-0ce1-49d3-9e49-c4e55f40c0a4')\"\n",
              "            title=\"Suggest charts\"\n",
              "            style=\"display:none;\">\n",
              "\n",
              "<svg xmlns=\"http://www.w3.org/2000/svg\" height=\"24px\"viewBox=\"0 0 24 24\"\n",
              "     width=\"24px\">\n",
              "    <g>\n",
              "        <path d=\"M19 3H5c-1.1 0-2 .9-2 2v14c0 1.1.9 2 2 2h14c1.1 0 2-.9 2-2V5c0-1.1-.9-2-2-2zM9 17H7v-7h2v7zm4 0h-2V7h2v10zm4 0h-2v-4h2v4z\"/>\n",
              "    </g>\n",
              "</svg>\n",
              "  </button>\n",
              "\n",
              "<style>\n",
              "  .colab-df-quickchart {\n",
              "      --bg-color: #E8F0FE;\n",
              "      --fill-color: #1967D2;\n",
              "      --hover-bg-color: #E2EBFA;\n",
              "      --hover-fill-color: #174EA6;\n",
              "      --disabled-fill-color: #AAA;\n",
              "      --disabled-bg-color: #DDD;\n",
              "  }\n",
              "\n",
              "  [theme=dark] .colab-df-quickchart {\n",
              "      --bg-color: #3B4455;\n",
              "      --fill-color: #D2E3FC;\n",
              "      --hover-bg-color: #434B5C;\n",
              "      --hover-fill-color: #FFFFFF;\n",
              "      --disabled-bg-color: #3B4455;\n",
              "      --disabled-fill-color: #666;\n",
              "  }\n",
              "\n",
              "  .colab-df-quickchart {\n",
              "    background-color: var(--bg-color);\n",
              "    border: none;\n",
              "    border-radius: 50%;\n",
              "    cursor: pointer;\n",
              "    display: none;\n",
              "    fill: var(--fill-color);\n",
              "    height: 32px;\n",
              "    padding: 0;\n",
              "    width: 32px;\n",
              "  }\n",
              "\n",
              "  .colab-df-quickchart:hover {\n",
              "    background-color: var(--hover-bg-color);\n",
              "    box-shadow: 0 1px 2px rgba(60, 64, 67, 0.3), 0 1px 3px 1px rgba(60, 64, 67, 0.15);\n",
              "    fill: var(--button-hover-fill-color);\n",
              "  }\n",
              "\n",
              "  .colab-df-quickchart-complete:disabled,\n",
              "  .colab-df-quickchart-complete:disabled:hover {\n",
              "    background-color: var(--disabled-bg-color);\n",
              "    fill: var(--disabled-fill-color);\n",
              "    box-shadow: none;\n",
              "  }\n",
              "\n",
              "  .colab-df-spinner {\n",
              "    border: 2px solid var(--fill-color);\n",
              "    border-color: transparent;\n",
              "    border-bottom-color: var(--fill-color);\n",
              "    animation:\n",
              "      spin 1s steps(1) infinite;\n",
              "  }\n",
              "\n",
              "  @keyframes spin {\n",
              "    0% {\n",
              "      border-color: transparent;\n",
              "      border-bottom-color: var(--fill-color);\n",
              "      border-left-color: var(--fill-color);\n",
              "    }\n",
              "    20% {\n",
              "      border-color: transparent;\n",
              "      border-left-color: var(--fill-color);\n",
              "      border-top-color: var(--fill-color);\n",
              "    }\n",
              "    30% {\n",
              "      border-color: transparent;\n",
              "      border-left-color: var(--fill-color);\n",
              "      border-top-color: var(--fill-color);\n",
              "      border-right-color: var(--fill-color);\n",
              "    }\n",
              "    40% {\n",
              "      border-color: transparent;\n",
              "      border-right-color: var(--fill-color);\n",
              "      border-top-color: var(--fill-color);\n",
              "    }\n",
              "    60% {\n",
              "      border-color: transparent;\n",
              "      border-right-color: var(--fill-color);\n",
              "    }\n",
              "    80% {\n",
              "      border-color: transparent;\n",
              "      border-right-color: var(--fill-color);\n",
              "      border-bottom-color: var(--fill-color);\n",
              "    }\n",
              "    90% {\n",
              "      border-color: transparent;\n",
              "      border-bottom-color: var(--fill-color);\n",
              "    }\n",
              "  }\n",
              "</style>\n",
              "\n",
              "  <script>\n",
              "    async function quickchart(key) {\n",
              "      const quickchartButtonEl =\n",
              "        document.querySelector('#' + key + ' button');\n",
              "      quickchartButtonEl.disabled = true;  // To prevent multiple clicks.\n",
              "      quickchartButtonEl.classList.add('colab-df-spinner');\n",
              "      try {\n",
              "        const charts = await google.colab.kernel.invokeFunction(\n",
              "            'suggestCharts', [key], {});\n",
              "      } catch (error) {\n",
              "        console.error('Error during call to suggestCharts:', error);\n",
              "      }\n",
              "      quickchartButtonEl.classList.remove('colab-df-spinner');\n",
              "      quickchartButtonEl.classList.add('colab-df-quickchart-complete');\n",
              "    }\n",
              "    (() => {\n",
              "      let quickchartButtonEl =\n",
              "        document.querySelector('#df-3ced3f37-0ce1-49d3-9e49-c4e55f40c0a4 button');\n",
              "      quickchartButtonEl.style.display =\n",
              "        google.colab.kernel.accessAllowed ? 'block' : 'none';\n",
              "    })();\n",
              "  </script>\n",
              "</div>\n",
              "\n",
              "    </div>\n",
              "  </div>\n"
            ],
            "application/vnd.google.colaboratory.intrinsic+json": {
              "type": "dataframe"
            }
          },
          "metadata": {},
          "execution_count": 143
        }
      ]
    },
    {
      "cell_type": "markdown",
      "source": [
        "8. Merge df_merge with df_prescriptions"
      ],
      "metadata": {
        "id": "RboK10gJ0ZI1"
      },
      "id": "RboK10gJ0ZI1"
    },
    {
      "cell_type": "code",
      "execution_count": 146,
      "id": "d5a458e1",
      "metadata": {
        "id": "d5a458e1",
        "colab": {
          "base_uri": "https://localhost:8080/",
          "height": 446
        },
        "outputId": "38bef867-d6ce-455d-c6cf-60f0e7416be3"
      },
      "outputs": [
        {
          "output_type": "stream",
          "name": "stdout",
          "text": [
            "299712\n"
          ]
        },
        {
          "output_type": "execute_result",
          "data": {
            "text/plain": [
              "   subject_id_x  hadm_id_x           admittime           dischtime deathtime  \\\n",
              "0      10000032   22595853 2180-05-06 22:23:00 2180-05-07 17:15:00       NaT   \n",
              "1      10000032   22841357 2180-06-26 18:27:00 2180-06-27 18:49:00       NaT   \n",
              "2      10000032   25742920 2180-08-05 23:44:00 2180-08-07 17:50:00       NaT   \n",
              "3      10000032   29079034 2180-07-23 12:35:00 2180-07-25 17:55:00       NaT   \n",
              "4      10000068   25022803 2160-03-03 23:16:00 2160-03-04 06:26:00       NaT   \n",
              "\n",
              "   admission_type admit_provider_id      admission_location  \\\n",
              "0          URGENT            P874LG  TRANSFER FROM HOSPITAL   \n",
              "1        EW EMER.            P09Q6Y          EMERGENCY ROOM   \n",
              "2        EW EMER.            P60CC5          EMERGENCY ROOM   \n",
              "3        EW EMER.            P30KEH          EMERGENCY ROOM   \n",
              "4  EU OBSERVATION            P51VDL          EMERGENCY ROOM   \n",
              "\n",
              "  discharge_location insurance  ...     gsn          ndc prod_strength  \\\n",
              "0               HOME     Other  ...  007856  61314022705   5 mL Bottle   \n",
              "1               HOME  Medicaid  ...  007856  61314022705   5 mL Bottle   \n",
              "2            HOSPICE  Medicaid  ...  007856  61314022705   5 mL Bottle   \n",
              "3               HOME  Medicaid  ...  007856  61314022705   5 mL Bottle   \n",
              "4               <NA>     Other  ...  007856  61314022705   5 mL Bottle   \n",
              "\n",
              "  form_rx dose_val_rx  dose_unit_rx  form_val_disp form_unit_disp  \\\n",
              "0    <NA>           1          DROP         0.0167           DBTL   \n",
              "1    <NA>           1          DROP         0.0167           DBTL   \n",
              "2    <NA>           1          DROP         0.0167           DBTL   \n",
              "3    <NA>           1          DROP         0.0167           DBTL   \n",
              "4    <NA>           1          DROP         0.0167           DBTL   \n",
              "\n",
              "   doses_per_24_hrs     route  \n",
              "0               2.0  LEFT EYE  \n",
              "1               2.0  LEFT EYE  \n",
              "2               2.0  LEFT EYE  \n",
              "3               2.0  LEFT EYE  \n",
              "4               2.0  LEFT EYE  \n",
              "\n",
              "[5 rows x 81 columns]"
            ],
            "text/html": [
              "\n",
              "  <div id=\"df-f71b3225-1473-4069-980c-384259ebb7cb\" class=\"colab-df-container\">\n",
              "    <div>\n",
              "<style scoped>\n",
              "    .dataframe tbody tr th:only-of-type {\n",
              "        vertical-align: middle;\n",
              "    }\n",
              "\n",
              "    .dataframe tbody tr th {\n",
              "        vertical-align: top;\n",
              "    }\n",
              "\n",
              "    .dataframe thead th {\n",
              "        text-align: right;\n",
              "    }\n",
              "</style>\n",
              "<table border=\"1\" class=\"dataframe\">\n",
              "  <thead>\n",
              "    <tr style=\"text-align: right;\">\n",
              "      <th></th>\n",
              "      <th>subject_id_x</th>\n",
              "      <th>hadm_id_x</th>\n",
              "      <th>admittime</th>\n",
              "      <th>dischtime</th>\n",
              "      <th>deathtime</th>\n",
              "      <th>admission_type</th>\n",
              "      <th>admit_provider_id</th>\n",
              "      <th>admission_location</th>\n",
              "      <th>discharge_location</th>\n",
              "      <th>insurance</th>\n",
              "      <th>...</th>\n",
              "      <th>gsn</th>\n",
              "      <th>ndc</th>\n",
              "      <th>prod_strength</th>\n",
              "      <th>form_rx</th>\n",
              "      <th>dose_val_rx</th>\n",
              "      <th>dose_unit_rx</th>\n",
              "      <th>form_val_disp</th>\n",
              "      <th>form_unit_disp</th>\n",
              "      <th>doses_per_24_hrs</th>\n",
              "      <th>route</th>\n",
              "    </tr>\n",
              "  </thead>\n",
              "  <tbody>\n",
              "    <tr>\n",
              "      <th>0</th>\n",
              "      <td>10000032</td>\n",
              "      <td>22595853</td>\n",
              "      <td>2180-05-06 22:23:00</td>\n",
              "      <td>2180-05-07 17:15:00</td>\n",
              "      <td>NaT</td>\n",
              "      <td>URGENT</td>\n",
              "      <td>P874LG</td>\n",
              "      <td>TRANSFER FROM HOSPITAL</td>\n",
              "      <td>HOME</td>\n",
              "      <td>Other</td>\n",
              "      <td>...</td>\n",
              "      <td>007856</td>\n",
              "      <td>61314022705</td>\n",
              "      <td>5 mL Bottle</td>\n",
              "      <td>&lt;NA&gt;</td>\n",
              "      <td>1</td>\n",
              "      <td>DROP</td>\n",
              "      <td>0.0167</td>\n",
              "      <td>DBTL</td>\n",
              "      <td>2.0</td>\n",
              "      <td>LEFT EYE</td>\n",
              "    </tr>\n",
              "    <tr>\n",
              "      <th>1</th>\n",
              "      <td>10000032</td>\n",
              "      <td>22841357</td>\n",
              "      <td>2180-06-26 18:27:00</td>\n",
              "      <td>2180-06-27 18:49:00</td>\n",
              "      <td>NaT</td>\n",
              "      <td>EW EMER.</td>\n",
              "      <td>P09Q6Y</td>\n",
              "      <td>EMERGENCY ROOM</td>\n",
              "      <td>HOME</td>\n",
              "      <td>Medicaid</td>\n",
              "      <td>...</td>\n",
              "      <td>007856</td>\n",
              "      <td>61314022705</td>\n",
              "      <td>5 mL Bottle</td>\n",
              "      <td>&lt;NA&gt;</td>\n",
              "      <td>1</td>\n",
              "      <td>DROP</td>\n",
              "      <td>0.0167</td>\n",
              "      <td>DBTL</td>\n",
              "      <td>2.0</td>\n",
              "      <td>LEFT EYE</td>\n",
              "    </tr>\n",
              "    <tr>\n",
              "      <th>2</th>\n",
              "      <td>10000032</td>\n",
              "      <td>25742920</td>\n",
              "      <td>2180-08-05 23:44:00</td>\n",
              "      <td>2180-08-07 17:50:00</td>\n",
              "      <td>NaT</td>\n",
              "      <td>EW EMER.</td>\n",
              "      <td>P60CC5</td>\n",
              "      <td>EMERGENCY ROOM</td>\n",
              "      <td>HOSPICE</td>\n",
              "      <td>Medicaid</td>\n",
              "      <td>...</td>\n",
              "      <td>007856</td>\n",
              "      <td>61314022705</td>\n",
              "      <td>5 mL Bottle</td>\n",
              "      <td>&lt;NA&gt;</td>\n",
              "      <td>1</td>\n",
              "      <td>DROP</td>\n",
              "      <td>0.0167</td>\n",
              "      <td>DBTL</td>\n",
              "      <td>2.0</td>\n",
              "      <td>LEFT EYE</td>\n",
              "    </tr>\n",
              "    <tr>\n",
              "      <th>3</th>\n",
              "      <td>10000032</td>\n",
              "      <td>29079034</td>\n",
              "      <td>2180-07-23 12:35:00</td>\n",
              "      <td>2180-07-25 17:55:00</td>\n",
              "      <td>NaT</td>\n",
              "      <td>EW EMER.</td>\n",
              "      <td>P30KEH</td>\n",
              "      <td>EMERGENCY ROOM</td>\n",
              "      <td>HOME</td>\n",
              "      <td>Medicaid</td>\n",
              "      <td>...</td>\n",
              "      <td>007856</td>\n",
              "      <td>61314022705</td>\n",
              "      <td>5 mL Bottle</td>\n",
              "      <td>&lt;NA&gt;</td>\n",
              "      <td>1</td>\n",
              "      <td>DROP</td>\n",
              "      <td>0.0167</td>\n",
              "      <td>DBTL</td>\n",
              "      <td>2.0</td>\n",
              "      <td>LEFT EYE</td>\n",
              "    </tr>\n",
              "    <tr>\n",
              "      <th>4</th>\n",
              "      <td>10000068</td>\n",
              "      <td>25022803</td>\n",
              "      <td>2160-03-03 23:16:00</td>\n",
              "      <td>2160-03-04 06:26:00</td>\n",
              "      <td>NaT</td>\n",
              "      <td>EU OBSERVATION</td>\n",
              "      <td>P51VDL</td>\n",
              "      <td>EMERGENCY ROOM</td>\n",
              "      <td>&lt;NA&gt;</td>\n",
              "      <td>Other</td>\n",
              "      <td>...</td>\n",
              "      <td>007856</td>\n",
              "      <td>61314022705</td>\n",
              "      <td>5 mL Bottle</td>\n",
              "      <td>&lt;NA&gt;</td>\n",
              "      <td>1</td>\n",
              "      <td>DROP</td>\n",
              "      <td>0.0167</td>\n",
              "      <td>DBTL</td>\n",
              "      <td>2.0</td>\n",
              "      <td>LEFT EYE</td>\n",
              "    </tr>\n",
              "  </tbody>\n",
              "</table>\n",
              "<p>5 rows × 81 columns</p>\n",
              "</div>\n",
              "    <div class=\"colab-df-buttons\">\n",
              "\n",
              "  <div class=\"colab-df-container\">\n",
              "    <button class=\"colab-df-convert\" onclick=\"convertToInteractive('df-f71b3225-1473-4069-980c-384259ebb7cb')\"\n",
              "            title=\"Convert this dataframe to an interactive table.\"\n",
              "            style=\"display:none;\">\n",
              "\n",
              "  <svg xmlns=\"http://www.w3.org/2000/svg\" height=\"24px\" viewBox=\"0 -960 960 960\">\n",
              "    <path d=\"M120-120v-720h720v720H120Zm60-500h600v-160H180v160Zm220 220h160v-160H400v160Zm0 220h160v-160H400v160ZM180-400h160v-160H180v160Zm440 0h160v-160H620v160ZM180-180h160v-160H180v160Zm440 0h160v-160H620v160Z\"/>\n",
              "  </svg>\n",
              "    </button>\n",
              "\n",
              "  <style>\n",
              "    .colab-df-container {\n",
              "      display:flex;\n",
              "      gap: 12px;\n",
              "    }\n",
              "\n",
              "    .colab-df-convert {\n",
              "      background-color: #E8F0FE;\n",
              "      border: none;\n",
              "      border-radius: 50%;\n",
              "      cursor: pointer;\n",
              "      display: none;\n",
              "      fill: #1967D2;\n",
              "      height: 32px;\n",
              "      padding: 0 0 0 0;\n",
              "      width: 32px;\n",
              "    }\n",
              "\n",
              "    .colab-df-convert:hover {\n",
              "      background-color: #E2EBFA;\n",
              "      box-shadow: 0px 1px 2px rgba(60, 64, 67, 0.3), 0px 1px 3px 1px rgba(60, 64, 67, 0.15);\n",
              "      fill: #174EA6;\n",
              "    }\n",
              "\n",
              "    .colab-df-buttons div {\n",
              "      margin-bottom: 4px;\n",
              "    }\n",
              "\n",
              "    [theme=dark] .colab-df-convert {\n",
              "      background-color: #3B4455;\n",
              "      fill: #D2E3FC;\n",
              "    }\n",
              "\n",
              "    [theme=dark] .colab-df-convert:hover {\n",
              "      background-color: #434B5C;\n",
              "      box-shadow: 0px 1px 3px 1px rgba(0, 0, 0, 0.15);\n",
              "      filter: drop-shadow(0px 1px 2px rgba(0, 0, 0, 0.3));\n",
              "      fill: #FFFFFF;\n",
              "    }\n",
              "  </style>\n",
              "\n",
              "    <script>\n",
              "      const buttonEl =\n",
              "        document.querySelector('#df-f71b3225-1473-4069-980c-384259ebb7cb button.colab-df-convert');\n",
              "      buttonEl.style.display =\n",
              "        google.colab.kernel.accessAllowed ? 'block' : 'none';\n",
              "\n",
              "      async function convertToInteractive(key) {\n",
              "        const element = document.querySelector('#df-f71b3225-1473-4069-980c-384259ebb7cb');\n",
              "        const dataTable =\n",
              "          await google.colab.kernel.invokeFunction('convertToInteractive',\n",
              "                                                    [key], {});\n",
              "        if (!dataTable) return;\n",
              "\n",
              "        const docLinkHtml = 'Like what you see? Visit the ' +\n",
              "          '<a target=\"_blank\" href=https://colab.research.google.com/notebooks/data_table.ipynb>data table notebook</a>'\n",
              "          + ' to learn more about interactive tables.';\n",
              "        element.innerHTML = '';\n",
              "        dataTable['output_type'] = 'display_data';\n",
              "        await google.colab.output.renderOutput(dataTable, element);\n",
              "        const docLink = document.createElement('div');\n",
              "        docLink.innerHTML = docLinkHtml;\n",
              "        element.appendChild(docLink);\n",
              "      }\n",
              "    </script>\n",
              "  </div>\n",
              "\n",
              "\n",
              "<div id=\"df-3cbbafd3-446f-48c9-a08b-3a7417da40d7\">\n",
              "  <button class=\"colab-df-quickchart\" onclick=\"quickchart('df-3cbbafd3-446f-48c9-a08b-3a7417da40d7')\"\n",
              "            title=\"Suggest charts\"\n",
              "            style=\"display:none;\">\n",
              "\n",
              "<svg xmlns=\"http://www.w3.org/2000/svg\" height=\"24px\"viewBox=\"0 0 24 24\"\n",
              "     width=\"24px\">\n",
              "    <g>\n",
              "        <path d=\"M19 3H5c-1.1 0-2 .9-2 2v14c0 1.1.9 2 2 2h14c1.1 0 2-.9 2-2V5c0-1.1-.9-2-2-2zM9 17H7v-7h2v7zm4 0h-2V7h2v10zm4 0h-2v-4h2v4z\"/>\n",
              "    </g>\n",
              "</svg>\n",
              "  </button>\n",
              "\n",
              "<style>\n",
              "  .colab-df-quickchart {\n",
              "      --bg-color: #E8F0FE;\n",
              "      --fill-color: #1967D2;\n",
              "      --hover-bg-color: #E2EBFA;\n",
              "      --hover-fill-color: #174EA6;\n",
              "      --disabled-fill-color: #AAA;\n",
              "      --disabled-bg-color: #DDD;\n",
              "  }\n",
              "\n",
              "  [theme=dark] .colab-df-quickchart {\n",
              "      --bg-color: #3B4455;\n",
              "      --fill-color: #D2E3FC;\n",
              "      --hover-bg-color: #434B5C;\n",
              "      --hover-fill-color: #FFFFFF;\n",
              "      --disabled-bg-color: #3B4455;\n",
              "      --disabled-fill-color: #666;\n",
              "  }\n",
              "\n",
              "  .colab-df-quickchart {\n",
              "    background-color: var(--bg-color);\n",
              "    border: none;\n",
              "    border-radius: 50%;\n",
              "    cursor: pointer;\n",
              "    display: none;\n",
              "    fill: var(--fill-color);\n",
              "    height: 32px;\n",
              "    padding: 0;\n",
              "    width: 32px;\n",
              "  }\n",
              "\n",
              "  .colab-df-quickchart:hover {\n",
              "    background-color: var(--hover-bg-color);\n",
              "    box-shadow: 0 1px 2px rgba(60, 64, 67, 0.3), 0 1px 3px 1px rgba(60, 64, 67, 0.15);\n",
              "    fill: var(--button-hover-fill-color);\n",
              "  }\n",
              "\n",
              "  .colab-df-quickchart-complete:disabled,\n",
              "  .colab-df-quickchart-complete:disabled:hover {\n",
              "    background-color: var(--disabled-bg-color);\n",
              "    fill: var(--disabled-fill-color);\n",
              "    box-shadow: none;\n",
              "  }\n",
              "\n",
              "  .colab-df-spinner {\n",
              "    border: 2px solid var(--fill-color);\n",
              "    border-color: transparent;\n",
              "    border-bottom-color: var(--fill-color);\n",
              "    animation:\n",
              "      spin 1s steps(1) infinite;\n",
              "  }\n",
              "\n",
              "  @keyframes spin {\n",
              "    0% {\n",
              "      border-color: transparent;\n",
              "      border-bottom-color: var(--fill-color);\n",
              "      border-left-color: var(--fill-color);\n",
              "    }\n",
              "    20% {\n",
              "      border-color: transparent;\n",
              "      border-left-color: var(--fill-color);\n",
              "      border-top-color: var(--fill-color);\n",
              "    }\n",
              "    30% {\n",
              "      border-color: transparent;\n",
              "      border-left-color: var(--fill-color);\n",
              "      border-top-color: var(--fill-color);\n",
              "      border-right-color: var(--fill-color);\n",
              "    }\n",
              "    40% {\n",
              "      border-color: transparent;\n",
              "      border-right-color: var(--fill-color);\n",
              "      border-top-color: var(--fill-color);\n",
              "    }\n",
              "    60% {\n",
              "      border-color: transparent;\n",
              "      border-right-color: var(--fill-color);\n",
              "    }\n",
              "    80% {\n",
              "      border-color: transparent;\n",
              "      border-right-color: var(--fill-color);\n",
              "      border-bottom-color: var(--fill-color);\n",
              "    }\n",
              "    90% {\n",
              "      border-color: transparent;\n",
              "      border-bottom-color: var(--fill-color);\n",
              "    }\n",
              "  }\n",
              "</style>\n",
              "\n",
              "  <script>\n",
              "    async function quickchart(key) {\n",
              "      const quickchartButtonEl =\n",
              "        document.querySelector('#' + key + ' button');\n",
              "      quickchartButtonEl.disabled = true;  // To prevent multiple clicks.\n",
              "      quickchartButtonEl.classList.add('colab-df-spinner');\n",
              "      try {\n",
              "        const charts = await google.colab.kernel.invokeFunction(\n",
              "            'suggestCharts', [key], {});\n",
              "      } catch (error) {\n",
              "        console.error('Error during call to suggestCharts:', error);\n",
              "      }\n",
              "      quickchartButtonEl.classList.remove('colab-df-spinner');\n",
              "      quickchartButtonEl.classList.add('colab-df-quickchart-complete');\n",
              "    }\n",
              "    (() => {\n",
              "      let quickchartButtonEl =\n",
              "        document.querySelector('#df-3cbbafd3-446f-48c9-a08b-3a7417da40d7 button');\n",
              "      quickchartButtonEl.style.display =\n",
              "        google.colab.kernel.accessAllowed ? 'block' : 'none';\n",
              "    })();\n",
              "  </script>\n",
              "</div>\n",
              "\n",
              "    </div>\n",
              "  </div>\n"
            ],
            "application/vnd.google.colaboratory.intrinsic+json": {
              "type": "dataframe"
            }
          },
          "metadata": {},
          "execution_count": 146
        }
      ],
      "source": [
        "df_merge = df_merge.join(df_hosp_prescriptions, how='left', on='subject_id',  rsuffix='_right')\n",
        "print(len(df_merge))\n",
        "df_merge.head()"
      ]
    },
    {
      "cell_type": "markdown",
      "source": [
        "9. Merge df_merge with df_microbiology_events"
      ],
      "metadata": {
        "id": "jTYUyRuJ1b1E"
      },
      "id": "jTYUyRuJ1b1E"
    },
    {
      "cell_type": "code",
      "execution_count": 2,
      "id": "cde61116",
      "metadata": {
        "id": "cde61116",
        "colab": {
          "base_uri": "https://localhost:8080/",
          "height": 193
        },
        "outputId": "f79bf669-16cb-4e1a-f1fa-67b7f479c722"
      },
      "outputs": [
        {
          "output_type": "error",
          "ename": "NameError",
          "evalue": "name 'df_merge' is not defined",
          "traceback": [
            "\u001b[0;31m---------------------------------------------------------------------------\u001b[0m",
            "\u001b[0;31mNameError\u001b[0m                                 Traceback (most recent call last)",
            "\u001b[0;32m<ipython-input-2-3d28bb23489c>\u001b[0m in \u001b[0;36m<cell line: 2>\u001b[0;34m()\u001b[0m\n\u001b[1;32m      1\u001b[0m \u001b[0;31m#Merge df_merge and df_microbiology_events\u001b[0m\u001b[0;34m\u001b[0m\u001b[0;34m\u001b[0m\u001b[0m\n\u001b[0;32m----> 2\u001b[0;31m \u001b[0mdf_merge\u001b[0m \u001b[0;34m=\u001b[0m \u001b[0mdf_merge\u001b[0m\u001b[0;34m.\u001b[0m\u001b[0mjoin\u001b[0m\u001b[0;34m(\u001b[0m\u001b[0mdf_hosp_microbiologyevents\u001b[0m\u001b[0;34m,\u001b[0m \u001b[0mhow\u001b[0m\u001b[0;34m=\u001b[0m\u001b[0;34m'left'\u001b[0m\u001b[0;34m,\u001b[0m \u001b[0mon\u001b[0m\u001b[0;34m=\u001b[0m\u001b[0;34m'subject_id'\u001b[0m\u001b[0;34m,\u001b[0m  \u001b[0mrsuffix\u001b[0m\u001b[0;34m=\u001b[0m\u001b[0;34m'_right'\u001b[0m\u001b[0;34m)\u001b[0m\u001b[0;34m\u001b[0m\u001b[0;34m\u001b[0m\u001b[0m\n\u001b[0m\u001b[1;32m      3\u001b[0m \u001b[0mprint\u001b[0m\u001b[0;34m(\u001b[0m\u001b[0mlen\u001b[0m\u001b[0;34m(\u001b[0m\u001b[0mdf_merge\u001b[0m\u001b[0;34m)\u001b[0m\u001b[0;34m)\u001b[0m\u001b[0;34m\u001b[0m\u001b[0;34m\u001b[0m\u001b[0m\n\u001b[1;32m      4\u001b[0m \u001b[0mdf_merge\u001b[0m\u001b[0;34m.\u001b[0m\u001b[0mhead\u001b[0m\u001b[0;34m(\u001b[0m\u001b[0;34m)\u001b[0m\u001b[0;34m\u001b[0m\u001b[0;34m\u001b[0m\u001b[0m\n",
            "\u001b[0;31mNameError\u001b[0m: name 'df_merge' is not defined"
          ]
        }
      ],
      "source": [
        "#Merge df_merge and df_microbiology_events\n",
        "df_merge = df_merge.join(df_hosp_microbiologyevents, how='left', on='subject_id',  rsuffix='_right')\n",
        "print(len(df_merge))\n",
        "df_merge.head()"
      ]
    },
    {
      "cell_type": "code",
      "execution_count": null,
      "id": "5ec3c86a",
      "metadata": {
        "id": "5ec3c86a"
      },
      "outputs": [],
      "source": [
        "#Merge df_merge and df_services\n",
        "df_merge = df_merge.join(df_services, how='left')\n",
        "print(len(df_merge))\n",
        "df_merge.head()"
      ]
    },
    {
      "cell_type": "code",
      "execution_count": null,
      "id": "b3240f06",
      "metadata": {
        "id": "b3240f06"
      },
      "outputs": [],
      "source": [
        "#Saving it to a csv file\n",
        "#df_merge.compute().to_csv('dataset/ch_02_end_to_end_ml.csv')"
      ]
    },
    {
      "cell_type": "code",
      "execution_count": null,
      "id": "7762f11e",
      "metadata": {
        "id": "7762f11e"
      },
      "outputs": [],
      "source": []
    }
  ],
  "metadata": {
    "kernelspec": {
      "display_name": "Python 3",
      "name": "python3"
    },
    "language_info": {
      "codemirror_mode": {
        "name": "ipython",
        "version": 3
      },
      "file_extension": ".py",
      "mimetype": "text/x-python",
      "name": "python",
      "nbconvert_exporter": "python",
      "pygments_lexer": "ipython3",
      "version": "3.8.10"
    },
    "colab": {
      "provenance": [],
      "gpuType": "T4",
      "include_colab_link": true
    },
    "accelerator": "GPU"
  },
  "nbformat": 4,
  "nbformat_minor": 5
}