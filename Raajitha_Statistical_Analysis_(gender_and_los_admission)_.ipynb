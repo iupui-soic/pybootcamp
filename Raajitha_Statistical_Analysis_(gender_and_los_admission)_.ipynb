{
  "nbformat": 4,
  "nbformat_minor": 0,
  "metadata": {
    "colab": {
      "provenance": [],
      "authorship_tag": "ABX9TyPcfWC+RdowptvrltEwA4Al",
      "include_colab_link": true
    },
    "kernelspec": {
      "name": "python3",
      "display_name": "Python 3"
    },
    "language_info": {
      "name": "python"
    }
  },
  "cells": [
    {
      "cell_type": "markdown",
      "metadata": {
        "id": "view-in-github",
        "colab_type": "text"
      },
      "source": [
        "<a href=\"https://colab.research.google.com/github/iupui-soic/pybootcamp/blob/main/Raajitha_Statistical_Analysis_(gender_and_los_admission)_.ipynb\" target=\"_parent\"><img src=\"https://colab.research.google.com/assets/colab-badge.svg\" alt=\"Open In Colab\"/></a>"
      ]
    },
    {
      "cell_type": "code",
      "execution_count": null,
      "metadata": {
        "colab": {
          "base_uri": "https://localhost:8080/"
        },
        "id": "4D80bMxVl_N2",
        "outputId": "8189b501-bf96-4249-b802-a999285ccf10"
      },
      "outputs": [
        {
          "output_type": "stream",
          "name": "stdout",
          "text": [
            "Mounted at /content/drive\n"
          ]
        }
      ],
      "source": [
        "from google.colab import drive\n",
        "drive.mount('/content/drive')"
      ]
    },
    {
      "cell_type": "code",
      "source": [
        "import pandas as pd\n",
        "import numpy as np\n",
        "import matplotlib.pyplot as plt\n",
        "import seaborn as sns"
      ],
      "metadata": {
        "id": "eHPTJclem16f"
      },
      "execution_count": null,
      "outputs": []
    },
    {
      "cell_type": "code",
      "source": [
        "df = pd.read_csv('/content/drive/MyDrive/Datasets/ch_02_end_to_end_ml.csv')"
      ],
      "metadata": {
        "id": "uRmjPq2WmuRU"
      },
      "execution_count": null,
      "outputs": []
    },
    {
      "cell_type": "code",
      "source": [
        "df.head()"
      ],
      "metadata": {
        "colab": {
          "base_uri": "https://localhost:8080/",
          "height": 359
        },
        "id": "1ie0kxPDm8hW",
        "outputId": "7cde2751-077e-4c1b-a224-7c18ff2b104e"
      },
      "execution_count": null,
      "outputs": [
        {
          "output_type": "execute_result",
          "data": {
            "text/plain": [
              "   subject_id  admission_type admit_provider_id      admission_location  \\\n",
              "0    10000032          URGENT            P874LG  TRANSFER FROM HOSPITAL   \n",
              "1    10000068  EU OBSERVATION            P51VDL          EMERGENCY ROOM   \n",
              "2    10000084        EW EMER.            P6957U   WALK-IN/SELF REFERRAL   \n",
              "3    10000108  EU OBSERVATION            P38XXV          EMERGENCY ROOM   \n",
              "4    10000117  EU OBSERVATION            P2358X          EMERGENCY ROOM   \n",
              "\n",
              "  discharge_location insurance language marital_status   race  \\\n",
              "0               HOME     Other  ENGLISH        WIDOWED  WHITE   \n",
              "1                NaN     Other  ENGLISH         SINGLE  WHITE   \n",
              "2   HOME HEALTH CARE  Medicare  ENGLISH        MARRIED  WHITE   \n",
              "3                NaN     Other  ENGLISH         SINGLE  WHITE   \n",
              "4                NaN     Other  ENGLISH       DIVORCED  WHITE   \n",
              "\n",
              "   hospital_expire_flag  ...  drg_code                      medication  \\\n",
              "0                     0  ...     283.0              Potassium Chloride   \n",
              "1                     0  ...       NaN                             NaN   \n",
              "2                     0  ...      42.0                     Pramipexole   \n",
              "3                     0  ...       NaN                             NaN   \n",
              "4                     0  ...     308.0  Influenza Vaccine Quadrivalent   \n",
              "\n",
              "      event_txt                 drug  route  \\\n",
              "0  Administered        Acetaminophen  PO/NG   \n",
              "1           NaN                  NaN    NaN   \n",
              "2  Administered  QUEtiapine Fumarate  PO/NG   \n",
              "3           NaN                  NaN    NaN   \n",
              "4     Hold Dose              Heparin     SC   \n",
              "\n",
              "                               org_name                test_name quantity  \\\n",
              "0                                   NaN  TOXOPLASMA IgG ANTIBODY      NaN   \n",
              "1                                   NaN                      NaN      NaN   \n",
              "2                                   NaN   Blood Culture, Routine      NaN   \n",
              "3  ACTINOBACILLUS ACTINOMYCETEMCOMITANS            WOUND CULTURE      NaN   \n",
              "4                  CAMPYLOBACTER JEJUNI    CAMPYLOBACTER CULTURE      NaN   \n",
              "\n",
              "   ab_name curr_service  \n",
              "0      NaN          MED  \n",
              "1      NaN          MED  \n",
              "2      NaN          MED  \n",
              "3      NaN          MED  \n",
              "4      NaN          MED  \n",
              "\n",
              "[5 rows x 28 columns]"
            ],
            "text/html": [
              "\n",
              "  <div id=\"df-c91bfb3e-2882-40bf-9b4b-6ff2e9330bc2\" class=\"colab-df-container\">\n",
              "    <div>\n",
              "<style scoped>\n",
              "    .dataframe tbody tr th:only-of-type {\n",
              "        vertical-align: middle;\n",
              "    }\n",
              "\n",
              "    .dataframe tbody tr th {\n",
              "        vertical-align: top;\n",
              "    }\n",
              "\n",
              "    .dataframe thead th {\n",
              "        text-align: right;\n",
              "    }\n",
              "</style>\n",
              "<table border=\"1\" class=\"dataframe\">\n",
              "  <thead>\n",
              "    <tr style=\"text-align: right;\">\n",
              "      <th></th>\n",
              "      <th>subject_id</th>\n",
              "      <th>admission_type</th>\n",
              "      <th>admit_provider_id</th>\n",
              "      <th>admission_location</th>\n",
              "      <th>discharge_location</th>\n",
              "      <th>insurance</th>\n",
              "      <th>language</th>\n",
              "      <th>marital_status</th>\n",
              "      <th>race</th>\n",
              "      <th>hospital_expire_flag</th>\n",
              "      <th>...</th>\n",
              "      <th>drg_code</th>\n",
              "      <th>medication</th>\n",
              "      <th>event_txt</th>\n",
              "      <th>drug</th>\n",
              "      <th>route</th>\n",
              "      <th>org_name</th>\n",
              "      <th>test_name</th>\n",
              "      <th>quantity</th>\n",
              "      <th>ab_name</th>\n",
              "      <th>curr_service</th>\n",
              "    </tr>\n",
              "  </thead>\n",
              "  <tbody>\n",
              "    <tr>\n",
              "      <th>0</th>\n",
              "      <td>10000032</td>\n",
              "      <td>URGENT</td>\n",
              "      <td>P874LG</td>\n",
              "      <td>TRANSFER FROM HOSPITAL</td>\n",
              "      <td>HOME</td>\n",
              "      <td>Other</td>\n",
              "      <td>ENGLISH</td>\n",
              "      <td>WIDOWED</td>\n",
              "      <td>WHITE</td>\n",
              "      <td>0</td>\n",
              "      <td>...</td>\n",
              "      <td>283.0</td>\n",
              "      <td>Potassium Chloride</td>\n",
              "      <td>Administered</td>\n",
              "      <td>Acetaminophen</td>\n",
              "      <td>PO/NG</td>\n",
              "      <td>NaN</td>\n",
              "      <td>TOXOPLASMA IgG ANTIBODY</td>\n",
              "      <td>NaN</td>\n",
              "      <td>NaN</td>\n",
              "      <td>MED</td>\n",
              "    </tr>\n",
              "    <tr>\n",
              "      <th>1</th>\n",
              "      <td>10000068</td>\n",
              "      <td>EU OBSERVATION</td>\n",
              "      <td>P51VDL</td>\n",
              "      <td>EMERGENCY ROOM</td>\n",
              "      <td>NaN</td>\n",
              "      <td>Other</td>\n",
              "      <td>ENGLISH</td>\n",
              "      <td>SINGLE</td>\n",
              "      <td>WHITE</td>\n",
              "      <td>0</td>\n",
              "      <td>...</td>\n",
              "      <td>NaN</td>\n",
              "      <td>NaN</td>\n",
              "      <td>NaN</td>\n",
              "      <td>NaN</td>\n",
              "      <td>NaN</td>\n",
              "      <td>NaN</td>\n",
              "      <td>NaN</td>\n",
              "      <td>NaN</td>\n",
              "      <td>NaN</td>\n",
              "      <td>MED</td>\n",
              "    </tr>\n",
              "    <tr>\n",
              "      <th>2</th>\n",
              "      <td>10000084</td>\n",
              "      <td>EW EMER.</td>\n",
              "      <td>P6957U</td>\n",
              "      <td>WALK-IN/SELF REFERRAL</td>\n",
              "      <td>HOME HEALTH CARE</td>\n",
              "      <td>Medicare</td>\n",
              "      <td>ENGLISH</td>\n",
              "      <td>MARRIED</td>\n",
              "      <td>WHITE</td>\n",
              "      <td>0</td>\n",
              "      <td>...</td>\n",
              "      <td>42.0</td>\n",
              "      <td>Pramipexole</td>\n",
              "      <td>Administered</td>\n",
              "      <td>QUEtiapine Fumarate</td>\n",
              "      <td>PO/NG</td>\n",
              "      <td>NaN</td>\n",
              "      <td>Blood Culture, Routine</td>\n",
              "      <td>NaN</td>\n",
              "      <td>NaN</td>\n",
              "      <td>MED</td>\n",
              "    </tr>\n",
              "    <tr>\n",
              "      <th>3</th>\n",
              "      <td>10000108</td>\n",
              "      <td>EU OBSERVATION</td>\n",
              "      <td>P38XXV</td>\n",
              "      <td>EMERGENCY ROOM</td>\n",
              "      <td>NaN</td>\n",
              "      <td>Other</td>\n",
              "      <td>ENGLISH</td>\n",
              "      <td>SINGLE</td>\n",
              "      <td>WHITE</td>\n",
              "      <td>0</td>\n",
              "      <td>...</td>\n",
              "      <td>NaN</td>\n",
              "      <td>NaN</td>\n",
              "      <td>NaN</td>\n",
              "      <td>NaN</td>\n",
              "      <td>NaN</td>\n",
              "      <td>ACTINOBACILLUS ACTINOMYCETEMCOMITANS</td>\n",
              "      <td>WOUND CULTURE</td>\n",
              "      <td>NaN</td>\n",
              "      <td>NaN</td>\n",
              "      <td>MED</td>\n",
              "    </tr>\n",
              "    <tr>\n",
              "      <th>4</th>\n",
              "      <td>10000117</td>\n",
              "      <td>EU OBSERVATION</td>\n",
              "      <td>P2358X</td>\n",
              "      <td>EMERGENCY ROOM</td>\n",
              "      <td>NaN</td>\n",
              "      <td>Other</td>\n",
              "      <td>ENGLISH</td>\n",
              "      <td>DIVORCED</td>\n",
              "      <td>WHITE</td>\n",
              "      <td>0</td>\n",
              "      <td>...</td>\n",
              "      <td>308.0</td>\n",
              "      <td>Influenza Vaccine Quadrivalent</td>\n",
              "      <td>Hold Dose</td>\n",
              "      <td>Heparin</td>\n",
              "      <td>SC</td>\n",
              "      <td>CAMPYLOBACTER JEJUNI</td>\n",
              "      <td>CAMPYLOBACTER CULTURE</td>\n",
              "      <td>NaN</td>\n",
              "      <td>NaN</td>\n",
              "      <td>MED</td>\n",
              "    </tr>\n",
              "  </tbody>\n",
              "</table>\n",
              "<p>5 rows × 28 columns</p>\n",
              "</div>\n",
              "    <div class=\"colab-df-buttons\">\n",
              "\n",
              "  <div class=\"colab-df-container\">\n",
              "    <button class=\"colab-df-convert\" onclick=\"convertToInteractive('df-c91bfb3e-2882-40bf-9b4b-6ff2e9330bc2')\"\n",
              "            title=\"Convert this dataframe to an interactive table.\"\n",
              "            style=\"display:none;\">\n",
              "\n",
              "  <svg xmlns=\"http://www.w3.org/2000/svg\" height=\"24px\" viewBox=\"0 -960 960 960\">\n",
              "    <path d=\"M120-120v-720h720v720H120Zm60-500h600v-160H180v160Zm220 220h160v-160H400v160Zm0 220h160v-160H400v160ZM180-400h160v-160H180v160Zm440 0h160v-160H620v160ZM180-180h160v-160H180v160Zm440 0h160v-160H620v160Z\"/>\n",
              "  </svg>\n",
              "    </button>\n",
              "\n",
              "  <style>\n",
              "    .colab-df-container {\n",
              "      display:flex;\n",
              "      gap: 12px;\n",
              "    }\n",
              "\n",
              "    .colab-df-convert {\n",
              "      background-color: #E8F0FE;\n",
              "      border: none;\n",
              "      border-radius: 50%;\n",
              "      cursor: pointer;\n",
              "      display: none;\n",
              "      fill: #1967D2;\n",
              "      height: 32px;\n",
              "      padding: 0 0 0 0;\n",
              "      width: 32px;\n",
              "    }\n",
              "\n",
              "    .colab-df-convert:hover {\n",
              "      background-color: #E2EBFA;\n",
              "      box-shadow: 0px 1px 2px rgba(60, 64, 67, 0.3), 0px 1px 3px 1px rgba(60, 64, 67, 0.15);\n",
              "      fill: #174EA6;\n",
              "    }\n",
              "\n",
              "    .colab-df-buttons div {\n",
              "      margin-bottom: 4px;\n",
              "    }\n",
              "\n",
              "    [theme=dark] .colab-df-convert {\n",
              "      background-color: #3B4455;\n",
              "      fill: #D2E3FC;\n",
              "    }\n",
              "\n",
              "    [theme=dark] .colab-df-convert:hover {\n",
              "      background-color: #434B5C;\n",
              "      box-shadow: 0px 1px 3px 1px rgba(0, 0, 0, 0.15);\n",
              "      filter: drop-shadow(0px 1px 2px rgba(0, 0, 0, 0.3));\n",
              "      fill: #FFFFFF;\n",
              "    }\n",
              "  </style>\n",
              "\n",
              "    <script>\n",
              "      const buttonEl =\n",
              "        document.querySelector('#df-c91bfb3e-2882-40bf-9b4b-6ff2e9330bc2 button.colab-df-convert');\n",
              "      buttonEl.style.display =\n",
              "        google.colab.kernel.accessAllowed ? 'block' : 'none';\n",
              "\n",
              "      async function convertToInteractive(key) {\n",
              "        const element = document.querySelector('#df-c91bfb3e-2882-40bf-9b4b-6ff2e9330bc2');\n",
              "        const dataTable =\n",
              "          await google.colab.kernel.invokeFunction('convertToInteractive',\n",
              "                                                    [key], {});\n",
              "        if (!dataTable) return;\n",
              "\n",
              "        const docLinkHtml = 'Like what you see? Visit the ' +\n",
              "          '<a target=\"_blank\" href=https://colab.research.google.com/notebooks/data_table.ipynb>data table notebook</a>'\n",
              "          + ' to learn more about interactive tables.';\n",
              "        element.innerHTML = '';\n",
              "        dataTable['output_type'] = 'display_data';\n",
              "        await google.colab.output.renderOutput(dataTable, element);\n",
              "        const docLink = document.createElement('div');\n",
              "        docLink.innerHTML = docLinkHtml;\n",
              "        element.appendChild(docLink);\n",
              "      }\n",
              "    </script>\n",
              "  </div>\n",
              "\n",
              "\n",
              "<div id=\"df-62cd0c6b-f5a9-49d8-b19f-a73cc7cf752d\">\n",
              "  <button class=\"colab-df-quickchart\" onclick=\"quickchart('df-62cd0c6b-f5a9-49d8-b19f-a73cc7cf752d')\"\n",
              "            title=\"Suggest charts\"\n",
              "            style=\"display:none;\">\n",
              "\n",
              "<svg xmlns=\"http://www.w3.org/2000/svg\" height=\"24px\"viewBox=\"0 0 24 24\"\n",
              "     width=\"24px\">\n",
              "    <g>\n",
              "        <path d=\"M19 3H5c-1.1 0-2 .9-2 2v14c0 1.1.9 2 2 2h14c1.1 0 2-.9 2-2V5c0-1.1-.9-2-2-2zM9 17H7v-7h2v7zm4 0h-2V7h2v10zm4 0h-2v-4h2v4z\"/>\n",
              "    </g>\n",
              "</svg>\n",
              "  </button>\n",
              "\n",
              "<style>\n",
              "  .colab-df-quickchart {\n",
              "      --bg-color: #E8F0FE;\n",
              "      --fill-color: #1967D2;\n",
              "      --hover-bg-color: #E2EBFA;\n",
              "      --hover-fill-color: #174EA6;\n",
              "      --disabled-fill-color: #AAA;\n",
              "      --disabled-bg-color: #DDD;\n",
              "  }\n",
              "\n",
              "  [theme=dark] .colab-df-quickchart {\n",
              "      --bg-color: #3B4455;\n",
              "      --fill-color: #D2E3FC;\n",
              "      --hover-bg-color: #434B5C;\n",
              "      --hover-fill-color: #FFFFFF;\n",
              "      --disabled-bg-color: #3B4455;\n",
              "      --disabled-fill-color: #666;\n",
              "  }\n",
              "\n",
              "  .colab-df-quickchart {\n",
              "    background-color: var(--bg-color);\n",
              "    border: none;\n",
              "    border-radius: 50%;\n",
              "    cursor: pointer;\n",
              "    display: none;\n",
              "    fill: var(--fill-color);\n",
              "    height: 32px;\n",
              "    padding: 0;\n",
              "    width: 32px;\n",
              "  }\n",
              "\n",
              "  .colab-df-quickchart:hover {\n",
              "    background-color: var(--hover-bg-color);\n",
              "    box-shadow: 0 1px 2px rgba(60, 64, 67, 0.3), 0 1px 3px 1px rgba(60, 64, 67, 0.15);\n",
              "    fill: var(--button-hover-fill-color);\n",
              "  }\n",
              "\n",
              "  .colab-df-quickchart-complete:disabled,\n",
              "  .colab-df-quickchart-complete:disabled:hover {\n",
              "    background-color: var(--disabled-bg-color);\n",
              "    fill: var(--disabled-fill-color);\n",
              "    box-shadow: none;\n",
              "  }\n",
              "\n",
              "  .colab-df-spinner {\n",
              "    border: 2px solid var(--fill-color);\n",
              "    border-color: transparent;\n",
              "    border-bottom-color: var(--fill-color);\n",
              "    animation:\n",
              "      spin 1s steps(1) infinite;\n",
              "  }\n",
              "\n",
              "  @keyframes spin {\n",
              "    0% {\n",
              "      border-color: transparent;\n",
              "      border-bottom-color: var(--fill-color);\n",
              "      border-left-color: var(--fill-color);\n",
              "    }\n",
              "    20% {\n",
              "      border-color: transparent;\n",
              "      border-left-color: var(--fill-color);\n",
              "      border-top-color: var(--fill-color);\n",
              "    }\n",
              "    30% {\n",
              "      border-color: transparent;\n",
              "      border-left-color: var(--fill-color);\n",
              "      border-top-color: var(--fill-color);\n",
              "      border-right-color: var(--fill-color);\n",
              "    }\n",
              "    40% {\n",
              "      border-color: transparent;\n",
              "      border-right-color: var(--fill-color);\n",
              "      border-top-color: var(--fill-color);\n",
              "    }\n",
              "    60% {\n",
              "      border-color: transparent;\n",
              "      border-right-color: var(--fill-color);\n",
              "    }\n",
              "    80% {\n",
              "      border-color: transparent;\n",
              "      border-right-color: var(--fill-color);\n",
              "      border-bottom-color: var(--fill-color);\n",
              "    }\n",
              "    90% {\n",
              "      border-color: transparent;\n",
              "      border-bottom-color: var(--fill-color);\n",
              "    }\n",
              "  }\n",
              "</style>\n",
              "\n",
              "  <script>\n",
              "    async function quickchart(key) {\n",
              "      const quickchartButtonEl =\n",
              "        document.querySelector('#' + key + ' button');\n",
              "      quickchartButtonEl.disabled = true;  // To prevent multiple clicks.\n",
              "      quickchartButtonEl.classList.add('colab-df-spinner');\n",
              "      try {\n",
              "        const charts = await google.colab.kernel.invokeFunction(\n",
              "            'suggestCharts', [key], {});\n",
              "      } catch (error) {\n",
              "        console.error('Error during call to suggestCharts:', error);\n",
              "      }\n",
              "      quickchartButtonEl.classList.remove('colab-df-spinner');\n",
              "      quickchartButtonEl.classList.add('colab-df-quickchart-complete');\n",
              "    }\n",
              "    (() => {\n",
              "      let quickchartButtonEl =\n",
              "        document.querySelector('#df-62cd0c6b-f5a9-49d8-b19f-a73cc7cf752d button');\n",
              "      quickchartButtonEl.style.display =\n",
              "        google.colab.kernel.accessAllowed ? 'block' : 'none';\n",
              "    })();\n",
              "  </script>\n",
              "</div>\n",
              "\n",
              "    </div>\n",
              "  </div>\n"
            ],
            "application/vnd.google.colaboratory.intrinsic+json": {
              "type": "dataframe",
              "variable_name": "df"
            }
          },
          "metadata": {},
          "execution_count": 4
        }
      ]
    },
    {
      "cell_type": "code",
      "source": [
        "df.columns"
      ],
      "metadata": {
        "colab": {
          "base_uri": "https://localhost:8080/"
        },
        "id": "LCbygE2T6hxU",
        "outputId": "dfecbbd7-7c3d-47f7-f7e1-9c26f699f89b"
      },
      "execution_count": null,
      "outputs": [
        {
          "output_type": "execute_result",
          "data": {
            "text/plain": [
              "Index(['subject_id', 'admission_type', 'admit_provider_id',\n",
              "       'admission_location', 'discharge_location', 'insurance', 'language',\n",
              "       'marital_status', 'race', 'hospital_expire_flag', 'los_admission',\n",
              "       'gender', 'anchor_age', 'eventtype', 'careunit', 'diagnosis_icd_code',\n",
              "       'procedures_icd_code', 'drg_type', 'drg_code', 'medication',\n",
              "       'event_txt', 'drug', 'route', 'org_name', 'test_name', 'quantity',\n",
              "       'ab_name', 'curr_service'],\n",
              "      dtype='object')"
            ]
          },
          "metadata": {},
          "execution_count": 5
        }
      ]
    },
    {
      "cell_type": "code",
      "source": [
        "df.drop(['subject_id', 'admit_provider_id'], axis=1, inplace=True)"
      ],
      "metadata": {
        "id": "oEHlEXB06mGB"
      },
      "execution_count": null,
      "outputs": []
    },
    {
      "cell_type": "code",
      "source": [
        "df.isna().sum()"
      ],
      "metadata": {
        "colab": {
          "base_uri": "https://localhost:8080/",
          "height": 899
        },
        "id": "r3-b2cTE8bIH",
        "outputId": "d767bae6-252a-4402-f273-2d6a75392f3d"
      },
      "execution_count": null,
      "outputs": [
        {
          "output_type": "execute_result",
          "data": {
            "text/plain": [
              "admission_type               0\n",
              "admission_location           0\n",
              "discharge_location       52334\n",
              "insurance                    0\n",
              "language                     0\n",
              "marital_status            7252\n",
              "race                         0\n",
              "hospital_expire_flag         0\n",
              "los_admission                0\n",
              "gender                       0\n",
              "anchor_age                   0\n",
              "eventtype                    0\n",
              "careunit                 54307\n",
              "diagnosis_icd_code          93\n",
              "procedures_icd_code      58820\n",
              "drg_type                 36281\n",
              "drg_code                 36281\n",
              "medication               93202\n",
              "event_txt                78418\n",
              "drug                     22293\n",
              "route                    22335\n",
              "org_name                159380\n",
              "test_name                39525\n",
              "quantity                180677\n",
              "ab_name                 170429\n",
              "curr_service                 0\n",
              "dtype: int64"
            ],
            "text/html": [
              "<table border=\"1\" class=\"dataframe\">\n",
              "  <thead>\n",
              "    <tr style=\"text-align: right;\">\n",
              "      <th></th>\n",
              "      <th>0</th>\n",
              "    </tr>\n",
              "  </thead>\n",
              "  <tbody>\n",
              "    <tr>\n",
              "      <th>admission_type</th>\n",
              "      <td>0</td>\n",
              "    </tr>\n",
              "    <tr>\n",
              "      <th>admission_location</th>\n",
              "      <td>0</td>\n",
              "    </tr>\n",
              "    <tr>\n",
              "      <th>discharge_location</th>\n",
              "      <td>52334</td>\n",
              "    </tr>\n",
              "    <tr>\n",
              "      <th>insurance</th>\n",
              "      <td>0</td>\n",
              "    </tr>\n",
              "    <tr>\n",
              "      <th>language</th>\n",
              "      <td>0</td>\n",
              "    </tr>\n",
              "    <tr>\n",
              "      <th>marital_status</th>\n",
              "      <td>7252</td>\n",
              "    </tr>\n",
              "    <tr>\n",
              "      <th>race</th>\n",
              "      <td>0</td>\n",
              "    </tr>\n",
              "    <tr>\n",
              "      <th>hospital_expire_flag</th>\n",
              "      <td>0</td>\n",
              "    </tr>\n",
              "    <tr>\n",
              "      <th>los_admission</th>\n",
              "      <td>0</td>\n",
              "    </tr>\n",
              "    <tr>\n",
              "      <th>gender</th>\n",
              "      <td>0</td>\n",
              "    </tr>\n",
              "    <tr>\n",
              "      <th>anchor_age</th>\n",
              "      <td>0</td>\n",
              "    </tr>\n",
              "    <tr>\n",
              "      <th>eventtype</th>\n",
              "      <td>0</td>\n",
              "    </tr>\n",
              "    <tr>\n",
              "      <th>careunit</th>\n",
              "      <td>54307</td>\n",
              "    </tr>\n",
              "    <tr>\n",
              "      <th>diagnosis_icd_code</th>\n",
              "      <td>93</td>\n",
              "    </tr>\n",
              "    <tr>\n",
              "      <th>procedures_icd_code</th>\n",
              "      <td>58820</td>\n",
              "    </tr>\n",
              "    <tr>\n",
              "      <th>drg_type</th>\n",
              "      <td>36281</td>\n",
              "    </tr>\n",
              "    <tr>\n",
              "      <th>drg_code</th>\n",
              "      <td>36281</td>\n",
              "    </tr>\n",
              "    <tr>\n",
              "      <th>medication</th>\n",
              "      <td>93202</td>\n",
              "    </tr>\n",
              "    <tr>\n",
              "      <th>event_txt</th>\n",
              "      <td>78418</td>\n",
              "    </tr>\n",
              "    <tr>\n",
              "      <th>drug</th>\n",
              "      <td>22293</td>\n",
              "    </tr>\n",
              "    <tr>\n",
              "      <th>route</th>\n",
              "      <td>22335</td>\n",
              "    </tr>\n",
              "    <tr>\n",
              "      <th>org_name</th>\n",
              "      <td>159380</td>\n",
              "    </tr>\n",
              "    <tr>\n",
              "      <th>test_name</th>\n",
              "      <td>39525</td>\n",
              "    </tr>\n",
              "    <tr>\n",
              "      <th>quantity</th>\n",
              "      <td>180677</td>\n",
              "    </tr>\n",
              "    <tr>\n",
              "      <th>ab_name</th>\n",
              "      <td>170429</td>\n",
              "    </tr>\n",
              "    <tr>\n",
              "      <th>curr_service</th>\n",
              "      <td>0</td>\n",
              "    </tr>\n",
              "  </tbody>\n",
              "</table><br><label><b>dtype:</b> int64</label>"
            ]
          },
          "metadata": {},
          "execution_count": 12
        }
      ]
    },
    {
      "cell_type": "code",
      "source": [
        "df.fillna(0, inplace=True)\n",
        "df.isna().sum()"
      ],
      "metadata": {
        "colab": {
          "base_uri": "https://localhost:8080/",
          "height": 899
        },
        "id": "Jp5FTftU94So",
        "outputId": "a8433b63-fc2d-46d8-bd40-7a6292ffc5a7"
      },
      "execution_count": null,
      "outputs": [
        {
          "output_type": "execute_result",
          "data": {
            "text/plain": [
              "admission_type          0\n",
              "admission_location      0\n",
              "discharge_location      0\n",
              "insurance               0\n",
              "language                0\n",
              "marital_status          0\n",
              "race                    0\n",
              "hospital_expire_flag    0\n",
              "los_admission           0\n",
              "gender                  0\n",
              "anchor_age              0\n",
              "eventtype               0\n",
              "careunit                0\n",
              "diagnosis_icd_code      0\n",
              "procedures_icd_code     0\n",
              "drg_type                0\n",
              "drg_code                0\n",
              "medication              0\n",
              "event_txt               0\n",
              "drug                    0\n",
              "route                   0\n",
              "org_name                0\n",
              "test_name               0\n",
              "quantity                0\n",
              "ab_name                 0\n",
              "curr_service            0\n",
              "dtype: int64"
            ],
            "text/html": [
              "<table border=\"1\" class=\"dataframe\">\n",
              "  <thead>\n",
              "    <tr style=\"text-align: right;\">\n",
              "      <th></th>\n",
              "      <th>0</th>\n",
              "    </tr>\n",
              "  </thead>\n",
              "  <tbody>\n",
              "    <tr>\n",
              "      <th>admission_type</th>\n",
              "      <td>0</td>\n",
              "    </tr>\n",
              "    <tr>\n",
              "      <th>admission_location</th>\n",
              "      <td>0</td>\n",
              "    </tr>\n",
              "    <tr>\n",
              "      <th>discharge_location</th>\n",
              "      <td>0</td>\n",
              "    </tr>\n",
              "    <tr>\n",
              "      <th>insurance</th>\n",
              "      <td>0</td>\n",
              "    </tr>\n",
              "    <tr>\n",
              "      <th>language</th>\n",
              "      <td>0</td>\n",
              "    </tr>\n",
              "    <tr>\n",
              "      <th>marital_status</th>\n",
              "      <td>0</td>\n",
              "    </tr>\n",
              "    <tr>\n",
              "      <th>race</th>\n",
              "      <td>0</td>\n",
              "    </tr>\n",
              "    <tr>\n",
              "      <th>hospital_expire_flag</th>\n",
              "      <td>0</td>\n",
              "    </tr>\n",
              "    <tr>\n",
              "      <th>los_admission</th>\n",
              "      <td>0</td>\n",
              "    </tr>\n",
              "    <tr>\n",
              "      <th>gender</th>\n",
              "      <td>0</td>\n",
              "    </tr>\n",
              "    <tr>\n",
              "      <th>anchor_age</th>\n",
              "      <td>0</td>\n",
              "    </tr>\n",
              "    <tr>\n",
              "      <th>eventtype</th>\n",
              "      <td>0</td>\n",
              "    </tr>\n",
              "    <tr>\n",
              "      <th>careunit</th>\n",
              "      <td>0</td>\n",
              "    </tr>\n",
              "    <tr>\n",
              "      <th>diagnosis_icd_code</th>\n",
              "      <td>0</td>\n",
              "    </tr>\n",
              "    <tr>\n",
              "      <th>procedures_icd_code</th>\n",
              "      <td>0</td>\n",
              "    </tr>\n",
              "    <tr>\n",
              "      <th>drg_type</th>\n",
              "      <td>0</td>\n",
              "    </tr>\n",
              "    <tr>\n",
              "      <th>drg_code</th>\n",
              "      <td>0</td>\n",
              "    </tr>\n",
              "    <tr>\n",
              "      <th>medication</th>\n",
              "      <td>0</td>\n",
              "    </tr>\n",
              "    <tr>\n",
              "      <th>event_txt</th>\n",
              "      <td>0</td>\n",
              "    </tr>\n",
              "    <tr>\n",
              "      <th>drug</th>\n",
              "      <td>0</td>\n",
              "    </tr>\n",
              "    <tr>\n",
              "      <th>route</th>\n",
              "      <td>0</td>\n",
              "    </tr>\n",
              "    <tr>\n",
              "      <th>org_name</th>\n",
              "      <td>0</td>\n",
              "    </tr>\n",
              "    <tr>\n",
              "      <th>test_name</th>\n",
              "      <td>0</td>\n",
              "    </tr>\n",
              "    <tr>\n",
              "      <th>quantity</th>\n",
              "      <td>0</td>\n",
              "    </tr>\n",
              "    <tr>\n",
              "      <th>ab_name</th>\n",
              "      <td>0</td>\n",
              "    </tr>\n",
              "    <tr>\n",
              "      <th>curr_service</th>\n",
              "      <td>0</td>\n",
              "    </tr>\n",
              "  </tbody>\n",
              "</table><br><label><b>dtype:</b> int64</label>"
            ]
          },
          "metadata": {},
          "execution_count": 15
        }
      ]
    },
    {
      "cell_type": "code",
      "source": [
        "df.drg_type.value_counts()"
      ],
      "metadata": {
        "colab": {
          "base_uri": "https://localhost:8080/",
          "height": 209
        },
        "id": "bz_LAj_n8Bn1",
        "outputId": "b80aa0f0-9f9d-4805-b45b-294327ac1707"
      },
      "execution_count": null,
      "outputs": [
        {
          "output_type": "execute_result",
          "data": {
            "text/plain": [
              "drg_type\n",
              "APR     137699\n",
              "0        36281\n",
              "HCFA      6697\n",
              "Name: count, dtype: int64"
            ],
            "text/html": [
              "<table border=\"1\" class=\"dataframe\">\n",
              "  <thead>\n",
              "    <tr style=\"text-align: right;\">\n",
              "      <th></th>\n",
              "      <th>count</th>\n",
              "    </tr>\n",
              "    <tr>\n",
              "      <th>drg_type</th>\n",
              "      <th></th>\n",
              "    </tr>\n",
              "  </thead>\n",
              "  <tbody>\n",
              "    <tr>\n",
              "      <th>APR</th>\n",
              "      <td>137699</td>\n",
              "    </tr>\n",
              "    <tr>\n",
              "      <th>0</th>\n",
              "      <td>36281</td>\n",
              "    </tr>\n",
              "    <tr>\n",
              "      <th>HCFA</th>\n",
              "      <td>6697</td>\n",
              "    </tr>\n",
              "  </tbody>\n",
              "</table><br><label><b>dtype:</b> int64</label>"
            ]
          },
          "metadata": {},
          "execution_count": 16
        }
      ]
    },
    {
      "cell_type": "markdown",
      "source": [
        "\n",
        "### 1. Distribution of Length of Stay (los_admission)"
      ],
      "metadata": {
        "id": "fO_496PA9GSU"
      }
    },
    {
      "cell_type": "code",
      "source": [
        "\n",
        "sns.set(style=\"whitegrid\")\n",
        "\n",
        "plt.figure(figsize=(10, 6))\n",
        "sns.histplot(df['los_admission'], bins=50, kde=True)\n",
        "plt.title('Distribution of Length of Stay (los_admission)')\n",
        "plt.xlabel('Length of Stay (days)')\n",
        "plt.ylabel('Frequency')\n",
        "plt.show()\n"
      ],
      "metadata": {
        "colab": {
          "base_uri": "https://localhost:8080/",
          "height": 573
        },
        "id": "Kh2FfLDD8f06",
        "outputId": "26722dc5-c87a-45ad-8689-5b4c367b2f61"
      },
      "execution_count": null,
      "outputs": [
        {
          "output_type": "display_data",
          "data": {
            "text/plain": [
              "<Figure size 1000x600 with 1 Axes>"
            ],
            "image/png": "[encoded data removed]"
          },
          "metadata": {}
        }
      ]
    },
    {
      "cell_type": "markdown",
      "source": [
        "The histogram shows the distribution of length of stay in the hospital, with most stays being relatively short."
      ],
      "metadata": {
        "id": "j_fcge2Q9Y81"
      }
    },
    {
      "cell_type": "markdown",
      "source": [
        "### 2. Length of Stay by Gender"
      ],
      "metadata": {
        "id": "z3ukOGaB9ACg"
      }
    },
    {
      "cell_type": "code",
      "source": [
        "plt.figure(figsize=(10, 6))\n",
        "sns.boxplot(x='gender', y='los_admission', data=df)\n",
        "plt.title('Length of Stay by Gender')\n",
        "plt.xlabel('Gender')\n",
        "plt.ylabel('Length of Stay (days)')\n",
        "plt.show()\n"
      ],
      "metadata": {
        "colab": {
          "base_uri": "https://localhost:8080/",
          "height": 573
        },
        "id": "QLHUR5AR80i4",
        "outputId": "2fc9181b-34c7-4dc4-e316-c56db5dea3e1"
      },
      "execution_count": null,
      "outputs": [
        {
          "output_type": "display_data",
          "data": {
            "text/plain": [
              "<Figure size 1000x600 with 1 Axes>"
            ],
            "image/png": "[encoded data removed]"
          },
          "metadata": {}
        }
      ]
    },
    {
      "cell_type": "code",
      "source": [
        "gender_los = df.groupby('gender')['los_admission'].mean()\n",
        "\n",
        "plt.figure(figsize=(8, 6))\n",
        "gender_los.plot(kind='bar', color = 'g', edgecolor = 'b')\n",
        "plt.title('Mean Length of Stay by Gender')\n",
        "plt.xlabel('Gender')\n",
        "plt.ylabel('Mean Length of Stay (days)')\n",
        "plt.xticks(rotation=0)\n",
        "plt.show()"
      ],
      "metadata": {
        "colab": {
          "base_uri": "https://localhost:8080/",
          "height": 573
        },
        "id": "xnX6y27BAVbN",
        "outputId": "e154422f-c232-443a-d819-30ec026c3ec4"
      },
      "execution_count": null,
      "outputs": [
        {
          "output_type": "display_data",
          "data": {
            "text/plain": [
              "<Figure size 800x600 with 1 Axes>"
            ],
            "image/png": "[encoded data removed]"
          },
          "metadata": {}
        }
      ]
    },
    {
      "cell_type": "markdown",
      "source": [
        "### 3. Length of Stay by Admission Type"
      ],
      "metadata": {
        "id": "jDEKiW2089n-"
      }
    },
    {
      "cell_type": "code",
      "source": [
        "plt.figure(figsize=(14, 6))\n",
        "sns.boxplot(x='admission_type', y='los_admission', data=df)\n",
        "plt.title('Length of Stay by Admission Type')\n",
        "plt.xlabel('Admission Type')\n",
        "plt.ylabel('Length of Stay (days)')\n",
        "plt.xticks(rotation=45)\n",
        "plt.show()\n",
        "\n"
      ],
      "metadata": {
        "colab": {
          "base_uri": "https://localhost:8080/",
          "height": 747
        },
        "id": "rfvhqwXH82W7",
        "outputId": "9ae6fbe4-8f14-44d9-8c5c-cf9db1d5f0d8"
      },
      "execution_count": null,
      "outputs": [
        {
          "output_type": "display_data",
          "data": {
            "text/plain": [
              "<Figure size 1400x600 with 1 Axes>"
            ],
            "image/png": "[encoded data removed]"
          },
          "metadata": {}
        }
      ]
    },
    {
      "cell_type": "markdown",
      "source": [
        "\n",
        "### 4. Length of Stay by Insurance Type"
      ],
      "metadata": {
        "id": "eBLBUbxl86_9"
      }
    },
    {
      "cell_type": "code",
      "source": [
        "\n",
        "plt.figure(figsize=(14, 6))\n",
        "sns.boxplot(x='insurance', y='los_admission', data=df)\n",
        "plt.title('Length of Stay by Insurance Type')\n",
        "plt.xlabel('Insurance Type')\n",
        "plt.ylabel('Length of Stay (days)')\n",
        "plt.xticks(rotation=45)\n",
        "plt.show()\n"
      ],
      "metadata": {
        "colab": {
          "base_uri": "https://localhost:8080/",
          "height": 618
        },
        "id": "KZpUt4Zo84lw",
        "outputId": "9807e4e0-0a52-4d5a-f47d-da990ad5a311"
      },
      "execution_count": null,
      "outputs": [
        {
          "output_type": "display_data",
          "data": {
            "text/plain": [
              "<Figure size 1400x600 with 1 Axes>"
            ],
            "image/png": "[encoded data removed]"
          },
          "metadata": {}
        }
      ]
    },
    {
      "cell_type": "markdown",
      "source": [
        "###Signicance of gender on LOS"
      ],
      "metadata": {
        "id": "G7F0IITKBPs4"
      }
    },
    {
      "cell_type": "markdown",
      "source": [
        "Null Hypothesis : There is no significant difference in the length of stay (los_admission) between male and female patients.\n",
        "\n",
        "Alternative Hypothesis : There is a significant difference in the length of stay (los_admission) between male and female patients."
      ],
      "metadata": {
        "id": "ELfnOdMDCwRH"
      }
    },
    {
      "cell_type": "code",
      "source": [
        "from scipy.stats import shapiro, levene, mannwhitneyu, ttest_ind"
      ],
      "metadata": {
        "id": "zFM6pPjrCvrZ"
      },
      "execution_count": null,
      "outputs": []
    },
    {
      "cell_type": "markdown",
      "source": [
        "** Descriptive Statistics**\n",
        "\n",
        "Purpose: To get a basic understanding of the data by summarizing key statistics\n",
        "like the mean, standard deviation, and percentiles for the length of stay (los_admission) for each gender."
      ],
      "metadata": {
        "id": "0m0az3u1Gkpk"
      }
    },
    {
      "cell_type": "code",
      "source": [
        "descriptive_stats = df.groupby('gender')['los_admission'].describe()\n",
        "descriptive_stats"
      ],
      "metadata": {
        "colab": {
          "base_uri": "https://localhost:8080/",
          "height": 143
        },
        "id": "WU_AhQvTDVbF",
        "outputId": "345fce3b-9b89-4247-b3c5-743583f70d70"
      },
      "execution_count": null,
      "outputs": [
        {
          "output_type": "execute_result",
          "data": {
            "text/plain": [
              "          count      mean       std       min       25%       50%       75%  \\\n",
              "gender                                                                        \n",
              "F       95698.0  3.983757  5.660249  0.000694  1.019444  2.579167  4.697917   \n",
              "M       84979.0  4.463552  6.746112  0.000694  0.945139  2.536806  5.382292   \n",
              "\n",
              "               max  \n",
              "gender              \n",
              "F       249.585417  \n",
              "M       248.448611  "
            ],
            "text/html": [
              "\n",
              "  <div id=\"df-903964af-4c3f-4095-86a0-ba9e824cb23f\" class=\"colab-df-container\">\n",
              "    <div>\n",
              "<style scoped>\n",
              "    .dataframe tbody tr th:only-of-type {\n",
              "        vertical-align: middle;\n",
              "    }\n",
              "\n",
              "    .dataframe tbody tr th {\n",
              "        vertical-align: top;\n",
              "    }\n",
              "\n",
              "    .dataframe thead th {\n",
              "        text-align: right;\n",
              "    }\n",
              "</style>\n",
              "<table border=\"1\" class=\"dataframe\">\n",
              "  <thead>\n",
              "    <tr style=\"text-align: right;\">\n",
              "      <th></th>\n",
              "      <th>count</th>\n",
              "      <th>mean</th>\n",
              "      <th>std</th>\n",
              "      <th>min</th>\n",
              "      <th>25%</th>\n",
              "      <th>50%</th>\n",
              "      <th>75%</th>\n",
              "      <th>max</th>\n",
              "    </tr>\n",
              "    <tr>\n",
              "      <th>gender</th>\n",
              "      <th></th>\n",
              "      <th></th>\n",
              "      <th></th>\n",
              "      <th></th>\n",
              "      <th></th>\n",
              "      <th></th>\n",
              "      <th></th>\n",
              "      <th></th>\n",
              "    </tr>\n",
              "  </thead>\n",
              "  <tbody>\n",
              "    <tr>\n",
              "      <th>F</th>\n",
              "      <td>95698.0</td>\n",
              "      <td>3.983757</td>\n",
              "      <td>5.660249</td>\n",
              "      <td>0.000694</td>\n",
              "      <td>1.019444</td>\n",
              "      <td>2.579167</td>\n",
              "      <td>4.697917</td>\n",
              "      <td>249.585417</td>\n",
              "    </tr>\n",
              "    <tr>\n",
              "      <th>M</th>\n",
              "      <td>84979.0</td>\n",
              "      <td>4.463552</td>\n",
              "      <td>6.746112</td>\n",
              "      <td>0.000694</td>\n",
              "      <td>0.945139</td>\n",
              "      <td>2.536806</td>\n",
              "      <td>5.382292</td>\n",
              "      <td>248.448611</td>\n",
              "    </tr>\n",
              "  </tbody>\n",
              "</table>\n",
              "</div>\n",
              "    <div class=\"colab-df-buttons\">\n",
              "\n",
              "  <div class=\"colab-df-container\">\n",
              "    <button class=\"colab-df-convert\" onclick=\"convertToInteractive('df-903964af-4c3f-4095-86a0-ba9e824cb23f')\"\n",
              "            title=\"Convert this dataframe to an interactive table.\"\n",
              "            style=\"display:none;\">\n",
              "\n",
              "  <svg xmlns=\"http://www.w3.org/2000/svg\" height=\"24px\" viewBox=\"0 -960 960 960\">\n",
              "    <path d=\"M120-120v-720h720v720H120Zm60-500h600v-160H180v160Zm220 220h160v-160H400v160Zm0 220h160v-160H400v160ZM180-400h160v-160H180v160Zm440 0h160v-160H620v160ZM180-180h160v-160H180v160Zm440 0h160v-160H620v160Z\"/>\n",
              "  </svg>\n",
              "    </button>\n",
              "\n",
              "  <style>\n",
              "    .colab-df-container {\n",
              "      display:flex;\n",
              "      gap: 12px;\n",
              "    }\n",
              "\n",
              "    .colab-df-convert {\n",
              "      background-color: #E8F0FE;\n",
              "      border: none;\n",
              "      border-radius: 50%;\n",
              "      cursor: pointer;\n",
              "      display: none;\n",
              "      fill: #1967D2;\n",
              "      height: 32px;\n",
              "      padding: 0 0 0 0;\n",
              "      width: 32px;\n",
              "    }\n",
              "\n",
              "    .colab-df-convert:hover {\n",
              "      background-color: #E2EBFA;\n",
              "      box-shadow: 0px 1px 2px rgba(60, 64, 67, 0.3), 0px 1px 3px 1px rgba(60, 64, 67, 0.15);\n",
              "      fill: #174EA6;\n",
              "    }\n",
              "\n",
              "    .colab-df-buttons div {\n",
              "      margin-bottom: 4px;\n",
              "    }\n",
              "\n",
              "    [theme=dark] .colab-df-convert {\n",
              "      background-color: #3B4455;\n",
              "      fill: #D2E3FC;\n",
              "    }\n",
              "\n",
              "    [theme=dark] .colab-df-convert:hover {\n",
              "      background-color: #434B5C;\n",
              "      box-shadow: 0px 1px 3px 1px rgba(0, 0, 0, 0.15);\n",
              "      filter: drop-shadow(0px 1px 2px rgba(0, 0, 0, 0.3));\n",
              "      fill: #FFFFFF;\n",
              "    }\n",
              "  </style>\n",
              "\n",
              "    <script>\n",
              "      const buttonEl =\n",
              "        document.querySelector('#df-903964af-4c3f-4095-86a0-ba9e824cb23f button.colab-df-convert');\n",
              "      buttonEl.style.display =\n",
              "        google.colab.kernel.accessAllowed ? 'block' : 'none';\n",
              "\n",
              "      async function convertToInteractive(key) {\n",
              "        const element = document.querySelector('#df-903964af-4c3f-4095-86a0-ba9e824cb23f');\n",
              "        const dataTable =\n",
              "          await google.colab.kernel.invokeFunction('convertToInteractive',\n",
              "                                                    [key], {});\n",
              "        if (!dataTable) return;\n",
              "\n",
              "        const docLinkHtml = 'Like what you see? Visit the ' +\n",
              "          '<a target=\"_blank\" href=https://colab.research.google.com/notebooks/data_table.ipynb>data table notebook</a>'\n",
              "          + ' to learn more about interactive tables.';\n",
              "        element.innerHTML = '';\n",
              "        dataTable['output_type'] = 'display_data';\n",
              "        await google.colab.output.renderOutput(dataTable, element);\n",
              "        const docLink = document.createElement('div');\n",
              "        docLink.innerHTML = docLinkHtml;\n",
              "        element.appendChild(docLink);\n",
              "      }\n",
              "    </script>\n",
              "  </div>\n",
              "\n",
              "\n",
              "<div id=\"df-56c64264-e26f-497c-87f9-e417b50c9e11\">\n",
              "  <button class=\"colab-df-quickchart\" onclick=\"quickchart('df-56c64264-e26f-497c-87f9-e417b50c9e11')\"\n",
              "            title=\"Suggest charts\"\n",
              "            style=\"display:none;\">\n",
              "\n",
              "<svg xmlns=\"http://www.w3.org/2000/svg\" height=\"24px\"viewBox=\"0 0 24 24\"\n",
              "     width=\"24px\">\n",
              "    <g>\n",
              "        <path d=\"M19 3H5c-1.1 0-2 .9-2 2v14c0 1.1.9 2 2 2h14c1.1 0 2-.9 2-2V5c0-1.1-.9-2-2-2zM9 17H7v-7h2v7zm4 0h-2V7h2v10zm4 0h-2v-4h2v4z\"/>\n",
              "    </g>\n",
              "</svg>\n",
              "  </button>\n",
              "\n",
              "<style>\n",
              "  .colab-df-quickchart {\n",
              "      --bg-color: #E8F0FE;\n",
              "      --fill-color: #1967D2;\n",
              "      --hover-bg-color: #E2EBFA;\n",
              "      --hover-fill-color: #174EA6;\n",
              "      --disabled-fill-color: #AAA;\n",
              "      --disabled-bg-color: #DDD;\n",
              "  }\n",
              "\n",
              "  [theme=dark] .colab-df-quickchart {\n",
              "      --bg-color: #3B4455;\n",
              "      --fill-color: #D2E3FC;\n",
              "      --hover-bg-color: #434B5C;\n",
              "      --hover-fill-color: #FFFFFF;\n",
              "      --disabled-bg-color: #3B4455;\n",
              "      --disabled-fill-color: #666;\n",
              "  }\n",
              "\n",
              "  .colab-df-quickchart {\n",
              "    background-color: var(--bg-color);\n",
              "    border: none;\n",
              "    border-radius: 50%;\n",
              "    cursor: pointer;\n",
              "    display: none;\n",
              "    fill: var(--fill-color);\n",
              "    height: 32px;\n",
              "    padding: 0;\n",
              "    width: 32px;\n",
              "  }\n",
              "\n",
              "  .colab-df-quickchart:hover {\n",
              "    background-color: var(--hover-bg-color);\n",
              "    box-shadow: 0 1px 2px rgba(60, 64, 67, 0.3), 0 1px 3px 1px rgba(60, 64, 67, 0.15);\n",
              "    fill: var(--button-hover-fill-color);\n",
              "  }\n",
              "\n",
              "  .colab-df-quickchart-complete:disabled,\n",
              "  .colab-df-quickchart-complete:disabled:hover {\n",
              "    background-color: var(--disabled-bg-color);\n",
              "    fill: var(--disabled-fill-color);\n",
              "    box-shadow: none;\n",
              "  }\n",
              "\n",
              "  .colab-df-spinner {\n",
              "    border: 2px solid var(--fill-color);\n",
              "    border-color: transparent;\n",
              "    border-bottom-color: var(--fill-color);\n",
              "    animation:\n",
              "      spin 1s steps(1) infinite;\n",
              "  }\n",
              "\n",
              "  @keyframes spin {\n",
              "    0% {\n",
              "      border-color: transparent;\n",
              "      border-bottom-color: var(--fill-color);\n",
              "      border-left-color: var(--fill-color);\n",
              "    }\n",
              "    20% {\n",
              "      border-color: transparent;\n",
              "      border-left-color: var(--fill-color);\n",
              "      border-top-color: var(--fill-color);\n",
              "    }\n",
              "    30% {\n",
              "      border-color: transparent;\n",
              "      border-left-color: var(--fill-color);\n",
              "      border-top-color: var(--fill-color);\n",
              "      border-right-color: var(--fill-color);\n",
              "    }\n",
              "    40% {\n",
              "      border-color: transparent;\n",
              "      border-right-color: var(--fill-color);\n",
              "      border-top-color: var(--fill-color);\n",
              "    }\n",
              "    60% {\n",
              "      border-color: transparent;\n",
              "      border-right-color: var(--fill-color);\n",
              "    }\n",
              "    80% {\n",
              "      border-color: transparent;\n",
              "      border-right-color: var(--fill-color);\n",
              "      border-bottom-color: var(--fill-color);\n",
              "    }\n",
              "    90% {\n",
              "      border-color: transparent;\n",
              "      border-bottom-color: var(--fill-color);\n",
              "    }\n",
              "  }\n",
              "</style>\n",
              "\n",
              "  <script>\n",
              "    async function quickchart(key) {\n",
              "      const quickchartButtonEl =\n",
              "        document.querySelector('#' + key + ' button');\n",
              "      quickchartButtonEl.disabled = true;  // To prevent multiple clicks.\n",
              "      quickchartButtonEl.classList.add('colab-df-spinner');\n",
              "      try {\n",
              "        const charts = await google.colab.kernel.invokeFunction(\n",
              "            'suggestCharts', [key], {});\n",
              "      } catch (error) {\n",
              "        console.error('Error during call to suggestCharts:', error);\n",
              "      }\n",
              "      quickchartButtonEl.classList.remove('colab-df-spinner');\n",
              "      quickchartButtonEl.classList.add('colab-df-quickchart-complete');\n",
              "    }\n",
              "    (() => {\n",
              "      let quickchartButtonEl =\n",
              "        document.querySelector('#df-56c64264-e26f-497c-87f9-e417b50c9e11 button');\n",
              "      quickchartButtonEl.style.display =\n",
              "        google.colab.kernel.accessAllowed ? 'block' : 'none';\n",
              "    })();\n",
              "  </script>\n",
              "</div>\n",
              "\n",
              "  <div id=\"id_53dbbab4-c34e-4800-a523-8fab33fba7d4\">\n",
              "    <style>\n",
              "      .colab-df-generate {\n",
              "        background-color: #E8F0FE;\n",
              "        border: none;\n",
              "        border-radius: 50%;\n",
              "        cursor: pointer;\n",
              "        display: none;\n",
              "        fill: #1967D2;\n",
              "        height: 32px;\n",
              "        padding: 0 0 0 0;\n",
              "        width: 32px;\n",
              "      }\n",
              "\n",
              "      .colab-df-generate:hover {\n",
              "        background-color: #E2EBFA;\n",
              "        box-shadow: 0px 1px 2px rgba(60, 64, 67, 0.3), 0px 1px 3px 1px rgba(60, 64, 67, 0.15);\n",
              "        fill: #174EA6;\n",
              "      }\n",
              "\n",
              "      [theme=dark] .colab-df-generate {\n",
              "        background-color: #3B4455;\n",
              "        fill: #D2E3FC;\n",
              "      }\n",
              "\n",
              "      [theme=dark] .colab-df-generate:hover {\n",
              "        background-color: #434B5C;\n",
              "        box-shadow: 0px 1px 3px 1px rgba(0, 0, 0, 0.15);\n",
              "        filter: drop-shadow(0px 1px 2px rgba(0, 0, 0, 0.3));\n",
              "        fill: #FFFFFF;\n",
              "      }\n",
              "    </style>\n",
              "    <button class=\"colab-df-generate\" onclick=\"generateWithVariable('descriptive_stats')\"\n",
              "            title=\"Generate code using this dataframe.\"\n",
              "            style=\"display:none;\">\n",
              "\n",
              "  <svg xmlns=\"http://www.w3.org/2000/svg\" height=\"24px\"viewBox=\"0 0 24 24\"\n",
              "       width=\"24px\">\n",
              "    <path d=\"M7,19H8.4L18.45,9,17,7.55,7,17.6ZM5,21V16.75L18.45,3.32a2,2,0,0,1,2.83,0l1.4,1.43a1.91,1.91,0,0,1,.58,1.4,1.91,1.91,0,0,1-.58,1.4L9.25,21ZM18.45,9,17,7.55Zm-12,3A5.31,5.31,0,0,0,4.9,8.1,5.31,5.31,0,0,0,1,6.5,5.31,5.31,0,0,0,4.9,4.9,5.31,5.31,0,0,0,6.5,1,5.31,5.31,0,0,0,8.1,4.9,5.31,5.31,0,0,0,12,6.5,5.46,5.46,0,0,0,6.5,12Z\"/>\n",
              "  </svg>\n",
              "    </button>\n",
              "    <script>\n",
              "      (() => {\n",
              "      const buttonEl =\n",
              "        document.querySelector('#id_53dbbab4-c34e-4800-a523-8fab33fba7d4 button.colab-df-generate');\n",
              "      buttonEl.style.display =\n",
              "        google.colab.kernel.accessAllowed ? 'block' : 'none';\n",
              "\n",
              "      buttonEl.onclick = () => {\n",
              "        google.colab.notebook.generateWithVariable('descriptive_stats');\n",
              "      }\n",
              "      })();\n",
              "    </script>\n",
              "  </div>\n",
              "\n",
              "    </div>\n",
              "  </div>\n"
            ],
            "application/vnd.google.colaboratory.intrinsic+json": {
              "type": "dataframe",
              "variable_name": "descriptive_stats",
              "summary": "{\n  \"name\": \"descriptive_stats\",\n  \"rows\": 2,\n  \"fields\": [\n    {\n      \"column\": \"gender\",\n      \"properties\": {\n        \"dtype\": \"string\",\n        \"num_unique_values\": 2,\n        \"samples\": [\n          \"M\",\n          \"F\"\n        ],\n        \"semantic_type\": \"\",\n        \"description\": \"\"\n      }\n    },\n    {\n      \"column\": \"count\",\n      \"properties\": {\n        \"dtype\": \"number\",\n        \"std\": 7579.477587538603,\n        \"min\": 84979.0,\n        \"max\": 95698.0,\n        \"num_unique_values\": 2,\n        \"samples\": [\n          84979.0,\n          95698.0\n        ],\n        \"semantic_type\": \"\",\n        \"description\": \"\"\n      }\n    },\n    {\n      \"column\": \"mean\",\n      \"properties\": {\n        \"dtype\": \"number\",\n        \"std\": 0.33926633126850053,\n        \"min\": 3.983757083916767,\n        \"max\": 4.463552130853244,\n        \"num_unique_values\": 2,\n        \"samples\": [\n          4.463552130853244,\n          3.983757083916767\n        ],\n        \"semantic_type\": \"\",\n        \"description\": \"\"\n      }\n    },\n    {\n      \"column\": \"std\",\n      \"properties\": {\n        \"dtype\": \"number\",\n        \"std\": 0.7678215315305867,\n        \"min\": 5.66024885847946,\n        \"max\": 6.746112481852097,\n        \"num_unique_values\": 2,\n        \"samples\": [\n          6.746112481852097,\n          5.66024885847946\n        ],\n        \"semantic_type\": \"\",\n        \"description\": \"\"\n      }\n    },\n    {\n      \"column\": \"min\",\n      \"properties\": {\n        \"dtype\": \"number\",\n        \"std\": 0.0,\n        \"min\": 0.0006944444444444,\n        \"max\": 0.0006944444444444,\n        \"num_unique_values\": 1,\n        \"samples\": [\n          0.0006944444444444\n        ],\n        \"semantic_type\": \"\",\n        \"description\": \"\"\n      }\n    },\n    {\n      \"column\": \"25%\",\n      \"properties\": {\n        \"dtype\": \"number\",\n        \"std\": 0.05254196221316712,\n        \"min\": 0.9451388888888888,\n        \"max\": 1.0194444444444444,\n        \"num_unique_values\": 2,\n        \"samples\": [\n          0.9451388888888888\n        ],\n        \"semantic_type\": \"\",\n        \"description\": \"\"\n      }\n    },\n    {\n      \"column\": \"50%\",\n      \"properties\": {\n        \"dtype\": \"number\",\n        \"std\": 0.029953828925263444,\n        \"min\": 2.5368055555555555,\n        \"max\": 2.5791666666666666,\n        \"num_unique_values\": 2,\n        \"samples\": [\n          2.5368055555555555\n        ],\n        \"semantic_type\": \"\",\n        \"description\": \"\"\n      }\n    },\n    {\n      \"column\": \"75%\",\n      \"properties\": {\n        \"dtype\": \"number\",\n        \"std\": 0.48392620337454356,\n        \"min\": 4.697916666666667,\n        \"max\": 5.382291666666667,\n        \"num_unique_values\": 2,\n        \"samples\": [\n          5.382291666666667\n        ],\n        \"semantic_type\": \"\",\n        \"description\": \"\"\n      }\n    },\n    {\n      \"column\": \"max\",\n      \"properties\": {\n        \"dtype\": \"number\",\n        \"std\": 0.8038429172238729,\n        \"min\": 248.44861111111112,\n        \"max\": 249.58541666666667,\n        \"num_unique_values\": 2,\n        \"samples\": [\n          248.44861111111112\n        ],\n        \"semantic_type\": \"\",\n        \"description\": \"\"\n      }\n    }\n  ]\n}"
            }
          },
          "metadata": {},
          "execution_count": 34
        }
      ]
    },
    {
      "cell_type": "markdown",
      "source": [
        "The average length of stay is slightly higher for males (4.46 days) compared to females (3.98 days)."
      ],
      "metadata": {
        "id": "pL9hXodmF4Lk"
      }
    },
    {
      "cell_type": "markdown",
      "source": [
        "**Shapiro-Wilk Test**\n",
        "\n",
        "Purpose: To check if the length of stay data for each gender follows a normal distribution."
      ],
      "metadata": {
        "id": "ayHhYAUBDcie"
      }
    },
    {
      "cell_type": "code",
      "source": [
        "shapiro_male = shapiro(df[df['gender'] == 'M']['los_admission'])\n",
        "shapiro_female = shapiro(df[df['gender'] == 'F']['los_admission'])\n",
        "print ('The normality test for males', shapiro_male)\n",
        "print ('The normality test for females', shapiro_female)"
      ],
      "metadata": {
        "colab": {
          "base_uri": "https://localhost:8080/"
        },
        "id": "-cQO_Zx6DcIv",
        "outputId": "870a0570-8c48-40e8-85d4-5cbedcff7962"
      },
      "execution_count": null,
      "outputs": [
        {
          "output_type": "stream",
          "name": "stdout",
          "text": [
            "The normality test for males ShapiroResult(statistic=0.5440397186033434, pvalue=1.8001719775007464e-153)\n",
            "The normality test for females ShapiroResult(statistic=0.5448289173137745, pvalue=1.3490704629493107e-156)\n"
          ]
        },
        {
          "output_type": "stream",
          "name": "stderr",
          "text": [
            "/usr/local/lib/python3.10/dist-packages/scipy/stats/_axis_nan_policy.py:531: UserWarning: scipy.stats.shapiro: For N > 5000, computed p-value may not be accurate. Current N is 84979.\n",
            "  res = hypotest_fun_out(*samples, **kwds)\n",
            "/usr/local/lib/python3.10/dist-packages/scipy/stats/_axis_nan_policy.py:531: UserWarning: scipy.stats.shapiro: For N > 5000, computed p-value may not be accurate. Current N is 95698.\n",
            "  res = hypotest_fun_out(*samples, **kwds)\n"
          ]
        }
      ]
    },
    {
      "cell_type": "markdown",
      "source": [
        "Since the p-values are very small (less than 0.05), suggesting a deviation from normality, we conclude that the data for both genders is not normally distributed."
      ],
      "metadata": {
        "id": "tofXsa-vE83f"
      }
    },
    {
      "cell_type": "markdown",
      "source": [
        "**Levene's Test**- Variance Homogeneity Test\n",
        "\n",
        "Purpose: To check if the spread (variance) of the length of stay is the same for both genders.\n"
      ],
      "metadata": {
        "id": "Xyn3XHhzHRzK"
      }
    },
    {
      "cell_type": "code",
      "source": [
        "levene_test = levene(df[df['gender'] == 'M']['los_admission'],\n",
        "                     df[df['gender'] == 'F']['los_admission'])\n",
        "levene_test"
      ],
      "metadata": {
        "colab": {
          "base_uri": "https://localhost:8080/"
        },
        "id": "GU3YuwoSHecP",
        "outputId": "49e17c47-0365-4452-9b17-b991b0b23c25"
      },
      "execution_count": null,
      "outputs": [
        {
          "output_type": "execute_result",
          "data": {
            "text/plain": [
              "LeveneResult(statistic=472.43488938484694, pvalue=1.2893776100101265e-104)"
            ]
          },
          "metadata": {},
          "execution_count": 35
        }
      ]
    },
    {
      "cell_type": "markdown",
      "source": [
        " The very small p-value indicates that the variances are significantly different between genders."
      ],
      "metadata": {
        "id": "kp5jw7e4Hdsa"
      }
    },
    {
      "cell_type": "markdown",
      "source": [
        "**Mann-Whitney U Test**\n",
        "\n",
        "Purpose: To determine if there is a statistically significant difference in the length of stay between male and female patients."
      ],
      "metadata": {
        "id": "Lg3HDYIeHx-B"
      }
    },
    {
      "cell_type": "code",
      "source": [
        "u_stat, p_value = mannwhitneyu(df[df['gender'] == 'M']['los_admission'],\n",
        "                               df[df['gender'] == 'F']['los_admission'], alternative='two-sided')\n",
        "print(f\"Mann-Whitney U Test Statistic: {u_stat}\")\n",
        "print(f\"P-value: {p_value}\")\n"
      ],
      "metadata": {
        "colab": {
          "base_uri": "https://localhost:8080/"
        },
        "id": "cObJ5qTnHuP-",
        "outputId": "a3e117de-a665-4382-a54e-64ea4ed212aa"
      },
      "execution_count": null,
      "outputs": [
        {
          "output_type": "stream",
          "name": "stdout",
          "text": [
            "Mann-Whitney U Test Statistic: 4106046691.5\n",
            "P-value: 0.00031263586380444764\n"
          ]
        }
      ]
    },
    {
      "cell_type": "markdown",
      "source": [
        "The p-value is less than 0.05, so we reject the null hypothesis. This means there is a statistically significant difference in the length of stay between males and females."
      ],
      "metadata": {
        "id": "5fb4GIx8JHe4"
      }
    },
    {
      "cell_type": "markdown",
      "source": [
        "**Cohen's d Test**\n",
        "\n",
        "Purpose: To measure the size of the difference in length of stay between males and females."
      ],
      "metadata": {
        "id": "Wbqf3ueSJMyc"
      }
    },
    {
      "cell_type": "code",
      "source": [
        "mean_male = df[df['gender'] == 'M']['los_admission'].mean()\n",
        "mean_female = df[df['gender'] == 'F']['los_admission'].mean()\n",
        "std_male = df[df['gender'] == 'M']['los_admission'].std()\n",
        "std_female = df[df['gender'] == 'F']['los_admission'].std()\n",
        "pooled_std = np.sqrt((std_male ** 2 + std_female ** 2) / 2)\n",
        "cohen_d = (mean_male - mean_female) / pooled_std\n",
        "\n",
        "cohen_d\n"
      ],
      "metadata": {
        "colab": {
          "base_uri": "https://localhost:8080/"
        },
        "id": "6K6y7bwPBBHX",
        "outputId": "67fd90de-5d4c-4803-d8d1-55457b534354"
      },
      "execution_count": null,
      "outputs": [
        {
          "output_type": "execute_result",
          "data": {
            "text/plain": [
              "0.07705204952938023"
            ]
          },
          "metadata": {},
          "execution_count": 38
        }
      ]
    },
    {
      "cell_type": "markdown",
      "source": [
        "Cohen's d of 0.077 is considered a small effect size, indicating that the actual difference in length of stay between genders, while statistically significant, is small in practical terms."
      ],
      "metadata": {
        "id": "0uaSoGo9JlZQ"
      }
    },
    {
      "cell_type": "markdown",
      "source": [
        "###**Conclusion**"
      ],
      "metadata": {
        "id": "PHPg7xgKJvdb"
      }
    },
    {
      "cell_type": "markdown",
      "source": [
        "Based on the statistical analysis, I performed the Mann-Whitney U test due to the non-normal distribution of the data and unequal variances between the groups. The test yielded a p-value of 0.000313, which is significantly less than the commonly used threshold of 0.05.\n",
        "\n",
        "Given this p-value, I reject the null hypothesis in favor of the alternative hypothesis. This indicates that there is a statistically significant difference in the length of stay (los_admission) between male and female patients.\n",
        "\n",
        "However, the effect size (Cohen's d = 0.077) indicates that the difference, while statistically significant, is small in practical terms. This means that although gender does affect the length of stay, the magnitude of this effect is minor."
      ],
      "metadata": {
        "id": "wElDbIDSJ4jT"
      }
    }
  ]
}