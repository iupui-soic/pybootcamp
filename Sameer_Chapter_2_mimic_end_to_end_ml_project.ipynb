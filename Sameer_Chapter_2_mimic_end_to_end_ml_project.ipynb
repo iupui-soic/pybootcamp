{
  "cells": [
    {
      "cell_type": "markdown",
      "metadata": {
        "id": "view-in-github",
        "colab_type": "text"
      },
      "source": [
        "<a href=\"https://colab.research.google.com/github/iupui-soic/pybootcamp/blob/main/Sameer_Chapter_2_mimic_end_to_end_ml_project.ipynb\" target=\"_parent\"><img src=\"https://colab.research.google.com/assets/colab-badge.svg\" alt=\"Open In Colab\"/></a>"
      ]
    },
    {
      "cell_type": "markdown",
      "source": [
        "RANDOM FOREST"
      ],
      "metadata": {
        "id": "RNbpUQ0hXTt2"
      },
      "id": "RNbpUQ0hXTt2"
    },
    {
      "cell_type": "markdown",
      "id": "22f1d998",
      "metadata": {
        "id": "22f1d998"
      },
      "source": [
        "# Importing Libraries"
      ]
    },
    {
      "cell_type": "code",
      "source": [
        "!git clone https://github.com/iupui-soic/handson-ml-mimic-iv.git"
      ],
      "metadata": {
        "colab": {
          "base_uri": "https://localhost:8080/"
        },
        "id": "-j8-bsBdpxgs",
        "outputId": "f1a423ea-bd3c-4033-fbe3-cea6cac9c078"
      },
      "execution_count": 3,
      "outputs": [
        {
          "output_type": "stream",
          "name": "stdout",
          "text": [
            "fatal: destination path 'handson-ml-mimic-iv' already exists and is not an empty directory.\n"
          ]
        }
      ],
      "id": "-j8-bsBdpxgs"
    },
    {
      "cell_type": "code",
      "source": [
        "import os\n",
        "print(os.getcwd())"
      ],
      "metadata": {
        "colab": {
          "base_uri": "https://localhost:8080/"
        },
        "id": "5ZMOnQq5d6_2",
        "outputId": "b2544ad5-fd8a-4c3f-a2f7-1d4aadeac828"
      },
      "execution_count": 4,
      "outputs": [
        {
          "output_type": "stream",
          "name": "stdout",
          "text": [
            "/content\n"
          ]
        }
      ],
      "id": "5ZMOnQq5d6_2"
    },
    {
      "cell_type": "code",
      "source": [
        "import os\n",
        "os.chdir('/content/handson-ml-mimic-iv')"
      ],
      "metadata": {
        "id": "5ax-HKiLd8DL"
      },
      "execution_count": 5,
      "outputs": [],
      "id": "5ax-HKiLd8DL"
    },
    {
      "cell_type": "code",
      "source": [
        "from google.colab import drive\n",
        "drive.mount('/content/drive')"
      ],
      "metadata": {
        "colab": {
          "base_uri": "https://localhost:8080/"
        },
        "id": "PmK6irzXpGlU",
        "outputId": "e6a15d1a-3241-4202-acc7-f97702a31b80"
      },
      "execution_count": 6,
      "outputs": [
        {
          "output_type": "stream",
          "name": "stdout",
          "text": [
            "Drive already mounted at /content/drive; to attempt to forcibly remount, call drive.mount(\"/content/drive\", force_remount=True).\n"
          ]
        }
      ],
      "id": "PmK6irzXpGlU"
    },
    {
      "cell_type": "code",
      "execution_count": 7,
      "metadata": {
        "id": "01425f93"
      },
      "outputs": [],
      "source": [
        "import dask.dataframe as dd\n",
        "import pandas as pd"
      ],
      "id": "01425f93"
    },
    {
      "cell_type": "code",
      "execution_count": 8,
      "id": "71b8e426",
      "metadata": {
        "id": "71b8e426"
      },
      "outputs": [],
      "source": [
        "from mimic.mimic import MIMIC, MIMICManipulations\n",
        "from utils.util import generic_utils\n",
        "import pandas as pd\n",
        "import numpy as np\n",
        "import os\n",
        "import matplotlib.pyplot as plt"
      ]
    },
    {
      "cell_type": "code",
      "execution_count": 9,
      "id": "4db814a2",
      "metadata": {
        "id": "4db814a2"
      },
      "outputs": [],
      "source": [
        "generic_util_instance = generic_utils()"
      ]
    },
    {
      "cell_type": "markdown",
      "id": "d37edc8f",
      "metadata": {
        "id": "d37edc8f"
      },
      "source": [
        "# Load Data"
      ]
    },
    {
      "cell_type": "code",
      "source": [
        "df = pd.read_csv('/content/drive/MyDrive/dataset/ch_02_end_to_end_ml.csv')\n"
      ],
      "metadata": {
        "id": "aO26f2vRhr9b"
      },
      "id": "aO26f2vRhr9b",
      "execution_count": 10,
      "outputs": []
    },
    {
      "cell_type": "code",
      "execution_count": 11,
      "id": "38f83e70",
      "metadata": {
        "colab": {
          "base_uri": "https://localhost:8080/",
          "height": 0
        },
        "id": "38f83e70",
        "outputId": "3c580ff4-9b33-4418-e2bc-2cad09d0aef1"
      },
      "outputs": [
        {
          "output_type": "execute_result",
          "data": {
            "text/plain": [
              "   subject_id  admission_type admit_provider_id      admission_location  \\\n",
              "0    10000032          URGENT            P874LG  TRANSFER FROM HOSPITAL   \n",
              "1    10000068  EU OBSERVATION            P51VDL          EMERGENCY ROOM   \n",
              "2    10000084        EW EMER.            P6957U   WALK-IN/SELF REFERRAL   \n",
              "3    10000108  EU OBSERVATION            P38XXV          EMERGENCY ROOM   \n",
              "4    10000117  EU OBSERVATION            P2358X          EMERGENCY ROOM   \n",
              "\n",
              "  discharge_location insurance language marital_status   race  \\\n",
              "0               HOME     Other  ENGLISH        WIDOWED  WHITE   \n",
              "1                NaN     Other  ENGLISH         SINGLE  WHITE   \n",
              "2   HOME HEALTH CARE  Medicare  ENGLISH        MARRIED  WHITE   \n",
              "3                NaN     Other  ENGLISH         SINGLE  WHITE   \n",
              "4                NaN     Other  ENGLISH       DIVORCED  WHITE   \n",
              "\n",
              "   hospital_expire_flag  ...  drg_code                      medication  \\\n",
              "0                     0  ...     283.0              Potassium Chloride   \n",
              "1                     0  ...       NaN                             NaN   \n",
              "2                     0  ...      42.0                     Pramipexole   \n",
              "3                     0  ...       NaN                             NaN   \n",
              "4                     0  ...     308.0  Influenza Vaccine Quadrivalent   \n",
              "\n",
              "      event_txt                 drug  route  \\\n",
              "0  Administered        Acetaminophen  PO/NG   \n",
              "1           NaN                  NaN    NaN   \n",
              "2  Administered  QUEtiapine Fumarate  PO/NG   \n",
              "3           NaN                  NaN    NaN   \n",
              "4     Hold Dose              Heparin     SC   \n",
              "\n",
              "                               org_name                test_name quantity  \\\n",
              "0                                   NaN  TOXOPLASMA IgG ANTIBODY      NaN   \n",
              "1                                   NaN                      NaN      NaN   \n",
              "2                                   NaN   Blood Culture, Routine      NaN   \n",
              "3  ACTINOBACILLUS ACTINOMYCETEMCOMITANS            WOUND CULTURE      NaN   \n",
              "4                  CAMPYLOBACTER JEJUNI    CAMPYLOBACTER CULTURE      NaN   \n",
              "\n",
              "   ab_name curr_service  \n",
              "0      NaN          MED  \n",
              "1      NaN          MED  \n",
              "2      NaN          MED  \n",
              "3      NaN          MED  \n",
              "4      NaN          MED  \n",
              "\n",
              "[5 rows x 28 columns]"
            ],
            "text/html": [
              "\n",
              "  <div id=\"df-d382cec6-706a-4281-90c4-a1bfa2b8c95f\" class=\"colab-df-container\">\n",
              "    <div>\n",
              "<style scoped>\n",
              "    .dataframe tbody tr th:only-of-type {\n",
              "        vertical-align: middle;\n",
              "    }\n",
              "\n",
              "    .dataframe tbody tr th {\n",
              "        vertical-align: top;\n",
              "    }\n",
              "\n",
              "    .dataframe thead th {\n",
              "        text-align: right;\n",
              "    }\n",
              "</style>\n",
              "<table border=\"1\" class=\"dataframe\">\n",
              "  <thead>\n",
              "    <tr style=\"text-align: right;\">\n",
              "      <th></th>\n",
              "      <th>subject_id</th>\n",
              "      <th>admission_type</th>\n",
              "      <th>admit_provider_id</th>\n",
              "      <th>admission_location</th>\n",
              "      <th>discharge_location</th>\n",
              "      <th>insurance</th>\n",
              "      <th>language</th>\n",
              "      <th>marital_status</th>\n",
              "      <th>race</th>\n",
              "      <th>hospital_expire_flag</th>\n",
              "      <th>...</th>\n",
              "      <th>drg_code</th>\n",
              "      <th>medication</th>\n",
              "      <th>event_txt</th>\n",
              "      <th>drug</th>\n",
              "      <th>route</th>\n",
              "      <th>org_name</th>\n",
              "      <th>test_name</th>\n",
              "      <th>quantity</th>\n",
              "      <th>ab_name</th>\n",
              "      <th>curr_service</th>\n",
              "    </tr>\n",
              "  </thead>\n",
              "  <tbody>\n",
              "    <tr>\n",
              "      <th>0</th>\n",
              "      <td>10000032</td>\n",
              "      <td>URGENT</td>\n",
              "      <td>P874LG</td>\n",
              "      <td>TRANSFER FROM HOSPITAL</td>\n",
              "      <td>HOME</td>\n",
              "      <td>Other</td>\n",
              "      <td>ENGLISH</td>\n",
              "      <td>WIDOWED</td>\n",
              "      <td>WHITE</td>\n",
              "      <td>0</td>\n",
              "      <td>...</td>\n",
              "      <td>283.0</td>\n",
              "      <td>Potassium Chloride</td>\n",
              "      <td>Administered</td>\n",
              "      <td>Acetaminophen</td>\n",
              "      <td>PO/NG</td>\n",
              "      <td>NaN</td>\n",
              "      <td>TOXOPLASMA IgG ANTIBODY</td>\n",
              "      <td>NaN</td>\n",
              "      <td>NaN</td>\n",
              "      <td>MED</td>\n",
              "    </tr>\n",
              "    <tr>\n",
              "      <th>1</th>\n",
              "      <td>10000068</td>\n",
              "      <td>EU OBSERVATION</td>\n",
              "      <td>P51VDL</td>\n",
              "      <td>EMERGENCY ROOM</td>\n",
              "      <td>NaN</td>\n",
              "      <td>Other</td>\n",
              "      <td>ENGLISH</td>\n",
              "      <td>SINGLE</td>\n",
              "      <td>WHITE</td>\n",
              "      <td>0</td>\n",
              "      <td>...</td>\n",
              "      <td>NaN</td>\n",
              "      <td>NaN</td>\n",
              "      <td>NaN</td>\n",
              "      <td>NaN</td>\n",
              "      <td>NaN</td>\n",
              "      <td>NaN</td>\n",
              "      <td>NaN</td>\n",
              "      <td>NaN</td>\n",
              "      <td>NaN</td>\n",
              "      <td>MED</td>\n",
              "    </tr>\n",
              "    <tr>\n",
              "      <th>2</th>\n",
              "      <td>10000084</td>\n",
              "      <td>EW EMER.</td>\n",
              "      <td>P6957U</td>\n",
              "      <td>WALK-IN/SELF REFERRAL</td>\n",
              "      <td>HOME HEALTH CARE</td>\n",
              "      <td>Medicare</td>\n",
              "      <td>ENGLISH</td>\n",
              "      <td>MARRIED</td>\n",
              "      <td>WHITE</td>\n",
              "      <td>0</td>\n",
              "      <td>...</td>\n",
              "      <td>42.0</td>\n",
              "      <td>Pramipexole</td>\n",
              "      <td>Administered</td>\n",
              "      <td>QUEtiapine Fumarate</td>\n",
              "      <td>PO/NG</td>\n",
              "      <td>NaN</td>\n",
              "      <td>Blood Culture, Routine</td>\n",
              "      <td>NaN</td>\n",
              "      <td>NaN</td>\n",
              "      <td>MED</td>\n",
              "    </tr>\n",
              "    <tr>\n",
              "      <th>3</th>\n",
              "      <td>10000108</td>\n",
              "      <td>EU OBSERVATION</td>\n",
              "      <td>P38XXV</td>\n",
              "      <td>EMERGENCY ROOM</td>\n",
              "      <td>NaN</td>\n",
              "      <td>Other</td>\n",
              "      <td>ENGLISH</td>\n",
              "      <td>SINGLE</td>\n",
              "      <td>WHITE</td>\n",
              "      <td>0</td>\n",
              "      <td>...</td>\n",
              "      <td>NaN</td>\n",
              "      <td>NaN</td>\n",
              "      <td>NaN</td>\n",
              "      <td>NaN</td>\n",
              "      <td>NaN</td>\n",
              "      <td>ACTINOBACILLUS ACTINOMYCETEMCOMITANS</td>\n",
              "      <td>WOUND CULTURE</td>\n",
              "      <td>NaN</td>\n",
              "      <td>NaN</td>\n",
              "      <td>MED</td>\n",
              "    </tr>\n",
              "    <tr>\n",
              "      <th>4</th>\n",
              "      <td>10000117</td>\n",
              "      <td>EU OBSERVATION</td>\n",
              "      <td>P2358X</td>\n",
              "      <td>EMERGENCY ROOM</td>\n",
              "      <td>NaN</td>\n",
              "      <td>Other</td>\n",
              "      <td>ENGLISH</td>\n",
              "      <td>DIVORCED</td>\n",
              "      <td>WHITE</td>\n",
              "      <td>0</td>\n",
              "      <td>...</td>\n",
              "      <td>308.0</td>\n",
              "      <td>Influenza Vaccine Quadrivalent</td>\n",
              "      <td>Hold Dose</td>\n",
              "      <td>Heparin</td>\n",
              "      <td>SC</td>\n",
              "      <td>CAMPYLOBACTER JEJUNI</td>\n",
              "      <td>CAMPYLOBACTER CULTURE</td>\n",
              "      <td>NaN</td>\n",
              "      <td>NaN</td>\n",
              "      <td>MED</td>\n",
              "    </tr>\n",
              "  </tbody>\n",
              "</table>\n",
              "<p>5 rows × 28 columns</p>\n",
              "</div>\n",
              "    <div class=\"colab-df-buttons\">\n",
              "\n",
              "  <div class=\"colab-df-container\">\n",
              "    <button class=\"colab-df-convert\" onclick=\"convertToInteractive('df-d382cec6-706a-4281-90c4-a1bfa2b8c95f')\"\n",
              "            title=\"Convert this dataframe to an interactive table.\"\n",
              "            style=\"display:none;\">\n",
              "\n",
              "  <svg xmlns=\"http://www.w3.org/2000/svg\" height=\"24px\" viewBox=\"0 -960 960 960\">\n",
              "    <path d=\"M120-120v-720h720v720H120Zm60-500h600v-160H180v160Zm220 220h160v-160H400v160Zm0 220h160v-160H400v160ZM180-400h160v-160H180v160Zm440 0h160v-160H620v160ZM180-180h160v-160H180v160Zm440 0h160v-160H620v160Z\"/>\n",
              "  </svg>\n",
              "    </button>\n",
              "\n",
              "  <style>\n",
              "    .colab-df-container {\n",
              "      display:flex;\n",
              "      gap: 12px;\n",
              "    }\n",
              "\n",
              "    .colab-df-convert {\n",
              "      background-color: #E8F0FE;\n",
              "      border: none;\n",
              "      border-radius: 50%;\n",
              "      cursor: pointer;\n",
              "      display: none;\n",
              "      fill: #1967D2;\n",
              "      height: 32px;\n",
              "      padding: 0 0 0 0;\n",
              "      width: 32px;\n",
              "    }\n",
              "\n",
              "    .colab-df-convert:hover {\n",
              "      background-color: #E2EBFA;\n",
              "      box-shadow: 0px 1px 2px rgba(60, 64, 67, 0.3), 0px 1px 3px 1px rgba(60, 64, 67, 0.15);\n",
              "      fill: #174EA6;\n",
              "    }\n",
              "\n",
              "    .colab-df-buttons div {\n",
              "      margin-bottom: 4px;\n",
              "    }\n",
              "\n",
              "    [theme=dark] .colab-df-convert {\n",
              "      background-color: #3B4455;\n",
              "      fill: #D2E3FC;\n",
              "    }\n",
              "\n",
              "    [theme=dark] .colab-df-convert:hover {\n",
              "      background-color: #434B5C;\n",
              "      box-shadow: 0px 1px 3px 1px rgba(0, 0, 0, 0.15);\n",
              "      filter: drop-shadow(0px 1px 2px rgba(0, 0, 0, 0.3));\n",
              "      fill: #FFFFFF;\n",
              "    }\n",
              "  </style>\n",
              "\n",
              "    <script>\n",
              "      const buttonEl =\n",
              "        document.querySelector('#df-d382cec6-706a-4281-90c4-a1bfa2b8c95f button.colab-df-convert');\n",
              "      buttonEl.style.display =\n",
              "        google.colab.kernel.accessAllowed ? 'block' : 'none';\n",
              "\n",
              "      async function convertToInteractive(key) {\n",
              "        const element = document.querySelector('#df-d382cec6-706a-4281-90c4-a1bfa2b8c95f');\n",
              "        const dataTable =\n",
              "          await google.colab.kernel.invokeFunction('convertToInteractive',\n",
              "                                                    [key], {});\n",
              "        if (!dataTable) return;\n",
              "\n",
              "        const docLinkHtml = 'Like what you see? Visit the ' +\n",
              "          '<a target=\"_blank\" href=https://colab.research.google.com/notebooks/data_table.ipynb>data table notebook</a>'\n",
              "          + ' to learn more about interactive tables.';\n",
              "        element.innerHTML = '';\n",
              "        dataTable['output_type'] = 'display_data';\n",
              "        await google.colab.output.renderOutput(dataTable, element);\n",
              "        const docLink = document.createElement('div');\n",
              "        docLink.innerHTML = docLinkHtml;\n",
              "        element.appendChild(docLink);\n",
              "      }\n",
              "    </script>\n",
              "  </div>\n",
              "\n",
              "\n",
              "<div id=\"df-7dd6c6b1-2950-4f57-9db1-878b359cab78\">\n",
              "  <button class=\"colab-df-quickchart\" onclick=\"quickchart('df-7dd6c6b1-2950-4f57-9db1-878b359cab78')\"\n",
              "            title=\"Suggest charts\"\n",
              "            style=\"display:none;\">\n",
              "\n",
              "<svg xmlns=\"http://www.w3.org/2000/svg\" height=\"24px\"viewBox=\"0 0 24 24\"\n",
              "     width=\"24px\">\n",
              "    <g>\n",
              "        <path d=\"M19 3H5c-1.1 0-2 .9-2 2v14c0 1.1.9 2 2 2h14c1.1 0 2-.9 2-2V5c0-1.1-.9-2-2-2zM9 17H7v-7h2v7zm4 0h-2V7h2v10zm4 0h-2v-4h2v4z\"/>\n",
              "    </g>\n",
              "</svg>\n",
              "  </button>\n",
              "\n",
              "<style>\n",
              "  .colab-df-quickchart {\n",
              "      --bg-color: #E8F0FE;\n",
              "      --fill-color: #1967D2;\n",
              "      --hover-bg-color: #E2EBFA;\n",
              "      --hover-fill-color: #174EA6;\n",
              "      --disabled-fill-color: #AAA;\n",
              "      --disabled-bg-color: #DDD;\n",
              "  }\n",
              "\n",
              "  [theme=dark] .colab-df-quickchart {\n",
              "      --bg-color: #3B4455;\n",
              "      --fill-color: #D2E3FC;\n",
              "      --hover-bg-color: #434B5C;\n",
              "      --hover-fill-color: #FFFFFF;\n",
              "      --disabled-bg-color: #3B4455;\n",
              "      --disabled-fill-color: #666;\n",
              "  }\n",
              "\n",
              "  .colab-df-quickchart {\n",
              "    background-color: var(--bg-color);\n",
              "    border: none;\n",
              "    border-radius: 50%;\n",
              "    cursor: pointer;\n",
              "    display: none;\n",
              "    fill: var(--fill-color);\n",
              "    height: 32px;\n",
              "    padding: 0;\n",
              "    width: 32px;\n",
              "  }\n",
              "\n",
              "  .colab-df-quickchart:hover {\n",
              "    background-color: var(--hover-bg-color);\n",
              "    box-shadow: 0 1px 2px rgba(60, 64, 67, 0.3), 0 1px 3px 1px rgba(60, 64, 67, 0.15);\n",
              "    fill: var(--button-hover-fill-color);\n",
              "  }\n",
              "\n",
              "  .colab-df-quickchart-complete:disabled,\n",
              "  .colab-df-quickchart-complete:disabled:hover {\n",
              "    background-color: var(--disabled-bg-color);\n",
              "    fill: var(--disabled-fill-color);\n",
              "    box-shadow: none;\n",
              "  }\n",
              "\n",
              "  .colab-df-spinner {\n",
              "    border: 2px solid var(--fill-color);\n",
              "    border-color: transparent;\n",
              "    border-bottom-color: var(--fill-color);\n",
              "    animation:\n",
              "      spin 1s steps(1) infinite;\n",
              "  }\n",
              "\n",
              "  @keyframes spin {\n",
              "    0% {\n",
              "      border-color: transparent;\n",
              "      border-bottom-color: var(--fill-color);\n",
              "      border-left-color: var(--fill-color);\n",
              "    }\n",
              "    20% {\n",
              "      border-color: transparent;\n",
              "      border-left-color: var(--fill-color);\n",
              "      border-top-color: var(--fill-color);\n",
              "    }\n",
              "    30% {\n",
              "      border-color: transparent;\n",
              "      border-left-color: var(--fill-color);\n",
              "      border-top-color: var(--fill-color);\n",
              "      border-right-color: var(--fill-color);\n",
              "    }\n",
              "    40% {\n",
              "      border-color: transparent;\n",
              "      border-right-color: var(--fill-color);\n",
              "      border-top-color: var(--fill-color);\n",
              "    }\n",
              "    60% {\n",
              "      border-color: transparent;\n",
              "      border-right-color: var(--fill-color);\n",
              "    }\n",
              "    80% {\n",
              "      border-color: transparent;\n",
              "      border-right-color: var(--fill-color);\n",
              "      border-bottom-color: var(--fill-color);\n",
              "    }\n",
              "    90% {\n",
              "      border-color: transparent;\n",
              "      border-bottom-color: var(--fill-color);\n",
              "    }\n",
              "  }\n",
              "</style>\n",
              "\n",
              "  <script>\n",
              "    async function quickchart(key) {\n",
              "      const quickchartButtonEl =\n",
              "        document.querySelector('#' + key + ' button');\n",
              "      quickchartButtonEl.disabled = true;  // To prevent multiple clicks.\n",
              "      quickchartButtonEl.classList.add('colab-df-spinner');\n",
              "      try {\n",
              "        const charts = await google.colab.kernel.invokeFunction(\n",
              "            'suggestCharts', [key], {});\n",
              "      } catch (error) {\n",
              "        console.error('Error during call to suggestCharts:', error);\n",
              "      }\n",
              "      quickchartButtonEl.classList.remove('colab-df-spinner');\n",
              "      quickchartButtonEl.classList.add('colab-df-quickchart-complete');\n",
              "    }\n",
              "    (() => {\n",
              "      let quickchartButtonEl =\n",
              "        document.querySelector('#df-7dd6c6b1-2950-4f57-9db1-878b359cab78 button');\n",
              "      quickchartButtonEl.style.display =\n",
              "        google.colab.kernel.accessAllowed ? 'block' : 'none';\n",
              "    })();\n",
              "  </script>\n",
              "</div>\n",
              "\n",
              "    </div>\n",
              "  </div>\n"
            ],
            "application/vnd.google.colaboratory.intrinsic+json": {
              "type": "dataframe",
              "variable_name": "df"
            }
          },
          "metadata": {},
          "execution_count": 11
        }
      ],
      "source": [
        "df.head()"
      ]
    },
    {
      "cell_type": "code",
      "execution_count": 12,
      "id": "e8e7b93b",
      "metadata": {
        "colab": {
          "base_uri": "https://localhost:8080/"
        },
        "id": "e8e7b93b",
        "outputId": "3dda7f1a-1603-4a46-a92d-abc922073d5d"
      },
      "outputs": [
        {
          "output_type": "execute_result",
          "data": {
            "text/plain": [
              "Index(['subject_id', 'admission_type', 'admit_provider_id',\n",
              "       'admission_location', 'discharge_location', 'insurance', 'language',\n",
              "       'marital_status', 'race', 'hospital_expire_flag', 'los_admission',\n",
              "       'gender', 'anchor_age', 'eventtype', 'careunit', 'diagnosis_icd_code',\n",
              "       'procedures_icd_code', 'drg_type', 'drg_code', 'medication',\n",
              "       'event_txt', 'drug', 'route', 'org_name', 'test_name', 'quantity',\n",
              "       'ab_name', 'curr_service'],\n",
              "      dtype='object')"
            ]
          },
          "metadata": {},
          "execution_count": 12
        }
      ],
      "source": [
        "df.columns"
      ]
    },
    {
      "cell_type": "code",
      "execution_count": 13,
      "id": "19000909",
      "metadata": {
        "colab": {
          "base_uri": "https://localhost:8080/"
        },
        "id": "19000909",
        "outputId": "14e0f573-5b25-49ed-e92c-d88f4c77176d"
      },
      "outputs": [
        {
          "output_type": "execute_result",
          "data": {
            "text/plain": [
              "(180677, 28)"
            ]
          },
          "metadata": {},
          "execution_count": 13
        }
      ],
      "source": [
        "df.shape"
      ]
    },
    {
      "cell_type": "markdown",
      "id": "6efb9a19",
      "metadata": {
        "id": "6efb9a19"
      },
      "source": [
        "# Data Exploration"
      ]
    },
    {
      "cell_type": "code",
      "execution_count": 14,
      "id": "c0e33f4f",
      "metadata": {
        "colab": {
          "base_uri": "https://localhost:8080/"
        },
        "id": "c0e33f4f",
        "outputId": "7aad0c01-c1d0-41f3-b641-5cebb00829c9"
      },
      "outputs": [
        {
          "output_type": "stream",
          "name": "stdout",
          "text": [
            "<class 'pandas.core.frame.DataFrame'>\n",
            "RangeIndex: 180677 entries, 0 to 180676\n",
            "Data columns (total 28 columns):\n",
            " #   Column                Non-Null Count   Dtype  \n",
            "---  ------                --------------   -----  \n",
            " 0   subject_id            180677 non-null  int64  \n",
            " 1   admission_type        180677 non-null  object \n",
            " 2   admit_provider_id     180676 non-null  object \n",
            " 3   admission_location    180677 non-null  object \n",
            " 4   discharge_location    128343 non-null  object \n",
            " 5   insurance             180677 non-null  object \n",
            " 6   language              180677 non-null  object \n",
            " 7   marital_status        173425 non-null  object \n",
            " 8   race                  180677 non-null  object \n",
            " 9   hospital_expire_flag  180677 non-null  int64  \n",
            " 10  los_admission         180677 non-null  float64\n",
            " 11  gender                180677 non-null  object \n",
            " 12  anchor_age            180677 non-null  int64  \n",
            " 13  eventtype             180677 non-null  object \n",
            " 14  careunit              126370 non-null  object \n",
            " 15  diagnosis_icd_code    180584 non-null  object \n",
            " 16  procedures_icd_code   121857 non-null  object \n",
            " 17  drg_type              144396 non-null  object \n",
            " 18  drg_code              144396 non-null  float64\n",
            " 19  medication            87475 non-null   object \n",
            " 20  event_txt             102259 non-null  object \n",
            " 21  drug                  158384 non-null  object \n",
            " 22  route                 158342 non-null  object \n",
            " 23  org_name              21297 non-null   object \n",
            " 24  test_name             141152 non-null  object \n",
            " 25  quantity              0 non-null       float64\n",
            " 26  ab_name               10248 non-null   object \n",
            " 27  curr_service          180677 non-null  object \n",
            "dtypes: float64(3), int64(3), object(22)\n",
            "memory usage: 38.6+ MB\n"
          ]
        }
      ],
      "source": [
        "df.info()"
      ]
    },
    {
      "cell_type": "code",
      "execution_count": 15,
      "id": "bdb7a193",
      "metadata": {
        "colab": {
          "base_uri": "https://localhost:8080/",
          "height": 0
        },
        "id": "bdb7a193",
        "outputId": "8fecae39-5c9e-4750-b40c-c208683b1a84"
      },
      "outputs": [
        {
          "output_type": "execute_result",
          "data": {
            "text/plain": [
              "         subject_id  hospital_expire_flag  los_admission     anchor_age  \\\n",
              "count  1.806770e+05         180677.000000  180677.000000  180677.000000   \n",
              "mean   1.501326e+07              0.028620       4.209422      55.375034   \n",
              "std    2.884716e+06              0.166737       6.199334      20.268894   \n",
              "min    1.000003e+07              0.000000       0.000694      18.000000   \n",
              "25%    1.250880e+07              0.000000       0.979861      39.000000   \n",
              "50%    1.502097e+07              0.000000       2.563194      57.000000   \n",
              "75%    1.751168e+07              0.000000       4.938889      71.000000   \n",
              "max    1.999999e+07              1.000000     249.585417      91.000000   \n",
              "\n",
              "            drg_code  quantity  \n",
              "count  144396.000000       0.0  \n",
              "mean      344.668758       NaN  \n",
              "std       239.510152       NaN  \n",
              "min         1.000000       NaN  \n",
              "25%       166.000000       NaN  \n",
              "50%       283.000000       NaN  \n",
              "75%       530.000000       NaN  \n",
              "max       989.000000       NaN  "
            ],
            "text/html": [
              "\n",
              "  <div id=\"df-c3748981-b40d-43ea-8243-27319952ea4e\" class=\"colab-df-container\">\n",
              "    <div>\n",
              "<style scoped>\n",
              "    .dataframe tbody tr th:only-of-type {\n",
              "        vertical-align: middle;\n",
              "    }\n",
              "\n",
              "    .dataframe tbody tr th {\n",
              "        vertical-align: top;\n",
              "    }\n",
              "\n",
              "    .dataframe thead th {\n",
              "        text-align: right;\n",
              "    }\n",
              "</style>\n",
              "<table border=\"1\" class=\"dataframe\">\n",
              "  <thead>\n",
              "    <tr style=\"text-align: right;\">\n",
              "      <th></th>\n",
              "      <th>subject_id</th>\n",
              "      <th>hospital_expire_flag</th>\n",
              "      <th>los_admission</th>\n",
              "      <th>anchor_age</th>\n",
              "      <th>drg_code</th>\n",
              "      <th>quantity</th>\n",
              "    </tr>\n",
              "  </thead>\n",
              "  <tbody>\n",
              "    <tr>\n",
              "      <th>count</th>\n",
              "      <td>1.806770e+05</td>\n",
              "      <td>180677.000000</td>\n",
              "      <td>180677.000000</td>\n",
              "      <td>180677.000000</td>\n",
              "      <td>144396.000000</td>\n",
              "      <td>0.0</td>\n",
              "    </tr>\n",
              "    <tr>\n",
              "      <th>mean</th>\n",
              "      <td>1.501326e+07</td>\n",
              "      <td>0.028620</td>\n",
              "      <td>4.209422</td>\n",
              "      <td>55.375034</td>\n",
              "      <td>344.668758</td>\n",
              "      <td>NaN</td>\n",
              "    </tr>\n",
              "    <tr>\n",
              "      <th>std</th>\n",
              "      <td>2.884716e+06</td>\n",
              "      <td>0.166737</td>\n",
              "      <td>6.199334</td>\n",
              "      <td>20.268894</td>\n",
              "      <td>239.510152</td>\n",
              "      <td>NaN</td>\n",
              "    </tr>\n",
              "    <tr>\n",
              "      <th>min</th>\n",
              "      <td>1.000003e+07</td>\n",
              "      <td>0.000000</td>\n",
              "      <td>0.000694</td>\n",
              "      <td>18.000000</td>\n",
              "      <td>1.000000</td>\n",
              "      <td>NaN</td>\n",
              "    </tr>\n",
              "    <tr>\n",
              "      <th>25%</th>\n",
              "      <td>1.250880e+07</td>\n",
              "      <td>0.000000</td>\n",
              "      <td>0.979861</td>\n",
              "      <td>39.000000</td>\n",
              "      <td>166.000000</td>\n",
              "      <td>NaN</td>\n",
              "    </tr>\n",
              "    <tr>\n",
              "      <th>50%</th>\n",
              "      <td>1.502097e+07</td>\n",
              "      <td>0.000000</td>\n",
              "      <td>2.563194</td>\n",
              "      <td>57.000000</td>\n",
              "      <td>283.000000</td>\n",
              "      <td>NaN</td>\n",
              "    </tr>\n",
              "    <tr>\n",
              "      <th>75%</th>\n",
              "      <td>1.751168e+07</td>\n",
              "      <td>0.000000</td>\n",
              "      <td>4.938889</td>\n",
              "      <td>71.000000</td>\n",
              "      <td>530.000000</td>\n",
              "      <td>NaN</td>\n",
              "    </tr>\n",
              "    <tr>\n",
              "      <th>max</th>\n",
              "      <td>1.999999e+07</td>\n",
              "      <td>1.000000</td>\n",
              "      <td>249.585417</td>\n",
              "      <td>91.000000</td>\n",
              "      <td>989.000000</td>\n",
              "      <td>NaN</td>\n",
              "    </tr>\n",
              "  </tbody>\n",
              "</table>\n",
              "</div>\n",
              "    <div class=\"colab-df-buttons\">\n",
              "\n",
              "  <div class=\"colab-df-container\">\n",
              "    <button class=\"colab-df-convert\" onclick=\"convertToInteractive('df-c3748981-b40d-43ea-8243-27319952ea4e')\"\n",
              "            title=\"Convert this dataframe to an interactive table.\"\n",
              "            style=\"display:none;\">\n",
              "\n",
              "  <svg xmlns=\"http://www.w3.org/2000/svg\" height=\"24px\" viewBox=\"0 -960 960 960\">\n",
              "    <path d=\"M120-120v-720h720v720H120Zm60-500h600v-160H180v160Zm220 220h160v-160H400v160Zm0 220h160v-160H400v160ZM180-400h160v-160H180v160Zm440 0h160v-160H620v160ZM180-180h160v-160H180v160Zm440 0h160v-160H620v160Z\"/>\n",
              "  </svg>\n",
              "    </button>\n",
              "\n",
              "  <style>\n",
              "    .colab-df-container {\n",
              "      display:flex;\n",
              "      gap: 12px;\n",
              "    }\n",
              "\n",
              "    .colab-df-convert {\n",
              "      background-color: #E8F0FE;\n",
              "      border: none;\n",
              "      border-radius: 50%;\n",
              "      cursor: pointer;\n",
              "      display: none;\n",
              "      fill: #1967D2;\n",
              "      height: 32px;\n",
              "      padding: 0 0 0 0;\n",
              "      width: 32px;\n",
              "    }\n",
              "\n",
              "    .colab-df-convert:hover {\n",
              "      background-color: #E2EBFA;\n",
              "      box-shadow: 0px 1px 2px rgba(60, 64, 67, 0.3), 0px 1px 3px 1px rgba(60, 64, 67, 0.15);\n",
              "      fill: #174EA6;\n",
              "    }\n",
              "\n",
              "    .colab-df-buttons div {\n",
              "      margin-bottom: 4px;\n",
              "    }\n",
              "\n",
              "    [theme=dark] .colab-df-convert {\n",
              "      background-color: #3B4455;\n",
              "      fill: #D2E3FC;\n",
              "    }\n",
              "\n",
              "    [theme=dark] .colab-df-convert:hover {\n",
              "      background-color: #434B5C;\n",
              "      box-shadow: 0px 1px 3px 1px rgba(0, 0, 0, 0.15);\n",
              "      filter: drop-shadow(0px 1px 2px rgba(0, 0, 0, 0.3));\n",
              "      fill: #FFFFFF;\n",
              "    }\n",
              "  </style>\n",
              "\n",
              "    <script>\n",
              "      const buttonEl =\n",
              "        document.querySelector('#df-c3748981-b40d-43ea-8243-27319952ea4e button.colab-df-convert');\n",
              "      buttonEl.style.display =\n",
              "        google.colab.kernel.accessAllowed ? 'block' : 'none';\n",
              "\n",
              "      async function convertToInteractive(key) {\n",
              "        const element = document.querySelector('#df-c3748981-b40d-43ea-8243-27319952ea4e');\n",
              "        const dataTable =\n",
              "          await google.colab.kernel.invokeFunction('convertToInteractive',\n",
              "                                                    [key], {});\n",
              "        if (!dataTable) return;\n",
              "\n",
              "        const docLinkHtml = 'Like what you see? Visit the ' +\n",
              "          '<a target=\"_blank\" href=https://colab.research.google.com/notebooks/data_table.ipynb>data table notebook</a>'\n",
              "          + ' to learn more about interactive tables.';\n",
              "        element.innerHTML = '';\n",
              "        dataTable['output_type'] = 'display_data';\n",
              "        await google.colab.output.renderOutput(dataTable, element);\n",
              "        const docLink = document.createElement('div');\n",
              "        docLink.innerHTML = docLinkHtml;\n",
              "        element.appendChild(docLink);\n",
              "      }\n",
              "    </script>\n",
              "  </div>\n",
              "\n",
              "\n",
              "<div id=\"df-d78925fe-b4be-4e76-8f19-826164bcec8c\">\n",
              "  <button class=\"colab-df-quickchart\" onclick=\"quickchart('df-d78925fe-b4be-4e76-8f19-826164bcec8c')\"\n",
              "            title=\"Suggest charts\"\n",
              "            style=\"display:none;\">\n",
              "\n",
              "<svg xmlns=\"http://www.w3.org/2000/svg\" height=\"24px\"viewBox=\"0 0 24 24\"\n",
              "     width=\"24px\">\n",
              "    <g>\n",
              "        <path d=\"M19 3H5c-1.1 0-2 .9-2 2v14c0 1.1.9 2 2 2h14c1.1 0 2-.9 2-2V5c0-1.1-.9-2-2-2zM9 17H7v-7h2v7zm4 0h-2V7h2v10zm4 0h-2v-4h2v4z\"/>\n",
              "    </g>\n",
              "</svg>\n",
              "  </button>\n",
              "\n",
              "<style>\n",
              "  .colab-df-quickchart {\n",
              "      --bg-color: #E8F0FE;\n",
              "      --fill-color: #1967D2;\n",
              "      --hover-bg-color: #E2EBFA;\n",
              "      --hover-fill-color: #174EA6;\n",
              "      --disabled-fill-color: #AAA;\n",
              "      --disabled-bg-color: #DDD;\n",
              "  }\n",
              "\n",
              "  [theme=dark] .colab-df-quickchart {\n",
              "      --bg-color: #3B4455;\n",
              "      --fill-color: #D2E3FC;\n",
              "      --hover-bg-color: #434B5C;\n",
              "      --hover-fill-color: #FFFFFF;\n",
              "      --disabled-bg-color: #3B4455;\n",
              "      --disabled-fill-color: #666;\n",
              "  }\n",
              "\n",
              "  .colab-df-quickchart {\n",
              "    background-color: var(--bg-color);\n",
              "    border: none;\n",
              "    border-radius: 50%;\n",
              "    cursor: pointer;\n",
              "    display: none;\n",
              "    fill: var(--fill-color);\n",
              "    height: 32px;\n",
              "    padding: 0;\n",
              "    width: 32px;\n",
              "  }\n",
              "\n",
              "  .colab-df-quickchart:hover {\n",
              "    background-color: var(--hover-bg-color);\n",
              "    box-shadow: 0 1px 2px rgba(60, 64, 67, 0.3), 0 1px 3px 1px rgba(60, 64, 67, 0.15);\n",
              "    fill: var(--button-hover-fill-color);\n",
              "  }\n",
              "\n",
              "  .colab-df-quickchart-complete:disabled,\n",
              "  .colab-df-quickchart-complete:disabled:hover {\n",
              "    background-color: var(--disabled-bg-color);\n",
              "    fill: var(--disabled-fill-color);\n",
              "    box-shadow: none;\n",
              "  }\n",
              "\n",
              "  .colab-df-spinner {\n",
              "    border: 2px solid var(--fill-color);\n",
              "    border-color: transparent;\n",
              "    border-bottom-color: var(--fill-color);\n",
              "    animation:\n",
              "      spin 1s steps(1) infinite;\n",
              "  }\n",
              "\n",
              "  @keyframes spin {\n",
              "    0% {\n",
              "      border-color: transparent;\n",
              "      border-bottom-color: var(--fill-color);\n",
              "      border-left-color: var(--fill-color);\n",
              "    }\n",
              "    20% {\n",
              "      border-color: transparent;\n",
              "      border-left-color: var(--fill-color);\n",
              "      border-top-color: var(--fill-color);\n",
              "    }\n",
              "    30% {\n",
              "      border-color: transparent;\n",
              "      border-left-color: var(--fill-color);\n",
              "      border-top-color: var(--fill-color);\n",
              "      border-right-color: var(--fill-color);\n",
              "    }\n",
              "    40% {\n",
              "      border-color: transparent;\n",
              "      border-right-color: var(--fill-color);\n",
              "      border-top-color: var(--fill-color);\n",
              "    }\n",
              "    60% {\n",
              "      border-color: transparent;\n",
              "      border-right-color: var(--fill-color);\n",
              "    }\n",
              "    80% {\n",
              "      border-color: transparent;\n",
              "      border-right-color: var(--fill-color);\n",
              "      border-bottom-color: var(--fill-color);\n",
              "    }\n",
              "    90% {\n",
              "      border-color: transparent;\n",
              "      border-bottom-color: var(--fill-color);\n",
              "    }\n",
              "  }\n",
              "</style>\n",
              "\n",
              "  <script>\n",
              "    async function quickchart(key) {\n",
              "      const quickchartButtonEl =\n",
              "        document.querySelector('#' + key + ' button');\n",
              "      quickchartButtonEl.disabled = true;  // To prevent multiple clicks.\n",
              "      quickchartButtonEl.classList.add('colab-df-spinner');\n",
              "      try {\n",
              "        const charts = await google.colab.kernel.invokeFunction(\n",
              "            'suggestCharts', [key], {});\n",
              "      } catch (error) {\n",
              "        console.error('Error during call to suggestCharts:', error);\n",
              "      }\n",
              "      quickchartButtonEl.classList.remove('colab-df-spinner');\n",
              "      quickchartButtonEl.classList.add('colab-df-quickchart-complete');\n",
              "    }\n",
              "    (() => {\n",
              "      let quickchartButtonEl =\n",
              "        document.querySelector('#df-d78925fe-b4be-4e76-8f19-826164bcec8c button');\n",
              "      quickchartButtonEl.style.display =\n",
              "        google.colab.kernel.accessAllowed ? 'block' : 'none';\n",
              "    })();\n",
              "  </script>\n",
              "</div>\n",
              "\n",
              "    </div>\n",
              "  </div>\n"
            ],
            "application/vnd.google.colaboratory.intrinsic+json": {
              "type": "dataframe",
              "summary": "{\n  \"name\": \"df\",\n  \"rows\": 8,\n  \"fields\": [\n    {\n      \"column\": \"subject_id\",\n      \"properties\": {\n        \"dtype\": \"number\",\n        \"std\": 6954868.0270362375,\n        \"min\": 180677.0,\n        \"max\": 19999987.0,\n        \"num_unique_values\": 8,\n        \"samples\": [\n          15013264.946794556,\n          15020971.0,\n          180677.0\n        ],\n        \"semantic_type\": \"\",\n        \"description\": \"\"\n      }\n    },\n    {\n      \"column\": \"hospital_expire_flag\",\n      \"properties\": {\n        \"dtype\": \"number\",\n        \"std\": 63878.905578498074,\n        \"min\": 0.0,\n        \"max\": 180677.0,\n        \"num_unique_values\": 5,\n        \"samples\": [\n          0.028620134272762998,\n          1.0,\n          0.16673684673526576\n        ],\n        \"semantic_type\": \"\",\n        \"description\": \"\"\n      }\n    },\n    {\n      \"column\": \"los_admission\",\n      \"properties\": {\n        \"dtype\": \"number\",\n        \"std\": 63865.4640772531,\n        \"min\": 0.0006944444444444,\n        \"max\": 180677.0,\n        \"num_unique_values\": 8,\n        \"samples\": [\n          4.209422239379913,\n          2.563194444444445,\n          180677.0\n        ],\n        \"semantic_type\": \"\",\n        \"description\": \"\"\n      }\n    },\n    {\n      \"column\": \"anchor_age\",\n      \"properties\": {\n        \"dtype\": \"number\",\n        \"std\": 63861.209981320055,\n        \"min\": 18.0,\n        \"max\": 180677.0,\n        \"num_unique_values\": 8,\n        \"samples\": [\n          55.37503390027508,\n          57.0,\n          180677.0\n        ],\n        \"semantic_type\": \"\",\n        \"description\": \"\"\n      }\n    },\n    {\n      \"column\": \"drg_code\",\n      \"properties\": {\n        \"dtype\": \"number\",\n        \"std\": 50923.59823006386,\n        \"min\": 1.0,\n        \"max\": 144396.0,\n        \"num_unique_values\": 8,\n        \"samples\": [\n          344.6687581373445,\n          283.0,\n          144396.0\n        ],\n        \"semantic_type\": \"\",\n        \"description\": \"\"\n      }\n    },\n    {\n      \"column\": \"quantity\",\n      \"properties\": {\n        \"dtype\": \"number\",\n        \"std\": null,\n        \"min\": 0.0,\n        \"max\": 0.0,\n        \"num_unique_values\": 1,\n        \"samples\": [\n          0.0\n        ],\n        \"semantic_type\": \"\",\n        \"description\": \"\"\n      }\n    }\n  ]\n}"
            }
          },
          "metadata": {},
          "execution_count": 15
        }
      ],
      "source": [
        "df.describe()"
      ]
    },
    {
      "cell_type": "code",
      "execution_count": 16,
      "id": "dba55809",
      "metadata": {
        "colab": {
          "base_uri": "https://localhost:8080/"
        },
        "id": "dba55809",
        "outputId": "5fbee2a9-2651-44f7-ea49-4e1cecbb912c"
      },
      "outputs": [
        {
          "output_type": "execute_result",
          "data": {
            "text/plain": [
              "subject_id                int64\n",
              "admission_type           object\n",
              "admit_provider_id        object\n",
              "admission_location       object\n",
              "discharge_location       object\n",
              "insurance                object\n",
              "language                 object\n",
              "marital_status           object\n",
              "race                     object\n",
              "hospital_expire_flag      int64\n",
              "los_admission           float64\n",
              "gender                   object\n",
              "anchor_age                int64\n",
              "eventtype                object\n",
              "careunit                 object\n",
              "diagnosis_icd_code       object\n",
              "procedures_icd_code      object\n",
              "drg_type                 object\n",
              "drg_code                float64\n",
              "medication               object\n",
              "event_txt                object\n",
              "drug                     object\n",
              "route                    object\n",
              "org_name                 object\n",
              "test_name                object\n",
              "quantity                float64\n",
              "ab_name                  object\n",
              "curr_service             object\n",
              "dtype: object"
            ]
          },
          "metadata": {},
          "execution_count": 16
        }
      ],
      "source": [
        "df.dtypes"
      ]
    },
    {
      "cell_type": "markdown",
      "id": "cdb2b330",
      "metadata": {
        "id": "cdb2b330"
      },
      "source": [
        "# Preparing Data for Machine Learning Algorithms"
      ]
    },
    {
      "cell_type": "markdown",
      "id": "7d9c3efd",
      "metadata": {
        "id": "7d9c3efd"
      },
      "source": [
        "# Data Cleaning"
      ]
    },
    {
      "cell_type": "code",
      "execution_count": 17,
      "id": "fcc9219d",
      "metadata": {
        "id": "fcc9219d"
      },
      "outputs": [],
      "source": [
        "# List of columns to drop\n",
        "columns_to_drop = ['subject_id', 'admit_provider_id', 'quantity',  'procedures_icd_code']\n",
        "\n",
        "# Check for columns present in the DataFrame\n",
        "existing_columns_to_drop = [col for col in columns_to_drop if col in df.columns]\n",
        "\n",
        "# Drop the existing columns\n",
        "df.drop(existing_columns_to_drop, axis=1, inplace=True)\n"
      ]
    },
    {
      "cell_type": "code",
      "execution_count": 18,
      "id": "bf1f6b59",
      "metadata": {
        "colab": {
          "base_uri": "https://localhost:8080/",
          "height": 0
        },
        "id": "bf1f6b59",
        "outputId": "c0f42676-eb3b-4888-f4e0-df2fd227f50c"
      },
      "outputs": [
        {
          "output_type": "execute_result",
          "data": {
            "text/plain": [
              "   admission_type      admission_location discharge_location insurance  \\\n",
              "0          URGENT  TRANSFER FROM HOSPITAL               HOME     Other   \n",
              "1  EU OBSERVATION          EMERGENCY ROOM                NaN     Other   \n",
              "2        EW EMER.   WALK-IN/SELF REFERRAL   HOME HEALTH CARE  Medicare   \n",
              "3  EU OBSERVATION          EMERGENCY ROOM                NaN     Other   \n",
              "4  EU OBSERVATION          EMERGENCY ROOM                NaN     Other   \n",
              "\n",
              "  language marital_status   race  hospital_expire_flag  los_admission gender  \\\n",
              "0  ENGLISH        WIDOWED  WHITE                     0       0.786111      F   \n",
              "1  ENGLISH         SINGLE  WHITE                     0       0.298611      F   \n",
              "2  ENGLISH        MARRIED  WHITE                     0       4.538889      M   \n",
              "3  ENGLISH         SINGLE  WHITE                     0       0.407639      M   \n",
              "4  ENGLISH       DIVORCED  WHITE                     0       0.532639      F   \n",
              "\n",
              "   ...  drg_type drg_code                      medication     event_txt  \\\n",
              "0  ...       APR    283.0              Potassium Chloride  Administered   \n",
              "1  ...       NaN      NaN                             NaN           NaN   \n",
              "2  ...       APR     42.0                     Pramipexole  Administered   \n",
              "3  ...       NaN      NaN                             NaN           NaN   \n",
              "4  ...       APR    308.0  Influenza Vaccine Quadrivalent     Hold Dose   \n",
              "\n",
              "                  drug  route                              org_name  \\\n",
              "0        Acetaminophen  PO/NG                                   NaN   \n",
              "1                  NaN    NaN                                   NaN   \n",
              "2  QUEtiapine Fumarate  PO/NG                                   NaN   \n",
              "3                  NaN    NaN  ACTINOBACILLUS ACTINOMYCETEMCOMITANS   \n",
              "4              Heparin     SC                  CAMPYLOBACTER JEJUNI   \n",
              "\n",
              "                 test_name ab_name curr_service  \n",
              "0  TOXOPLASMA IgG ANTIBODY     NaN          MED  \n",
              "1                      NaN     NaN          MED  \n",
              "2   Blood Culture, Routine     NaN          MED  \n",
              "3            WOUND CULTURE     NaN          MED  \n",
              "4    CAMPYLOBACTER CULTURE     NaN          MED  \n",
              "\n",
              "[5 rows x 24 columns]"
            ],
            "text/html": [
              "\n",
              "  <div id=\"df-82a73114-79bb-4b5b-9a71-0646002840e1\" class=\"colab-df-container\">\n",
              "    <div>\n",
              "<style scoped>\n",
              "    .dataframe tbody tr th:only-of-type {\n",
              "        vertical-align: middle;\n",
              "    }\n",
              "\n",
              "    .dataframe tbody tr th {\n",
              "        vertical-align: top;\n",
              "    }\n",
              "\n",
              "    .dataframe thead th {\n",
              "        text-align: right;\n",
              "    }\n",
              "</style>\n",
              "<table border=\"1\" class=\"dataframe\">\n",
              "  <thead>\n",
              "    <tr style=\"text-align: right;\">\n",
              "      <th></th>\n",
              "      <th>admission_type</th>\n",
              "      <th>admission_location</th>\n",
              "      <th>discharge_location</th>\n",
              "      <th>insurance</th>\n",
              "      <th>language</th>\n",
              "      <th>marital_status</th>\n",
              "      <th>race</th>\n",
              "      <th>hospital_expire_flag</th>\n",
              "      <th>los_admission</th>\n",
              "      <th>gender</th>\n",
              "      <th>...</th>\n",
              "      <th>drg_type</th>\n",
              "      <th>drg_code</th>\n",
              "      <th>medication</th>\n",
              "      <th>event_txt</th>\n",
              "      <th>drug</th>\n",
              "      <th>route</th>\n",
              "      <th>org_name</th>\n",
              "      <th>test_name</th>\n",
              "      <th>ab_name</th>\n",
              "      <th>curr_service</th>\n",
              "    </tr>\n",
              "  </thead>\n",
              "  <tbody>\n",
              "    <tr>\n",
              "      <th>0</th>\n",
              "      <td>URGENT</td>\n",
              "      <td>TRANSFER FROM HOSPITAL</td>\n",
              "      <td>HOME</td>\n",
              "      <td>Other</td>\n",
              "      <td>ENGLISH</td>\n",
              "      <td>WIDOWED</td>\n",
              "      <td>WHITE</td>\n",
              "      <td>0</td>\n",
              "      <td>0.786111</td>\n",
              "      <td>F</td>\n",
              "      <td>...</td>\n",
              "      <td>APR</td>\n",
              "      <td>283.0</td>\n",
              "      <td>Potassium Chloride</td>\n",
              "      <td>Administered</td>\n",
              "      <td>Acetaminophen</td>\n",
              "      <td>PO/NG</td>\n",
              "      <td>NaN</td>\n",
              "      <td>TOXOPLASMA IgG ANTIBODY</td>\n",
              "      <td>NaN</td>\n",
              "      <td>MED</td>\n",
              "    </tr>\n",
              "    <tr>\n",
              "      <th>1</th>\n",
              "      <td>EU OBSERVATION</td>\n",
              "      <td>EMERGENCY ROOM</td>\n",
              "      <td>NaN</td>\n",
              "      <td>Other</td>\n",
              "      <td>ENGLISH</td>\n",
              "      <td>SINGLE</td>\n",
              "      <td>WHITE</td>\n",
              "      <td>0</td>\n",
              "      <td>0.298611</td>\n",
              "      <td>F</td>\n",
              "      <td>...</td>\n",
              "      <td>NaN</td>\n",
              "      <td>NaN</td>\n",
              "      <td>NaN</td>\n",
              "      <td>NaN</td>\n",
              "      <td>NaN</td>\n",
              "      <td>NaN</td>\n",
              "      <td>NaN</td>\n",
              "      <td>NaN</td>\n",
              "      <td>NaN</td>\n",
              "      <td>MED</td>\n",
              "    </tr>\n",
              "    <tr>\n",
              "      <th>2</th>\n",
              "      <td>EW EMER.</td>\n",
              "      <td>WALK-IN/SELF REFERRAL</td>\n",
              "      <td>HOME HEALTH CARE</td>\n",
              "      <td>Medicare</td>\n",
              "      <td>ENGLISH</td>\n",
              "      <td>MARRIED</td>\n",
              "      <td>WHITE</td>\n",
              "      <td>0</td>\n",
              "      <td>4.538889</td>\n",
              "      <td>M</td>\n",
              "      <td>...</td>\n",
              "      <td>APR</td>\n",
              "      <td>42.0</td>\n",
              "      <td>Pramipexole</td>\n",
              "      <td>Administered</td>\n",
              "      <td>QUEtiapine Fumarate</td>\n",
              "      <td>PO/NG</td>\n",
              "      <td>NaN</td>\n",
              "      <td>Blood Culture, Routine</td>\n",
              "      <td>NaN</td>\n",
              "      <td>MED</td>\n",
              "    </tr>\n",
              "    <tr>\n",
              "      <th>3</th>\n",
              "      <td>EU OBSERVATION</td>\n",
              "      <td>EMERGENCY ROOM</td>\n",
              "      <td>NaN</td>\n",
              "      <td>Other</td>\n",
              "      <td>ENGLISH</td>\n",
              "      <td>SINGLE</td>\n",
              "      <td>WHITE</td>\n",
              "      <td>0</td>\n",
              "      <td>0.407639</td>\n",
              "      <td>M</td>\n",
              "      <td>...</td>\n",
              "      <td>NaN</td>\n",
              "      <td>NaN</td>\n",
              "      <td>NaN</td>\n",
              "      <td>NaN</td>\n",
              "      <td>NaN</td>\n",
              "      <td>NaN</td>\n",
              "      <td>ACTINOBACILLUS ACTINOMYCETEMCOMITANS</td>\n",
              "      <td>WOUND CULTURE</td>\n",
              "      <td>NaN</td>\n",
              "      <td>MED</td>\n",
              "    </tr>\n",
              "    <tr>\n",
              "      <th>4</th>\n",
              "      <td>EU OBSERVATION</td>\n",
              "      <td>EMERGENCY ROOM</td>\n",
              "      <td>NaN</td>\n",
              "      <td>Other</td>\n",
              "      <td>ENGLISH</td>\n",
              "      <td>DIVORCED</td>\n",
              "      <td>WHITE</td>\n",
              "      <td>0</td>\n",
              "      <td>0.532639</td>\n",
              "      <td>F</td>\n",
              "      <td>...</td>\n",
              "      <td>APR</td>\n",
              "      <td>308.0</td>\n",
              "      <td>Influenza Vaccine Quadrivalent</td>\n",
              "      <td>Hold Dose</td>\n",
              "      <td>Heparin</td>\n",
              "      <td>SC</td>\n",
              "      <td>CAMPYLOBACTER JEJUNI</td>\n",
              "      <td>CAMPYLOBACTER CULTURE</td>\n",
              "      <td>NaN</td>\n",
              "      <td>MED</td>\n",
              "    </tr>\n",
              "  </tbody>\n",
              "</table>\n",
              "<p>5 rows × 24 columns</p>\n",
              "</div>\n",
              "    <div class=\"colab-df-buttons\">\n",
              "\n",
              "  <div class=\"colab-df-container\">\n",
              "    <button class=\"colab-df-convert\" onclick=\"convertToInteractive('df-82a73114-79bb-4b5b-9a71-0646002840e1')\"\n",
              "            title=\"Convert this dataframe to an interactive table.\"\n",
              "            style=\"display:none;\">\n",
              "\n",
              "  <svg xmlns=\"http://www.w3.org/2000/svg\" height=\"24px\" viewBox=\"0 -960 960 960\">\n",
              "    <path d=\"M120-120v-720h720v720H120Zm60-500h600v-160H180v160Zm220 220h160v-160H400v160Zm0 220h160v-160H400v160ZM180-400h160v-160H180v160Zm440 0h160v-160H620v160ZM180-180h160v-160H180v160Zm440 0h160v-160H620v160Z\"/>\n",
              "  </svg>\n",
              "    </button>\n",
              "\n",
              "  <style>\n",
              "    .colab-df-container {\n",
              "      display:flex;\n",
              "      gap: 12px;\n",
              "    }\n",
              "\n",
              "    .colab-df-convert {\n",
              "      background-color: #E8F0FE;\n",
              "      border: none;\n",
              "      border-radius: 50%;\n",
              "      cursor: pointer;\n",
              "      display: none;\n",
              "      fill: #1967D2;\n",
              "      height: 32px;\n",
              "      padding: 0 0 0 0;\n",
              "      width: 32px;\n",
              "    }\n",
              "\n",
              "    .colab-df-convert:hover {\n",
              "      background-color: #E2EBFA;\n",
              "      box-shadow: 0px 1px 2px rgba(60, 64, 67, 0.3), 0px 1px 3px 1px rgba(60, 64, 67, 0.15);\n",
              "      fill: #174EA6;\n",
              "    }\n",
              "\n",
              "    .colab-df-buttons div {\n",
              "      margin-bottom: 4px;\n",
              "    }\n",
              "\n",
              "    [theme=dark] .colab-df-convert {\n",
              "      background-color: #3B4455;\n",
              "      fill: #D2E3FC;\n",
              "    }\n",
              "\n",
              "    [theme=dark] .colab-df-convert:hover {\n",
              "      background-color: #434B5C;\n",
              "      box-shadow: 0px 1px 3px 1px rgba(0, 0, 0, 0.15);\n",
              "      filter: drop-shadow(0px 1px 2px rgba(0, 0, 0, 0.3));\n",
              "      fill: #FFFFFF;\n",
              "    }\n",
              "  </style>\n",
              "\n",
              "    <script>\n",
              "      const buttonEl =\n",
              "        document.querySelector('#df-82a73114-79bb-4b5b-9a71-0646002840e1 button.colab-df-convert');\n",
              "      buttonEl.style.display =\n",
              "        google.colab.kernel.accessAllowed ? 'block' : 'none';\n",
              "\n",
              "      async function convertToInteractive(key) {\n",
              "        const element = document.querySelector('#df-82a73114-79bb-4b5b-9a71-0646002840e1');\n",
              "        const dataTable =\n",
              "          await google.colab.kernel.invokeFunction('convertToInteractive',\n",
              "                                                    [key], {});\n",
              "        if (!dataTable) return;\n",
              "\n",
              "        const docLinkHtml = 'Like what you see? Visit the ' +\n",
              "          '<a target=\"_blank\" href=https://colab.research.google.com/notebooks/data_table.ipynb>data table notebook</a>'\n",
              "          + ' to learn more about interactive tables.';\n",
              "        element.innerHTML = '';\n",
              "        dataTable['output_type'] = 'display_data';\n",
              "        await google.colab.output.renderOutput(dataTable, element);\n",
              "        const docLink = document.createElement('div');\n",
              "        docLink.innerHTML = docLinkHtml;\n",
              "        element.appendChild(docLink);\n",
              "      }\n",
              "    </script>\n",
              "  </div>\n",
              "\n",
              "\n",
              "<div id=\"df-b4fa8e23-8d97-4cd5-b764-52d3414e8aa6\">\n",
              "  <button class=\"colab-df-quickchart\" onclick=\"quickchart('df-b4fa8e23-8d97-4cd5-b764-52d3414e8aa6')\"\n",
              "            title=\"Suggest charts\"\n",
              "            style=\"display:none;\">\n",
              "\n",
              "<svg xmlns=\"http://www.w3.org/2000/svg\" height=\"24px\"viewBox=\"0 0 24 24\"\n",
              "     width=\"24px\">\n",
              "    <g>\n",
              "        <path d=\"M19 3H5c-1.1 0-2 .9-2 2v14c0 1.1.9 2 2 2h14c1.1 0 2-.9 2-2V5c0-1.1-.9-2-2-2zM9 17H7v-7h2v7zm4 0h-2V7h2v10zm4 0h-2v-4h2v4z\"/>\n",
              "    </g>\n",
              "</svg>\n",
              "  </button>\n",
              "\n",
              "<style>\n",
              "  .colab-df-quickchart {\n",
              "      --bg-color: #E8F0FE;\n",
              "      --fill-color: #1967D2;\n",
              "      --hover-bg-color: #E2EBFA;\n",
              "      --hover-fill-color: #174EA6;\n",
              "      --disabled-fill-color: #AAA;\n",
              "      --disabled-bg-color: #DDD;\n",
              "  }\n",
              "\n",
              "  [theme=dark] .colab-df-quickchart {\n",
              "      --bg-color: #3B4455;\n",
              "      --fill-color: #D2E3FC;\n",
              "      --hover-bg-color: #434B5C;\n",
              "      --hover-fill-color: #FFFFFF;\n",
              "      --disabled-bg-color: #3B4455;\n",
              "      --disabled-fill-color: #666;\n",
              "  }\n",
              "\n",
              "  .colab-df-quickchart {\n",
              "    background-color: var(--bg-color);\n",
              "    border: none;\n",
              "    border-radius: 50%;\n",
              "    cursor: pointer;\n",
              "    display: none;\n",
              "    fill: var(--fill-color);\n",
              "    height: 32px;\n",
              "    padding: 0;\n",
              "    width: 32px;\n",
              "  }\n",
              "\n",
              "  .colab-df-quickchart:hover {\n",
              "    background-color: var(--hover-bg-color);\n",
              "    box-shadow: 0 1px 2px rgba(60, 64, 67, 0.3), 0 1px 3px 1px rgba(60, 64, 67, 0.15);\n",
              "    fill: var(--button-hover-fill-color);\n",
              "  }\n",
              "\n",
              "  .colab-df-quickchart-complete:disabled,\n",
              "  .colab-df-quickchart-complete:disabled:hover {\n",
              "    background-color: var(--disabled-bg-color);\n",
              "    fill: var(--disabled-fill-color);\n",
              "    box-shadow: none;\n",
              "  }\n",
              "\n",
              "  .colab-df-spinner {\n",
              "    border: 2px solid var(--fill-color);\n",
              "    border-color: transparent;\n",
              "    border-bottom-color: var(--fill-color);\n",
              "    animation:\n",
              "      spin 1s steps(1) infinite;\n",
              "  }\n",
              "\n",
              "  @keyframes spin {\n",
              "    0% {\n",
              "      border-color: transparent;\n",
              "      border-bottom-color: var(--fill-color);\n",
              "      border-left-color: var(--fill-color);\n",
              "    }\n",
              "    20% {\n",
              "      border-color: transparent;\n",
              "      border-left-color: var(--fill-color);\n",
              "      border-top-color: var(--fill-color);\n",
              "    }\n",
              "    30% {\n",
              "      border-color: transparent;\n",
              "      border-left-color: var(--fill-color);\n",
              "      border-top-color: var(--fill-color);\n",
              "      border-right-color: var(--fill-color);\n",
              "    }\n",
              "    40% {\n",
              "      border-color: transparent;\n",
              "      border-right-color: var(--fill-color);\n",
              "      border-top-color: var(--fill-color);\n",
              "    }\n",
              "    60% {\n",
              "      border-color: transparent;\n",
              "      border-right-color: var(--fill-color);\n",
              "    }\n",
              "    80% {\n",
              "      border-color: transparent;\n",
              "      border-right-color: var(--fill-color);\n",
              "      border-bottom-color: var(--fill-color);\n",
              "    }\n",
              "    90% {\n",
              "      border-color: transparent;\n",
              "      border-bottom-color: var(--fill-color);\n",
              "    }\n",
              "  }\n",
              "</style>\n",
              "\n",
              "  <script>\n",
              "    async function quickchart(key) {\n",
              "      const quickchartButtonEl =\n",
              "        document.querySelector('#' + key + ' button');\n",
              "      quickchartButtonEl.disabled = true;  // To prevent multiple clicks.\n",
              "      quickchartButtonEl.classList.add('colab-df-spinner');\n",
              "      try {\n",
              "        const charts = await google.colab.kernel.invokeFunction(\n",
              "            'suggestCharts', [key], {});\n",
              "      } catch (error) {\n",
              "        console.error('Error during call to suggestCharts:', error);\n",
              "      }\n",
              "      quickchartButtonEl.classList.remove('colab-df-spinner');\n",
              "      quickchartButtonEl.classList.add('colab-df-quickchart-complete');\n",
              "    }\n",
              "    (() => {\n",
              "      let quickchartButtonEl =\n",
              "        document.querySelector('#df-b4fa8e23-8d97-4cd5-b764-52d3414e8aa6 button');\n",
              "      quickchartButtonEl.style.display =\n",
              "        google.colab.kernel.accessAllowed ? 'block' : 'none';\n",
              "    })();\n",
              "  </script>\n",
              "</div>\n",
              "\n",
              "    </div>\n",
              "  </div>\n"
            ],
            "application/vnd.google.colaboratory.intrinsic+json": {
              "type": "dataframe",
              "variable_name": "df"
            }
          },
          "metadata": {},
          "execution_count": 18
        }
      ],
      "source": [
        "df.head()"
      ]
    },
    {
      "cell_type": "code",
      "execution_count": 19,
      "id": "e0301e96",
      "metadata": {
        "colab": {
          "base_uri": "https://localhost:8080/"
        },
        "id": "e0301e96",
        "outputId": "4b4d0ad8-52c5-47a7-df84-e921accdc030"
      },
      "outputs": [
        {
          "output_type": "execute_result",
          "data": {
            "text/plain": [
              "admission_type\n",
              "EW EMER.                       60396\n",
              "EU OBSERVATION                 43178\n",
              "URGENT                         22710\n",
              "OBSERVATION ADMIT              20827\n",
              "SURGICAL SAME DAY ADMISSION    15566\n",
              "DIRECT OBSERVATION              7228\n",
              "DIRECT EMER.                    4866\n",
              "ELECTIVE                        3530\n",
              "AMBULATORY OBSERVATION          2376\n",
              "Name: count, dtype: int64"
            ]
          },
          "metadata": {},
          "execution_count": 19
        }
      ],
      "source": [
        "df.admission_type.value_counts()"
      ]
    },
    {
      "cell_type": "code",
      "execution_count": 20,
      "id": "9daadced",
      "metadata": {
        "colab": {
          "base_uri": "https://localhost:8080/"
        },
        "id": "9daadced",
        "outputId": "f89d27ef-31ff-4814-b1ac-70a2302475f5"
      },
      "outputs": [
        {
          "output_type": "execute_result",
          "data": {
            "text/plain": [
              "0"
            ]
          },
          "metadata": {},
          "execution_count": 20
        }
      ],
      "source": [
        "df.admission_type.isna().sum()"
      ]
    },
    {
      "cell_type": "code",
      "execution_count": 21,
      "id": "349eb686",
      "metadata": {
        "colab": {
          "base_uri": "https://localhost:8080/"
        },
        "id": "349eb686",
        "outputId": "96e023cf-4b04-41b9-e820-e7cf4457d55a"
      },
      "outputs": [
        {
          "output_type": "execute_result",
          "data": {
            "text/plain": [
              "admission_location\n",
              "EMERGENCY ROOM                            96829\n",
              "PHYSICIAN REFERRAL                        46887\n",
              "TRANSFER FROM HOSPITAL                    20228\n",
              "WALK-IN/SELF REFERRAL                      6577\n",
              "CLINIC REFERRAL                            2717\n",
              "PROCEDURE SITE                             2673\n",
              "PACU                                       2094\n",
              "INTERNAL TRANSFER TO OR FROM PSYCH         1261\n",
              "TRANSFER FROM SKILLED NURSING FACILITY     1101\n",
              "INFORMATION NOT AVAILABLE                   217\n",
              "AMBULATORY SURGERY TRANSFER                  93\n",
              "Name: count, dtype: int64"
            ]
          },
          "metadata": {},
          "execution_count": 21
        }
      ],
      "source": [
        "df.admission_location.value_counts()"
      ]
    },
    {
      "cell_type": "code",
      "execution_count": 22,
      "id": "10fa4bce",
      "metadata": {
        "colab": {
          "base_uri": "https://localhost:8080/"
        },
        "id": "10fa4bce",
        "outputId": "0bfaa3df-7b10-49cb-e924-f44d870189e1"
      },
      "outputs": [
        {
          "output_type": "execute_result",
          "data": {
            "text/plain": [
              "0"
            ]
          },
          "metadata": {},
          "execution_count": 22
        }
      ],
      "source": [
        "df.admission_location.isna().sum()"
      ]
    },
    {
      "cell_type": "code",
      "execution_count": 23,
      "id": "71fd7620",
      "metadata": {
        "colab": {
          "base_uri": "https://localhost:8080/",
          "height": 0
        },
        "id": "71fd7620",
        "outputId": "3dd14c92-21be-458c-e4f2-d85653fe3c93"
      },
      "outputs": [
        {
          "output_type": "execute_result",
          "data": {
            "text/plain": [
              "   admission_type      admission_location discharge_location insurance  \\\n",
              "0          URGENT  TRANSFER FROM HOSPITAL               HOME     Other   \n",
              "1  EU OBSERVATION          EMERGENCY ROOM                NaN     Other   \n",
              "2        EW EMER.   WALK-IN/SELF REFERRAL   HOME HEALTH CARE  Medicare   \n",
              "3  EU OBSERVATION          EMERGENCY ROOM                NaN     Other   \n",
              "4  EU OBSERVATION          EMERGENCY ROOM                NaN     Other   \n",
              "\n",
              "  language marital_status   race  hospital_expire_flag  los_admission gender  \\\n",
              "0  ENGLISH        WIDOWED  WHITE                     0       0.786111      F   \n",
              "1  ENGLISH         SINGLE  WHITE                     0       0.298611      F   \n",
              "2  ENGLISH        MARRIED  WHITE                     0       4.538889      M   \n",
              "3  ENGLISH         SINGLE  WHITE                     0       0.407639      M   \n",
              "4  ENGLISH       DIVORCED  WHITE                     0       0.532639      F   \n",
              "\n",
              "   ...  drg_type drg_code                      medication     event_txt  \\\n",
              "0  ...       APR    283.0              Potassium Chloride  Administered   \n",
              "1  ...       NaN      NaN                             NaN           NaN   \n",
              "2  ...       APR     42.0                     Pramipexole  Administered   \n",
              "3  ...       NaN      NaN                             NaN           NaN   \n",
              "4  ...       APR    308.0  Influenza Vaccine Quadrivalent     Hold Dose   \n",
              "\n",
              "                  drug  route                              org_name  \\\n",
              "0        Acetaminophen  PO/NG                                   NaN   \n",
              "1                  NaN    NaN                                   NaN   \n",
              "2  QUEtiapine Fumarate  PO/NG                                   NaN   \n",
              "3                  NaN    NaN  ACTINOBACILLUS ACTINOMYCETEMCOMITANS   \n",
              "4              Heparin     SC                  CAMPYLOBACTER JEJUNI   \n",
              "\n",
              "                 test_name ab_name curr_service  \n",
              "0  TOXOPLASMA IgG ANTIBODY     NaN          MED  \n",
              "1                      NaN     NaN          MED  \n",
              "2   Blood Culture, Routine     NaN          MED  \n",
              "3            WOUND CULTURE     NaN          MED  \n",
              "4    CAMPYLOBACTER CULTURE     NaN          MED  \n",
              "\n",
              "[5 rows x 24 columns]"
            ],
            "text/html": [
              "\n",
              "  <div id=\"df-85da4b54-d0eb-4316-8712-aa74c464fe18\" class=\"colab-df-container\">\n",
              "    <div>\n",
              "<style scoped>\n",
              "    .dataframe tbody tr th:only-of-type {\n",
              "        vertical-align: middle;\n",
              "    }\n",
              "\n",
              "    .dataframe tbody tr th {\n",
              "        vertical-align: top;\n",
              "    }\n",
              "\n",
              "    .dataframe thead th {\n",
              "        text-align: right;\n",
              "    }\n",
              "</style>\n",
              "<table border=\"1\" class=\"dataframe\">\n",
              "  <thead>\n",
              "    <tr style=\"text-align: right;\">\n",
              "      <th></th>\n",
              "      <th>admission_type</th>\n",
              "      <th>admission_location</th>\n",
              "      <th>discharge_location</th>\n",
              "      <th>insurance</th>\n",
              "      <th>language</th>\n",
              "      <th>marital_status</th>\n",
              "      <th>race</th>\n",
              "      <th>hospital_expire_flag</th>\n",
              "      <th>los_admission</th>\n",
              "      <th>gender</th>\n",
              "      <th>...</th>\n",
              "      <th>drg_type</th>\n",
              "      <th>drg_code</th>\n",
              "      <th>medication</th>\n",
              "      <th>event_txt</th>\n",
              "      <th>drug</th>\n",
              "      <th>route</th>\n",
              "      <th>org_name</th>\n",
              "      <th>test_name</th>\n",
              "      <th>ab_name</th>\n",
              "      <th>curr_service</th>\n",
              "    </tr>\n",
              "  </thead>\n",
              "  <tbody>\n",
              "    <tr>\n",
              "      <th>0</th>\n",
              "      <td>URGENT</td>\n",
              "      <td>TRANSFER FROM HOSPITAL</td>\n",
              "      <td>HOME</td>\n",
              "      <td>Other</td>\n",
              "      <td>ENGLISH</td>\n",
              "      <td>WIDOWED</td>\n",
              "      <td>WHITE</td>\n",
              "      <td>0</td>\n",
              "      <td>0.786111</td>\n",
              "      <td>F</td>\n",
              "      <td>...</td>\n",
              "      <td>APR</td>\n",
              "      <td>283.0</td>\n",
              "      <td>Potassium Chloride</td>\n",
              "      <td>Administered</td>\n",
              "      <td>Acetaminophen</td>\n",
              "      <td>PO/NG</td>\n",
              "      <td>NaN</td>\n",
              "      <td>TOXOPLASMA IgG ANTIBODY</td>\n",
              "      <td>NaN</td>\n",
              "      <td>MED</td>\n",
              "    </tr>\n",
              "    <tr>\n",
              "      <th>1</th>\n",
              "      <td>EU OBSERVATION</td>\n",
              "      <td>EMERGENCY ROOM</td>\n",
              "      <td>NaN</td>\n",
              "      <td>Other</td>\n",
              "      <td>ENGLISH</td>\n",
              "      <td>SINGLE</td>\n",
              "      <td>WHITE</td>\n",
              "      <td>0</td>\n",
              "      <td>0.298611</td>\n",
              "      <td>F</td>\n",
              "      <td>...</td>\n",
              "      <td>NaN</td>\n",
              "      <td>NaN</td>\n",
              "      <td>NaN</td>\n",
              "      <td>NaN</td>\n",
              "      <td>NaN</td>\n",
              "      <td>NaN</td>\n",
              "      <td>NaN</td>\n",
              "      <td>NaN</td>\n",
              "      <td>NaN</td>\n",
              "      <td>MED</td>\n",
              "    </tr>\n",
              "    <tr>\n",
              "      <th>2</th>\n",
              "      <td>EW EMER.</td>\n",
              "      <td>WALK-IN/SELF REFERRAL</td>\n",
              "      <td>HOME HEALTH CARE</td>\n",
              "      <td>Medicare</td>\n",
              "      <td>ENGLISH</td>\n",
              "      <td>MARRIED</td>\n",
              "      <td>WHITE</td>\n",
              "      <td>0</td>\n",
              "      <td>4.538889</td>\n",
              "      <td>M</td>\n",
              "      <td>...</td>\n",
              "      <td>APR</td>\n",
              "      <td>42.0</td>\n",
              "      <td>Pramipexole</td>\n",
              "      <td>Administered</td>\n",
              "      <td>QUEtiapine Fumarate</td>\n",
              "      <td>PO/NG</td>\n",
              "      <td>NaN</td>\n",
              "      <td>Blood Culture, Routine</td>\n",
              "      <td>NaN</td>\n",
              "      <td>MED</td>\n",
              "    </tr>\n",
              "    <tr>\n",
              "      <th>3</th>\n",
              "      <td>EU OBSERVATION</td>\n",
              "      <td>EMERGENCY ROOM</td>\n",
              "      <td>NaN</td>\n",
              "      <td>Other</td>\n",
              "      <td>ENGLISH</td>\n",
              "      <td>SINGLE</td>\n",
              "      <td>WHITE</td>\n",
              "      <td>0</td>\n",
              "      <td>0.407639</td>\n",
              "      <td>M</td>\n",
              "      <td>...</td>\n",
              "      <td>NaN</td>\n",
              "      <td>NaN</td>\n",
              "      <td>NaN</td>\n",
              "      <td>NaN</td>\n",
              "      <td>NaN</td>\n",
              "      <td>NaN</td>\n",
              "      <td>ACTINOBACILLUS ACTINOMYCETEMCOMITANS</td>\n",
              "      <td>WOUND CULTURE</td>\n",
              "      <td>NaN</td>\n",
              "      <td>MED</td>\n",
              "    </tr>\n",
              "    <tr>\n",
              "      <th>4</th>\n",
              "      <td>EU OBSERVATION</td>\n",
              "      <td>EMERGENCY ROOM</td>\n",
              "      <td>NaN</td>\n",
              "      <td>Other</td>\n",
              "      <td>ENGLISH</td>\n",
              "      <td>DIVORCED</td>\n",
              "      <td>WHITE</td>\n",
              "      <td>0</td>\n",
              "      <td>0.532639</td>\n",
              "      <td>F</td>\n",
              "      <td>...</td>\n",
              "      <td>APR</td>\n",
              "      <td>308.0</td>\n",
              "      <td>Influenza Vaccine Quadrivalent</td>\n",
              "      <td>Hold Dose</td>\n",
              "      <td>Heparin</td>\n",
              "      <td>SC</td>\n",
              "      <td>CAMPYLOBACTER JEJUNI</td>\n",
              "      <td>CAMPYLOBACTER CULTURE</td>\n",
              "      <td>NaN</td>\n",
              "      <td>MED</td>\n",
              "    </tr>\n",
              "  </tbody>\n",
              "</table>\n",
              "<p>5 rows × 24 columns</p>\n",
              "</div>\n",
              "    <div class=\"colab-df-buttons\">\n",
              "\n",
              "  <div class=\"colab-df-container\">\n",
              "    <button class=\"colab-df-convert\" onclick=\"convertToInteractive('df-85da4b54-d0eb-4316-8712-aa74c464fe18')\"\n",
              "            title=\"Convert this dataframe to an interactive table.\"\n",
              "            style=\"display:none;\">\n",
              "\n",
              "  <svg xmlns=\"http://www.w3.org/2000/svg\" height=\"24px\" viewBox=\"0 -960 960 960\">\n",
              "    <path d=\"M120-120v-720h720v720H120Zm60-500h600v-160H180v160Zm220 220h160v-160H400v160Zm0 220h160v-160H400v160ZM180-400h160v-160H180v160Zm440 0h160v-160H620v160ZM180-180h160v-160H180v160Zm440 0h160v-160H620v160Z\"/>\n",
              "  </svg>\n",
              "    </button>\n",
              "\n",
              "  <style>\n",
              "    .colab-df-container {\n",
              "      display:flex;\n",
              "      gap: 12px;\n",
              "    }\n",
              "\n",
              "    .colab-df-convert {\n",
              "      background-color: #E8F0FE;\n",
              "      border: none;\n",
              "      border-radius: 50%;\n",
              "      cursor: pointer;\n",
              "      display: none;\n",
              "      fill: #1967D2;\n",
              "      height: 32px;\n",
              "      padding: 0 0 0 0;\n",
              "      width: 32px;\n",
              "    }\n",
              "\n",
              "    .colab-df-convert:hover {\n",
              "      background-color: #E2EBFA;\n",
              "      box-shadow: 0px 1px 2px rgba(60, 64, 67, 0.3), 0px 1px 3px 1px rgba(60, 64, 67, 0.15);\n",
              "      fill: #174EA6;\n",
              "    }\n",
              "\n",
              "    .colab-df-buttons div {\n",
              "      margin-bottom: 4px;\n",
              "    }\n",
              "\n",
              "    [theme=dark] .colab-df-convert {\n",
              "      background-color: #3B4455;\n",
              "      fill: #D2E3FC;\n",
              "    }\n",
              "\n",
              "    [theme=dark] .colab-df-convert:hover {\n",
              "      background-color: #434B5C;\n",
              "      box-shadow: 0px 1px 3px 1px rgba(0, 0, 0, 0.15);\n",
              "      filter: drop-shadow(0px 1px 2px rgba(0, 0, 0, 0.3));\n",
              "      fill: #FFFFFF;\n",
              "    }\n",
              "  </style>\n",
              "\n",
              "    <script>\n",
              "      const buttonEl =\n",
              "        document.querySelector('#df-85da4b54-d0eb-4316-8712-aa74c464fe18 button.colab-df-convert');\n",
              "      buttonEl.style.display =\n",
              "        google.colab.kernel.accessAllowed ? 'block' : 'none';\n",
              "\n",
              "      async function convertToInteractive(key) {\n",
              "        const element = document.querySelector('#df-85da4b54-d0eb-4316-8712-aa74c464fe18');\n",
              "        const dataTable =\n",
              "          await google.colab.kernel.invokeFunction('convertToInteractive',\n",
              "                                                    [key], {});\n",
              "        if (!dataTable) return;\n",
              "\n",
              "        const docLinkHtml = 'Like what you see? Visit the ' +\n",
              "          '<a target=\"_blank\" href=https://colab.research.google.com/notebooks/data_table.ipynb>data table notebook</a>'\n",
              "          + ' to learn more about interactive tables.';\n",
              "        element.innerHTML = '';\n",
              "        dataTable['output_type'] = 'display_data';\n",
              "        await google.colab.output.renderOutput(dataTable, element);\n",
              "        const docLink = document.createElement('div');\n",
              "        docLink.innerHTML = docLinkHtml;\n",
              "        element.appendChild(docLink);\n",
              "      }\n",
              "    </script>\n",
              "  </div>\n",
              "\n",
              "\n",
              "<div id=\"df-a1bd1ef6-1f48-46c8-97bc-e50d7bdcb40e\">\n",
              "  <button class=\"colab-df-quickchart\" onclick=\"quickchart('df-a1bd1ef6-1f48-46c8-97bc-e50d7bdcb40e')\"\n",
              "            title=\"Suggest charts\"\n",
              "            style=\"display:none;\">\n",
              "\n",
              "<svg xmlns=\"http://www.w3.org/2000/svg\" height=\"24px\"viewBox=\"0 0 24 24\"\n",
              "     width=\"24px\">\n",
              "    <g>\n",
              "        <path d=\"M19 3H5c-1.1 0-2 .9-2 2v14c0 1.1.9 2 2 2h14c1.1 0 2-.9 2-2V5c0-1.1-.9-2-2-2zM9 17H7v-7h2v7zm4 0h-2V7h2v10zm4 0h-2v-4h2v4z\"/>\n",
              "    </g>\n",
              "</svg>\n",
              "  </button>\n",
              "\n",
              "<style>\n",
              "  .colab-df-quickchart {\n",
              "      --bg-color: #E8F0FE;\n",
              "      --fill-color: #1967D2;\n",
              "      --hover-bg-color: #E2EBFA;\n",
              "      --hover-fill-color: #174EA6;\n",
              "      --disabled-fill-color: #AAA;\n",
              "      --disabled-bg-color: #DDD;\n",
              "  }\n",
              "\n",
              "  [theme=dark] .colab-df-quickchart {\n",
              "      --bg-color: #3B4455;\n",
              "      --fill-color: #D2E3FC;\n",
              "      --hover-bg-color: #434B5C;\n",
              "      --hover-fill-color: #FFFFFF;\n",
              "      --disabled-bg-color: #3B4455;\n",
              "      --disabled-fill-color: #666;\n",
              "  }\n",
              "\n",
              "  .colab-df-quickchart {\n",
              "    background-color: var(--bg-color);\n",
              "    border: none;\n",
              "    border-radius: 50%;\n",
              "    cursor: pointer;\n",
              "    display: none;\n",
              "    fill: var(--fill-color);\n",
              "    height: 32px;\n",
              "    padding: 0;\n",
              "    width: 32px;\n",
              "  }\n",
              "\n",
              "  .colab-df-quickchart:hover {\n",
              "    background-color: var(--hover-bg-color);\n",
              "    box-shadow: 0 1px 2px rgba(60, 64, 67, 0.3), 0 1px 3px 1px rgba(60, 64, 67, 0.15);\n",
              "    fill: var(--button-hover-fill-color);\n",
              "  }\n",
              "\n",
              "  .colab-df-quickchart-complete:disabled,\n",
              "  .colab-df-quickchart-complete:disabled:hover {\n",
              "    background-color: var(--disabled-bg-color);\n",
              "    fill: var(--disabled-fill-color);\n",
              "    box-shadow: none;\n",
              "  }\n",
              "\n",
              "  .colab-df-spinner {\n",
              "    border: 2px solid var(--fill-color);\n",
              "    border-color: transparent;\n",
              "    border-bottom-color: var(--fill-color);\n",
              "    animation:\n",
              "      spin 1s steps(1) infinite;\n",
              "  }\n",
              "\n",
              "  @keyframes spin {\n",
              "    0% {\n",
              "      border-color: transparent;\n",
              "      border-bottom-color: var(--fill-color);\n",
              "      border-left-color: var(--fill-color);\n",
              "    }\n",
              "    20% {\n",
              "      border-color: transparent;\n",
              "      border-left-color: var(--fill-color);\n",
              "      border-top-color: var(--fill-color);\n",
              "    }\n",
              "    30% {\n",
              "      border-color: transparent;\n",
              "      border-left-color: var(--fill-color);\n",
              "      border-top-color: var(--fill-color);\n",
              "      border-right-color: var(--fill-color);\n",
              "    }\n",
              "    40% {\n",
              "      border-color: transparent;\n",
              "      border-right-color: var(--fill-color);\n",
              "      border-top-color: var(--fill-color);\n",
              "    }\n",
              "    60% {\n",
              "      border-color: transparent;\n",
              "      border-right-color: var(--fill-color);\n",
              "    }\n",
              "    80% {\n",
              "      border-color: transparent;\n",
              "      border-right-color: var(--fill-color);\n",
              "      border-bottom-color: var(--fill-color);\n",
              "    }\n",
              "    90% {\n",
              "      border-color: transparent;\n",
              "      border-bottom-color: var(--fill-color);\n",
              "    }\n",
              "  }\n",
              "</style>\n",
              "\n",
              "  <script>\n",
              "    async function quickchart(key) {\n",
              "      const quickchartButtonEl =\n",
              "        document.querySelector('#' + key + ' button');\n",
              "      quickchartButtonEl.disabled = true;  // To prevent multiple clicks.\n",
              "      quickchartButtonEl.classList.add('colab-df-spinner');\n",
              "      try {\n",
              "        const charts = await google.colab.kernel.invokeFunction(\n",
              "            'suggestCharts', [key], {});\n",
              "      } catch (error) {\n",
              "        console.error('Error during call to suggestCharts:', error);\n",
              "      }\n",
              "      quickchartButtonEl.classList.remove('colab-df-spinner');\n",
              "      quickchartButtonEl.classList.add('colab-df-quickchart-complete');\n",
              "    }\n",
              "    (() => {\n",
              "      let quickchartButtonEl =\n",
              "        document.querySelector('#df-a1bd1ef6-1f48-46c8-97bc-e50d7bdcb40e button');\n",
              "      quickchartButtonEl.style.display =\n",
              "        google.colab.kernel.accessAllowed ? 'block' : 'none';\n",
              "    })();\n",
              "  </script>\n",
              "</div>\n",
              "\n",
              "    </div>\n",
              "  </div>\n"
            ],
            "application/vnd.google.colaboratory.intrinsic+json": {
              "type": "dataframe",
              "variable_name": "df"
            }
          },
          "metadata": {},
          "execution_count": 23
        }
      ],
      "source": [
        "df = generic_util_instance.replace_nan(df, 'admission_location', 'Other')\n",
        "df.head()"
      ]
    },
    {
      "cell_type": "code",
      "execution_count": 24,
      "id": "ba8ad208",
      "metadata": {
        "colab": {
          "base_uri": "https://localhost:8080/"
        },
        "id": "ba8ad208",
        "outputId": "67f9817a-3291-4a09-c154-7e98d03666ad"
      },
      "outputs": [
        {
          "output_type": "execute_result",
          "data": {
            "text/plain": [
              "(180677, 24)"
            ]
          },
          "metadata": {},
          "execution_count": 24
        }
      ],
      "source": [
        "df.shape"
      ]
    },
    {
      "cell_type": "code",
      "execution_count": 25,
      "id": "810949a2",
      "metadata": {
        "colab": {
          "base_uri": "https://localhost:8080/"
        },
        "id": "810949a2",
        "outputId": "7ff83765-5f3f-4ef3-aca7-e8cc26bcde63"
      },
      "outputs": [
        {
          "output_type": "execute_result",
          "data": {
            "text/plain": [
              "admission_location\n",
              "EMERGENCY ROOM            96829\n",
              "PHYSICIAN REFERRAL        46887\n",
              "TRANSFER FROM HOSPITAL    20228\n",
              "Other                     10156\n",
              "WALK-IN/SELF REFERRAL      6577\n",
              "Name: count, dtype: int64"
            ]
          },
          "metadata": {},
          "execution_count": 25
        }
      ],
      "source": [
        "df = generic_util_instance.replace_column_value(df, 'admission_location', 3000, 'Other')\n",
        "df.admission_location.value_counts()"
      ]
    },
    {
      "cell_type": "code",
      "execution_count": 26,
      "id": "3c9253d5",
      "metadata": {
        "colab": {
          "base_uri": "https://localhost:8080/"
        },
        "id": "3c9253d5",
        "outputId": "6e309fad-b202-4db6-da99-42a5bafd985f"
      },
      "outputs": [
        {
          "output_type": "execute_result",
          "data": {
            "text/plain": [
              "52334"
            ]
          },
          "metadata": {},
          "execution_count": 26
        }
      ],
      "source": [
        "df.discharge_location.isna().sum()"
      ]
    },
    {
      "cell_type": "code",
      "execution_count": 27,
      "id": "234d7800",
      "metadata": {
        "colab": {
          "base_uri": "https://localhost:8080/"
        },
        "id": "234d7800",
        "outputId": "3b809ce1-f9ef-4bac-b9ec-6afb90f47549"
      },
      "outputs": [
        {
          "output_type": "execute_result",
          "data": {
            "text/plain": [
              "discharge_location\n",
              "HOME                            67908\n",
              "HOME HEALTH CARE                25796\n",
              "SKILLED NURSING FACILITY        16844\n",
              "REHAB                            5354\n",
              "DIED                             5106\n",
              "CHRONIC/LONG TERM ACUTE CARE     2484\n",
              "HOSPICE                          1469\n",
              "PSYCH FACILITY                    980\n",
              "AGAINST ADVICE                    832\n",
              "ACUTE HOSPITAL                    796\n",
              "OTHER FACILITY                    540\n",
              "ASSISTED LIVING                   211\n",
              "HEALTHCARE FACILITY                23\n",
              "Name: count, dtype: int64"
            ]
          },
          "metadata": {},
          "execution_count": 27
        }
      ],
      "source": [
        "df.discharge_location.value_counts()"
      ]
    },
    {
      "cell_type": "code",
      "execution_count": 28,
      "id": "4a1a2338",
      "metadata": {
        "colab": {
          "base_uri": "https://localhost:8080/"
        },
        "id": "4a1a2338",
        "outputId": "5a56210a-4c81-4a86-b2ac-461606c225c6"
      },
      "outputs": [
        {
          "output_type": "execute_result",
          "data": {
            "text/plain": [
              "discharge_location\n",
              "HOME                            67908\n",
              "Other                           57185\n",
              "HOME HEALTH CARE                25796\n",
              "SKILLED NURSING FACILITY        16844\n",
              "REHAB                            5354\n",
              "DIED                             5106\n",
              "CHRONIC/LONG TERM ACUTE CARE     2484\n",
              "Name: count, dtype: int64"
            ]
          },
          "metadata": {},
          "execution_count": 28
        }
      ],
      "source": [
        "df = generic_util_instance.replace_nan(df, 'discharge_location', 'Other')\n",
        "df = generic_util_instance.replace_column_value(df, 'discharge_location', 2000, 'Other')\n",
        "df.discharge_location.value_counts()"
      ]
    },
    {
      "cell_type": "code",
      "source": [
        "df.discharge_location.isna().sum()"
      ],
      "metadata": {
        "colab": {
          "base_uri": "https://localhost:8080/"
        },
        "id": "5wln2rM4vZEO",
        "outputId": "ae71b3fc-3b67-4346-8e25-59961ea36606"
      },
      "id": "5wln2rM4vZEO",
      "execution_count": 29,
      "outputs": [
        {
          "output_type": "execute_result",
          "data": {
            "text/plain": [
              "0"
            ]
          },
          "metadata": {},
          "execution_count": 29
        }
      ]
    },
    {
      "cell_type": "code",
      "execution_count": 30,
      "id": "a2aafa9d",
      "metadata": {
        "colab": {
          "base_uri": "https://localhost:8080/"
        },
        "id": "a2aafa9d",
        "outputId": "6fa136bb-a8a2-40b1-e6f0-ea8917454bf1"
      },
      "outputs": [
        {
          "output_type": "execute_result",
          "data": {
            "text/plain": [
              "insurance\n",
              "Other       110008\n",
              "Medicare     55577\n",
              "Medicaid     15092\n",
              "Name: count, dtype: int64"
            ]
          },
          "metadata": {},
          "execution_count": 30
        }
      ],
      "source": [
        "df.insurance.value_counts()"
      ]
    },
    {
      "cell_type": "code",
      "execution_count": 31,
      "id": "127e91ae",
      "metadata": {
        "colab": {
          "base_uri": "https://localhost:8080/"
        },
        "id": "127e91ae",
        "outputId": "22a0159e-94f5-429e-f461-d415c5536996"
      },
      "outputs": [
        {
          "output_type": "execute_result",
          "data": {
            "text/plain": [
              "0"
            ]
          },
          "metadata": {},
          "execution_count": 31
        }
      ],
      "source": [
        "df.insurance.isna().sum()"
      ]
    },
    {
      "cell_type": "code",
      "execution_count": 32,
      "id": "9252f052",
      "metadata": {
        "colab": {
          "base_uri": "https://localhost:8080/"
        },
        "id": "9252f052",
        "outputId": "3bb40747-28dc-45b8-8a33-786abd3561b9"
      },
      "outputs": [
        {
          "output_type": "execute_result",
          "data": {
            "text/plain": [
              "0"
            ]
          },
          "metadata": {},
          "execution_count": 32
        }
      ],
      "source": [
        "df.language.isna().sum()"
      ]
    },
    {
      "cell_type": "code",
      "execution_count": 33,
      "id": "cf16c992",
      "metadata": {
        "colab": {
          "base_uri": "https://localhost:8080/"
        },
        "id": "cf16c992",
        "outputId": "20cd409f-5c5b-4cf9-f467-f80339b57aa4"
      },
      "outputs": [
        {
          "output_type": "execute_result",
          "data": {
            "text/plain": [
              "language\n",
              "ENGLISH    163350\n",
              "?           17327\n",
              "Name: count, dtype: int64"
            ]
          },
          "metadata": {},
          "execution_count": 33
        }
      ],
      "source": [
        "df.language.value_counts()"
      ]
    },
    {
      "cell_type": "code",
      "execution_count": 34,
      "id": "e5cf798b",
      "metadata": {
        "colab": {
          "base_uri": "https://localhost:8080/"
        },
        "id": "e5cf798b",
        "outputId": "cb316867-1e12-4503-8cf1-772d7fe7c3fe"
      },
      "outputs": [
        {
          "output_type": "execute_result",
          "data": {
            "text/plain": [
              "language\n",
              "ENGLISH    163350\n",
              "Other       17327\n",
              "Name: count, dtype: int64"
            ]
          },
          "metadata": {},
          "execution_count": 34
        }
      ],
      "source": [
        "df = generic_util_instance.replace_column_value(df, 'language', 23000, 'Other')\n",
        "df.language.value_counts()"
      ]
    },
    {
      "cell_type": "code",
      "execution_count": 35,
      "id": "bacd9ebd",
      "metadata": {
        "colab": {
          "base_uri": "https://localhost:8080/"
        },
        "id": "bacd9ebd",
        "outputId": "483a0901-d048-44ab-afa2-a53fd70cdee3"
      },
      "outputs": [
        {
          "output_type": "execute_result",
          "data": {
            "text/plain": [
              "7252"
            ]
          },
          "metadata": {},
          "execution_count": 35
        }
      ],
      "source": [
        "df.marital_status.isna().sum()"
      ]
    },
    {
      "cell_type": "code",
      "execution_count": 36,
      "id": "b0e2e08d",
      "metadata": {
        "colab": {
          "base_uri": "https://localhost:8080/"
        },
        "id": "b0e2e08d",
        "outputId": "ab7302cc-ce33-4fb9-a1bc-c7347f09edcb"
      },
      "outputs": [
        {
          "output_type": "execute_result",
          "data": {
            "text/plain": [
              "marital_status\n",
              "MARRIED     77798\n",
              "SINGLE      67537\n",
              "WIDOWED     16725\n",
              "DIVORCED    11365\n",
              "Name: count, dtype: int64"
            ]
          },
          "metadata": {},
          "execution_count": 36
        }
      ],
      "source": [
        "df.marital_status.value_counts()"
      ]
    },
    {
      "cell_type": "code",
      "execution_count": 37,
      "id": "0d034344",
      "metadata": {
        "colab": {
          "base_uri": "https://localhost:8080/"
        },
        "id": "0d034344",
        "outputId": "add285db-5e2e-49ad-8381-2d97ab57a1bc"
      },
      "outputs": [
        {
          "output_type": "execute_result",
          "data": {
            "text/plain": [
              "marital_status\n",
              "MARRIED     77798\n",
              "SINGLE      67537\n",
              "WIDOWED     16725\n",
              "DIVORCED    11365\n",
              "Other        7252\n",
              "Name: count, dtype: int64"
            ]
          },
          "metadata": {},
          "execution_count": 37
        }
      ],
      "source": [
        "df = generic_util_instance.replace_nan(df, 'marital_status', 'Other')\n",
        "df.marital_status.value_counts()"
      ]
    },
    {
      "cell_type": "code",
      "source": [
        "df.marital_status.isna().sum()"
      ],
      "metadata": {
        "colab": {
          "base_uri": "https://localhost:8080/"
        },
        "id": "fRbNC1s9vjv_",
        "outputId": "00badbd7-3c9d-4e26-e567-8daa30e995de"
      },
      "id": "fRbNC1s9vjv_",
      "execution_count": 38,
      "outputs": [
        {
          "output_type": "execute_result",
          "data": {
            "text/plain": [
              "0"
            ]
          },
          "metadata": {},
          "execution_count": 38
        }
      ]
    },
    {
      "cell_type": "code",
      "execution_count": 39,
      "id": "4314629a",
      "metadata": {
        "colab": {
          "base_uri": "https://localhost:8080/"
        },
        "id": "4314629a",
        "outputId": "148fcccf-d945-4908-aa45-404236f7198f"
      },
      "outputs": [
        {
          "output_type": "execute_result",
          "data": {
            "text/plain": [
              "hospital_expire_flag\n",
              "0    175506\n",
              "1      5171\n",
              "Name: count, dtype: int64"
            ]
          },
          "metadata": {},
          "execution_count": 39
        }
      ],
      "source": [
        "df.hospital_expire_flag.value_counts()"
      ]
    },
    {
      "cell_type": "code",
      "execution_count": 40,
      "id": "80393c66",
      "metadata": {
        "colab": {
          "base_uri": "https://localhost:8080/"
        },
        "id": "80393c66",
        "outputId": "cbd4595e-d70b-4b29-81b2-1422cefc785a"
      },
      "outputs": [
        {
          "output_type": "execute_result",
          "data": {
            "text/plain": [
              "0"
            ]
          },
          "metadata": {},
          "execution_count": 40
        }
      ],
      "source": [
        "df.hospital_expire_flag.isna().sum()"
      ]
    },
    {
      "cell_type": "code",
      "execution_count": 41,
      "id": "455ecbca",
      "metadata": {
        "colab": {
          "base_uri": "https://localhost:8080/"
        },
        "id": "455ecbca",
        "outputId": "f4f2ed9a-c88a-44c4-847f-312c5202f1c0"
      },
      "outputs": [
        {
          "output_type": "execute_result",
          "data": {
            "text/plain": [
              "gender\n",
              "F    95698\n",
              "M    84979\n",
              "Name: count, dtype: int64"
            ]
          },
          "metadata": {},
          "execution_count": 41
        }
      ],
      "source": [
        "df.gender.value_counts()"
      ]
    },
    {
      "cell_type": "code",
      "execution_count": 42,
      "id": "9980e6ac",
      "metadata": {
        "colab": {
          "base_uri": "https://localhost:8080/"
        },
        "id": "9980e6ac",
        "outputId": "4522677d-803b-406a-e2c3-0c52f97db9a5"
      },
      "outputs": [
        {
          "output_type": "execute_result",
          "data": {
            "text/plain": [
              "0"
            ]
          },
          "metadata": {},
          "execution_count": 42
        }
      ],
      "source": [
        "df.gender.isna().sum()"
      ]
    },
    {
      "cell_type": "code",
      "execution_count": 43,
      "id": "d53556a3",
      "metadata": {
        "colab": {
          "base_uri": "https://localhost:8080/"
        },
        "id": "d53556a3",
        "outputId": "bb1af26a-8315-44b9-d8a1-4952259c6109"
      },
      "outputs": [
        {
          "output_type": "execute_result",
          "data": {
            "text/plain": [
              "0"
            ]
          },
          "metadata": {},
          "execution_count": 43
        }
      ],
      "source": [
        "df.anchor_age.isna().sum()"
      ]
    },
    {
      "cell_type": "code",
      "execution_count": 44,
      "id": "bc669467",
      "metadata": {
        "colab": {
          "base_uri": "https://localhost:8080/"
        },
        "id": "bc669467",
        "outputId": "36736e59-7665-4322-b1ef-0355dbf465fd"
      },
      "outputs": [
        {
          "output_type": "execute_result",
          "data": {
            "text/plain": [
              "0"
            ]
          },
          "metadata": {},
          "execution_count": 44
        }
      ],
      "source": [
        "df.eventtype.isna().sum()"
      ]
    },
    {
      "cell_type": "code",
      "execution_count": 45,
      "id": "976ab5cc",
      "metadata": {
        "colab": {
          "base_uri": "https://localhost:8080/"
        },
        "id": "976ab5cc",
        "outputId": "50145f09-8b14-49fb-9ae3-919d98c2b575"
      },
      "outputs": [
        {
          "output_type": "execute_result",
          "data": {
            "text/plain": [
              "eventtype\n",
              "admit        54394\n",
              "discharge    54307\n",
              "transfer     36120\n",
              "ED           35856\n",
              "Name: count, dtype: int64"
            ]
          },
          "metadata": {},
          "execution_count": 45
        }
      ],
      "source": [
        "df.eventtype.value_counts()"
      ]
    },
    {
      "cell_type": "code",
      "execution_count": 46,
      "id": "4fcf0369",
      "metadata": {
        "colab": {
          "base_uri": "https://localhost:8080/"
        },
        "id": "4fcf0369",
        "outputId": "ba12f806-caf8-402a-e9b5-31cc55f17065"
      },
      "outputs": [
        {
          "output_type": "execute_result",
          "data": {
            "text/plain": [
              "54307"
            ]
          },
          "metadata": {},
          "execution_count": 46
        }
      ],
      "source": [
        "df.careunit.isna().sum()"
      ]
    },
    {
      "cell_type": "code",
      "execution_count": 47,
      "id": "14665d64",
      "metadata": {
        "colab": {
          "base_uri": "https://localhost:8080/"
        },
        "id": "14665d64",
        "outputId": "8466123a-3fa5-4e53-ef3c-fcfd9e2bdb25"
      },
      "outputs": [
        {
          "output_type": "execute_result",
          "data": {
            "text/plain": [
              "careunit\n",
              "Emergency Department                                35856\n",
              "Medicine                                            14181\n",
              "Emergency Department Observation                    11299\n",
              "Discharge Lounge                                     5909\n",
              "Neurology                                            4902\n",
              "Med/Surg                                             4823\n",
              "Medicine/Cardiology                                  4539\n",
              "Labor & Delivery                                     3613\n",
              "Med/Surg/Trauma                                      3316\n",
              "Med/Surg/GYN                                         3089\n",
              "Vascular                                             2588\n",
              "Obstetrics (Postpartum & Antepartum)                 2524\n",
              "Surgery/Trauma                                       2412\n",
              "PACU                                                 2356\n",
              "Hematology/Oncology                                  2176\n",
              "Transplant                                           1983\n",
              "Cardiac Surgery                                      1954\n",
              "Medical Intensive Care Unit (MICU)                   1926\n",
              "Cardiac Vascular Intensive Care Unit (CVICU)         1750\n",
              "Surgical Intensive Care Unit (SICU)                  1503\n",
              "Medical/Surgical Intensive Care Unit (MICU/SICU)     1395\n",
              "Trauma SICU (TSICU)                                  1367\n",
              "Psychiatry                                           1280\n",
              "Coronary Care Unit (CCU)                             1237\n",
              "Medical/Surgical (Gynecology)                        1198\n",
              "Surgery                                              1160\n",
              "Surgery/Pancreatic/Biliary/Bariatric                  933\n",
              "Obstetrics Postpartum                                 725\n",
              "Medicine/Cardiology Intermediate                      676\n",
              "Hematology/Oncology Intermediate                      663\n",
              "Observation                                           589\n",
              "Cardiology Surgery Intermediate                       580\n",
              "Neuro Intermediate                                    551\n",
              "Neuro Surgical Intensive Care Unit (Neuro SICU)       296\n",
              "Thoracic Surgery                                      288\n",
              "Neuro Stepdown                                        287\n",
              "Cardiology                                            263\n",
              "Obstetrics Antepartum                                 165\n",
              "Unknown                                                18\n",
              "Name: count, dtype: int64"
            ]
          },
          "metadata": {},
          "execution_count": 47
        }
      ],
      "source": [
        "df.careunit.value_counts()"
      ]
    },
    {
      "cell_type": "code",
      "execution_count": 48,
      "id": "4a7d8376",
      "metadata": {
        "colab": {
          "base_uri": "https://localhost:8080/",
          "height": 0
        },
        "id": "4a7d8376",
        "outputId": "62291b87-a37e-42bd-8bee-1a0aeb1e4d23"
      },
      "outputs": [
        {
          "output_type": "execute_result",
          "data": {
            "text/plain": [
              "   admission_type      admission_location discharge_location insurance  \\\n",
              "0          URGENT  TRANSFER FROM HOSPITAL               HOME     Other   \n",
              "1  EU OBSERVATION          EMERGENCY ROOM              Other     Other   \n",
              "2        EW EMER.   WALK-IN/SELF REFERRAL   HOME HEALTH CARE  Medicare   \n",
              "3  EU OBSERVATION          EMERGENCY ROOM              Other     Other   \n",
              "4  EU OBSERVATION          EMERGENCY ROOM              Other     Other   \n",
              "\n",
              "  language marital_status   race  hospital_expire_flag  los_admission gender  \\\n",
              "0  ENGLISH        WIDOWED  WHITE                     0       0.786111      F   \n",
              "1  ENGLISH         SINGLE  WHITE                     0       0.298611      F   \n",
              "2  ENGLISH        MARRIED  WHITE                     0       4.538889      M   \n",
              "3  ENGLISH         SINGLE  WHITE                     0       0.407639      M   \n",
              "4  ENGLISH       DIVORCED  WHITE                     0       0.532639      F   \n",
              "\n",
              "   ...  drg_type drg_code                      medication     event_txt  \\\n",
              "0  ...       APR    283.0              Potassium Chloride  Administered   \n",
              "1  ...       NaN      NaN                             NaN           NaN   \n",
              "2  ...       APR     42.0                     Pramipexole  Administered   \n",
              "3  ...       NaN      NaN                             NaN           NaN   \n",
              "4  ...       APR    308.0  Influenza Vaccine Quadrivalent     Hold Dose   \n",
              "\n",
              "                  drug  route                              org_name  \\\n",
              "0        Acetaminophen  PO/NG                                   NaN   \n",
              "1                  NaN    NaN                                   NaN   \n",
              "2  QUEtiapine Fumarate  PO/NG                                   NaN   \n",
              "3                  NaN    NaN  ACTINOBACILLUS ACTINOMYCETEMCOMITANS   \n",
              "4              Heparin     SC                  CAMPYLOBACTER JEJUNI   \n",
              "\n",
              "                 test_name ab_name curr_service  \n",
              "0  TOXOPLASMA IgG ANTIBODY     NaN          MED  \n",
              "1                      NaN     NaN          MED  \n",
              "2   Blood Culture, Routine     NaN          MED  \n",
              "3            WOUND CULTURE     NaN          MED  \n",
              "4    CAMPYLOBACTER CULTURE     NaN          MED  \n",
              "\n",
              "[5 rows x 24 columns]"
            ],
            "text/html": [
              "\n",
              "  <div id=\"df-640a1b66-1343-455a-be49-e8351c46b192\" class=\"colab-df-container\">\n",
              "    <div>\n",
              "<style scoped>\n",
              "    .dataframe tbody tr th:only-of-type {\n",
              "        vertical-align: middle;\n",
              "    }\n",
              "\n",
              "    .dataframe tbody tr th {\n",
              "        vertical-align: top;\n",
              "    }\n",
              "\n",
              "    .dataframe thead th {\n",
              "        text-align: right;\n",
              "    }\n",
              "</style>\n",
              "<table border=\"1\" class=\"dataframe\">\n",
              "  <thead>\n",
              "    <tr style=\"text-align: right;\">\n",
              "      <th></th>\n",
              "      <th>admission_type</th>\n",
              "      <th>admission_location</th>\n",
              "      <th>discharge_location</th>\n",
              "      <th>insurance</th>\n",
              "      <th>language</th>\n",
              "      <th>marital_status</th>\n",
              "      <th>race</th>\n",
              "      <th>hospital_expire_flag</th>\n",
              "      <th>los_admission</th>\n",
              "      <th>gender</th>\n",
              "      <th>...</th>\n",
              "      <th>drg_type</th>\n",
              "      <th>drg_code</th>\n",
              "      <th>medication</th>\n",
              "      <th>event_txt</th>\n",
              "      <th>drug</th>\n",
              "      <th>route</th>\n",
              "      <th>org_name</th>\n",
              "      <th>test_name</th>\n",
              "      <th>ab_name</th>\n",
              "      <th>curr_service</th>\n",
              "    </tr>\n",
              "  </thead>\n",
              "  <tbody>\n",
              "    <tr>\n",
              "      <th>0</th>\n",
              "      <td>URGENT</td>\n",
              "      <td>TRANSFER FROM HOSPITAL</td>\n",
              "      <td>HOME</td>\n",
              "      <td>Other</td>\n",
              "      <td>ENGLISH</td>\n",
              "      <td>WIDOWED</td>\n",
              "      <td>WHITE</td>\n",
              "      <td>0</td>\n",
              "      <td>0.786111</td>\n",
              "      <td>F</td>\n",
              "      <td>...</td>\n",
              "      <td>APR</td>\n",
              "      <td>283.0</td>\n",
              "      <td>Potassium Chloride</td>\n",
              "      <td>Administered</td>\n",
              "      <td>Acetaminophen</td>\n",
              "      <td>PO/NG</td>\n",
              "      <td>NaN</td>\n",
              "      <td>TOXOPLASMA IgG ANTIBODY</td>\n",
              "      <td>NaN</td>\n",
              "      <td>MED</td>\n",
              "    </tr>\n",
              "    <tr>\n",
              "      <th>1</th>\n",
              "      <td>EU OBSERVATION</td>\n",
              "      <td>EMERGENCY ROOM</td>\n",
              "      <td>Other</td>\n",
              "      <td>Other</td>\n",
              "      <td>ENGLISH</td>\n",
              "      <td>SINGLE</td>\n",
              "      <td>WHITE</td>\n",
              "      <td>0</td>\n",
              "      <td>0.298611</td>\n",
              "      <td>F</td>\n",
              "      <td>...</td>\n",
              "      <td>NaN</td>\n",
              "      <td>NaN</td>\n",
              "      <td>NaN</td>\n",
              "      <td>NaN</td>\n",
              "      <td>NaN</td>\n",
              "      <td>NaN</td>\n",
              "      <td>NaN</td>\n",
              "      <td>NaN</td>\n",
              "      <td>NaN</td>\n",
              "      <td>MED</td>\n",
              "    </tr>\n",
              "    <tr>\n",
              "      <th>2</th>\n",
              "      <td>EW EMER.</td>\n",
              "      <td>WALK-IN/SELF REFERRAL</td>\n",
              "      <td>HOME HEALTH CARE</td>\n",
              "      <td>Medicare</td>\n",
              "      <td>ENGLISH</td>\n",
              "      <td>MARRIED</td>\n",
              "      <td>WHITE</td>\n",
              "      <td>0</td>\n",
              "      <td>4.538889</td>\n",
              "      <td>M</td>\n",
              "      <td>...</td>\n",
              "      <td>APR</td>\n",
              "      <td>42.0</td>\n",
              "      <td>Pramipexole</td>\n",
              "      <td>Administered</td>\n",
              "      <td>QUEtiapine Fumarate</td>\n",
              "      <td>PO/NG</td>\n",
              "      <td>NaN</td>\n",
              "      <td>Blood Culture, Routine</td>\n",
              "      <td>NaN</td>\n",
              "      <td>MED</td>\n",
              "    </tr>\n",
              "    <tr>\n",
              "      <th>3</th>\n",
              "      <td>EU OBSERVATION</td>\n",
              "      <td>EMERGENCY ROOM</td>\n",
              "      <td>Other</td>\n",
              "      <td>Other</td>\n",
              "      <td>ENGLISH</td>\n",
              "      <td>SINGLE</td>\n",
              "      <td>WHITE</td>\n",
              "      <td>0</td>\n",
              "      <td>0.407639</td>\n",
              "      <td>M</td>\n",
              "      <td>...</td>\n",
              "      <td>NaN</td>\n",
              "      <td>NaN</td>\n",
              "      <td>NaN</td>\n",
              "      <td>NaN</td>\n",
              "      <td>NaN</td>\n",
              "      <td>NaN</td>\n",
              "      <td>ACTINOBACILLUS ACTINOMYCETEMCOMITANS</td>\n",
              "      <td>WOUND CULTURE</td>\n",
              "      <td>NaN</td>\n",
              "      <td>MED</td>\n",
              "    </tr>\n",
              "    <tr>\n",
              "      <th>4</th>\n",
              "      <td>EU OBSERVATION</td>\n",
              "      <td>EMERGENCY ROOM</td>\n",
              "      <td>Other</td>\n",
              "      <td>Other</td>\n",
              "      <td>ENGLISH</td>\n",
              "      <td>DIVORCED</td>\n",
              "      <td>WHITE</td>\n",
              "      <td>0</td>\n",
              "      <td>0.532639</td>\n",
              "      <td>F</td>\n",
              "      <td>...</td>\n",
              "      <td>APR</td>\n",
              "      <td>308.0</td>\n",
              "      <td>Influenza Vaccine Quadrivalent</td>\n",
              "      <td>Hold Dose</td>\n",
              "      <td>Heparin</td>\n",
              "      <td>SC</td>\n",
              "      <td>CAMPYLOBACTER JEJUNI</td>\n",
              "      <td>CAMPYLOBACTER CULTURE</td>\n",
              "      <td>NaN</td>\n",
              "      <td>MED</td>\n",
              "    </tr>\n",
              "  </tbody>\n",
              "</table>\n",
              "<p>5 rows × 24 columns</p>\n",
              "</div>\n",
              "    <div class=\"colab-df-buttons\">\n",
              "\n",
              "  <div class=\"colab-df-container\">\n",
              "    <button class=\"colab-df-convert\" onclick=\"convertToInteractive('df-640a1b66-1343-455a-be49-e8351c46b192')\"\n",
              "            title=\"Convert this dataframe to an interactive table.\"\n",
              "            style=\"display:none;\">\n",
              "\n",
              "  <svg xmlns=\"http://www.w3.org/2000/svg\" height=\"24px\" viewBox=\"0 -960 960 960\">\n",
              "    <path d=\"M120-120v-720h720v720H120Zm60-500h600v-160H180v160Zm220 220h160v-160H400v160Zm0 220h160v-160H400v160ZM180-400h160v-160H180v160Zm440 0h160v-160H620v160ZM180-180h160v-160H180v160Zm440 0h160v-160H620v160Z\"/>\n",
              "  </svg>\n",
              "    </button>\n",
              "\n",
              "  <style>\n",
              "    .colab-df-container {\n",
              "      display:flex;\n",
              "      gap: 12px;\n",
              "    }\n",
              "\n",
              "    .colab-df-convert {\n",
              "      background-color: #E8F0FE;\n",
              "      border: none;\n",
              "      border-radius: 50%;\n",
              "      cursor: pointer;\n",
              "      display: none;\n",
              "      fill: #1967D2;\n",
              "      height: 32px;\n",
              "      padding: 0 0 0 0;\n",
              "      width: 32px;\n",
              "    }\n",
              "\n",
              "    .colab-df-convert:hover {\n",
              "      background-color: #E2EBFA;\n",
              "      box-shadow: 0px 1px 2px rgba(60, 64, 67, 0.3), 0px 1px 3px 1px rgba(60, 64, 67, 0.15);\n",
              "      fill: #174EA6;\n",
              "    }\n",
              "\n",
              "    .colab-df-buttons div {\n",
              "      margin-bottom: 4px;\n",
              "    }\n",
              "\n",
              "    [theme=dark] .colab-df-convert {\n",
              "      background-color: #3B4455;\n",
              "      fill: #D2E3FC;\n",
              "    }\n",
              "\n",
              "    [theme=dark] .colab-df-convert:hover {\n",
              "      background-color: #434B5C;\n",
              "      box-shadow: 0px 1px 3px 1px rgba(0, 0, 0, 0.15);\n",
              "      filter: drop-shadow(0px 1px 2px rgba(0, 0, 0, 0.3));\n",
              "      fill: #FFFFFF;\n",
              "    }\n",
              "  </style>\n",
              "\n",
              "    <script>\n",
              "      const buttonEl =\n",
              "        document.querySelector('#df-640a1b66-1343-455a-be49-e8351c46b192 button.colab-df-convert');\n",
              "      buttonEl.style.display =\n",
              "        google.colab.kernel.accessAllowed ? 'block' : 'none';\n",
              "\n",
              "      async function convertToInteractive(key) {\n",
              "        const element = document.querySelector('#df-640a1b66-1343-455a-be49-e8351c46b192');\n",
              "        const dataTable =\n",
              "          await google.colab.kernel.invokeFunction('convertToInteractive',\n",
              "                                                    [key], {});\n",
              "        if (!dataTable) return;\n",
              "\n",
              "        const docLinkHtml = 'Like what you see? Visit the ' +\n",
              "          '<a target=\"_blank\" href=https://colab.research.google.com/notebooks/data_table.ipynb>data table notebook</a>'\n",
              "          + ' to learn more about interactive tables.';\n",
              "        element.innerHTML = '';\n",
              "        dataTable['output_type'] = 'display_data';\n",
              "        await google.colab.output.renderOutput(dataTable, element);\n",
              "        const docLink = document.createElement('div');\n",
              "        docLink.innerHTML = docLinkHtml;\n",
              "        element.appendChild(docLink);\n",
              "      }\n",
              "    </script>\n",
              "  </div>\n",
              "\n",
              "\n",
              "<div id=\"df-9795d339-f096-4a25-9dd1-8fcf2e15ff33\">\n",
              "  <button class=\"colab-df-quickchart\" onclick=\"quickchart('df-9795d339-f096-4a25-9dd1-8fcf2e15ff33')\"\n",
              "            title=\"Suggest charts\"\n",
              "            style=\"display:none;\">\n",
              "\n",
              "<svg xmlns=\"http://www.w3.org/2000/svg\" height=\"24px\"viewBox=\"0 0 24 24\"\n",
              "     width=\"24px\">\n",
              "    <g>\n",
              "        <path d=\"M19 3H5c-1.1 0-2 .9-2 2v14c0 1.1.9 2 2 2h14c1.1 0 2-.9 2-2V5c0-1.1-.9-2-2-2zM9 17H7v-7h2v7zm4 0h-2V7h2v10zm4 0h-2v-4h2v4z\"/>\n",
              "    </g>\n",
              "</svg>\n",
              "  </button>\n",
              "\n",
              "<style>\n",
              "  .colab-df-quickchart {\n",
              "      --bg-color: #E8F0FE;\n",
              "      --fill-color: #1967D2;\n",
              "      --hover-bg-color: #E2EBFA;\n",
              "      --hover-fill-color: #174EA6;\n",
              "      --disabled-fill-color: #AAA;\n",
              "      --disabled-bg-color: #DDD;\n",
              "  }\n",
              "\n",
              "  [theme=dark] .colab-df-quickchart {\n",
              "      --bg-color: #3B4455;\n",
              "      --fill-color: #D2E3FC;\n",
              "      --hover-bg-color: #434B5C;\n",
              "      --hover-fill-color: #FFFFFF;\n",
              "      --disabled-bg-color: #3B4455;\n",
              "      --disabled-fill-color: #666;\n",
              "  }\n",
              "\n",
              "  .colab-df-quickchart {\n",
              "    background-color: var(--bg-color);\n",
              "    border: none;\n",
              "    border-radius: 50%;\n",
              "    cursor: pointer;\n",
              "    display: none;\n",
              "    fill: var(--fill-color);\n",
              "    height: 32px;\n",
              "    padding: 0;\n",
              "    width: 32px;\n",
              "  }\n",
              "\n",
              "  .colab-df-quickchart:hover {\n",
              "    background-color: var(--hover-bg-color);\n",
              "    box-shadow: 0 1px 2px rgba(60, 64, 67, 0.3), 0 1px 3px 1px rgba(60, 64, 67, 0.15);\n",
              "    fill: var(--button-hover-fill-color);\n",
              "  }\n",
              "\n",
              "  .colab-df-quickchart-complete:disabled,\n",
              "  .colab-df-quickchart-complete:disabled:hover {\n",
              "    background-color: var(--disabled-bg-color);\n",
              "    fill: var(--disabled-fill-color);\n",
              "    box-shadow: none;\n",
              "  }\n",
              "\n",
              "  .colab-df-spinner {\n",
              "    border: 2px solid var(--fill-color);\n",
              "    border-color: transparent;\n",
              "    border-bottom-color: var(--fill-color);\n",
              "    animation:\n",
              "      spin 1s steps(1) infinite;\n",
              "  }\n",
              "\n",
              "  @keyframes spin {\n",
              "    0% {\n",
              "      border-color: transparent;\n",
              "      border-bottom-color: var(--fill-color);\n",
              "      border-left-color: var(--fill-color);\n",
              "    }\n",
              "    20% {\n",
              "      border-color: transparent;\n",
              "      border-left-color: var(--fill-color);\n",
              "      border-top-color: var(--fill-color);\n",
              "    }\n",
              "    30% {\n",
              "      border-color: transparent;\n",
              "      border-left-color: var(--fill-color);\n",
              "      border-top-color: var(--fill-color);\n",
              "      border-right-color: var(--fill-color);\n",
              "    }\n",
              "    40% {\n",
              "      border-color: transparent;\n",
              "      border-right-color: var(--fill-color);\n",
              "      border-top-color: var(--fill-color);\n",
              "    }\n",
              "    60% {\n",
              "      border-color: transparent;\n",
              "      border-right-color: var(--fill-color);\n",
              "    }\n",
              "    80% {\n",
              "      border-color: transparent;\n",
              "      border-right-color: var(--fill-color);\n",
              "      border-bottom-color: var(--fill-color);\n",
              "    }\n",
              "    90% {\n",
              "      border-color: transparent;\n",
              "      border-bottom-color: var(--fill-color);\n",
              "    }\n",
              "  }\n",
              "</style>\n",
              "\n",
              "  <script>\n",
              "    async function quickchart(key) {\n",
              "      const quickchartButtonEl =\n",
              "        document.querySelector('#' + key + ' button');\n",
              "      quickchartButtonEl.disabled = true;  // To prevent multiple clicks.\n",
              "      quickchartButtonEl.classList.add('colab-df-spinner');\n",
              "      try {\n",
              "        const charts = await google.colab.kernel.invokeFunction(\n",
              "            'suggestCharts', [key], {});\n",
              "      } catch (error) {\n",
              "        console.error('Error during call to suggestCharts:', error);\n",
              "      }\n",
              "      quickchartButtonEl.classList.remove('colab-df-spinner');\n",
              "      quickchartButtonEl.classList.add('colab-df-quickchart-complete');\n",
              "    }\n",
              "    (() => {\n",
              "      let quickchartButtonEl =\n",
              "        document.querySelector('#df-9795d339-f096-4a25-9dd1-8fcf2e15ff33 button');\n",
              "      quickchartButtonEl.style.display =\n",
              "        google.colab.kernel.accessAllowed ? 'block' : 'none';\n",
              "    })();\n",
              "  </script>\n",
              "</div>\n",
              "\n",
              "    </div>\n",
              "  </div>\n"
            ],
            "application/vnd.google.colaboratory.intrinsic+json": {
              "type": "dataframe",
              "variable_name": "df"
            }
          },
          "metadata": {},
          "execution_count": 48
        }
      ],
      "source": [
        "df.head()"
      ]
    },
    {
      "cell_type": "code",
      "source": [
        "df.columns"
      ],
      "metadata": {
        "colab": {
          "base_uri": "https://localhost:8080/"
        },
        "id": "fuJWR-0kr66A",
        "outputId": "b4bdbe17-703d-4793-a261-c2aae100fb00"
      },
      "id": "fuJWR-0kr66A",
      "execution_count": 49,
      "outputs": [
        {
          "output_type": "execute_result",
          "data": {
            "text/plain": [
              "Index(['admission_type', 'admission_location', 'discharge_location',\n",
              "       'insurance', 'language', 'marital_status', 'race',\n",
              "       'hospital_expire_flag', 'los_admission', 'gender', 'anchor_age',\n",
              "       'eventtype', 'careunit', 'diagnosis_icd_code', 'drg_type', 'drg_code',\n",
              "       'medication', 'event_txt', 'drug', 'route', 'org_name', 'test_name',\n",
              "       'ab_name', 'curr_service'],\n",
              "      dtype='object')"
            ]
          },
          "metadata": {},
          "execution_count": 49
        }
      ]
    },
    {
      "cell_type": "code",
      "execution_count": 50,
      "id": "bde07492",
      "metadata": {
        "colab": {
          "base_uri": "https://localhost:8080/"
        },
        "id": "bde07492",
        "outputId": "c7800cbe-d5e4-431a-a618-236f1bc3360c"
      },
      "outputs": [
        {
          "output_type": "execute_result",
          "data": {
            "text/plain": [
              "93"
            ]
          },
          "metadata": {},
          "execution_count": 50
        }
      ],
      "source": [
        "df.diagnosis_icd_code.isna().sum()"
      ]
    },
    {
      "cell_type": "code",
      "execution_count": 51,
      "id": "40ab472d",
      "metadata": {
        "id": "40ab472d",
        "colab": {
          "base_uri": "https://localhost:8080/"
        },
        "outputId": "6112e269-a02a-4841-bd0d-07b004519a89"
      },
      "outputs": [
        {
          "output_type": "execute_result",
          "data": {
            "text/plain": [
              "0"
            ]
          },
          "metadata": {},
          "execution_count": 51
        }
      ],
      "source": [
        " df = generic_util_instance.replace_nan(df, 'diagnosis_icd_code', 'ICD_DIAGNOSIS')\n",
        " df.diagnosis_icd_code.isna().sum()"
      ]
    },
    {
      "cell_type": "code",
      "execution_count": 52,
      "id": "d40230f5",
      "metadata": {
        "id": "d40230f5",
        "colab": {
          "base_uri": "https://localhost:8080/"
        },
        "outputId": "c69c43ab-fad8-4da3-ce03-98e8590d7094"
      },
      "outputs": [
        {
          "output_type": "execute_result",
          "data": {
            "text/plain": [
              "36281"
            ]
          },
          "metadata": {},
          "execution_count": 52
        }
      ],
      "source": [
        "df.drg_type.isna().sum()"
      ]
    },
    {
      "cell_type": "code",
      "execution_count": 53,
      "id": "a2c05e34",
      "metadata": {
        "id": "a2c05e34",
        "colab": {
          "base_uri": "https://localhost:8080/"
        },
        "outputId": "9ab8293d-c05a-41a1-f211-76655eb9f4d5"
      },
      "outputs": [
        {
          "output_type": "execute_result",
          "data": {
            "text/plain": [
              "{'APR': 137699, 'HCFA': 6697}"
            ]
          },
          "metadata": {},
          "execution_count": 53
        }
      ],
      "source": [
        "df.drg_type.value_counts().to_dict()"
      ]
    },
    {
      "cell_type": "code",
      "execution_count": 54,
      "id": "078c8707",
      "metadata": {
        "id": "078c8707",
        "colab": {
          "base_uri": "https://localhost:8080/"
        },
        "outputId": "0f2b9ada-d028-4812-c8ee-54eeeb5deb93"
      },
      "outputs": [
        {
          "output_type": "execute_result",
          "data": {
            "text/plain": [
              "drg_type\n",
              "APR      137699\n",
              "OTHER     36281\n",
              "HCFA       6697\n",
              "Name: count, dtype: int64"
            ]
          },
          "metadata": {},
          "execution_count": 54
        }
      ],
      "source": [
        "df = generic_util_instance.replace_nan(df, 'drg_type', 'OTHER')\n",
        "df.drg_type.value_counts()"
      ]
    },
    {
      "cell_type": "code",
      "execution_count": 55,
      "id": "dc990d49",
      "metadata": {
        "id": "dc990d49",
        "colab": {
          "base_uri": "https://localhost:8080/"
        },
        "outputId": "bd0a5267-b867-48b4-939e-db80632f13d0"
      },
      "outputs": [
        {
          "output_type": "execute_result",
          "data": {
            "text/plain": [
              "36281"
            ]
          },
          "metadata": {},
          "execution_count": 55
        }
      ],
      "source": [
        "df.drg_code.isna().sum()"
      ]
    },
    {
      "cell_type": "code",
      "execution_count": 56,
      "id": "e9296b72",
      "metadata": {
        "id": "e9296b72",
        "colab": {
          "base_uri": "https://localhost:8080/"
        },
        "outputId": "a40df434-81f5-4a60-885e-7a7b5cd0abb2"
      },
      "outputs": [
        {
          "output_type": "execute_result",
          "data": {
            "text/plain": [
              "{560.0: 6263,\n",
              " 540.0: 3580,\n",
              " 720.0: 3548,\n",
              " 45.0: 2531,\n",
              " 166.0: 2227,\n",
              " 194.0: 2209,\n",
              " 175.0: 2112,\n",
              " 21.0: 1958,\n",
              " 139.0: 1907,\n",
              " 55.0: 1868,\n",
              " 383.0: 1811,\n",
              " 313.0: 1794,\n",
              " 254.0: 1759,\n",
              " 174.0: 1751,\n",
              " 163.0: 1719,\n",
              " 201.0: 1702,\n",
              " 347.0: 1540,\n",
              " 53.0: 1514,\n",
              " 463.0: 1511,\n",
              " 44.0: 1501,\n",
              " 308.0: 1500,\n",
              " 751.0: 1491,\n",
              " 24.0: 1402,\n",
              " 302.0: 1398,\n",
              " 284.0: 1369,\n",
              " 301.0: 1316,\n",
              " 263.0: 1232,\n",
              " 249.0: 1186,\n",
              " 282.0: 1177,\n",
              " 190.0: 1146,\n",
              " 304.0: 1107,\n",
              " 753.0: 1068,\n",
              " 710.0: 1068,\n",
              " 134.0: 1066,\n",
              " 253.0: 1052,\n",
              " 197.0: 1035,\n",
              " 165.0: 1010,\n",
              " 721.0: 1003,\n",
              " 321.0: 994,\n",
              " 315.0: 963,\n",
              " 244.0: 959,\n",
              " 58.0: 942,\n",
              " 204.0: 929,\n",
              " 351.0: 876,\n",
              " 343.0: 856,\n",
              " 192.0: 855,\n",
              " 241.0: 850,\n",
              " 812.0: 837,\n",
              " 137.0: 830,\n",
              " 191.0: 825,\n",
              " 121.0: 813,\n",
              " 420.0: 809,\n",
              " 813.0: 798,\n",
              " 247.0: 792,\n",
              " 310.0: 789,\n",
              " 140.0: 764,\n",
              " 248.0: 764,\n",
              " 403.0: 759,\n",
              " 330.0: 743,\n",
              " 135.0: 734,\n",
              " 775.0: 719,\n",
              " 120.0: 718,\n",
              " 245.0: 691,\n",
              " 220.0: 690,\n",
              " 683.0: 686,\n",
              " 950.0: 673,\n",
              " 861.0: 667,\n",
              " 207.0: 657,\n",
              " 750.0: 644,\n",
              " 171.0: 640,\n",
              " 912.0: 633,\n",
              " 519.0: 632,\n",
              " 663.0: 629,\n",
              " 281.0: 624,\n",
              " 162.0: 603,\n",
              " 252.0: 599,\n",
              " 930.0: 596,\n",
              " 52.0: 591,\n",
              " 260.0: 577,\n",
              " 143.0: 572,\n",
              " 133.0: 571,\n",
              " 513.0: 571,\n",
              " 279.0: 566,\n",
              " 951.0: 557,\n",
              " 754.0: 557,\n",
              " 566.0: 556,\n",
              " 283.0: 548,\n",
              " 251.0: 538,\n",
              " 422.0: 529,\n",
              " 342.0: 529,\n",
              " 203.0: 524,\n",
              " 404.0: 520,\n",
              " 136.0: 515,\n",
              " 227.0: 498,\n",
              " 331.0: 490,\n",
              " 198.0: 486,\n",
              " 41.0: 486,\n",
              " 113.0: 474,\n",
              " 4.0: 471,\n",
              " 144.0: 464,\n",
              " 468.0: 463,\n",
              " 314.0: 461,\n",
              " 364.0: 460,\n",
              " 280.0: 459,\n",
              " 711.0: 458,\n",
              " 425.0: 458,\n",
              " 54.0: 454,\n",
              " 424.0: 454,\n",
              " 660.0: 453,\n",
              " 466.0: 447,\n",
              " 240.0: 442,\n",
              " 682.0: 437,\n",
              " 42.0: 434,\n",
              " 167.0: 429,\n",
              " 384.0: 428,\n",
              " 362.0: 427,\n",
              " 161.0: 419,\n",
              " 264.0: 412,\n",
              " 48.0: 403,\n",
              " 724.0: 401,\n",
              " 23.0: 395,\n",
              " 316.0: 388,\n",
              " 443.0: 376,\n",
              " 329.0: 368,\n",
              " 320.0: 364,\n",
              " 20.0: 364,\n",
              " 169.0: 361,\n",
              " 223.0: 354,\n",
              " 691.0: 352,\n",
              " 243.0: 349,\n",
              " 115.0: 349,\n",
              " 141.0: 348,\n",
              " 385.0: 348,\n",
              " 130.0: 337,\n",
              " 346.0: 337,\n",
              " 199.0: 329,\n",
              " 229.0: 329,\n",
              " 723.0: 328,\n",
              " 111.0: 326,\n",
              " 317.0: 318,\n",
              " 722.0: 313,\n",
              " 47.0: 305,\n",
              " 847.0: 303,\n",
              " 442.0: 302,\n",
              " 469.0: 300,\n",
              " 114.0: 300,\n",
              " 952.0: 291,\n",
              " 5.0: 279,\n",
              " 816.0: 272,\n",
              " 561.0: 271,\n",
              " 309.0: 270,\n",
              " 480.0: 269,\n",
              " 92.0: 262,\n",
              " 465.0: 259,\n",
              " 541.0: 246,\n",
              " 206.0: 245,\n",
              " 57.0: 243,\n",
              " 755.0: 243,\n",
              " 43.0: 240,\n",
              " 82.0: 239,\n",
              " 756.0: 238,\n",
              " 181.0: 232,\n",
              " 98.0: 223,\n",
              " 56.0: 222,\n",
              " 261.0: 219,\n",
              " 363.0: 217,\n",
              " 482.0: 216,\n",
              " 661.0: 214,\n",
              " 51.0: 213,\n",
              " 681.0: 211,\n",
              " 344.0: 205,\n",
              " 182.0: 204,\n",
              " 341.0: 199,\n",
              " 512.0: 199,\n",
              " 246.0: 197,\n",
              " 50.0: 196,\n",
              " 305.0: 196,\n",
              " 773.0: 194,\n",
              " 228.0: 191,\n",
              " 26.0: 190,\n",
              " 501.0: 187,\n",
              " 694.0: 186,\n",
              " 690.0: 183,\n",
              " 446.0: 183,\n",
              " 340.0: 182,\n",
              " 222.0: 180,\n",
              " 532.0: 179,\n",
              " 224.0: 179,\n",
              " 49.0: 177,\n",
              " 238.0: 174,\n",
              " 421.0: 172,\n",
              " 440.0: 166,\n",
              " 908.0: 165,\n",
              " 142.0: 164,\n",
              " 680.0: 161,\n",
              " 811.0: 159,\n",
              " 447.0: 159,\n",
              " 401.0: 157,\n",
              " 684.0: 157,\n",
              " 531.0: 155,\n",
              " 850.0: 152,\n",
              " 757.0: 150,\n",
              " 911.0: 149,\n",
              " 361.0: 148,\n",
              " 226.0: 145,\n",
              " 511.0: 144,\n",
              " 22.0: 142,\n",
              " 46.0: 142,\n",
              " 892.0: 131,\n",
              " 696.0: 130,\n",
              " 380.0: 128,\n",
              " 518.0: 126,\n",
              " 907.0: 126,\n",
              " 776.0: 125,\n",
              " 349.0: 124,\n",
              " 415.0: 119,\n",
              " 177.0: 119,\n",
              " 242.0: 118,\n",
              " 890.0: 116,\n",
              " 544.0: 114,\n",
              " 514.0: 113,\n",
              " 196.0: 113,\n",
              " 200.0: 112,\n",
              " 180.0: 111,\n",
              " 563.0: 102,\n",
              " 441.0: 102,\n",
              " 759.0: 102,\n",
              " 237.0: 101,\n",
              " 40.0: 99,\n",
              " 193.0: 96,\n",
              " 770.0: 96,\n",
              " 381.0: 94,\n",
              " 894.0: 91,\n",
              " 1.0: 84,\n",
              " 416.0: 83,\n",
              " 909.0: 81,\n",
              " 530.0: 81,\n",
              " 89.0: 78,\n",
              " 303.0: 76,\n",
              " 837.0: 75,\n",
              " 542.0: 75,\n",
              " 545.0: 74,\n",
              " 176.0: 74,\n",
              " 774.0: 73,\n",
              " 312.0: 71,\n",
              " 484.0: 71,\n",
              " 760.0: 71,\n",
              " 815.0: 71,\n",
              " 414.0: 64,\n",
              " 651.0: 63,\n",
              " 461.0: 62,\n",
              " 846.0: 61,\n",
              " 752.0: 58,\n",
              " 97.0: 55,\n",
              " 444.0: 55,\n",
              " 662.0: 55,\n",
              " 862.0: 54,\n",
              " 339.0: 51,\n",
              " 470.0: 47,\n",
              " 910.0: 46,\n",
              " 510.0: 45,\n",
              " 838.0: 44,\n",
              " 650.0: 44,\n",
              " 16.0: 39,\n",
              " 269.0: 39,\n",
              " 462.0: 38,\n",
              " 445.0: 36,\n",
              " 333.0: 36,\n",
              " 110.0: 36,\n",
              " 170.0: 36,\n",
              " 231.0: 35,\n",
              " 382.0: 33,\n",
              " 405.0: 33,\n",
              " 904.0: 32,\n",
              " 230.0: 31,\n",
              " 423.0: 31,\n",
              " 73.0: 31,\n",
              " 483.0: 29,\n",
              " 546.0: 29,\n",
              " 564.0: 29,\n",
              " 14.0: 28,\n",
              " 91.0: 28,\n",
              " 692.0: 28,\n",
              " 740.0: 26,\n",
              " 500.0: 26,\n",
              " 334.0: 24,\n",
              " 758.0: 24,\n",
              " 695.0: 23,\n",
              " 517.0: 22,\n",
              " 271.0: 21,\n",
              " 839.0: 20,\n",
              " 565.0: 20,\n",
              " 893.0: 18,\n",
              " 219.0: 17,\n",
              " 125.0: 17,\n",
              " 322.0: 17,\n",
              " 337.0: 17,\n",
              " 6.0: 17,\n",
              " 205.0: 16,\n",
              " 332.0: 15,\n",
              " 9.0: 15,\n",
              " 138.0: 15,\n",
              " 675.0: 15,\n",
              " 338.0: 14,\n",
              " 709.0: 13,\n",
              " 239.0: 13,\n",
              " 906.0: 12,\n",
              " 221.0: 11,\n",
              " 270.0: 10,\n",
              " 272.0: 9,\n",
              " 413.0: 9,\n",
              " 902.0: 9,\n",
              " 905.0: 9,\n",
              " 844.0: 8,\n",
              " 793.0: 8,\n",
              " 989.0: 8,\n",
              " 919.0: 8,\n",
              " 426.0: 7,\n",
              " 122.0: 7,\n",
              " 412.0: 7,\n",
              " 392.0: 6,\n",
              " 131.0: 6,\n",
              " 674.0: 6,\n",
              " 673.0: 6,\n",
              " 810.0: 6,\n",
              " 124.0: 5,\n",
              " 336.0: 5,\n",
              " 920.0: 5,\n",
              " 145.0: 5,\n",
              " 160.0: 5,\n",
              " 958.0: 5,\n",
              " 3.0: 5,\n",
              " 411.0: 5,\n",
              " 12.0: 4,\n",
              " 901.0: 4,\n",
              " 233.0: 4,\n",
              " 17.0: 4,\n",
              " 95.0: 4,\n",
              " 268.0: 4,\n",
              " 988.0: 4,\n",
              " 903.0: 4,\n",
              " 13.0: 4,\n",
              " 15.0: 3,\n",
              " 427.0: 3,\n",
              " 552.0: 3,\n",
              " 957.0: 3,\n",
              " 373.0: 3,\n",
              " 101.0: 3,\n",
              " 842.0: 3,\n",
              " 743.0: 3,\n",
              " 11.0: 3,\n",
              " 921.0: 3,\n",
              " 326.0: 3,\n",
              " 843.0: 3,\n",
              " 335.0: 2,\n",
              " 982.0: 2,\n",
              " 234.0: 2,\n",
              " 848.0: 2,\n",
              " 781.0: 2,\n",
              " 817.0: 2,\n",
              " 327.0: 2,\n",
              " 641.0: 2,\n",
              " 730.0: 1,\n",
              " 71.0: 1,\n",
              " 834.0: 1,\n",
              " 7.0: 1,\n",
              " 371.0: 1,\n",
              " 864.0: 1,\n",
              " 232.0: 1,\n",
              " 603.0: 1,\n",
              " 438.0: 1,\n",
              " 419.0: 1,\n",
              " 794.0: 1,\n",
              " 948.0: 1,\n",
              " 32.0: 1,\n",
              " 8.0: 1,\n",
              " 179.0: 1,\n",
              " 10.0: 1,\n",
              " 689.0: 1,\n",
              " 300.0: 1,\n",
              " 379.0: 1,\n",
              " 792.0: 1,\n",
              " 287.0: 1,\n",
              " 328.0: 1,\n",
              " 348.0: 1,\n",
              " 941.0: 1,\n",
              " 553.0: 1,\n",
              " 981.0: 1,\n",
              " 152.0: 1,\n",
              " 372.0: 1,\n",
              " 772.0: 1,\n",
              " 390.0: 1,\n",
              " 699.0: 1,\n",
              " 761.0: 1,\n",
              " 983.0: 1,\n",
              " 639.0: 1,\n",
              " 31.0: 1,\n",
              " 698.0: 1,\n",
              " 707.0: 1}"
            ]
          },
          "metadata": {},
          "execution_count": 56
        }
      ],
      "source": [
        "df.drg_code.value_counts().to_dict()"
      ]
    },
    {
      "cell_type": "code",
      "execution_count": 57,
      "id": "762d1775",
      "metadata": {
        "id": "762d1775",
        "colab": {
          "base_uri": "https://localhost:8080/"
        },
        "outputId": "aac2040f-ddf8-4ab4-d5c5-f600b1d3c19a"
      },
      "outputs": [
        {
          "output_type": "execute_result",
          "data": {
            "text/plain": [
              "0"
            ]
          },
          "metadata": {},
          "execution_count": 57
        }
      ],
      "source": [
        "df = generic_util_instance.replace_nan(df, 'drg_code', 0.0)\n",
        "df.drg_code.isna().sum()"
      ]
    },
    {
      "cell_type": "code",
      "execution_count": 58,
      "id": "6a515d79",
      "metadata": {
        "id": "6a515d79",
        "colab": {
          "base_uri": "https://localhost:8080/"
        },
        "outputId": "9544f93d-1947-4b44-858e-edfe967dfadf"
      },
      "outputs": [
        {
          "output_type": "execute_result",
          "data": {
            "text/plain": [
              "22293"
            ]
          },
          "metadata": {},
          "execution_count": 58
        }
      ],
      "source": [
        "df.drug.isna().sum()"
      ]
    },
    {
      "cell_type": "code",
      "execution_count": 59,
      "id": "4110a115",
      "metadata": {
        "id": "4110a115",
        "colab": {
          "base_uri": "https://localhost:8080/"
        },
        "outputId": "ccaff018-302c-44f0-a47a-37ca7d11f44d"
      },
      "outputs": [
        {
          "output_type": "execute_result",
          "data": {
            "text/plain": [
              "{'Sodium Chloride 0.9%  Flush': 9156,\n",
              " 'Acetaminophen': 7995,\n",
              " 'Heparin': 5161,\n",
              " '0.9% Sodium Chloride': 5044,\n",
              " 'Docusate Sodium': 4991,\n",
              " 'Insulin': 3584,\n",
              " 'Senna': 3430,\n",
              " 'Ondansetron': 3276,\n",
              " 'HYDROmorphone (Dilaudid)': 3165,\n",
              " 'Lactated Ringers': 2648,\n",
              " 'Potassium Chloride': 2515,\n",
              " 'Bisacodyl': 2487,\n",
              " 'Iso-Osmotic Dextrose': 2290,\n",
              " '5% Dextrose': 2259,\n",
              " 'Morphine Sulfate': 2241,\n",
              " 'Metoprolol Tartrate': 2007,\n",
              " 'Aspirin': 1991,\n",
              " 'OxycoDONE (Immediate Release) ': 1906,\n",
              " 'Bag': 1822,\n",
              " 'Furosemide': 1803,\n",
              " 'Sodium Chloride 0.9%': 1677,\n",
              " 'Ibuprofen': 1659,\n",
              " 'Influenza Vaccine Quadrivalent': 1628,\n",
              " 'Lorazepam': 1558,\n",
              " 'Influenza Virus Vaccine': 1459,\n",
              " 'Calcium Carbonate': 1410,\n",
              " 'OxyCODONE (Immediate Release)': 1267,\n",
              " 'Lisinopril': 1237,\n",
              " 'Dextrose 50%': 1235,\n",
              " 'Atorvastatin': 1217,\n",
              " 'Omeprazole': 1202,\n",
              " 'Milk of Magnesia': 1200,\n",
              " 'Ketorolac': 1132,\n",
              " 'Glucagon': 1091,\n",
              " 'Warfarin': 1001,\n",
              " 'Levothyroxine Sodium': 982,\n",
              " 'Simethicone': 955,\n",
              " 'NS': 866,\n",
              " 'Polyethylene Glycol': 859,\n",
              " 'Multivitamins': 853,\n",
              " 'DiphenhydrAMINE': 825,\n",
              " 'Oxycodone-Acetaminophen': 818,\n",
              " 'Vial': 806,\n",
              " 'SW': 801,\n",
              " 'D5 1/2NS': 794,\n",
              " 'Pantoprazole': 786,\n",
              " '0.9% Sodium Chloride (Mini Bag Plus)': 765,\n",
              " 'LR': 762,\n",
              " 'Gabapentin': 761,\n",
              " 'Glucose Gel': 753,\n",
              " 'Simvastatin': 738,\n",
              " 'Metoprolol Succinate XL': 714,\n",
              " 'Enoxaparin Sodium': 695,\n",
              " 'Vitamin D': 693,\n",
              " 'Pneumococcal Vac Polyvalent': 692,\n",
              " 'Potassium Chl 20 mEq / 1000 mL D5 1/2 NS': 678,\n",
              " 'Albuterol 0.083% Neb Soln': 665,\n",
              " 'LORazepam': 664,\n",
              " 'Diazepam': 588,\n",
              " 'PredniSONE': 578,\n",
              " 'PNEUMOcoccal 23-valent polysaccharide vaccine': 561,\n",
              " 'Potassium Chloride Replacement (Critical Care and Oncology) ': 542,\n",
              " 'HydrALAzine': 531,\n",
              " 'Neutra-Phos': 525,\n",
              " 'Acetaminophen IV': 520,\n",
              " 'D5W': 511,\n",
              " 'Ranitidine': 510,\n",
              " 'Clopidogrel': 501,\n",
              " 'Hydrochlorothiazide': 496,\n",
              " 'Ciprofloxacin HCl': 495,\n",
              " 'Heparin Flush (10 units/ml)': 482,\n",
              " 'Metoclopramide': 475,\n",
              " 'Aluminum-Magnesium Hydrox.-Simethicone': 460,\n",
              " 'TraZODone': 457,\n",
              " 'Amlodipine': 443,\n",
              " 'Atenolol': 434,\n",
              " 'Albuterol Inhaler': 434,\n",
              " 'Tamsulosin': 412,\n",
              " 'Labetalol': 402,\n",
              " 'FoLIC Acid': 398,\n",
              " '1/2 NS': 398,\n",
              " 'Dexamethasone': 392,\n",
              " 'Prochlorperazine': 391,\n",
              " 'Sterile Water': 388,\n",
              " 'Haloperidol': 373,\n",
              " 'Sertraline': 368,\n",
              " 'Propofol': 368,\n",
              " 'Iso-Osmotic Sodium Chloride': 357,\n",
              " 'Zolpidem Tartrate': 338,\n",
              " 'Oxycodone-Acetaminophen (5mg-325mg)': 335,\n",
              " 'Famotidine': 332,\n",
              " 'Ipratropium Bromide Neb': 327,\n",
              " 'Nicotine Patch': 324,\n",
              " 'HydrALAZINE': 322,\n",
              " 'Dibucaine': 317,\n",
              " 'traZODONE': 316,\n",
              " 'TraMADOL (Ultram)': 316,\n",
              " 'Aspirin EC': 312,\n",
              " 'Thiamine': 307,\n",
              " 'HydrOXYzine': 301,\n",
              " 'Lidocaine 5% Patch': 296,\n",
              " 'Magnesium Oxide': 290,\n",
              " 'amLODIPine': 289,\n",
              " 'Soln': 288,\n",
              " 'Citalopram': 281,\n",
              " 'Ferrous Sulfate': 273,\n",
              " 'Lactulose': 272,\n",
              " 'Losartan Potassium': 262,\n",
              " 'Levofloxacin': 256,\n",
              " 'Dermoplast Spray': 254,\n",
              " 'LeVETiracetam': 243,\n",
              " 'QUEtiapine Fumarate': 243,\n",
              " 'Quetiapine Fumarate': 243,\n",
              " 'TraMADol': 242,\n",
              " 'Codeine Sulfate': 230,\n",
              " 'Chlorhexidine Gluconate 0.12% Oral Rinse': 230,\n",
              " 'Fluticasone Propionate NASAL': 229,\n",
              " 'Naloxone': 229,\n",
              " 'Tetanus-DiphTox-Acellular Pertuss (Adacel)': 228,\n",
              " 'Azithromycin': 226,\n",
              " 'Diltiazem': 222,\n",
              " 'Ramelteon': 221,\n",
              " '0.45% Sodium Chloride': 217,\n",
              " 'Pravastatin': 217,\n",
              " 'Allopurinol': 203,\n",
              " 'Clonazepam': 199,\n",
              " 'Fentanyl Citrate': 199,\n",
              " 'Rosuvastatin Calcium': 197,\n",
              " 'Dextrose 5%': 196,\n",
              " 'Docusate Sodium (Liquid)': 195,\n",
              " 'ClonazePAM': 194,\n",
              " 'Spironolactone': 190,\n",
              " 'Sulfameth/Trimethoprim DS': 186,\n",
              " 'MetRONIDAZOLE (FLagyl)': 184,\n",
              " 'MetFORMIN (Glucophage)': 182,\n",
              " 'Carvedilol': 179,\n",
              " 'Sarna Lotion': 179,\n",
              " 'Nitroglycerin SL': 175,\n",
              " 'Phosphorus': 175,\n",
              " 'Cyanocobalamin': 175,\n",
              " 'Valsartan': 174,\n",
              " 'D5NS': 174,\n",
              " 'Mirtazapine': 172,\n",
              " 'Amoxicillin-Clavulanic Acid': 171,\n",
              " 'Lidocaine 1%': 171,\n",
              " 'Syringe': 171,\n",
              " 'Potassium Chloride (Powder)': 170,\n",
              " 'Ipratropium-Albuterol Neb': 170,\n",
              " 'BuPROPion (Sustained Release)': 163,\n",
              " 'Lidocaine Jelly 2% (Urojet)': 159,\n",
              " 'Acetaminophen-Caff-Butalbital': 159,\n",
              " 'Amiodarone': 158,\n",
              " 'Apixaban': 156,\n",
              " 'Fluoxetine': 155,\n",
              " 'OLANZapine': 154,\n",
              " 'Fluticasone Propionate 110mcg': 153,\n",
              " 'Pregabalin': 149,\n",
              " 'Isosorbide Mononitrate (Extended Release)': 146,\n",
              " 'Ondansetron ODT': 145,\n",
              " 'D5LR': 145,\n",
              " 'Cyclobenzaprine': 144,\n",
              " 'Venlafaxine XR': 142,\n",
              " 'Hydrocodone-Acetaminophen': 141,\n",
              " 'Diltiazem Extended-Release': 140,\n",
              " 'Methadone': 138,\n",
              " 'Magnesium Sulfate': 138,\n",
              " 'Cephalexin': 138,\n",
              " 'Digoxin': 137,\n",
              " 'Tiotropium Bromide': 136,\n",
              " 'Albumin 25% (12.5g / 50mL)': 135,\n",
              " 'LevETIRAcetam': 134,\n",
              " 'Multivitamins W/minerals': 134,\n",
              " 'Readi-Cat 2 (Barium Sulfate 2% Suspension)': 132,\n",
              " 'Scopolamine Patch': 132,\n",
              " 'Fluticasone-Salmeterol Diskus (250/50) ': 132,\n",
              " 'Escitalopram Oxalate': 131,\n",
              " 'Latanoprost 0.005% Ophth. Soln.': 129,\n",
              " 'Finasteride': 128,\n",
              " 'LaMOTrigine': 127,\n",
              " 'Tacrolimus': 127,\n",
              " 'MethylPREDNISolone Sodium Succ': 123,\n",
              " 'Promethazine': 121,\n",
              " 'Morphine Sulfate IR': 120,\n",
              " 'Topiramate (Topamax)': 118,\n",
              " 'Donepezil': 116,\n",
              " 'Doxycycline Hyclate': 114,\n",
              " 'MoviPrep': 114,\n",
              " 'Artificial Tears': 113,\n",
              " 'Torsemide': 112,\n",
              " 'Citalopram Hydrobromide': 111,\n",
              " 'Risperidone': 109,\n",
              " 'Benzonatate': 108,\n",
              " 'Atropine Sulfate': 106,\n",
              " 'Fexofenadine': 106,\n",
              " 'Acetaminophen (Liquid)': 106,\n",
              " 'Cepacol (Menthol)': 104,\n",
              " 'MetroNIDAZOLE': 103,\n",
              " 'Colchicine': 102,\n",
              " 'Potassium Chl 20 mEq / 1000 mL NS': 100,\n",
              " 'Heparin Flush (100 units/ml)': 100,\n",
              " 'Captopril': 99,\n",
              " 'Midazolam': 99,\n",
              " 'Sodium Chloride Nasal': 98,\n",
              " 'Morphine SR (MS Contin)': 97,\n",
              " 'OLANZapine (Disintegrating Tablet)': 97,\n",
              " 'Lidocaine Jelly 2% (Glydo)': 97,\n",
              " 'Sucralfate': 95,\n",
              " 'OxycoDONE Liquid': 94,\n",
              " 'Nicotine Polacrilex': 93,\n",
              " 'Phytonadione': 92,\n",
              " 'NIFEdipine CR': 91,\n",
              " 'NS (Mini Bag Plus)': 91,\n",
              " 'Duloxetine': 91,\n",
              " 'RisperiDONE': 90,\n",
              " 'Magnesium Citrate': 90,\n",
              " 'Acyclovir': 89,\n",
              " 'CloniDINE': 88,\n",
              " 'Aripiprazole': 87,\n",
              " 'Lidocaine 1% (For PICC/Midline Insertions)': 87,\n",
              " 'Ascorbic Acid': 87,\n",
              " 'Sodium Bicarbonate': 87,\n",
              " 'Phenazopyridine': 86,\n",
              " 'Rivaroxaban': 86,\n",
              " 'Paroxetine': 86,\n",
              " 'ALPRAZolam': 85,\n",
              " 'Divalproex (DELayed Release)': 83,\n",
              " 'Metoprolol': 82,\n",
              " 'Fish Oil (Omega 3)': 82,\n",
              " 'Prenatal Vitamins': 81,\n",
              " 'Naproxen': 81,\n",
              " 'Glycopyrrolate': 81,\n",
              " 'Propranolol': 80,\n",
              " 'Oxycodone SR (OxyconTIN)': 79,\n",
              " 'OxycoDONE-Acetaminophen Elixir': 79,\n",
              " 'Carbidopa-Levodopa (25-100)': 78,\n",
              " '0.83% Sodium Chloride': 77,\n",
              " 'Cepacol (Sore Throat Lozenge)': 77,\n",
              " 'Chloraseptic Throat Spray': 76,\n",
              " 'Acetylcysteine 20%': 76,\n",
              " 'Baclofen': 76,\n",
              " 'FLUoxetine': 75,\n",
              " 'Nephrocaps': 75,\n",
              " 'Clindamycin': 75,\n",
              " 'Amitriptyline': 74,\n",
              " 'PNEUMOcoccal Vac Polyvalent': 73,\n",
              " 'Oxybutynin': 73,\n",
              " 'Nystatin Oral Suspension': 73,\n",
              " 'Meclizine': 72,\n",
              " 'LOPERamide': 72,\n",
              " 'Benztropine Mesylate': 71,\n",
              " 'Olanzapine': 71,\n",
              " 'Calcitriol': 70,\n",
              " 'Maalox/Diphenhydramine/Lidocaine': 70,\n",
              " 'Guaifenesin': 69,\n",
              " 'Cefpodoxime Proxetil': 69,\n",
              " 'Nadolol': 67,\n",
              " 'Bupivacaine 0.1%': 67,\n",
              " 'Lansoprazole Oral Disintegrating Tab': 67,\n",
              " 'Tizanidine': 67,\n",
              " 'Midodrine': 67,\n",
              " 'Loratadine': 67,\n",
              " 'Brimonidine Tartrate 0.15% Ophth.': 66,\n",
              " 'LamoTRIgine': 66,\n",
              " 'Phenytoin': 64,\n",
              " 'Cetirizine': 64,\n",
              " 'Mupirocin Ointment 2%': 63,\n",
              " 'Albumin 5% (25g / 500mL)': 63,\n",
              " 'Calcium Gluconate': 63,\n",
              " 'Terazosin': 63,\n",
              " 'Miconazole Powder 2%': 62,\n",
              " 'Verapamil SR': 62,\n",
              " 'Fentanyl Patch': 61,\n",
              " 'Vancomycin Oral Liquid': 60,\n",
              " 'Lithium Carbonate': 60,\n",
              " 'Tuberculin Protein': 59,\n",
              " 'Potassium Chloride Replacement (Oncology)': 59,\n",
              " 'Alprazolam': 57,\n",
              " 'Phenytoin Sodium Extended': 57,\n",
              " 'Enalapril Maleate': 57,\n",
              " 'Heparin Dwell (1000 Units/mL)': 56,\n",
              " 'Isotonic Sodium Chloride': 56,\n",
              " 'Meperidine': 56,\n",
              " 'Albumin 5% (12.5g / 250mL)': 55,\n",
              " 'Ursodiol': 55,\n",
              " 'Mycophenolate Mofetil': 55,\n",
              " 'GlipiZIDE': 55,\n",
              " 'Oxazepam': 55,\n",
              " 'Sulfameth/Trimethoprim SS': 54,\n",
              " 'Ezetimibe': 53,\n",
              " '5% Dextrose (EXCEL BAG)': 53,\n",
              " 'Sodium Polystyrene Sulfonate': 53,\n",
              " 'Fluconazole': 53,\n",
              " 'RISperidone': 52,\n",
              " 'Bacitracin Ointment': 52,\n",
              " 'Doxazosin': 52,\n",
              " 'Montelukast': 51,\n",
              " 'Clozapine': 51,\n",
              " 'Guaifenesin-Dextromethorphan': 51,\n",
              " 'Cepastat (Phenol) Lozenge': 51,\n",
              " 'Potassium Chl 40 mEq / 1000 mL D5 1/2 NS': 51,\n",
              " 'BuPROPion': 51,\n",
              " 'Potassium Chl 20 mEq / 1000 mL D5NS': 51,\n",
              " 'PHENObarbital Alcohol Withdrawal Dose Taper (Days 2-7)': 51,\n",
              " 'Sumatriptan Succinate': 50,\n",
              " 'CloNIDine': 49,\n",
              " 'Dorzolamide 2%/Timolol 0.5% Ophth.': 49,\n",
              " 'MedroxyPROGESTERone Acetate': 49,\n",
              " 'Syringe (Iso-Osmotic Dextrose)': 47,\n",
              " 'Hydrocortisone Na Succ.': 47,\n",
              " 'Chlorthalidone': 46,\n",
              " 'BusPIRone': 46,\n",
              " 'Erythromycin 0.5% Ophth Oint': 46,\n",
              " 'Syringe (0.9% Sodium Chloride)': 46,\n",
              " 'Fluticasone-Salmeterol Diskus (500/50) ': 46,\n",
              " 'Ipratropium Bromide MDI': 46,\n",
              " 'Rifaximin': 45,\n",
              " 'Timolol Maleate 0.5%': 45,\n",
              " 'BuPROPion XL (Once Daily)': 44,\n",
              " 'Neostigmine': 43,\n",
              " 'Acetaminophen w/Codeine': 43,\n",
              " 'Oxytocin': 43,\n",
              " 'Fleet Enema': 42,\n",
              " 'Guaifenesin-CODEINE Phosphate': 42,\n",
              " 'Olanzapine (Disintegrating Tablet)': 42,\n",
              " 'Sodium Chloride': 41,\n",
              " 'Montelukast Sodium': 41,\n",
              " 'ARIPiprazole': 41,\n",
              " 'Oxcarbazepine': 41,\n",
              " 'GlyBURIDE': 40,\n",
              " 'Loperamide': 40,\n",
              " 'Multivitamin IV': 40,\n",
              " 'Memantine': 40,\n",
              " 'Emtricitabine-Tenofovir (Truvada)': 40,\n",
              " 'Zonisamide': 40,\n",
              " 'TiCAGRELOR': 40,\n",
              " 'OxyCODONE SR (OxyconTIN)': 39,\n",
              " 'Neomycin-Polymyxin-Bacitracin': 39,\n",
              " 'Albuterol-Ipratropium': 39,\n",
              " 'Sodium Citrate': 39,\n",
              " 'ChlorproMAZINE': 39,\n",
              " 'Venlafaxine': 38,\n",
              " 'CARVedilol': 38,\n",
              " 'Indomethacin': 38,\n",
              " 'Golytely': 38,\n",
              " 'Isosorbide Dinitrate': 37,\n",
              " 'sevelamer CARBONATE': 37,\n",
              " 'GuaiFENesin': 36,\n",
              " 'Amoxicillin': 36,\n",
              " 'Oxymetazoline': 36,\n",
              " 'Divalproex (EXTended Release)': 36,\n",
              " 'Prazosin': 36,\n",
              " 'Potassium Chl 40 mEq / 1000 mL NS': 36,\n",
              " 'Hyoscyamine': 36,\n",
              " 'Methylnaltrexone': 36,\n",
              " 'DULoxetine': 36,\n",
              " 'Nortriptyline': 36,\n",
              " 'Nicotine Lozenge': 35,\n",
              " 'Diazepam - CIWA protocol': 35,\n",
              " 'Hydroxychloroquine Sulfate': 34,\n",
              " 'Artificial Tears Preserv. Free': 34,\n",
              " 'Hydrocortisone': 34,\n",
              " 'MetFORMIN XR (Glucophage XR)': 33,\n",
              " 'Metolazone': 33,\n",
              " 'Promethazine HCl': 32,\n",
              " 'Alendronate Sodium': 32,\n",
              " 'Nitrofurantoin Monohyd (MacroBID)': 32,\n",
              " 'Flecainide Acetate': 32,\n",
              " 'Lidocaine Viscous 2%': 31,\n",
              " 'Fluticasone-Salmeterol Diskus (100/50)': 31,\n",
              " 'NIFEdipine (Extended Release)': 30,\n",
              " 'OSELTAMivir': 30,\n",
              " 'Methocarbamol': 30,\n",
              " 'Methylprednisolone': 30,\n",
              " 'Verapamil': 29,\n",
              " 'Misoprostol': 29,\n",
              " '0.9 % Sodium Chloride': 29,\n",
              " 'PrednisoLONE Acetate 1% Ophth. Susp.': 29,\n",
              " 'Sodium CITRATE 4%': 29,\n",
              " 'Valproic Acid': 28,\n",
              " 'OxyCODONE--Acetaminophen (5mg-325mg)': 28,\n",
              " 'Vitamin B Complex': 28,\n",
              " 'MethylPHENIDATE (Ritalin)': 28,\n",
              " 'Hydrocodone-Acetaminophen (5mg-500mg)': 28,\n",
              " 'Soln.': 28,\n",
              " 'Atovaquone Suspension': 28,\n",
              " 'LACOSamide': 28,\n",
              " 'Sotalol': 28,\n",
              " 'Epoetin Alfa': 27,\n",
              " 'Potassium Chl 20 mEq / 1000 mL D5LR': 27,\n",
              " 'Carbamazepine': 27,\n",
              " 'NIFEdipine': 27,\n",
              " 'ValACYclovir': 27,\n",
              " 'Enoxaparin (Prophylaxis)': 27,\n",
              " 'Creon 12': 26,\n",
              " 'PARoxetine': 26,\n",
              " 'Albuterol': 26,\n",
              " 'Fludrocortisone Acetate': 26,\n",
              " 'Diphenoxylate-Atropine': 25,\n",
              " 'Calcium Acetate': 25,\n",
              " 'AcetaZOLamide': 25,\n",
              " 'Hydroxyurea': 25,\n",
              " 'Yellow CADD Cassette': 25,\n",
              " 'GuaiFENesin ER': 25,\n",
              " 'Bumetanide': 24,\n",
              " 'Methimazole': 24,\n",
              " 'Mesalamine': 24,\n",
              " 'Tenofovir Disoproxil (Viread)': 24,\n",
              " 'Mupirocin Nasal Ointment 2%': 24,\n",
              " 'Psyllium': 24,\n",
              " 'Insulin Pump (Self Administering Medication)': 24,\n",
              " 'Psyllium Wafer': 24,\n",
              " 'Albuterol MDI': 24,\n",
              " 'Dabigatran Etexilate': 23,\n",
              " 'Lidocaine 5% Ointment': 23,\n",
              " 'Tolterodine': 23,\n",
              " 'Triamterene-Hydrochlorothiazide': 23,\n",
              " 'Quinapril': 23,\n",
              " 'Measles, Mumps & Rubella Vac': 23,\n",
              " 'Vitamin E': 22,\n",
              " 'Naloxone HCl': 22,\n",
              " 'DICYCLOMine': 22,\n",
              " 'Gastroview (Diatrizoate Meglumine & Sodium)': 22,\n",
              " 'Morphine Sulfate (Oral Soln.)': 22,\n",
              " 'DiCYCLOmine': 22,\n",
              " 'Artificial Tear Ointment': 22,\n",
              " 'Perphenazine': 22,\n",
              " 'Ziprasidone': 21,\n",
              " 'OXcarbazepine': 21,\n",
              " 'Ranitidine (Liquid)': 21,\n",
              " 'GlipiZIDE XL': 21,\n",
              " 'PHENObarbital': 21,\n",
              " 'Azathioprine': 20,\n",
              " 'Varicella Virus Vaccine': 20,\n",
              " '0.9% NaCl (EXCEL/ViaFLO BAG)': 20,\n",
              " 'Insulin (Regular) for Hyperkalemia': 20,\n",
              " 'ValGANCIclovir': 20,\n",
              " 'Propranolol LA': 20,\n",
              " 'Insulin Glargine  (CVICU Protocol)': 19,\n",
              " 'Dofetilide': 19,\n",
              " 'Dorzolamide 2% Ophth. Soln.': 19,\n",
              " 'Lidocaine 2%': 19,\n",
              " 'Budesonide': 19,\n",
              " 'Fluticasone-Salmeterol (250/50) ': 19,\n",
              " 'RiTONAvir': 19,\n",
              " 'Pyridoxine': 19,\n",
              " 'Ciprofloxacin 0.3% Ophth Soln': 19,\n",
              " 'Mesalamine DR': 19,\n",
              " 'Cholestyramine': 19,\n",
              " 'Fleet Enema (Saline)': 18,\n",
              " 'Namenda': 18,\n",
              " 'Estradiol': 18,\n",
              " 'Dipyridamole-Aspirin': 18,\n",
              " 'Clobetasol Propionate 0.05% Ointment': 18,\n",
              " 'Mouth Care Oral Rinse': 18,\n",
              " 'Phenytoin Infatab': 18,\n",
              " 'Heparin Flush (1000 units/mL)': 18,\n",
              " 'Gemfibrozil': 17,\n",
              " 'Pioglitazone': 17,\n",
              " 'Aquaphor Ointment': 17,\n",
              " 'Ramipril': 17,\n",
              " 'Felodipine': 17,\n",
              " 'Atazanavir': 17,\n",
              " 'Timolol Maleate 0.25%': 17,\n",
              " 'Phenytoin (Suspension)': 17,\n",
              " 'Triamterene-HCTZ (37.5/25)': 17,\n",
              " 'Ibuprofen Suspension': 17,\n",
              " 'Hydrocortisone (Rectal) 2.5% Cream': 17,\n",
              " 'Clotrimazole Cream': 16,\n",
              " 'Hydrocortisone Cream 1%': 16,\n",
              " 'Hydrocodone-Acetaminophen (5mg-325mg)': 16,\n",
              " 'Buprenorphine-Naloxone (8mg-2mg)': 16,\n",
              " 'Temazepam': 16,\n",
              " 'Risperidone (Disintegrating Tablet)': 16,\n",
              " 'ZIPRASidone Hydrochloride': 16,\n",
              " 'Amphetamine-Dextroamphetamine XR': 16,\n",
              " 'Doxercalciferol': 16,\n",
              " 'Fenofibrate': 16,\n",
              " 'Prasugrel': 15,\n",
              " 'Paricalcitol': 15,\n",
              " 'Oseltamivir': 15,\n",
              " 'LaMIVudine': 15,\n",
              " 'CycloSPORINE (Neoral) MODIFIED': 15,\n",
              " 'Heparin (Hemodialysis)': 15,\n",
              " 'Doxepin HCl': 15,\n",
              " 'Hydrocerin': 15,\n",
              " 'Triamcinolone Acetonide 0.1% Ointment': 14,\n",
              " 'Nystatin Cream': 14,\n",
              " 'Amphetamine-Dextroamphetamine': 14,\n",
              " 'Avapro': 14,\n",
              " 'Lidocaine Jelly 2%': 14,\n",
              " 'Calcium Gluconate sliding scale (Critical Care-Ionized calcium)': 14,\n",
              " 'Mineral Oil': 14,\n",
              " 'Niacin SR': 14,\n",
              " 'HYDROcodone-Acetaminophen (5mg-325mg)': 14,\n",
              " 'Fluvoxamine Maleate': 14,\n",
              " 'Efavirenz': 14,\n",
              " 'Triamcinolone Acetonide 0.1% Cream': 13,\n",
              " 'rOPINIRole': 13,\n",
              " 'CarBAMazepine': 13,\n",
              " 'Pramipexole': 13,\n",
              " 'Divalproex Sod. Sprinkles': 13,\n",
              " 'Raltegravir': 13,\n",
              " 'Lithium Carbonate SR (Lithobid)': 13,\n",
              " 'Morphine Sulfate (Concentrated Oral Soln)': 13,\n",
              " 'Zinc Sulfate': 13,\n",
              " 'Pseudoephedrine': 13,\n",
              " 'Metoprolol XL (Toprol XL)': 13,\n",
              " 'Lactulose Enema': 13,\n",
              " 'AMP': 13,\n",
              " 'Ketoconazole 2% ': 12,\n",
              " 'Tricor': 12,\n",
              " 'Sirolimus': 12,\n",
              " 'Dolutegravir': 12,\n",
              " 'Psyllium Powder': 12,\n",
              " 'Neomycin Sulfate': 12,\n",
              " 'Hydrocortisone Cream 0.5%': 12,\n",
              " 'Levalbuterol Neb': 12,\n",
              " 'Epidural Bag': 12,\n",
              " 'Ziprasidone Hydrochloride': 12,\n",
              " 'Emtricitabine': 12,\n",
              " 'Dexmedetomidine': 12,\n",
              " 'Calcitonin Salmon': 12,\n",
              " 'Nimodipine': 12,\n",
              " 'Clobetasol Propionate 0.05% Cream': 12,\n",
              " 'Darunavir': 11,\n",
              " 'Bismuth Subsalicylate': 11,\n",
              " 'Cosyntropin': 11,\n",
              " 'Ropinirole': 11,\n",
              " 'Clarithromycin': 11,\n",
              " 'PrimiDONE': 11,\n",
              " 'Cisatracurium Besylate': 11,\n",
              " 'Sodium Chloride 3% Inhalation Soln': 11,\n",
              " 'Syringe (Chemo)': 11,\n",
              " 'Miconazole 2% Cream': 11,\n",
              " 'Quetiapine extended-release': 11,\n",
              " 'Methylergonovine Maleate': 11,\n",
              " 'Belladonna & Opium (16.2/30mg)': 11,\n",
              " 'Methotrexate': 11,\n",
              " 'Abacavir Sulfate': 11,\n",
              " 'Ampicillin': 11,\n",
              " 'Guaifenesin ER': 11,\n",
              " 'Amantadine': 11,\n",
              " 'Ferrous Gluconate': 10,\n",
              " 'Calcium Chloride': 10,\n",
              " 'Blue CADD Cassette': 10,\n",
              " 'Penicillin V Potassium': 10,\n",
              " 'Desmopressin Acetate': 10,\n",
              " 'Rifampin': 10,\n",
              " 'Linezolid': 10,\n",
              " 'Esomeprazole sodium': 10,\n",
              " 'Nystatin': 10,\n",
              " 'Carbamazepine (Extended-Release)': 10,\n",
              " 'Modafinil': 10,\n",
              " 'Clopidogrel Bisulfate': 10,\n",
              " 'Collagenase Ointment': 10,\n",
              " 'Entecavir': 10,\n",
              " 'Fluphenazine': 10,\n",
              " 'Cinacalcet': 10,\n",
              " 'Nitroglycerin Ointment  2%': 10,\n",
              " 'Aspirin-Caffeine-Butalbital': 10,\n",
              " 'Isosorbide Mononitrate': 10,\n",
              " 'Lidocaine 0.5%': 9,\n",
              " 'Hydrocodone-Acetaminophen (5mg-500mg': 9,\n",
              " 'PHENObarbital - ICU Alcohol Withdrawal (Initial Load / Rescue Dose)': 9,\n",
              " 'Lidocaine 1%/Epinephrine 1:100000': 9,\n",
              " 'Morphine Sulfate (Oral Solution) 2 mg/mL': 9,\n",
              " 'Desipramine': 9,\n",
              " 'Liothyronine Sodium': 9,\n",
              " 'glimepiride': 9,\n",
              " 'RISperidone (Disintegrating Tablet)': 9,\n",
              " 'Mercaptopurine': 9,\n",
              " 'Capsaicin 0.025%': 9,\n",
              " 'Naltrexone': 9,\n",
              " 'naltrexone': 9,\n",
              " 'Carbidopa-Levodopa CR (50-200)': 9,\n",
              " 'Lovastatin': 9,\n",
              " 'Silver Sulfadiazine 1% Cream': 9,\n",
              " 'Clonidine Patch 0.1 mg/24 hr': 9,\n",
              " 'Propafenone HCl': 9,\n",
              " 'Aluminum Hydroxide Suspension': 9,\n",
              " 'Nalbuphine HCl': 9,\n",
              " 'Bengay Cream': 9,\n",
              " 'NiMODipine': 9,\n",
              " 'LevoFLOXacin': 9,\n",
              " 'Artificial Tears GEL 1%': 9,\n",
              " 'Clobazam': 9,\n",
              " 'Adderall XR': 9,\n",
              " 'Celecoxib': 9,\n",
              " 'Clonidine Patch 0.3 mg/24 hr': 9,\n",
              " 'Potassium Citrate': 9,\n",
              " 'Erythromycin': 8,\n",
              " 'Tamoxifen Citrate': 8,\n",
              " 'Witch Hazel 50% Pad': 8,\n",
              " 'QUEtiapine extended-release': 8,\n",
              " 'Levetiracetam': 8,\n",
              " 'PALIperidone ER': 8,\n",
              " 'Nitroglycerin Patch': 8,\n",
              " 'Lumigan': 8,\n",
              " 'Anastrozole': 8,\n",
              " 'Mucinex': 8,\n",
              " 'Adderall': 8,\n",
              " 'sevelamer HYDROCHLORIDE': 8,\n",
              " 'Calcium Replacement (Oncology)': 8,\n",
              " 'Ipratropium-Albuterol Inhalation Spray': 8,\n",
              " 'Potassium Chl 40 mEq / 1000 mL D5NS': 8,\n",
              " 'Syringe (Sterile Water)': 8,\n",
              " 'Methylphenidate': 8,\n",
              " 'Lacosamide': 8,\n",
              " 'Miconazole Nitrate Vag Cream 2%': 8,\n",
              " 'Latuda': 8,\n",
              " 'EPINEPHrine (EpiPEN)': 8,\n",
              " 'D5W (EXCEL BAG)': 8,\n",
              " 'Estrogens Conjugated': 8,\n",
              " 'Pyridostigmine Bromide': 8,\n",
              " 'NS Syringe (Intrapleural)': 8,\n",
              " 'Salmeterol Xinafoate Diskus (50 mcg)': 8,\n",
              " 'Ferrous GLUCONATE': 8,\n",
              " 'Iohexol 240': 8,\n",
              " 'Hydrocortisone Acetate Suppository': 8,\n",
              " 'Atropine Sulfate 1%': 8,\n",
              " 'AzaTHIOprine': 8,\n",
              " 'Syringe (NS)': 7,\n",
              " 'Ferrous Sulfate (Liquid)': 7,\n",
              " 'Carbidopa-Levodopa (10-100)': 7,\n",
              " 'Fondaparinux': 7,\n",
              " 'Hydrocortisone Cream 2.5%': 7,\n",
              " 'Sildenafil': 7,\n",
              " 'Haloperidol Decanoate': 7,\n",
              " 'Aspirin Desensitization (Angioedema)': 7,\n",
              " 'Eplerenone': 7,\n",
              " 'Maalox/Lidocaine': 7,\n",
              " 'Vitamin B Complex w/C': 7,\n",
              " 'Docusate ': 7,\n",
              " 'Mupirocin Cream 2%': 7,\n",
              " 'Rocuronium': 7,\n",
              " 'Minocycline': 7,\n",
              " 'Nitrofurantoin (Macrodantin)': 7,\n",
              " 'Aspirin Desensitization (Urticaria/Angioedema)': 7,\n",
              " 'Lubiprostone': 7,\n",
              " 'DULoxetine DR': 7,\n",
              " 'Hydrocortisone Enema': 7,\n",
              " 'Moexipril': 7,\n",
              " 'Glycerin Supps': 7,\n",
              " 'OxycoDONE (Concentrated Oral Soln)': 7,\n",
              " 'Imipramine': 7,\n",
              " 'Dapsone': 7,\n",
              " 'Megestrol Acetate': 7,\n",
              " 'Octreotide Acetate': 7,\n",
              " 'Lopinavir-Ritonavir': 7,\n",
              " 'Morphine Sulfate (Concentrated Oral Solution) 20 mg/mL': 7,\n",
              " 'pramipexole': 7,\n",
              " 'Aspirin (Buffered)': 7,\n",
              " 'Dextromethorphan-Guaifenesin (Sugar Free)': 7,\n",
              " 'Propoxyphene Nap.-Apap (N-100)': 7,\n",
              " 'Fluocinonide 0.05% Cream': 7,\n",
              " 'Isoniazid': 7,\n",
              " 'Repaglinide': 7,\n",
              " 'Amoxicillin-Clavulanate Susp.': 7,\n",
              " '300 mcg Vial': 7,\n",
              " 'Fleet Enema (Mineral Oil)': 6,\n",
              " 'TB Syringe': 6,\n",
              " 'Ferric Gluconate': 6,\n",
              " 'Hydrocortisone Acetate Ointment 1%': 6,\n",
              " 'Lidocaine-Prilocaine': 6,\n",
              " 'Bottle': 6,\n",
              " 'Enalaprilat': 6,\n",
              " 'Terbinafine 1% Cream': 6,\n",
              " 'Xopenex Neb': 6,\n",
              " 'LaMICtal XR': 6,\n",
              " 'DiCLOXacillin': 6,\n",
              " 'Desonide 0.05% Cream': 6,\n",
              " 'Travatan Z': 6,\n",
              " 'Cimetidine': 6,\n",
              " 'Heparin (CRRT Machine Priming)': 6,\n",
              " 'Adenosine': 6,\n",
              " 'Sevelamer': 6,\n",
              " 'Albumin 5%': 6,\n",
              " 'Tucks Hemorrhoidal Oint 1%': 6,\n",
              " 'Ketorolac 0.5% Ophth Soln': 6,\n",
              " 'Keppra XR': 6,\n",
              " 'cilostazol': 6,\n",
              " 'Mesalamine (Rectal)': 6,\n",
              " 'Buprenorphine': 6,\n",
              " 'SulfaSALAzine_': 6,\n",
              " 'Magnesium Sulfate Replacement (Oncology)': 6,\n",
              " 'Epinephrine 1:1000': 6,\n",
              " 'Sodium Chloride 3% (Hypertonic)': 6,\n",
              " 'Diclofenac Sodium DR': 6,\n",
              " 'ATRIPLA': 6,\n",
              " 'Symbicort': 6,\n",
              " 'Carbidopa-Levodopa (25-250)': 6,\n",
              " 'D10W': 6,\n",
              " 'Alteplase (Catheter Clearance)': 6,\n",
              " 'Methylene Blue 1%': 6,\n",
              " 'Phenytoin Sodium (IV)': 5,\n",
              " 'Exelon': 5,\n",
              " 'Protamine Sulfate': 5,\n",
              " 'Nystatin Ointment': 5,\n",
              " 'Racepinephrine': 5,\n",
              " 'Syringe (Intraperitoneal)': 5,\n",
              " 'Mycophenolate Sodium DR': 5,\n",
              " 'Mesalamine Enema': 5,\n",
              " 'AMOXicillin Oral Susp.': 5,\n",
              " 'Fluocinonide 0.05% Ointment': 5,\n",
              " 'Tizanidine HCl': 5,\n",
              " 'Succinylcholine': 5,\n",
              " 'MetOLazone': 5,\n",
              " 'Acetaminophen w/Codeine Elixir': 5,\n",
              " 'Iohexol 240 (Omnipaque 240)': 5,\n",
              " 'Divalproex Sodium': 5,\n",
              " 'Fentanyl PCA': 5,\n",
              " 'Ethacrynic Acid': 5,\n",
              " 'TRIAzolam': 5,\n",
              " 'ClomiPRAMINE': 5,\n",
              " 'Argatroban': 5,\n",
              " 'Voriconazole': 5,\n",
              " 'Betaxolol Ophth Susp  0.25%': 5,\n",
              " 'irbesartan': 5,\n",
              " 'Comtan': 5,\n",
              " 'Heparin Flush CVL  (100 units/ml)': 5,\n",
              " 'Rasagiline': 5,\n",
              " 'Clevidipine': 5,\n",
              " 'Trandolapril': 5,\n",
              " 'Etomidate': 5,\n",
              " 'Combigan': 5,\n",
              " 'Amitriptyline HCl': 5,\n",
              " 'Lyrica': 5,\n",
              " 'NIFEdipine (Immediate Release)': 5,\n",
              " 'Januvia': 5,\n",
              " 'Risperidone Long Acting Injection': 5,\n",
              " 'Caphosol': 5,\n",
              " 'Benicar': 5,\n",
              " 'Fosaprepitant': 5,\n",
              " 'Rufinamide': 5,\n",
              " 'GuaiFENesin-Dextromethorphan': 5,\n",
              " 'Sulfameth/Trimethoprim Suspension': 5,\n",
              " 'Betamethasone Dipro 0.05% Cream': 5,\n",
              " 'Bicitra': 5,\n",
              " 'Norethindrone-Estradiol': 5,\n",
              " 'Bacitracin Ophthalmic Oint': 5,\n",
              " 'Phenazopyridine HCl': 5,\n",
              " 'Provigil': 5,\n",
              " 'Acamprosate': 5,\n",
              " 'Thiothixene': 4,\n",
              " 'Bethanechol': 4,\n",
              " 'Theophylline SR': 4,\n",
              " 'Dronabinol': 4,\n",
              " 'PALIperidone Palmitate': 4,\n",
              " 'Dronedarone': 4,\n",
              " 'Rubella Virus Vaccine': 4,\n",
              " 'Niacin': 4,\n",
              " 'Phenaseptic Throat Spray': 4,\n",
              " 'Bupivacaine 0.5%': 4,\n",
              " 'rifAXIMin': 4,\n",
              " 'Aminocaproic Acid': 4,\n",
              " 'Vimpat': 4,\n",
              " 'Heparin Flush PICC (100 units/ml)': 4,\n",
              " 'Pancrelipase 5000': 4,\n",
              " 'Methylphenidate SR': 4,\n",
              " 'Probenecid': 4,\n",
              " 'bisoprolol fumarate': 4,\n",
              " 'albuterol sulfate': 4,\n",
              " 'Buprenorphine-Naloxone Film (8mg-2mg)': 4,\n",
              " 'Advair Diskus': 4,\n",
              " 'Sodium Chloride 0.9%  (Mini Bag Plus)': 4,\n",
              " 'OxyCODONE Liquid': 4,\n",
              " 'RisperiDONE Long Acting Injection': 4,\n",
              " 'Donnatol': 4,\n",
              " 'Gelclair': 4,\n",
              " 'Azopt': 4,\n",
              " 'CYCLOSPORINE 0.05% OPHTH EMULSION': 4,\n",
              " 'Methyldopa': 4,\n",
              " 'Entacapone': 4,\n",
              " 'Xopenex': 4,\n",
              " 'Pentamidine-Inhalation': 4,\n",
              " 'Levemir': 4,\n",
              " 'Restasis': 4,\n",
              " 'bimatoprost': 4,\n",
              " 'Potassium Chl 40 mEq / 1000 mL D5W': 4,\n",
              " 'Mirapex': 4,\n",
              " 'Hydrocortisone Oint 2.5%': 4,\n",
              " 'Isavuconazonium Sulfate': 4,\n",
              " 'NS Epidural Bag (0.9% NaCl)': 4,\n",
              " 'Docusate': 4,\n",
              " 'Vecuronium Bromide': 4,\n",
              " 'Clotrimazole': 4,\n",
              " 'Hepatitis B Vaccine': 4,\n",
              " 'LeVETiracetam Oral Solution': 4,\n",
              " 'ChlordiazePOXIDE': 4,\n",
              " 'Bengay': 4,\n",
              " 'Calcium Carbonate Suspension': 4,\n",
              " 'Ivermectin': 4,\n",
              " 'Naphazoline-Pheniramine Ophth. Solution': 4,\n",
              " 'Lidocaine 0.5%/Epinephrine': 4,\n",
              " 'Buprenorphine-Naloxone Tablet (8mg-2mg)': 4,\n",
              " 'Sacubitril-Valsartan (49mg-51mg)': 4,\n",
              " 'OxyCODONE SR (OxyCONTIN)': 4,\n",
              " 'LaMIVudine-Zidovudine (Combivir)': 4,\n",
              " 'Glycopyrrolate (CVICU Reversal Protocol)': 4,\n",
              " 'raloxifene': 3,\n",
              " 'Tetanus-Diphtheria Tox (TENIVAC)': 3,\n",
              " 'Pilocarpine 2%': 3,\n",
              " 'Ropinirole HCl': 3,\n",
              " 'Augmentin Suspension': 3,\n",
              " 'Insulin Syringe U-500': 3,\n",
              " 'Hemorrhoidal Suppository': 3,\n",
              " 'MEMAntine': 3,\n",
              " 'Albumin 5% ': 3,\n",
              " 'Dilantin Extended': 3,\n",
              " 'Codeine Phosphate': 3,\n",
              " 'Oseltamivir Phosphate': 3,\n",
              " 'CarBAMazepine (Extended-Release)': 3,\n",
              " 'Carbidopa-Levodopa CR (25-100)': 3,\n",
              " 'brinzolamide': 3,\n",
              " 'Sucralfate Enema': 3,\n",
              " 'PrednisoLONE Acetate 0.12% Ophth. Susp.': 3,\n",
              " 'Brivaracetam': 3,\n",
              " 'Buprenorphine-Naloxone Film (4mg-1mg)': 3,\n",
              " 'fenofibrate': 3,\n",
              " 'diclofenac sodium': 3,\n",
              " 'letrozole': 3,\n",
              " 'Solution': 3,\n",
              " 'Zofran ODT': 3,\n",
              " 'Miconazole Nitrate (Combo Pack)': 3,\n",
              " 'Aerogen Syringe (SW)': 3,\n",
              " 'Pilocarpine 4%': 3,\n",
              " 'Pilocarpine 1%': 3,\n",
              " 'cabergoline': 3,\n",
              " 'DOXOrubicin': 3,\n",
              " 'Syringe (SW)': 3,\n",
              " 'Heparin Sodium': 3,\n",
              " 'Febuxostat': 3,\n",
              " 'Trifluoperazine HCl': 3,\n",
              " 'Nevirapine': 3,\n",
              " 'Dextromethorphan Polistirex': 3,\n",
              " 'PHENYLEPHrine': 3,\n",
              " 'RisperiDONE (Disintegrating Tablet)': 3,\n",
              " 'Meningococcal Group B Vaccine (Trumenba)': 3,\n",
              " 'Potassium Chl 20 mEq / 1000 mL D5W': 3,\n",
              " 'Betamethasone Dipro 0.05% Oint': 3,\n",
              " 'Ketoconazole': 3,\n",
              " 'Divalproex Sodium ER': 3,\n",
              " 'Posaconazole Delayed Release Tablet': 3,\n",
              " 'PHENObarbital - ICU Alcohol Withdrawal (Loading Dose 2 and 3)': 3,\n",
              " 'Valtrex': 3,\n",
              " 'Triamcinolone Acetonide 0.025% Cream': 3,\n",
              " 'Ribavirin': 3,\n",
              " 'Tobramycin 0.3% Ophth Soln': 3,\n",
              " 'Fat Emulsion 20%': 3,\n",
              " 'Letrozole': 3,\n",
              " '23.4% Sodium Chloride': 3,\n",
              " 'Nexium': 3,\n",
              " 'MetronidAZOLE Topical 1 % Gel': 3,\n",
              " 'Bisoprolol Fumarate': 3,\n",
              " 'Orabase w/ Benzocaine Paste': 3,\n",
              " 'Carbamazepine XR': 3,\n",
              " 'Nitroglycerin': 3,\n",
              " 'Prismasate (B32 K2)': 3,\n",
              " 'olmesartan': 3,\n",
              " 'Atropine Sulfate Ophth 1%': 3,\n",
              " 'Thrombin': 3,\n",
              " 'Clindamycin 1% Solution': 3,\n",
              " 'Vitamin A': 3,\n",
              " 'Pioglitazone HCl': 3,\n",
              " 'Clonidine Patch 0.2 mg/24 hr': 3,\n",
              " 'Morphine Infusion – Comfort Care Guidelines': 3,\n",
              " 'ruxolitinib': 3,\n",
              " 'Chlorpheniramine Maleate': 3,\n",
              " 'Fluticasone-Salmeterol (100/50)': 3,\n",
              " 'anastrozole': 3,\n",
              " 'Nefazodone': 3,\n",
              " 'Heparin Flush (5000 Units/mL)': 3,\n",
              " 'Prenatal Gummy': 3,\n",
              " 'VALTREX': 3,\n",
              " 'Dextromethorphan Poly Complex': 3,\n",
              " 'Lidocaine 2%/Epi 1:100,000': 3,\n",
              " 'Amino Acids 5%-Dextrose 15%': 3,\n",
              " 'CycloSPORINE (Sandimmune)': 3,\n",
              " 'TEGretol XR': 3,\n",
              " 'Betamethasone Dipro 0.05% Augmented Gel': 3,\n",
              " 'Skelaxin': 3,\n",
              " 'Albuterol 0.5%': 3,\n",
              " 'Carbamazepine Suspension': 3,\n",
              " 'Amantadine Syrup': 3,\n",
              " 'Leucovorin Calcium': 3,\n",
              " 'Benzoyl Peroxide Gel 10%': 3,\n",
              " 'Rosiglitazone Maleate': 3,\n",
              " 'Thyroid': 3,\n",
              " 'Bromocriptine Mesylate': 3,\n",
              " 'CefTRIAXone': 3,\n",
              " 'benazepril': 3,\n",
              " 'Donnatal': 2,\n",
              " 'Didanosine EC': 2,\n",
              " 'Hepatitis A Vaccine': 2,\n",
              " 'Venlafaxi': 2,\n",
              " 'Hyoscyamine SO4 (Time Release)': 2,\n",
              " 'Copaxone': 2,\n",
              " 'Quinine Sulfate': 2,\n",
              " 'Unisom': 2,\n",
              " 'Plasma-Lyte A (pH 7.4)': 2,\n",
              " 'Verapamil HCl': 2,\n",
              " 'Desmopressin Nasal': 2,\n",
              " 'Dextrose 5%  (*Glass Bottle*)': 2,\n",
              " 'Cilostazol': 2,\n",
              " 'Pyridoxine HCl': 2,\n",
              " 'progesterone': 2,\n",
              " 'Paliperidone ER': 2,\n",
              " 'Pantoprazole (Granules for DR Suspension)': 2,\n",
              " 'Valacyclovir': 2,\n",
              " 'ZYRtec': 2,\n",
              " 'Myfortic': 2,\n",
              " 'Fosfomycin Tromethamine': 2,\n",
              " 'desvenlafaxine succinate': 2,\n",
              " 'ranolazine': 2,\n",
              " 'Propylthiouracil': 2,\n",
              " 'Stribild': 2,\n",
              " 'Multiple Vitamins Liq.': 2,\n",
              " 'Mexiletine': 2,\n",
              " 'Isosorbide ': 2,\n",
              " 'Entecavir Oral Solution': 2,\n",
              " 'LeVETiracetam Solution': 2,\n",
              " 'Fosamprenavir': 2,\n",
              " 'omeprazole': 2,\n",
              " 'Magnesium Sulfate Replacement (Critical Care and Oncology)': 2,\n",
              " 'moxifloxacin': 2,\n",
              " 'NovoLOG': 2,\n",
              " 'Prazosin HCl': 2,\n",
              " 'Aerogen Syringe (NS)': 2,\n",
              " 'azelastine': 2,\n",
              " 'Ranolazine ER': 2,\n",
              " 'Nabumetone': 2,\n",
              " 'Vasopressin (for dilution)': 2,\n",
              " 'Tobramycin-Dexamethasone Ophth Oint': 2,\n",
              " 'alfuzosin': 2,\n",
              " 'Miralax': 2,\n",
              " 'modafinil': 2,\n",
              " 'Isosorbide Dinitrate ER': 2,\n",
              " '5 Syringes (NS)': 2,\n",
              " 'Ethambutol HCl': 2,\n",
              " 'Iron Polysaccharides Complex': 2,\n",
              " 'HYDROmorphone Infusion – Comfort Care Guidelines': 2,\n",
              " 'vilazodone': 2,\n",
              " 'Fluorometholone 0.1% Ophth Susp.': 2,\n",
              " 'Lidocaine': 2,\n",
              " 'Naphazoline 0.1% Ophth': 2,\n",
              " 'Chlordiazepoxide HCl': 2,\n",
              " 'Acyclovir Ointment 5%': 2,\n",
              " 'Lactic Acid 12% Lotion': 2,\n",
              " 'Mannitol': 2,\n",
              " 'Aveeno Bath': 2,\n",
              " '0.9% Sodium Chloride (EXCEL BAG)': 2,\n",
              " 'tiotropium bromide': 2,\n",
              " 'Hydrocortisone Acetate 10%  Foam': 2,\n",
              " 'pilocarpine HCl': 2,\n",
              " 'Rytary': 2,\n",
              " 'entacapone': 2,\n",
              " 'CeftriaXONE': 2,\n",
              " 'travoprost': 2,\n",
              " 'Niacinamide': 2,\n",
              " 'Tecfidera': 2,\n",
              " 'Albumin 5': 2,\n",
              " 'Celebrex': 2,\n",
              " 'Selegiline HCl': 2,\n",
              " 'Bicalutamide': 2,\n",
              " 'Erythromycin Ethylsuccinate Suspension': 2,\n",
              " 'Carbamide Peroxide 6.5%': 2,\n",
              " 'Triamterene': 2,\n",
              " 'leflunomide': 2,\n",
              " 'Tranexamic Acid Oral Solution': 2,\n",
              " 'Tetanus-DiphTox-Acellular Pertuss (Tdap)': 2,\n",
              " 'Dextroamphetamine': 2,\n",
              " 'levothyroxine': 2,\n",
              " 'Azilect': 2,\n",
              " 'Peginterferon Alfa-2a': 2,\n",
              " 'Neostigmine (CVICU Reversal Protocol)': 2,\n",
              " 'Emtricitabine-Tenofovir alafen (200mg-25mg) *DESCOVY*': 2,\n",
              " 'Lamictal XR': 2,\n",
              " 'Cyclophosphamide': 2,\n",
              " 'Minoxidil': 2,\n",
              " 'Prometrium': 2,\n",
              " 'Genvoya': 2,\n",
              " 'Lithium Carbonate CR (Eskalith)': 2,\n",
              " 'Evista': 2,\n",
              " 'Bacitracin-Polymyxin Ointment': 2,\n",
              " 'Apraclonidine 0.5%': 2,\n",
              " 'Nystatin-Triamcinolone Cream': 2,\n",
              " 'Pentoxifylline': 2,\n",
              " 'HumaLOG': 2,\n",
              " 'Creon 10': 2,\n",
              " 'DimenhyDRINATE': 2,\n",
              " 'CELECOXIB': 2,\n",
              " 'Papain 2.5 % Solution': 2,\n",
              " 'Hydromorphone (Rectal)': 2,\n",
              " 'Alvimopan': 2,\n",
              " 'Indapamide': 2,\n",
              " 'Amiloride HCl': 2,\n",
              " 'Sacubitril-Valsartan (24mg-26mg)': 2,\n",
              " 'Hydromorphone (Oral Solution) 1 mg/1 mL': 2,\n",
              " 'Testosterone 5mg Patch': 2,\n",
              " 'LaMICtal': 2,\n",
              " ...}"
            ]
          },
          "metadata": {},
          "execution_count": 59
        }
      ],
      "source": [
        "df.drug.value_counts().to_dict()"
      ]
    },
    {
      "cell_type": "code",
      "execution_count": 60,
      "id": "f5c024af",
      "metadata": {
        "id": "f5c024af",
        "colab": {
          "base_uri": "https://localhost:8080/"
        },
        "outputId": "17c4ac0e-ac10-4fea-a486-61d18c88d7cb"
      },
      "outputs": [
        {
          "output_type": "execute_result",
          "data": {
            "text/plain": [
              "0"
            ]
          },
          "metadata": {},
          "execution_count": 60
        }
      ],
      "source": [
        "df = generic_util_instance.replace_nan(df, 'drug', 'None')\n",
        "df.drug.isna().sum()"
      ]
    },
    {
      "cell_type": "code",
      "execution_count": 61,
      "id": "9441693b",
      "metadata": {
        "colab": {
          "base_uri": "https://localhost:8080/"
        },
        "id": "9441693b",
        "outputId": "612a22b3-93df-49e0-ab99-166bcf725521"
      },
      "outputs": [
        {
          "output_type": "execute_result",
          "data": {
            "text/plain": [
              "drug\n",
              "Other                          112582\n",
              "None                            22293\n",
              "Sodium Chloride 0.9%  Flush      9156\n",
              "Acetaminophen                    7995\n",
              "Heparin                          5161\n",
              "0.9% Sodium Chloride             5044\n",
              "Docusate Sodium                  4991\n",
              "Insulin                          3584\n",
              "Senna                            3430\n",
              "Ondansetron                      3276\n",
              "HYDROmorphone (Dilaudid)         3165\n",
              "Name: count, dtype: int64"
            ]
          },
          "metadata": {},
          "execution_count": 61
        }
      ],
      "source": [
        "df = generic_util_instance.replace_column_value(df, 'drug', 3000, 'Other')\n",
        "df.drug.value_counts()"
      ]
    },
    {
      "cell_type": "code",
      "execution_count": 62,
      "id": "48ed8a98",
      "metadata": {
        "id": "48ed8a98",
        "colab": {
          "base_uri": "https://localhost:8080/"
        },
        "outputId": "0a35737e-8117-4321-f1ee-a076f1dcb506"
      },
      "outputs": [
        {
          "output_type": "execute_result",
          "data": {
            "text/plain": [
              "22335"
            ]
          },
          "metadata": {},
          "execution_count": 62
        }
      ],
      "source": [
        "df.route.isna().sum()"
      ]
    },
    {
      "cell_type": "code",
      "execution_count": 63,
      "id": "ffd0b07b",
      "metadata": {
        "id": "ffd0b07b",
        "colab": {
          "base_uri": "https://localhost:8080/"
        },
        "outputId": "d4e1ad8a-3670-4233-af37-97caaf294d4f"
      },
      "outputs": [
        {
          "output_type": "execute_result",
          "data": {
            "text/plain": [
              "{'IV': 49211,\n",
              " 'PO/NG': 42275,\n",
              " 'PO': 38260,\n",
              " 'SC': 9397,\n",
              " 'IM': 6183,\n",
              " 'IV DRIP': 2312,\n",
              " 'IH': 2152,\n",
              " 'PR': 1935,\n",
              " 'TP': 1645,\n",
              " 'ORAL': 821,\n",
              " 'TD': 776,\n",
              " 'IVPCA': 719,\n",
              " 'BOTH EYES': 490,\n",
              " 'NU': 444,\n",
              " 'NG': 306,\n",
              " 'SL': 261,\n",
              " 'NEB': 224,\n",
              " 'IV BOLUS': 118,\n",
              " 'ED': 114,\n",
              " 'ID': 101,\n",
              " 'DWELL': 99,\n",
              " 'LEFT EYE': 81,\n",
              " 'RIGHT EYE': 79,\n",
              " 'SUBCUT': 45,\n",
              " 'OU': 42,\n",
              " 'DIALYS': 30,\n",
              " 'REPLACE': 28,\n",
              " 'VG': 26,\n",
              " 'INHALATION': 25,\n",
              " 'PERIPHNERVE': 17,\n",
              " 'PL': 16,\n",
              " 'PB': 15,\n",
              " 'NAS': 10,\n",
              " 'RIGHT EAR': 10,\n",
              " 'OD': 8,\n",
              " 'OS': 7,\n",
              " 'LOCK': 7,\n",
              " 'IP': 7,\n",
              " 'BOTH EARS': 6,\n",
              " 'INTRAPLEURAL': 5,\n",
              " 'IT': 4,\n",
              " 'IN': 3,\n",
              " 'AD': 3,\n",
              " 'NS': 2,\n",
              " 'G TUBE': 2,\n",
              " 'LUMBAR PLEXUS': 2,\n",
              " 'FLUSH': 2,\n",
              " 'SCPUMP': 2,\n",
              " 'BUCCAL': 2,\n",
              " 'IRR': 1,\n",
              " 'INTERSPACE': 1,\n",
              " 'AU': 1,\n",
              " 'INTRACORPOREAL': 1,\n",
              " 'INTRA-ARTERIALLY': 1,\n",
              " 'IA': 1,\n",
              " 'IMPELLA': 1,\n",
              " 'LEFT EAR': 1,\n",
              " 'TT': 1,\n",
              " 'BU': 1,\n",
              " 'PO/OG': 1,\n",
              " 'TRANSDERMAL': 1,\n",
              " 'NG/OG': 1}"
            ]
          },
          "metadata": {},
          "execution_count": 63
        }
      ],
      "source": [
        "df.route.value_counts().to_dict()"
      ]
    },
    {
      "cell_type": "code",
      "execution_count": 64,
      "id": "6b80b8d0",
      "metadata": {
        "id": "6b80b8d0",
        "colab": {
          "base_uri": "https://localhost:8080/"
        },
        "outputId": "a1a615b4-b62f-4aa2-b75d-f9457f7732f3"
      },
      "outputs": [
        {
          "output_type": "execute_result",
          "data": {
            "text/plain": [
              "0"
            ]
          },
          "metadata": {},
          "execution_count": 64
        }
      ],
      "source": [
        "df = generic_util_instance.replace_nan(df, 'route', 'None')\n",
        "df.route.isna().sum()"
      ]
    },
    {
      "cell_type": "code",
      "execution_count": 65,
      "id": "b2b698ba",
      "metadata": {
        "id": "b2b698ba",
        "colab": {
          "base_uri": "https://localhost:8080/"
        },
        "outputId": "9b427139-1712-45c2-d9ae-6097ad574784"
      },
      "outputs": [
        {
          "output_type": "execute_result",
          "data": {
            "text/plain": [
              "route\n",
              "IV       49211\n",
              "PO/NG    42275\n",
              "PO       38260\n",
              "None     22335\n",
              "Other    13016\n",
              "SC        9397\n",
              "IM        6183\n",
              "Name: count, dtype: int64"
            ]
          },
          "metadata": {},
          "execution_count": 65
        }
      ],
      "source": [
        "df = generic_util_instance.replace_column_value(df, 'route', 2500, 'Other')\n",
        "df.route.value_counts()"
      ]
    },
    {
      "cell_type": "code",
      "execution_count": 66,
      "id": "12c9696a",
      "metadata": {
        "id": "12c9696a",
        "colab": {
          "base_uri": "https://localhost:8080/"
        },
        "outputId": "6cf16687-81fb-4ab0-d7de-73116d2d99f1"
      },
      "outputs": [
        {
          "output_type": "execute_result",
          "data": {
            "text/plain": [
              "159380"
            ]
          },
          "metadata": {},
          "execution_count": 66
        }
      ],
      "source": [
        "df.org_name.isna().sum()"
      ]
    },
    {
      "cell_type": "code",
      "execution_count": 67,
      "id": "e5ef563d",
      "metadata": {
        "id": "e5ef563d",
        "colab": {
          "base_uri": "https://localhost:8080/"
        },
        "outputId": "8105aac3-1e5d-42c4-b0b5-13891ad8603a"
      },
      "outputs": [
        {
          "output_type": "execute_result",
          "data": {
            "text/plain": [
              "{'ESCHERICHIA COLI': 4148,\n",
              " 'CANCELLED': 3323,\n",
              " 'STAPH AUREUS COAG +': 2883,\n",
              " 'GRAM POSITIVE BACTERIA': 1762,\n",
              " 'STAPHYLOCOCCUS, COAGULASE NEGATIVE': 1078,\n",
              " 'KLEBSIELLA PNEUMONIAE': 739,\n",
              " 'ENTEROCOCCUS SP.': 685,\n",
              " 'YEAST': 598,\n",
              " 'BETA STREPTOCOCCUS GROUP B': 503,\n",
              " 'POSITIVE FOR METHICILLIN RESISTANT STAPH AUREUS': 437,\n",
              " 'PROTEUS MIRABILIS': 361,\n",
              " 'PSEUDOMONAS AERUGINOSA': 334,\n",
              " 'CORYNEBACTERIUM SPECIES (DIPHTHEROIDS)': 259,\n",
              " 'VIRIDANS STREPTOCOCCI': 200,\n",
              " 'GRAM NEGATIVE ROD(S)': 195,\n",
              " 'PRESUMPTIVE GARDNERELLA VAGINALIS': 176,\n",
              " 'CHLAMYDIA TRACHOMATIS': 175,\n",
              " 'CLOSTRIDIUM DIFFICILE': 170,\n",
              " 'BETA STREPTOCOCCI, NOT GROUP A': 167,\n",
              " 'S. AUREUS POSITIVE; MRSA NEGATIVE': 155,\n",
              " 'BETA STREPTOCOCCUS GROUP A': 152,\n",
              " 'MIXED BACTERIAL FLORA': 128,\n",
              " 'LACTOBACILLUS SPECIES': 120,\n",
              " 'KLEBSIELLA OXYTOCA': 106,\n",
              " 'POSITIVE FOR GROUP B BETA STREPTOCOCCI': 101,\n",
              " 'BACTEROIDES FRAGILIS GROUP': 97,\n",
              " 'STAPHYLOCOCCUS EPIDERMIDIS': 80,\n",
              " 'PROPIONIBACTERIUM ACNES': 80,\n",
              " 'ENTEROBACTER AEROGENES': 78,\n",
              " 'GRAM POSITIVE COCCUS(COCCI)': 72,\n",
              " 'ENTEROBACTER CLOACAE COMPLEX': 72,\n",
              " 'STREPTOCOCCUS ANGINOSUS (MILLERI) GROUP': 71,\n",
              " 'SERRATIA MARCESCENS': 69,\n",
              " 'ANAEROBIC GRAM POSITIVE COCCUS(I)': 67,\n",
              " 'STREPTOCOCCUS PNEUMONIAE': 67,\n",
              " 'MORGANELLA MORGANII': 58,\n",
              " 'ENTEROBACTER CLOACAE': 56,\n",
              " 'GRAM POSITIVE RODS': 50,\n",
              " 'CITROBACTER KOSERI': 46,\n",
              " 'CITROBACTER FREUNDII COMPLEX': 45,\n",
              " 'ENTEROCOCCUS FAECALIS': 44,\n",
              " 'STAPHYLOCOCCUS SAPROPHYTICUS, PRESUMPTIVE IDENTIFICATION': 37,\n",
              " 'TRICHOPHYTON SPECIES': 32,\n",
              " 'NEISSERIA GONORRHOEAE': 31,\n",
              " 'PROBABLE ENTEROCOCCUS': 30,\n",
              " 'HERPES SIMPLEX VIRUS TYPE 1': 30,\n",
              " 'HAEMOPHILUS INFLUENZAE, BETA-LACTAMASE NEGATIVE': 29,\n",
              " 'HERPES SIMPLEX VIRUS TYPE 2': 26,\n",
              " 'STAPHYLOCOCCUS SPECIES': 25,\n",
              " 'CAMPYLOBACTER JEJUNI': 25,\n",
              " 'MORAXELLA CATARRHALIS': 24,\n",
              " 'POSITIVE FOR INFLUENZA A VIRAL ANTIGEN': 24,\n",
              " 'PREVOTELLA SPECIES': 23,\n",
              " 'PROBABLE MICROCOCCUS SPECIES': 23,\n",
              " 'YEAST, PRESUMPTIVELY NOT C. ALBICANS': 22,\n",
              " 'PRESUMPTIVE STREPTOCOCCUS BOVIS': 22,\n",
              " 'BETA STREPTOCOCCUS GROUP G': 19,\n",
              " 'CANDIDA ALBICANS': 19,\n",
              " 'PRESUMPTIVE PEPTOSTREPTOCOCCUS SPECIES': 18,\n",
              " 'PENICILLIUM SPECIES': 18,\n",
              " 'STAPHYLOCOCCUS, COAGULASE NEGATIVE, PRESUMPTIVELY NOT S. SAPROPHYTICUS': 18,\n",
              " 'POSITIVE': 17,\n",
              " 'BACILLUS SPECIES; NOT ANTHRACIS': 17,\n",
              " 'ENTEROCOCCUS FAECIUM': 17,\n",
              " 'CANDIDA ALBICANS, PRESUMPTIVE IDENTIFICATION': 16,\n",
              " 'PROPIONIBACTERIUM SPECIES': 15,\n",
              " 'ANAEROBIC GRAM POSITIVE ROD(S)': 15,\n",
              " 'HAEMOPHILUS INFLUENZAE, BETA-LACTAMASE POSITIVE': 14,\n",
              " 'S. AUREUS POSITIVE; MRSA POSITIVE': 14,\n",
              " 'POSITIVE FOR VARICELLA ZOSTER': 14,\n",
              " 'MYCOBACTERIUM AVIUM COMPLEX': 14,\n",
              " 'ACIDFAST BACILLI': 12,\n",
              " 'NEISSERIA SPECIES': 11,\n",
              " 'STENOTROPHOMONAS MALTOPHILIA': 11,\n",
              " 'BETA STREPTOCOCCUS GROUP C': 11,\n",
              " 'BLASTOCYSTIS HOMINIS': 11,\n",
              " 'MICROCOCCUS/STOMATOCOCCUS SPECIES': 10,\n",
              " 'ENDOLIMAX NANA': 10,\n",
              " 'VARICELLA-ZOSTER VIRUS': 10,\n",
              " 'STAPHYLOCOCCUS HOMINIS': 10,\n",
              " 'CLOSTRIDIUM PERFRINGENS': 9,\n",
              " 'ACINETOBACTER BAUMANNII COMPLEX': 9,\n",
              " 'CANDIDA GLABRATA': 9,\n",
              " 'MOLD': 9,\n",
              " 'BACILLUS SPECIES': 8,\n",
              " 'AEROCOCCUS URINAE': 8,\n",
              " 'PROVIDENCIA STUARTII': 8,\n",
              " 'STREPTOCOCCUS SPECIES': 8,\n",
              " 'NON-FERMENTER, NOT PSEUDOMONAS AERUGINOSA': 8,\n",
              " 'FEW BLASTOCYSTIS HOMINIS': 8,\n",
              " 'SALMONELLA SPECIES': 8,\n",
              " 'SALMONELLA ENTERITIDIS': 8,\n",
              " 'PSEUDOMONAS PUTIDA ': 8,\n",
              " 'PASTEURELLA SPECIES': 8,\n",
              " 'FUSOBACTERIUM NUCLEATUM': 7,\n",
              " 'CLOSTRIDIUM SPECIES NOT C. PERFRINGENS OR C. SEPTICUM': 7,\n",
              " 'ANAEROBIC GRAM NEGATIVE ROD(S)': 7,\n",
              " 'STAPHYLOCOCCUS LUGDUNENSIS': 7,\n",
              " 'HAEMOPHILUS SPECIES NOT INFLUENZAE': 7,\n",
              " 'GRAM NEGATIVE ROD #1': 7,\n",
              " 'GAMMA(I.E. NON-HEMOLYTIC) STREPTOCOCCUS': 7,\n",
              " 'CITROBACTER AMALONATICUS': 7,\n",
              " 'FUSOBACTERIUM SPECIES': 7,\n",
              " 'PROTEUS VULGARIS': 7,\n",
              " 'GRAM NEGATIVE ROD #2': 6,\n",
              " 'ASPERGILLUS FUMIGATUS': 6,\n",
              " 'PRESUMPTIVE VEILLONELLA SPECIES': 6,\n",
              " 'STREPTOCOCCUS BOVIS ': 6,\n",
              " 'CORYNEBACTERIUM UREALYTICUM SP. NOV.': 6,\n",
              " 'CUTIBACTERIUM (PROPIONIBACTERIUM) ACNES': 6,\n",
              " 'CRYPTOCOCCUS NEOFORMANS': 6,\n",
              " 'PASTEURELLA MULTOCIDA': 6,\n",
              " 'HAEMOPHILUS SP': 6,\n",
              " 'STREPTOCOCCUS GALLOLYTICUS SSP. PASTEURIANUS (STREPTOCOCCUS BOVIS)': 5,\n",
              " 'AEROCOCCUS VIRIDANS': 5,\n",
              " 'POSITIVE FOR RESPIRATORY SYNCYTIAL VIRUS (RSV)': 5,\n",
              " 'ENTEROBACTER SPECIES': 5,\n",
              " 'PRESUMPTIVE PROPIONIBACTERIUM ACNES': 5,\n",
              " 'CANDIDA PARAPSILOSIS': 5,\n",
              " 'PROVIDENCIA RETTGERI': 5,\n",
              " 'CLADOSPORIUM SPECIES': 5,\n",
              " 'ENTAMOEBA COLI': 5,\n",
              " 'PRESUMPTIVE CLOSTRIDIUM SEPTICUM': 5,\n",
              " 'NEISSERIA MENINGITIDIS': 5,\n",
              " 'ENTEROBACTER ASBURIAE': 4,\n",
              " 'AEROCOCCUS SPECIES': 4,\n",
              " 'GEMELLA SPECIES': 4,\n",
              " 'SHIGELLA FLEXNERI': 4,\n",
              " 'ASPERGILLUS NIGER': 4,\n",
              " 'ENTAMOEBA HARTMANNI': 4,\n",
              " 'ESCHERICHIA COLI O157:H7': 4,\n",
              " 'TICK CONSISTENT WITH IXODES SPECIES': 4,\n",
              " 'POSITIVE FOR PARAINFLUENZA TYPE 2': 4,\n",
              " 'FUSARIUM SPECIES': 4,\n",
              " 'HAFNIA ALVEI': 3,\n",
              " 'PRESUMPTIVE CLOSTRIDIUM PERFRINGENS': 3,\n",
              " 'ACREMONIUM SPECIES': 3,\n",
              " 'GIARDIA LAMBLIA SEEN': 3,\n",
              " 'STREPTOCOCCUS MUTANS': 3,\n",
              " 'SERRATIA SPECIES': 3,\n",
              " 'PAECILOMYCES SPECIES': 3,\n",
              " 'ACINETOBACTER BAUMANNII': 3,\n",
              " 'GIARDIA LAMBLIA': 3,\n",
              " 'ASPERGILLUS SP. NOT FUMIGATUS, FLAVUS OR NIGER': 3,\n",
              " 'STREPTOCOCCUS GORDONII': 3,\n",
              " 'STAPHYLOCOCCUS CAPITIS': 3,\n",
              " 'MYCOBACTERIUM GORDONAE': 3,\n",
              " 'PANTOEA SPECIES': 3,\n",
              " 'ABIOTROPHIA/GRANULICATELLA SPECIES': 3,\n",
              " 'BETA STREPTOCOCCUS NOT GROUP A OR B': 3,\n",
              " 'GRAM VARIABLE RODS': 3,\n",
              " 'DEMATIACEOUS MOLD': 3,\n",
              " 'SALMONELLA TYPHI': 3,\n",
              " 'POSITIVE FOR PARAINFLUENZA TYPE 1': 2,\n",
              " 'ALTERNARIA SP.': 2,\n",
              " 'CANDIDA KRUSEI': 2,\n",
              " 'AEROMONAS SPECIES': 2,\n",
              " 'ENTEROCOCCUS CASSELIFLAVUS': 2,\n",
              " 'ACHROMOBACTER SPECIES': 2,\n",
              " 'AGGREGATIBACTER (HAEMOPHILUS) APHROPHILUS': 2,\n",
              " 'MYCOBACTERIUM AVIUM': 2,\n",
              " 'CANDIDA DUBLINIENSIS': 2,\n",
              " 'STAPHYLOCOCCUS SIMULANS': 2,\n",
              " 'MYCOBACTERIUM TUBERCULOSIS COMPLEX': 2,\n",
              " 'PHOMA SPECIES': 2,\n",
              " 'STREPTOCOCCUS MILLERI GROUP': 2,\n",
              " 'BACTERIA': 2,\n",
              " 'STREPTOCOCCUS ANGINOSUS': 2,\n",
              " 'PROBABLE GARDNERELLA VAGINALIS': 2,\n",
              " 'ENTEROBACTER GERGOVIAE': 2,\n",
              " 'ASPERGILLUS FUMIGATUS COMPLEX': 2,\n",
              " 'PORPHYROMONAS SPECIES': 2,\n",
              " 'MYCOBACTERIUM KANSASII': 2,\n",
              " 'RARE BLASTOCYSTIS HOMINIS': 2,\n",
              " 'HAEMOPHILUS INFLUENZAE': 2,\n",
              " 'ENTEROBACTERIACEAE': 2,\n",
              " 'SHIGELLA SONNEI': 2,\n",
              " 'LISTERIA MONOCYTOGENES': 2,\n",
              " 'ENTEROCOCCUS GALLINARUM': 2,\n",
              " 'AEROMONAS HYDROPHILA': 2,\n",
              " 'CANDIDA TROPICALIS': 2,\n",
              " 'RAOULTELLA PLANTICOLA': 2,\n",
              " 'MYCELIA STERILIA': 2,\n",
              " 'CAMPYLOBACTER SPECIES': 2,\n",
              " 'INFLUENZA A VIRUS': 1,\n",
              " 'PARACOCCUS YEEI': 1,\n",
              " 'SALMONELLA NEWPORT': 1,\n",
              " 'NEISSERIA SPECIES, NOT GONORRHOEAE': 1,\n",
              " 'ENTEROBACTER AMNIGENUS 2 ': 1,\n",
              " 'MYCOBACTERIUM LENTIFLAVUM': 1,\n",
              " 'STACHYBOTRYS SPP.': 1,\n",
              " 'STAPHYLOCOCCUS SAPROPHYTICUS': 1,\n",
              " 'ALCALIGENES SPECIES': 1,\n",
              " 'PARAINFLUENZA VIRUS TYPE 1': 1,\n",
              " 'NOCARDIA ASTEROIDES COMPLEX ': 1,\n",
              " 'POSITIVE FOR INFLUENZA B VIRAL ANTIGEN': 1,\n",
              " 'GRAM NEGATIVE ROD #3': 1,\n",
              " 'AUREOBASIDIUM PULLULANS': 1,\n",
              " 'BURKHOLDERIA XENOVORANS': 1,\n",
              " 'KLEBSIELLA SPECIES': 1,\n",
              " 'SALMONELLA SAINTPAUL': 1,\n",
              " 'GEMELLA HAEMOLYSANS': 1,\n",
              " 'IXODES SPECIES': 1,\n",
              " 'MORAXELLA SPECIES': 1,\n",
              " 'PSEUDOMONAS SPECIES': 1,\n",
              " 'ROTHIA MUCILAGINOSA': 1,\n",
              " 'ENTEROBACTER CANCEROGENUS': 1,\n",
              " 'MUCOR IRREGULARIS': 1,\n",
              " 'STAPHYLOCOCCUS CAPRAE/CAPITIS': 1,\n",
              " 'PRESUMPTIVE POSITIVE FOR LEGIONELLA SEROGROUP 1 ANTIGEN': 1,\n",
              " 'ENTEROVIRUS': 1,\n",
              " 'DIENTAMOEBA FRAGILIS': 1,\n",
              " 'MYCOBACTERIUM SPECIES': 1,\n",
              " 'STREPTOCOCCUS PARASANGUINIS': 1,\n",
              " 'ADENOVIRUS': 1,\n",
              " 'STREPTOCOCCUS SANGUINIS': 1,\n",
              " 'HAEMOPHILUS PARAINFLUENZAE': 1,\n",
              " 'ROTHIA DENTOCARIOSA': 1,\n",
              " 'POSITIVE FOR CRYPTOCOCCAL ANTIGEN': 1,\n",
              " 'PSEUDOMONAS MENDOCINA': 1,\n",
              " 'BETA STREPTOCOCCUS': 1,\n",
              " 'LACTOBACILLUS CASEI/PARACASEI/ZEAE': 1,\n",
              " 'PSEUDOMONAS FLUORESCENS': 1,\n",
              " 'ORGANISM': 1,\n",
              " 'RHIZOPUS SPECIES': 1,\n",
              " 'ACTINOBACILLUS ACTINOMYCETEMCOMITANS': 1,\n",
              " 'BORDETELLA BRONCHISEPTICA': 1,\n",
              " 'SERRATIA LIQUEFACIENS': 1,\n",
              " 'GORDONIA SPECIES': 1,\n",
              " 'SALMONELLA BRAENDERUP': 1,\n",
              " 'ACTINOMYCES SP.': 1,\n",
              " 'CRYPTOSPORIDIUM PARVUM OOCYSTS SEEN': 1,\n",
              " 'HAEMOPHILUS APHROPHILUS': 1,\n",
              " 'PROTEUS HAUSERI': 1,\n",
              " 'MYCOBACTERIUM SZULGAI': 1,\n",
              " 'STAPHYLOCOCCUS WARNERI': 1,\n",
              " 'EIKENELLA CORRODENS': 1,\n",
              " 'GEMELLA BERGERI': 1,\n",
              " 'SALMONELLA AGONA': 1,\n",
              " 'ALPHA STREPTOCOCCI': 1,\n",
              " 'RHODOTORULA GLUTINIS': 1,\n",
              " 'CUTIBACTERIUM SPECIES': 1,\n",
              " 'BACILLUS CIRCULANS GROUP': 1,\n",
              " 'MODERATE BLASTOCYSTIS HOMINIS': 1,\n",
              " 'HOOKWORM': 1,\n",
              " 'STREPTOCOCCUS GALLOLYTICUS SSP. GALLOLYTICUS (STREPTOCOCCUS BOVIS)': 1,\n",
              " 'ENTAMOEBA HISTOLYTICA/DISPAR': 1,\n",
              " 'LACTOCOCCUS SPECIES': 1,\n",
              " 'POSITIVE FOR HERPES SIMPLEX TYPE 2 (HSV2)': 1,\n",
              " 'PROTEUS VULGARIS GROUP': 1,\n",
              " 'ROSEOMONAS SPECIES': 1,\n",
              " 'SALMONELLA SANDIEGO': 1,\n",
              " 'ENTEROCOCCUS DURANS': 1,\n",
              " 'TRICHODERMA SP.': 1,\n",
              " 'POSITIVE FOR PARAINFLUENZA TYPE 3': 1,\n",
              " 'ACHROMOBACTER (ALCALIGENES) DENTRIFICANS': 1,\n",
              " 'ASPERGILLUS VERSICOLOR GROUP ': 1,\n",
              " 'TICK NOT CONSISTENT WITH IXODES SPECIES': 1,\n",
              " 'KOCURIA ROSEA': 1,\n",
              " 'RESPIRATORY SYNCYTIAL VIRUS (RSV)': 1,\n",
              " 'CAMPYLOBACTER UPSALIENSIS': 1,\n",
              " 'PROTEUS SPECIES': 1,\n",
              " 'ACINETOBACTER SP.': 1,\n",
              " 'CURVULARIA SP.': 1,\n",
              " 'STAPHYLOCOCCUS HAEMOLYTICUS': 1,\n",
              " 'TRICHOSPORON MUCOIDES': 1,\n",
              " 'CITROBACTER SPECIES': 1,\n",
              " 'VIBRIO SPECIES': 1,\n",
              " 'SALMONELLA MBANDAKA': 1,\n",
              " 'BACTEROIDES FRAGILIS': 1,\n",
              " 'ENTEROCOCCUS RAFFINOSUS': 1,\n",
              " 'ASPERGILLUS SPECIES': 1,\n",
              " 'STREPTOCOCCUS MITIS/ORALIS': 1,\n",
              " 'CANDIDA SPECIES': 1,\n",
              " 'CUTIBACTERIUM ACNES': 1,\n",
              " 'DIALISTER MICRAEROPHILUS': 1}"
            ]
          },
          "metadata": {},
          "execution_count": 67
        }
      ],
      "source": [
        "df.org_name.value_counts().to_dict()"
      ]
    },
    {
      "cell_type": "code",
      "execution_count": 68,
      "id": "c24c10ae",
      "metadata": {
        "id": "c24c10ae",
        "colab": {
          "base_uri": "https://localhost:8080/"
        },
        "outputId": "163ea58c-3fb3-457f-d921-ba79ba8a3e11"
      },
      "outputs": [
        {
          "output_type": "execute_result",
          "data": {
            "text/plain": [
              "org_name\n",
              "None                      159380\n",
              "Other                       9181\n",
              "ESCHERICHIA COLI            4148\n",
              "CANCELLED                   3323\n",
              "STAPH AUREUS COAG +         2883\n",
              "GRAM POSITIVE BACTERIA      1762\n",
              "Name: count, dtype: int64"
            ]
          },
          "metadata": {},
          "execution_count": 68
        }
      ],
      "source": [
        "df = generic_util_instance.replace_nan(df, 'org_name', 'None')\n",
        "df = generic_util_instance.replace_column_value(df, 'org_name', 1500, 'Other')\n",
        "df.org_name.value_counts()"
      ]
    },
    {
      "cell_type": "code",
      "execution_count": 69,
      "id": "152b82b4",
      "metadata": {
        "id": "152b82b4",
        "colab": {
          "base_uri": "https://localhost:8080/"
        },
        "outputId": "0d30bf70-237e-448f-e576-b3610e093d3b"
      },
      "outputs": [
        {
          "output_type": "execute_result",
          "data": {
            "text/plain": [
              "39525"
            ]
          },
          "metadata": {},
          "execution_count": 69
        }
      ],
      "source": [
        "df.test_name.isna().sum()"
      ]
    },
    {
      "cell_type": "code",
      "execution_count": 70,
      "id": "3aa27b46",
      "metadata": {
        "id": "3aa27b46",
        "colab": {
          "base_uri": "https://localhost:8080/"
        },
        "outputId": "2a39baa8-f5e1-41ae-e402-da51065b782f"
      },
      "outputs": [
        {
          "output_type": "execute_result",
          "data": {
            "text/plain": [
              "{'URINE CULTURE': 49569,\n",
              " 'Blood Culture, Routine': 36755,\n",
              " 'MRSA SCREEN': 11650,\n",
              " 'RAPID PLASMA REAGIN TEST': 5320,\n",
              " 'GRAM STAIN': 4538,\n",
              " 'Staph aureus Screen': 4393,\n",
              " 'Chlamydia trachomatis, Nucleic Acid Probe, with Amplification': 3633,\n",
              " 'HELICOBACTER PYLORI ANTIBODY TEST': 2622,\n",
              " 'WOUND CULTURE': 1875,\n",
              " 'NEISSERIA GONORRHOEAE (GC), NUCLEIC ACID PROBE, WITH AMPLIFICATION': 1449,\n",
              " 'LYME SEROLOGY': 1432,\n",
              " 'HCV VIRAL LOAD': 1178,\n",
              " 'R/O Beta Strep Group A': 1140,\n",
              " 'FECAL CULTURE': 1027,\n",
              " 'C. difficile PCR': 929,\n",
              " 'AEROBIC BOTTLE': 924,\n",
              " 'VARICELLA-ZOSTER IgG SEROLOGY': 899,\n",
              " 'RESPIRATORY CULTURE': 683,\n",
              " 'SMEAR FOR BACTERIAL VAGINOSIS': 664,\n",
              " 'Staph aureus Preop PCR': 555,\n",
              " 'RUBELLA IgG SEROLOGY': 545,\n",
              " 'HIV-1 Viral Load/Ultrasensitive': 536,\n",
              " 'Rubella IgG/IgM Antibody': 520,\n",
              " 'HBV Viral Load': 477,\n",
              " 'RUBEOLA ANTIBODY, IgG': 463,\n",
              " 'CMV IgG ANTIBODY': 455,\n",
              " 'FLUID CULTURE': 430,\n",
              " 'MONOSPOT': 404,\n",
              " 'MUMPS IgG ANTIBODY': 370,\n",
              " 'CLOSTRIDIUM DIFFICILE TOXIN A & B TEST': 370,\n",
              " 'R/O GROUP B BETA STREP': 365,\n",
              " 'EPSTEIN-BARR VIRUS VCA-IgG AB': 353,\n",
              " 'Lyme IgG': 313,\n",
              " 'YEAST VAGINITIS CULTURE': 309,\n",
              " 'TISSUE': 308,\n",
              " 'OVA + PARASITES': 268,\n",
              " 'R/O VANCOMYCIN RESISTANT ENTEROCOCCUS': 253,\n",
              " 'TOXOPLASMA IgG ANTIBODY': 230,\n",
              " 'ANAEROBIC CULTURE': 226,\n",
              " 'VIRAL CULTURE: R/O HERPES SIMPLEX VIRUS': 212,\n",
              " 'CHROMOSOME ANALYSIS-BONE MARROW': 209,\n",
              " 'DIRECT INFLUENZA A ANTIGEN TEST': 197,\n",
              " 'Legionella Urinary Antigen ': 177,\n",
              " 'CLOSTRIDIUM DIFFICILE TOXIN ASSAY': 152,\n",
              " 'Fluid Culture in Bottles': 122,\n",
              " 'CMV Viral Load': 115,\n",
              " 'FUNGAL CULTURE (HAIR/SKIN/NAILS)': 107,\n",
              " 'FUNGAL CULTURE': 103,\n",
              " 'Respiratory Viral Culture': 96,\n",
              " 'ACID FAST SMEAR': 93,\n",
              " 'REFLEX URINE CULTURE': 93,\n",
              " 'CHROMOSOME ANALYSIS-AMNIOTIC FLUID': 83,\n",
              " 'CRYPTOCOCCAL ANTIGEN': 73,\n",
              " 'Tissue Culture-Bone Marrow': 67,\n",
              " 'RPR w/check for Prozone': 52,\n",
              " 'ASO Screen': 46,\n",
              " 'ACID FAST CULTURE': 45,\n",
              " 'TISSUE CULTURE-TISSUE': 41,\n",
              " 'Tissue Culture - Neoplastic Blood': 39,\n",
              " 'VIRAL CULTURE': 38,\n",
              " 'Malaria Antigen Test': 31,\n",
              " 'BLOOD/FUNGAL CULTURE': 29,\n",
              " 'CAMPYLOBACTER CULTURE': 28,\n",
              " 'DIRECT ANTIGEN TEST FOR VARICELLA-ZOSTER VIRUS': 28,\n",
              " 'R/O Group B Strep - Penicillin Allergy': 28,\n",
              " 'Cryptosporidium/Giardia (DFA)': 26,\n",
              " 'CHROMOSOME ANALYSIS-CVS': 25,\n",
              " 'INTERPHASE FISH ANALYSIS, 100-300 CELLS': 22,\n",
              " 'POTASSIUM HYDROXIDE PREPARATION (HAIR/SKIN/NAILS)': 20,\n",
              " 'Respiratory Viral Antigen Screen': 20,\n",
              " 'VIRAL CULTURE: R/O CYTOMEGALOVIRUS': 20,\n",
              " 'Direct Antigen Test for Herpes Simplex Virus Types 1 & 2': 19,\n",
              " 'Stem Cell Aer/Ana Culture': 18,\n",
              " 'CHROMOSOME ANALYSIS-NEOPLASTIC BLOOD': 17,\n",
              " 'GRAM STAIN- R/O THRUSH': 17,\n",
              " 'VARICELLA-ZOSTER CULTURE': 17,\n",
              " 'FOCUSED ANALYSIS': 16,\n",
              " 'GENITAL CULTURE': 15,\n",
              " 'R/O GC Only': 14,\n",
              " 'O&P MACROSCOPIC EXAM - ARTHROPOD': 14,\n",
              " 'ANAEROBIC BOTTLE': 12,\n",
              " 'Respiratory Virus Identification': 11,\n",
              " 'CHROMOSOME ANALYSIS-BLOOD': 9,\n",
              " 'FECAL CULTURE - R/O E.COLI 0157:H7': 9,\n",
              " 'Enterovirus Culture': 9,\n",
              " 'ISOLATE FOR MIC': 8,\n",
              " 'Cipro Resistant Screen': 8,\n",
              " 'ED Gram Stain for Yeast': 6,\n",
              " 'Blood Culture, Neonate': 5,\n",
              " 'SCOTCH TAPE PREP/PADDLE': 5,\n",
              " 'Blood Culture, Post Mortem': 4,\n",
              " 'TRICHOMONAS SALINE PREP': 4,\n",
              " 'TISSUE CULTURE-LYMPHOCYTE': 4,\n",
              " 'Aerobic Bottle Gram Stain': 4,\n",
              " 'POSTMORTEM CULTURE': 3,\n",
              " 'O&P MACROSCOPIC EXAM - WORM': 3,\n",
              " 'Carbapenemase Resistant Enterobacteriaceae Screen': 3,\n",
              " 'Anaerobic Bottle Gram Stain': 3,\n",
              " 'POTASSIUM HYDROXIDE PREPARATION': 3,\n",
              " 'Deparaffinization, Lysis of Cells': 2,\n",
              " 'MOLECULAR CYTOGENETICS - DNA PROBE': 2,\n",
              " 'Stool Hold Request': 2,\n",
              " 'BRUCELLA BLOOD CULTURE': 2,\n",
              " 'FECAL CULTURE - R/O VIBRIO': 2,\n",
              " 'TISSUE CULTURE-FLUID': 2,\n",
              " 'TISSUE CULTURE-AMNIOTIC FLUID': 1,\n",
              " 'CHROMOSOME ANALYSIS-TISSUE': 1,\n",
              " 'CRE/ESBL/AMP-C Screening': 1,\n",
              " 'Immunofluorescent test for Pneumocystis jirovecii (carinii)': 1,\n",
              " 'DIRECT INFLUENZA B ANTIGEN TEST': 1,\n",
              " 'CYCLOSPORA STAIN': 1,\n",
              " 'CMV IgM ANTIBODY': 1,\n",
              " 'URINE-GRAM STAIN - UNSPUN': 1,\n",
              " 'HCV GENOTYPE': 1,\n",
              " 'MICROSPORIDIA STAIN': 1,\n",
              " 'TISSUE CULTURE-CVS': 1,\n",
              " 'EPSTEIN-BARR VIRUS EBNA IgG AB': 1,\n",
              " 'MOLECULAR CYTOGENETICS-DNA Probe': 1}"
            ]
          },
          "metadata": {},
          "execution_count": 70
        }
      ],
      "source": [
        "df.test_name.value_counts().to_dict()"
      ]
    },
    {
      "cell_type": "code",
      "execution_count": 71,
      "id": "af5ab621",
      "metadata": {
        "id": "af5ab621",
        "colab": {
          "base_uri": "https://localhost:8080/"
        },
        "outputId": "3f9828d7-10de-4c63-b54c-fc6021bd1038"
      },
      "outputs": [
        {
          "output_type": "execute_result",
          "data": {
            "text/plain": [
              "0"
            ]
          },
          "metadata": {},
          "execution_count": 71
        }
      ],
      "source": [
        "df = generic_util_instance.replace_nan(df, 'test_name', 'None')\n",
        "df.test_name.isna().sum()"
      ]
    },
    {
      "cell_type": "code",
      "execution_count": 72,
      "id": "ecd0f149",
      "metadata": {
        "id": "ecd0f149",
        "colab": {
          "base_uri": "https://localhost:8080/"
        },
        "outputId": "264ff9f5-84a5-42d4-c295-1b37561441d9"
      },
      "outputs": [
        {
          "output_type": "execute_result",
          "data": {
            "text/plain": [
              "test_name\n",
              "URINE CULTURE                                                    49569\n",
              "None                                                             39525\n",
              "Blood Culture, Routine                                           36755\n",
              "Other                                                            22672\n",
              "MRSA SCREEN                                                      11650\n",
              "RAPID PLASMA REAGIN TEST                                          5320\n",
              "GRAM STAIN                                                        4538\n",
              "Staph aureus Screen                                               4393\n",
              "Chlamydia trachomatis, Nucleic Acid Probe, with Amplification     3633\n",
              "HELICOBACTER PYLORI ANTIBODY TEST                                 2622\n",
              "Name: count, dtype: int64"
            ]
          },
          "metadata": {},
          "execution_count": 72
        }
      ],
      "source": [
        "df = generic_util_instance.replace_column_value(df, 'test_name', 2000, 'Other')\n",
        "df.test_name.value_counts()"
      ]
    },
    {
      "cell_type": "code",
      "execution_count": 73,
      "id": "f774a64a",
      "metadata": {
        "id": "f774a64a",
        "colab": {
          "base_uri": "https://localhost:8080/"
        },
        "outputId": "95d7e61d-7cb9-4210-d15a-d842e7465642"
      },
      "outputs": [
        {
          "output_type": "execute_result",
          "data": {
            "text/plain": [
              "ab_name\n",
              "AMPICILLIN            5008\n",
              "ERYTHROMYCIN          2581\n",
              "CEFAZOLIN              851\n",
              "PENICILLIN G           716\n",
              "TRIMETHOPRIM/SULFA     623\n",
              "GENTAMICIN             332\n",
              "NITROFURANTOIN          82\n",
              "VANCOMYCIN              27\n",
              "CLINDAMYCIN             15\n",
              "OXACILLIN                5\n",
              "TETRACYCLINE             3\n",
              "CEFTRIAXONE              3\n",
              "TOBRAMYCIN               1\n",
              "LEVOFLOXACIN             1\n",
              "Name: count, dtype: int64"
            ]
          },
          "metadata": {},
          "execution_count": 73
        }
      ],
      "source": [
        "df.ab_name.value_counts()"
      ]
    },
    {
      "cell_type": "code",
      "execution_count": 74,
      "id": "6cd5efdd",
      "metadata": {
        "id": "6cd5efdd",
        "colab": {
          "base_uri": "https://localhost:8080/"
        },
        "outputId": "f3151222-c8ab-4208-99e7-9662634f1f7a"
      },
      "outputs": [
        {
          "output_type": "execute_result",
          "data": {
            "text/plain": [
              "170429"
            ]
          },
          "metadata": {},
          "execution_count": 74
        }
      ],
      "source": [
        "df.ab_name.isna().sum()"
      ]
    },
    {
      "cell_type": "code",
      "execution_count": 75,
      "id": "22858916",
      "metadata": {
        "id": "22858916",
        "colab": {
          "base_uri": "https://localhost:8080/"
        },
        "outputId": "c18c97a2-e037-4028-fb61-5177592244a4"
      },
      "outputs": [
        {
          "output_type": "execute_result",
          "data": {
            "text/plain": [
              "0"
            ]
          },
          "metadata": {},
          "execution_count": 75
        }
      ],
      "source": [
        "df = generic_util_instance.replace_nan(df, 'ab_name', 'None')\n",
        "df.ab_name.isna().sum()"
      ]
    },
    {
      "cell_type": "code",
      "execution_count": 76,
      "id": "3b5cc0da",
      "metadata": {
        "id": "3b5cc0da",
        "colab": {
          "base_uri": "https://localhost:8080/"
        },
        "outputId": "0135e66a-e5b3-4f54-a7d9-001b83acad0f"
      },
      "outputs": [
        {
          "output_type": "execute_result",
          "data": {
            "text/plain": [
              "ab_name\n",
              "None            170429\n",
              "AMPICILLIN        5008\n",
              "Other             2659\n",
              "ERYTHROMYCIN      2581\n",
              "Name: count, dtype: int64"
            ]
          },
          "metadata": {},
          "execution_count": 76
        }
      ],
      "source": [
        "df = generic_util_instance.replace_column_value(df, 'ab_name', 1000, 'Other')\n",
        "df.ab_name.value_counts()"
      ]
    },
    {
      "cell_type": "code",
      "execution_count": 77,
      "id": "8178c180",
      "metadata": {
        "id": "8178c180",
        "colab": {
          "base_uri": "https://localhost:8080/"
        },
        "outputId": "2599870d-834d-4936-9e62-e08b9673eb30"
      },
      "outputs": [
        {
          "output_type": "execute_result",
          "data": {
            "text/plain": [
              "0"
            ]
          },
          "metadata": {},
          "execution_count": 77
        }
      ],
      "source": [
        "df.curr_service.isna().sum()"
      ]
    },
    {
      "cell_type": "code",
      "execution_count": 78,
      "id": "cd239c77",
      "metadata": {
        "id": "cd239c77",
        "colab": {
          "base_uri": "https://localhost:8080/"
        },
        "outputId": "da46e96a-2b3c-4ab2-cb24-cd9a1f872122"
      },
      "outputs": [
        {
          "output_type": "execute_result",
          "data": {
            "text/plain": [
              "{'MED': 83739,\n",
              " 'SURG': 15094,\n",
              " 'CMED': 14859,\n",
              " 'OBS': 10550,\n",
              " 'NMED': 10068,\n",
              " 'ORTHO': 9936,\n",
              " 'NSURG': 7032,\n",
              " 'TRAUM': 5192,\n",
              " 'OMED': 4671,\n",
              " 'CSURG': 4589,\n",
              " 'GYN': 3210,\n",
              " 'VSURG': 2915,\n",
              " 'GU': 2357,\n",
              " 'PSYCH': 2355,\n",
              " 'TSURG': 1838,\n",
              " 'PSURG': 1737,\n",
              " 'ENT': 514,\n",
              " 'DENT': 11,\n",
              " 'EYE': 10}"
            ]
          },
          "metadata": {},
          "execution_count": 78
        }
      ],
      "source": [
        "df.curr_service.value_counts().to_dict()"
      ]
    },
    {
      "cell_type": "code",
      "execution_count": 79,
      "id": "48447d75",
      "metadata": {
        "id": "48447d75",
        "colab": {
          "base_uri": "https://localhost:8080/"
        },
        "outputId": "0c6f1488-a8a2-4004-a08e-6fdf0213d1fb"
      },
      "outputs": [
        {
          "output_type": "execute_result",
          "data": {
            "text/plain": [
              "curr_service\n",
              "MED      83739\n",
              "SURG     15094\n",
              "CMED     14859\n",
              "OBS      10550\n",
              "NMED     10068\n",
              "ORTHO     9936\n",
              "NSURG     7032\n",
              "TRAUM     5192\n",
              "OMED      4671\n",
              "CSURG     4589\n",
              "GYN       3210\n",
              "VSURG     2915\n",
              "GU        2357\n",
              "PSYCH     2355\n",
              "TSURG     1838\n",
              "PSURG     1737\n",
              "Other      535\n",
              "Name: count, dtype: int64"
            ]
          },
          "metadata": {},
          "execution_count": 79
        }
      ],
      "source": [
        "df = generic_util_instance.replace_nan(df, 'curr_service', 'Other')\n",
        "df = generic_util_instance.replace_column_value(df, 'curr_service', 1000, 'Other')\n",
        "df.curr_service.value_counts()"
      ]
    },
    {
      "cell_type": "code",
      "execution_count": 80,
      "id": "78ac1f62",
      "metadata": {
        "colab": {
          "base_uri": "https://localhost:8080/",
          "height": 0
        },
        "id": "78ac1f62",
        "outputId": "0725bb27-6c98-466c-c57f-939eed20cab3"
      },
      "outputs": [
        {
          "output_type": "execute_result",
          "data": {
            "text/plain": [
              "   admission_type      admission_location discharge_location insurance  \\\n",
              "0          URGENT  TRANSFER FROM HOSPITAL               HOME     Other   \n",
              "1  EU OBSERVATION          EMERGENCY ROOM              Other     Other   \n",
              "2        EW EMER.   WALK-IN/SELF REFERRAL   HOME HEALTH CARE  Medicare   \n",
              "3  EU OBSERVATION          EMERGENCY ROOM              Other     Other   \n",
              "4  EU OBSERVATION          EMERGENCY ROOM              Other     Other   \n",
              "\n",
              "  language marital_status   race  hospital_expire_flag  los_admission gender  \\\n",
              "0  ENGLISH        WIDOWED  WHITE                     0       0.786111      F   \n",
              "1  ENGLISH         SINGLE  WHITE                     0       0.298611      F   \n",
              "2  ENGLISH        MARRIED  WHITE                     0       4.538889      M   \n",
              "3  ENGLISH         SINGLE  WHITE                     0       0.407639      M   \n",
              "4  ENGLISH       DIVORCED  WHITE                     0       0.532639      F   \n",
              "\n",
              "   ...  drg_type drg_code                      medication     event_txt  \\\n",
              "0  ...       APR    283.0              Potassium Chloride  Administered   \n",
              "1  ...     OTHER      0.0                             NaN           NaN   \n",
              "2  ...       APR     42.0                     Pramipexole  Administered   \n",
              "3  ...     OTHER      0.0                             NaN           NaN   \n",
              "4  ...       APR    308.0  Influenza Vaccine Quadrivalent     Hold Dose   \n",
              "\n",
              "            drug  route org_name               test_name ab_name curr_service  \n",
              "0  Acetaminophen  PO/NG     None                   Other    None          MED  \n",
              "1           None   None     None                    None    None          MED  \n",
              "2          Other  PO/NG     None  Blood Culture, Routine    None          MED  \n",
              "3           None   None    Other                   Other    None          MED  \n",
              "4        Heparin     SC    Other                   Other    None          MED  \n",
              "\n",
              "[5 rows x 24 columns]"
            ],
            "text/html": [
              "\n",
              "  <div id=\"df-fb2e4355-c48c-4d09-ab09-7ca71ec984ea\" class=\"colab-df-container\">\n",
              "    <div>\n",
              "<style scoped>\n",
              "    .dataframe tbody tr th:only-of-type {\n",
              "        vertical-align: middle;\n",
              "    }\n",
              "\n",
              "    .dataframe tbody tr th {\n",
              "        vertical-align: top;\n",
              "    }\n",
              "\n",
              "    .dataframe thead th {\n",
              "        text-align: right;\n",
              "    }\n",
              "</style>\n",
              "<table border=\"1\" class=\"dataframe\">\n",
              "  <thead>\n",
              "    <tr style=\"text-align: right;\">\n",
              "      <th></th>\n",
              "      <th>admission_type</th>\n",
              "      <th>admission_location</th>\n",
              "      <th>discharge_location</th>\n",
              "      <th>insurance</th>\n",
              "      <th>language</th>\n",
              "      <th>marital_status</th>\n",
              "      <th>race</th>\n",
              "      <th>hospital_expire_flag</th>\n",
              "      <th>los_admission</th>\n",
              "      <th>gender</th>\n",
              "      <th>...</th>\n",
              "      <th>drg_type</th>\n",
              "      <th>drg_code</th>\n",
              "      <th>medication</th>\n",
              "      <th>event_txt</th>\n",
              "      <th>drug</th>\n",
              "      <th>route</th>\n",
              "      <th>org_name</th>\n",
              "      <th>test_name</th>\n",
              "      <th>ab_name</th>\n",
              "      <th>curr_service</th>\n",
              "    </tr>\n",
              "  </thead>\n",
              "  <tbody>\n",
              "    <tr>\n",
              "      <th>0</th>\n",
              "      <td>URGENT</td>\n",
              "      <td>TRANSFER FROM HOSPITAL</td>\n",
              "      <td>HOME</td>\n",
              "      <td>Other</td>\n",
              "      <td>ENGLISH</td>\n",
              "      <td>WIDOWED</td>\n",
              "      <td>WHITE</td>\n",
              "      <td>0</td>\n",
              "      <td>0.786111</td>\n",
              "      <td>F</td>\n",
              "      <td>...</td>\n",
              "      <td>APR</td>\n",
              "      <td>283.0</td>\n",
              "      <td>Potassium Chloride</td>\n",
              "      <td>Administered</td>\n",
              "      <td>Acetaminophen</td>\n",
              "      <td>PO/NG</td>\n",
              "      <td>None</td>\n",
              "      <td>Other</td>\n",
              "      <td>None</td>\n",
              "      <td>MED</td>\n",
              "    </tr>\n",
              "    <tr>\n",
              "      <th>1</th>\n",
              "      <td>EU OBSERVATION</td>\n",
              "      <td>EMERGENCY ROOM</td>\n",
              "      <td>Other</td>\n",
              "      <td>Other</td>\n",
              "      <td>ENGLISH</td>\n",
              "      <td>SINGLE</td>\n",
              "      <td>WHITE</td>\n",
              "      <td>0</td>\n",
              "      <td>0.298611</td>\n",
              "      <td>F</td>\n",
              "      <td>...</td>\n",
              "      <td>OTHER</td>\n",
              "      <td>0.0</td>\n",
              "      <td>NaN</td>\n",
              "      <td>NaN</td>\n",
              "      <td>None</td>\n",
              "      <td>None</td>\n",
              "      <td>None</td>\n",
              "      <td>None</td>\n",
              "      <td>None</td>\n",
              "      <td>MED</td>\n",
              "    </tr>\n",
              "    <tr>\n",
              "      <th>2</th>\n",
              "      <td>EW EMER.</td>\n",
              "      <td>WALK-IN/SELF REFERRAL</td>\n",
              "      <td>HOME HEALTH CARE</td>\n",
              "      <td>Medicare</td>\n",
              "      <td>ENGLISH</td>\n",
              "      <td>MARRIED</td>\n",
              "      <td>WHITE</td>\n",
              "      <td>0</td>\n",
              "      <td>4.538889</td>\n",
              "      <td>M</td>\n",
              "      <td>...</td>\n",
              "      <td>APR</td>\n",
              "      <td>42.0</td>\n",
              "      <td>Pramipexole</td>\n",
              "      <td>Administered</td>\n",
              "      <td>Other</td>\n",
              "      <td>PO/NG</td>\n",
              "      <td>None</td>\n",
              "      <td>Blood Culture, Routine</td>\n",
              "      <td>None</td>\n",
              "      <td>MED</td>\n",
              "    </tr>\n",
              "    <tr>\n",
              "      <th>3</th>\n",
              "      <td>EU OBSERVATION</td>\n",
              "      <td>EMERGENCY ROOM</td>\n",
              "      <td>Other</td>\n",
              "      <td>Other</td>\n",
              "      <td>ENGLISH</td>\n",
              "      <td>SINGLE</td>\n",
              "      <td>WHITE</td>\n",
              "      <td>0</td>\n",
              "      <td>0.407639</td>\n",
              "      <td>M</td>\n",
              "      <td>...</td>\n",
              "      <td>OTHER</td>\n",
              "      <td>0.0</td>\n",
              "      <td>NaN</td>\n",
              "      <td>NaN</td>\n",
              "      <td>None</td>\n",
              "      <td>None</td>\n",
              "      <td>Other</td>\n",
              "      <td>Other</td>\n",
              "      <td>None</td>\n",
              "      <td>MED</td>\n",
              "    </tr>\n",
              "    <tr>\n",
              "      <th>4</th>\n",
              "      <td>EU OBSERVATION</td>\n",
              "      <td>EMERGENCY ROOM</td>\n",
              "      <td>Other</td>\n",
              "      <td>Other</td>\n",
              "      <td>ENGLISH</td>\n",
              "      <td>DIVORCED</td>\n",
              "      <td>WHITE</td>\n",
              "      <td>0</td>\n",
              "      <td>0.532639</td>\n",
              "      <td>F</td>\n",
              "      <td>...</td>\n",
              "      <td>APR</td>\n",
              "      <td>308.0</td>\n",
              "      <td>Influenza Vaccine Quadrivalent</td>\n",
              "      <td>Hold Dose</td>\n",
              "      <td>Heparin</td>\n",
              "      <td>SC</td>\n",
              "      <td>Other</td>\n",
              "      <td>Other</td>\n",
              "      <td>None</td>\n",
              "      <td>MED</td>\n",
              "    </tr>\n",
              "  </tbody>\n",
              "</table>\n",
              "<p>5 rows × 24 columns</p>\n",
              "</div>\n",
              "    <div class=\"colab-df-buttons\">\n",
              "\n",
              "  <div class=\"colab-df-container\">\n",
              "    <button class=\"colab-df-convert\" onclick=\"convertToInteractive('df-fb2e4355-c48c-4d09-ab09-7ca71ec984ea')\"\n",
              "            title=\"Convert this dataframe to an interactive table.\"\n",
              "            style=\"display:none;\">\n",
              "\n",
              "  <svg xmlns=\"http://www.w3.org/2000/svg\" height=\"24px\" viewBox=\"0 -960 960 960\">\n",
              "    <path d=\"M120-120v-720h720v720H120Zm60-500h600v-160H180v160Zm220 220h160v-160H400v160Zm0 220h160v-160H400v160ZM180-400h160v-160H180v160Zm440 0h160v-160H620v160ZM180-180h160v-160H180v160Zm440 0h160v-160H620v160Z\"/>\n",
              "  </svg>\n",
              "    </button>\n",
              "\n",
              "  <style>\n",
              "    .colab-df-container {\n",
              "      display:flex;\n",
              "      gap: 12px;\n",
              "    }\n",
              "\n",
              "    .colab-df-convert {\n",
              "      background-color: #E8F0FE;\n",
              "      border: none;\n",
              "      border-radius: 50%;\n",
              "      cursor: pointer;\n",
              "      display: none;\n",
              "      fill: #1967D2;\n",
              "      height: 32px;\n",
              "      padding: 0 0 0 0;\n",
              "      width: 32px;\n",
              "    }\n",
              "\n",
              "    .colab-df-convert:hover {\n",
              "      background-color: #E2EBFA;\n",
              "      box-shadow: 0px 1px 2px rgba(60, 64, 67, 0.3), 0px 1px 3px 1px rgba(60, 64, 67, 0.15);\n",
              "      fill: #174EA6;\n",
              "    }\n",
              "\n",
              "    .colab-df-buttons div {\n",
              "      margin-bottom: 4px;\n",
              "    }\n",
              "\n",
              "    [theme=dark] .colab-df-convert {\n",
              "      background-color: #3B4455;\n",
              "      fill: #D2E3FC;\n",
              "    }\n",
              "\n",
              "    [theme=dark] .colab-df-convert:hover {\n",
              "      background-color: #434B5C;\n",
              "      box-shadow: 0px 1px 3px 1px rgba(0, 0, 0, 0.15);\n",
              "      filter: drop-shadow(0px 1px 2px rgba(0, 0, 0, 0.3));\n",
              "      fill: #FFFFFF;\n",
              "    }\n",
              "  </style>\n",
              "\n",
              "    <script>\n",
              "      const buttonEl =\n",
              "        document.querySelector('#df-fb2e4355-c48c-4d09-ab09-7ca71ec984ea button.colab-df-convert');\n",
              "      buttonEl.style.display =\n",
              "        google.colab.kernel.accessAllowed ? 'block' : 'none';\n",
              "\n",
              "      async function convertToInteractive(key) {\n",
              "        const element = document.querySelector('#df-fb2e4355-c48c-4d09-ab09-7ca71ec984ea');\n",
              "        const dataTable =\n",
              "          await google.colab.kernel.invokeFunction('convertToInteractive',\n",
              "                                                    [key], {});\n",
              "        if (!dataTable) return;\n",
              "\n",
              "        const docLinkHtml = 'Like what you see? Visit the ' +\n",
              "          '<a target=\"_blank\" href=https://colab.research.google.com/notebooks/data_table.ipynb>data table notebook</a>'\n",
              "          + ' to learn more about interactive tables.';\n",
              "        element.innerHTML = '';\n",
              "        dataTable['output_type'] = 'display_data';\n",
              "        await google.colab.output.renderOutput(dataTable, element);\n",
              "        const docLink = document.createElement('div');\n",
              "        docLink.innerHTML = docLinkHtml;\n",
              "        element.appendChild(docLink);\n",
              "      }\n",
              "    </script>\n",
              "  </div>\n",
              "\n",
              "\n",
              "<div id=\"df-e9bbf6dc-68c2-43aa-bd2a-bf68e6d4f944\">\n",
              "  <button class=\"colab-df-quickchart\" onclick=\"quickchart('df-e9bbf6dc-68c2-43aa-bd2a-bf68e6d4f944')\"\n",
              "            title=\"Suggest charts\"\n",
              "            style=\"display:none;\">\n",
              "\n",
              "<svg xmlns=\"http://www.w3.org/2000/svg\" height=\"24px\"viewBox=\"0 0 24 24\"\n",
              "     width=\"24px\">\n",
              "    <g>\n",
              "        <path d=\"M19 3H5c-1.1 0-2 .9-2 2v14c0 1.1.9 2 2 2h14c1.1 0 2-.9 2-2V5c0-1.1-.9-2-2-2zM9 17H7v-7h2v7zm4 0h-2V7h2v10zm4 0h-2v-4h2v4z\"/>\n",
              "    </g>\n",
              "</svg>\n",
              "  </button>\n",
              "\n",
              "<style>\n",
              "  .colab-df-quickchart {\n",
              "      --bg-color: #E8F0FE;\n",
              "      --fill-color: #1967D2;\n",
              "      --hover-bg-color: #E2EBFA;\n",
              "      --hover-fill-color: #174EA6;\n",
              "      --disabled-fill-color: #AAA;\n",
              "      --disabled-bg-color: #DDD;\n",
              "  }\n",
              "\n",
              "  [theme=dark] .colab-df-quickchart {\n",
              "      --bg-color: #3B4455;\n",
              "      --fill-color: #D2E3FC;\n",
              "      --hover-bg-color: #434B5C;\n",
              "      --hover-fill-color: #FFFFFF;\n",
              "      --disabled-bg-color: #3B4455;\n",
              "      --disabled-fill-color: #666;\n",
              "  }\n",
              "\n",
              "  .colab-df-quickchart {\n",
              "    background-color: var(--bg-color);\n",
              "    border: none;\n",
              "    border-radius: 50%;\n",
              "    cursor: pointer;\n",
              "    display: none;\n",
              "    fill: var(--fill-color);\n",
              "    height: 32px;\n",
              "    padding: 0;\n",
              "    width: 32px;\n",
              "  }\n",
              "\n",
              "  .colab-df-quickchart:hover {\n",
              "    background-color: var(--hover-bg-color);\n",
              "    box-shadow: 0 1px 2px rgba(60, 64, 67, 0.3), 0 1px 3px 1px rgba(60, 64, 67, 0.15);\n",
              "    fill: var(--button-hover-fill-color);\n",
              "  }\n",
              "\n",
              "  .colab-df-quickchart-complete:disabled,\n",
              "  .colab-df-quickchart-complete:disabled:hover {\n",
              "    background-color: var(--disabled-bg-color);\n",
              "    fill: var(--disabled-fill-color);\n",
              "    box-shadow: none;\n",
              "  }\n",
              "\n",
              "  .colab-df-spinner {\n",
              "    border: 2px solid var(--fill-color);\n",
              "    border-color: transparent;\n",
              "    border-bottom-color: var(--fill-color);\n",
              "    animation:\n",
              "      spin 1s steps(1) infinite;\n",
              "  }\n",
              "\n",
              "  @keyframes spin {\n",
              "    0% {\n",
              "      border-color: transparent;\n",
              "      border-bottom-color: var(--fill-color);\n",
              "      border-left-color: var(--fill-color);\n",
              "    }\n",
              "    20% {\n",
              "      border-color: transparent;\n",
              "      border-left-color: var(--fill-color);\n",
              "      border-top-color: var(--fill-color);\n",
              "    }\n",
              "    30% {\n",
              "      border-color: transparent;\n",
              "      border-left-color: var(--fill-color);\n",
              "      border-top-color: var(--fill-color);\n",
              "      border-right-color: var(--fill-color);\n",
              "    }\n",
              "    40% {\n",
              "      border-color: transparent;\n",
              "      border-right-color: var(--fill-color);\n",
              "      border-top-color: var(--fill-color);\n",
              "    }\n",
              "    60% {\n",
              "      border-color: transparent;\n",
              "      border-right-color: var(--fill-color);\n",
              "    }\n",
              "    80% {\n",
              "      border-color: transparent;\n",
              "      border-right-color: var(--fill-color);\n",
              "      border-bottom-color: var(--fill-color);\n",
              "    }\n",
              "    90% {\n",
              "      border-color: transparent;\n",
              "      border-bottom-color: var(--fill-color);\n",
              "    }\n",
              "  }\n",
              "</style>\n",
              "\n",
              "  <script>\n",
              "    async function quickchart(key) {\n",
              "      const quickchartButtonEl =\n",
              "        document.querySelector('#' + key + ' button');\n",
              "      quickchartButtonEl.disabled = true;  // To prevent multiple clicks.\n",
              "      quickchartButtonEl.classList.add('colab-df-spinner');\n",
              "      try {\n",
              "        const charts = await google.colab.kernel.invokeFunction(\n",
              "            'suggestCharts', [key], {});\n",
              "      } catch (error) {\n",
              "        console.error('Error during call to suggestCharts:', error);\n",
              "      }\n",
              "      quickchartButtonEl.classList.remove('colab-df-spinner');\n",
              "      quickchartButtonEl.classList.add('colab-df-quickchart-complete');\n",
              "    }\n",
              "    (() => {\n",
              "      let quickchartButtonEl =\n",
              "        document.querySelector('#df-e9bbf6dc-68c2-43aa-bd2a-bf68e6d4f944 button');\n",
              "      quickchartButtonEl.style.display =\n",
              "        google.colab.kernel.accessAllowed ? 'block' : 'none';\n",
              "    })();\n",
              "  </script>\n",
              "</div>\n",
              "\n",
              "    </div>\n",
              "  </div>\n"
            ],
            "application/vnd.google.colaboratory.intrinsic+json": {
              "type": "dataframe",
              "variable_name": "df"
            }
          },
          "metadata": {},
          "execution_count": 80
        }
      ],
      "source": [
        "df.head()"
      ]
    },
    {
      "cell_type": "code",
      "execution_count": 81,
      "id": "4311a313",
      "metadata": {
        "colab": {
          "base_uri": "https://localhost:8080/"
        },
        "id": "4311a313",
        "outputId": "5ef5442d-834b-4d1e-964c-67356a7d88d9"
      },
      "outputs": [
        {
          "output_type": "execute_result",
          "data": {
            "text/plain": [
              "admission_type           object\n",
              "admission_location       object\n",
              "discharge_location       object\n",
              "insurance                object\n",
              "language                 object\n",
              "marital_status           object\n",
              "race                     object\n",
              "hospital_expire_flag      int64\n",
              "los_admission           float64\n",
              "gender                   object\n",
              "anchor_age                int64\n",
              "eventtype                object\n",
              "careunit                 object\n",
              "diagnosis_icd_code       object\n",
              "drg_type                 object\n",
              "drg_code                float64\n",
              "medication               object\n",
              "event_txt                object\n",
              "drug                     object\n",
              "route                    object\n",
              "org_name                 object\n",
              "test_name                object\n",
              "ab_name                  object\n",
              "curr_service             object\n",
              "dtype: object"
            ]
          },
          "metadata": {},
          "execution_count": 81
        }
      ],
      "source": [
        "df.dtypes"
      ]
    },
    {
      "cell_type": "code",
      "execution_count": 82,
      "id": "2f13a5b5",
      "metadata": {
        "id": "2f13a5b5"
      },
      "outputs": [],
      "source": [
        "for column in df.columns:\n",
        "    if column in ['hospital_expire_flag', 'los_admission', 'anchor_age', 'drg_code']:\n",
        "        try:\n",
        "            df[column] = df[column].astype('float64')\n",
        "        except Exception as ex:\n",
        "            pass\n",
        "    else:\n",
        "        df[column] = df[column].astype('string')"
      ]
    },
    {
      "cell_type": "code",
      "execution_count": 83,
      "id": "42bf3952",
      "metadata": {
        "id": "42bf3952",
        "colab": {
          "base_uri": "https://localhost:8080/"
        },
        "outputId": "c5462668-4046-4479-9921-c810a61a6ba5"
      },
      "outputs": [
        {
          "output_type": "execute_result",
          "data": {
            "text/plain": [
              "admission_type          string[python]\n",
              "admission_location      string[python]\n",
              "discharge_location      string[python]\n",
              "insurance               string[python]\n",
              "language                string[python]\n",
              "marital_status          string[python]\n",
              "race                    string[python]\n",
              "hospital_expire_flag           float64\n",
              "los_admission                  float64\n",
              "gender                  string[python]\n",
              "anchor_age                     float64\n",
              "eventtype               string[python]\n",
              "careunit                string[python]\n",
              "diagnosis_icd_code      string[python]\n",
              "drg_type                string[python]\n",
              "drg_code                       float64\n",
              "medication              string[python]\n",
              "event_txt               string[python]\n",
              "drug                    string[python]\n",
              "route                   string[python]\n",
              "org_name                string[python]\n",
              "test_name               string[python]\n",
              "ab_name                 string[python]\n",
              "curr_service            string[python]\n",
              "dtype: object"
            ]
          },
          "metadata": {},
          "execution_count": 83
        }
      ],
      "source": [
        "df.dtypes"
      ]
    },
    {
      "cell_type": "markdown",
      "id": "a3115e8e",
      "metadata": {
        "id": "a3115e8e"
      },
      "source": [
        "# Correlations"
      ]
    },
    {
      "cell_type": "code",
      "source": [
        "# Select only the numeric columns\n",
        "numeric_df = df.select_dtypes(include=[np.number])\n",
        "\n",
        "# Compute the correlation matrix\n",
        "corr_matrix = numeric_df.corr()\n",
        "\n",
        "# Display the correlation matrix\n",
        "print(corr_matrix)\n"
      ],
      "metadata": {
        "colab": {
          "base_uri": "https://localhost:8080/"
        },
        "id": "V4mCVcvYyTSZ",
        "outputId": "4298e449-b456-4aec-bb18-a2169e7b9376"
      },
      "id": "V4mCVcvYyTSZ",
      "execution_count": 84,
      "outputs": [
        {
          "output_type": "stream",
          "name": "stdout",
          "text": [
            "                      hospital_expire_flag  los_admission  anchor_age  \\\n",
            "hospital_expire_flag              1.000000       0.125043    0.130954   \n",
            "los_admission                     0.125043       1.000000    0.144730   \n",
            "anchor_age                        0.130954       0.144730    1.000000   \n",
            "drg_code                          0.036886       0.148917   -0.068179   \n",
            "\n",
            "                      drg_code  \n",
            "hospital_expire_flag  0.036886  \n",
            "los_admission         0.148917  \n",
            "anchor_age           -0.068179  \n",
            "drg_code              1.000000  \n"
          ]
        }
      ]
    },
    {
      "cell_type": "code",
      "source": [
        "import seaborn as sns\n",
        "import matplotlib.pyplot as plt\n",
        "\n",
        "# Set the figure size\n",
        "plt.figure(figsize=(10, 8))\n",
        "\n",
        "# Create the heatmap with the 'viridis' colormap\n",
        "sns.heatmap(corr_matrix, annot=True, cmap='viridis', fmt='.2f', cbar=True, annot_kws={\"size\": 10})\n",
        "\n",
        "# Add a title to the heatmap\n",
        "plt.title('Correlation Matrix Heatmap', fontsize=16)\n",
        "\n",
        "# Show the plot\n",
        "plt.show()\n"
      ],
      "metadata": {
        "colab": {
          "base_uri": "https://localhost:8080/",
          "height": 0
        },
        "id": "PPLE5gEkycgm",
        "outputId": "2c37455d-2d80-4fec-8bee-b66f76cd8ec5"
      },
      "id": "PPLE5gEkycgm",
      "execution_count": 85,
      "outputs": [
        {
          "output_type": "display_data",
          "data": {
            "text/plain": [
              "<Figure size 1000x800 with 2 Axes>"
            ],
            "image/png": "[encoded data removed]"
          },
          "metadata": {}
        }
      ]
    },
    {
      "cell_type": "code",
      "execution_count": 86,
      "id": "8531a884",
      "metadata": {
        "id": "8531a884",
        "colab": {
          "base_uri": "https://localhost:8080/",
          "height": 0
        },
        "outputId": "26d18936-d7a1-40d9-8f2e-61d999c39184"
      },
      "outputs": [
        {
          "output_type": "execute_result",
          "data": {
            "text/plain": [
              "                      hospital_expire_flag  los_admission  anchor_age  \\\n",
              "hospital_expire_flag              1.000000       0.125043    0.130954   \n",
              "los_admission                     0.125043       1.000000    0.144730   \n",
              "anchor_age                        0.130954       0.144730    1.000000   \n",
              "drg_code                          0.036886       0.148917   -0.068179   \n",
              "\n",
              "                      drg_code  \n",
              "hospital_expire_flag  0.036886  \n",
              "los_admission         0.148917  \n",
              "anchor_age           -0.068179  \n",
              "drg_code              1.000000  "
            ],
            "text/html": [
              "\n",
              "  <div id=\"df-8072f3f6-3440-49c0-866f-9f6a2ca57cfa\" class=\"colab-df-container\">\n",
              "    <div>\n",
              "<style scoped>\n",
              "    .dataframe tbody tr th:only-of-type {\n",
              "        vertical-align: middle;\n",
              "    }\n",
              "\n",
              "    .dataframe tbody tr th {\n",
              "        vertical-align: top;\n",
              "    }\n",
              "\n",
              "    .dataframe thead th {\n",
              "        text-align: right;\n",
              "    }\n",
              "</style>\n",
              "<table border=\"1\" class=\"dataframe\">\n",
              "  <thead>\n",
              "    <tr style=\"text-align: right;\">\n",
              "      <th></th>\n",
              "      <th>hospital_expire_flag</th>\n",
              "      <th>los_admission</th>\n",
              "      <th>anchor_age</th>\n",
              "      <th>drg_code</th>\n",
              "    </tr>\n",
              "  </thead>\n",
              "  <tbody>\n",
              "    <tr>\n",
              "      <th>hospital_expire_flag</th>\n",
              "      <td>1.000000</td>\n",
              "      <td>0.125043</td>\n",
              "      <td>0.130954</td>\n",
              "      <td>0.036886</td>\n",
              "    </tr>\n",
              "    <tr>\n",
              "      <th>los_admission</th>\n",
              "      <td>0.125043</td>\n",
              "      <td>1.000000</td>\n",
              "      <td>0.144730</td>\n",
              "      <td>0.148917</td>\n",
              "    </tr>\n",
              "    <tr>\n",
              "      <th>anchor_age</th>\n",
              "      <td>0.130954</td>\n",
              "      <td>0.144730</td>\n",
              "      <td>1.000000</td>\n",
              "      <td>-0.068179</td>\n",
              "    </tr>\n",
              "    <tr>\n",
              "      <th>drg_code</th>\n",
              "      <td>0.036886</td>\n",
              "      <td>0.148917</td>\n",
              "      <td>-0.068179</td>\n",
              "      <td>1.000000</td>\n",
              "    </tr>\n",
              "  </tbody>\n",
              "</table>\n",
              "</div>\n",
              "    <div class=\"colab-df-buttons\">\n",
              "\n",
              "  <div class=\"colab-df-container\">\n",
              "    <button class=\"colab-df-convert\" onclick=\"convertToInteractive('df-8072f3f6-3440-49c0-866f-9f6a2ca57cfa')\"\n",
              "            title=\"Convert this dataframe to an interactive table.\"\n",
              "            style=\"display:none;\">\n",
              "\n",
              "  <svg xmlns=\"http://www.w3.org/2000/svg\" height=\"24px\" viewBox=\"0 -960 960 960\">\n",
              "    <path d=\"M120-120v-720h720v720H120Zm60-500h600v-160H180v160Zm220 220h160v-160H400v160Zm0 220h160v-160H400v160ZM180-400h160v-160H180v160Zm440 0h160v-160H620v160ZM180-180h160v-160H180v160Zm440 0h160v-160H620v160Z\"/>\n",
              "  </svg>\n",
              "    </button>\n",
              "\n",
              "  <style>\n",
              "    .colab-df-container {\n",
              "      display:flex;\n",
              "      gap: 12px;\n",
              "    }\n",
              "\n",
              "    .colab-df-convert {\n",
              "      background-color: #E8F0FE;\n",
              "      border: none;\n",
              "      border-radius: 50%;\n",
              "      cursor: pointer;\n",
              "      display: none;\n",
              "      fill: #1967D2;\n",
              "      height: 32px;\n",
              "      padding: 0 0 0 0;\n",
              "      width: 32px;\n",
              "    }\n",
              "\n",
              "    .colab-df-convert:hover {\n",
              "      background-color: #E2EBFA;\n",
              "      box-shadow: 0px 1px 2px rgba(60, 64, 67, 0.3), 0px 1px 3px 1px rgba(60, 64, 67, 0.15);\n",
              "      fill: #174EA6;\n",
              "    }\n",
              "\n",
              "    .colab-df-buttons div {\n",
              "      margin-bottom: 4px;\n",
              "    }\n",
              "\n",
              "    [theme=dark] .colab-df-convert {\n",
              "      background-color: #3B4455;\n",
              "      fill: #D2E3FC;\n",
              "    }\n",
              "\n",
              "    [theme=dark] .colab-df-convert:hover {\n",
              "      background-color: #434B5C;\n",
              "      box-shadow: 0px 1px 3px 1px rgba(0, 0, 0, 0.15);\n",
              "      filter: drop-shadow(0px 1px 2px rgba(0, 0, 0, 0.3));\n",
              "      fill: #FFFFFF;\n",
              "    }\n",
              "  </style>\n",
              "\n",
              "    <script>\n",
              "      const buttonEl =\n",
              "        document.querySelector('#df-8072f3f6-3440-49c0-866f-9f6a2ca57cfa button.colab-df-convert');\n",
              "      buttonEl.style.display =\n",
              "        google.colab.kernel.accessAllowed ? 'block' : 'none';\n",
              "\n",
              "      async function convertToInteractive(key) {\n",
              "        const element = document.querySelector('#df-8072f3f6-3440-49c0-866f-9f6a2ca57cfa');\n",
              "        const dataTable =\n",
              "          await google.colab.kernel.invokeFunction('convertToInteractive',\n",
              "                                                    [key], {});\n",
              "        if (!dataTable) return;\n",
              "\n",
              "        const docLinkHtml = 'Like what you see? Visit the ' +\n",
              "          '<a target=\"_blank\" href=https://colab.research.google.com/notebooks/data_table.ipynb>data table notebook</a>'\n",
              "          + ' to learn more about interactive tables.';\n",
              "        element.innerHTML = '';\n",
              "        dataTable['output_type'] = 'display_data';\n",
              "        await google.colab.output.renderOutput(dataTable, element);\n",
              "        const docLink = document.createElement('div');\n",
              "        docLink.innerHTML = docLinkHtml;\n",
              "        element.appendChild(docLink);\n",
              "      }\n",
              "    </script>\n",
              "  </div>\n",
              "\n",
              "\n",
              "<div id=\"df-aaa825ea-fe4c-4f45-b595-7d27f1dcce8b\">\n",
              "  <button class=\"colab-df-quickchart\" onclick=\"quickchart('df-aaa825ea-fe4c-4f45-b595-7d27f1dcce8b')\"\n",
              "            title=\"Suggest charts\"\n",
              "            style=\"display:none;\">\n",
              "\n",
              "<svg xmlns=\"http://www.w3.org/2000/svg\" height=\"24px\"viewBox=\"0 0 24 24\"\n",
              "     width=\"24px\">\n",
              "    <g>\n",
              "        <path d=\"M19 3H5c-1.1 0-2 .9-2 2v14c0 1.1.9 2 2 2h14c1.1 0 2-.9 2-2V5c0-1.1-.9-2-2-2zM9 17H7v-7h2v7zm4 0h-2V7h2v10zm4 0h-2v-4h2v4z\"/>\n",
              "    </g>\n",
              "</svg>\n",
              "  </button>\n",
              "\n",
              "<style>\n",
              "  .colab-df-quickchart {\n",
              "      --bg-color: #E8F0FE;\n",
              "      --fill-color: #1967D2;\n",
              "      --hover-bg-color: #E2EBFA;\n",
              "      --hover-fill-color: #174EA6;\n",
              "      --disabled-fill-color: #AAA;\n",
              "      --disabled-bg-color: #DDD;\n",
              "  }\n",
              "\n",
              "  [theme=dark] .colab-df-quickchart {\n",
              "      --bg-color: #3B4455;\n",
              "      --fill-color: #D2E3FC;\n",
              "      --hover-bg-color: #434B5C;\n",
              "      --hover-fill-color: #FFFFFF;\n",
              "      --disabled-bg-color: #3B4455;\n",
              "      --disabled-fill-color: #666;\n",
              "  }\n",
              "\n",
              "  .colab-df-quickchart {\n",
              "    background-color: var(--bg-color);\n",
              "    border: none;\n",
              "    border-radius: 50%;\n",
              "    cursor: pointer;\n",
              "    display: none;\n",
              "    fill: var(--fill-color);\n",
              "    height: 32px;\n",
              "    padding: 0;\n",
              "    width: 32px;\n",
              "  }\n",
              "\n",
              "  .colab-df-quickchart:hover {\n",
              "    background-color: var(--hover-bg-color);\n",
              "    box-shadow: 0 1px 2px rgba(60, 64, 67, 0.3), 0 1px 3px 1px rgba(60, 64, 67, 0.15);\n",
              "    fill: var(--button-hover-fill-color);\n",
              "  }\n",
              "\n",
              "  .colab-df-quickchart-complete:disabled,\n",
              "  .colab-df-quickchart-complete:disabled:hover {\n",
              "    background-color: var(--disabled-bg-color);\n",
              "    fill: var(--disabled-fill-color);\n",
              "    box-shadow: none;\n",
              "  }\n",
              "\n",
              "  .colab-df-spinner {\n",
              "    border: 2px solid var(--fill-color);\n",
              "    border-color: transparent;\n",
              "    border-bottom-color: var(--fill-color);\n",
              "    animation:\n",
              "      spin 1s steps(1) infinite;\n",
              "  }\n",
              "\n",
              "  @keyframes spin {\n",
              "    0% {\n",
              "      border-color: transparent;\n",
              "      border-bottom-color: var(--fill-color);\n",
              "      border-left-color: var(--fill-color);\n",
              "    }\n",
              "    20% {\n",
              "      border-color: transparent;\n",
              "      border-left-color: var(--fill-color);\n",
              "      border-top-color: var(--fill-color);\n",
              "    }\n",
              "    30% {\n",
              "      border-color: transparent;\n",
              "      border-left-color: var(--fill-color);\n",
              "      border-top-color: var(--fill-color);\n",
              "      border-right-color: var(--fill-color);\n",
              "    }\n",
              "    40% {\n",
              "      border-color: transparent;\n",
              "      border-right-color: var(--fill-color);\n",
              "      border-top-color: var(--fill-color);\n",
              "    }\n",
              "    60% {\n",
              "      border-color: transparent;\n",
              "      border-right-color: var(--fill-color);\n",
              "    }\n",
              "    80% {\n",
              "      border-color: transparent;\n",
              "      border-right-color: var(--fill-color);\n",
              "      border-bottom-color: var(--fill-color);\n",
              "    }\n",
              "    90% {\n",
              "      border-color: transparent;\n",
              "      border-bottom-color: var(--fill-color);\n",
              "    }\n",
              "  }\n",
              "</style>\n",
              "\n",
              "  <script>\n",
              "    async function quickchart(key) {\n",
              "      const quickchartButtonEl =\n",
              "        document.querySelector('#' + key + ' button');\n",
              "      quickchartButtonEl.disabled = true;  // To prevent multiple clicks.\n",
              "      quickchartButtonEl.classList.add('colab-df-spinner');\n",
              "      try {\n",
              "        const charts = await google.colab.kernel.invokeFunction(\n",
              "            'suggestCharts', [key], {});\n",
              "      } catch (error) {\n",
              "        console.error('Error during call to suggestCharts:', error);\n",
              "      }\n",
              "      quickchartButtonEl.classList.remove('colab-df-spinner');\n",
              "      quickchartButtonEl.classList.add('colab-df-quickchart-complete');\n",
              "    }\n",
              "    (() => {\n",
              "      let quickchartButtonEl =\n",
              "        document.querySelector('#df-aaa825ea-fe4c-4f45-b595-7d27f1dcce8b button');\n",
              "      quickchartButtonEl.style.display =\n",
              "        google.colab.kernel.accessAllowed ? 'block' : 'none';\n",
              "    })();\n",
              "  </script>\n",
              "</div>\n",
              "\n",
              "  <div id=\"id_3f46f419-2958-4a1c-ae28-bffacaac20f0\">\n",
              "    <style>\n",
              "      .colab-df-generate {\n",
              "        background-color: #E8F0FE;\n",
              "        border: none;\n",
              "        border-radius: 50%;\n",
              "        cursor: pointer;\n",
              "        display: none;\n",
              "        fill: #1967D2;\n",
              "        height: 32px;\n",
              "        padding: 0 0 0 0;\n",
              "        width: 32px;\n",
              "      }\n",
              "\n",
              "      .colab-df-generate:hover {\n",
              "        background-color: #E2EBFA;\n",
              "        box-shadow: 0px 1px 2px rgba(60, 64, 67, 0.3), 0px 1px 3px 1px rgba(60, 64, 67, 0.15);\n",
              "        fill: #174EA6;\n",
              "      }\n",
              "\n",
              "      [theme=dark] .colab-df-generate {\n",
              "        background-color: #3B4455;\n",
              "        fill: #D2E3FC;\n",
              "      }\n",
              "\n",
              "      [theme=dark] .colab-df-generate:hover {\n",
              "        background-color: #434B5C;\n",
              "        box-shadow: 0px 1px 3px 1px rgba(0, 0, 0, 0.15);\n",
              "        filter: drop-shadow(0px 1px 2px rgba(0, 0, 0, 0.3));\n",
              "        fill: #FFFFFF;\n",
              "      }\n",
              "    </style>\n",
              "    <button class=\"colab-df-generate\" onclick=\"generateWithVariable('corr_matrix')\"\n",
              "            title=\"Generate code using this dataframe.\"\n",
              "            style=\"display:none;\">\n",
              "\n",
              "  <svg xmlns=\"http://www.w3.org/2000/svg\" height=\"24px\"viewBox=\"0 0 24 24\"\n",
              "       width=\"24px\">\n",
              "    <path d=\"M7,19H8.4L18.45,9,17,7.55,7,17.6ZM5,21V16.75L18.45,3.32a2,2,0,0,1,2.83,0l1.4,1.43a1.91,1.91,0,0,1,.58,1.4,1.91,1.91,0,0,1-.58,1.4L9.25,21ZM18.45,9,17,7.55Zm-12,3A5.31,5.31,0,0,0,4.9,8.1,5.31,5.31,0,0,0,1,6.5,5.31,5.31,0,0,0,4.9,4.9,5.31,5.31,0,0,0,6.5,1,5.31,5.31,0,0,0,8.1,4.9,5.31,5.31,0,0,0,12,6.5,5.46,5.46,0,0,0,6.5,12Z\"/>\n",
              "  </svg>\n",
              "    </button>\n",
              "    <script>\n",
              "      (() => {\n",
              "      const buttonEl =\n",
              "        document.querySelector('#id_3f46f419-2958-4a1c-ae28-bffacaac20f0 button.colab-df-generate');\n",
              "      buttonEl.style.display =\n",
              "        google.colab.kernel.accessAllowed ? 'block' : 'none';\n",
              "\n",
              "      buttonEl.onclick = () => {\n",
              "        google.colab.notebook.generateWithVariable('corr_matrix');\n",
              "      }\n",
              "      })();\n",
              "    </script>\n",
              "  </div>\n",
              "\n",
              "    </div>\n",
              "  </div>\n"
            ],
            "application/vnd.google.colaboratory.intrinsic+json": {
              "type": "dataframe",
              "variable_name": "corr_matrix",
              "summary": "{\n  \"name\": \"corr_matrix\",\n  \"rows\": 4,\n  \"fields\": [\n    {\n      \"column\": \"hospital_expire_flag\",\n      \"properties\": {\n        \"dtype\": \"number\",\n        \"std\": 0.4532322314115113,\n        \"min\": 0.036886360121926184,\n        \"max\": 1.0,\n        \"num_unique_values\": 4,\n        \"samples\": [\n          0.12504289642119915,\n          0.036886360121926184,\n          1.0\n        ],\n        \"semantic_type\": \"\",\n        \"description\": \"\"\n      }\n    },\n    {\n      \"column\": \"los_admission\",\n      \"properties\": {\n        \"dtype\": \"number\",\n        \"std\": 0.4303442204140578,\n        \"min\": 0.12504289642119915,\n        \"max\": 1.0,\n        \"num_unique_values\": 4,\n        \"samples\": [\n          1.0,\n          0.14891718211905303,\n          0.12504289642119915\n        ],\n        \"semantic_type\": \"\",\n        \"description\": \"\"\n      }\n    },\n    {\n      \"column\": \"anchor_age\",\n      \"properties\": {\n        \"dtype\": \"number\",\n        \"std\": 0.47547401865215944,\n        \"min\": -0.06817863043177327,\n        \"max\": 1.0,\n        \"num_unique_values\": 4,\n        \"samples\": [\n          0.14472999311048512,\n          -0.06817863043177327,\n          0.1309543487117018\n        ],\n        \"semantic_type\": \"\",\n        \"description\": \"\"\n      }\n    },\n    {\n      \"column\": \"drg_code\",\n      \"properties\": {\n        \"dtype\": \"number\",\n        \"std\": 0.48850584966362554,\n        \"min\": -0.06817863043177327,\n        \"max\": 1.0,\n        \"num_unique_values\": 4,\n        \"samples\": [\n          0.14891718211905303,\n          1.0,\n          0.036886360121926184\n        ],\n        \"semantic_type\": \"\",\n        \"description\": \"\"\n      }\n    }\n  ]\n}"
            }
          },
          "metadata": {},
          "execution_count": 86
        }
      ],
      "source": [
        "corr_matrix"
      ]
    },
    {
      "cell_type": "markdown",
      "id": "cf1cb126",
      "metadata": {
        "id": "cf1cb126"
      },
      "source": [
        "Since majority of the columns are categorical we need to compute `cramers_v` or `theils_u`. Since we want to check corelation with `los_admission` we need to calculate `corelation ratio`.\n",
        "\n",
        "## TO-DO:\n",
        "- Correlation Coefficient"
      ]
    },
    {
      "cell_type": "code",
      "source": [
        "pip install dython\n"
      ],
      "metadata": {
        "colab": {
          "base_uri": "https://localhost:8080/"
        },
        "id": "vca7cc8ly1nw",
        "outputId": "81cecb7a-782d-4b88-e111-170fc14d7deb"
      },
      "id": "vca7cc8ly1nw",
      "execution_count": 87,
      "outputs": [
        {
          "output_type": "stream",
          "name": "stdout",
          "text": [
            "Requirement already satisfied: dython in /usr/local/lib/python3.10/dist-packages (0.7.6)\n",
            "Requirement already satisfied: numpy>=1.23.0 in /usr/local/lib/python3.10/dist-packages (from dython) (1.25.2)\n",
            "Requirement already satisfied: pandas>=1.4.2 in /usr/local/lib/python3.10/dist-packages (from dython) (2.0.3)\n",
            "Requirement already satisfied: seaborn>=0.12.0 in /usr/local/lib/python3.10/dist-packages (from dython) (0.13.1)\n",
            "Requirement already satisfied: scipy>=1.7.1 in /usr/local/lib/python3.10/dist-packages (from dython) (1.11.4)\n",
            "Requirement already satisfied: matplotlib>=3.6.0 in /usr/local/lib/python3.10/dist-packages (from dython) (3.7.1)\n",
            "Requirement already satisfied: scikit-learn>=0.24.2 in /usr/local/lib/python3.10/dist-packages (from dython) (1.2.2)\n",
            "Requirement already satisfied: psutil>=5.9.1 in /usr/local/lib/python3.10/dist-packages (from dython) (5.9.5)\n",
            "Requirement already satisfied: contourpy>=1.0.1 in /usr/local/lib/python3.10/dist-packages (from matplotlib>=3.6.0->dython) (1.2.1)\n",
            "Requirement already satisfied: cycler>=0.10 in /usr/local/lib/python3.10/dist-packages (from matplotlib>=3.6.0->dython) (0.12.1)\n",
            "Requirement already satisfied: fonttools>=4.22.0 in /usr/local/lib/python3.10/dist-packages (from matplotlib>=3.6.0->dython) (4.53.1)\n",
            "Requirement already satisfied: kiwisolver>=1.0.1 in /usr/local/lib/python3.10/dist-packages (from matplotlib>=3.6.0->dython) (1.4.5)\n",
            "Requirement already satisfied: packaging>=20.0 in /usr/local/lib/python3.10/dist-packages (from matplotlib>=3.6.0->dython) (24.1)\n",
            "Requirement already satisfied: pillow>=6.2.0 in /usr/local/lib/python3.10/dist-packages (from matplotlib>=3.6.0->dython) (9.4.0)\n",
            "Requirement already satisfied: pyparsing>=2.3.1 in /usr/local/lib/python3.10/dist-packages (from matplotlib>=3.6.0->dython) (3.1.2)\n",
            "Requirement already satisfied: python-dateutil>=2.7 in /usr/local/lib/python3.10/dist-packages (from matplotlib>=3.6.0->dython) (2.8.2)\n",
            "Requirement already satisfied: pytz>=2020.1 in /usr/local/lib/python3.10/dist-packages (from pandas>=1.4.2->dython) (2023.4)\n",
            "Requirement already satisfied: tzdata>=2022.1 in /usr/local/lib/python3.10/dist-packages (from pandas>=1.4.2->dython) (2024.1)\n",
            "Requirement already satisfied: joblib>=1.1.1 in /usr/local/lib/python3.10/dist-packages (from scikit-learn>=0.24.2->dython) (1.4.2)\n",
            "Requirement already satisfied: threadpoolctl>=2.0.0 in /usr/local/lib/python3.10/dist-packages (from scikit-learn>=0.24.2->dython) (3.5.0)\n",
            "Requirement already satisfied: six>=1.5 in /usr/local/lib/python3.10/dist-packages (from python-dateutil>=2.7->matplotlib>=3.6.0->dython) (1.16.0)\n"
          ]
        }
      ]
    },
    {
      "cell_type": "code",
      "source": [
        "print(df.dtypes)\n"
      ],
      "metadata": {
        "colab": {
          "base_uri": "https://localhost:8080/"
        },
        "id": "l6sXs0iqzrne",
        "outputId": "6006fcb2-7e58-4d70-f080-545e322da2a6"
      },
      "id": "l6sXs0iqzrne",
      "execution_count": 88,
      "outputs": [
        {
          "output_type": "stream",
          "name": "stdout",
          "text": [
            "admission_type          string[python]\n",
            "admission_location      string[python]\n",
            "discharge_location      string[python]\n",
            "insurance               string[python]\n",
            "language                string[python]\n",
            "marital_status          string[python]\n",
            "race                    string[python]\n",
            "hospital_expire_flag           float64\n",
            "los_admission                  float64\n",
            "gender                  string[python]\n",
            "anchor_age                     float64\n",
            "eventtype               string[python]\n",
            "careunit                string[python]\n",
            "diagnosis_icd_code      string[python]\n",
            "drg_type                string[python]\n",
            "drg_code                       float64\n",
            "medication              string[python]\n",
            "event_txt               string[python]\n",
            "drug                    string[python]\n",
            "route                   string[python]\n",
            "org_name                string[python]\n",
            "test_name               string[python]\n",
            "ab_name                 string[python]\n",
            "curr_service            string[python]\n",
            "dtype: object\n"
          ]
        }
      ]
    },
    {
      "cell_type": "code",
      "source": [
        "# List of columns to convert\n",
        "columns_to_convert = [\n",
        "    'admission_type', 'admission_location', 'discharge_location', 'insurance',\n",
        "    'language', 'marital_status', 'race', 'gender', 'eventtype', 'careunit',\n",
        "    'diagnosis_icd_code', 'drg_type', 'medication', 'event_txt', 'drug',\n",
        "    'route', 'org_name', 'test_name', 'ab_name', 'curr_service'\n",
        "]\n",
        "\n",
        "# Convert columns to object type\n",
        "df[columns_to_convert] = df[columns_to_convert].astype('object')\n",
        "\n",
        "# Verify conversion\n",
        "print(df.dtypes)\n"
      ],
      "metadata": {
        "colab": {
          "base_uri": "https://localhost:8080/"
        },
        "id": "B13FJsObz6db",
        "outputId": "8beffcf8-1333-4c5d-8d99-1ad95efc8103"
      },
      "id": "B13FJsObz6db",
      "execution_count": 89,
      "outputs": [
        {
          "output_type": "stream",
          "name": "stdout",
          "text": [
            "admission_type           object\n",
            "admission_location       object\n",
            "discharge_location       object\n",
            "insurance                object\n",
            "language                 object\n",
            "marital_status           object\n",
            "race                     object\n",
            "hospital_expire_flag    float64\n",
            "los_admission           float64\n",
            "gender                   object\n",
            "anchor_age              float64\n",
            "eventtype                object\n",
            "careunit                 object\n",
            "diagnosis_icd_code       object\n",
            "drg_type                 object\n",
            "drg_code                float64\n",
            "medication               object\n",
            "event_txt                object\n",
            "drug                     object\n",
            "route                    object\n",
            "org_name                 object\n",
            "test_name                object\n",
            "ab_name                  object\n",
            "curr_service             object\n",
            "dtype: object\n"
          ]
        }
      ]
    },
    {
      "cell_type": "code",
      "source": [
        "# Fill missing values in categorical columns\n",
        "df[columns_to_convert] = df[columns_to_convert].fillna('Unknown')\n"
      ],
      "metadata": {
        "id": "oy7ICVt0z7ya"
      },
      "id": "oy7ICVt0z7ya",
      "execution_count": 90,
      "outputs": []
    },
    {
      "cell_type": "markdown",
      "source": [
        "#Cramér's V and Correlation Ratio"
      ],
      "metadata": {
        "id": "xsOU1ydW1u9y"
      },
      "id": "xsOU1ydW1u9y"
    },
    {
      "cell_type": "code",
      "source": [
        "import pandas as pd\n",
        "import numpy as np\n",
        "import seaborn as sns\n",
        "import matplotlib.pyplot as plt\n",
        "from dython.nominal import associations\n",
        "\n",
        "# Step 1: Identify categorical columns\n",
        "categorical_columns = df.select_dtypes(include=['object']).columns.tolist()\n",
        "print(\"Categorical columns:\", categorical_columns)\n",
        "\n",
        "# Step 2: Handle missing values in categorical columns\n",
        "df[categorical_columns] = df[categorical_columns].fillna('Unknown')\n",
        "\n",
        "# Calculate associations for categorical variables\n",
        "associations_result = associations(df[categorical_columns], compute_only=True)\n",
        "\n",
        "# Extract the correlation matrix for categorical variables\n",
        "categorical_corr = associations_result['corr']\n",
        "\n",
        "# Display the correlation matrix for categorical variables\n",
        "plt.figure(figsize=(10, 8))\n",
        "sns.heatmap(categorical_corr, annot=True, cmap='coolwarm', fmt='.2f', cbar=True)\n",
        "plt.title('Correlation Matrix for Categorical Variables', fontsize=16)\n",
        "plt.show()\n",
        "\n",
        "\n"
      ],
      "metadata": {
        "colab": {
          "base_uri": "https://localhost:8080/",
          "height": 0
        },
        "id": "QvAZtTb7z_JN",
        "outputId": "a9ede979-0f8e-4a1e-c61b-acb70d34e0ca"
      },
      "id": "QvAZtTb7z_JN",
      "execution_count": 91,
      "outputs": [
        {
          "output_type": "stream",
          "name": "stdout",
          "text": [
            "Categorical columns: ['admission_type', 'admission_location', 'discharge_location', 'insurance', 'language', 'marital_status', 'race', 'gender', 'eventtype', 'careunit', 'diagnosis_icd_code', 'drg_type', 'medication', 'event_txt', 'drug', 'route', 'org_name', 'test_name', 'ab_name', 'curr_service']\n"
          ]
        },
        {
          "output_type": "display_data",
          "data": {
            "text/plain": [
              "<Figure size 1000x800 with 2 Axes>"
            ],
            "image/png": "[encoded data removed]"
          },
          "metadata": {}
        }
      ]
    },
    {
      "cell_type": "markdown",
      "id": "8a7a11a3",
      "metadata": {
        "id": "8a7a11a3"
      },
      "source": [
        "# Transformation Pipelines"
      ]
    },
    {
      "cell_type": "code",
      "execution_count": 92,
      "id": "a70dc94a",
      "metadata": {
        "id": "a70dc94a"
      },
      "outputs": [],
      "source": [
        "categorical_columns = df.select_dtypes(include=['string']).columns.tolist()"
      ]
    },
    {
      "cell_type": "code",
      "execution_count": 93,
      "id": "a0a4fbd9",
      "metadata": {
        "id": "a0a4fbd9",
        "colab": {
          "base_uri": "https://localhost:8080/"
        },
        "outputId": "237a28a0-4e8e-4b23-9f0f-af843d9d5145"
      },
      "outputs": [
        {
          "output_type": "execute_result",
          "data": {
            "text/plain": [
              "[]"
            ]
          },
          "metadata": {},
          "execution_count": 93
        }
      ],
      "source": [
        "categorical_columns"
      ]
    },
    {
      "cell_type": "code",
      "execution_count": 94,
      "id": "44195729",
      "metadata": {
        "id": "44195729",
        "colab": {
          "base_uri": "https://localhost:8080/"
        },
        "outputId": "690e8688-333b-47c5-9085-88b78c1c802e"
      },
      "outputs": [
        {
          "output_type": "execute_result",
          "data": {
            "text/plain": [
              "['discharge_location']"
            ]
          },
          "metadata": {},
          "execution_count": 94
        }
      ],
      "source": [
        "numerical_columns = [df.select_dtypes(exclude=['string']).columns.tolist()[2]]\n",
        "numerical_columns"
      ]
    },
    {
      "cell_type": "code",
      "execution_count": 95,
      "id": "322cdb71",
      "metadata": {
        "id": "322cdb71"
      },
      "outputs": [],
      "source": [
        "from sklearn.pipeline import Pipeline\n",
        "from sklearn.impute import SimpleImputer\n",
        "from sklearn.preprocessing import StandardScaler, OrdinalEncoder"
      ]
    },
    {
      "cell_type": "code",
      "execution_count": 96,
      "id": "6a609052",
      "metadata": {
        "id": "6a609052"
      },
      "outputs": [],
      "source": [
        "num_pipeline = Pipeline([\n",
        "        ('std_scaler', StandardScaler())\n",
        "    ])"
      ]
    },
    {
      "cell_type": "code",
      "execution_count": 97,
      "id": "2431f224",
      "metadata": {
        "id": "2431f224"
      },
      "outputs": [],
      "source": [
        "from sklearn.compose import ColumnTransformer\n",
        "\n",
        "num_attribs = numerical_columns\n",
        "cat_attribs = categorical_columns\n",
        "\n",
        "full_pipeline = ColumnTransformer([\n",
        "        (\"num\", num_pipeline, num_attribs),\n",
        "        (\"cat\", OrdinalEncoder(), cat_attribs),\n",
        "    ])"
      ]
    },
    {
      "cell_type": "markdown",
      "id": "52a337e8",
      "metadata": {
        "id": "52a337e8"
      },
      "source": [
        "# Create Test Set"
      ]
    },
    {
      "cell_type": "code",
      "execution_count": 98,
      "id": "728236d6",
      "metadata": {
        "id": "728236d6"
      },
      "outputs": [],
      "source": [
        "np.random.seed(42)"
      ]
    },
    {
      "cell_type": "code",
      "source": [
        "import pandas as pd\n",
        "from sklearn.model_selection import StratifiedShuffleSplit\n",
        "\n",
        "# Choose 'hospital_expire_flag' for stratification\n",
        "strat_column = 'hospital_expire_flag'\n",
        "\n",
        "# Ensure the chosen column exists\n",
        "if strat_column in df.columns:\n",
        "    split = StratifiedShuffleSplit(n_splits=1, test_size=0.2, random_state=42)\n",
        "    for train_index, test_index in split.split(df, df[strat_column]):\n",
        "        strat_train_set = df.loc[train_index]\n",
        "        strat_test_set = df.loc[test_index]\n",
        "\n",
        "    # Verify the split\n",
        "    print(f\"Train set size: {strat_train_set.shape}\")\n",
        "    print(f\"Test set size: {strat_test_set.shape}\")\n",
        "else:\n",
        "    print(f\"Column '{strat_column}' does not exist in the DataFrame.\")\n"
      ],
      "metadata": {
        "colab": {
          "base_uri": "https://localhost:8080/"
        },
        "id": "LiuFpDo02ptP",
        "outputId": "13ef544d-7472-4dda-8b4c-1998977571c1"
      },
      "id": "LiuFpDo02ptP",
      "execution_count": 99,
      "outputs": [
        {
          "output_type": "stream",
          "name": "stdout",
          "text": [
            "Train set size: (144541, 24)\n",
            "Test set size: (36136, 24)\n"
          ]
        }
      ]
    },
    {
      "cell_type": "code",
      "execution_count": 100,
      "id": "46feacd1",
      "metadata": {
        "id": "46feacd1"
      },
      "outputs": [],
      "source": [
        "train_set_X = strat_train_set.drop(\"los_admission\", axis = 1)\n",
        "train_set_y = strat_train_set[\"los_admission\"]\n",
        "\n",
        "test_set_X = strat_test_set.drop(\"los_admission\", axis = 1)\n",
        "test_set_y = strat_test_set[\"los_admission\"]"
      ]
    },
    {
      "cell_type": "markdown",
      "source": [
        "#Code for Data Preprocessing and Stratified Shuffle Split"
      ],
      "metadata": {
        "id": "QT9GmYfS41l9"
      },
      "id": "QT9GmYfS41l9"
    },
    {
      "cell_type": "code",
      "source": [
        "import pandas as pd\n",
        "from sklearn.model_selection import StratifiedShuffleSplit\n",
        "from sklearn.compose import ColumnTransformer\n",
        "from sklearn.pipeline import Pipeline\n",
        "from sklearn.preprocessing import StandardScaler, OneHotEncoder\n",
        "from sklearn.impute import SimpleImputer\n",
        "\n",
        "# Verify the column names\n",
        "print(\"Initial columns:\", df.columns)\n",
        "\n",
        "# Choose 'hospital_expire_flag' for stratification\n",
        "strat_column = 'hospital_expire_flag'\n",
        "\n",
        "# Ensure the chosen column exists\n",
        "if strat_column in df.columns:\n",
        "    split = StratifiedShuffleSplit(n_splits=1, test_size=0.2, random_state=42)\n",
        "    for train_index, test_index in split.split(df, df[strat_column]):\n",
        "        strat_train_set = df.loc[train_index]\n",
        "        strat_test_set = df.loc[test_index]\n",
        "\n",
        "    # Verify the split\n",
        "    print(f\"Train set size: {strat_train_set.shape}\")\n",
        "    print(f\"Test set size: {strat_test_set.shape}\")\n",
        "\n",
        "    # Debug: Print columns of strat_train_set and strat_test_set\n",
        "    print(\"Columns in strat_train_set:\", strat_train_set.columns)\n",
        "    print(\"Columns in strat_test_set:\", strat_test_set.columns)\n",
        "\n",
        "    # Ensure 'los_admission' column is present\n",
        "    if 'los_admission' in strat_train_set.columns:\n",
        "        # Separate the features and the target variable\n",
        "        train_set_X = strat_train_set.drop('los_admission', axis=1)\n",
        "        train_set_y = strat_train_set['los_admission']\n",
        "\n",
        "        test_set_X = strat_test_set.drop('los_admission', axis=1)\n",
        "        test_set_y = strat_test_set['los_admission']\n",
        "\n",
        "        # Debug: Print shape of train_set_X and verify target column\n",
        "        print(\"Shape of train_set_X:\", train_set_X.shape)\n",
        "        print(\"train_set_y.head():\", train_set_y.head())\n",
        "\n",
        "        # Identify numerical and categorical columns\n",
        "        numeric_features = train_set_X.select_dtypes(include=['float64']).columns.tolist()\n",
        "        categorical_features = train_set_X.select_dtypes(include=['object']).columns.tolist()\n",
        "\n",
        "        # Preprocessing for numerical data\n",
        "        numeric_transformer = Pipeline(steps=[\n",
        "            ('imputer', SimpleImputer(strategy='median')),\n",
        "            ('scaler', StandardScaler())])\n",
        "\n",
        "        # Preprocessing for categorical data\n",
        "        categorical_transformer = Pipeline(steps=[\n",
        "            ('imputer', SimpleImputer(strategy='constant', fill_value='missing')),\n",
        "            ('onehot', OneHotEncoder(handle_unknown='ignore'))])\n",
        "\n",
        "        # Combine preprocessing for numerical and categorical data\n",
        "        preprocessor = ColumnTransformer(\n",
        "            transformers=[\n",
        "                ('num', numeric_transformer, numeric_features),\n",
        "                ('cat', categorical_transformer, categorical_features)])\n",
        "\n",
        "        # Example pipeline with a placeholder for a model\n",
        "        full_pipeline = Pipeline(steps=[('preprocessor', preprocessor)])\n",
        "\n",
        "        # Fit and transform the training data\n",
        "        train_set_X_prepared = full_pipeline.fit_transform(train_set_X)\n",
        "\n",
        "        print(\"Shape of transformed training data:\", train_set_X_prepared.shape)\n",
        "\n",
        "        # Transform the test data\n",
        "        test_set_X_prepared = full_pipeline.transform(test_set_X)\n",
        "\n",
        "        print(\"Shape of transformed test data:\", test_set_X_prepared.shape)\n",
        "\n",
        "    else:\n",
        "        print(\"Column 'los_admission' does not exist in the training set.\")\n",
        "else:\n",
        "    print(f\"Column '{strat_column}' does not exist in the DataFrame.\")\n"
      ],
      "metadata": {
        "colab": {
          "base_uri": "https://localhost:8080/"
        },
        "id": "oY5SlbNO3Gmq",
        "outputId": "392ff45e-7bde-4cf4-e163-18320504a0f4"
      },
      "id": "oY5SlbNO3Gmq",
      "execution_count": 101,
      "outputs": [
        {
          "output_type": "stream",
          "name": "stdout",
          "text": [
            "Initial columns: Index(['admission_type', 'admission_location', 'discharge_location',\n",
            "       'insurance', 'language', 'marital_status', 'race',\n",
            "       'hospital_expire_flag', 'los_admission', 'gender', 'anchor_age',\n",
            "       'eventtype', 'careunit', 'diagnosis_icd_code', 'drg_type', 'drg_code',\n",
            "       'medication', 'event_txt', 'drug', 'route', 'org_name', 'test_name',\n",
            "       'ab_name', 'curr_service'],\n",
            "      dtype='object')\n",
            "Train set size: (144541, 24)\n",
            "Test set size: (36136, 24)\n",
            "Columns in strat_train_set: Index(['admission_type', 'admission_location', 'discharge_location',\n",
            "       'insurance', 'language', 'marital_status', 'race',\n",
            "       'hospital_expire_flag', 'los_admission', 'gender', 'anchor_age',\n",
            "       'eventtype', 'careunit', 'diagnosis_icd_code', 'drg_type', 'drg_code',\n",
            "       'medication', 'event_txt', 'drug', 'route', 'org_name', 'test_name',\n",
            "       'ab_name', 'curr_service'],\n",
            "      dtype='object')\n",
            "Columns in strat_test_set: Index(['admission_type', 'admission_location', 'discharge_location',\n",
            "       'insurance', 'language', 'marital_status', 'race',\n",
            "       'hospital_expire_flag', 'los_admission', 'gender', 'anchor_age',\n",
            "       'eventtype', 'careunit', 'diagnosis_icd_code', 'drg_type', 'drg_code',\n",
            "       'medication', 'event_txt', 'drug', 'route', 'org_name', 'test_name',\n",
            "       'ab_name', 'curr_service'],\n",
            "      dtype='object')\n",
            "Shape of train_set_X: (144541, 23)\n",
            "train_set_y.head(): 132952     2.075694\n",
            "37811      0.676389\n",
            "37377      3.961111\n",
            "169840    12.750694\n",
            "70226     16.199306\n",
            "Name: los_admission, dtype: float64\n",
            "Shape of transformed training data: (144541, 10582)\n",
            "Shape of transformed test data: (36136, 10582)\n"
          ]
        }
      ]
    },
    {
      "cell_type": "code",
      "execution_count": 102,
      "id": "7d73f508",
      "metadata": {
        "id": "7d73f508"
      },
      "outputs": [],
      "source": [
        "train_set_X_prepared = full_pipeline.fit_transform(train_set_X)"
      ]
    },
    {
      "cell_type": "code",
      "execution_count": 103,
      "id": "a338467a",
      "metadata": {
        "id": "a338467a",
        "colab": {
          "base_uri": "https://localhost:8080/"
        },
        "outputId": "bab154f8-cec0-410d-9baa-42b21a803f90"
      },
      "outputs": [
        {
          "output_type": "execute_result",
          "data": {
            "text/plain": [
              "(144541, 10582)"
            ]
          },
          "metadata": {},
          "execution_count": 103
        }
      ],
      "source": [
        "train_set_X_prepared.shape"
      ]
    },
    {
      "cell_type": "code",
      "execution_count": 104,
      "id": "e2e812ce",
      "metadata": {
        "id": "e2e812ce",
        "colab": {
          "base_uri": "https://localhost:8080/"
        },
        "outputId": "9b33a7f9-eb96-4e87-d7e8-ce5013ba94df"
      },
      "outputs": [
        {
          "output_type": "execute_result",
          "data": {
            "text/plain": [
              "<144541x10582 sparse matrix of type '<class 'numpy.float64'>'\n",
              "\twith 3324443 stored elements in Compressed Sparse Row format>"
            ]
          },
          "metadata": {},
          "execution_count": 104
        }
      ],
      "source": [
        "train_set_X_prepared"
      ]
    },
    {
      "cell_type": "code",
      "execution_count": 105,
      "id": "cf59d6c2",
      "metadata": {
        "id": "cf59d6c2"
      },
      "outputs": [],
      "source": [
        "X_test_prepared = full_pipeline.transform(test_set_X)"
      ]
    },
    {
      "cell_type": "markdown",
      "id": "e4512a7e",
      "metadata": {
        "id": "e4512a7e"
      },
      "source": [
        "# Select and Train a Model"
      ]
    },
    {
      "cell_type": "markdown",
      "id": "6176901e",
      "metadata": {
        "id": "6176901e"
      },
      "source": [
        "# Training and Evaluating on the Training Set"
      ]
    },
    {
      "cell_type": "code",
      "execution_count": 106,
      "id": "2dddc1a7",
      "metadata": {
        "id": "2dddc1a7",
        "colab": {
          "base_uri": "https://localhost:8080/",
          "height": 74
        },
        "outputId": "8ac465a9-b821-4470-9644-d5695f1f24ca"
      },
      "outputs": [
        {
          "output_type": "execute_result",
          "data": {
            "text/plain": [
              "LinearRegression()"
            ],
            "text/html": [
              "<style>#sk-container-id-1 {color: black;background-color: white;}#sk-container-id-1 pre{padding: 0;}#sk-container-id-1 div.sk-toggleable {background-color: white;}#sk-container-id-1 label.sk-toggleable__label {cursor: pointer;display: block;width: 100%;margin-bottom: 0;padding: 0.3em;box-sizing: border-box;text-align: center;}#sk-container-id-1 label.sk-toggleable__label-arrow:before {content: \"▸\";float: left;margin-right: 0.25em;color: #696969;}#sk-container-id-1 label.sk-toggleable__label-arrow:hover:before {color: black;}#sk-container-id-1 div.sk-estimator:hover label.sk-toggleable__label-arrow:before {color: black;}#sk-container-id-1 div.sk-toggleable__content {max-height: 0;max-width: 0;overflow: hidden;text-align: left;background-color: #f0f8ff;}#sk-container-id-1 div.sk-toggleable__content pre {margin: 0.2em;color: black;border-radius: 0.25em;background-color: #f0f8ff;}#sk-container-id-1 input.sk-toggleable__control:checked~div.sk-toggleable__content {max-height: 200px;max-width: 100%;overflow: auto;}#sk-container-id-1 input.sk-toggleable__control:checked~label.sk-toggleable__label-arrow:before {content: \"▾\";}#sk-container-id-1 div.sk-estimator input.sk-toggleable__control:checked~label.sk-toggleable__label {background-color: #d4ebff;}#sk-container-id-1 div.sk-label input.sk-toggleable__control:checked~label.sk-toggleable__label {background-color: #d4ebff;}#sk-container-id-1 input.sk-hidden--visually {border: 0;clip: rect(1px 1px 1px 1px);clip: rect(1px, 1px, 1px, 1px);height: 1px;margin: -1px;overflow: hidden;padding: 0;position: absolute;width: 1px;}#sk-container-id-1 div.sk-estimator {font-family: monospace;background-color: #f0f8ff;border: 1px dotted black;border-radius: 0.25em;box-sizing: border-box;margin-bottom: 0.5em;}#sk-container-id-1 div.sk-estimator:hover {background-color: #d4ebff;}#sk-container-id-1 div.sk-parallel-item::after {content: \"\";width: 100%;border-bottom: 1px solid gray;flex-grow: 1;}#sk-container-id-1 div.sk-label:hover label.sk-toggleable__label {background-color: #d4ebff;}#sk-container-id-1 div.sk-serial::before {content: \"\";position: absolute;border-left: 1px solid gray;box-sizing: border-box;top: 0;bottom: 0;left: 50%;z-index: 0;}#sk-container-id-1 div.sk-serial {display: flex;flex-direction: column;align-items: center;background-color: white;padding-right: 0.2em;padding-left: 0.2em;position: relative;}#sk-container-id-1 div.sk-item {position: relative;z-index: 1;}#sk-container-id-1 div.sk-parallel {display: flex;align-items: stretch;justify-content: center;background-color: white;position: relative;}#sk-container-id-1 div.sk-item::before, #sk-container-id-1 div.sk-parallel-item::before {content: \"\";position: absolute;border-left: 1px solid gray;box-sizing: border-box;top: 0;bottom: 0;left: 50%;z-index: -1;}#sk-container-id-1 div.sk-parallel-item {display: flex;flex-direction: column;z-index: 1;position: relative;background-color: white;}#sk-container-id-1 div.sk-parallel-item:first-child::after {align-self: flex-end;width: 50%;}#sk-container-id-1 div.sk-parallel-item:last-child::after {align-self: flex-start;width: 50%;}#sk-container-id-1 div.sk-parallel-item:only-child::after {width: 0;}#sk-container-id-1 div.sk-dashed-wrapped {border: 1px dashed gray;margin: 0 0.4em 0.5em 0.4em;box-sizing: border-box;padding-bottom: 0.4em;background-color: white;}#sk-container-id-1 div.sk-label label {font-family: monospace;font-weight: bold;display: inline-block;line-height: 1.2em;}#sk-container-id-1 div.sk-label-container {text-align: center;}#sk-container-id-1 div.sk-container {/* jupyter's `normalize.less` sets `[hidden] { display: none; }` but bootstrap.min.css set `[hidden] { display: none !important; }` so we also need the `!important` here to be able to override the default hidden behavior on the sphinx rendered scikit-learn.org. See: https://github.com/scikit-learn/scikit-learn/issues/21755 */display: inline-block !important;position: relative;}#sk-container-id-1 div.sk-text-repr-fallback {display: none;}</style><div id=\"sk-container-id-1\" class=\"sk-top-container\"><div class=\"sk-text-repr-fallback\"><pre>LinearRegression()</pre><b>In a Jupyter environment, please rerun this cell to show the HTML representation or trust the notebook. <br />On GitHub, the HTML representation is unable to render, please try loading this page with nbviewer.org.</b></div><div class=\"sk-container\" hidden><div class=\"sk-item\"><div class=\"sk-estimator sk-toggleable\"><input class=\"sk-toggleable__control sk-hidden--visually\" id=\"sk-estimator-id-1\" type=\"checkbox\" checked><label for=\"sk-estimator-id-1\" class=\"sk-toggleable__label sk-toggleable__label-arrow\">LinearRegression</label><div class=\"sk-toggleable__content\"><pre>LinearRegression()</pre></div></div></div></div></div>"
            ]
          },
          "metadata": {},
          "execution_count": 106
        }
      ],
      "source": [
        "from sklearn.linear_model import LinearRegression\n",
        "\n",
        "lin_reg_instance = LinearRegression()\n",
        "lin_reg_instance.fit(train_set_X_prepared, train_set_y)"
      ]
    },
    {
      "cell_type": "code",
      "execution_count": 107,
      "id": "0f89569b",
      "metadata": {
        "id": "0f89569b",
        "colab": {
          "base_uri": "https://localhost:8080/"
        },
        "outputId": "17e5be06-213a-430a-9d88-19b6b00d736c"
      },
      "outputs": [
        {
          "output_type": "stream",
          "name": "stdout",
          "text": [
            "Predictions : [3.31159197 0.12372507 3.01571451 6.94882413 9.77542813]\n"
          ]
        }
      ],
      "source": [
        "some_data = train_set_X.iloc[:5]\n",
        "some_labels = train_set_y.iloc[:5]\n",
        "some_data_prepared = full_pipeline.transform(some_data)\n",
        "\n",
        "print(f\"Predictions : {lin_reg_instance.predict(some_data_prepared)}\")"
      ]
    },
    {
      "cell_type": "code",
      "execution_count": 108,
      "id": "9afe1876",
      "metadata": {
        "id": "9afe1876",
        "colab": {
          "base_uri": "https://localhost:8080/"
        },
        "outputId": "9971d019-9c32-41de-8e06-413daf20a115"
      },
      "outputs": [
        {
          "output_type": "stream",
          "name": "stdout",
          "text": [
            "Labels : 132952     2.075694\n",
            "37811      0.676389\n",
            "37377      3.961111\n",
            "169840    12.750694\n",
            "70226     16.199306\n",
            "Name: los_admission, dtype: float64\n"
          ]
        }
      ],
      "source": [
        "print(f\"Labels : {some_labels}\")"
      ]
    },
    {
      "cell_type": "code",
      "execution_count": 109,
      "id": "a35c2073",
      "metadata": {
        "id": "a35c2073",
        "colab": {
          "base_uri": "https://localhost:8080/"
        },
        "outputId": "aeaa5fe5-79f7-43ab-9d16-0454ca6710a8"
      },
      "outputs": [
        {
          "output_type": "execute_result",
          "data": {
            "text/plain": [
              "4.63882998720753"
            ]
          },
          "metadata": {},
          "execution_count": 109
        }
      ],
      "source": [
        "from sklearn.metrics import mean_squared_error\n",
        "\n",
        "los_admission_predictions = lin_reg_instance.predict(train_set_X_prepared)\n",
        "lin_mse = mean_squared_error(train_set_y, los_admission_predictions)\n",
        "lin_rmse = np.sqrt(lin_mse)\n",
        "lin_rmse"
      ]
    },
    {
      "cell_type": "code",
      "execution_count": 110,
      "id": "205c762d",
      "metadata": {
        "id": "205c762d",
        "colab": {
          "base_uri": "https://localhost:8080/"
        },
        "outputId": "1b93c415-de67-40d2-8527-ad58c248486c"
      },
      "outputs": [
        {
          "output_type": "execute_result",
          "data": {
            "text/plain": [
              "2.2425824057717656"
            ]
          },
          "metadata": {},
          "execution_count": 110
        }
      ],
      "source": [
        "from sklearn.metrics import mean_absolute_error\n",
        "\n",
        "lin_mae = mean_absolute_error(train_set_y, los_admission_predictions)\n",
        "lin_mae"
      ]
    },
    {
      "cell_type": "code",
      "execution_count": 111,
      "id": "fd19a23f",
      "metadata": {
        "id": "fd19a23f"
      },
      "outputs": [],
      "source": [
        "from sklearn.tree import DecisionTreeRegressor\n",
        "\n",
        "tree_reg_instance = DecisionTreeRegressor(random_state=42)"
      ]
    },
    {
      "cell_type": "code",
      "execution_count": 112,
      "id": "5deea86f",
      "metadata": {
        "id": "5deea86f",
        "colab": {
          "base_uri": "https://localhost:8080/",
          "height": 74
        },
        "outputId": "2f95c232-a28f-4c9d-fea4-88256321db1d"
      },
      "outputs": [
        {
          "output_type": "execute_result",
          "data": {
            "text/plain": [
              "DecisionTreeRegressor(random_state=42)"
            ],
            "text/html": [
              "<style>#sk-container-id-2 {color: black;background-color: white;}#sk-container-id-2 pre{padding: 0;}#sk-container-id-2 div.sk-toggleable {background-color: white;}#sk-container-id-2 label.sk-toggleable__label {cursor: pointer;display: block;width: 100%;margin-bottom: 0;padding: 0.3em;box-sizing: border-box;text-align: center;}#sk-container-id-2 label.sk-toggleable__label-arrow:before {content: \"▸\";float: left;margin-right: 0.25em;color: #696969;}#sk-container-id-2 label.sk-toggleable__label-arrow:hover:before {color: black;}#sk-container-id-2 div.sk-estimator:hover label.sk-toggleable__label-arrow:before {color: black;}#sk-container-id-2 div.sk-toggleable__content {max-height: 0;max-width: 0;overflow: hidden;text-align: left;background-color: #f0f8ff;}#sk-container-id-2 div.sk-toggleable__content pre {margin: 0.2em;color: black;border-radius: 0.25em;background-color: #f0f8ff;}#sk-container-id-2 input.sk-toggleable__control:checked~div.sk-toggleable__content {max-height: 200px;max-width: 100%;overflow: auto;}#sk-container-id-2 input.sk-toggleable__control:checked~label.sk-toggleable__label-arrow:before {content: \"▾\";}#sk-container-id-2 div.sk-estimator input.sk-toggleable__control:checked~label.sk-toggleable__label {background-color: #d4ebff;}#sk-container-id-2 div.sk-label input.sk-toggleable__control:checked~label.sk-toggleable__label {background-color: #d4ebff;}#sk-container-id-2 input.sk-hidden--visually {border: 0;clip: rect(1px 1px 1px 1px);clip: rect(1px, 1px, 1px, 1px);height: 1px;margin: -1px;overflow: hidden;padding: 0;position: absolute;width: 1px;}#sk-container-id-2 div.sk-estimator {font-family: monospace;background-color: #f0f8ff;border: 1px dotted black;border-radius: 0.25em;box-sizing: border-box;margin-bottom: 0.5em;}#sk-container-id-2 div.sk-estimator:hover {background-color: #d4ebff;}#sk-container-id-2 div.sk-parallel-item::after {content: \"\";width: 100%;border-bottom: 1px solid gray;flex-grow: 1;}#sk-container-id-2 div.sk-label:hover label.sk-toggleable__label {background-color: #d4ebff;}#sk-container-id-2 div.sk-serial::before {content: \"\";position: absolute;border-left: 1px solid gray;box-sizing: border-box;top: 0;bottom: 0;left: 50%;z-index: 0;}#sk-container-id-2 div.sk-serial {display: flex;flex-direction: column;align-items: center;background-color: white;padding-right: 0.2em;padding-left: 0.2em;position: relative;}#sk-container-id-2 div.sk-item {position: relative;z-index: 1;}#sk-container-id-2 div.sk-parallel {display: flex;align-items: stretch;justify-content: center;background-color: white;position: relative;}#sk-container-id-2 div.sk-item::before, #sk-container-id-2 div.sk-parallel-item::before {content: \"\";position: absolute;border-left: 1px solid gray;box-sizing: border-box;top: 0;bottom: 0;left: 50%;z-index: -1;}#sk-container-id-2 div.sk-parallel-item {display: flex;flex-direction: column;z-index: 1;position: relative;background-color: white;}#sk-container-id-2 div.sk-parallel-item:first-child::after {align-self: flex-end;width: 50%;}#sk-container-id-2 div.sk-parallel-item:last-child::after {align-self: flex-start;width: 50%;}#sk-container-id-2 div.sk-parallel-item:only-child::after {width: 0;}#sk-container-id-2 div.sk-dashed-wrapped {border: 1px dashed gray;margin: 0 0.4em 0.5em 0.4em;box-sizing: border-box;padding-bottom: 0.4em;background-color: white;}#sk-container-id-2 div.sk-label label {font-family: monospace;font-weight: bold;display: inline-block;line-height: 1.2em;}#sk-container-id-2 div.sk-label-container {text-align: center;}#sk-container-id-2 div.sk-container {/* jupyter's `normalize.less` sets `[hidden] { display: none; }` but bootstrap.min.css set `[hidden] { display: none !important; }` so we also need the `!important` here to be able to override the default hidden behavior on the sphinx rendered scikit-learn.org. See: https://github.com/scikit-learn/scikit-learn/issues/21755 */display: inline-block !important;position: relative;}#sk-container-id-2 div.sk-text-repr-fallback {display: none;}</style><div id=\"sk-container-id-2\" class=\"sk-top-container\"><div class=\"sk-text-repr-fallback\"><pre>DecisionTreeRegressor(random_state=42)</pre><b>In a Jupyter environment, please rerun this cell to show the HTML representation or trust the notebook. <br />On GitHub, the HTML representation is unable to render, please try loading this page with nbviewer.org.</b></div><div class=\"sk-container\" hidden><div class=\"sk-item\"><div class=\"sk-estimator sk-toggleable\"><input class=\"sk-toggleable__control sk-hidden--visually\" id=\"sk-estimator-id-2\" type=\"checkbox\" checked><label for=\"sk-estimator-id-2\" class=\"sk-toggleable__label sk-toggleable__label-arrow\">DecisionTreeRegressor</label><div class=\"sk-toggleable__content\"><pre>DecisionTreeRegressor(random_state=42)</pre></div></div></div></div></div>"
            ]
          },
          "metadata": {},
          "execution_count": 112
        }
      ],
      "source": [
        "tree_reg_instance.fit(train_set_X_prepared, train_set_y)"
      ]
    },
    {
      "cell_type": "code",
      "execution_count": 113,
      "id": "e1c949a8",
      "metadata": {
        "id": "e1c949a8",
        "colab": {
          "base_uri": "https://localhost:8080/"
        },
        "outputId": "d882d552-8cbc-4956-f37d-1263e777b811"
      },
      "outputs": [
        {
          "output_type": "execute_result",
          "data": {
            "text/plain": [
              "0.026365654955268977"
            ]
          },
          "metadata": {},
          "execution_count": 113
        }
      ],
      "source": [
        "los_admission_predictions = tree_reg_instance.predict(train_set_X_prepared)\n",
        "lin_mse = mean_squared_error(train_set_y, los_admission_predictions)\n",
        "lin_rmse = np.sqrt(lin_mse)\n",
        "lin_rmse"
      ]
    },
    {
      "cell_type": "markdown",
      "source": [
        "#Training and Evaluating Multiple Regression Models"
      ],
      "metadata": {
        "id": "DEWmYnU0PJHx"
      },
      "id": "DEWmYnU0PJHx"
    },
    {
      "cell_type": "markdown",
      "id": "47bdb937",
      "metadata": {
        "id": "47bdb937"
      },
      "source": [
        "# Analyze the Best Models"
      ]
    },
    {
      "cell_type": "code",
      "source": [
        "from sklearn.linear_model import LinearRegression\n",
        "from sklearn.tree import DecisionTreeRegressor\n",
        "from sklearn.ensemble import RandomForestRegressor\n",
        "from sklearn.svm import SVR\n",
        "from sklearn.metrics import mean_squared_error\n",
        "from sklearn.model_selection import StratifiedShuffleSplit\n",
        "import numpy as np\n",
        "\n",
        "# Sample a fraction of the dataset for faster testing\n",
        "df_sampled = df.sample(frac=0.1, random_state=42)  # 10% of the data\n",
        "\n",
        "# Reset index to ensure continuous indexing after sampling\n",
        "df_sampled = df_sampled.reset_index(drop=True)\n",
        "\n",
        "# Stratified split on the sampled data\n",
        "strat_column = 'hospital_expire_flag'\n",
        "if strat_column in df_sampled.columns:\n",
        "    split = StratifiedShuffleSplit(n_splits=1, test_size=0.2, random_state=42)\n",
        "    for train_index, test_index in split.split(df_sampled, df_sampled[strat_column]):\n",
        "        strat_train_set = df_sampled.loc[train_index].copy()\n",
        "        strat_test_set = df_sampled.loc[test_index].copy()\n",
        "\n",
        "    train_set_X = strat_train_set.drop(\"los_admission\", axis=1)\n",
        "    train_set_y = strat_train_set[\"los_admission\"]\n",
        "\n",
        "    test_set_X = strat_test_set.drop(\"los_admission\", axis=1)\n",
        "    test_set_y = strat_test_set[\"los_admission\"]\n",
        "\n",
        "    # Fit and transform the training data\n",
        "    train_set_X_prepared = full_pipeline.fit_transform(train_set_X)\n",
        "    test_set_X_prepared = full_pipeline.transform(test_set_X)\n",
        "\n",
        "    # Dictionary to store models and their respective RMSE values\n",
        "    models = {\n",
        "        \"Linear Regression\": LinearRegression(),\n",
        "        \"Decision Tree\": DecisionTreeRegressor(random_state=42),\n",
        "        \"Random Forest\": RandomForestRegressor(n_estimators=10, random_state=42, n_jobs=-1),  # Reduced number of estimators and enable parallel processing\n",
        "        \"SVR\": SVR(kernel=\"linear\", C=1)\n",
        "    }\n",
        "\n",
        "    # Function to calculate RMSE\n",
        "    def calculate_rmse(model, X, y):\n",
        "        predictions = model.predict(X)\n",
        "        mse = mean_squared_error(y, predictions)\n",
        "        rmse = np.sqrt(mse)\n",
        "        return rmse\n",
        "\n",
        "    # Fit models and calculate RMSE\n",
        "    results = []\n",
        "    for model_name, model in models.items():\n",
        "        model.fit(train_set_X_prepared, train_set_y)\n",
        "        train_rmse = calculate_rmse(model, train_set_X_prepared, train_set_y)\n",
        "        test_rmse = calculate_rmse(model, test_set_X_prepared, test_set_y)\n",
        "        results.append((model_name, train_rmse, test_rmse))\n",
        "        print(f\"{model_name} - Train RMSE: {train_rmse:.2f}, Test RMSE: {test_rmse:.2f}\")\n",
        "\n",
        "    # Print summary\n",
        "    print(\"Model Performance Summary:\")\n",
        "    for model_name, train_rmse, test_rmse in results:\n",
        "        print(f\"{model_name} - Train RMSE: {train_rmse:.2f}, Test RMSE: {test_rmse:.2f}\")\n",
        "\n",
        "else:\n",
        "    print(f\"Column '{strat_column}' does not exist in the DataFrame.\")\n"
      ],
      "metadata": {
        "colab": {
          "base_uri": "https://localhost:8080/"
        },
        "id": "KrGKXfqPWCTM",
        "outputId": "a3532a58-1096-4590-9219-b9b9c5225233"
      },
      "id": "KrGKXfqPWCTM",
      "execution_count": 117,
      "outputs": [
        {
          "output_type": "stream",
          "name": "stdout",
          "text": [
            "Linear Regression - Train RMSE: 3.68, Test RMSE: 6.02\n",
            "Decision Tree - Train RMSE: 0.01, Test RMSE: 6.27\n",
            "Random Forest - Train RMSE: 2.15, Test RMSE: 5.68\n",
            "SVR - Train RMSE: 5.06, Test RMSE: 5.77\n",
            "Model Performance Summary:\n",
            "Linear Regression - Train RMSE: 3.68, Test RMSE: 6.02\n",
            "Decision Tree - Train RMSE: 0.01, Test RMSE: 6.27\n",
            "Random Forest - Train RMSE: 2.15, Test RMSE: 5.68\n",
            "SVR - Train RMSE: 5.06, Test RMSE: 5.77\n"
          ]
        }
      ]
    },
    {
      "cell_type": "markdown",
      "source": [
        "### Model Performance Analysis\n",
        "\n",
        "Based on the RMSE (Root Mean Squared Error) values obtained from training and testing different regression models, we can draw the following conclusions about their performance:\n",
        "\n",
        "#### Linear Regression\n",
        "- **Train RMSE**: 3.68\n",
        "- **Test RMSE**: 6.02\n",
        "- **Analysis**: The Linear Regression model has a moderate train RMSE and a higher test RMSE, indicating that the model may not generalize well to unseen data. The difference between train and test RMSE suggests some degree of overfitting.\n",
        "\n",
        "#### Decision Tree\n",
        "- **Train RMSE**: 0.01\n",
        "- **Test RMSE**: 6.27\n",
        "- **Analysis**: The Decision Tree model shows an extremely low train RMSE but a significantly higher test RMSE. This indicates severe overfitting, where the model performs exceptionally well on the training data but fails to generalize to the test data.\n",
        "\n",
        "#### Random Forest\n",
        "- **Train RMSE**: 2.15\n",
        "- **Test RMSE**: 5.68\n",
        "- **Analysis**: The Random Forest model demonstrates good performance with a relatively low train RMSE and the lowest test RMSE among the models tested. This suggests that the model has a good balance between fitting the training data and generalizing to new data, making it the best-performing model in this comparison.\n",
        "\n",
        "#### Support Vector Regressor (SVR)\n",
        "- **Train RMSE**: 5.06\n",
        "- **Test RMSE**: 5.77\n",
        "- **Analysis**: The SVR model shows higher RMSE values for both training and testing compared to the Random Forest model. The close values of train and test RMSE indicate that the model generalizes better than the Decision Tree but not as well as the Random Forest.\n",
        "\n",
        "### Summary\n",
        "- **Best Model**: Random Forest is the best model based on the lowest test RMSE of 5.68, indicating better generalization to unseen data.\n",
        "- **Overfitting**: The Decision Tree model shows severe overfitting, as evidenced by the large gap between train and test RMSE.\n",
        "- **Generalization**: Linear Regression and SVR have higher test RMSE values than Random Forest, suggesting that they are less effective in capturing the underlying patterns in the data.\n",
        "\n",
        "### Conclusion\n",
        "The Random Forest model is the most effective at predicting the target variable with the lowest test RMSE, indicating a good balance between fitting the training data and generalizing to new data. Future work could include further tuning of hyperparameters and exploring more complex models or feature engineering to improve performance even further."
      ],
      "metadata": {
        "id": "bowMBv-fc8BE"
      },
      "id": "bowMBv-fc8BE"
    },
    {
      "cell_type": "markdown",
      "source": [],
      "metadata": {
        "id": "sDyBn7Ayc-Ea"
      },
      "id": "sDyBn7Ayc-Ea"
    },
    {
      "cell_type": "markdown",
      "id": "e708eff1",
      "metadata": {
        "id": "e708eff1"
      },
      "source": [
        "# Evaluate Your System on the Test Set"
      ]
    },
    {
      "cell_type": "markdown",
      "id": "a01e67d9",
      "metadata": {
        "id": "a01e67d9"
      },
      "source": [
        "## A full pipeline with both preparation and prediction\n"
      ]
    },
    {
      "cell_type": "code",
      "execution_count": 131,
      "id": "0ff03004",
      "metadata": {
        "id": "0ff03004",
        "colab": {
          "base_uri": "https://localhost:8080/"
        },
        "outputId": "00713181-f87d-409a-b93e-1ba720b65142"
      },
      "outputs": [
        {
          "output_type": "execute_result",
          "data": {
            "text/plain": [
              "array([ 1.44008967,  0.70688801,  4.57906981,  7.45278604, 11.75828761])"
            ]
          },
          "metadata": {},
          "execution_count": 131
        }
      ],
      "source": [
        "full_pipeline_with_predictor = Pipeline([\n",
        "        (\"preparation\", full_pipeline),\n",
        "        (\"linear\", LinearRegression())\n",
        "    ])\n",
        "\n",
        "full_pipeline_with_predictor.fit(train_set_X, train_set_y)\n",
        "full_pipeline_with_predictor.predict(some_data)"
      ]
    },
    {
      "cell_type": "code",
      "execution_count": 132,
      "id": "a2358f2f",
      "metadata": {
        "id": "a2358f2f"
      },
      "outputs": [],
      "source": [
        "my_model = full_pipeline_with_predictor"
      ]
    },
    {
      "cell_type": "code",
      "execution_count": 133,
      "id": "8f98edc4",
      "metadata": {
        "id": "8f98edc4"
      },
      "outputs": [],
      "source": [
        "import joblib\n",
        "joblib.dump(my_model, \"my_model.pkl\") # DIFF\n",
        "#...\n",
        "my_model_loaded = joblib.load(\"my_model.pkl\") # DIFF"
      ]
    },
    {
      "cell_type": "code",
      "execution_count": 135,
      "id": "a5c63f15",
      "metadata": {
        "id": "a5c63f15",
        "colab": {
          "base_uri": "https://localhost:8080/",
          "height": 377
        },
        "outputId": "723c7881-cbb5-4cc0-85a5-123d98d8306c"
      },
      "outputs": [
        {
          "output_type": "execute_result",
          "data": {
            "text/plain": [
              "   admission_type      admission_location discharge_location insurance  \\\n",
              "0          URGENT  TRANSFER FROM HOSPITAL               HOME     Other   \n",
              "1  EU OBSERVATION          EMERGENCY ROOM              Other     Other   \n",
              "2        EW EMER.   WALK-IN/SELF REFERRAL   HOME HEALTH CARE  Medicare   \n",
              "3  EU OBSERVATION          EMERGENCY ROOM              Other     Other   \n",
              "4  EU OBSERVATION          EMERGENCY ROOM              Other     Other   \n",
              "\n",
              "  language marital_status   race  hospital_expire_flag  los_admission gender  \\\n",
              "0  ENGLISH        WIDOWED  WHITE                   0.0       0.786111      F   \n",
              "1  ENGLISH         SINGLE  WHITE                   0.0       0.298611      F   \n",
              "2  ENGLISH        MARRIED  WHITE                   0.0       4.538889      M   \n",
              "3  ENGLISH         SINGLE  WHITE                   0.0       0.407639      M   \n",
              "4  ENGLISH       DIVORCED  WHITE                   0.0       0.532639      F   \n",
              "\n",
              "   ...  drg_type drg_code                      medication     event_txt  \\\n",
              "0  ...       APR    283.0              Potassium Chloride  Administered   \n",
              "1  ...     OTHER      0.0                         Unknown       Unknown   \n",
              "2  ...       APR     42.0                     Pramipexole  Administered   \n",
              "3  ...     OTHER      0.0                         Unknown       Unknown   \n",
              "4  ...       APR    308.0  Influenza Vaccine Quadrivalent     Hold Dose   \n",
              "\n",
              "            drug  route org_name               test_name ab_name curr_service  \n",
              "0  Acetaminophen  PO/NG     None                   Other    None          MED  \n",
              "1           None   None     None                    None    None          MED  \n",
              "2          Other  PO/NG     None  Blood Culture, Routine    None          MED  \n",
              "3           None   None    Other                   Other    None          MED  \n",
              "4        Heparin     SC    Other                   Other    None          MED  \n",
              "\n",
              "[5 rows x 24 columns]"
            ],
            "text/html": [
              "\n",
              "  <div id=\"df-be55858a-532c-40bf-8726-6ffe00760bb4\" class=\"colab-df-container\">\n",
              "    <div>\n",
              "<style scoped>\n",
              "    .dataframe tbody tr th:only-of-type {\n",
              "        vertical-align: middle;\n",
              "    }\n",
              "\n",
              "    .dataframe tbody tr th {\n",
              "        vertical-align: top;\n",
              "    }\n",
              "\n",
              "    .dataframe thead th {\n",
              "        text-align: right;\n",
              "    }\n",
              "</style>\n",
              "<table border=\"1\" class=\"dataframe\">\n",
              "  <thead>\n",
              "    <tr style=\"text-align: right;\">\n",
              "      <th></th>\n",
              "      <th>admission_type</th>\n",
              "      <th>admission_location</th>\n",
              "      <th>discharge_location</th>\n",
              "      <th>insurance</th>\n",
              "      <th>language</th>\n",
              "      <th>marital_status</th>\n",
              "      <th>race</th>\n",
              "      <th>hospital_expire_flag</th>\n",
              "      <th>los_admission</th>\n",
              "      <th>gender</th>\n",
              "      <th>...</th>\n",
              "      <th>drg_type</th>\n",
              "      <th>drg_code</th>\n",
              "      <th>medication</th>\n",
              "      <th>event_txt</th>\n",
              "      <th>drug</th>\n",
              "      <th>route</th>\n",
              "      <th>org_name</th>\n",
              "      <th>test_name</th>\n",
              "      <th>ab_name</th>\n",
              "      <th>curr_service</th>\n",
              "    </tr>\n",
              "  </thead>\n",
              "  <tbody>\n",
              "    <tr>\n",
              "      <th>0</th>\n",
              "      <td>URGENT</td>\n",
              "      <td>TRANSFER FROM HOSPITAL</td>\n",
              "      <td>HOME</td>\n",
              "      <td>Other</td>\n",
              "      <td>ENGLISH</td>\n",
              "      <td>WIDOWED</td>\n",
              "      <td>WHITE</td>\n",
              "      <td>0.0</td>\n",
              "      <td>0.786111</td>\n",
              "      <td>F</td>\n",
              "      <td>...</td>\n",
              "      <td>APR</td>\n",
              "      <td>283.0</td>\n",
              "      <td>Potassium Chloride</td>\n",
              "      <td>Administered</td>\n",
              "      <td>Acetaminophen</td>\n",
              "      <td>PO/NG</td>\n",
              "      <td>None</td>\n",
              "      <td>Other</td>\n",
              "      <td>None</td>\n",
              "      <td>MED</td>\n",
              "    </tr>\n",
              "    <tr>\n",
              "      <th>1</th>\n",
              "      <td>EU OBSERVATION</td>\n",
              "      <td>EMERGENCY ROOM</td>\n",
              "      <td>Other</td>\n",
              "      <td>Other</td>\n",
              "      <td>ENGLISH</td>\n",
              "      <td>SINGLE</td>\n",
              "      <td>WHITE</td>\n",
              "      <td>0.0</td>\n",
              "      <td>0.298611</td>\n",
              "      <td>F</td>\n",
              "      <td>...</td>\n",
              "      <td>OTHER</td>\n",
              "      <td>0.0</td>\n",
              "      <td>Unknown</td>\n",
              "      <td>Unknown</td>\n",
              "      <td>None</td>\n",
              "      <td>None</td>\n",
              "      <td>None</td>\n",
              "      <td>None</td>\n",
              "      <td>None</td>\n",
              "      <td>MED</td>\n",
              "    </tr>\n",
              "    <tr>\n",
              "      <th>2</th>\n",
              "      <td>EW EMER.</td>\n",
              "      <td>WALK-IN/SELF REFERRAL</td>\n",
              "      <td>HOME HEALTH CARE</td>\n",
              "      <td>Medicare</td>\n",
              "      <td>ENGLISH</td>\n",
              "      <td>MARRIED</td>\n",
              "      <td>WHITE</td>\n",
              "      <td>0.0</td>\n",
              "      <td>4.538889</td>\n",
              "      <td>M</td>\n",
              "      <td>...</td>\n",
              "      <td>APR</td>\n",
              "      <td>42.0</td>\n",
              "      <td>Pramipexole</td>\n",
              "      <td>Administered</td>\n",
              "      <td>Other</td>\n",
              "      <td>PO/NG</td>\n",
              "      <td>None</td>\n",
              "      <td>Blood Culture, Routine</td>\n",
              "      <td>None</td>\n",
              "      <td>MED</td>\n",
              "    </tr>\n",
              "    <tr>\n",
              "      <th>3</th>\n",
              "      <td>EU OBSERVATION</td>\n",
              "      <td>EMERGENCY ROOM</td>\n",
              "      <td>Other</td>\n",
              "      <td>Other</td>\n",
              "      <td>ENGLISH</td>\n",
              "      <td>SINGLE</td>\n",
              "      <td>WHITE</td>\n",
              "      <td>0.0</td>\n",
              "      <td>0.407639</td>\n",
              "      <td>M</td>\n",
              "      <td>...</td>\n",
              "      <td>OTHER</td>\n",
              "      <td>0.0</td>\n",
              "      <td>Unknown</td>\n",
              "      <td>Unknown</td>\n",
              "      <td>None</td>\n",
              "      <td>None</td>\n",
              "      <td>Other</td>\n",
              "      <td>Other</td>\n",
              "      <td>None</td>\n",
              "      <td>MED</td>\n",
              "    </tr>\n",
              "    <tr>\n",
              "      <th>4</th>\n",
              "      <td>EU OBSERVATION</td>\n",
              "      <td>EMERGENCY ROOM</td>\n",
              "      <td>Other</td>\n",
              "      <td>Other</td>\n",
              "      <td>ENGLISH</td>\n",
              "      <td>DIVORCED</td>\n",
              "      <td>WHITE</td>\n",
              "      <td>0.0</td>\n",
              "      <td>0.532639</td>\n",
              "      <td>F</td>\n",
              "      <td>...</td>\n",
              "      <td>APR</td>\n",
              "      <td>308.0</td>\n",
              "      <td>Influenza Vaccine Quadrivalent</td>\n",
              "      <td>Hold Dose</td>\n",
              "      <td>Heparin</td>\n",
              "      <td>SC</td>\n",
              "      <td>Other</td>\n",
              "      <td>Other</td>\n",
              "      <td>None</td>\n",
              "      <td>MED</td>\n",
              "    </tr>\n",
              "  </tbody>\n",
              "</table>\n",
              "<p>5 rows × 24 columns</p>\n",
              "</div>\n",
              "    <div class=\"colab-df-buttons\">\n",
              "\n",
              "  <div class=\"colab-df-container\">\n",
              "    <button class=\"colab-df-convert\" onclick=\"convertToInteractive('df-be55858a-532c-40bf-8726-6ffe00760bb4')\"\n",
              "            title=\"Convert this dataframe to an interactive table.\"\n",
              "            style=\"display:none;\">\n",
              "\n",
              "  <svg xmlns=\"http://www.w3.org/2000/svg\" height=\"24px\" viewBox=\"0 -960 960 960\">\n",
              "    <path d=\"M120-120v-720h720v720H120Zm60-500h600v-160H180v160Zm220 220h160v-160H400v160Zm0 220h160v-160H400v160ZM180-400h160v-160H180v160Zm440 0h160v-160H620v160ZM180-180h160v-160H180v160Zm440 0h160v-160H620v160Z\"/>\n",
              "  </svg>\n",
              "    </button>\n",
              "\n",
              "  <style>\n",
              "    .colab-df-container {\n",
              "      display:flex;\n",
              "      gap: 12px;\n",
              "    }\n",
              "\n",
              "    .colab-df-convert {\n",
              "      background-color: #E8F0FE;\n",
              "      border: none;\n",
              "      border-radius: 50%;\n",
              "      cursor: pointer;\n",
              "      display: none;\n",
              "      fill: #1967D2;\n",
              "      height: 32px;\n",
              "      padding: 0 0 0 0;\n",
              "      width: 32px;\n",
              "    }\n",
              "\n",
              "    .colab-df-convert:hover {\n",
              "      background-color: #E2EBFA;\n",
              "      box-shadow: 0px 1px 2px rgba(60, 64, 67, 0.3), 0px 1px 3px 1px rgba(60, 64, 67, 0.15);\n",
              "      fill: #174EA6;\n",
              "    }\n",
              "\n",
              "    .colab-df-buttons div {\n",
              "      margin-bottom: 4px;\n",
              "    }\n",
              "\n",
              "    [theme=dark] .colab-df-convert {\n",
              "      background-color: #3B4455;\n",
              "      fill: #D2E3FC;\n",
              "    }\n",
              "\n",
              "    [theme=dark] .colab-df-convert:hover {\n",
              "      background-color: #434B5C;\n",
              "      box-shadow: 0px 1px 3px 1px rgba(0, 0, 0, 0.15);\n",
              "      filter: drop-shadow(0px 1px 2px rgba(0, 0, 0, 0.3));\n",
              "      fill: #FFFFFF;\n",
              "    }\n",
              "  </style>\n",
              "\n",
              "    <script>\n",
              "      const buttonEl =\n",
              "        document.querySelector('#df-be55858a-532c-40bf-8726-6ffe00760bb4 button.colab-df-convert');\n",
              "      buttonEl.style.display =\n",
              "        google.colab.kernel.accessAllowed ? 'block' : 'none';\n",
              "\n",
              "      async function convertToInteractive(key) {\n",
              "        const element = document.querySelector('#df-be55858a-532c-40bf-8726-6ffe00760bb4');\n",
              "        const dataTable =\n",
              "          await google.colab.kernel.invokeFunction('convertToInteractive',\n",
              "                                                    [key], {});\n",
              "        if (!dataTable) return;\n",
              "\n",
              "        const docLinkHtml = 'Like what you see? Visit the ' +\n",
              "          '<a target=\"_blank\" href=https://colab.research.google.com/notebooks/data_table.ipynb>data table notebook</a>'\n",
              "          + ' to learn more about interactive tables.';\n",
              "        element.innerHTML = '';\n",
              "        dataTable['output_type'] = 'display_data';\n",
              "        await google.colab.output.renderOutput(dataTable, element);\n",
              "        const docLink = document.createElement('div');\n",
              "        docLink.innerHTML = docLinkHtml;\n",
              "        element.appendChild(docLink);\n",
              "      }\n",
              "    </script>\n",
              "  </div>\n",
              "\n",
              "\n",
              "<div id=\"df-fe63df65-1f00-42d6-acbb-4a9a089c52a2\">\n",
              "  <button class=\"colab-df-quickchart\" onclick=\"quickchart('df-fe63df65-1f00-42d6-acbb-4a9a089c52a2')\"\n",
              "            title=\"Suggest charts\"\n",
              "            style=\"display:none;\">\n",
              "\n",
              "<svg xmlns=\"http://www.w3.org/2000/svg\" height=\"24px\"viewBox=\"0 0 24 24\"\n",
              "     width=\"24px\">\n",
              "    <g>\n",
              "        <path d=\"M19 3H5c-1.1 0-2 .9-2 2v14c0 1.1.9 2 2 2h14c1.1 0 2-.9 2-2V5c0-1.1-.9-2-2-2zM9 17H7v-7h2v7zm4 0h-2V7h2v10zm4 0h-2v-4h2v4z\"/>\n",
              "    </g>\n",
              "</svg>\n",
              "  </button>\n",
              "\n",
              "<style>\n",
              "  .colab-df-quickchart {\n",
              "      --bg-color: #E8F0FE;\n",
              "      --fill-color: #1967D2;\n",
              "      --hover-bg-color: #E2EBFA;\n",
              "      --hover-fill-color: #174EA6;\n",
              "      --disabled-fill-color: #AAA;\n",
              "      --disabled-bg-color: #DDD;\n",
              "  }\n",
              "\n",
              "  [theme=dark] .colab-df-quickchart {\n",
              "      --bg-color: #3B4455;\n",
              "      --fill-color: #D2E3FC;\n",
              "      --hover-bg-color: #434B5C;\n",
              "      --hover-fill-color: #FFFFFF;\n",
              "      --disabled-bg-color: #3B4455;\n",
              "      --disabled-fill-color: #666;\n",
              "  }\n",
              "\n",
              "  .colab-df-quickchart {\n",
              "    background-color: var(--bg-color);\n",
              "    border: none;\n",
              "    border-radius: 50%;\n",
              "    cursor: pointer;\n",
              "    display: none;\n",
              "    fill: var(--fill-color);\n",
              "    height: 32px;\n",
              "    padding: 0;\n",
              "    width: 32px;\n",
              "  }\n",
              "\n",
              "  .colab-df-quickchart:hover {\n",
              "    background-color: var(--hover-bg-color);\n",
              "    box-shadow: 0 1px 2px rgba(60, 64, 67, 0.3), 0 1px 3px 1px rgba(60, 64, 67, 0.15);\n",
              "    fill: var(--button-hover-fill-color);\n",
              "  }\n",
              "\n",
              "  .colab-df-quickchart-complete:disabled,\n",
              "  .colab-df-quickchart-complete:disabled:hover {\n",
              "    background-color: var(--disabled-bg-color);\n",
              "    fill: var(--disabled-fill-color);\n",
              "    box-shadow: none;\n",
              "  }\n",
              "\n",
              "  .colab-df-spinner {\n",
              "    border: 2px solid var(--fill-color);\n",
              "    border-color: transparent;\n",
              "    border-bottom-color: var(--fill-color);\n",
              "    animation:\n",
              "      spin 1s steps(1) infinite;\n",
              "  }\n",
              "\n",
              "  @keyframes spin {\n",
              "    0% {\n",
              "      border-color: transparent;\n",
              "      border-bottom-color: var(--fill-color);\n",
              "      border-left-color: var(--fill-color);\n",
              "    }\n",
              "    20% {\n",
              "      border-color: transparent;\n",
              "      border-left-color: var(--fill-color);\n",
              "      border-top-color: var(--fill-color);\n",
              "    }\n",
              "    30% {\n",
              "      border-color: transparent;\n",
              "      border-left-color: var(--fill-color);\n",
              "      border-top-color: var(--fill-color);\n",
              "      border-right-color: var(--fill-color);\n",
              "    }\n",
              "    40% {\n",
              "      border-color: transparent;\n",
              "      border-right-color: var(--fill-color);\n",
              "      border-top-color: var(--fill-color);\n",
              "    }\n",
              "    60% {\n",
              "      border-color: transparent;\n",
              "      border-right-color: var(--fill-color);\n",
              "    }\n",
              "    80% {\n",
              "      border-color: transparent;\n",
              "      border-right-color: var(--fill-color);\n",
              "      border-bottom-color: var(--fill-color);\n",
              "    }\n",
              "    90% {\n",
              "      border-color: transparent;\n",
              "      border-bottom-color: var(--fill-color);\n",
              "    }\n",
              "  }\n",
              "</style>\n",
              "\n",
              "  <script>\n",
              "    async function quickchart(key) {\n",
              "      const quickchartButtonEl =\n",
              "        document.querySelector('#' + key + ' button');\n",
              "      quickchartButtonEl.disabled = true;  // To prevent multiple clicks.\n",
              "      quickchartButtonEl.classList.add('colab-df-spinner');\n",
              "      try {\n",
              "        const charts = await google.colab.kernel.invokeFunction(\n",
              "            'suggestCharts', [key], {});\n",
              "      } catch (error) {\n",
              "        console.error('Error during call to suggestCharts:', error);\n",
              "      }\n",
              "      quickchartButtonEl.classList.remove('colab-df-spinner');\n",
              "      quickchartButtonEl.classList.add('colab-df-quickchart-complete');\n",
              "    }\n",
              "    (() => {\n",
              "      let quickchartButtonEl =\n",
              "        document.querySelector('#df-fe63df65-1f00-42d6-acbb-4a9a089c52a2 button');\n",
              "      quickchartButtonEl.style.display =\n",
              "        google.colab.kernel.accessAllowed ? 'block' : 'none';\n",
              "    })();\n",
              "  </script>\n",
              "</div>\n",
              "\n",
              "    </div>\n",
              "  </div>\n"
            ],
            "application/vnd.google.colaboratory.intrinsic+json": {
              "type": "dataframe",
              "variable_name": "df"
            }
          },
          "metadata": {},
          "execution_count": 135
        }
      ],
      "source": [
        "df.head()"
      ]
    },
    {
      "cell_type": "code",
      "execution_count": 142,
      "id": "fc1f93a4",
      "metadata": {
        "id": "fc1f93a4",
        "colab": {
          "base_uri": "https://localhost:8080/"
        },
        "outputId": "4b9ad0d9-c9ef-4f8e-b38c-e3a116a2b4c4"
      },
      "outputs": [
        {
          "output_type": "stream",
          "name": "stdout",
          "text": [
            "DataFrame saved to /content/drive/MyDrive/dataset/ch_03_dataset.csv\n"
          ]
        }
      ],
      "source": [
        "# Ensure the required directory exists\n",
        "import os\n",
        "\n",
        "# Path to save the CSV file\n",
        "save_path = '/content/drive/MyDrive/dataset/ch_03_dataset.csv'\n",
        "\n",
        "# Save the DataFrame to a CSV file\n",
        "df.to_csv(save_path, index=False)\n",
        "\n",
        "print(f\"DataFrame saved to {save_path}\")\n"
      ]
    }
  ],
  "metadata": {
    "kernelspec": {
      "display_name": "Python 3 (ipykernel)",
      "language": "python",
      "name": "python3"
    },
    "language_info": {
      "codemirror_mode": {
        "name": "ipython",
        "version": 3
      },
      "file_extension": ".py",
      "mimetype": "text/x-python",
      "name": "python",
      "nbconvert_exporter": "python",
      "pygments_lexer": "ipython3",
      "version": "3.8.10"
    },
    "colab": {
      "provenance": [],
      "collapsed_sections": [
        "d37edc8f",
        "6efb9a19",
        "7d9c3efd",
        "a3115e8e",
        "xsOU1ydW1u9y",
        "8a7a11a3",
        "52a337e8"
      ],
      "include_colab_link": true
    }
  },
  "nbformat": 4,
  "nbformat_minor": 5
}