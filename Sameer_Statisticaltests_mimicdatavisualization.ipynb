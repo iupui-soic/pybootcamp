{
  "nbformat": 4,
  "nbformat_minor": 0,
  "metadata": {
    "colab": {
      "provenance": [],
      "include_colab_link": true
    },
    "kernelspec": {
      "name": "python3",
      "display_name": "Python 3"
    },
    "language_info": {
      "name": "python"
    }
  },
  "cells": [
    {
      "cell_type": "markdown",
      "metadata": {
        "id": "view-in-github",
        "colab_type": "text"
      },
      "source": [
        "<a href=\"https://colab.research.google.com/github/iupui-soic/pybootcamp/blob/main/Sameer_Statisticaltests_mimicdatavisualization.ipynb\" target=\"_parent\"><img src=\"https://colab.research.google.com/assets/colab-badge.svg\" alt=\"Open In Colab\"/></a>"
      ]
    },
    {
      "cell_type": "markdown",
      "source": [
        "#Loading the data"
      ],
      "metadata": {
        "id": "KFOoIA0J4J8Z"
      }
    },
    {
      "cell_type": "code",
      "execution_count": null,
      "metadata": {
        "colab": {
          "base_uri": "https://localhost:8080/"
        },
        "id": "PIcOYVBm8GGJ",
        "outputId": "6d87a38c-dbb8-40f8-b217-414fc588a4be"
      },
      "outputs": [
        {
          "output_type": "stream",
          "name": "stdout",
          "text": [
            "Drive already mounted at /content/drive; to attempt to forcibly remount, call drive.mount(\"/content/drive\", force_remount=True).\n"
          ]
        }
      ],
      "source": [
        "from google.colab import drive\n",
        "drive.mount('/content/drive')"
      ]
    },
    {
      "cell_type": "code",
      "source": [
        "!git clone https://github.com/iupui-soic/handson-ml-mimic-iv.git"
      ],
      "metadata": {
        "colab": {
          "base_uri": "https://localhost:8080/"
        },
        "id": "upqrbf-E8JLF",
        "outputId": "2ff5dc2d-bfce-434a-9ea9-269dd4d39c42"
      },
      "execution_count": null,
      "outputs": [
        {
          "output_type": "stream",
          "name": "stdout",
          "text": [
            "Cloning into 'handson-ml-mimic-iv'...\n",
            "remote: Enumerating objects: 83, done.\u001b[K\n",
            "remote: Counting objects: 100% (83/83), done.\u001b[K\n",
            "remote: Compressing objects: 100% (68/68), done.\u001b[K\n",
            "remote: Total 83 (delta 29), reused 40 (delta 13), pack-reused 0\u001b[K\n",
            "Receiving objects: 100% (83/83), 3.86 MiB | 14.28 MiB/s, done.\n",
            "Resolving deltas: 100% (29/29), done.\n"
          ]
        }
      ]
    },
    {
      "cell_type": "code",
      "source": [
        "%cd handson-ml-mimic-iv"
      ],
      "metadata": {
        "colab": {
          "base_uri": "https://localhost:8080/"
        },
        "id": "vZ8gyDWq8SA5",
        "outputId": "2bb68c7a-a74c-4167-9b8f-89a0aa99f746"
      },
      "execution_count": null,
      "outputs": [
        {
          "output_type": "stream",
          "name": "stdout",
          "text": [
            "/content/handson-ml-mimic-iv/handson-ml-mimic-iv\n"
          ]
        }
      ]
    },
    {
      "cell_type": "code",
      "source": [
        "import os\n",
        "print(os.getcwd())"
      ],
      "metadata": {
        "colab": {
          "base_uri": "https://localhost:8080/"
        },
        "id": "5ZMOnQq5d6_2",
        "outputId": "8f44186d-1748-481d-9c34-20873b510852"
      },
      "execution_count": null,
      "outputs": [
        {
          "output_type": "stream",
          "name": "stdout",
          "text": [
            "/content/handson-ml-mimic-iv/handson-ml-mimic-iv\n"
          ]
        }
      ]
    },
    {
      "cell_type": "code",
      "source": [
        "import os\n",
        "os.chdir('/content/handson-ml-mimic-iv')"
      ],
      "metadata": {
        "id": "5ax-HKiLd8DL"
      },
      "execution_count": null,
      "outputs": []
    },
    {
      "cell_type": "code",
      "execution_count": null,
      "metadata": {
        "id": "71b8e426"
      },
      "outputs": [],
      "source": [
        "from mimic.mimic import MIMIC, MIMICManipulations\n",
        "from utils.util import generic_utils"
      ]
    },
    {
      "cell_type": "code",
      "source": [
        "import pandas as pd\n",
        "\n",
        "\n",
        "updated_df_path = '/content/drive/MyDrive/dataset/ch_02_end_to_end_ml.csv'\n",
        "updated_df = pd.read_csv(updated_df_path, low_memory=False)\n",
        "\n",
        "print(\"Column names in the updated DataFrame:\")\n",
        "print(updated_df.columns.tolist())\n"
      ],
      "metadata": {
        "colab": {
          "base_uri": "https://localhost:8080/"
        },
        "id": "-bCgQm0X8oVv",
        "outputId": "635282c0-6609-4f99-a9aa-d8a4ec4243ea"
      },
      "execution_count": null,
      "outputs": [
        {
          "output_type": "stream",
          "name": "stdout",
          "text": [
            "Column names in the updated DataFrame:\n",
            "['subject_id', 'admission_type', 'admit_provider_id', 'admission_location', 'discharge_location', 'insurance', 'language', 'marital_status', 'race', 'hospital_expire_flag', 'los_admission', 'gender', 'anchor_age', 'eventtype', 'careunit', 'diagnosis_icd_code', 'procedures_icd_code', 'drg_type', 'drg_code', 'medication', 'event_txt', 'drug', 'route', 'org_name', 'test_name', 'quantity', 'ab_name', 'curr_service']\n"
          ]
        }
      ]
    },
    {
      "cell_type": "markdown",
      "source": [
        "#Data visualisation:"
      ],
      "metadata": {
        "id": "jPtg5-XW9aEt"
      }
    },
    {
      "cell_type": "code",
      "source": [
        "import pandas as pd\n",
        "import matplotlib.pyplot as plt\n",
        "\n",
        "# Load the datasets\n",
        "patients_path = '/content/drive/MyDrive/mimiv-iv/patients.parquet'\n",
        "icustays_path = '/content/drive/MyDrive/mimiv-iv/icustays.parquet'\n",
        "\n",
        "patients_df = pd.read_parquet(patients_path)\n",
        "icustays_df = pd.read_parquet(icustays_path)\n",
        "\n",
        "# Convert relevant columns to datetime\n",
        "icustays_df['intime'] = pd.to_datetime(icustays_df['intime'])\n",
        "icustays_df['outtime'] = pd.to_datetime(icustays_df['outtime'])\n",
        "\n",
        "# Calculate LOS from admittime and dischtime\n",
        "icustays_df['calculated_los'] = (icustays_df['outtime'] - icustays_df['intime']).dt.total_seconds() / (3600 * 24)  # Convert to days\n",
        "\n",
        "# Remove negative LOS values\n",
        "icustays_df = icustays_df[icustays_df['calculated_los'] >= 0]\n",
        "\n",
        "# Summary statistics for both LOS\n",
        "average_los_icustays = icustays_df['los'].mean()\n",
        "average_calculated_los = icustays_df['calculated_los'].mean()\n",
        "\n",
        "print(f\"Average LOS (ICU Stays): {average_los_icustays} days\")\n",
        "print(f\"Average LOS (Calculated): {average_calculated_los} days\")\n",
        "\n",
        "# Create bins for the LOS ranges\n",
        "los_bins = [0, 1, 3, 5, 7, 10, 15, 20, 30, 50, 100, icustays_df['los'].max()]\n",
        "los_labels = ['0-1', '1-3', '3-5', '5-7', '7-10', '10-15', '15-20', '20-30', '30-50', '50-100', '100+']\n",
        "icustays_df['los_range'] = pd.cut(icustays_df['los'], bins=los_bins, labels=los_labels, right=False)\n",
        "icustays_df['calculated_los_range'] = pd.cut(icustays_df['calculated_los'], bins=los_bins, labels=los_labels, right=False)\n",
        "\n",
        "# Calculate counts for each LOS range\n",
        "los_counts_icustays = icustays_df['los_range'].value_counts().sort_index()\n",
        "los_counts_calculated = icustays_df['calculated_los_range'].value_counts().sort_index()\n",
        "\n"
      ],
      "metadata": {
        "colab": {
          "base_uri": "https://localhost:8080/"
        },
        "id": "s7pLhZyIa5vr",
        "outputId": "6079a1cc-0927-4edf-dee1-bee378fbe971"
      },
      "execution_count": null,
      "outputs": [
        {
          "output_type": "stream",
          "name": "stdout",
          "text": [
            "Average LOS (ICU Stays): 3.4519307613372803 days\n",
            "Average LOS (Calculated): 3.451930759925795 days\n"
          ]
        }
      ]
    },
    {
      "cell_type": "code",
      "source": [
        "# Define the path to the omr.parquet file\n",
        "file_path = '/content/drive/MyDrive/mimiv-iv/omr.parquet'\n",
        "\n",
        "# Read the parquet file\n",
        "omr_df = pd.read_parquet(file_path)\n",
        "\n",
        "# Display the first two rows of the dataframe\n",
        "print(\"First two rows of omr.parquet:\")\n",
        "print(omr_df.head(10))\n"
      ],
      "metadata": {
        "colab": {
          "base_uri": "https://localhost:8080/"
        },
        "id": "NWzOZM8LlIdT",
        "outputId": "7215a18f-4e65-479f-fe71-e6ea8fc1291f"
      },
      "execution_count": null,
      "outputs": [
        {
          "output_type": "stream",
          "name": "stdout",
          "text": [
            "First two rows of omr.parquet:\n",
            "   subject_id   chartdate  seq_num      result_name result_value\n",
            "0    10000032  2180-04-27        1   Blood Pressure       110/65\n",
            "1    10000032  2180-04-27        1     Weight (Lbs)           94\n",
            "2    10000032  2180-05-07        1      BMI (kg/m2)         18.0\n",
            "3    10000032  2180-05-07        1  Height (Inches)           60\n",
            "4    10000032  2180-05-07        1     Weight (Lbs)        92.15\n",
            "5    10000032  2180-05-07        2     Weight (Lbs)        92.15\n",
            "6    10000032  2180-05-07        3     Weight (Lbs)        92.15\n",
            "7    10000032  2180-05-07        4     Weight (Lbs)        92.15\n",
            "8    10000032  2180-05-07        5     Weight (Lbs)        92.15\n",
            "9    10000032  2180-05-07        6     Weight (Lbs)        92.15\n"
          ]
        }
      ]
    },
    {
      "cell_type": "code",
      "source": [
        "import pandas as pd\n",
        "import matplotlib.pyplot as plt\n",
        "import scipy.stats as stats\n",
        "\n",
        "# Load the datasets\n",
        "patients_path = '/content/drive/MyDrive/mimiv-iv/patients.parquet'\n",
        "icustays_path = '/content/drive/MyDrive/mimiv-iv/icustays.parquet'\n",
        "admissions_path = '/content/drive/MyDrive/mimiv-iv/admissions.parquet'\n",
        "\n",
        "patients_df = pd.read_parquet(patients_path)\n",
        "icustays_df = pd.read_parquet(icustays_path)\n",
        "admissions_df = pd.read_parquet(admissions_path)\n",
        "\n",
        "# Check the columns in admissions_df to verify 'admission_type'\n",
        "print(admissions_df.columns)\n",
        "\n",
        "# Convert relevant columns to datetime\n",
        "admissions_df['admittime'] = pd.to_datetime(admissions_df['admittime'], errors='coerce')\n",
        "admissions_df['dischtime'] = pd.to_datetime(admissions_df['dischtime'], errors='coerce')\n",
        "\n",
        "# Calculate LOS using 'admittime' and 'dischtime'\n",
        "admissions_df['calculated_los'] = (admissions_df['dischtime'] - admissions_df['admittime']).dt.total_seconds() / (24 * 3600)  # Convert to days\n",
        "\n",
        "# Merge DataFrames on 'subject_id' and 'hadm_id'\n",
        "merged_df = pd.merge(admissions_df[['subject_id', 'hadm_id', 'admittime', 'dischtime', 'calculated_los', 'admission_type']],\n",
        "                     icustays_df[['subject_id', 'hadm_id', 'los']],\n",
        "                     on=['subject_id', 'hadm_id'], how='inner')\n",
        "\n",
        "# Remove negative LOS values\n",
        "merged_df = merged_df[merged_df['calculated_los'] >= 0]\n",
        "merged_df = merged_df[merged_df['los'] >= 0]\n",
        "\n",
        "# Merge with patients to get gender\n",
        "merged_df = pd.merge(merged_df, patients_df[['subject_id', 'gender']], on='subject_id', how='inner')\n",
        "\n",
        "# Aggregate LOS ranges for clarity\n",
        "def aggregate_los_ranges(los):\n",
        "    if los < 1:\n",
        "        return '0-1'\n",
        "    elif los < 3:\n",
        "        return '1-3'\n",
        "    elif los < 7:\n",
        "        return '3-7'\n",
        "    elif los < 15:\n",
        "        return '7-15'\n",
        "    elif los < 30:\n",
        "        return '15-30'\n",
        "    else:\n",
        "        return '30+'\n",
        "\n",
        "merged_df['calculated_los_agg'] = merged_df['calculated_los'].apply(aggregate_los_ranges)\n",
        "\n",
        "# Calculate counts for each aggregated LOS range by gender\n",
        "los_counts_gender_agg = merged_df.groupby(['calculated_los_agg', 'gender']).size().unstack().fillna(0)\n",
        "\n",
        "# Data for pie chart\n",
        "los_ranges_agg = los_counts_gender_agg.index\n",
        "female_counts_agg = los_counts_gender_agg['F'].values\n",
        "male_counts_agg = los_counts_gender_agg['M'].values\n",
        "\n",
        "fig, axes = plt.subplots(1, 2, figsize=(16, 8))\n",
        "\n",
        "# Pie chart for female patients\n",
        "axes[0].pie(female_counts_agg, labels=los_ranges_agg, autopct='%1.1f%%', colors=plt.cm.Pastel1.colors, startangle=140)\n",
        "axes[0].set_title('Female LOS Distribution')\n",
        "\n",
        "# Pie chart for male patients\n",
        "axes[1].pie(male_counts_agg, labels=los_ranges_agg, autopct='%1.1f%%', colors=plt.cm.Pastel2.colors, startangle=140)\n",
        "axes[1].set_title('Male LOS Distribution')\n",
        "\n",
        "plt.show()\n",
        "\n",
        "# Print the LOS counts for interpretation\n",
        "print(los_counts_gender_agg)\n",
        "\n",
        "#"
      ],
      "metadata": {
        "colab": {
          "base_uri": "https://localhost:8080/",
          "height": 848
        },
        "id": "lZYwlMyF2IjL",
        "outputId": "18600fd6-e6c1-4ab5-d82c-4ada70113ecd"
      },
      "execution_count": null,
      "outputs": [
        {
          "output_type": "stream",
          "name": "stdout",
          "text": [
            "Index(['subject_id', 'hadm_id', 'admittime', 'dischtime', 'deathtime',\n",
            "       'admission_type', 'admit_provider_id', 'admission_location',\n",
            "       'discharge_location', 'insurance', 'language', 'marital_status', 'race',\n",
            "       'edregtime', 'edouttime', 'hospital_expire_flag'],\n",
            "      dtype='object')\n"
          ]
        },
        {
          "output_type": "display_data",
          "data": {
            "text/plain": [
              "<Figure size 1600x800 with 2 Axes>"
            ],
            "image/png": "[encoded data removed]"
          },
          "metadata": {}
        },
        {
          "output_type": "stream",
          "name": "stdout",
          "text": [
            "gender                  F      M\n",
            "calculated_los_agg              \n",
            "0-1                   938   1205\n",
            "1-3                  4557   5162\n",
            "15-30                4350   5786\n",
            "3-7                 10899  13607\n",
            "30+                  1821   2657\n",
            "7-15                 9770  12367\n"
          ]
        }
      ]
    },
    {
      "cell_type": "markdown",
      "source": [
        "#STATISTICAL ANALYSIS"
      ],
      "metadata": {
        "id": "Gqh4swnw4PYw"
      }
    },
    {
      "cell_type": "markdown",
      "source": [
        "#CHI SQUARED TEST"
      ],
      "metadata": {
        "id": "fflcio0TDD1G"
      }
    },
    {
      "cell_type": "code",
      "source": [
        "import scipy.stats as stats\n",
        "\n",
        "# Calculate counts for each aggregated LOS range by gender\n",
        "los_counts_gender_agg = merged_df.groupby(['calculated_los_agg', 'gender']).size().unstack().fillna(0)\n",
        "\n",
        "# Chi-Squared Test for Independence\n",
        "chi2, p, dof, ex = stats.chi2_contingency(los_counts_gender_agg)\n",
        "print(f'Chi-squared Test:\\nChi2 Statistic: {chi2}\\nP-value: {p}\\nDegrees of Freedom: {dof}')\n",
        "print(f'Expected Frequencies:\\n{ex}')\n"
      ],
      "metadata": {
        "colab": {
          "base_uri": "https://localhost:8080/"
        },
        "id": "42ThArCZ2nKZ",
        "outputId": "fc852c25-3d58-4aa7-8d8d-13e004479f52"
      },
      "execution_count": null,
      "outputs": [
        {
          "output_type": "stream",
          "name": "stdout",
          "text": [
            "Chi-squared Test:\n",
            "Chi2 Statistic: 58.845449226472006\n",
            "P-value: 2.1047868222675888e-11\n",
            "Degrees of Freedom: 5\n",
            "Expected Frequencies:\n",
            "[[  947.68671618  1195.31328382]\n",
            " [ 4297.97815889  5421.02184111]\n",
            " [ 4482.38570002  5653.61429998]\n",
            " [10837.14916779 13668.85083221]\n",
            " [ 1980.28050165  2497.71949835]\n",
            " [ 9789.51975547 12347.48024453]]\n"
          ]
        }
      ]
    },
    {
      "cell_type": "markdown",
      "source": [
        "**Chi-Squared Test for Independence**\n",
        "\n",
        "Purpose: To determine if there is a significant association between gender and LOS categories.\n",
        "\n",
        "**Results:**\n",
        "\n",
        "Chi2 Statistic: 58.845\n",
        "P-value: 2.1047868222675888e-11\n",
        "Degrees of Freedom: 5\n",
        "Expected Frequencies: These are the frequencies you would expect if there were no association between gender and LOS categories.\n",
        "Interpretation:\n",
        "\n",
        "The p-value (2.10e-11) is significantly less than 0.05, indicating strong evidence against the null hypothesis. This means there is a significant association between gender and LOS categories. The distribution of LOS is not independent of gender."
      ],
      "metadata": {
        "id": "KB5uChs83CES"
      }
    },
    {
      "cell_type": "markdown",
      "source": [
        "#T TEST"
      ],
      "metadata": {
        "id": "0dS7I1fvDJdD"
      }
    },
    {
      "cell_type": "code",
      "source": [
        "# Separate the LOS data by gender\n",
        "female_los = merged_df[merged_df['gender'] == 'F']['calculated_los']\n",
        "male_los = merged_df[merged_df['gender'] == 'M']['calculated_los']\n",
        "\n",
        "# Perform t-test\n",
        "t_stat, p_val = stats.ttest_ind(female_los, male_los, equal_var=False)\n",
        "print(f'T-Test for Mean LOS:\\nT-statistic: {t_stat}\\nP-value: {p_val}')\n"
      ],
      "metadata": {
        "colab": {
          "base_uri": "https://localhost:8080/"
        },
        "id": "30m5rLbs24mV",
        "outputId": "c1db9674-4c72-44ed-960e-5cdba78a4982"
      },
      "execution_count": null,
      "outputs": [
        {
          "output_type": "stream",
          "name": "stdout",
          "text": [
            "T-Test for Mean LOS:\n",
            "T-statistic: -8.266262323983408\n",
            "P-value: 1.4054041942992763e-16\n"
          ]
        }
      ]
    },
    {
      "cell_type": "markdown",
      "source": [
        "**T-Test for Mean LOS**\n",
        "\n",
        "Purpose: To compare the mean LOS between male and female patients.\n",
        "\n",
        "**Results:**\n",
        "\n",
        "T-statistic: -8.266\n",
        "P-value: 1.4054041942992763e-16\n",
        "Interpretation:\n",
        "\n",
        "The p-value (1.40e-16) is significantly less than 0.05, indicating strong evidence against the null hypothesis. This means there is a significant difference in the mean LOS between male and female patients. The negative t-statistic suggests that, on average, females have a shorter LOS than males."
      ],
      "metadata": {
        "id": "QqHrlxQ63MMs"
      }
    },
    {
      "cell_type": "markdown",
      "source": [
        "#ANOVA"
      ],
      "metadata": {
        "id": "RtVKW7mSDLj5"
      }
    },
    {
      "cell_type": "code",
      "source": [
        "# ANOVA for LOS Across Multiple Groups (assuming 'admission_type' is a categorical variable)\n",
        "anova_results = stats.f_oneway(*(group['calculated_los'].values for name, group in merged_df.groupby('admission_type')))\n",
        "print(f'ANOVA for LOS by Admission Type:\\nF-statistic: {anova_results.statistic}\\nP-value: {anova_results.pvalue}')\n"
      ],
      "metadata": {
        "colab": {
          "base_uri": "https://localhost:8080/"
        },
        "id": "DUJztyGB26cR",
        "outputId": "316b81a7-c7c2-4ec9-f6e1-1e54ca9e8476"
      },
      "execution_count": null,
      "outputs": [
        {
          "output_type": "stream",
          "name": "stdout",
          "text": [
            "ANOVA for LOS by Admission Type:\n",
            "F-statistic: 158.15414915968344\n",
            "P-value: 1.6345573217866548e-265\n"
          ]
        }
      ]
    },
    {
      "cell_type": "markdown",
      "source": [
        "**ANOVA for LOS by Admission Type**\n",
        "Purpose: To determine if there are significant differences in LOS across different admission types.\n",
        "\n",
        "**Results:**\n",
        "\n",
        "F-statistic: 158.154\n",
        "P-value: 1.6345573217866548e-265\n",
        "Interpretation:\n",
        "\n",
        "The p-value (1.63e-265) is significantly less than 0.05, indicating strong evidence against the null hypothesis. This means there are significant differences in LOS across different admission types. The high F-statistic suggests that the differences between group means are much larger than the variability within groups."
      ],
      "metadata": {
        "id": "nBp7B-HC3WtR"
      }
    },
    {
      "cell_type": "markdown",
      "source": [
        "#MANN WHITNEY U TEST"
      ],
      "metadata": {
        "id": "KX-65OHsB3dc"
      }
    },
    {
      "cell_type": "code",
      "source": [
        "# Mann-Whitney U Test\n",
        "u_stat, p_val = stats.mannwhitneyu(female_los, male_los)\n",
        "print(f'Mann-Whitney U Test:\\nU-statistic: {u_stat}\\nP-value: {p_val}')\n"
      ],
      "metadata": {
        "colab": {
          "base_uri": "https://localhost:8080/"
        },
        "id": "ZCTHvJ2G32uz",
        "outputId": "ca19a6aa-f120-44d1-caf2-a44952527454"
      },
      "execution_count": 100,
      "outputs": [
        {
          "output_type": "stream",
          "name": "stdout",
          "text": [
            "Mann-Whitney U Test:\n",
            "U-statistic: 639788588.5\n",
            "P-value: 4.860089069476792e-12\n"
          ]
        }
      ]
    },
    {
      "cell_type": "markdown",
      "source": [
        "The Mann-Whitney U Test compares the length of hospital stay (LOS) between male and female patients. It found a U-statistic of 639,788,588.5, which measures how different the two groups are. The p-value is extremely small (4.86e-12), indicating a significant difference between the LOS for males and females.\n",
        "\n",
        "In simple terms, this test shows that the length of stay in the hospital is different for men and women. The very small p-value means this difference is unlikely to be due to chance, suggesting that gender affects how long patients stay in the hospital."
      ],
      "metadata": {
        "id": "3GUuHW6yCeJ3"
      }
    },
    {
      "cell_type": "markdown",
      "source": [
        "# KRUSKAL WALLIS H TEST"
      ],
      "metadata": {
        "id": "rKWk-BWQB6nn"
      }
    },
    {
      "cell_type": "code",
      "source": [
        "# Kruskal-Wallis H Test\n",
        "kruskal_results = stats.kruskal(*(group['calculated_los'].values for name, group in merged_df.groupby('admission_type')))\n",
        "print(f'Kruskal-Wallis H Test for LOS by Admission Type:\\nH-statistic: {kruskal_results.statistic}\\nP-value: {kruskal_results.pvalue}')\n"
      ],
      "metadata": {
        "colab": {
          "base_uri": "https://localhost:8080/"
        },
        "id": "wu4DOD1t34Gu",
        "outputId": "227ec7ee-f799-45a2-e227-6abb7c5c7695"
      },
      "execution_count": 99,
      "outputs": [
        {
          "output_type": "stream",
          "name": "stdout",
          "text": [
            "Kruskal-Wallis H Test for LOS by Admission Type:\n",
            "H-statistic: 2973.647606826819\n",
            "P-value: 0.0\n"
          ]
        }
      ]
    },
    {
      "cell_type": "markdown",
      "source": [
        "The Kruskal-Wallis H Test compares the length of hospital stay (LOS) across different admission types. It found an H-statistic of 2973.65, indicating substantial differences among the groups. The p-value is 0.0, showing these differences are highly significant.\n",
        "\n",
        "In simple terms, this test shows that the type of admission significantly affects how long patients stay in the hospital. The very small p-value means this difference is not due to chance."
      ],
      "metadata": {
        "id": "2L40i9sPCgnM"
      }
    },
    {
      "cell_type": "markdown",
      "source": [
        "#CORRELATION ANALYSIS"
      ],
      "metadata": {
        "id": "gnTC7nVcB-BP"
      }
    },
    {
      "cell_type": "code",
      "source": [
        "# Correlation Analysis\n",
        "if 'anchor_age' in merged_df.columns:\n",
        "    correlation, p_val = stats.pearsonr(merged_df['anchor_age'], merged_df['calculated_los'])\n",
        "    print(f'Correlation Analysis:\\nCorrelation Coefficient: {correlation}\\nP-value: {p_val}')\n",
        "else:\n",
        "    print(\"Column 'anchor_age' not found in merged DataFrame.\")"
      ],
      "metadata": {
        "colab": {
          "base_uri": "https://localhost:8080/"
        },
        "id": "eo_QVeUF39e5",
        "outputId": "d722a6c3-1abe-42c0-f2c0-3129e2f42f1f"
      },
      "execution_count": 102,
      "outputs": [
        {
          "output_type": "stream",
          "name": "stdout",
          "text": [
            "Correlation Analysis:\n",
            "Correlation Coefficient: -0.03024987676213429\n",
            "P-value: 2.8043026933816424e-16\n"
          ]
        }
      ]
    },
    {
      "cell_type": "markdown",
      "source": [
        "The correlation analysis examines the relationship between patients' age and the length of hospital stay (LOS). The correlation coefficient is -0.030, indicating a very weak negative relationship between age and LOS. This means that as age increases, LOS slightly decreases, but the effect is minimal.\n",
        "\n",
        "The p-value is 2.80e-16, which is extremely small, indicating that this weak negative correlation is statistically significant. In other words, the relationship, although very weak, is unlikely to be due to random chance."
      ],
      "metadata": {
        "id": "5dXmS2KeC-b2"
      }
    }
  ]
}